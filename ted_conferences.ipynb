{
 "cells": [
  {
   "cell_type": "markdown",
   "id": "5df2fb63",
   "metadata": {},
   "source": [
    "# Анализ TED-конференций"
   ]
  },
  {
   "cell_type": "markdown",
   "id": "81c1a05d",
   "metadata": {},
   "source": [
    "Привет!\n",
    "Дашборд доступен по ссылке [->>](https://public.tableau.com/views/ted_conference_analysis_makarevich_3/Story1?:language=en-US&publish=yes&:display_count=n&:origin=viz_share_link)"
   ]
  }
 ],
 "metadata": {
  "ExecuteTimeLog": [
   {
    "duration": 92,
    "start_time": "2023-09-17T15:38:37.297Z"
   },
   {
    "duration": 165,
    "start_time": "2023-09-18T12:15:48.328Z"
   }
  ],
  "kernelspec": {
   "display_name": "Python 3 (ipykernel)",
   "language": "python",
   "name": "python3"
  },
  "language_info": {
   "codemirror_mode": {
    "name": "ipython",
    "version": 3
   },
   "file_extension": ".py",
   "mimetype": "text/x-python",
   "name": "python",
   "nbconvert_exporter": "python",
   "pygments_lexer": "ipython3",
   "version": "3.10.13"
  },
  "toc": {
   "base_numbering": 1,
   "nav_menu": {},
   "number_sections": true,
   "sideBar": true,
   "skip_h1_title": true,
   "title_cell": "Table of Contents",
   "title_sidebar": "Contents",
   "toc_cell": false,
   "toc_position": {},
   "toc_section_display": true,
   "toc_window_display": false
  }
 },
 "nbformat": 4,
 "nbformat_minor": 5
}
