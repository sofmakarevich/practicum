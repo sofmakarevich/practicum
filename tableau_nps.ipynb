{
 "cells": [
  {
   "cell_type": "markdown",
   "id": "9f9ce407",
   "metadata": {},
   "source": [
    "# Анализ NPS для телекоммуникационной компании"
   ]
  },
  {
   "cell_type": "markdown",
   "id": "1b5707aa",
   "metadata": {},
   "source": [
    "## Подключение к базе"
   ]
  },
  {
   "cell_type": "markdown",
   "id": "0fbaed46",
   "metadata": {},
   "source": [
    "Подключим все необходимые для работы базы"
   ]
  },
  {
   "cell_type": "code",
   "execution_count": 1,
   "id": "fc7efa54",
   "metadata": {},
   "outputs": [],
   "source": [
    "import os\n",
    "import pandas as pd\n",
    "import numpy as np\n",
    "\n",
    "from sqlalchemy import create_engine"
   ]
  },
  {
   "cell_type": "code",
   "execution_count": 2,
   "id": "0017f8e7",
   "metadata": {},
   "outputs": [],
   "source": [
    "path_to_db_local = 'telecomm_csi.db'\n",
    "path_to_db_platform = '/datasets/telecomm_csi.db'\n",
    "path_to_db = None\n",
    "\n",
    "if os.path.exists(path_to_db_local):\n",
    "    path_to_db = path_to_db_local\n",
    "elif os.path.exists(path_to_db_platform):\n",
    "    path_to_db = path_to_db_platform\n",
    "else:\n",
    "    raise Exception('Файл с базой данных SQLite не найден!')\n",
    "\n",
    "if path_to_db:\n",
    "    engine = create_engine(f'sqlite:///{path_to_db}', echo=False)"
   ]
  },
  {
   "cell_type": "markdown",
   "id": "4184401d",
   "metadata": {},
   "source": [
    "## Выгрузка данных (SQL)"
   ]
  },
  {
   "cell_type": "markdown",
   "id": "3a97abc6",
   "metadata": {},
   "source": [
    "Напишем код, который выгрузит все необходимые для исследования данные."
   ]
  },
  {
   "cell_type": "code",
   "execution_count": 3,
   "id": "84ebad43",
   "metadata": {},
   "outputs": [],
   "source": [
    "query = \"\"\"\n",
    "SELECT u.user_id,\n",
    "       u.lt_day,\n",
    "       u.age,\n",
    "       CASE \n",
    "        WHEN u.gender_segment = 1 THEN 'женщина'\n",
    "        WHEN u.gender_segment = 0 THEN 'мужчина'\n",
    "        ELSE 'другое'\n",
    "       END AS gender_segment,\n",
    "       u.os_name,\n",
    "       u.cpe_type_name,\n",
    "       l.country,\n",
    "       l.city,\n",
    "       a.title AS age_segment,\n",
    "       t.title AS traffic_segment,\n",
    "       ls.title AS lifetime_segment,\n",
    "       u.nps_score,\n",
    "       CASE \n",
    "        WHEN u.lt_day <=365 THEN 'new'\n",
    "        WHEN u.lt_day >365 THEN 'old'\n",
    "       END AS is_new,\n",
    "       CASE \n",
    "         WHEN u.nps_score >=9 THEN 'supporters'\n",
    "         WHEN u.nps_score >=7 AND u.nps_score <=8  THEN 'neutrals'\n",
    "         WHEN u.nps_score <7 THEN 'critics'\n",
    "       END AS nps_group\n",
    "FROM user AS u\n",
    "LEFT JOIN location AS l ON u.location_id=l.location_id\n",
    "LEFT JOIN age_segment AS a ON u.age_gr_id=a.age_gr_id\n",
    "LEFT JOIN traffic_segment AS t ON u.tr_gr_id=t.tr_gr_id\n",
    "LEFT JOIN lifetime_segment AS ls ON u.lt_gr_id=ls.lt_gr_id\n",
    "\n",
    "\"\"\""
   ]
  },
  {
   "cell_type": "markdown",
   "id": "973dcc8f",
   "metadata": {},
   "source": [
    "Проверим, как выгляит полученная таблица"
   ]
  },
  {
   "cell_type": "code",
   "execution_count": 4,
   "id": "3965faf2",
   "metadata": {
    "scrolled": true
   },
   "outputs": [
    {
     "data": {
      "text/html": [
       "<div>\n",
       "<style scoped>\n",
       "    .dataframe tbody tr th:only-of-type {\n",
       "        vertical-align: middle;\n",
       "    }\n",
       "\n",
       "    .dataframe tbody tr th {\n",
       "        vertical-align: top;\n",
       "    }\n",
       "\n",
       "    .dataframe thead th {\n",
       "        text-align: right;\n",
       "    }\n",
       "</style>\n",
       "<table border=\"1\" class=\"dataframe\">\n",
       "  <thead>\n",
       "    <tr style=\"text-align: right;\">\n",
       "      <th></th>\n",
       "      <th>user_id</th>\n",
       "      <th>lt_day</th>\n",
       "      <th>age</th>\n",
       "      <th>gender_segment</th>\n",
       "      <th>os_name</th>\n",
       "      <th>cpe_type_name</th>\n",
       "      <th>country</th>\n",
       "      <th>city</th>\n",
       "      <th>age_segment</th>\n",
       "      <th>traffic_segment</th>\n",
       "      <th>lifetime_segment</th>\n",
       "      <th>nps_score</th>\n",
       "      <th>is_new</th>\n",
       "      <th>nps_group</th>\n",
       "    </tr>\n",
       "  </thead>\n",
       "  <tbody>\n",
       "    <tr>\n",
       "      <th>0</th>\n",
       "      <td>A001A2</td>\n",
       "      <td>2320</td>\n",
       "      <td>45.0</td>\n",
       "      <td>женщина</td>\n",
       "      <td>ANDROID</td>\n",
       "      <td>SMARTPHONE</td>\n",
       "      <td>Россия</td>\n",
       "      <td>Уфа</td>\n",
       "      <td>05 45-54</td>\n",
       "      <td>04 1-5</td>\n",
       "      <td>08 36+</td>\n",
       "      <td>10</td>\n",
       "      <td>old</td>\n",
       "      <td>supporters</td>\n",
       "    </tr>\n",
       "    <tr>\n",
       "      <th>1</th>\n",
       "      <td>A001WF</td>\n",
       "      <td>2344</td>\n",
       "      <td>53.0</td>\n",
       "      <td>мужчина</td>\n",
       "      <td>ANDROID</td>\n",
       "      <td>SMARTPHONE</td>\n",
       "      <td>Россия</td>\n",
       "      <td>Киров</td>\n",
       "      <td>05 45-54</td>\n",
       "      <td>04 1-5</td>\n",
       "      <td>08 36+</td>\n",
       "      <td>10</td>\n",
       "      <td>old</td>\n",
       "      <td>supporters</td>\n",
       "    </tr>\n",
       "    <tr>\n",
       "      <th>2</th>\n",
       "      <td>A003Q7</td>\n",
       "      <td>467</td>\n",
       "      <td>57.0</td>\n",
       "      <td>мужчина</td>\n",
       "      <td>ANDROID</td>\n",
       "      <td>SMARTPHONE</td>\n",
       "      <td>Россия</td>\n",
       "      <td>Москва</td>\n",
       "      <td>06 55-64</td>\n",
       "      <td>08 20-25</td>\n",
       "      <td>06 13-24</td>\n",
       "      <td>10</td>\n",
       "      <td>old</td>\n",
       "      <td>supporters</td>\n",
       "    </tr>\n",
       "  </tbody>\n",
       "</table>\n",
       "</div>"
      ],
      "text/plain": [
       "  user_id  lt_day   age gender_segment  os_name cpe_type_name country    city  \\\n",
       "0  A001A2    2320  45.0        женщина  ANDROID    SMARTPHONE  Россия     Уфа   \n",
       "1  A001WF    2344  53.0        мужчина  ANDROID    SMARTPHONE  Россия   Киров   \n",
       "2  A003Q7     467  57.0        мужчина  ANDROID    SMARTPHONE  Россия  Москва   \n",
       "\n",
       "  age_segment traffic_segment lifetime_segment  nps_score is_new   nps_group  \n",
       "0    05 45-54          04 1-5           08 36+         10    old  supporters  \n",
       "1    05 45-54          04 1-5           08 36+         10    old  supporters  \n",
       "2    06 55-64        08 20-25         06 13-24         10    old  supporters  "
      ]
     },
     "execution_count": 4,
     "metadata": {},
     "output_type": "execute_result"
    }
   ],
   "source": [
    "df = pd.read_sql(query, engine)\n",
    "df.head(3)"
   ]
  },
  {
   "cell_type": "markdown",
   "id": "ba61d302",
   "metadata": {},
   "source": [
    "Выгрузим данные в csv"
   ]
  },
  {
   "cell_type": "code",
   "execution_count": 5,
   "id": "9db04858",
   "metadata": {},
   "outputs": [],
   "source": [
    "df.to_csv('telecomm_csi_tableau.csv', index=False)"
   ]
  },
  {
   "cell_type": "markdown",
   "id": "8df3dabc",
   "metadata": {},
   "source": [
    "## Дашборд в Tableau"
   ]
  },
  {
   "cell_type": "markdown",
   "id": "0e019eeb",
   "metadata": {},
   "source": [
    "Ислледование проведено, дашборд доступен здесь [->>](https://public.tableau.com/views/Book2_13_16961354387640/Story1?:language=en-US&publish=yes&:display_count=n&:origin=viz_share_link)"
   ]
  }
 ],
 "metadata": {
  "ExecuteTimeLog": [
   {
    "duration": 123,
    "start_time": "2023-09-25T13:00:11.927Z"
   },
   {
    "duration": 566,
    "start_time": "2023-09-25T13:00:29.487Z"
   },
   {
    "duration": 111,
    "start_time": "2023-09-25T13:00:30.247Z"
   },
   {
    "duration": 226,
    "start_time": "2023-09-25T13:00:31.659Z"
   },
   {
    "duration": 3,
    "start_time": "2023-09-25T13:00:54.953Z"
   },
   {
    "duration": 4244,
    "start_time": "2023-09-25T13:01:17.490Z"
   },
   {
    "duration": 3,
    "start_time": "2023-09-25T13:23:32.082Z"
   },
   {
    "duration": 419,
    "start_time": "2023-09-25T13:23:34.643Z"
   },
   {
    "duration": 2,
    "start_time": "2023-09-25T13:24:17.155Z"
   },
   {
    "duration": 590,
    "start_time": "2023-09-25T13:24:18.853Z"
   },
   {
    "duration": 3,
    "start_time": "2023-09-25T13:25:54.853Z"
   },
   {
    "duration": 4798,
    "start_time": "2023-09-25T13:25:55.679Z"
   },
   {
    "duration": 2,
    "start_time": "2023-09-25T13:29:44.665Z"
   },
   {
    "duration": 363,
    "start_time": "2023-09-25T13:29:46.532Z"
   },
   {
    "duration": 3,
    "start_time": "2023-09-25T13:31:10.986Z"
   },
   {
    "duration": 3,
    "start_time": "2023-09-25T13:31:13.974Z"
   },
   {
    "duration": 468,
    "start_time": "2023-09-25T13:31:14.699Z"
   },
   {
    "duration": 3,
    "start_time": "2023-09-25T13:32:14.356Z"
   },
   {
    "duration": 610,
    "start_time": "2023-09-25T13:32:15.152Z"
   },
   {
    "duration": 3,
    "start_time": "2023-09-25T13:32:55.289Z"
   },
   {
    "duration": 4820,
    "start_time": "2023-09-25T13:32:56.043Z"
   },
   {
    "duration": 3,
    "start_time": "2023-09-25T13:33:41.441Z"
   },
   {
    "duration": 384,
    "start_time": "2023-09-25T13:33:42.426Z"
   },
   {
    "duration": 4,
    "start_time": "2023-09-25T13:35:12.665Z"
   },
   {
    "duration": 353,
    "start_time": "2023-09-25T13:35:13.698Z"
   },
   {
    "duration": 4,
    "start_time": "2023-09-25T13:36:08.705Z"
   },
   {
    "duration": 4963,
    "start_time": "2023-09-25T13:36:09.709Z"
   },
   {
    "duration": 5371,
    "start_time": "2023-09-25T13:37:19.137Z"
   },
   {
    "duration": 6572,
    "start_time": "2023-09-25T13:38:15.097Z"
   },
   {
    "duration": 4619,
    "start_time": "2023-09-25T13:39:11.427Z"
   },
   {
    "duration": 123,
    "start_time": "2023-09-25T13:42:46.178Z"
   },
   {
    "duration": 178,
    "start_time": "2023-09-25T13:42:59.168Z"
   },
   {
    "duration": 5238,
    "start_time": "2023-09-25T13:45:10.772Z"
   },
   {
    "duration": 507,
    "start_time": "2023-09-30T14:35:53.540Z"
   },
   {
    "duration": 121,
    "start_time": "2023-09-30T14:35:54.049Z"
   },
   {
    "duration": 2,
    "start_time": "2023-09-30T14:35:54.172Z"
   },
   {
    "duration": 5192,
    "start_time": "2023-09-30T14:35:54.176Z"
   },
   {
    "duration": 4037,
    "start_time": "2023-09-30T14:35:59.370Z"
   },
   {
    "duration": 481,
    "start_time": "2023-09-30T15:27:21.266Z"
   },
   {
    "duration": 65,
    "start_time": "2023-09-30T15:27:21.749Z"
   },
   {
    "duration": 3,
    "start_time": "2023-09-30T15:27:21.815Z"
   },
   {
    "duration": 4822,
    "start_time": "2023-09-30T15:27:21.819Z"
   },
   {
    "duration": 4817,
    "start_time": "2023-09-30T15:27:26.642Z"
   },
   {
    "duration": 8,
    "start_time": "2023-10-01T02:10:19.181Z"
   },
   {
    "duration": 3,
    "start_time": "2023-10-01T02:10:24.343Z"
   },
   {
    "duration": 53,
    "start_time": "2023-10-01T02:10:27.868Z"
   },
   {
    "duration": 529,
    "start_time": "2023-10-01T02:10:41.727Z"
   },
   {
    "duration": 125,
    "start_time": "2023-10-01T02:10:42.328Z"
   },
   {
    "duration": 3,
    "start_time": "2023-10-01T02:10:44.031Z"
   },
   {
    "duration": 611,
    "start_time": "2023-10-01T02:10:46.613Z"
   },
   {
    "duration": 3,
    "start_time": "2023-10-01T02:11:07.070Z"
   },
   {
    "duration": 527,
    "start_time": "2023-10-01T02:11:09.645Z"
   },
   {
    "duration": 2,
    "start_time": "2023-10-01T02:11:40.449Z"
   },
   {
    "duration": 557,
    "start_time": "2023-10-01T02:11:42.518Z"
   },
   {
    "duration": 3,
    "start_time": "2023-10-01T02:15:32.958Z"
   },
   {
    "duration": 540,
    "start_time": "2023-10-01T02:15:35.685Z"
   },
   {
    "duration": 2,
    "start_time": "2023-10-01T02:15:48.250Z"
   },
   {
    "duration": 520,
    "start_time": "2023-10-01T02:15:50.769Z"
   },
   {
    "duration": 3,
    "start_time": "2023-10-01T02:19:26.978Z"
   },
   {
    "duration": 549,
    "start_time": "2023-10-01T02:19:29.648Z"
   },
   {
    "duration": 3,
    "start_time": "2023-10-01T02:19:38.972Z"
   },
   {
    "duration": 6295,
    "start_time": "2023-10-01T02:19:41.113Z"
   },
   {
    "duration": 5835,
    "start_time": "2023-10-01T02:19:55.650Z"
   },
   {
    "duration": 4,
    "start_time": "2023-10-01T02:20:15.820Z"
   },
   {
    "duration": 5770,
    "start_time": "2023-10-01T02:20:18.023Z"
   },
   {
    "duration": 3,
    "start_time": "2023-10-01T02:22:20.670Z"
   },
   {
    "duration": 6634,
    "start_time": "2023-10-01T02:22:23.620Z"
   },
   {
    "duration": 6168,
    "start_time": "2023-10-01T02:22:47.251Z"
   },
   {
    "duration": 92,
    "start_time": "2023-10-01T03:04:54.076Z"
   },
   {
    "duration": 615,
    "start_time": "2023-10-01T15:00:48.334Z"
   },
   {
    "duration": 79,
    "start_time": "2023-10-01T15:00:48.951Z"
   },
   {
    "duration": 5,
    "start_time": "2023-10-01T15:00:49.032Z"
   },
   {
    "duration": 6082,
    "start_time": "2023-10-01T15:00:49.039Z"
   },
   {
    "duration": 5945,
    "start_time": "2023-10-01T15:00:55.123Z"
   }
  ],
  "kernelspec": {
   "display_name": "Python 3 (ipykernel)",
   "language": "python",
   "name": "python3"
  },
  "language_info": {
   "codemirror_mode": {
    "name": "ipython",
    "version": 3
   },
   "file_extension": ".py",
   "mimetype": "text/x-python",
   "name": "python",
   "nbconvert_exporter": "python",
   "pygments_lexer": "ipython3",
   "version": "3.10.13"
  },
  "toc": {
   "base_numbering": 1,
   "nav_menu": {},
   "number_sections": true,
   "sideBar": true,
   "skip_h1_title": true,
   "title_cell": "Table of Contents",
   "title_sidebar": "Contents",
   "toc_cell": false,
   "toc_position": {},
   "toc_section_display": true,
   "toc_window_display": false
  }
 },
 "nbformat": 4,
 "nbformat_minor": 5
}
