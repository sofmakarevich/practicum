{
 "cells": [
  {
   "cell_type": "markdown",
   "id": "386f2ae7",
   "metadata": {
    "deletable": false,
    "editable": false,
    "id": "386f2ae7"
   },
   "source": [
    "# Исследование надежности заемщиков\n"
   ]
  },
  {
   "cell_type": "markdown",
   "id": "ffe86f65",
   "metadata": {
    "deletable": false,
    "editable": false,
    "id": "ffe86f65"
   },
   "source": [
    "Во второй части проекта вы выполните шаги 3 и 4. Их вручную проверит ревьюер.\n",
    "Чтобы вам не пришлось писать код заново для шагов 1 и 2, мы добавили авторские решения в ячейки с кодом. \n",
    "\n"
   ]
  },
  {
   "cell_type": "markdown",
   "id": "26613308",
   "metadata": {
    "deletable": false,
    "editable": false,
    "id": "26613308"
   },
   "source": [
    "## Откройте таблицу и изучите общую информацию о данных"
   ]
  },
  {
   "cell_type": "markdown",
   "id": "3c9f838e",
   "metadata": {
    "deletable": false,
    "editable": false,
    "id": "3c9f838e"
   },
   "source": [
    "**Задание 1. Импортируйте библиотеку pandas. Считайте данные из csv-файла в датафрейм и сохраните в переменную `data`. Путь к файлу:**\n",
    "\n",
    "`/datasets/data.csv`"
   ]
  },
  {
   "cell_type": "code",
   "execution_count": 1,
   "id": "77a68a90",
   "metadata": {
    "deletable": false,
    "id": "77a68a90"
   },
   "outputs": [],
   "source": [
    "import pandas as pd\n",
    "\n",
    "try:\n",
    "    data = pd.read_csv('/datasets/data.csv')\n",
    "except:\n",
    "    data = pd.read_csv('https://code.s3.yandex.net/datasets/data.csv')"
   ]
  },
  {
   "cell_type": "markdown",
   "id": "45365635",
   "metadata": {
    "deletable": false,
    "editable": false,
    "id": "45365635"
   },
   "source": [
    "**Задание 2. Выведите первые 20 строчек датафрейма `data` на экран.**"
   ]
  },
  {
   "cell_type": "code",
   "execution_count": 2,
   "id": "b0451a9a",
   "metadata": {
    "deletable": false,
    "id": "b0451a9a",
    "outputId": "1a8f3ef2-d323-4ec2-ddf7-89670b5944c4"
   },
   "outputs": [
    {
     "data": {
      "text/html": [
       "<div>\n",
       "<style scoped>\n",
       "    .dataframe tbody tr th:only-of-type {\n",
       "        vertical-align: middle;\n",
       "    }\n",
       "\n",
       "    .dataframe tbody tr th {\n",
       "        vertical-align: top;\n",
       "    }\n",
       "\n",
       "    .dataframe thead th {\n",
       "        text-align: right;\n",
       "    }\n",
       "</style>\n",
       "<table border=\"1\" class=\"dataframe\">\n",
       "  <thead>\n",
       "    <tr style=\"text-align: right;\">\n",
       "      <th></th>\n",
       "      <th>children</th>\n",
       "      <th>days_employed</th>\n",
       "      <th>dob_years</th>\n",
       "      <th>education</th>\n",
       "      <th>education_id</th>\n",
       "      <th>family_status</th>\n",
       "      <th>family_status_id</th>\n",
       "      <th>gender</th>\n",
       "      <th>income_type</th>\n",
       "      <th>debt</th>\n",
       "      <th>total_income</th>\n",
       "      <th>purpose</th>\n",
       "    </tr>\n",
       "  </thead>\n",
       "  <tbody>\n",
       "    <tr>\n",
       "      <th>0</th>\n",
       "      <td>1</td>\n",
       "      <td>-8437.673028</td>\n",
       "      <td>42</td>\n",
       "      <td>высшее</td>\n",
       "      <td>0</td>\n",
       "      <td>женат / замужем</td>\n",
       "      <td>0</td>\n",
       "      <td>F</td>\n",
       "      <td>сотрудник</td>\n",
       "      <td>0</td>\n",
       "      <td>253875.639453</td>\n",
       "      <td>покупка жилья</td>\n",
       "    </tr>\n",
       "    <tr>\n",
       "      <th>1</th>\n",
       "      <td>1</td>\n",
       "      <td>-4024.803754</td>\n",
       "      <td>36</td>\n",
       "      <td>среднее</td>\n",
       "      <td>1</td>\n",
       "      <td>женат / замужем</td>\n",
       "      <td>0</td>\n",
       "      <td>F</td>\n",
       "      <td>сотрудник</td>\n",
       "      <td>0</td>\n",
       "      <td>112080.014102</td>\n",
       "      <td>приобретение автомобиля</td>\n",
       "    </tr>\n",
       "    <tr>\n",
       "      <th>2</th>\n",
       "      <td>0</td>\n",
       "      <td>-5623.422610</td>\n",
       "      <td>33</td>\n",
       "      <td>Среднее</td>\n",
       "      <td>1</td>\n",
       "      <td>женат / замужем</td>\n",
       "      <td>0</td>\n",
       "      <td>M</td>\n",
       "      <td>сотрудник</td>\n",
       "      <td>0</td>\n",
       "      <td>145885.952297</td>\n",
       "      <td>покупка жилья</td>\n",
       "    </tr>\n",
       "    <tr>\n",
       "      <th>3</th>\n",
       "      <td>3</td>\n",
       "      <td>-4124.747207</td>\n",
       "      <td>32</td>\n",
       "      <td>среднее</td>\n",
       "      <td>1</td>\n",
       "      <td>женат / замужем</td>\n",
       "      <td>0</td>\n",
       "      <td>M</td>\n",
       "      <td>сотрудник</td>\n",
       "      <td>0</td>\n",
       "      <td>267628.550329</td>\n",
       "      <td>дополнительное образование</td>\n",
       "    </tr>\n",
       "    <tr>\n",
       "      <th>4</th>\n",
       "      <td>0</td>\n",
       "      <td>340266.072047</td>\n",
       "      <td>53</td>\n",
       "      <td>среднее</td>\n",
       "      <td>1</td>\n",
       "      <td>гражданский брак</td>\n",
       "      <td>1</td>\n",
       "      <td>F</td>\n",
       "      <td>пенсионер</td>\n",
       "      <td>0</td>\n",
       "      <td>158616.077870</td>\n",
       "      <td>сыграть свадьбу</td>\n",
       "    </tr>\n",
       "    <tr>\n",
       "      <th>5</th>\n",
       "      <td>0</td>\n",
       "      <td>-926.185831</td>\n",
       "      <td>27</td>\n",
       "      <td>высшее</td>\n",
       "      <td>0</td>\n",
       "      <td>гражданский брак</td>\n",
       "      <td>1</td>\n",
       "      <td>M</td>\n",
       "      <td>компаньон</td>\n",
       "      <td>0</td>\n",
       "      <td>255763.565419</td>\n",
       "      <td>покупка жилья</td>\n",
       "    </tr>\n",
       "    <tr>\n",
       "      <th>6</th>\n",
       "      <td>0</td>\n",
       "      <td>-2879.202052</td>\n",
       "      <td>43</td>\n",
       "      <td>высшее</td>\n",
       "      <td>0</td>\n",
       "      <td>женат / замужем</td>\n",
       "      <td>0</td>\n",
       "      <td>F</td>\n",
       "      <td>компаньон</td>\n",
       "      <td>0</td>\n",
       "      <td>240525.971920</td>\n",
       "      <td>операции с жильем</td>\n",
       "    </tr>\n",
       "    <tr>\n",
       "      <th>7</th>\n",
       "      <td>0</td>\n",
       "      <td>-152.779569</td>\n",
       "      <td>50</td>\n",
       "      <td>СРЕДНЕЕ</td>\n",
       "      <td>1</td>\n",
       "      <td>женат / замужем</td>\n",
       "      <td>0</td>\n",
       "      <td>M</td>\n",
       "      <td>сотрудник</td>\n",
       "      <td>0</td>\n",
       "      <td>135823.934197</td>\n",
       "      <td>образование</td>\n",
       "    </tr>\n",
       "    <tr>\n",
       "      <th>8</th>\n",
       "      <td>2</td>\n",
       "      <td>-6929.865299</td>\n",
       "      <td>35</td>\n",
       "      <td>ВЫСШЕЕ</td>\n",
       "      <td>0</td>\n",
       "      <td>гражданский брак</td>\n",
       "      <td>1</td>\n",
       "      <td>F</td>\n",
       "      <td>сотрудник</td>\n",
       "      <td>0</td>\n",
       "      <td>95856.832424</td>\n",
       "      <td>на проведение свадьбы</td>\n",
       "    </tr>\n",
       "    <tr>\n",
       "      <th>9</th>\n",
       "      <td>0</td>\n",
       "      <td>-2188.756445</td>\n",
       "      <td>41</td>\n",
       "      <td>среднее</td>\n",
       "      <td>1</td>\n",
       "      <td>женат / замужем</td>\n",
       "      <td>0</td>\n",
       "      <td>M</td>\n",
       "      <td>сотрудник</td>\n",
       "      <td>0</td>\n",
       "      <td>144425.938277</td>\n",
       "      <td>покупка жилья для семьи</td>\n",
       "    </tr>\n",
       "    <tr>\n",
       "      <th>10</th>\n",
       "      <td>2</td>\n",
       "      <td>-4171.483647</td>\n",
       "      <td>36</td>\n",
       "      <td>высшее</td>\n",
       "      <td>0</td>\n",
       "      <td>женат / замужем</td>\n",
       "      <td>0</td>\n",
       "      <td>M</td>\n",
       "      <td>компаньон</td>\n",
       "      <td>0</td>\n",
       "      <td>113943.491460</td>\n",
       "      <td>покупка недвижимости</td>\n",
       "    </tr>\n",
       "    <tr>\n",
       "      <th>11</th>\n",
       "      <td>0</td>\n",
       "      <td>-792.701887</td>\n",
       "      <td>40</td>\n",
       "      <td>среднее</td>\n",
       "      <td>1</td>\n",
       "      <td>женат / замужем</td>\n",
       "      <td>0</td>\n",
       "      <td>F</td>\n",
       "      <td>сотрудник</td>\n",
       "      <td>0</td>\n",
       "      <td>77069.234271</td>\n",
       "      <td>покупка коммерческой недвижимости</td>\n",
       "    </tr>\n",
       "    <tr>\n",
       "      <th>12</th>\n",
       "      <td>0</td>\n",
       "      <td>NaN</td>\n",
       "      <td>65</td>\n",
       "      <td>среднее</td>\n",
       "      <td>1</td>\n",
       "      <td>гражданский брак</td>\n",
       "      <td>1</td>\n",
       "      <td>M</td>\n",
       "      <td>пенсионер</td>\n",
       "      <td>0</td>\n",
       "      <td>NaN</td>\n",
       "      <td>сыграть свадьбу</td>\n",
       "    </tr>\n",
       "    <tr>\n",
       "      <th>13</th>\n",
       "      <td>0</td>\n",
       "      <td>-1846.641941</td>\n",
       "      <td>54</td>\n",
       "      <td>неоконченное высшее</td>\n",
       "      <td>2</td>\n",
       "      <td>женат / замужем</td>\n",
       "      <td>0</td>\n",
       "      <td>F</td>\n",
       "      <td>сотрудник</td>\n",
       "      <td>0</td>\n",
       "      <td>130458.228857</td>\n",
       "      <td>приобретение автомобиля</td>\n",
       "    </tr>\n",
       "    <tr>\n",
       "      <th>14</th>\n",
       "      <td>0</td>\n",
       "      <td>-1844.956182</td>\n",
       "      <td>56</td>\n",
       "      <td>высшее</td>\n",
       "      <td>0</td>\n",
       "      <td>гражданский брак</td>\n",
       "      <td>1</td>\n",
       "      <td>F</td>\n",
       "      <td>компаньон</td>\n",
       "      <td>1</td>\n",
       "      <td>165127.911772</td>\n",
       "      <td>покупка жилой недвижимости</td>\n",
       "    </tr>\n",
       "    <tr>\n",
       "      <th>15</th>\n",
       "      <td>1</td>\n",
       "      <td>-972.364419</td>\n",
       "      <td>26</td>\n",
       "      <td>среднее</td>\n",
       "      <td>1</td>\n",
       "      <td>женат / замужем</td>\n",
       "      <td>0</td>\n",
       "      <td>F</td>\n",
       "      <td>сотрудник</td>\n",
       "      <td>0</td>\n",
       "      <td>116820.904450</td>\n",
       "      <td>строительство собственной недвижимости</td>\n",
       "    </tr>\n",
       "    <tr>\n",
       "      <th>16</th>\n",
       "      <td>0</td>\n",
       "      <td>-1719.934226</td>\n",
       "      <td>35</td>\n",
       "      <td>среднее</td>\n",
       "      <td>1</td>\n",
       "      <td>женат / замужем</td>\n",
       "      <td>0</td>\n",
       "      <td>F</td>\n",
       "      <td>сотрудник</td>\n",
       "      <td>0</td>\n",
       "      <td>289202.704229</td>\n",
       "      <td>недвижимость</td>\n",
       "    </tr>\n",
       "    <tr>\n",
       "      <th>17</th>\n",
       "      <td>0</td>\n",
       "      <td>-2369.999720</td>\n",
       "      <td>33</td>\n",
       "      <td>высшее</td>\n",
       "      <td>0</td>\n",
       "      <td>гражданский брак</td>\n",
       "      <td>1</td>\n",
       "      <td>M</td>\n",
       "      <td>сотрудник</td>\n",
       "      <td>0</td>\n",
       "      <td>90410.586745</td>\n",
       "      <td>строительство недвижимости</td>\n",
       "    </tr>\n",
       "    <tr>\n",
       "      <th>18</th>\n",
       "      <td>0</td>\n",
       "      <td>400281.136913</td>\n",
       "      <td>53</td>\n",
       "      <td>среднее</td>\n",
       "      <td>1</td>\n",
       "      <td>вдовец / вдова</td>\n",
       "      <td>2</td>\n",
       "      <td>F</td>\n",
       "      <td>пенсионер</td>\n",
       "      <td>0</td>\n",
       "      <td>56823.777243</td>\n",
       "      <td>на покупку подержанного автомобиля</td>\n",
       "    </tr>\n",
       "    <tr>\n",
       "      <th>19</th>\n",
       "      <td>0</td>\n",
       "      <td>-10038.818549</td>\n",
       "      <td>48</td>\n",
       "      <td>СРЕДНЕЕ</td>\n",
       "      <td>1</td>\n",
       "      <td>в разводе</td>\n",
       "      <td>3</td>\n",
       "      <td>F</td>\n",
       "      <td>сотрудник</td>\n",
       "      <td>0</td>\n",
       "      <td>242831.107982</td>\n",
       "      <td>на покупку своего автомобиля</td>\n",
       "    </tr>\n",
       "  </tbody>\n",
       "</table>\n",
       "</div>"
      ],
      "text/plain": [
       "    children  days_employed  dob_years            education  education_id  \\\n",
       "0          1   -8437.673028         42               высшее             0   \n",
       "1          1   -4024.803754         36              среднее             1   \n",
       "2          0   -5623.422610         33              Среднее             1   \n",
       "3          3   -4124.747207         32              среднее             1   \n",
       "4          0  340266.072047         53              среднее             1   \n",
       "5          0    -926.185831         27               высшее             0   \n",
       "6          0   -2879.202052         43               высшее             0   \n",
       "7          0    -152.779569         50              СРЕДНЕЕ             1   \n",
       "8          2   -6929.865299         35               ВЫСШЕЕ             0   \n",
       "9          0   -2188.756445         41              среднее             1   \n",
       "10         2   -4171.483647         36               высшее             0   \n",
       "11         0    -792.701887         40              среднее             1   \n",
       "12         0            NaN         65              среднее             1   \n",
       "13         0   -1846.641941         54  неоконченное высшее             2   \n",
       "14         0   -1844.956182         56               высшее             0   \n",
       "15         1    -972.364419         26              среднее             1   \n",
       "16         0   -1719.934226         35              среднее             1   \n",
       "17         0   -2369.999720         33               высшее             0   \n",
       "18         0  400281.136913         53              среднее             1   \n",
       "19         0  -10038.818549         48              СРЕДНЕЕ             1   \n",
       "\n",
       "       family_status  family_status_id gender income_type  debt  \\\n",
       "0    женат / замужем                 0      F   сотрудник     0   \n",
       "1    женат / замужем                 0      F   сотрудник     0   \n",
       "2    женат / замужем                 0      M   сотрудник     0   \n",
       "3    женат / замужем                 0      M   сотрудник     0   \n",
       "4   гражданский брак                 1      F   пенсионер     0   \n",
       "5   гражданский брак                 1      M   компаньон     0   \n",
       "6    женат / замужем                 0      F   компаньон     0   \n",
       "7    женат / замужем                 0      M   сотрудник     0   \n",
       "8   гражданский брак                 1      F   сотрудник     0   \n",
       "9    женат / замужем                 0      M   сотрудник     0   \n",
       "10   женат / замужем                 0      M   компаньон     0   \n",
       "11   женат / замужем                 0      F   сотрудник     0   \n",
       "12  гражданский брак                 1      M   пенсионер     0   \n",
       "13   женат / замужем                 0      F   сотрудник     0   \n",
       "14  гражданский брак                 1      F   компаньон     1   \n",
       "15   женат / замужем                 0      F   сотрудник     0   \n",
       "16   женат / замужем                 0      F   сотрудник     0   \n",
       "17  гражданский брак                 1      M   сотрудник     0   \n",
       "18    вдовец / вдова                 2      F   пенсионер     0   \n",
       "19         в разводе                 3      F   сотрудник     0   \n",
       "\n",
       "     total_income                                 purpose  \n",
       "0   253875.639453                           покупка жилья  \n",
       "1   112080.014102                 приобретение автомобиля  \n",
       "2   145885.952297                           покупка жилья  \n",
       "3   267628.550329              дополнительное образование  \n",
       "4   158616.077870                         сыграть свадьбу  \n",
       "5   255763.565419                           покупка жилья  \n",
       "6   240525.971920                       операции с жильем  \n",
       "7   135823.934197                             образование  \n",
       "8    95856.832424                   на проведение свадьбы  \n",
       "9   144425.938277                 покупка жилья для семьи  \n",
       "10  113943.491460                    покупка недвижимости  \n",
       "11   77069.234271       покупка коммерческой недвижимости  \n",
       "12            NaN                         сыграть свадьбу  \n",
       "13  130458.228857                 приобретение автомобиля  \n",
       "14  165127.911772              покупка жилой недвижимости  \n",
       "15  116820.904450  строительство собственной недвижимости  \n",
       "16  289202.704229                            недвижимость  \n",
       "17   90410.586745              строительство недвижимости  \n",
       "18   56823.777243      на покупку подержанного автомобиля  \n",
       "19  242831.107982            на покупку своего автомобиля  "
      ]
     },
     "execution_count": 2,
     "metadata": {},
     "output_type": "execute_result"
    }
   ],
   "source": [
    "data.head(20)"
   ]
  },
  {
   "cell_type": "markdown",
   "id": "0ed8f27f",
   "metadata": {
    "deletable": false,
    "editable": false,
    "id": "0ed8f27f"
   },
   "source": [
    "**Задание 3. Выведите основную информацию о датафрейме с помощью метода `info()`.**"
   ]
  },
  {
   "cell_type": "code",
   "execution_count": 3,
   "id": "ab3f863b",
   "metadata": {
    "deletable": false,
    "id": "ab3f863b",
    "outputId": "15376089-8dad-46c9-b520-c05248d43158"
   },
   "outputs": [
    {
     "name": "stdout",
     "output_type": "stream",
     "text": [
      "<class 'pandas.core.frame.DataFrame'>\n",
      "RangeIndex: 21525 entries, 0 to 21524\n",
      "Data columns (total 12 columns):\n",
      " #   Column            Non-Null Count  Dtype  \n",
      "---  ------            --------------  -----  \n",
      " 0   children          21525 non-null  int64  \n",
      " 1   days_employed     19351 non-null  float64\n",
      " 2   dob_years         21525 non-null  int64  \n",
      " 3   education         21525 non-null  object \n",
      " 4   education_id      21525 non-null  int64  \n",
      " 5   family_status     21525 non-null  object \n",
      " 6   family_status_id  21525 non-null  int64  \n",
      " 7   gender            21525 non-null  object \n",
      " 8   income_type       21525 non-null  object \n",
      " 9   debt              21525 non-null  int64  \n",
      " 10  total_income      19351 non-null  float64\n",
      " 11  purpose           21525 non-null  object \n",
      "dtypes: float64(2), int64(5), object(5)\n",
      "memory usage: 2.0+ MB\n"
     ]
    }
   ],
   "source": [
    "data.info()"
   ]
  },
  {
   "cell_type": "markdown",
   "id": "60e3e22d",
   "metadata": {
    "deletable": false,
    "editable": false,
    "id": "60e3e22d"
   },
   "source": [
    "## Предобработка данных"
   ]
  },
  {
   "cell_type": "markdown",
   "id": "03dc170c",
   "metadata": {
    "deletable": false,
    "editable": false,
    "id": "03dc170c"
   },
   "source": [
    "### Удаление пропусков"
   ]
  },
  {
   "cell_type": "markdown",
   "id": "a4f54eef",
   "metadata": {
    "deletable": false,
    "editable": false,
    "id": "a4f54eef"
   },
   "source": [
    "**Задание 4. Выведите количество пропущенных значений для каждого столбца. Используйте комбинацию двух методов.**"
   ]
  },
  {
   "cell_type": "code",
   "execution_count": 4,
   "id": "2dc372b2",
   "metadata": {
    "deletable": false,
    "id": "2dc372b2",
    "outputId": "81f4d817-781c-465c-ed15-91ce4446810d"
   },
   "outputs": [
    {
     "data": {
      "text/plain": [
       "children               0\n",
       "days_employed       2174\n",
       "dob_years              0\n",
       "education              0\n",
       "education_id           0\n",
       "family_status          0\n",
       "family_status_id       0\n",
       "gender                 0\n",
       "income_type            0\n",
       "debt                   0\n",
       "total_income        2174\n",
       "purpose                0\n",
       "dtype: int64"
      ]
     },
     "execution_count": 4,
     "metadata": {},
     "output_type": "execute_result"
    }
   ],
   "source": [
    "data.isna().sum()"
   ]
  },
  {
   "cell_type": "markdown",
   "id": "14f011b1",
   "metadata": {
    "deletable": false,
    "editable": false,
    "id": "14f011b1"
   },
   "source": [
    "**Задание 5. В двух столбцах есть пропущенные значения. Один из них — `days_employed`. Пропуски в этом столбце вы обработаете на следующем этапе. Другой столбец с пропущенными значениями — `total_income` — хранит данные о доходах. На сумму дохода сильнее всего влияет тип занятости, поэтому заполнить пропуски в этом столбце нужно медианным значением по каждому типу из столбца `income_type`. Например, у человека с типом занятости `сотрудник` пропуск в столбце `total_income` должен быть заполнен медианным доходом среди всех записей с тем же типом.**"
   ]
  },
  {
   "cell_type": "code",
   "execution_count": 5,
   "id": "bdabfb6e",
   "metadata": {
    "deletable": false,
    "id": "bdabfb6e"
   },
   "outputs": [],
   "source": [
    "for t in data['income_type'].unique():\n",
    "    data.loc[(data['income_type'] == t) & (data['total_income'].isna()), 'total_income'] = \\\n",
    "    data.loc[(data['income_type'] == t), 'total_income'].median()"
   ]
  },
  {
   "cell_type": "markdown",
   "id": "5be34059",
   "metadata": {
    "deletable": false,
    "editable": false,
    "id": "5be34059"
   },
   "source": [
    "### Обработка аномальных значений"
   ]
  },
  {
   "cell_type": "markdown",
   "id": "a87606cb",
   "metadata": {
    "deletable": false,
    "editable": false,
    "id": "a87606cb"
   },
   "source": [
    "**Задание 6. В данных могут встречаться артефакты (аномалии) — значения, которые не отражают действительность и появились по какой-то ошибке. таким артефактом будет отрицательное количество дней трудового стажа в столбце `days_employed`. Для реальных данных это нормально. Обработайте значения в этом столбце: замените все отрицательные значения положительными с помощью метода `abs()`.**"
   ]
  },
  {
   "cell_type": "code",
   "execution_count": 6,
   "id": "020c46cc",
   "metadata": {
    "deletable": false,
    "id": "020c46cc"
   },
   "outputs": [],
   "source": [
    "data['days_employed'] = data['days_employed'].abs()"
   ]
  },
  {
   "cell_type": "markdown",
   "id": "45538a3a",
   "metadata": {
    "deletable": false,
    "editable": false,
    "id": "45538a3a"
   },
   "source": [
    "**Задание 7. Для каждого типа занятости выведите медианное значение трудового стажа `days_employed` в днях.**"
   ]
  },
  {
   "cell_type": "code",
   "execution_count": 7,
   "id": "cd3e6328",
   "metadata": {
    "deletable": false,
    "id": "cd3e6328",
    "outputId": "801ef80e-522b-4668-f34e-565af7432bcf"
   },
   "outputs": [
    {
     "data": {
      "text/plain": [
       "income_type\n",
       "безработный        366413.652744\n",
       "в декрете            3296.759962\n",
       "госслужащий          2689.368353\n",
       "компаньон            1547.382223\n",
       "пенсионер          365213.306266\n",
       "предприниматель       520.848083\n",
       "сотрудник            1574.202821\n",
       "студент               578.751554\n",
       "Name: days_employed, dtype: float64"
      ]
     },
     "execution_count": 7,
     "metadata": {},
     "output_type": "execute_result"
    }
   ],
   "source": [
    "data.groupby('income_type')['days_employed'].agg('median')"
   ]
  },
  {
   "cell_type": "markdown",
   "id": "90c5f058",
   "metadata": {
    "deletable": false,
    "editable": false,
    "id": "90c5f058"
   },
   "source": [
    "У двух типов (безработные и пенсионеры) получатся аномально большие значения. Исправить такие значения сложно, поэтому оставьте их как есть."
   ]
  },
  {
   "cell_type": "markdown",
   "id": "9652e50d",
   "metadata": {
    "deletable": false,
    "editable": false,
    "id": "9652e50d"
   },
   "source": [
    "**Задание 8. Выведите перечень уникальных значений столбца `children`.**"
   ]
  },
  {
   "cell_type": "code",
   "execution_count": 8,
   "id": "dbb37b8e",
   "metadata": {
    "deletable": false,
    "id": "dbb37b8e",
    "outputId": "6975b15c-7f95-4697-d16d-a0c79b657b03"
   },
   "outputs": [
    {
     "data": {
      "text/plain": [
       "array([ 1,  0,  3,  2, -1,  4, 20,  5])"
      ]
     },
     "execution_count": 8,
     "metadata": {},
     "output_type": "execute_result"
    }
   ],
   "source": [
    "data['children'].unique()"
   ]
  },
  {
   "cell_type": "markdown",
   "id": "2b8b0715",
   "metadata": {
    "deletable": false,
    "editable": false,
    "id": "2b8b0715"
   },
   "source": [
    "**Задание 9. В столбце `children` есть два аномальных значения. Удалите строки, в которых встречаются такие аномальные значения из датафрейма `data`.**"
   ]
  },
  {
   "cell_type": "code",
   "execution_count": 9,
   "id": "20009df8",
   "metadata": {
    "deletable": false,
    "id": "20009df8"
   },
   "outputs": [],
   "source": [
    "data = data[(data['children'] != -1) & (data['children'] != 20)]"
   ]
  },
  {
   "cell_type": "markdown",
   "id": "8c6ac9f1",
   "metadata": {
    "deletable": false,
    "editable": false,
    "id": "8c6ac9f1"
   },
   "source": [
    "**Задание 10. Ещё раз выведите перечень уникальных значений столбца `children`, чтобы убедиться, что артефакты удалены.**"
   ]
  },
  {
   "cell_type": "code",
   "execution_count": 10,
   "id": "07337b81",
   "metadata": {
    "deletable": false,
    "id": "07337b81",
    "outputId": "b2097101-d49d-44d9-901b-32a65c9463d1"
   },
   "outputs": [
    {
     "data": {
      "text/plain": [
       "array([1, 0, 3, 2, 4, 5])"
      ]
     },
     "execution_count": 10,
     "metadata": {},
     "output_type": "execute_result"
    }
   ],
   "source": [
    "data['children'].unique()"
   ]
  },
  {
   "cell_type": "markdown",
   "id": "ee3f52d4",
   "metadata": {
    "deletable": false,
    "editable": false,
    "id": "ee3f52d4"
   },
   "source": [
    "### Удаление пропусков (продолжение)"
   ]
  },
  {
   "cell_type": "markdown",
   "id": "a700b0e4",
   "metadata": {
    "deletable": false,
    "editable": false,
    "id": "a700b0e4"
   },
   "source": [
    "**Задание 11. Заполните пропуски в столбце `days_employed` медианными значениями по каждого типа занятости `income_type`.**"
   ]
  },
  {
   "cell_type": "code",
   "execution_count": 11,
   "id": "61946b83",
   "metadata": {
    "deletable": false,
    "id": "61946b83"
   },
   "outputs": [],
   "source": [
    "for t in data['income_type'].unique():\n",
    "    data.loc[(data['income_type'] == t) & (data['days_employed'].isna()), 'days_employed'] = \\\n",
    "    data.loc[(data['income_type'] == t), 'days_employed'].median()"
   ]
  },
  {
   "cell_type": "markdown",
   "id": "550dcd9b",
   "metadata": {
    "deletable": false,
    "editable": false,
    "id": "550dcd9b"
   },
   "source": [
    "**Задание 12. Убедитесь, что все пропуски заполнены. Проверьте себя и ещё раз выведите количество пропущенных значений для каждого столбца с помощью двух методов.**"
   ]
  },
  {
   "cell_type": "code",
   "execution_count": 12,
   "id": "937c7014",
   "metadata": {
    "deletable": false,
    "id": "937c7014",
    "outputId": "8da1e4e1-358e-4e87-98c9-f261bce0a7b2"
   },
   "outputs": [
    {
     "data": {
      "text/plain": [
       "children            0\n",
       "days_employed       0\n",
       "dob_years           0\n",
       "education           0\n",
       "education_id        0\n",
       "family_status       0\n",
       "family_status_id    0\n",
       "gender              0\n",
       "income_type         0\n",
       "debt                0\n",
       "total_income        0\n",
       "purpose             0\n",
       "dtype: int64"
      ]
     },
     "execution_count": 12,
     "metadata": {},
     "output_type": "execute_result"
    }
   ],
   "source": [
    "data.isna().sum()"
   ]
  },
  {
   "cell_type": "markdown",
   "id": "d522e295",
   "metadata": {
    "deletable": false,
    "editable": false,
    "id": "d522e295"
   },
   "source": [
    "### Изменение типов данных"
   ]
  },
  {
   "cell_type": "markdown",
   "id": "c229c581",
   "metadata": {
    "deletable": false,
    "editable": false,
    "id": "c229c581"
   },
   "source": [
    "**Задание 13. Замените вещественный тип данных в столбце `total_income` на целочисленный с помощью метода `astype()`.**"
   ]
  },
  {
   "cell_type": "code",
   "execution_count": 13,
   "id": "31036462",
   "metadata": {
    "deletable": false,
    "id": "31036462"
   },
   "outputs": [],
   "source": [
    "data['total_income'] = data['total_income'].astype(int)"
   ]
  },
  {
   "cell_type": "markdown",
   "id": "b8e3d1d9",
   "metadata": {
    "deletable": false,
    "editable": false,
    "id": "b8e3d1d9"
   },
   "source": [
    "### Обработка дубликатов"
   ]
  },
  {
   "cell_type": "markdown",
   "id": "9be53c49",
   "metadata": {
    "deletable": false,
    "editable": false,
    "id": "9be53c49"
   },
   "source": [
    "**Задание 14. Обработайте неявные дубликаты в столбце `education`. В этом столбце есть одни и те же значения, но записанные по-разному: с использованием заглавных и строчных букв. Приведите их к нижнему регистру.**"
   ]
  },
  {
   "cell_type": "code",
   "execution_count": 14,
   "id": "d89e73e1",
   "metadata": {
    "deletable": false,
    "id": "d89e73e1"
   },
   "outputs": [],
   "source": [
    "data['education'] = data['education'].str.lower()"
   ]
  },
  {
   "cell_type": "markdown",
   "id": "01d4500e",
   "metadata": {
    "deletable": false,
    "editable": false,
    "id": "01d4500e"
   },
   "source": [
    "**Задание 15. Выведите на экран количество строк-дубликатов в данных. Если такие строки присутствуют, удалите их.**"
   ]
  },
  {
   "cell_type": "code",
   "execution_count": 15,
   "id": "e10efb23",
   "metadata": {
    "deletable": false,
    "id": "e10efb23",
    "outputId": "9684deba-1934-42d1-99e1-cda61740f822"
   },
   "outputs": [
    {
     "data": {
      "text/plain": [
       "71"
      ]
     },
     "execution_count": 15,
     "metadata": {},
     "output_type": "execute_result"
    }
   ],
   "source": [
    "data.duplicated().sum()"
   ]
  },
  {
   "cell_type": "code",
   "execution_count": 16,
   "id": "df853f20",
   "metadata": {
    "deletable": false,
    "id": "df853f20"
   },
   "outputs": [],
   "source": [
    "data = data.drop_duplicates()"
   ]
  },
  {
   "cell_type": "markdown",
   "id": "627be38f",
   "metadata": {
    "deletable": false,
    "editable": false,
    "id": "627be38f"
   },
   "source": [
    "### Категоризация данных"
   ]
  },
  {
   "cell_type": "markdown",
   "id": "4684c3e0",
   "metadata": {
    "deletable": false,
    "editable": false,
    "id": "4684c3e0"
   },
   "source": [
    "**Задание 16. На основании диапазонов, указанных ниже, создайте в датафрейме `data` столбец `total_income_category` с категориями:**\n",
    "\n",
    "- 0–30000 — `'E'`;\n",
    "- 30001–50000 — `'D'`;\n",
    "- 50001–200000 — `'C'`;\n",
    "- 200001–1000000 — `'B'`;\n",
    "- 1000001 и выше — `'A'`.\n",
    "\n",
    "\n",
    "**Например, кредитополучателю с доходом 25000 нужно назначить категорию `'E'`, а клиенту, получающему 235000, — `'B'`. Используйте собственную функцию с именем `categorize_income()` и метод `apply()`.**"
   ]
  },
  {
   "cell_type": "code",
   "execution_count": 17,
   "id": "78965238",
   "metadata": {
    "deletable": false,
    "id": "78965238"
   },
   "outputs": [],
   "source": [
    "def categorize_income(income):\n",
    "    try:\n",
    "        if 0 <= income <= 30000:\n",
    "            return 'E'\n",
    "        elif 30001 <= income <= 50000:\n",
    "            return 'D'\n",
    "        elif 50001 <= income <= 200000:\n",
    "            return 'C'\n",
    "        elif 200001 <= income <= 1000000:\n",
    "            return 'B'\n",
    "        elif income >= 1000001:\n",
    "            return 'A'\n",
    "    except:\n",
    "        pass"
   ]
  },
  {
   "cell_type": "code",
   "execution_count": 18,
   "id": "0980ada1",
   "metadata": {
    "deletable": false,
    "id": "0980ada1"
   },
   "outputs": [],
   "source": [
    "data['total_income_category'] = data['total_income'].apply(categorize_income)"
   ]
  },
  {
   "cell_type": "markdown",
   "id": "9917bba0",
   "metadata": {
    "deletable": false,
    "editable": false,
    "id": "9917bba0"
   },
   "source": [
    "**Задание 17. Выведите на экран перечень уникальных целей взятия кредита из столбца `purpose`.**"
   ]
  },
  {
   "cell_type": "code",
   "execution_count": 19,
   "id": "ee07b65e",
   "metadata": {
    "deletable": false,
    "id": "ee07b65e",
    "outputId": "673c12d9-7d7e-4ae0-9812-c622c89dd244",
    "scrolled": true
   },
   "outputs": [
    {
     "data": {
      "text/plain": [
       "array(['покупка жилья', 'приобретение автомобиля',\n",
       "       'дополнительное образование', 'сыграть свадьбу',\n",
       "       'операции с жильем', 'образование', 'на проведение свадьбы',\n",
       "       'покупка жилья для семьи', 'покупка недвижимости',\n",
       "       'покупка коммерческой недвижимости', 'покупка жилой недвижимости',\n",
       "       'строительство собственной недвижимости', 'недвижимость',\n",
       "       'строительство недвижимости', 'на покупку подержанного автомобиля',\n",
       "       'на покупку своего автомобиля',\n",
       "       'операции с коммерческой недвижимостью',\n",
       "       'строительство жилой недвижимости', 'жилье',\n",
       "       'операции со своей недвижимостью', 'автомобили',\n",
       "       'заняться образованием', 'сделка с подержанным автомобилем',\n",
       "       'получение образования', 'автомобиль', 'свадьба',\n",
       "       'получение дополнительного образования', 'покупка своего жилья',\n",
       "       'операции с недвижимостью', 'получение высшего образования',\n",
       "       'свой автомобиль', 'сделка с автомобилем',\n",
       "       'профильное образование', 'высшее образование',\n",
       "       'покупка жилья для сдачи', 'на покупку автомобиля', 'ремонт жилью',\n",
       "       'заняться высшим образованием'], dtype=object)"
      ]
     },
     "execution_count": 19,
     "metadata": {},
     "output_type": "execute_result"
    }
   ],
   "source": [
    "data['purpose'].unique()"
   ]
  },
  {
   "cell_type": "markdown",
   "id": "52b79d56",
   "metadata": {
    "deletable": false,
    "editable": false,
    "id": "52b79d56"
   },
   "source": [
    "**Задание 18. Создайте функцию, которая на основании данных из столбца `purpose` сформирует новый столбец `purpose_category`, в который войдут следующие категории:**\n",
    "\n",
    "- `'операции с автомобилем'`,\n",
    "- `'операции с недвижимостью'`,\n",
    "- `'проведение свадьбы'`,\n",
    "- `'получение образования'`.\n",
    "\n",
    "**Например, если в столбце `purpose` находится подстрока `'на покупку автомобиля'`, то в столбце `purpose_category` должна появиться строка `'операции с автомобилем'`.**\n",
    "\n",
    "**Используйте собственную функцию с именем `categorize_purpose()` и метод `apply()`. Изучите данные в столбце `purpose` и определите, какие подстроки помогут вам правильно определить категорию.**"
   ]
  },
  {
   "cell_type": "code",
   "execution_count": 20,
   "id": "be41da5d",
   "metadata": {
    "deletable": false,
    "id": "be41da5d"
   },
   "outputs": [],
   "source": [
    "def categorize_purpose(row):\n",
    "    try:\n",
    "        if 'автом' in row:\n",
    "            return 'операции с автомобилем'\n",
    "        elif 'жил' in row or 'недвиж' in row:\n",
    "            return 'операции с недвижимостью'\n",
    "        elif 'свад' in row:\n",
    "            return 'проведение свадьбы'\n",
    "        elif 'образов' in row:\n",
    "            return 'получение образования'\n",
    "    except:\n",
    "        return 'нет категории'"
   ]
  },
  {
   "cell_type": "code",
   "execution_count": 21,
   "id": "94c4a19a",
   "metadata": {
    "deletable": false,
    "id": "94c4a19a"
   },
   "outputs": [],
   "source": [
    "data['purpose_category'] = data['purpose'].apply(categorize_purpose)"
   ]
  },
  {
   "cell_type": "markdown",
   "id": "3d596c34",
   "metadata": {
    "deletable": false,
    "editable": false,
    "id": "3d596c34"
   },
   "source": [
    "### Шаг 3. Исследуйте данные и ответьте на вопросы"
   ]
  },
  {
   "cell_type": "markdown",
   "id": "648db036",
   "metadata": {
    "deletable": false,
    "editable": false,
    "id": "648db036"
   },
   "source": [
    "#### 3.1 Есть ли зависимость между количеством детей и возвратом кредита в срок?"
   ]
  },
  {
   "cell_type": "code",
   "execution_count": 22,
   "id": "7fcff25e",
   "metadata": {
    "deletable": false,
    "id": "7fcff25e"
   },
   "outputs": [
    {
     "data": {
      "text/plain": [
       "0    13028\n",
       "1     4364\n",
       "2     1858\n",
       "3      303\n",
       "4       37\n",
       "5        9\n",
       "Name: children, dtype: int64"
      ]
     },
     "execution_count": 22,
     "metadata": {},
     "output_type": "execute_result"
    }
   ],
   "source": [
    "# Выведем данные по количеству детей среди тех, кто вернул кредит в срок: \n",
    "debt_0 = data.loc[data['debt'] == 0]\n",
    "debt_0['children'].value_counts()"
   ]
  },
  {
   "cell_type": "code",
   "execution_count": 23,
   "id": "8cdd567d",
   "metadata": {},
   "outputs": [
    {
     "data": {
      "text/plain": [
       "0    14091\n",
       "1     4808\n",
       "2     2052\n",
       "3      330\n",
       "4       41\n",
       "5        9\n",
       "Name: children, dtype: int64"
      ]
     },
     "execution_count": 23,
     "metadata": {},
     "output_type": "execute_result"
    }
   ],
   "source": [
    "# Выведем данные по количеству детей среди всех кредитовзятелей:\n",
    "data['children'].value_counts()"
   ]
  },
  {
   "cell_type": "code",
   "execution_count": 24,
   "id": "f93cdf32",
   "metadata": {},
   "outputs": [
    {
     "data": {
      "text/html": [
       "<div>\n",
       "<style scoped>\n",
       "    .dataframe tbody tr th:only-of-type {\n",
       "        vertical-align: middle;\n",
       "    }\n",
       "\n",
       "    .dataframe tbody tr th {\n",
       "        vertical-align: top;\n",
       "    }\n",
       "\n",
       "    .dataframe thead th {\n",
       "        text-align: right;\n",
       "    }\n",
       "</style>\n",
       "<table border=\"1\" class=\"dataframe\">\n",
       "  <thead>\n",
       "    <tr style=\"text-align: right;\">\n",
       "      <th></th>\n",
       "      <th>children</th>\n",
       "      <th>all</th>\n",
       "      <th>close_without debt</th>\n",
       "      <th>%</th>\n",
       "    </tr>\n",
       "  </thead>\n",
       "  <tbody>\n",
       "    <tr>\n",
       "      <th>5</th>\n",
       "      <td>5</td>\n",
       "      <td>9</td>\n",
       "      <td>9</td>\n",
       "      <td>1.000000</td>\n",
       "    </tr>\n",
       "    <tr>\n",
       "      <th>0</th>\n",
       "      <td>0</td>\n",
       "      <td>14091</td>\n",
       "      <td>13028</td>\n",
       "      <td>0.924562</td>\n",
       "    </tr>\n",
       "    <tr>\n",
       "      <th>3</th>\n",
       "      <td>3</td>\n",
       "      <td>330</td>\n",
       "      <td>303</td>\n",
       "      <td>0.918182</td>\n",
       "    </tr>\n",
       "    <tr>\n",
       "      <th>1</th>\n",
       "      <td>1</td>\n",
       "      <td>4808</td>\n",
       "      <td>4364</td>\n",
       "      <td>0.907654</td>\n",
       "    </tr>\n",
       "    <tr>\n",
       "      <th>2</th>\n",
       "      <td>2</td>\n",
       "      <td>2052</td>\n",
       "      <td>1858</td>\n",
       "      <td>0.905458</td>\n",
       "    </tr>\n",
       "    <tr>\n",
       "      <th>4</th>\n",
       "      <td>4</td>\n",
       "      <td>41</td>\n",
       "      <td>37</td>\n",
       "      <td>0.902439</td>\n",
       "    </tr>\n",
       "  </tbody>\n",
       "</table>\n",
       "</div>"
      ],
      "text/plain": [
       "  children    all  close_without debt         %\n",
       "5        5      9                   9  1.000000\n",
       "0        0  14091               13028  0.924562\n",
       "3        3    330                 303  0.918182\n",
       "1        1   4808                4364  0.907654\n",
       "2        2   2052                1858  0.905458\n",
       "4        4     41                  37  0.902439"
      ]
     },
     "execution_count": 24,
     "metadata": {},
     "output_type": "execute_result"
    }
   ],
   "source": [
    "# Создадит таблицу, с данными из двух предыдущих шагов:\n",
    "children = [\n",
    "    ['0', 14091, 13028],\n",
    "    ['1', 4808, 4364],\n",
    "    ['2', 2052, 1858],\n",
    "    ['3', 330, 303],\n",
    "    ['4', 41, 37],\n",
    "    ['5', 9, 9]\n",
    "]\n",
    "columns = ['children', 'all', 'close_without debt']\n",
    "data_children = pd.DataFrame(data = children, columns = columns)\n",
    "\n",
    "# Добавим в таблицу дополнительный столбец '%'с данными о том, какой процент кредитовзятелей из общего числа закрыли кредит в срок: \n",
    "data_children['%'] = data_children['close_without debt'] / data_children['all']\n",
    "data_children.sort_values(by='%', ascending = False)"
   ]
  },
  {
   "cell_type": "markdown",
   "id": "2eb9088e",
   "metadata": {
    "deletable": false,
    "id": "2eb9088e"
   },
   "source": [
    "**Вывод:**\n",
    "Заемщики с 5-ю детьми имеют 100% закрываемость кредитов. Далее за ними идут заемщики без детей, у них процент закрытия равен 92%. Наихудщая закрываеомсть кредитов у заемщиков с 4 детьми (90%)"
   ]
  },
  {
   "cell_type": "markdown",
   "id": "74c9b3a7",
   "metadata": {
    "deletable": false,
    "editable": false,
    "id": "74c9b3a7"
   },
   "source": [
    "#### 3.2 Есть ли зависимость между семейным положением и возвратом кредита в срок?"
   ]
  },
  {
   "cell_type": "code",
   "execution_count": 25,
   "id": "8098ab3b",
   "metadata": {
    "deletable": false,
    "id": "8098ab3b"
   },
   "outputs": [
    {
     "data": {
      "text/plain": [
       "женат / замужем          11334\n",
       "гражданский брак          3749\n",
       "Не женат / не замужем     2523\n",
       "в разводе                 1105\n",
       "вдовец / вдова             888\n",
       "Name: family_status, dtype: int64"
      ]
     },
     "execution_count": 25,
     "metadata": {},
     "output_type": "execute_result"
    }
   ],
   "source": [
    "# Выведем данные по семейному положению среди тех, кто вернул кредит в срок: \n",
    "debt_0['family_status'].value_counts()"
   ]
  },
  {
   "cell_type": "code",
   "execution_count": 26,
   "id": "be0704b5",
   "metadata": {},
   "outputs": [
    {
     "data": {
      "text/plain": [
       "женат / замужем          12261\n",
       "гражданский брак          4134\n",
       "Не женат / не замужем     2796\n",
       "в разводе                 1189\n",
       "вдовец / вдова             951\n",
       "Name: family_status, dtype: int64"
      ]
     },
     "execution_count": 26,
     "metadata": {},
     "output_type": "execute_result"
    }
   ],
   "source": [
    "# Выведем данные по семейному положению среди всех кредитовзятелей:\n",
    "data['family_status'].value_counts()"
   ]
  },
  {
   "cell_type": "code",
   "execution_count": 27,
   "id": "2fd68759",
   "metadata": {},
   "outputs": [
    {
     "data": {
      "text/html": [
       "<div>\n",
       "<style scoped>\n",
       "    .dataframe tbody tr th:only-of-type {\n",
       "        vertical-align: middle;\n",
       "    }\n",
       "\n",
       "    .dataframe tbody tr th {\n",
       "        vertical-align: top;\n",
       "    }\n",
       "\n",
       "    .dataframe thead th {\n",
       "        text-align: right;\n",
       "    }\n",
       "</style>\n",
       "<table border=\"1\" class=\"dataframe\">\n",
       "  <thead>\n",
       "    <tr style=\"text-align: right;\">\n",
       "      <th></th>\n",
       "      <th>family_status</th>\n",
       "      <th>all</th>\n",
       "      <th>close_without debt</th>\n",
       "      <th>%</th>\n",
       "    </tr>\n",
       "  </thead>\n",
       "  <tbody>\n",
       "    <tr>\n",
       "      <th>4</th>\n",
       "      <td>вдовец / вдова</td>\n",
       "      <td>951</td>\n",
       "      <td>888</td>\n",
       "      <td>0.933754</td>\n",
       "    </tr>\n",
       "    <tr>\n",
       "      <th>3</th>\n",
       "      <td>в разводе</td>\n",
       "      <td>1189</td>\n",
       "      <td>1105</td>\n",
       "      <td>0.929352</td>\n",
       "    </tr>\n",
       "    <tr>\n",
       "      <th>0</th>\n",
       "      <td>женат / замужем</td>\n",
       "      <td>12261</td>\n",
       "      <td>11334</td>\n",
       "      <td>0.924394</td>\n",
       "    </tr>\n",
       "    <tr>\n",
       "      <th>1</th>\n",
       "      <td>гражданский брак</td>\n",
       "      <td>4134</td>\n",
       "      <td>3749</td>\n",
       "      <td>0.906870</td>\n",
       "    </tr>\n",
       "    <tr>\n",
       "      <th>2</th>\n",
       "      <td>Не женат / не замужем</td>\n",
       "      <td>2796</td>\n",
       "      <td>2523</td>\n",
       "      <td>0.902361</td>\n",
       "    </tr>\n",
       "  </tbody>\n",
       "</table>\n",
       "</div>"
      ],
      "text/plain": [
       "           family_status    all  close_without debt         %\n",
       "4         вдовец / вдова    951                 888  0.933754\n",
       "3              в разводе   1189                1105  0.929352\n",
       "0        женат / замужем  12261               11334  0.924394\n",
       "1       гражданский брак   4134                3749  0.906870\n",
       "2  Не женат / не замужем   2796                2523  0.902361"
      ]
     },
     "execution_count": 27,
     "metadata": {},
     "output_type": "execute_result"
    }
   ],
   "source": [
    "# Создадит таблицу, с данными из двух предыдущих шагов:\n",
    "family_status = [\n",
    "    ['женат / замужем', 12261, 11334],\n",
    "    ['гражданский брак', 4134, 3749],\n",
    "    ['Не женат / не замужем', 2796, 2523],\n",
    "    ['в разводе', 1189, 1105],\n",
    "    ['вдовец / вдова', 951, 888]\n",
    "]\n",
    "columns = ['family_status', 'all', 'close_without debt']\n",
    "data_family_status = pd.DataFrame(data = family_status, columns = columns)\n",
    "\n",
    "# Добавим в таблицу дополнительный столбец '%'с данными о том, какой процент кредитовзятелей из общего числа закрыли кредит в срок: \n",
    "data_family_status['%'] = data_family_status['close_without debt'] / data_family_status['all'] \n",
    "data_family_status.sort_values(by='%', ascending = False)"
   ]
  },
  {
   "cell_type": "markdown",
   "id": "c389ca63",
   "metadata": {
    "deletable": false,
    "id": "c389ca63"
   },
   "source": [
    "**Вывод:** \n",
    "Заемщики в семейном положении \"вдовец/вдова\" имеют наилучший % закрытия кредита в срок (93%). Наихудший % закрытия у тех, кто в гражданском браке (90%)."
   ]
  },
  {
   "cell_type": "markdown",
   "id": "9529de68",
   "metadata": {
    "deletable": false,
    "editable": false,
    "id": "9529de68"
   },
   "source": [
    "#### 3.3 Есть ли зависимость между уровнем дохода и возвратом кредита в срок?"
   ]
  },
  {
   "cell_type": "code",
   "execution_count": 28,
   "id": "8787f44a",
   "metadata": {
    "deletable": false,
    "id": "8787f44a"
   },
   "outputs": [
    {
     "data": {
      "text/plain": [
       "C    14568\n",
       "B     4660\n",
       "D      328\n",
       "A       23\n",
       "E       20\n",
       "Name: total_income_category, dtype: int64"
      ]
     },
     "execution_count": 28,
     "metadata": {},
     "output_type": "execute_result"
    }
   ],
   "source": [
    "# Выведем данные по уровню дохода среди тех, кто вернул кредит в срок: \n",
    "debt_0['total_income_category'].value_counts()"
   ]
  },
  {
   "cell_type": "code",
   "execution_count": 29,
   "id": "84ca2efa",
   "metadata": {},
   "outputs": [
    {
     "data": {
      "text/plain": [
       "C    15921\n",
       "B     5014\n",
       "D      349\n",
       "A       25\n",
       "E       22\n",
       "Name: total_income_category, dtype: int64"
      ]
     },
     "execution_count": 29,
     "metadata": {},
     "output_type": "execute_result"
    }
   ],
   "source": [
    "# Выведем данные по семейному положению среди всех кредитовзятелей:\n",
    "data['total_income_category'].value_counts()"
   ]
  },
  {
   "cell_type": "code",
   "execution_count": 30,
   "id": "779d068e",
   "metadata": {},
   "outputs": [
    {
     "data": {
      "text/html": [
       "<div>\n",
       "<style scoped>\n",
       "    .dataframe tbody tr th:only-of-type {\n",
       "        vertical-align: middle;\n",
       "    }\n",
       "\n",
       "    .dataframe tbody tr th {\n",
       "        vertical-align: top;\n",
       "    }\n",
       "\n",
       "    .dataframe thead th {\n",
       "        text-align: right;\n",
       "    }\n",
       "</style>\n",
       "<table border=\"1\" class=\"dataframe\">\n",
       "  <thead>\n",
       "    <tr style=\"text-align: right;\">\n",
       "      <th></th>\n",
       "      <th>total_income_category</th>\n",
       "      <th>all</th>\n",
       "      <th>close_without debt</th>\n",
       "      <th>%</th>\n",
       "    </tr>\n",
       "  </thead>\n",
       "  <tbody>\n",
       "    <tr>\n",
       "      <th>2</th>\n",
       "      <td>30 001 - 50 000</td>\n",
       "      <td>349</td>\n",
       "      <td>328</td>\n",
       "      <td>0.939828</td>\n",
       "    </tr>\n",
       "    <tr>\n",
       "      <th>1</th>\n",
       "      <td>200 001 - 1 000 000</td>\n",
       "      <td>5014</td>\n",
       "      <td>4660</td>\n",
       "      <td>0.929398</td>\n",
       "    </tr>\n",
       "    <tr>\n",
       "      <th>3</th>\n",
       "      <td>1 000 001 и выше</td>\n",
       "      <td>25</td>\n",
       "      <td>23</td>\n",
       "      <td>0.920000</td>\n",
       "    </tr>\n",
       "    <tr>\n",
       "      <th>0</th>\n",
       "      <td>50 001 - 200 000</td>\n",
       "      <td>15921</td>\n",
       "      <td>14568</td>\n",
       "      <td>0.915018</td>\n",
       "    </tr>\n",
       "    <tr>\n",
       "      <th>4</th>\n",
       "      <td>0 - 30 000</td>\n",
       "      <td>22</td>\n",
       "      <td>20</td>\n",
       "      <td>0.909091</td>\n",
       "    </tr>\n",
       "  </tbody>\n",
       "</table>\n",
       "</div>"
      ],
      "text/plain": [
       "  total_income_category    all  close_without debt         %\n",
       "2       30 001 - 50 000    349                 328  0.939828\n",
       "1   200 001 - 1 000 000   5014                4660  0.929398\n",
       "3      1 000 001 и выше     25                  23  0.920000\n",
       "0      50 001 - 200 000  15921               14568  0.915018\n",
       "4            0 - 30 000     22                  20  0.909091"
      ]
     },
     "execution_count": 30,
     "metadata": {},
     "output_type": "execute_result"
    }
   ],
   "source": [
    "# Создадит таблицу с данными из двух предыдущих шагов:\n",
    "total_income_category = [\n",
    "    ['50 001 - 200 000', 15921, 14568],\n",
    "    ['200 001 - 1 000 000', 5014, 4660],\n",
    "    ['30 001 - 50 000', 349, 328],\n",
    "    ['1 000 001 и выше', 25, 23],\n",
    "    ['0 - 30 000', 22, 20]\n",
    "]\n",
    "columns = ['total_income_category', 'all', 'close_without debt']\n",
    "data_total_income_category = pd.DataFrame(data = total_income_category, columns = columns)\n",
    "\n",
    "# Добавим в таблицу дополнительный столбец '%'с данными о том, какой процент кредитовзятелей из общего числа закрыли кредит в срок: \n",
    "data_total_income_category['%'] = data_total_income_category['close_without debt'] / data_total_income_category['all'] \n",
    "data_total_income_category.sort_values(by='%', ascending = False)"
   ]
  },
  {
   "cell_type": "markdown",
   "id": "6dd14b57",
   "metadata": {
    "deletable": false,
    "id": "6dd14b57"
   },
   "source": [
    "**Вывод:** \n",
    "Заемщики c доходом от \"30 001 до 50 000\" имеют наилучший % закрытия кредита в срок (93,98%). Наихудший % закрытия у заемщиков с доходом до 30 000."
   ]
  },
  {
   "cell_type": "markdown",
   "id": "1dcc9b12",
   "metadata": {
    "deletable": false,
    "editable": false,
    "id": "1dcc9b12"
   },
   "source": [
    "#### 3.4 Как разные цели кредита влияют на его возврат в срок?"
   ]
  },
  {
   "cell_type": "code",
   "execution_count": 31,
   "id": "c602bc8b",
   "metadata": {
    "deletable": false,
    "id": "c602bc8b"
   },
   "outputs": [
    {
     "data": {
      "text/plain": [
       "операции с недвижимостью    9971\n",
       "операции с автомобилем      3879\n",
       "получение образования       3619\n",
       "проведение свадьбы          2130\n",
       "Name: purpose_category, dtype: int64"
      ]
     },
     "execution_count": 31,
     "metadata": {},
     "output_type": "execute_result"
    }
   ],
   "source": [
    "# Выведем данные по целям среди тех, кто вернул кредит в срок:\n",
    "debt_0['purpose_category'].value_counts()"
   ]
  },
  {
   "cell_type": "code",
   "execution_count": 32,
   "id": "7470dc01",
   "metadata": {},
   "outputs": [
    {
     "data": {
      "text/plain": [
       "операции с недвижимостью    10751\n",
       "операции с автомобилем       4279\n",
       "получение образования        3988\n",
       "проведение свадьбы           2313\n",
       "Name: purpose_category, dtype: int64"
      ]
     },
     "execution_count": 32,
     "metadata": {},
     "output_type": "execute_result"
    }
   ],
   "source": [
    "# Выведем данные по целям среди всех кредитовзятелей:\n",
    "data['purpose_category'].value_counts()"
   ]
  },
  {
   "cell_type": "code",
   "execution_count": 33,
   "id": "326db25c",
   "metadata": {},
   "outputs": [
    {
     "data": {
      "text/html": [
       "<div>\n",
       "<style scoped>\n",
       "    .dataframe tbody tr th:only-of-type {\n",
       "        vertical-align: middle;\n",
       "    }\n",
       "\n",
       "    .dataframe tbody tr th {\n",
       "        vertical-align: top;\n",
       "    }\n",
       "\n",
       "    .dataframe thead th {\n",
       "        text-align: right;\n",
       "    }\n",
       "</style>\n",
       "<table border=\"1\" class=\"dataframe\">\n",
       "  <thead>\n",
       "    <tr style=\"text-align: right;\">\n",
       "      <th></th>\n",
       "      <th>purpose</th>\n",
       "      <th>all</th>\n",
       "      <th>close_without debt</th>\n",
       "      <th>%</th>\n",
       "    </tr>\n",
       "  </thead>\n",
       "  <tbody>\n",
       "    <tr>\n",
       "      <th>0</th>\n",
       "      <td>операции с недвижимостью</td>\n",
       "      <td>10751</td>\n",
       "      <td>9971</td>\n",
       "      <td>0.927449</td>\n",
       "    </tr>\n",
       "    <tr>\n",
       "      <th>3</th>\n",
       "      <td>проведение свадьбы</td>\n",
       "      <td>2313</td>\n",
       "      <td>2130</td>\n",
       "      <td>0.920882</td>\n",
       "    </tr>\n",
       "    <tr>\n",
       "      <th>2</th>\n",
       "      <td>получение образования</td>\n",
       "      <td>3988</td>\n",
       "      <td>3619</td>\n",
       "      <td>0.907472</td>\n",
       "    </tr>\n",
       "    <tr>\n",
       "      <th>1</th>\n",
       "      <td>операции с автомобилем</td>\n",
       "      <td>4279</td>\n",
       "      <td>3879</td>\n",
       "      <td>0.906520</td>\n",
       "    </tr>\n",
       "  </tbody>\n",
       "</table>\n",
       "</div>"
      ],
      "text/plain": [
       "                    purpose    all  close_without debt         %\n",
       "0  операции с недвижимостью  10751                9971  0.927449\n",
       "3        проведение свадьбы   2313                2130  0.920882\n",
       "2     получение образования   3988                3619  0.907472\n",
       "1    операции с автомобилем   4279                3879  0.906520"
      ]
     },
     "execution_count": 33,
     "metadata": {},
     "output_type": "execute_result"
    }
   ],
   "source": [
    "# Создадит таблицу с данными из двух предыдущих шагов:\n",
    "purpose = [\n",
    "    ['операции с недвижимостью', 10751, 9971],\n",
    "    ['операции с автомобилем', 4279, 3879],\n",
    "    ['получение образования', 3988, 3619],\n",
    "    ['проведение свадьбы', 2313, 2130]\n",
    "]\n",
    "columns = ['purpose', 'all', 'close_without debt']\n",
    "data_purpose = pd.DataFrame(data = purpose, columns = columns)\n",
    "\n",
    "# Добавим в таблицу дополнительный столбец '%'с данными о том, какой процент кредитовзятелей из общего числа закрыли кредит в срок: \n",
    "data_purpose['%'] = data_purpose['close_without debt'] / data_purpose['all'] \n",
    "data_purpose.sort_values(by='%', ascending = False)"
   ]
  },
  {
   "cell_type": "markdown",
   "id": "cf05ed63",
   "metadata": {
    "deletable": false,
    "id": "cf05ed63"
   },
   "source": [
    "**Вывод:** \n",
    "У кредитов с целью \"операции с недвижимостью\" наилучшее закрывание (92,7%). Далее идут кредиты с целью \"проведение свадьбы\" (92%). Наихудшая закрываемость у кредитов с целью \"на операции с автомобилем\" (90%). "
   ]
  },
  {
   "cell_type": "markdown",
   "id": "46c1f10b",
   "metadata": {
    "deletable": false,
    "editable": false,
    "id": "46c1f10b"
   },
   "source": [
    "#### 3.5 Приведите возможные причины появления пропусков в исходных данных."
   ]
  },
  {
   "cell_type": "code",
   "execution_count": 34,
   "id": "44abfd6f",
   "metadata": {
    "scrolled": true
   },
   "outputs": [
    {
     "data": {
      "text/html": [
       "<div>\n",
       "<style scoped>\n",
       "    .dataframe tbody tr th:only-of-type {\n",
       "        vertical-align: middle;\n",
       "    }\n",
       "\n",
       "    .dataframe tbody tr th {\n",
       "        vertical-align: top;\n",
       "    }\n",
       "\n",
       "    .dataframe thead th {\n",
       "        text-align: right;\n",
       "    }\n",
       "</style>\n",
       "<table border=\"1\" class=\"dataframe\">\n",
       "  <thead>\n",
       "    <tr style=\"text-align: right;\">\n",
       "      <th></th>\n",
       "      <th>children</th>\n",
       "      <th>days_employed</th>\n",
       "      <th>dob_years</th>\n",
       "      <th>education</th>\n",
       "      <th>education_id</th>\n",
       "      <th>family_status</th>\n",
       "      <th>family_status_id</th>\n",
       "      <th>gender</th>\n",
       "      <th>income_type</th>\n",
       "      <th>debt</th>\n",
       "      <th>total_income</th>\n",
       "      <th>purpose</th>\n",
       "    </tr>\n",
       "  </thead>\n",
       "  <tbody>\n",
       "    <tr>\n",
       "      <th>12</th>\n",
       "      <td>0</td>\n",
       "      <td>NaN</td>\n",
       "      <td>65</td>\n",
       "      <td>среднее</td>\n",
       "      <td>1</td>\n",
       "      <td>гражданский брак</td>\n",
       "      <td>1</td>\n",
       "      <td>M</td>\n",
       "      <td>пенсионер</td>\n",
       "      <td>0</td>\n",
       "      <td>NaN</td>\n",
       "      <td>сыграть свадьбу</td>\n",
       "    </tr>\n",
       "    <tr>\n",
       "      <th>26</th>\n",
       "      <td>0</td>\n",
       "      <td>NaN</td>\n",
       "      <td>41</td>\n",
       "      <td>среднее</td>\n",
       "      <td>1</td>\n",
       "      <td>женат / замужем</td>\n",
       "      <td>0</td>\n",
       "      <td>M</td>\n",
       "      <td>госслужащий</td>\n",
       "      <td>0</td>\n",
       "      <td>NaN</td>\n",
       "      <td>образование</td>\n",
       "    </tr>\n",
       "    <tr>\n",
       "      <th>29</th>\n",
       "      <td>0</td>\n",
       "      <td>NaN</td>\n",
       "      <td>63</td>\n",
       "      <td>среднее</td>\n",
       "      <td>1</td>\n",
       "      <td>Не женат / не замужем</td>\n",
       "      <td>4</td>\n",
       "      <td>F</td>\n",
       "      <td>пенсионер</td>\n",
       "      <td>0</td>\n",
       "      <td>NaN</td>\n",
       "      <td>строительство жилой недвижимости</td>\n",
       "    </tr>\n",
       "    <tr>\n",
       "      <th>41</th>\n",
       "      <td>0</td>\n",
       "      <td>NaN</td>\n",
       "      <td>50</td>\n",
       "      <td>среднее</td>\n",
       "      <td>1</td>\n",
       "      <td>женат / замужем</td>\n",
       "      <td>0</td>\n",
       "      <td>F</td>\n",
       "      <td>госслужащий</td>\n",
       "      <td>0</td>\n",
       "      <td>NaN</td>\n",
       "      <td>сделка с подержанным автомобилем</td>\n",
       "    </tr>\n",
       "    <tr>\n",
       "      <th>55</th>\n",
       "      <td>0</td>\n",
       "      <td>NaN</td>\n",
       "      <td>54</td>\n",
       "      <td>среднее</td>\n",
       "      <td>1</td>\n",
       "      <td>гражданский брак</td>\n",
       "      <td>1</td>\n",
       "      <td>F</td>\n",
       "      <td>пенсионер</td>\n",
       "      <td>1</td>\n",
       "      <td>NaN</td>\n",
       "      <td>сыграть свадьбу</td>\n",
       "    </tr>\n",
       "    <tr>\n",
       "      <th>65</th>\n",
       "      <td>0</td>\n",
       "      <td>NaN</td>\n",
       "      <td>21</td>\n",
       "      <td>среднее</td>\n",
       "      <td>1</td>\n",
       "      <td>Не женат / не замужем</td>\n",
       "      <td>4</td>\n",
       "      <td>M</td>\n",
       "      <td>компаньон</td>\n",
       "      <td>0</td>\n",
       "      <td>NaN</td>\n",
       "      <td>операции с коммерческой недвижимостью</td>\n",
       "    </tr>\n",
       "    <tr>\n",
       "      <th>67</th>\n",
       "      <td>0</td>\n",
       "      <td>NaN</td>\n",
       "      <td>52</td>\n",
       "      <td>высшее</td>\n",
       "      <td>0</td>\n",
       "      <td>женат / замужем</td>\n",
       "      <td>0</td>\n",
       "      <td>F</td>\n",
       "      <td>пенсионер</td>\n",
       "      <td>0</td>\n",
       "      <td>NaN</td>\n",
       "      <td>покупка жилья для семьи</td>\n",
       "    </tr>\n",
       "    <tr>\n",
       "      <th>72</th>\n",
       "      <td>1</td>\n",
       "      <td>NaN</td>\n",
       "      <td>32</td>\n",
       "      <td>высшее</td>\n",
       "      <td>0</td>\n",
       "      <td>женат / замужем</td>\n",
       "      <td>0</td>\n",
       "      <td>M</td>\n",
       "      <td>госслужащий</td>\n",
       "      <td>0</td>\n",
       "      <td>NaN</td>\n",
       "      <td>операции с коммерческой недвижимостью</td>\n",
       "    </tr>\n",
       "    <tr>\n",
       "      <th>82</th>\n",
       "      <td>2</td>\n",
       "      <td>NaN</td>\n",
       "      <td>50</td>\n",
       "      <td>высшее</td>\n",
       "      <td>0</td>\n",
       "      <td>женат / замужем</td>\n",
       "      <td>0</td>\n",
       "      <td>F</td>\n",
       "      <td>сотрудник</td>\n",
       "      <td>0</td>\n",
       "      <td>NaN</td>\n",
       "      <td>жилье</td>\n",
       "    </tr>\n",
       "    <tr>\n",
       "      <th>83</th>\n",
       "      <td>0</td>\n",
       "      <td>NaN</td>\n",
       "      <td>52</td>\n",
       "      <td>среднее</td>\n",
       "      <td>1</td>\n",
       "      <td>женат / замужем</td>\n",
       "      <td>0</td>\n",
       "      <td>M</td>\n",
       "      <td>сотрудник</td>\n",
       "      <td>0</td>\n",
       "      <td>NaN</td>\n",
       "      <td>жилье</td>\n",
       "    </tr>\n",
       "    <tr>\n",
       "      <th>90</th>\n",
       "      <td>2</td>\n",
       "      <td>NaN</td>\n",
       "      <td>35</td>\n",
       "      <td>высшее</td>\n",
       "      <td>0</td>\n",
       "      <td>женат / замужем</td>\n",
       "      <td>0</td>\n",
       "      <td>F</td>\n",
       "      <td>сотрудник</td>\n",
       "      <td>0</td>\n",
       "      <td>NaN</td>\n",
       "      <td>операции с жильем</td>\n",
       "    </tr>\n",
       "    <tr>\n",
       "      <th>94</th>\n",
       "      <td>1</td>\n",
       "      <td>NaN</td>\n",
       "      <td>34</td>\n",
       "      <td>высшее</td>\n",
       "      <td>0</td>\n",
       "      <td>гражданский брак</td>\n",
       "      <td>1</td>\n",
       "      <td>F</td>\n",
       "      <td>компаньон</td>\n",
       "      <td>0</td>\n",
       "      <td>NaN</td>\n",
       "      <td>на проведение свадьбы</td>\n",
       "    </tr>\n",
       "    <tr>\n",
       "      <th>96</th>\n",
       "      <td>0</td>\n",
       "      <td>NaN</td>\n",
       "      <td>44</td>\n",
       "      <td>СРЕДНЕЕ</td>\n",
       "      <td>1</td>\n",
       "      <td>женат / замужем</td>\n",
       "      <td>0</td>\n",
       "      <td>F</td>\n",
       "      <td>сотрудник</td>\n",
       "      <td>0</td>\n",
       "      <td>NaN</td>\n",
       "      <td>покупка жилой недвижимости</td>\n",
       "    </tr>\n",
       "    <tr>\n",
       "      <th>97</th>\n",
       "      <td>0</td>\n",
       "      <td>NaN</td>\n",
       "      <td>47</td>\n",
       "      <td>высшее</td>\n",
       "      <td>0</td>\n",
       "      <td>женат / замужем</td>\n",
       "      <td>0</td>\n",
       "      <td>F</td>\n",
       "      <td>сотрудник</td>\n",
       "      <td>0</td>\n",
       "      <td>NaN</td>\n",
       "      <td>профильное образование</td>\n",
       "    </tr>\n",
       "    <tr>\n",
       "      <th>120</th>\n",
       "      <td>0</td>\n",
       "      <td>NaN</td>\n",
       "      <td>46</td>\n",
       "      <td>среднее</td>\n",
       "      <td>1</td>\n",
       "      <td>женат / замужем</td>\n",
       "      <td>0</td>\n",
       "      <td>F</td>\n",
       "      <td>сотрудник</td>\n",
       "      <td>0</td>\n",
       "      <td>NaN</td>\n",
       "      <td>высшее образование</td>\n",
       "    </tr>\n",
       "    <tr>\n",
       "      <th>121</th>\n",
       "      <td>0</td>\n",
       "      <td>NaN</td>\n",
       "      <td>29</td>\n",
       "      <td>высшее</td>\n",
       "      <td>0</td>\n",
       "      <td>женат / замужем</td>\n",
       "      <td>0</td>\n",
       "      <td>F</td>\n",
       "      <td>компаньон</td>\n",
       "      <td>0</td>\n",
       "      <td>NaN</td>\n",
       "      <td>автомобиль</td>\n",
       "    </tr>\n",
       "    <tr>\n",
       "      <th>135</th>\n",
       "      <td>0</td>\n",
       "      <td>NaN</td>\n",
       "      <td>27</td>\n",
       "      <td>среднее</td>\n",
       "      <td>1</td>\n",
       "      <td>женат / замужем</td>\n",
       "      <td>0</td>\n",
       "      <td>M</td>\n",
       "      <td>компаньон</td>\n",
       "      <td>0</td>\n",
       "      <td>NaN</td>\n",
       "      <td>жилье</td>\n",
       "    </tr>\n",
       "    <tr>\n",
       "      <th>141</th>\n",
       "      <td>0</td>\n",
       "      <td>NaN</td>\n",
       "      <td>39</td>\n",
       "      <td>среднее</td>\n",
       "      <td>1</td>\n",
       "      <td>гражданский брак</td>\n",
       "      <td>1</td>\n",
       "      <td>M</td>\n",
       "      <td>сотрудник</td>\n",
       "      <td>0</td>\n",
       "      <td>NaN</td>\n",
       "      <td>свадьба</td>\n",
       "    </tr>\n",
       "    <tr>\n",
       "      <th>145</th>\n",
       "      <td>0</td>\n",
       "      <td>NaN</td>\n",
       "      <td>62</td>\n",
       "      <td>среднее</td>\n",
       "      <td>1</td>\n",
       "      <td>женат / замужем</td>\n",
       "      <td>0</td>\n",
       "      <td>M</td>\n",
       "      <td>пенсионер</td>\n",
       "      <td>0</td>\n",
       "      <td>NaN</td>\n",
       "      <td>строительство недвижимости</td>\n",
       "    </tr>\n",
       "    <tr>\n",
       "      <th>174</th>\n",
       "      <td>0</td>\n",
       "      <td>NaN</td>\n",
       "      <td>55</td>\n",
       "      <td>высшее</td>\n",
       "      <td>0</td>\n",
       "      <td>вдовец / вдова</td>\n",
       "      <td>2</td>\n",
       "      <td>F</td>\n",
       "      <td>компаньон</td>\n",
       "      <td>0</td>\n",
       "      <td>NaN</td>\n",
       "      <td>свой автомобиль</td>\n",
       "    </tr>\n",
       "    <tr>\n",
       "      <th>181</th>\n",
       "      <td>0</td>\n",
       "      <td>NaN</td>\n",
       "      <td>26</td>\n",
       "      <td>среднее</td>\n",
       "      <td>1</td>\n",
       "      <td>гражданский брак</td>\n",
       "      <td>1</td>\n",
       "      <td>F</td>\n",
       "      <td>компаньон</td>\n",
       "      <td>1</td>\n",
       "      <td>NaN</td>\n",
       "      <td>покупка жилья для семьи</td>\n",
       "    </tr>\n",
       "    <tr>\n",
       "      <th>189</th>\n",
       "      <td>1</td>\n",
       "      <td>NaN</td>\n",
       "      <td>30</td>\n",
       "      <td>среднее</td>\n",
       "      <td>1</td>\n",
       "      <td>Не женат / не замужем</td>\n",
       "      <td>4</td>\n",
       "      <td>F</td>\n",
       "      <td>сотрудник</td>\n",
       "      <td>0</td>\n",
       "      <td>NaN</td>\n",
       "      <td>свой автомобиль</td>\n",
       "    </tr>\n",
       "    <tr>\n",
       "      <th>205</th>\n",
       "      <td>1</td>\n",
       "      <td>NaN</td>\n",
       "      <td>31</td>\n",
       "      <td>высшее</td>\n",
       "      <td>0</td>\n",
       "      <td>женат / замужем</td>\n",
       "      <td>0</td>\n",
       "      <td>F</td>\n",
       "      <td>сотрудник</td>\n",
       "      <td>0</td>\n",
       "      <td>NaN</td>\n",
       "      <td>на покупку подержанного автомобиля</td>\n",
       "    </tr>\n",
       "    <tr>\n",
       "      <th>220</th>\n",
       "      <td>1</td>\n",
       "      <td>NaN</td>\n",
       "      <td>23</td>\n",
       "      <td>неоконченное высшее</td>\n",
       "      <td>2</td>\n",
       "      <td>гражданский брак</td>\n",
       "      <td>1</td>\n",
       "      <td>F</td>\n",
       "      <td>компаньон</td>\n",
       "      <td>0</td>\n",
       "      <td>NaN</td>\n",
       "      <td>сыграть свадьбу</td>\n",
       "    </tr>\n",
       "    <tr>\n",
       "      <th>241</th>\n",
       "      <td>0</td>\n",
       "      <td>NaN</td>\n",
       "      <td>47</td>\n",
       "      <td>среднее</td>\n",
       "      <td>1</td>\n",
       "      <td>женат / замужем</td>\n",
       "      <td>0</td>\n",
       "      <td>M</td>\n",
       "      <td>сотрудник</td>\n",
       "      <td>0</td>\n",
       "      <td>NaN</td>\n",
       "      <td>строительство собственной недвижимости</td>\n",
       "    </tr>\n",
       "    <tr>\n",
       "      <th>242</th>\n",
       "      <td>0</td>\n",
       "      <td>NaN</td>\n",
       "      <td>58</td>\n",
       "      <td>среднее</td>\n",
       "      <td>1</td>\n",
       "      <td>женат / замужем</td>\n",
       "      <td>0</td>\n",
       "      <td>F</td>\n",
       "      <td>госслужащий</td>\n",
       "      <td>0</td>\n",
       "      <td>NaN</td>\n",
       "      <td>покупка своего жилья</td>\n",
       "    </tr>\n",
       "    <tr>\n",
       "      <th>247</th>\n",
       "      <td>1</td>\n",
       "      <td>NaN</td>\n",
       "      <td>60</td>\n",
       "      <td>высшее</td>\n",
       "      <td>0</td>\n",
       "      <td>женат / замужем</td>\n",
       "      <td>0</td>\n",
       "      <td>F</td>\n",
       "      <td>пенсионер</td>\n",
       "      <td>1</td>\n",
       "      <td>NaN</td>\n",
       "      <td>заняться высшим образованием</td>\n",
       "    </tr>\n",
       "    <tr>\n",
       "      <th>250</th>\n",
       "      <td>0</td>\n",
       "      <td>NaN</td>\n",
       "      <td>54</td>\n",
       "      <td>высшее</td>\n",
       "      <td>0</td>\n",
       "      <td>женат / замужем</td>\n",
       "      <td>0</td>\n",
       "      <td>F</td>\n",
       "      <td>сотрудник</td>\n",
       "      <td>0</td>\n",
       "      <td>NaN</td>\n",
       "      <td>сделка с подержанным автомобилем</td>\n",
       "    </tr>\n",
       "    <tr>\n",
       "      <th>264</th>\n",
       "      <td>2</td>\n",
       "      <td>NaN</td>\n",
       "      <td>40</td>\n",
       "      <td>среднее</td>\n",
       "      <td>1</td>\n",
       "      <td>в разводе</td>\n",
       "      <td>3</td>\n",
       "      <td>F</td>\n",
       "      <td>сотрудник</td>\n",
       "      <td>0</td>\n",
       "      <td>NaN</td>\n",
       "      <td>недвижимость</td>\n",
       "    </tr>\n",
       "    <tr>\n",
       "      <th>278</th>\n",
       "      <td>1</td>\n",
       "      <td>NaN</td>\n",
       "      <td>23</td>\n",
       "      <td>Среднее</td>\n",
       "      <td>1</td>\n",
       "      <td>гражданский брак</td>\n",
       "      <td>1</td>\n",
       "      <td>F</td>\n",
       "      <td>сотрудник</td>\n",
       "      <td>1</td>\n",
       "      <td>NaN</td>\n",
       "      <td>автомобиль</td>\n",
       "    </tr>\n",
       "  </tbody>\n",
       "</table>\n",
       "</div>"
      ],
      "text/plain": [
       "     children  days_employed  dob_years            education  education_id  \\\n",
       "12          0            NaN         65              среднее             1   \n",
       "26          0            NaN         41              среднее             1   \n",
       "29          0            NaN         63              среднее             1   \n",
       "41          0            NaN         50              среднее             1   \n",
       "55          0            NaN         54              среднее             1   \n",
       "65          0            NaN         21              среднее             1   \n",
       "67          0            NaN         52               высшее             0   \n",
       "72          1            NaN         32               высшее             0   \n",
       "82          2            NaN         50               высшее             0   \n",
       "83          0            NaN         52              среднее             1   \n",
       "90          2            NaN         35               высшее             0   \n",
       "94          1            NaN         34               высшее             0   \n",
       "96          0            NaN         44              СРЕДНЕЕ             1   \n",
       "97          0            NaN         47               высшее             0   \n",
       "120         0            NaN         46              среднее             1   \n",
       "121         0            NaN         29               высшее             0   \n",
       "135         0            NaN         27              среднее             1   \n",
       "141         0            NaN         39              среднее             1   \n",
       "145         0            NaN         62              среднее             1   \n",
       "174         0            NaN         55               высшее             0   \n",
       "181         0            NaN         26              среднее             1   \n",
       "189         1            NaN         30              среднее             1   \n",
       "205         1            NaN         31               высшее             0   \n",
       "220         1            NaN         23  неоконченное высшее             2   \n",
       "241         0            NaN         47              среднее             1   \n",
       "242         0            NaN         58              среднее             1   \n",
       "247         1            NaN         60               высшее             0   \n",
       "250         0            NaN         54               высшее             0   \n",
       "264         2            NaN         40              среднее             1   \n",
       "278         1            NaN         23              Среднее             1   \n",
       "\n",
       "             family_status  family_status_id gender  income_type  debt  \\\n",
       "12        гражданский брак                 1      M    пенсионер     0   \n",
       "26         женат / замужем                 0      M  госслужащий     0   \n",
       "29   Не женат / не замужем                 4      F    пенсионер     0   \n",
       "41         женат / замужем                 0      F  госслужащий     0   \n",
       "55        гражданский брак                 1      F    пенсионер     1   \n",
       "65   Не женат / не замужем                 4      M    компаньон     0   \n",
       "67         женат / замужем                 0      F    пенсионер     0   \n",
       "72         женат / замужем                 0      M  госслужащий     0   \n",
       "82         женат / замужем                 0      F    сотрудник     0   \n",
       "83         женат / замужем                 0      M    сотрудник     0   \n",
       "90         женат / замужем                 0      F    сотрудник     0   \n",
       "94        гражданский брак                 1      F    компаньон     0   \n",
       "96         женат / замужем                 0      F    сотрудник     0   \n",
       "97         женат / замужем                 0      F    сотрудник     0   \n",
       "120        женат / замужем                 0      F    сотрудник     0   \n",
       "121        женат / замужем                 0      F    компаньон     0   \n",
       "135        женат / замужем                 0      M    компаньон     0   \n",
       "141       гражданский брак                 1      M    сотрудник     0   \n",
       "145        женат / замужем                 0      M    пенсионер     0   \n",
       "174         вдовец / вдова                 2      F    компаньон     0   \n",
       "181       гражданский брак                 1      F    компаньон     1   \n",
       "189  Не женат / не замужем                 4      F    сотрудник     0   \n",
       "205        женат / замужем                 0      F    сотрудник     0   \n",
       "220       гражданский брак                 1      F    компаньон     0   \n",
       "241        женат / замужем                 0      M    сотрудник     0   \n",
       "242        женат / замужем                 0      F  госслужащий     0   \n",
       "247        женат / замужем                 0      F    пенсионер     1   \n",
       "250        женат / замужем                 0      F    сотрудник     0   \n",
       "264              в разводе                 3      F    сотрудник     0   \n",
       "278       гражданский брак                 1      F    сотрудник     1   \n",
       "\n",
       "     total_income                                 purpose  \n",
       "12            NaN                         сыграть свадьбу  \n",
       "26            NaN                             образование  \n",
       "29            NaN        строительство жилой недвижимости  \n",
       "41            NaN        сделка с подержанным автомобилем  \n",
       "55            NaN                         сыграть свадьбу  \n",
       "65            NaN   операции с коммерческой недвижимостью  \n",
       "67            NaN                 покупка жилья для семьи  \n",
       "72            NaN   операции с коммерческой недвижимостью  \n",
       "82            NaN                                   жилье  \n",
       "83            NaN                                   жилье  \n",
       "90            NaN                       операции с жильем  \n",
       "94            NaN                   на проведение свадьбы  \n",
       "96            NaN              покупка жилой недвижимости  \n",
       "97            NaN                  профильное образование  \n",
       "120           NaN                      высшее образование  \n",
       "121           NaN                              автомобиль  \n",
       "135           NaN                                   жилье  \n",
       "141           NaN                                 свадьба  \n",
       "145           NaN              строительство недвижимости  \n",
       "174           NaN                         свой автомобиль  \n",
       "181           NaN                 покупка жилья для семьи  \n",
       "189           NaN                         свой автомобиль  \n",
       "205           NaN      на покупку подержанного автомобиля  \n",
       "220           NaN                         сыграть свадьбу  \n",
       "241           NaN  строительство собственной недвижимости  \n",
       "242           NaN                    покупка своего жилья  \n",
       "247           NaN            заняться высшим образованием  \n",
       "250           NaN        сделка с подержанным автомобилем  \n",
       "264           NaN                            недвижимость  \n",
       "278           NaN                              автомобиль  "
      ]
     },
     "execution_count": 34,
     "metadata": {},
     "output_type": "execute_result"
    }
   ],
   "source": [
    "# повторно импортируем таблицу и выведем только те столбцы, где одновременно пропуски значений в 'days_employed' и 'total_income' \n",
    "import pandas as pd\n",
    "data_nan = pd.read_csv('/datasets/data.csv')\n",
    "data_nan.loc[(data_nan['days_employed'].isna()) & (data_nan['total_income'].isna())].head(30)"
   ]
  },
  {
   "cell_type": "markdown",
   "id": "aca16a2f",
   "metadata": {
    "deletable": false,
    "id": "3697d2a9"
   },
   "source": [
    "Анализ значений NaN для столбцов 'days_employed' (общий трудовой стаж в днях) и 'total_income' (ежемесячный доход) не выявил каких-либо закономерностей с другими столбцами (были гипотезы, что NaN может совпадать с, например, определенным типом занятости - например, быть присущей только пенсионерам или только тем, кто является компаньоном. Такие случаи не были выявлены. \n",
    "\n",
    "Так как у данных столбцов одинаковое количество NaN (= 2174) можно предположить, что отсутствие значений в данных столбцах может быть присуще какому-то одному региону/банку/сотруднику. Возможно, сотрудники данного региона/банка не знают, что данные поля обязательны для заполненения (либо у них нет соответствующей настройки на ПК).  "
   ]
  },
  {
   "cell_type": "markdown",
   "id": "3137d257",
   "metadata": {
    "deletable": false,
    "editable": false,
    "id": "3137d257"
   },
   "source": [
    "#### 3.6 Объясните, почему заполнить пропуски медианным значением — лучшее решение для количественных переменных."
   ]
  },
  {
   "cell_type": "markdown",
   "id": "cf40012a",
   "metadata": {
    "deletable": false,
    "id": "cf40012a"
   },
   "source": [
    "Заполнить пропуски медианным значение лучшее решение для количественных переменных потому что среднее арифметическое или медиана - это значения характеризующие состояние выборки. Данные значение не исказят состояние значений для выборки. "
   ]
  },
  {
   "cell_type": "markdown",
   "id": "57bc304e",
   "metadata": {
    "deletable": false,
    "editable": false,
    "id": "57bc304e"
   },
   "source": [
    "### Шаг 4: общий вывод."
   ]
  },
  {
   "cell_type": "markdown",
   "id": "1ab75d1c",
   "metadata": {
    "deletable": false,
    "id": "1ab75d1c"
   },
   "source": [
    "Рекомендую: \n",
    "- выяснить истинные причины отсутствия значений для столбцов 'общий трудовой стаж в днях' и 'ежемесячный доход'. Вероятная причина - незаполнение столбцов присуще определенному/ным регуону/банку/сотруднику;\n",
    "- ввести для столбца 'цель получения кредита' категоризатор на уровне переноса анкеты в базу данных (то есть при вводе должен быть ограниченный список целей).\n",
    "\n",
    "Общие выводы по исследованию. Рекомендую использовать результаты в скоринговых моделях: \n",
    "- заемщики с 5-ю детьми имеют 100% закрываемость кредитов. Далее за ними идут заемщики без детей - у них процент закрытия равен 92%. Наихудщая закрываеомсть кредитов у заемщиков с 4-мя детьми (90%);\n",
    "\n",
    "- заемщики в семейном положении \"вдовец/вдова\" имеют наилучший % закрытия кредита в срок (93%). Наихудший % закрытия у тех, кто в гражданском браке (90%);\n",
    "\n",
    "- заемщики c доходом от \"30 001 до 50 000\" имеют наилучший % закрытия кредита в срок (93,98%). Наихудший % закрытия у заемщиков с доходом до 30 000;\n",
    "\n",
    "- у кредитов с целью \"операции с недвижимостью\" наилучшее закрывание (92,7%). Далее идут кредиты с целью \"проведение свадьбы\" (92%). Наихудшая закрываемость у кредитов с целью \"на операции с автомобилем\" (90%). \n"
   ]
  },
  {
   "cell_type": "markdown",
   "id": "ad7d974f",
   "metadata": {},
   "source": [
    "### Подготовительный этап\n",
    "В ходе исследования нами были обработаны данные, полученные из файла 'data.csv'. Данные содержат статистику о платёжеспособности клиента.\n",
    "    \n",
    "В ходе исследования для кредитного отдела банка на предварительном этапе были проведены следующие работы: \n",
    "- обнаружены пропуски значений в столбцах 'days empliyed' и 'total_income';\n",
    "- для корректности обработки данных, строки с пропусками в 'days empliyed' и 'total_income' были заменены медианными значениями присущими для соответствующей выборки. Данный тип заполнения пропушенных данных позволяет получить большую выборку для анализы (т.к. мы не удаляем значения), но и не исказить результаты значениями, не присущими для данной выборки;\n",
    "- в столбце 'days_employed' и 'children' были обнаружены анамальные значения. Данные значения были исправлены;\n",
    "- столбцы 'education' и 'total_income' были приведенены к значениям, доступным для обработки;\n",
    "- строки-дубликаты были удаленены из всех таблицы (их было порядка 71);\n",
    "- в таблицу был добавлен новый столбец 'total_income_category' - всем заемщикам банка была присвоена категория, соответствующая их уровню дохода. Так, были определенены категории: \n",
    "    - до 30 000 — категория 'E';\n",
    "    - от 30 001 – до 50 000 — категория 'D';\n",
    "    - от 50 001 – до 200 000 — категория 'C';\n",
    "    - от 200 001 – до  1 000 000 — категория 'B';\n",
    "    - от 1 000 001 и выше — категория 'A'.\n",
    "- в таблице с данными было заявлено порядка 38 целей кредита. Мы тщательно изучили эти цели и выделили 4 типа целей: \n",
    "    - операции с автомобилем;\n",
    "    - операции с недвижимостью;\n",
    "    - проведение свадьбы;\n",
    "    - получение образования.\n",
    "\n",
    "    В таблицу был добавлен новый столбец 'purpose' - всем заемщикам банка была определенена цель исходя из заявленного выше классификатора. \n",
    "\n",
    "### Выводы по целям исследования\n",
    "Перед нами была поставлена цель разобраться, влияет ли семейное положение и количество детей клиента на факт погашения кредита в срок. \n",
    "Нами получены следующие результаты.\n",
    "    \n",
    "#### Влияние семейного положения\n",
    "Семейное положение влияет на закрытие кредита в срок. \n",
    "\n",
    "**Cемейное** **положение**  |  **%** **закрытий** **без** **просрочки**\n",
    " ***\n",
    "    - вдовец/вдова          |   93,3%\n",
    "    - в разводе             |   92,9%\n",
    "    - женат/замужен         |   92,4%\n",
    "    - гражданский брак      |   90,7%\n",
    "    - не женат / не замужем |   90,2%\n",
    "\n",
    "Заемщики состоящие или состоявшие в браке ранее - реже допускают просрочку. \n",
    "\n",
    "#### Влияние количества детей у займщика\n",
    "Количество детей влияет на наличие просрочки.\n",
    "\n",
    "**Количество** **детей**    |  **%** **закрытия** **без** **просрочки**\n",
    "***\n",
    "    - 5   |   100%\n",
    "    - 0   |   92,5%\n",
    "    - 3   |   91,8%\n",
    "    - 1   |   90,8%\n",
    "    - 2   |   90,5%\n",
    "    - 4   |   90,1%\n",
    "\n",
    "У заемщиков с детьми больше вероятность просрочки (в категории 5 и более детей всего 9 заемщиков, выборку по ним нельзя считать репрезентативной). \n",
    " \n",
    "### Дополнительные выводы\n",
    "Нами были проведенены дополнительные исследования данных заемщиков банка. Рекомендуем также использовать их при построении модели кредитного скоринга.  \n",
    "\n",
    "#### Влияние уровня дохода\n",
    "Уровень дохода влияет на возврат кредита без просрочек. \n",
    "\n",
    "**Уровень** **дохода**     |  **%** **закрытия** **без** **просрочки**\n",
    "***    \n",
    "    - от 50 001 - до 200 000     |   94%\n",
    "    - от 200 001 - до 1 000 000  |   93%\n",
    "    - от 30 001 - до 50 000      |   92%\n",
    "    - от 1 000 001 и выше        |   91,5%\n",
    "    - до 30 000                  |   90,9%\n",
    "\n",
    "Более состоятельные клиенты - более надежные заемщики. \n",
    "\n",
    "#### Влияние цели кредита\n",
    "Цель кредита влияет на возврат кредита без просрочек.\n",
    "\n",
    "**Цель** **кредита**            |  **%** **закрытия** **без** **просрочки**\n",
    "***\n",
    "    - операции с недвижимостью  |   92,7% \n",
    "    - операции с автомобилем    |   92,1%\n",
    "    - получение образования     |   90,7%\n",
    "    - проведение свадьбы        |   90,7%\n",
    "\n",
    "Ипотечники являются самой добросовестной категорией заемщиков.\n",
    "    \n",
    "### Рекомендации по работе с данными\n",
    "    \n",
    "- мы рекомендуем выяснить истинные причины отсутствия значений для столбцов 'общий трудовой стаж в днях' и 'ежемесячный доход'. Вероятная причина - незаполнение столбцов присуще определенному/ным регуону/банку/сотруднику. Также вероятны технические ошибки. Больший объем данных позволяет делать более точные прогнозы;\n",
    "- мы рекомендуем ввести для столбца 'цель получения кредита' категоризатор на уровне переноса анкеты в базу данных (то есть при вводе должен быть ограниченный список целей).\n",
    "\n",
    "</div>\n",
    "\n"
   ]
  }
 ],
 "metadata": {
  "ExecuteTimeLog": [
   {
    "duration": 52,
    "start_time": "2023-05-30T13:08:08.216Z"
   },
   {
    "duration": 51,
    "start_time": "2023-05-30T13:09:25.657Z"
   },
   {
    "duration": 7,
    "start_time": "2023-05-30T13:09:34.164Z"
   },
   {
    "duration": 433,
    "start_time": "2023-05-30T13:09:50.543Z"
   },
   {
    "duration": 24,
    "start_time": "2023-05-30T13:09:50.978Z"
   },
   {
    "duration": 15,
    "start_time": "2023-05-30T13:09:51.004Z"
   },
   {
    "duration": 14,
    "start_time": "2023-05-30T13:09:51.021Z"
   },
   {
    "duration": 50,
    "start_time": "2023-05-30T13:09:51.037Z"
   },
   {
    "duration": 4,
    "start_time": "2023-05-30T13:09:51.088Z"
   },
   {
    "duration": 11,
    "start_time": "2023-05-30T13:09:51.096Z"
   },
   {
    "duration": 5,
    "start_time": "2023-05-30T13:09:51.108Z"
   },
   {
    "duration": 32,
    "start_time": "2023-05-30T13:09:51.114Z"
   },
   {
    "duration": 11,
    "start_time": "2023-05-30T13:09:51.147Z"
   },
   {
    "duration": 50,
    "start_time": "2023-05-30T13:09:51.160Z"
   },
   {
    "duration": 9,
    "start_time": "2023-05-30T13:09:51.212Z"
   },
   {
    "duration": 7,
    "start_time": "2023-05-30T13:09:51.222Z"
   },
   {
    "duration": 10,
    "start_time": "2023-05-30T13:09:51.232Z"
   },
   {
    "duration": 41,
    "start_time": "2023-05-30T13:09:51.244Z"
   },
   {
    "duration": 20,
    "start_time": "2023-05-30T13:09:51.288Z"
   },
   {
    "duration": 4,
    "start_time": "2023-05-30T13:09:51.310Z"
   },
   {
    "duration": 30,
    "start_time": "2023-05-30T13:09:51.316Z"
   },
   {
    "duration": 14,
    "start_time": "2023-05-30T13:09:51.348Z"
   },
   {
    "duration": 12,
    "start_time": "2023-05-30T13:09:51.363Z"
   },
   {
    "duration": 21,
    "start_time": "2023-05-30T13:09:51.376Z"
   },
   {
    "duration": 72,
    "start_time": "2023-05-30T13:09:51.399Z"
   },
   {
    "duration": 0,
    "start_time": "2023-05-30T13:09:51.473Z"
   },
   {
    "duration": 0,
    "start_time": "2023-05-30T13:09:51.474Z"
   },
   {
    "duration": 0,
    "start_time": "2023-05-30T13:09:51.476Z"
   },
   {
    "duration": 5,
    "start_time": "2023-05-30T13:10:11.305Z"
   },
   {
    "duration": 5,
    "start_time": "2023-05-30T13:13:32.603Z"
   },
   {
    "duration": 145,
    "start_time": "2023-05-30T13:17:08.263Z"
   },
   {
    "duration": 797,
    "start_time": "2023-05-30T13:17:18.516Z"
   },
   {
    "duration": 88,
    "start_time": "2023-05-30T13:18:00.044Z"
   },
   {
    "duration": 764,
    "start_time": "2023-05-30T13:18:11.650Z"
   },
   {
    "duration": 55,
    "start_time": "2023-05-30T13:18:15.689Z"
   },
   {
    "duration": 57,
    "start_time": "2023-05-30T13:19:39.925Z"
   },
   {
    "duration": 32,
    "start_time": "2023-05-30T13:19:49.907Z"
   },
   {
    "duration": 12,
    "start_time": "2023-05-30T13:21:03.912Z"
   },
   {
    "duration": 15,
    "start_time": "2023-05-30T13:21:36.527Z"
   },
   {
    "duration": 11,
    "start_time": "2023-05-30T13:22:07.979Z"
   },
   {
    "duration": 9,
    "start_time": "2023-05-30T13:22:35.284Z"
   },
   {
    "duration": 11,
    "start_time": "2023-05-30T13:23:42.356Z"
   },
   {
    "duration": 13,
    "start_time": "2023-05-30T13:24:57.365Z"
   },
   {
    "duration": 11,
    "start_time": "2023-05-30T13:25:36.312Z"
   },
   {
    "duration": 16,
    "start_time": "2023-05-30T13:31:39.478Z"
   },
   {
    "duration": 52,
    "start_time": "2023-05-30T13:32:02.608Z"
   },
   {
    "duration": 18,
    "start_time": "2023-05-30T13:32:13.922Z"
   },
   {
    "duration": 14,
    "start_time": "2023-05-30T13:32:36.692Z"
   },
   {
    "duration": 11,
    "start_time": "2023-05-30T13:33:42.175Z"
   },
   {
    "duration": 613,
    "start_time": "2023-05-30T13:34:22.198Z"
   },
   {
    "duration": 698,
    "start_time": "2023-05-30T13:34:30.394Z"
   },
   {
    "duration": 9,
    "start_time": "2023-05-30T13:34:45.600Z"
   },
   {
    "duration": 9,
    "start_time": "2023-05-30T13:35:26.586Z"
   },
   {
    "duration": 56,
    "start_time": "2023-05-30T13:38:30.692Z"
   },
   {
    "duration": 49,
    "start_time": "2023-05-30T13:39:39.525Z"
   },
   {
    "duration": 43,
    "start_time": "2023-05-30T13:40:23.597Z"
   },
   {
    "duration": 9,
    "start_time": "2023-05-30T13:50:32.019Z"
   },
   {
    "duration": 10,
    "start_time": "2023-05-30T13:50:40.481Z"
   },
   {
    "duration": 8,
    "start_time": "2023-05-30T13:51:36.394Z"
   },
   {
    "duration": 10,
    "start_time": "2023-05-30T13:54:26.376Z"
   },
   {
    "duration": 9,
    "start_time": "2023-05-30T13:55:56.665Z"
   },
   {
    "duration": 15,
    "start_time": "2023-05-30T13:56:56.817Z"
   },
   {
    "duration": 5,
    "start_time": "2023-05-30T14:01:04.769Z"
   },
   {
    "duration": 10,
    "start_time": "2023-05-30T14:04:59.065Z"
   },
   {
    "duration": 11,
    "start_time": "2023-05-30T14:05:46.772Z"
   },
   {
    "duration": 60,
    "start_time": "2023-05-31T02:15:22.383Z"
   },
   {
    "duration": 22,
    "start_time": "2023-05-31T02:20:52.967Z"
   },
   {
    "duration": 11,
    "start_time": "2023-05-31T02:21:25.346Z"
   },
   {
    "duration": 1051,
    "start_time": "2023-05-31T02:21:51.336Z"
   },
   {
    "duration": 37,
    "start_time": "2023-05-31T02:21:52.391Z"
   },
   {
    "duration": 90,
    "start_time": "2023-05-31T02:21:52.430Z"
   },
   {
    "duration": 69,
    "start_time": "2023-05-31T02:21:52.523Z"
   },
   {
    "duration": 86,
    "start_time": "2023-05-31T02:21:52.595Z"
   },
   {
    "duration": 33,
    "start_time": "2023-05-31T02:21:52.685Z"
   },
   {
    "duration": 39,
    "start_time": "2023-05-31T02:21:52.724Z"
   },
   {
    "duration": 59,
    "start_time": "2023-05-31T02:21:52.772Z"
   },
   {
    "duration": 74,
    "start_time": "2023-05-31T02:21:52.833Z"
   },
   {
    "duration": 23,
    "start_time": "2023-05-31T02:21:52.915Z"
   },
   {
    "duration": 125,
    "start_time": "2023-05-31T02:21:52.940Z"
   },
   {
    "duration": 65,
    "start_time": "2023-05-31T02:21:53.066Z"
   },
   {
    "duration": 143,
    "start_time": "2023-05-31T02:21:53.132Z"
   },
   {
    "duration": 93,
    "start_time": "2023-05-31T02:21:53.280Z"
   },
   {
    "duration": 101,
    "start_time": "2023-05-31T02:21:53.375Z"
   },
   {
    "duration": 44,
    "start_time": "2023-05-31T02:21:53.484Z"
   },
   {
    "duration": 5,
    "start_time": "2023-05-31T02:21:53.530Z"
   },
   {
    "duration": 84,
    "start_time": "2023-05-31T02:21:53.537Z"
   },
   {
    "duration": 18,
    "start_time": "2023-05-31T02:21:53.623Z"
   },
   {
    "duration": 76,
    "start_time": "2023-05-31T02:21:53.643Z"
   },
   {
    "duration": 16,
    "start_time": "2023-05-31T02:21:53.721Z"
   },
   {
    "duration": 72,
    "start_time": "2023-05-31T02:21:53.739Z"
   },
   {
    "duration": 20,
    "start_time": "2023-05-31T02:21:53.813Z"
   },
   {
    "duration": 84,
    "start_time": "2023-05-31T02:21:53.835Z"
   },
   {
    "duration": 168,
    "start_time": "2023-05-31T02:21:53.922Z"
   },
   {
    "duration": 1,
    "start_time": "2023-05-31T02:21:54.096Z"
   },
   {
    "duration": 0,
    "start_time": "2023-05-31T02:21:54.099Z"
   },
   {
    "duration": 0,
    "start_time": "2023-05-31T02:21:54.101Z"
   },
   {
    "duration": 0,
    "start_time": "2023-05-31T02:21:54.111Z"
   },
   {
    "duration": 32,
    "start_time": "2023-05-31T02:23:51.591Z"
   },
   {
    "duration": 32,
    "start_time": "2023-05-31T02:24:21.788Z"
   },
   {
    "duration": 658,
    "start_time": "2023-05-31T02:24:42.378Z"
   },
   {
    "duration": 84,
    "start_time": "2023-05-31T02:24:43.039Z"
   },
   {
    "duration": 38,
    "start_time": "2023-05-31T02:24:43.127Z"
   },
   {
    "duration": 60,
    "start_time": "2023-05-31T02:24:43.172Z"
   },
   {
    "duration": 70,
    "start_time": "2023-05-31T02:24:43.240Z"
   },
   {
    "duration": 5,
    "start_time": "2023-05-31T02:24:43.319Z"
   },
   {
    "duration": 14,
    "start_time": "2023-05-31T02:24:43.326Z"
   },
   {
    "duration": 5,
    "start_time": "2023-05-31T02:24:43.342Z"
   },
   {
    "duration": 60,
    "start_time": "2023-05-31T02:24:43.350Z"
   },
   {
    "duration": 5,
    "start_time": "2023-05-31T02:24:43.413Z"
   },
   {
    "duration": 55,
    "start_time": "2023-05-31T02:24:43.420Z"
   },
   {
    "duration": 16,
    "start_time": "2023-05-31T02:24:43.477Z"
   },
   {
    "duration": 16,
    "start_time": "2023-05-31T02:24:43.495Z"
   },
   {
    "duration": 14,
    "start_time": "2023-05-31T02:24:43.515Z"
   },
   {
    "duration": 51,
    "start_time": "2023-05-31T02:24:43.531Z"
   },
   {
    "duration": 30,
    "start_time": "2023-05-31T02:24:43.584Z"
   },
   {
    "duration": 5,
    "start_time": "2023-05-31T02:24:43.617Z"
   },
   {
    "duration": 13,
    "start_time": "2023-05-31T02:24:43.624Z"
   },
   {
    "duration": 29,
    "start_time": "2023-05-31T02:24:43.639Z"
   },
   {
    "duration": 29,
    "start_time": "2023-05-31T02:24:43.677Z"
   },
   {
    "duration": 14,
    "start_time": "2023-05-31T02:24:43.708Z"
   },
   {
    "duration": 15,
    "start_time": "2023-05-31T02:24:43.724Z"
   },
   {
    "duration": 10,
    "start_time": "2023-05-31T02:24:43.740Z"
   },
   {
    "duration": 54,
    "start_time": "2023-05-31T02:24:43.755Z"
   },
   {
    "duration": 20,
    "start_time": "2023-05-31T02:24:43.811Z"
   },
   {
    "duration": 19,
    "start_time": "2023-05-31T02:24:43.832Z"
   },
   {
    "duration": 56,
    "start_time": "2023-05-31T02:24:43.853Z"
   },
   {
    "duration": 12,
    "start_time": "2023-05-31T02:24:43.911Z"
   },
   {
    "duration": 12,
    "start_time": "2023-05-31T02:24:43.925Z"
   },
   {
    "duration": 31,
    "start_time": "2023-05-31T02:24:51.375Z"
   },
   {
    "duration": 123,
    "start_time": "2023-05-31T02:30:28.906Z"
   },
   {
    "duration": 36,
    "start_time": "2023-05-31T02:31:40.076Z"
   },
   {
    "duration": 30,
    "start_time": "2023-05-31T02:33:25.975Z"
   },
   {
    "duration": 18,
    "start_time": "2023-05-31T02:37:34.769Z"
   },
   {
    "duration": 86,
    "start_time": "2023-05-31T02:41:30.941Z"
   },
   {
    "duration": 8,
    "start_time": "2023-05-31T02:41:38.492Z"
   },
   {
    "duration": 56,
    "start_time": "2023-05-31T02:42:35.467Z"
   },
   {
    "duration": 129,
    "start_time": "2023-05-31T02:43:02.236Z"
   },
   {
    "duration": 1699,
    "start_time": "2023-05-31T02:45:38.548Z"
   },
   {
    "duration": 27,
    "start_time": "2023-05-31T02:49:48.478Z"
   },
   {
    "duration": 1332,
    "start_time": "2023-05-31T02:50:00.570Z"
   },
   {
    "duration": 1346,
    "start_time": "2023-05-31T02:50:06.076Z"
   },
   {
    "duration": 620,
    "start_time": "2023-05-31T02:50:20.740Z"
   },
   {
    "duration": 36,
    "start_time": "2023-05-31T02:50:21.362Z"
   },
   {
    "duration": 38,
    "start_time": "2023-05-31T02:50:21.401Z"
   },
   {
    "duration": 20,
    "start_time": "2023-05-31T02:50:21.441Z"
   },
   {
    "duration": 79,
    "start_time": "2023-05-31T02:50:21.465Z"
   },
   {
    "duration": 6,
    "start_time": "2023-05-31T02:50:21.545Z"
   },
   {
    "duration": 72,
    "start_time": "2023-05-31T02:50:21.553Z"
   },
   {
    "duration": 10,
    "start_time": "2023-05-31T02:50:21.627Z"
   },
   {
    "duration": 63,
    "start_time": "2023-05-31T02:50:21.639Z"
   },
   {
    "duration": 22,
    "start_time": "2023-05-31T02:50:21.704Z"
   },
   {
    "duration": 67,
    "start_time": "2023-05-31T02:50:21.728Z"
   },
   {
    "duration": 22,
    "start_time": "2023-05-31T02:50:21.796Z"
   },
   {
    "duration": 5,
    "start_time": "2023-05-31T02:50:21.820Z"
   },
   {
    "duration": 25,
    "start_time": "2023-05-31T02:50:21.829Z"
   },
   {
    "duration": 76,
    "start_time": "2023-05-31T02:50:21.856Z"
   },
   {
    "duration": 35,
    "start_time": "2023-05-31T02:50:21.934Z"
   },
   {
    "duration": 34,
    "start_time": "2023-05-31T02:50:21.971Z"
   },
   {
    "duration": 22,
    "start_time": "2023-05-31T02:50:22.007Z"
   },
   {
    "duration": 27,
    "start_time": "2023-05-31T02:50:22.031Z"
   },
   {
    "duration": 57,
    "start_time": "2023-05-31T02:50:22.060Z"
   },
   {
    "duration": 23,
    "start_time": "2023-05-31T02:50:22.119Z"
   },
   {
    "duration": 77,
    "start_time": "2023-05-31T02:50:22.145Z"
   },
   {
    "duration": 9,
    "start_time": "2023-05-31T02:50:22.224Z"
   },
   {
    "duration": 18,
    "start_time": "2023-05-31T02:50:22.234Z"
   },
   {
    "duration": 1583,
    "start_time": "2023-05-31T02:50:22.254Z"
   },
   {
    "duration": 0,
    "start_time": "2023-05-31T02:50:23.839Z"
   },
   {
    "duration": 0,
    "start_time": "2023-05-31T02:50:23.840Z"
   },
   {
    "duration": 0,
    "start_time": "2023-05-31T02:50:23.841Z"
   },
   {
    "duration": 0,
    "start_time": "2023-05-31T02:50:23.842Z"
   },
   {
    "duration": 0,
    "start_time": "2023-05-31T02:50:23.843Z"
   },
   {
    "duration": 0,
    "start_time": "2023-05-31T02:50:23.844Z"
   },
   {
    "duration": 1366,
    "start_time": "2023-05-31T02:50:53.790Z"
   },
   {
    "duration": 32,
    "start_time": "2023-05-31T02:51:19.088Z"
   },
   {
    "duration": 1408,
    "start_time": "2023-05-31T02:52:57.172Z"
   },
   {
    "duration": 2047,
    "start_time": "2023-05-31T02:53:23.588Z"
   },
   {
    "duration": 1574,
    "start_time": "2023-05-31T02:53:35.983Z"
   },
   {
    "duration": 15,
    "start_time": "2023-05-31T02:55:39.510Z"
   },
   {
    "duration": 9,
    "start_time": "2023-05-31T02:55:53.723Z"
   },
   {
    "duration": 31,
    "start_time": "2023-05-31T02:56:04.744Z"
   },
   {
    "duration": 20,
    "start_time": "2023-05-31T02:56:33.753Z"
   },
   {
    "duration": 22,
    "start_time": "2023-05-31T02:57:27.668Z"
   },
   {
    "duration": 18,
    "start_time": "2023-05-31T02:58:56.702Z"
   },
   {
    "duration": 1844,
    "start_time": "2023-05-31T03:00:59.692Z"
   },
   {
    "duration": 28,
    "start_time": "2023-05-31T03:01:11.503Z"
   },
   {
    "duration": 42,
    "start_time": "2023-05-31T03:03:40.131Z"
   },
   {
    "duration": 34,
    "start_time": "2023-05-31T03:05:16.880Z"
   },
   {
    "duration": 19,
    "start_time": "2023-05-31T03:15:12.470Z"
   },
   {
    "duration": 14,
    "start_time": "2023-05-31T03:15:53.669Z"
   },
   {
    "duration": 40,
    "start_time": "2023-05-31T03:18:56.831Z"
   },
   {
    "duration": 12,
    "start_time": "2023-05-31T03:21:55.300Z"
   },
   {
    "duration": 12,
    "start_time": "2023-05-31T03:22:28.998Z"
   },
   {
    "duration": 14,
    "start_time": "2023-05-31T03:25:10.213Z"
   },
   {
    "duration": 12,
    "start_time": "2023-05-31T03:28:19.908Z"
   },
   {
    "duration": 17,
    "start_time": "2023-05-31T03:29:50.660Z"
   },
   {
    "duration": 24,
    "start_time": "2023-05-31T03:30:01.567Z"
   },
   {
    "duration": 39,
    "start_time": "2023-05-31T03:30:37.547Z"
   },
   {
    "duration": 17,
    "start_time": "2023-05-31T03:31:42.765Z"
   },
   {
    "duration": 13,
    "start_time": "2023-05-31T03:32:09.779Z"
   },
   {
    "duration": 20,
    "start_time": "2023-05-31T03:32:57.482Z"
   },
   {
    "duration": 32,
    "start_time": "2023-05-31T03:34:02.371Z"
   },
   {
    "duration": 15,
    "start_time": "2023-05-31T03:34:25.498Z"
   },
   {
    "duration": 9,
    "start_time": "2023-05-31T03:40:00.484Z"
   },
   {
    "duration": 8,
    "start_time": "2023-05-31T03:40:18.187Z"
   },
   {
    "duration": 10,
    "start_time": "2023-05-31T03:40:43.695Z"
   },
   {
    "duration": 8,
    "start_time": "2023-05-31T03:48:11.909Z"
   },
   {
    "duration": 7,
    "start_time": "2023-05-31T03:49:00.307Z"
   },
   {
    "duration": 14,
    "start_time": "2023-05-31T03:49:51.975Z"
   },
   {
    "duration": 9,
    "start_time": "2023-05-31T03:50:16.599Z"
   },
   {
    "duration": 22,
    "start_time": "2023-05-31T03:50:24.583Z"
   },
   {
    "duration": 15,
    "start_time": "2023-05-31T03:50:36.592Z"
   },
   {
    "duration": 9,
    "start_time": "2023-05-31T03:51:15.794Z"
   },
   {
    "duration": 15,
    "start_time": "2023-05-31T03:51:23.109Z"
   },
   {
    "duration": 4,
    "start_time": "2023-05-31T03:54:26.300Z"
   },
   {
    "duration": 22,
    "start_time": "2023-05-31T03:54:36.372Z"
   },
   {
    "duration": 652,
    "start_time": "2023-05-31T03:57:10.467Z"
   },
   {
    "duration": 28,
    "start_time": "2023-05-31T03:57:11.121Z"
   },
   {
    "duration": 68,
    "start_time": "2023-05-31T03:57:11.160Z"
   },
   {
    "duration": 55,
    "start_time": "2023-05-31T03:57:11.230Z"
   },
   {
    "duration": 85,
    "start_time": "2023-05-31T03:57:11.298Z"
   },
   {
    "duration": 8,
    "start_time": "2023-05-31T03:57:11.394Z"
   },
   {
    "duration": 28,
    "start_time": "2023-05-31T03:57:11.409Z"
   },
   {
    "duration": 5,
    "start_time": "2023-05-31T03:57:11.439Z"
   },
   {
    "duration": 81,
    "start_time": "2023-05-31T03:57:11.445Z"
   },
   {
    "duration": 6,
    "start_time": "2023-05-31T03:57:11.527Z"
   },
   {
    "duration": 67,
    "start_time": "2023-05-31T03:57:11.535Z"
   },
   {
    "duration": 19,
    "start_time": "2023-05-31T03:57:11.607Z"
   },
   {
    "duration": 5,
    "start_time": "2023-05-31T03:57:11.628Z"
   },
   {
    "duration": 18,
    "start_time": "2023-05-31T03:57:11.637Z"
   },
   {
    "duration": 97,
    "start_time": "2023-05-31T03:57:11.657Z"
   },
   {
    "duration": 42,
    "start_time": "2023-05-31T03:57:11.756Z"
   },
   {
    "duration": 20,
    "start_time": "2023-05-31T03:57:11.804Z"
   },
   {
    "duration": 15,
    "start_time": "2023-05-31T03:57:11.826Z"
   },
   {
    "duration": 61,
    "start_time": "2023-05-31T03:57:11.843Z"
   },
   {
    "duration": 24,
    "start_time": "2023-05-31T03:57:11.906Z"
   },
   {
    "duration": 28,
    "start_time": "2023-05-31T03:57:11.932Z"
   },
   {
    "duration": 63,
    "start_time": "2023-05-31T03:57:11.969Z"
   },
   {
    "duration": 7,
    "start_time": "2023-05-31T03:57:12.034Z"
   },
   {
    "duration": 51,
    "start_time": "2023-05-31T03:57:12.043Z"
   },
   {
    "duration": 35,
    "start_time": "2023-05-31T03:57:12.096Z"
   },
   {
    "duration": 11,
    "start_time": "2023-05-31T03:57:12.133Z"
   },
   {
    "duration": 91,
    "start_time": "2023-05-31T03:57:12.148Z"
   },
   {
    "duration": 40,
    "start_time": "2023-05-31T03:57:12.240Z"
   },
   {
    "duration": 57,
    "start_time": "2023-05-31T03:57:12.282Z"
   },
   {
    "duration": 86,
    "start_time": "2023-05-31T03:57:12.342Z"
   },
   {
    "duration": 109,
    "start_time": "2023-05-31T03:57:12.430Z"
   },
   {
    "duration": 12,
    "start_time": "2023-05-31T03:57:12.542Z"
   },
   {
    "duration": 94,
    "start_time": "2023-05-31T03:57:12.555Z"
   },
   {
    "duration": 89,
    "start_time": "2023-05-31T03:57:12.660Z"
   },
   {
    "duration": 64,
    "start_time": "2023-05-31T10:06:29.787Z"
   },
   {
    "duration": 1369,
    "start_time": "2023-05-31T10:06:43.655Z"
   },
   {
    "duration": 34,
    "start_time": "2023-05-31T10:06:45.039Z"
   },
   {
    "duration": 25,
    "start_time": "2023-05-31T10:06:45.075Z"
   },
   {
    "duration": 10,
    "start_time": "2023-05-31T10:06:45.102Z"
   },
   {
    "duration": 86,
    "start_time": "2023-05-31T10:06:45.113Z"
   },
   {
    "duration": 3,
    "start_time": "2023-05-31T10:06:45.201Z"
   },
   {
    "duration": 11,
    "start_time": "2023-05-31T10:06:45.205Z"
   },
   {
    "duration": 44,
    "start_time": "2023-05-31T10:06:45.220Z"
   },
   {
    "duration": 22,
    "start_time": "2023-05-31T10:06:45.265Z"
   },
   {
    "duration": 6,
    "start_time": "2023-05-31T10:06:45.290Z"
   },
   {
    "duration": 44,
    "start_time": "2023-05-31T10:06:45.297Z"
   },
   {
    "duration": 15,
    "start_time": "2023-05-31T10:06:45.342Z"
   },
   {
    "duration": 5,
    "start_time": "2023-05-31T10:06:45.358Z"
   },
   {
    "duration": 16,
    "start_time": "2023-05-31T10:06:45.365Z"
   },
   {
    "duration": 53,
    "start_time": "2023-05-31T10:06:45.384Z"
   },
   {
    "duration": 48,
    "start_time": "2023-05-31T10:06:45.439Z"
   },
   {
    "duration": 5,
    "start_time": "2023-05-31T10:06:45.489Z"
   },
   {
    "duration": 41,
    "start_time": "2023-05-31T10:06:45.496Z"
   },
   {
    "duration": 32,
    "start_time": "2023-05-31T10:06:45.540Z"
   },
   {
    "duration": 15,
    "start_time": "2023-05-31T10:06:45.574Z"
   },
   {
    "duration": 37,
    "start_time": "2023-05-31T10:06:45.591Z"
   },
   {
    "duration": 40,
    "start_time": "2023-05-31T10:06:45.632Z"
   },
   {
    "duration": 7,
    "start_time": "2023-05-31T10:06:45.673Z"
   },
   {
    "duration": 35,
    "start_time": "2023-05-31T10:06:45.682Z"
   },
   {
    "duration": 53,
    "start_time": "2023-05-31T10:06:45.719Z"
   },
   {
    "duration": 9,
    "start_time": "2023-05-31T10:06:45.775Z"
   },
   {
    "duration": 34,
    "start_time": "2023-05-31T10:06:45.786Z"
   },
   {
    "duration": 49,
    "start_time": "2023-05-31T10:06:45.823Z"
   },
   {
    "duration": 10,
    "start_time": "2023-05-31T10:06:45.874Z"
   },
   {
    "duration": 16,
    "start_time": "2023-05-31T10:06:45.886Z"
   },
   {
    "duration": 26,
    "start_time": "2023-05-31T10:06:45.904Z"
   },
   {
    "duration": 64,
    "start_time": "2023-05-31T10:06:45.932Z"
   },
   {
    "duration": 78,
    "start_time": "2023-05-31T10:06:45.997Z"
   },
   {
    "duration": 96,
    "start_time": "2023-05-31T10:06:46.077Z"
   },
   {
    "duration": 5,
    "start_time": "2023-05-31T10:06:46.400Z"
   },
   {
    "duration": 9,
    "start_time": "2023-05-31T10:07:03.714Z"
   },
   {
    "duration": 11,
    "start_time": "2023-05-31T10:10:56.682Z"
   },
   {
    "duration": 523,
    "start_time": "2023-05-31T10:11:16.317Z"
   },
   {
    "duration": 27,
    "start_time": "2023-05-31T10:11:16.842Z"
   },
   {
    "duration": 16,
    "start_time": "2023-05-31T10:11:16.871Z"
   },
   {
    "duration": 10,
    "start_time": "2023-05-31T10:11:16.889Z"
   },
   {
    "duration": 73,
    "start_time": "2023-05-31T10:11:16.901Z"
   },
   {
    "duration": 3,
    "start_time": "2023-05-31T10:11:16.975Z"
   },
   {
    "duration": 10,
    "start_time": "2023-05-31T10:11:16.980Z"
   },
   {
    "duration": 10,
    "start_time": "2023-05-31T10:11:16.992Z"
   },
   {
    "duration": 21,
    "start_time": "2023-05-31T10:11:17.003Z"
   },
   {
    "duration": 5,
    "start_time": "2023-05-31T10:11:17.026Z"
   },
   {
    "duration": 53,
    "start_time": "2023-05-31T10:11:17.033Z"
   },
   {
    "duration": 11,
    "start_time": "2023-05-31T10:11:17.088Z"
   },
   {
    "duration": 5,
    "start_time": "2023-05-31T10:11:17.100Z"
   },
   {
    "duration": 20,
    "start_time": "2023-05-31T10:11:17.108Z"
   },
   {
    "duration": 46,
    "start_time": "2023-05-31T10:11:17.131Z"
   },
   {
    "duration": 18,
    "start_time": "2023-05-31T10:11:17.178Z"
   },
   {
    "duration": 4,
    "start_time": "2023-05-31T10:11:17.197Z"
   },
   {
    "duration": 33,
    "start_time": "2023-05-31T10:11:17.202Z"
   },
   {
    "duration": 22,
    "start_time": "2023-05-31T10:11:17.237Z"
   },
   {
    "duration": 4,
    "start_time": "2023-05-31T10:11:17.260Z"
   },
   {
    "duration": 26,
    "start_time": "2023-05-31T10:11:17.266Z"
   },
   {
    "duration": 13,
    "start_time": "2023-05-31T10:11:17.294Z"
   },
   {
    "duration": 21,
    "start_time": "2023-05-31T10:11:17.310Z"
   },
   {
    "duration": 36,
    "start_time": "2023-05-31T10:11:17.333Z"
   },
   {
    "duration": 13,
    "start_time": "2023-05-31T10:11:17.370Z"
   },
   {
    "duration": 9,
    "start_time": "2023-05-31T10:11:17.384Z"
   },
   {
    "duration": 25,
    "start_time": "2023-05-31T10:11:17.394Z"
   },
   {
    "duration": 45,
    "start_time": "2023-05-31T10:11:17.421Z"
   },
   {
    "duration": 10,
    "start_time": "2023-05-31T10:11:17.468Z"
   },
   {
    "duration": 14,
    "start_time": "2023-05-31T10:11:17.480Z"
   },
   {
    "duration": 31,
    "start_time": "2023-05-31T10:11:17.496Z"
   },
   {
    "duration": 23,
    "start_time": "2023-05-31T10:11:17.535Z"
   },
   {
    "duration": 12,
    "start_time": "2023-05-31T10:11:17.559Z"
   },
   {
    "duration": 15,
    "start_time": "2023-05-31T10:11:17.572Z"
   },
   {
    "duration": 13,
    "start_time": "2023-05-31T10:11:52.888Z"
   },
   {
    "duration": 15,
    "start_time": "2023-05-31T10:41:53.068Z"
   },
   {
    "duration": 528,
    "start_time": "2023-05-31T10:42:21.354Z"
   },
   {
    "duration": 30,
    "start_time": "2023-05-31T10:42:21.884Z"
   },
   {
    "duration": 76,
    "start_time": "2023-05-31T10:42:21.924Z"
   },
   {
    "duration": 94,
    "start_time": "2023-05-31T10:42:22.003Z"
   },
   {
    "duration": 113,
    "start_time": "2023-05-31T10:42:22.099Z"
   },
   {
    "duration": 9,
    "start_time": "2023-05-31T10:42:22.214Z"
   },
   {
    "duration": 104,
    "start_time": "2023-05-31T10:42:22.225Z"
   },
   {
    "duration": 53,
    "start_time": "2023-05-31T10:42:22.331Z"
   },
   {
    "duration": 80,
    "start_time": "2023-05-31T10:42:22.386Z"
   },
   {
    "duration": 26,
    "start_time": "2023-05-31T10:42:22.469Z"
   },
   {
    "duration": 96,
    "start_time": "2023-05-31T10:42:22.497Z"
   },
   {
    "duration": 15,
    "start_time": "2023-05-31T10:42:22.595Z"
   },
   {
    "duration": 72,
    "start_time": "2023-05-31T10:42:22.612Z"
   },
   {
    "duration": 49,
    "start_time": "2023-05-31T10:42:22.686Z"
   },
   {
    "duration": 35,
    "start_time": "2023-05-31T10:42:22.748Z"
   },
   {
    "duration": 46,
    "start_time": "2023-05-31T10:42:22.785Z"
   },
   {
    "duration": 10,
    "start_time": "2023-05-31T10:42:22.833Z"
   },
   {
    "duration": 139,
    "start_time": "2023-05-31T10:42:22.845Z"
   },
   {
    "duration": 10,
    "start_time": "2023-05-31T10:42:22.986Z"
   },
   {
    "duration": 19,
    "start_time": "2023-05-31T10:42:22.997Z"
   },
   {
    "duration": 64,
    "start_time": "2023-05-31T10:42:23.021Z"
   },
   {
    "duration": 25,
    "start_time": "2023-05-31T10:42:23.086Z"
   },
   {
    "duration": 55,
    "start_time": "2023-05-31T10:42:23.113Z"
   },
   {
    "duration": 32,
    "start_time": "2023-05-31T10:42:23.170Z"
   },
   {
    "duration": 39,
    "start_time": "2023-05-31T10:42:23.204Z"
   },
   {
    "duration": 62,
    "start_time": "2023-05-31T10:42:23.245Z"
   },
   {
    "duration": 96,
    "start_time": "2023-05-31T10:42:23.309Z"
   },
   {
    "duration": 62,
    "start_time": "2023-05-31T10:42:23.409Z"
   },
   {
    "duration": 13,
    "start_time": "2023-05-31T10:42:23.480Z"
   },
   {
    "duration": 63,
    "start_time": "2023-05-31T10:42:23.496Z"
   },
   {
    "duration": 38,
    "start_time": "2023-05-31T10:42:23.561Z"
   },
   {
    "duration": 16,
    "start_time": "2023-05-31T10:42:23.600Z"
   },
   {
    "duration": 76,
    "start_time": "2023-05-31T10:42:23.618Z"
   },
   {
    "duration": 20,
    "start_time": "2023-05-31T10:42:23.696Z"
   },
   {
    "duration": 20,
    "start_time": "2023-05-31T10:43:54.546Z"
   },
   {
    "duration": 31,
    "start_time": "2023-05-31T10:44:05.640Z"
   },
   {
    "duration": 583,
    "start_time": "2023-05-31T10:44:32.676Z"
   },
   {
    "duration": 38,
    "start_time": "2023-05-31T10:44:33.261Z"
   },
   {
    "duration": 49,
    "start_time": "2023-05-31T10:44:33.301Z"
   },
   {
    "duration": 18,
    "start_time": "2023-05-31T10:44:33.357Z"
   },
   {
    "duration": 85,
    "start_time": "2023-05-31T10:44:33.378Z"
   },
   {
    "duration": 5,
    "start_time": "2023-05-31T10:44:33.466Z"
   },
   {
    "duration": 28,
    "start_time": "2023-05-31T10:44:33.472Z"
   },
   {
    "duration": 8,
    "start_time": "2023-05-31T10:44:33.502Z"
   },
   {
    "duration": 62,
    "start_time": "2023-05-31T10:44:33.512Z"
   },
   {
    "duration": 20,
    "start_time": "2023-05-31T10:44:33.576Z"
   },
   {
    "duration": 106,
    "start_time": "2023-05-31T10:44:33.598Z"
   },
   {
    "duration": 24,
    "start_time": "2023-05-31T10:44:33.707Z"
   },
   {
    "duration": 50,
    "start_time": "2023-05-31T10:44:33.737Z"
   },
   {
    "duration": 34,
    "start_time": "2023-05-31T10:44:33.789Z"
   },
   {
    "duration": 61,
    "start_time": "2023-05-31T10:44:33.832Z"
   },
   {
    "duration": 40,
    "start_time": "2023-05-31T10:44:33.895Z"
   },
   {
    "duration": 8,
    "start_time": "2023-05-31T10:44:33.952Z"
   },
   {
    "duration": 27,
    "start_time": "2023-05-31T10:44:33.962Z"
   },
   {
    "duration": 77,
    "start_time": "2023-05-31T10:44:33.991Z"
   },
   {
    "duration": 7,
    "start_time": "2023-05-31T10:44:34.070Z"
   },
   {
    "duration": 21,
    "start_time": "2023-05-31T10:44:34.079Z"
   },
   {
    "duration": 67,
    "start_time": "2023-05-31T10:44:34.101Z"
   },
   {
    "duration": 22,
    "start_time": "2023-05-31T10:44:34.170Z"
   },
   {
    "duration": 63,
    "start_time": "2023-05-31T10:44:34.195Z"
   },
   {
    "duration": 23,
    "start_time": "2023-05-31T10:44:34.260Z"
   },
   {
    "duration": 18,
    "start_time": "2023-05-31T10:44:34.285Z"
   },
   {
    "duration": 70,
    "start_time": "2023-05-31T10:44:34.305Z"
   },
   {
    "duration": 18,
    "start_time": "2023-05-31T10:44:34.377Z"
   },
   {
    "duration": 14,
    "start_time": "2023-05-31T10:44:34.397Z"
   },
   {
    "duration": 90,
    "start_time": "2023-05-31T10:44:34.413Z"
   },
   {
    "duration": 86,
    "start_time": "2023-05-31T10:44:34.505Z"
   },
   {
    "duration": 50,
    "start_time": "2023-05-31T10:44:34.593Z"
   },
   {
    "duration": 51,
    "start_time": "2023-05-31T10:44:34.646Z"
   },
   {
    "duration": 23,
    "start_time": "2023-05-31T10:44:34.700Z"
   },
   {
    "duration": 9,
    "start_time": "2023-05-31T10:45:02.778Z"
   },
   {
    "duration": 509,
    "start_time": "2023-05-31T10:45:15.289Z"
   },
   {
    "duration": 34,
    "start_time": "2023-05-31T10:45:15.801Z"
   },
   {
    "duration": 52,
    "start_time": "2023-05-31T10:45:15.837Z"
   },
   {
    "duration": 27,
    "start_time": "2023-05-31T10:45:15.891Z"
   },
   {
    "duration": 114,
    "start_time": "2023-05-31T10:45:15.925Z"
   },
   {
    "duration": 10,
    "start_time": "2023-05-31T10:45:16.041Z"
   },
   {
    "duration": 23,
    "start_time": "2023-05-31T10:45:16.055Z"
   },
   {
    "duration": 12,
    "start_time": "2023-05-31T10:45:16.081Z"
   },
   {
    "duration": 15,
    "start_time": "2023-05-31T10:45:16.095Z"
   },
   {
    "duration": 57,
    "start_time": "2023-05-31T10:45:16.112Z"
   },
   {
    "duration": 88,
    "start_time": "2023-05-31T10:45:16.171Z"
   },
   {
    "duration": 10,
    "start_time": "2023-05-31T10:45:16.263Z"
   },
   {
    "duration": 4,
    "start_time": "2023-05-31T10:45:16.275Z"
   },
   {
    "duration": 17,
    "start_time": "2023-05-31T10:45:16.283Z"
   },
   {
    "duration": 48,
    "start_time": "2023-05-31T10:45:16.303Z"
   },
   {
    "duration": 24,
    "start_time": "2023-05-31T10:45:16.360Z"
   },
   {
    "duration": 4,
    "start_time": "2023-05-31T10:45:16.386Z"
   },
   {
    "duration": 41,
    "start_time": "2023-05-31T10:45:16.393Z"
   },
   {
    "duration": 23,
    "start_time": "2023-05-31T10:45:16.444Z"
   },
   {
    "duration": 7,
    "start_time": "2023-05-31T10:45:16.469Z"
   },
   {
    "duration": 22,
    "start_time": "2023-05-31T10:45:16.477Z"
   },
   {
    "duration": 50,
    "start_time": "2023-05-31T10:45:16.501Z"
   },
   {
    "duration": 15,
    "start_time": "2023-05-31T10:45:16.557Z"
   },
   {
    "duration": 29,
    "start_time": "2023-05-31T10:45:16.574Z"
   },
   {
    "duration": 34,
    "start_time": "2023-05-31T10:45:16.605Z"
   },
   {
    "duration": 32,
    "start_time": "2023-05-31T10:45:16.642Z"
   },
   {
    "duration": 33,
    "start_time": "2023-05-31T10:45:16.676Z"
   },
   {
    "duration": 47,
    "start_time": "2023-05-31T10:45:16.712Z"
   },
   {
    "duration": 13,
    "start_time": "2023-05-31T10:45:16.765Z"
   },
   {
    "duration": 16,
    "start_time": "2023-05-31T10:45:16.780Z"
   },
   {
    "duration": 15,
    "start_time": "2023-05-31T10:45:16.798Z"
   },
   {
    "duration": 62,
    "start_time": "2023-05-31T10:45:16.815Z"
   },
   {
    "duration": 18,
    "start_time": "2023-05-31T10:45:16.879Z"
   },
   {
    "duration": 95,
    "start_time": "2023-05-31T10:45:16.899Z"
   },
   {
    "duration": 542,
    "start_time": "2023-05-31T10:46:26.748Z"
   },
   {
    "duration": 31,
    "start_time": "2023-05-31T10:46:27.292Z"
   },
   {
    "duration": 53,
    "start_time": "2023-05-31T10:46:27.325Z"
   },
   {
    "duration": 21,
    "start_time": "2023-05-31T10:46:27.380Z"
   },
   {
    "duration": 68,
    "start_time": "2023-05-31T10:46:27.403Z"
   },
   {
    "duration": 6,
    "start_time": "2023-05-31T10:46:27.473Z"
   },
   {
    "duration": 18,
    "start_time": "2023-05-31T10:46:27.481Z"
   },
   {
    "duration": 6,
    "start_time": "2023-05-31T10:46:27.500Z"
   },
   {
    "duration": 72,
    "start_time": "2023-05-31T10:46:27.508Z"
   },
   {
    "duration": 17,
    "start_time": "2023-05-31T10:46:27.583Z"
   },
   {
    "duration": 57,
    "start_time": "2023-05-31T10:46:27.601Z"
   },
   {
    "duration": 33,
    "start_time": "2023-05-31T10:46:27.660Z"
   },
   {
    "duration": 14,
    "start_time": "2023-05-31T10:46:27.695Z"
   },
   {
    "duration": 61,
    "start_time": "2023-05-31T10:46:27.713Z"
   },
   {
    "duration": 62,
    "start_time": "2023-05-31T10:46:27.776Z"
   },
   {
    "duration": 40,
    "start_time": "2023-05-31T10:46:27.840Z"
   },
   {
    "duration": 5,
    "start_time": "2023-05-31T10:46:27.882Z"
   },
   {
    "duration": 16,
    "start_time": "2023-05-31T10:46:27.888Z"
   },
   {
    "duration": 19,
    "start_time": "2023-05-31T10:46:27.906Z"
   },
   {
    "duration": 36,
    "start_time": "2023-05-31T10:46:27.928Z"
   },
   {
    "duration": 37,
    "start_time": "2023-05-31T10:46:27.966Z"
   },
   {
    "duration": 51,
    "start_time": "2023-05-31T10:46:28.005Z"
   },
   {
    "duration": 17,
    "start_time": "2023-05-31T10:46:28.058Z"
   },
   {
    "duration": 32,
    "start_time": "2023-05-31T10:46:28.077Z"
   },
   {
    "duration": 76,
    "start_time": "2023-05-31T10:46:28.111Z"
   },
   {
    "duration": 8,
    "start_time": "2023-05-31T10:46:28.188Z"
   },
   {
    "duration": 72,
    "start_time": "2023-05-31T10:46:28.197Z"
   },
   {
    "duration": 23,
    "start_time": "2023-05-31T10:46:28.270Z"
   },
   {
    "duration": 6,
    "start_time": "2023-05-31T10:46:28.295Z"
   },
   {
    "duration": 28,
    "start_time": "2023-05-31T10:46:28.303Z"
   },
   {
    "duration": 50,
    "start_time": "2023-05-31T10:46:28.336Z"
   },
   {
    "duration": 39,
    "start_time": "2023-05-31T10:46:28.388Z"
   },
   {
    "duration": 68,
    "start_time": "2023-05-31T10:46:28.429Z"
   },
   {
    "duration": 73,
    "start_time": "2023-05-31T10:46:28.500Z"
   },
   {
    "duration": 75,
    "start_time": "2023-05-31T13:09:57.418Z"
   },
   {
    "duration": 1382,
    "start_time": "2023-05-31T13:10:16.206Z"
   },
   {
    "duration": 29,
    "start_time": "2023-05-31T13:10:17.591Z"
   },
   {
    "duration": 20,
    "start_time": "2023-05-31T13:10:17.622Z"
   },
   {
    "duration": 75,
    "start_time": "2023-05-31T13:10:17.644Z"
   },
   {
    "duration": 80,
    "start_time": "2023-05-31T13:10:17.722Z"
   },
   {
    "duration": 36,
    "start_time": "2023-05-31T13:10:17.806Z"
   },
   {
    "duration": 69,
    "start_time": "2023-05-31T13:10:17.844Z"
   },
   {
    "duration": 20,
    "start_time": "2023-05-31T13:10:17.914Z"
   },
   {
    "duration": 60,
    "start_time": "2023-05-31T13:10:17.936Z"
   },
   {
    "duration": 33,
    "start_time": "2023-05-31T13:10:17.998Z"
   },
   {
    "duration": 101,
    "start_time": "2023-05-31T13:10:18.033Z"
   },
   {
    "duration": 16,
    "start_time": "2023-05-31T13:10:18.136Z"
   },
   {
    "duration": 58,
    "start_time": "2023-05-31T13:10:18.154Z"
   },
   {
    "duration": 43,
    "start_time": "2023-05-31T13:10:18.215Z"
   },
   {
    "duration": 75,
    "start_time": "2023-05-31T13:10:18.260Z"
   },
   {
    "duration": 33,
    "start_time": "2023-05-31T13:10:18.336Z"
   },
   {
    "duration": 28,
    "start_time": "2023-05-31T13:10:18.370Z"
   },
   {
    "duration": 37,
    "start_time": "2023-05-31T13:10:18.400Z"
   },
   {
    "duration": 64,
    "start_time": "2023-05-31T13:10:18.438Z"
   },
   {
    "duration": 22,
    "start_time": "2023-05-31T13:10:18.503Z"
   },
   {
    "duration": 62,
    "start_time": "2023-05-31T13:10:18.526Z"
   },
   {
    "duration": 107,
    "start_time": "2023-05-31T13:10:18.590Z"
   },
   {
    "duration": 21,
    "start_time": "2023-05-31T13:10:18.699Z"
   },
   {
    "duration": 35,
    "start_time": "2023-05-31T13:10:18.722Z"
   },
   {
    "duration": 47,
    "start_time": "2023-05-31T13:10:18.759Z"
   },
   {
    "duration": 31,
    "start_time": "2023-05-31T13:10:18.808Z"
   },
   {
    "duration": 82,
    "start_time": "2023-05-31T13:10:18.841Z"
   },
   {
    "duration": 38,
    "start_time": "2023-05-31T13:10:18.925Z"
   },
   {
    "duration": 53,
    "start_time": "2023-05-31T13:10:18.966Z"
   },
   {
    "duration": 84,
    "start_time": "2023-05-31T13:10:19.021Z"
   },
   {
    "duration": 33,
    "start_time": "2023-05-31T13:10:19.106Z"
   },
   {
    "duration": 68,
    "start_time": "2023-05-31T13:10:19.141Z"
   },
   {
    "duration": 25,
    "start_time": "2023-05-31T13:10:19.210Z"
   },
   {
    "duration": 89,
    "start_time": "2023-05-31T13:10:19.237Z"
   },
   {
    "duration": 3864,
    "start_time": "2023-05-31T13:15:24.867Z"
   },
   {
    "duration": 72,
    "start_time": "2023-05-31T13:15:28.734Z"
   },
   {
    "duration": 24,
    "start_time": "2023-05-31T13:15:28.808Z"
   },
   {
    "duration": 28,
    "start_time": "2023-05-31T13:15:28.835Z"
   },
   {
    "duration": 112,
    "start_time": "2023-05-31T13:15:28.867Z"
   },
   {
    "duration": 13,
    "start_time": "2023-05-31T13:15:28.992Z"
   },
   {
    "duration": 37,
    "start_time": "2023-05-31T13:15:29.006Z"
   },
   {
    "duration": 71,
    "start_time": "2023-05-31T13:15:29.047Z"
   },
   {
    "duration": 84,
    "start_time": "2023-05-31T13:15:29.121Z"
   },
   {
    "duration": 15,
    "start_time": "2023-05-31T13:15:29.207Z"
   },
   {
    "duration": 79,
    "start_time": "2023-05-31T13:15:29.225Z"
   },
   {
    "duration": 16,
    "start_time": "2023-05-31T13:15:29.305Z"
   },
   {
    "duration": 10,
    "start_time": "2023-05-31T13:15:29.323Z"
   },
   {
    "duration": 37,
    "start_time": "2023-05-31T13:15:29.337Z"
   },
   {
    "duration": 60,
    "start_time": "2023-05-31T13:15:29.377Z"
   },
   {
    "duration": 54,
    "start_time": "2023-05-31T13:15:29.439Z"
   },
   {
    "duration": 5,
    "start_time": "2023-05-31T13:15:29.508Z"
   },
   {
    "duration": 49,
    "start_time": "2023-05-31T13:15:29.517Z"
   },
   {
    "duration": 42,
    "start_time": "2023-05-31T13:15:29.583Z"
   },
   {
    "duration": 20,
    "start_time": "2023-05-31T13:15:29.628Z"
   },
   {
    "duration": 109,
    "start_time": "2023-05-31T13:15:29.651Z"
   },
   {
    "duration": 36,
    "start_time": "2023-05-31T13:15:29.780Z"
   },
   {
    "duration": 7,
    "start_time": "2023-05-31T13:15:29.818Z"
   },
   {
    "duration": 43,
    "start_time": "2023-05-31T13:15:29.827Z"
   },
   {
    "duration": 51,
    "start_time": "2023-05-31T13:15:29.873Z"
   },
   {
    "duration": 43,
    "start_time": "2023-05-31T13:15:29.927Z"
   },
   {
    "duration": 121,
    "start_time": "2023-05-31T13:15:29.976Z"
   },
   {
    "duration": 144,
    "start_time": "2023-05-31T13:15:30.098Z"
   },
   {
    "duration": 94,
    "start_time": "2023-05-31T13:15:30.244Z"
   },
   {
    "duration": 88,
    "start_time": "2023-05-31T13:15:30.340Z"
   },
   {
    "duration": 202,
    "start_time": "2023-05-31T13:15:30.430Z"
   },
   {
    "duration": 77,
    "start_time": "2023-05-31T13:15:30.634Z"
   },
   {
    "duration": 80,
    "start_time": "2023-05-31T13:15:30.713Z"
   },
   {
    "duration": 99,
    "start_time": "2023-05-31T13:15:30.795Z"
   },
   {
    "duration": 167,
    "start_time": "2023-05-31T13:29:03.546Z"
   },
   {
    "duration": 105,
    "start_time": "2023-05-31T13:29:22.116Z"
   },
   {
    "duration": 585,
    "start_time": "2023-05-31T13:32:21.904Z"
   },
   {
    "duration": 27,
    "start_time": "2023-05-31T13:32:22.492Z"
   },
   {
    "duration": 43,
    "start_time": "2023-05-31T13:32:22.521Z"
   },
   {
    "duration": 45,
    "start_time": "2023-05-31T13:32:22.572Z"
   },
   {
    "duration": 77,
    "start_time": "2023-05-31T13:32:22.620Z"
   },
   {
    "duration": 11,
    "start_time": "2023-05-31T13:32:22.699Z"
   },
   {
    "duration": 34,
    "start_time": "2023-05-31T13:32:22.712Z"
   },
   {
    "duration": 50,
    "start_time": "2023-05-31T13:32:22.747Z"
   },
   {
    "duration": 41,
    "start_time": "2023-05-31T13:32:22.799Z"
   },
   {
    "duration": 34,
    "start_time": "2023-05-31T13:32:22.842Z"
   },
   {
    "duration": 58,
    "start_time": "2023-05-31T13:32:22.878Z"
   },
   {
    "duration": 58,
    "start_time": "2023-05-31T13:32:22.938Z"
   },
   {
    "duration": 12,
    "start_time": "2023-05-31T13:32:22.998Z"
   },
   {
    "duration": 21,
    "start_time": "2023-05-31T13:32:23.013Z"
   },
   {
    "duration": 89,
    "start_time": "2023-05-31T13:32:23.036Z"
   },
   {
    "duration": 48,
    "start_time": "2023-05-31T13:32:23.127Z"
   },
   {
    "duration": 11,
    "start_time": "2023-05-31T13:32:23.177Z"
   },
   {
    "duration": 23,
    "start_time": "2023-05-31T13:32:23.190Z"
   },
   {
    "duration": 13,
    "start_time": "2023-05-31T13:32:23.215Z"
   },
   {
    "duration": 48,
    "start_time": "2023-05-31T13:32:23.229Z"
   },
   {
    "duration": 32,
    "start_time": "2023-05-31T13:32:23.279Z"
   },
   {
    "duration": 71,
    "start_time": "2023-05-31T13:32:23.313Z"
   },
   {
    "duration": 18,
    "start_time": "2023-05-31T13:32:23.386Z"
   },
   {
    "duration": 32,
    "start_time": "2023-05-31T13:32:23.406Z"
   },
   {
    "duration": 45,
    "start_time": "2023-05-31T13:32:23.440Z"
   },
   {
    "duration": 16,
    "start_time": "2023-05-31T13:32:23.487Z"
   },
   {
    "duration": 62,
    "start_time": "2023-05-31T13:32:23.504Z"
   },
   {
    "duration": 121,
    "start_time": "2023-05-31T13:32:23.572Z"
   },
   {
    "duration": 234,
    "start_time": "2023-05-31T13:32:23.695Z"
   },
   {
    "duration": 58,
    "start_time": "2023-05-31T13:32:23.931Z"
   },
   {
    "duration": 29,
    "start_time": "2023-05-31T13:32:23.991Z"
   },
   {
    "duration": 24,
    "start_time": "2023-05-31T13:32:24.021Z"
   },
   {
    "duration": 40,
    "start_time": "2023-05-31T13:32:24.050Z"
   },
   {
    "duration": 125,
    "start_time": "2023-05-31T13:32:24.092Z"
   },
   {
    "duration": 547,
    "start_time": "2023-05-31T13:37:14.267Z"
   },
   {
    "duration": 35,
    "start_time": "2023-05-31T13:37:14.816Z"
   },
   {
    "duration": 32,
    "start_time": "2023-05-31T13:37:14.858Z"
   },
   {
    "duration": 31,
    "start_time": "2023-05-31T13:37:14.893Z"
   },
   {
    "duration": 65,
    "start_time": "2023-05-31T13:37:14.926Z"
   },
   {
    "duration": 5,
    "start_time": "2023-05-31T13:37:14.993Z"
   },
   {
    "duration": 54,
    "start_time": "2023-05-31T13:37:15.000Z"
   },
   {
    "duration": 35,
    "start_time": "2023-05-31T13:37:15.056Z"
   },
   {
    "duration": 28,
    "start_time": "2023-05-31T13:37:15.093Z"
   },
   {
    "duration": 5,
    "start_time": "2023-05-31T13:37:15.127Z"
   },
   {
    "duration": 60,
    "start_time": "2023-05-31T13:37:15.134Z"
   },
   {
    "duration": 14,
    "start_time": "2023-05-31T13:37:15.196Z"
   },
   {
    "duration": 5,
    "start_time": "2023-05-31T13:37:15.212Z"
   },
   {
    "duration": 45,
    "start_time": "2023-05-31T13:37:15.218Z"
   },
   {
    "duration": 28,
    "start_time": "2023-05-31T13:37:15.264Z"
   },
   {
    "duration": 30,
    "start_time": "2023-05-31T13:37:15.294Z"
   },
   {
    "duration": 4,
    "start_time": "2023-05-31T13:37:15.325Z"
   },
   {
    "duration": 18,
    "start_time": "2023-05-31T13:37:15.330Z"
   },
   {
    "duration": 47,
    "start_time": "2023-05-31T13:37:15.349Z"
   },
   {
    "duration": 12,
    "start_time": "2023-05-31T13:37:15.398Z"
   },
   {
    "duration": 17,
    "start_time": "2023-05-31T13:37:15.411Z"
   },
   {
    "duration": 30,
    "start_time": "2023-05-31T13:37:15.430Z"
   },
   {
    "duration": 8,
    "start_time": "2023-05-31T13:37:15.463Z"
   },
   {
    "duration": 36,
    "start_time": "2023-05-31T13:37:15.473Z"
   },
   {
    "duration": 13,
    "start_time": "2023-05-31T13:37:15.511Z"
   },
   {
    "duration": 10,
    "start_time": "2023-05-31T13:37:15.526Z"
   },
   {
    "duration": 30,
    "start_time": "2023-05-31T13:37:15.538Z"
   },
   {
    "duration": 28,
    "start_time": "2023-05-31T13:37:15.572Z"
   },
   {
    "duration": 25,
    "start_time": "2023-05-31T13:37:15.602Z"
   },
   {
    "duration": 14,
    "start_time": "2023-05-31T13:37:15.629Z"
   },
   {
    "duration": 35,
    "start_time": "2023-05-31T13:37:15.645Z"
   },
   {
    "duration": 15,
    "start_time": "2023-05-31T13:37:15.682Z"
   },
   {
    "duration": 15,
    "start_time": "2023-05-31T13:37:15.699Z"
   },
   {
    "duration": 122,
    "start_time": "2023-05-31T13:37:15.716Z"
   },
   {
    "duration": 149,
    "start_time": "2023-05-31T13:37:15.840Z"
   },
   {
    "duration": 538,
    "start_time": "2023-05-31T13:38:11.192Z"
   },
   {
    "duration": 27,
    "start_time": "2023-05-31T13:38:11.732Z"
   },
   {
    "duration": 64,
    "start_time": "2023-05-31T13:38:11.761Z"
   },
   {
    "duration": 12,
    "start_time": "2023-05-31T13:38:11.827Z"
   },
   {
    "duration": 83,
    "start_time": "2023-05-31T13:38:11.841Z"
   },
   {
    "duration": 4,
    "start_time": "2023-05-31T13:38:11.925Z"
   },
   {
    "duration": 24,
    "start_time": "2023-05-31T13:38:11.931Z"
   },
   {
    "duration": 45,
    "start_time": "2023-05-31T13:38:11.957Z"
   },
   {
    "duration": 31,
    "start_time": "2023-05-31T13:38:12.004Z"
   },
   {
    "duration": 50,
    "start_time": "2023-05-31T13:38:12.037Z"
   },
   {
    "duration": 55,
    "start_time": "2023-05-31T13:38:12.089Z"
   },
   {
    "duration": 23,
    "start_time": "2023-05-31T13:38:12.145Z"
   },
   {
    "duration": 35,
    "start_time": "2023-05-31T13:38:12.169Z"
   },
   {
    "duration": 23,
    "start_time": "2023-05-31T13:38:12.207Z"
   },
   {
    "duration": 31,
    "start_time": "2023-05-31T13:38:12.232Z"
   },
   {
    "duration": 39,
    "start_time": "2023-05-31T13:38:12.264Z"
   },
   {
    "duration": 11,
    "start_time": "2023-05-31T13:38:12.305Z"
   },
   {
    "duration": 35,
    "start_time": "2023-05-31T13:38:12.319Z"
   },
   {
    "duration": 42,
    "start_time": "2023-05-31T13:38:12.363Z"
   },
   {
    "duration": 6,
    "start_time": "2023-05-31T13:38:12.408Z"
   },
   {
    "duration": 15,
    "start_time": "2023-05-31T13:38:12.416Z"
   },
   {
    "duration": 62,
    "start_time": "2023-05-31T13:38:12.434Z"
   },
   {
    "duration": 12,
    "start_time": "2023-05-31T13:38:12.500Z"
   },
   {
    "duration": 17,
    "start_time": "2023-05-31T13:38:12.513Z"
   },
   {
    "duration": 37,
    "start_time": "2023-05-31T13:38:12.532Z"
   },
   {
    "duration": 38,
    "start_time": "2023-05-31T13:38:12.573Z"
   },
   {
    "duration": 28,
    "start_time": "2023-05-31T13:38:12.613Z"
   },
   {
    "duration": 64,
    "start_time": "2023-05-31T13:38:12.643Z"
   },
   {
    "duration": 23,
    "start_time": "2023-05-31T13:38:12.709Z"
   },
   {
    "duration": 23,
    "start_time": "2023-05-31T13:38:12.734Z"
   },
   {
    "duration": 54,
    "start_time": "2023-05-31T13:38:12.758Z"
   },
   {
    "duration": 14,
    "start_time": "2023-05-31T13:38:12.814Z"
   },
   {
    "duration": 48,
    "start_time": "2023-05-31T13:38:12.830Z"
   },
   {
    "duration": 181,
    "start_time": "2023-05-31T13:38:12.880Z"
   },
   {
    "duration": 631,
    "start_time": "2023-05-31T13:49:12.279Z"
   },
   {
    "duration": 46,
    "start_time": "2023-05-31T13:49:12.912Z"
   },
   {
    "duration": 65,
    "start_time": "2023-05-31T13:49:12.968Z"
   },
   {
    "duration": 18,
    "start_time": "2023-05-31T13:49:13.035Z"
   },
   {
    "duration": 91,
    "start_time": "2023-05-31T13:49:13.056Z"
   },
   {
    "duration": 4,
    "start_time": "2023-05-31T13:49:13.155Z"
   },
   {
    "duration": 45,
    "start_time": "2023-05-31T13:49:13.164Z"
   },
   {
    "duration": 20,
    "start_time": "2023-05-31T13:49:13.212Z"
   },
   {
    "duration": 53,
    "start_time": "2023-05-31T13:49:13.234Z"
   },
   {
    "duration": 18,
    "start_time": "2023-05-31T13:49:13.289Z"
   },
   {
    "duration": 71,
    "start_time": "2023-05-31T13:49:13.309Z"
   },
   {
    "duration": 16,
    "start_time": "2023-05-31T13:49:13.387Z"
   },
   {
    "duration": 6,
    "start_time": "2023-05-31T13:49:13.405Z"
   },
   {
    "duration": 19,
    "start_time": "2023-05-31T13:49:13.415Z"
   },
   {
    "duration": 46,
    "start_time": "2023-05-31T13:49:13.437Z"
   },
   {
    "duration": 39,
    "start_time": "2023-05-31T13:49:13.485Z"
   },
   {
    "duration": 4,
    "start_time": "2023-05-31T13:49:13.527Z"
   },
   {
    "duration": 69,
    "start_time": "2023-05-31T13:49:13.533Z"
   },
   {
    "duration": 8,
    "start_time": "2023-05-31T13:49:13.604Z"
   },
   {
    "duration": 8,
    "start_time": "2023-05-31T13:49:13.613Z"
   },
   {
    "duration": 66,
    "start_time": "2023-05-31T13:49:13.623Z"
   },
   {
    "duration": 19,
    "start_time": "2023-05-31T13:49:13.692Z"
   },
   {
    "duration": 7,
    "start_time": "2023-05-31T13:49:13.714Z"
   },
   {
    "duration": 31,
    "start_time": "2023-05-31T13:49:13.723Z"
   },
   {
    "duration": 50,
    "start_time": "2023-05-31T13:49:13.756Z"
   },
   {
    "duration": 23,
    "start_time": "2023-05-31T13:49:13.808Z"
   },
   {
    "duration": 29,
    "start_time": "2023-05-31T13:49:13.833Z"
   },
   {
    "duration": 43,
    "start_time": "2023-05-31T13:49:13.863Z"
   },
   {
    "duration": 21,
    "start_time": "2023-05-31T13:49:13.908Z"
   },
   {
    "duration": 73,
    "start_time": "2023-05-31T13:49:13.931Z"
   },
   {
    "duration": 16,
    "start_time": "2023-05-31T13:49:14.006Z"
   },
   {
    "duration": 16,
    "start_time": "2023-05-31T13:49:14.023Z"
   },
   {
    "duration": 46,
    "start_time": "2023-05-31T13:49:14.040Z"
   },
   {
    "duration": 135,
    "start_time": "2023-05-31T13:49:14.088Z"
   },
   {
    "duration": 128,
    "start_time": "2023-05-31T13:50:36.094Z"
   },
   {
    "duration": 128,
    "start_time": "2023-05-31T13:50:44.840Z"
   },
   {
    "duration": 268,
    "start_time": "2023-05-31T13:50:52.642Z"
   },
   {
    "duration": 25,
    "start_time": "2023-05-31T13:51:45.345Z"
   },
   {
    "duration": 516,
    "start_time": "2023-05-31T13:53:30.296Z"
   },
   {
    "duration": 38,
    "start_time": "2023-05-31T13:53:30.814Z"
   },
   {
    "duration": 61,
    "start_time": "2023-05-31T13:53:30.856Z"
   },
   {
    "duration": 74,
    "start_time": "2023-05-31T13:53:30.919Z"
   },
   {
    "duration": 68,
    "start_time": "2023-05-31T13:53:30.995Z"
   },
   {
    "duration": 28,
    "start_time": "2023-05-31T13:53:31.065Z"
   },
   {
    "duration": 40,
    "start_time": "2023-05-31T13:53:31.095Z"
   },
   {
    "duration": 62,
    "start_time": "2023-05-31T13:53:31.137Z"
   },
   {
    "duration": 42,
    "start_time": "2023-05-31T13:53:31.201Z"
   },
   {
    "duration": 65,
    "start_time": "2023-05-31T13:53:31.251Z"
   },
   {
    "duration": 108,
    "start_time": "2023-05-31T13:53:31.318Z"
   },
   {
    "duration": 12,
    "start_time": "2023-05-31T13:53:31.428Z"
   },
   {
    "duration": 73,
    "start_time": "2023-05-31T13:53:31.442Z"
   },
   {
    "duration": 66,
    "start_time": "2023-05-31T13:53:31.516Z"
   },
   {
    "duration": 47,
    "start_time": "2023-05-31T13:53:31.593Z"
   },
   {
    "duration": 88,
    "start_time": "2023-05-31T13:53:31.642Z"
   },
   {
    "duration": 10,
    "start_time": "2023-05-31T13:53:31.732Z"
   },
   {
    "duration": 85,
    "start_time": "2023-05-31T13:53:31.743Z"
   },
   {
    "duration": 69,
    "start_time": "2023-05-31T13:53:31.830Z"
   },
   {
    "duration": 26,
    "start_time": "2023-05-31T13:53:31.902Z"
   },
   {
    "duration": 72,
    "start_time": "2023-05-31T13:53:31.930Z"
   },
   {
    "duration": 36,
    "start_time": "2023-05-31T13:53:32.004Z"
   },
   {
    "duration": 63,
    "start_time": "2023-05-31T13:53:32.043Z"
   },
   {
    "duration": 29,
    "start_time": "2023-05-31T13:53:32.108Z"
   },
   {
    "duration": 92,
    "start_time": "2023-05-31T13:53:32.139Z"
   },
   {
    "duration": 71,
    "start_time": "2023-05-31T13:53:32.233Z"
   },
   {
    "duration": 28,
    "start_time": "2023-05-31T13:53:32.307Z"
   },
   {
    "duration": 57,
    "start_time": "2023-05-31T13:53:32.340Z"
   },
   {
    "duration": 22,
    "start_time": "2023-05-31T13:53:32.400Z"
   },
   {
    "duration": 44,
    "start_time": "2023-05-31T13:53:32.424Z"
   },
   {
    "duration": 52,
    "start_time": "2023-05-31T13:53:32.476Z"
   },
   {
    "duration": 72,
    "start_time": "2023-05-31T13:53:32.530Z"
   },
   {
    "duration": 40,
    "start_time": "2023-05-31T13:53:32.604Z"
   },
   {
    "duration": 215,
    "start_time": "2023-05-31T13:53:32.646Z"
   },
   {
    "duration": 565,
    "start_time": "2023-05-31T17:04:34.475Z"
   },
   {
    "duration": 24,
    "start_time": "2023-05-31T17:04:35.042Z"
   },
   {
    "duration": 15,
    "start_time": "2023-05-31T17:04:35.067Z"
   },
   {
    "duration": 29,
    "start_time": "2023-05-31T17:04:35.084Z"
   },
   {
    "duration": 37,
    "start_time": "2023-05-31T17:04:35.115Z"
   },
   {
    "duration": 3,
    "start_time": "2023-05-31T17:04:35.154Z"
   },
   {
    "duration": 23,
    "start_time": "2023-05-31T17:04:35.158Z"
   },
   {
    "duration": 5,
    "start_time": "2023-05-31T17:04:35.183Z"
   },
   {
    "duration": 12,
    "start_time": "2023-05-31T17:04:35.190Z"
   },
   {
    "duration": 17,
    "start_time": "2023-05-31T17:04:35.203Z"
   },
   {
    "duration": 36,
    "start_time": "2023-05-31T17:04:35.221Z"
   },
   {
    "duration": 20,
    "start_time": "2023-05-31T17:04:35.259Z"
   },
   {
    "duration": 11,
    "start_time": "2023-05-31T17:04:35.280Z"
   },
   {
    "duration": 25,
    "start_time": "2023-05-31T17:04:35.293Z"
   },
   {
    "duration": 40,
    "start_time": "2023-05-31T17:04:35.319Z"
   },
   {
    "duration": 22,
    "start_time": "2023-05-31T17:04:35.361Z"
   },
   {
    "duration": 8,
    "start_time": "2023-05-31T17:04:35.385Z"
   },
   {
    "duration": 33,
    "start_time": "2023-05-31T17:04:35.395Z"
   },
   {
    "duration": 18,
    "start_time": "2023-05-31T17:04:35.430Z"
   },
   {
    "duration": 30,
    "start_time": "2023-05-31T17:04:35.450Z"
   },
   {
    "duration": 32,
    "start_time": "2023-05-31T17:04:35.482Z"
   },
   {
    "duration": 63,
    "start_time": "2023-05-31T17:04:35.517Z"
   },
   {
    "duration": 6,
    "start_time": "2023-05-31T17:04:35.582Z"
   },
   {
    "duration": 20,
    "start_time": "2023-05-31T17:04:35.589Z"
   },
   {
    "duration": 9,
    "start_time": "2023-05-31T17:04:35.611Z"
   },
   {
    "duration": 18,
    "start_time": "2023-05-31T17:04:35.623Z"
   },
   {
    "duration": 13,
    "start_time": "2023-05-31T17:04:35.643Z"
   },
   {
    "duration": 35,
    "start_time": "2023-05-31T17:04:35.658Z"
   },
   {
    "duration": 26,
    "start_time": "2023-05-31T17:04:35.695Z"
   },
   {
    "duration": 14,
    "start_time": "2023-05-31T17:04:35.723Z"
   },
   {
    "duration": 21,
    "start_time": "2023-05-31T17:04:35.739Z"
   },
   {
    "duration": 15,
    "start_time": "2023-05-31T17:04:35.761Z"
   },
   {
    "duration": 15,
    "start_time": "2023-05-31T17:04:35.777Z"
   },
   {
    "duration": 78,
    "start_time": "2023-05-31T17:04:35.794Z"
   },
   {
    "duration": 424,
    "start_time": "2023-05-31T17:04:55.805Z"
   },
   {
    "duration": 23,
    "start_time": "2023-05-31T17:04:56.231Z"
   },
   {
    "duration": 29,
    "start_time": "2023-05-31T17:04:56.256Z"
   },
   {
    "duration": 10,
    "start_time": "2023-05-31T17:04:56.288Z"
   },
   {
    "duration": 34,
    "start_time": "2023-05-31T17:04:56.300Z"
   },
   {
    "duration": 4,
    "start_time": "2023-05-31T17:04:56.336Z"
   },
   {
    "duration": 37,
    "start_time": "2023-05-31T17:04:56.341Z"
   },
   {
    "duration": 5,
    "start_time": "2023-05-31T17:04:56.380Z"
   },
   {
    "duration": 12,
    "start_time": "2023-05-31T17:04:56.387Z"
   },
   {
    "duration": 4,
    "start_time": "2023-05-31T17:04:56.403Z"
   },
   {
    "duration": 33,
    "start_time": "2023-05-31T17:04:56.408Z"
   },
   {
    "duration": 37,
    "start_time": "2023-05-31T17:04:56.443Z"
   },
   {
    "duration": 4,
    "start_time": "2023-05-31T17:04:56.482Z"
   },
   {
    "duration": 12,
    "start_time": "2023-05-31T17:04:56.488Z"
   },
   {
    "duration": 22,
    "start_time": "2023-05-31T17:04:56.502Z"
   },
   {
    "duration": 17,
    "start_time": "2023-05-31T17:04:56.526Z"
   },
   {
    "duration": 5,
    "start_time": "2023-05-31T17:04:56.544Z"
   },
   {
    "duration": 32,
    "start_time": "2023-05-31T17:04:56.550Z"
   },
   {
    "duration": 11,
    "start_time": "2023-05-31T17:04:56.583Z"
   },
   {
    "duration": 4,
    "start_time": "2023-05-31T17:04:56.596Z"
   },
   {
    "duration": 24,
    "start_time": "2023-05-31T17:04:56.601Z"
   },
   {
    "duration": 15,
    "start_time": "2023-05-31T17:04:56.626Z"
   },
   {
    "duration": 5,
    "start_time": "2023-05-31T17:04:56.643Z"
   },
   {
    "duration": 13,
    "start_time": "2023-05-31T17:04:56.650Z"
   },
   {
    "duration": 7,
    "start_time": "2023-05-31T17:04:56.678Z"
   },
   {
    "duration": 8,
    "start_time": "2023-05-31T17:04:56.686Z"
   },
   {
    "duration": 13,
    "start_time": "2023-05-31T17:04:56.695Z"
   },
   {
    "duration": 16,
    "start_time": "2023-05-31T17:04:56.711Z"
   },
   {
    "duration": 10,
    "start_time": "2023-05-31T17:04:56.729Z"
   },
   {
    "duration": 12,
    "start_time": "2023-05-31T17:04:56.741Z"
   },
   {
    "duration": 30,
    "start_time": "2023-05-31T17:04:56.754Z"
   },
   {
    "duration": 7,
    "start_time": "2023-05-31T17:04:56.786Z"
   },
   {
    "duration": 12,
    "start_time": "2023-05-31T17:04:56.795Z"
   },
   {
    "duration": 78,
    "start_time": "2023-05-31T17:04:56.809Z"
   },
   {
    "duration": 487,
    "start_time": "2023-06-01T13:13:58.427Z"
   },
   {
    "duration": 22,
    "start_time": "2023-06-01T13:13:58.916Z"
   },
   {
    "duration": 14,
    "start_time": "2023-06-01T13:13:58.939Z"
   },
   {
    "duration": 9,
    "start_time": "2023-06-01T13:13:58.955Z"
   },
   {
    "duration": 39,
    "start_time": "2023-06-01T13:13:58.966Z"
   },
   {
    "duration": 4,
    "start_time": "2023-06-01T13:13:59.006Z"
   },
   {
    "duration": 10,
    "start_time": "2023-06-01T13:13:59.011Z"
   },
   {
    "duration": 9,
    "start_time": "2023-06-01T13:13:59.022Z"
   },
   {
    "duration": 7,
    "start_time": "2023-06-01T13:13:59.033Z"
   },
   {
    "duration": 4,
    "start_time": "2023-06-01T13:13:59.043Z"
   },
   {
    "duration": 54,
    "start_time": "2023-06-01T13:13:59.048Z"
   },
   {
    "duration": 9,
    "start_time": "2023-06-01T13:13:59.104Z"
   },
   {
    "duration": 8,
    "start_time": "2023-06-01T13:13:59.115Z"
   },
   {
    "duration": 11,
    "start_time": "2023-06-01T13:13:59.125Z"
   },
   {
    "duration": 23,
    "start_time": "2023-06-01T13:13:59.137Z"
   },
   {
    "duration": 18,
    "start_time": "2023-06-01T13:13:59.178Z"
   },
   {
    "duration": 3,
    "start_time": "2023-06-01T13:13:59.198Z"
   },
   {
    "duration": 20,
    "start_time": "2023-06-01T13:13:59.203Z"
   },
   {
    "duration": 6,
    "start_time": "2023-06-01T13:13:59.224Z"
   },
   {
    "duration": 4,
    "start_time": "2023-06-01T13:13:59.231Z"
   },
   {
    "duration": 13,
    "start_time": "2023-06-01T13:13:59.236Z"
   },
   {
    "duration": 29,
    "start_time": "2023-06-01T13:13:59.250Z"
   },
   {
    "duration": 5,
    "start_time": "2023-06-01T13:13:59.281Z"
   },
   {
    "duration": 13,
    "start_time": "2023-06-01T13:13:59.288Z"
   },
   {
    "duration": 23,
    "start_time": "2023-06-01T13:13:59.302Z"
   },
   {
    "duration": 8,
    "start_time": "2023-06-01T13:13:59.326Z"
   },
   {
    "duration": 13,
    "start_time": "2023-06-01T13:13:59.336Z"
   },
   {
    "duration": 28,
    "start_time": "2023-06-01T13:13:59.352Z"
   },
   {
    "duration": 8,
    "start_time": "2023-06-01T13:13:59.382Z"
   },
   {
    "duration": 24,
    "start_time": "2023-06-01T13:13:59.392Z"
   },
   {
    "duration": 10,
    "start_time": "2023-06-01T13:13:59.418Z"
   },
   {
    "duration": 7,
    "start_time": "2023-06-01T13:13:59.430Z"
   },
   {
    "duration": 15,
    "start_time": "2023-06-01T13:13:59.439Z"
   },
   {
    "duration": 63,
    "start_time": "2023-06-01T13:13:59.477Z"
   },
   {
    "duration": 466,
    "start_time": "2023-06-01T13:17:43.313Z"
   },
   {
    "duration": 23,
    "start_time": "2023-06-01T13:17:43.781Z"
   },
   {
    "duration": 15,
    "start_time": "2023-06-01T13:17:43.806Z"
   },
   {
    "duration": 9,
    "start_time": "2023-06-01T13:17:43.823Z"
   },
   {
    "duration": 59,
    "start_time": "2023-06-01T13:17:43.834Z"
   },
   {
    "duration": 5,
    "start_time": "2023-06-01T13:17:43.894Z"
   },
   {
    "duration": 11,
    "start_time": "2023-06-01T13:17:43.901Z"
   },
   {
    "duration": 4,
    "start_time": "2023-06-01T13:17:43.914Z"
   },
   {
    "duration": 7,
    "start_time": "2023-06-01T13:17:43.921Z"
   },
   {
    "duration": 4,
    "start_time": "2023-06-01T13:17:43.931Z"
   },
   {
    "duration": 69,
    "start_time": "2023-06-01T13:17:43.936Z"
   },
   {
    "duration": 10,
    "start_time": "2023-06-01T13:17:44.007Z"
   },
   {
    "duration": 6,
    "start_time": "2023-06-01T13:17:44.019Z"
   },
   {
    "duration": 17,
    "start_time": "2023-06-01T13:17:44.027Z"
   },
   {
    "duration": 39,
    "start_time": "2023-06-01T13:17:44.046Z"
   },
   {
    "duration": 18,
    "start_time": "2023-06-01T13:17:44.087Z"
   },
   {
    "duration": 4,
    "start_time": "2023-06-01T13:17:44.107Z"
   },
   {
    "duration": 20,
    "start_time": "2023-06-01T13:17:44.112Z"
   },
   {
    "duration": 10,
    "start_time": "2023-06-01T13:17:44.133Z"
   },
   {
    "duration": 3,
    "start_time": "2023-06-01T13:17:44.146Z"
   },
   {
    "duration": 32,
    "start_time": "2023-06-01T13:17:44.151Z"
   },
   {
    "duration": 12,
    "start_time": "2023-06-01T13:17:44.185Z"
   },
   {
    "duration": 6,
    "start_time": "2023-06-01T13:17:44.198Z"
   },
   {
    "duration": 13,
    "start_time": "2023-06-01T13:17:44.206Z"
   },
   {
    "duration": 18,
    "start_time": "2023-06-01T13:17:44.221Z"
   },
   {
    "duration": 21,
    "start_time": "2023-06-01T13:17:44.241Z"
   },
   {
    "duration": 13,
    "start_time": "2023-06-01T13:17:44.277Z"
   },
   {
    "duration": 8,
    "start_time": "2023-06-01T13:17:44.293Z"
   },
   {
    "duration": 10,
    "start_time": "2023-06-01T13:17:44.302Z"
   },
   {
    "duration": 12,
    "start_time": "2023-06-01T13:17:44.314Z"
   },
   {
    "duration": 7,
    "start_time": "2023-06-01T13:17:44.328Z"
   },
   {
    "duration": 7,
    "start_time": "2023-06-01T13:17:44.337Z"
   },
   {
    "duration": 13,
    "start_time": "2023-06-01T13:17:44.378Z"
   },
   {
    "duration": 67,
    "start_time": "2023-06-01T13:17:44.392Z"
   },
   {
    "duration": 454,
    "start_time": "2023-06-01T14:04:13.751Z"
   },
   {
    "duration": 24,
    "start_time": "2023-06-01T14:04:14.208Z"
   },
   {
    "duration": 15,
    "start_time": "2023-06-01T14:04:14.234Z"
   },
   {
    "duration": 34,
    "start_time": "2023-06-01T14:04:14.251Z"
   },
   {
    "duration": 45,
    "start_time": "2023-06-01T14:04:14.286Z"
   },
   {
    "duration": 3,
    "start_time": "2023-06-01T14:04:14.333Z"
   },
   {
    "duration": 8,
    "start_time": "2023-06-01T14:04:14.338Z"
   },
   {
    "duration": 4,
    "start_time": "2023-06-01T14:04:14.348Z"
   },
   {
    "duration": 42,
    "start_time": "2023-06-01T14:04:14.354Z"
   },
   {
    "duration": 11,
    "start_time": "2023-06-01T14:04:14.400Z"
   },
   {
    "duration": 35,
    "start_time": "2023-06-01T14:04:14.413Z"
   },
   {
    "duration": 10,
    "start_time": "2023-06-01T14:04:14.449Z"
   },
   {
    "duration": 19,
    "start_time": "2023-06-01T14:04:14.461Z"
   },
   {
    "duration": 17,
    "start_time": "2023-06-01T14:04:14.482Z"
   },
   {
    "duration": 19,
    "start_time": "2023-06-01T14:04:14.501Z"
   },
   {
    "duration": 17,
    "start_time": "2023-06-01T14:04:14.522Z"
   },
   {
    "duration": 4,
    "start_time": "2023-06-01T14:04:14.541Z"
   },
   {
    "duration": 48,
    "start_time": "2023-06-01T14:04:14.546Z"
   },
   {
    "duration": 7,
    "start_time": "2023-06-01T14:04:14.596Z"
   },
   {
    "duration": 3,
    "start_time": "2023-06-01T14:04:14.605Z"
   },
   {
    "duration": 11,
    "start_time": "2023-06-01T14:04:14.610Z"
   },
   {
    "duration": 17,
    "start_time": "2023-06-01T14:04:14.622Z"
   },
   {
    "duration": 6,
    "start_time": "2023-06-01T14:04:14.640Z"
   },
   {
    "duration": 47,
    "start_time": "2023-06-01T14:04:14.648Z"
   },
   {
    "duration": 9,
    "start_time": "2023-06-01T14:04:14.697Z"
   },
   {
    "duration": 7,
    "start_time": "2023-06-01T14:04:14.707Z"
   },
   {
    "duration": 12,
    "start_time": "2023-06-01T14:04:14.716Z"
   },
   {
    "duration": 10,
    "start_time": "2023-06-01T14:04:14.731Z"
   },
   {
    "duration": 39,
    "start_time": "2023-06-01T14:04:14.742Z"
   },
   {
    "duration": 19,
    "start_time": "2023-06-01T14:04:14.784Z"
   },
   {
    "duration": 11,
    "start_time": "2023-06-01T14:04:14.805Z"
   },
   {
    "duration": 8,
    "start_time": "2023-06-01T14:04:14.818Z"
   },
   {
    "duration": 14,
    "start_time": "2023-06-01T14:04:14.827Z"
   },
   {
    "duration": 85,
    "start_time": "2023-06-01T14:04:14.843Z"
   },
   {
    "duration": 479,
    "start_time": "2023-06-01T14:09:36.298Z"
   },
   {
    "duration": 26,
    "start_time": "2023-06-01T14:09:36.780Z"
   },
   {
    "duration": 15,
    "start_time": "2023-06-01T14:09:36.808Z"
   },
   {
    "duration": 10,
    "start_time": "2023-06-01T14:09:36.825Z"
   },
   {
    "duration": 65,
    "start_time": "2023-06-01T14:09:36.838Z"
   },
   {
    "duration": 4,
    "start_time": "2023-06-01T14:09:36.905Z"
   },
   {
    "duration": 12,
    "start_time": "2023-06-01T14:09:36.910Z"
   },
   {
    "duration": 4,
    "start_time": "2023-06-01T14:09:36.924Z"
   },
   {
    "duration": 8,
    "start_time": "2023-06-01T14:09:36.929Z"
   },
   {
    "duration": 5,
    "start_time": "2023-06-01T14:09:36.941Z"
   },
   {
    "duration": 61,
    "start_time": "2023-06-01T14:09:36.947Z"
   },
   {
    "duration": 9,
    "start_time": "2023-06-01T14:09:37.010Z"
   },
   {
    "duration": 7,
    "start_time": "2023-06-01T14:09:37.020Z"
   },
   {
    "duration": 19,
    "start_time": "2023-06-01T14:09:37.028Z"
   },
   {
    "duration": 45,
    "start_time": "2023-06-01T14:09:37.048Z"
   },
   {
    "duration": 17,
    "start_time": "2023-06-01T14:09:37.095Z"
   },
   {
    "duration": 16,
    "start_time": "2023-06-01T14:09:37.113Z"
   },
   {
    "duration": 37,
    "start_time": "2023-06-01T14:09:37.131Z"
   },
   {
    "duration": 9,
    "start_time": "2023-06-01T14:09:37.169Z"
   },
   {
    "duration": 21,
    "start_time": "2023-06-01T14:09:37.181Z"
   },
   {
    "duration": 60,
    "start_time": "2023-06-01T14:09:37.204Z"
   },
   {
    "duration": 54,
    "start_time": "2023-06-01T14:09:37.266Z"
   },
   {
    "duration": 30,
    "start_time": "2023-06-01T14:09:37.321Z"
   },
   {
    "duration": 44,
    "start_time": "2023-06-01T14:09:37.353Z"
   },
   {
    "duration": 12,
    "start_time": "2023-06-01T14:09:37.399Z"
   },
   {
    "duration": 20,
    "start_time": "2023-06-01T14:09:37.413Z"
   },
   {
    "duration": 33,
    "start_time": "2023-06-01T14:09:37.435Z"
   },
   {
    "duration": 33,
    "start_time": "2023-06-01T14:09:37.472Z"
   },
   {
    "duration": 20,
    "start_time": "2023-06-01T14:09:37.507Z"
   },
   {
    "duration": 16,
    "start_time": "2023-06-01T14:09:37.529Z"
   },
   {
    "duration": 10,
    "start_time": "2023-06-01T14:09:37.548Z"
   },
   {
    "duration": 8,
    "start_time": "2023-06-01T14:09:37.559Z"
   },
   {
    "duration": 25,
    "start_time": "2023-06-01T14:09:37.569Z"
   },
   {
    "duration": 93,
    "start_time": "2023-06-01T14:09:37.595Z"
   },
   {
    "duration": 565,
    "start_time": "2023-06-01T14:10:47.459Z"
   },
   {
    "duration": 33,
    "start_time": "2023-06-01T14:10:48.028Z"
   },
   {
    "duration": 26,
    "start_time": "2023-06-01T14:10:48.062Z"
   },
   {
    "duration": 15,
    "start_time": "2023-06-01T14:10:48.090Z"
   },
   {
    "duration": 40,
    "start_time": "2023-06-01T14:10:48.108Z"
   },
   {
    "duration": 4,
    "start_time": "2023-06-01T14:10:48.149Z"
   },
   {
    "duration": 42,
    "start_time": "2023-06-01T14:10:48.155Z"
   },
   {
    "duration": 9,
    "start_time": "2023-06-01T14:10:48.199Z"
   },
   {
    "duration": 36,
    "start_time": "2023-06-01T14:10:48.210Z"
   },
   {
    "duration": 7,
    "start_time": "2023-06-01T14:10:48.248Z"
   },
   {
    "duration": 64,
    "start_time": "2023-06-01T14:10:48.257Z"
   },
   {
    "duration": 10,
    "start_time": "2023-06-01T14:10:48.325Z"
   },
   {
    "duration": 9,
    "start_time": "2023-06-01T14:10:48.337Z"
   },
   {
    "duration": 33,
    "start_time": "2023-06-01T14:10:48.350Z"
   },
   {
    "duration": 28,
    "start_time": "2023-06-01T14:10:48.390Z"
   },
   {
    "duration": 23,
    "start_time": "2023-06-01T14:10:48.420Z"
   },
   {
    "duration": 5,
    "start_time": "2023-06-01T14:10:48.445Z"
   },
   {
    "duration": 37,
    "start_time": "2023-06-01T14:10:48.452Z"
   },
   {
    "duration": 10,
    "start_time": "2023-06-01T14:10:48.493Z"
   },
   {
    "duration": 27,
    "start_time": "2023-06-01T14:10:48.504Z"
   },
   {
    "duration": 17,
    "start_time": "2023-06-01T14:10:48.537Z"
   },
   {
    "duration": 31,
    "start_time": "2023-06-01T14:10:48.556Z"
   },
   {
    "duration": 8,
    "start_time": "2023-06-01T14:10:48.593Z"
   },
   {
    "duration": 33,
    "start_time": "2023-06-01T14:10:48.603Z"
   },
   {
    "duration": 49,
    "start_time": "2023-06-01T14:10:48.638Z"
   },
   {
    "duration": 18,
    "start_time": "2023-06-01T14:10:48.689Z"
   },
   {
    "duration": 16,
    "start_time": "2023-06-01T14:10:48.709Z"
   },
   {
    "duration": 31,
    "start_time": "2023-06-01T14:10:48.727Z"
   },
   {
    "duration": 32,
    "start_time": "2023-06-01T14:10:48.759Z"
   },
   {
    "duration": 21,
    "start_time": "2023-06-01T14:10:48.797Z"
   },
   {
    "duration": 17,
    "start_time": "2023-06-01T14:10:48.819Z"
   },
   {
    "duration": 10,
    "start_time": "2023-06-01T14:10:48.838Z"
   },
   {
    "duration": 24,
    "start_time": "2023-06-01T14:10:48.849Z"
   },
   {
    "duration": 86,
    "start_time": "2023-06-01T14:10:48.875Z"
   },
   {
    "duration": 512,
    "start_time": "2023-06-01T14:11:25.564Z"
   },
   {
    "duration": 32,
    "start_time": "2023-06-01T14:11:26.079Z"
   },
   {
    "duration": 64,
    "start_time": "2023-06-01T14:11:26.112Z"
   },
   {
    "duration": 24,
    "start_time": "2023-06-01T14:11:26.180Z"
   },
   {
    "duration": 42,
    "start_time": "2023-06-01T14:11:26.206Z"
   },
   {
    "duration": 3,
    "start_time": "2023-06-01T14:11:26.250Z"
   },
   {
    "duration": 33,
    "start_time": "2023-06-01T14:11:26.255Z"
   },
   {
    "duration": 17,
    "start_time": "2023-06-01T14:11:26.290Z"
   },
   {
    "duration": 12,
    "start_time": "2023-06-01T14:11:26.309Z"
   },
   {
    "duration": 6,
    "start_time": "2023-06-01T14:11:26.324Z"
   },
   {
    "duration": 56,
    "start_time": "2023-06-01T14:11:26.331Z"
   },
   {
    "duration": 10,
    "start_time": "2023-06-01T14:11:26.390Z"
   },
   {
    "duration": 14,
    "start_time": "2023-06-01T14:11:26.402Z"
   },
   {
    "duration": 34,
    "start_time": "2023-06-01T14:11:26.418Z"
   },
   {
    "duration": 38,
    "start_time": "2023-06-01T14:11:26.454Z"
   },
   {
    "duration": 18,
    "start_time": "2023-06-01T14:11:26.494Z"
   },
   {
    "duration": 4,
    "start_time": "2023-06-01T14:11:26.513Z"
   },
   {
    "duration": 27,
    "start_time": "2023-06-01T14:11:26.518Z"
   },
   {
    "duration": 27,
    "start_time": "2023-06-01T14:11:26.546Z"
   },
   {
    "duration": 23,
    "start_time": "2023-06-01T14:11:26.575Z"
   },
   {
    "duration": 138,
    "start_time": "2023-06-01T14:11:26.600Z"
   },
   {
    "duration": 103,
    "start_time": "2023-06-01T14:11:26.740Z"
   },
   {
    "duration": 43,
    "start_time": "2023-06-01T14:11:26.845Z"
   },
   {
    "duration": 33,
    "start_time": "2023-06-01T14:11:26.890Z"
   },
   {
    "duration": 17,
    "start_time": "2023-06-01T14:11:26.924Z"
   },
   {
    "duration": 25,
    "start_time": "2023-06-01T14:11:26.942Z"
   },
   {
    "duration": 23,
    "start_time": "2023-06-01T14:11:26.969Z"
   },
   {
    "duration": 13,
    "start_time": "2023-06-01T14:11:26.996Z"
   },
   {
    "duration": 17,
    "start_time": "2023-06-01T14:11:27.011Z"
   },
   {
    "duration": 20,
    "start_time": "2023-06-01T14:11:27.029Z"
   },
   {
    "duration": 7,
    "start_time": "2023-06-01T14:11:27.052Z"
   },
   {
    "duration": 42,
    "start_time": "2023-06-01T14:11:27.061Z"
   },
   {
    "duration": 37,
    "start_time": "2023-06-01T14:11:27.105Z"
   },
   {
    "duration": 103,
    "start_time": "2023-06-01T14:11:27.144Z"
   },
   {
    "duration": 443,
    "start_time": "2023-06-01T14:12:52.903Z"
   },
   {
    "duration": 22,
    "start_time": "2023-06-01T14:12:53.348Z"
   },
   {
    "duration": 18,
    "start_time": "2023-06-01T14:12:53.371Z"
   },
   {
    "duration": 9,
    "start_time": "2023-06-01T14:12:53.392Z"
   },
   {
    "duration": 31,
    "start_time": "2023-06-01T14:12:53.402Z"
   },
   {
    "duration": 3,
    "start_time": "2023-06-01T14:12:53.435Z"
   },
   {
    "duration": 10,
    "start_time": "2023-06-01T14:12:53.439Z"
   },
   {
    "duration": 4,
    "start_time": "2023-06-01T14:12:53.451Z"
   },
   {
    "duration": 40,
    "start_time": "2023-06-01T14:12:53.456Z"
   },
   {
    "duration": 4,
    "start_time": "2023-06-01T14:12:53.499Z"
   },
   {
    "duration": 31,
    "start_time": "2023-06-01T14:12:53.504Z"
   },
   {
    "duration": 9,
    "start_time": "2023-06-01T14:12:53.537Z"
   },
   {
    "duration": 4,
    "start_time": "2023-06-01T14:12:53.547Z"
   },
   {
    "duration": 39,
    "start_time": "2023-06-01T14:12:53.553Z"
   },
   {
    "duration": 18,
    "start_time": "2023-06-01T14:12:53.594Z"
   },
   {
    "duration": 15,
    "start_time": "2023-06-01T14:12:53.613Z"
   },
   {
    "duration": 4,
    "start_time": "2023-06-01T14:12:53.630Z"
   },
   {
    "duration": 27,
    "start_time": "2023-06-01T14:12:53.635Z"
   },
   {
    "duration": 14,
    "start_time": "2023-06-01T14:12:53.663Z"
   },
   {
    "duration": 12,
    "start_time": "2023-06-01T14:12:53.686Z"
   },
   {
    "duration": 11,
    "start_time": "2023-06-01T14:12:53.699Z"
   },
   {
    "duration": 10,
    "start_time": "2023-06-01T14:12:53.712Z"
   },
   {
    "duration": 5,
    "start_time": "2023-06-01T14:12:53.723Z"
   },
   {
    "duration": 14,
    "start_time": "2023-06-01T14:12:53.730Z"
   },
   {
    "duration": 10,
    "start_time": "2023-06-01T14:12:53.746Z"
   },
   {
    "duration": 7,
    "start_time": "2023-06-01T14:12:53.757Z"
   },
   {
    "duration": 29,
    "start_time": "2023-06-01T14:12:53.766Z"
   },
   {
    "duration": 10,
    "start_time": "2023-06-01T14:12:53.798Z"
   },
   {
    "duration": 8,
    "start_time": "2023-06-01T14:12:53.810Z"
   },
   {
    "duration": 12,
    "start_time": "2023-06-01T14:12:53.819Z"
   },
   {
    "duration": 7,
    "start_time": "2023-06-01T14:12:53.833Z"
   },
   {
    "duration": 11,
    "start_time": "2023-06-01T14:12:53.842Z"
   },
   {
    "duration": 38,
    "start_time": "2023-06-01T14:12:53.854Z"
   },
   {
    "duration": 77,
    "start_time": "2023-06-01T14:12:53.894Z"
   },
   {
    "duration": 519,
    "start_time": "2023-06-01T14:14:40.352Z"
   },
   {
    "duration": 25,
    "start_time": "2023-06-01T14:14:40.874Z"
   },
   {
    "duration": 33,
    "start_time": "2023-06-01T14:14:40.901Z"
   },
   {
    "duration": 11,
    "start_time": "2023-06-01T14:14:40.936Z"
   },
   {
    "duration": 45,
    "start_time": "2023-06-01T14:14:40.949Z"
   },
   {
    "duration": 4,
    "start_time": "2023-06-01T14:14:40.996Z"
   },
   {
    "duration": 16,
    "start_time": "2023-06-01T14:14:41.002Z"
   },
   {
    "duration": 11,
    "start_time": "2023-06-01T14:14:41.020Z"
   },
   {
    "duration": 42,
    "start_time": "2023-06-01T14:14:41.033Z"
   },
   {
    "duration": 6,
    "start_time": "2023-06-01T14:14:41.077Z"
   },
   {
    "duration": 41,
    "start_time": "2023-06-01T14:14:41.084Z"
   },
   {
    "duration": 10,
    "start_time": "2023-06-01T14:14:41.127Z"
   },
   {
    "duration": 31,
    "start_time": "2023-06-01T14:14:41.139Z"
   },
   {
    "duration": 27,
    "start_time": "2023-06-01T14:14:41.173Z"
   },
   {
    "duration": 27,
    "start_time": "2023-06-01T14:14:41.202Z"
   },
   {
    "duration": 18,
    "start_time": "2023-06-01T14:14:41.231Z"
   },
   {
    "duration": 5,
    "start_time": "2023-06-01T14:14:41.251Z"
   },
   {
    "duration": 35,
    "start_time": "2023-06-01T14:14:41.257Z"
   },
   {
    "duration": 23,
    "start_time": "2023-06-01T14:14:41.294Z"
   },
   {
    "duration": 6,
    "start_time": "2023-06-01T14:14:41.319Z"
   },
   {
    "duration": 24,
    "start_time": "2023-06-01T14:14:41.326Z"
   },
   {
    "duration": 13,
    "start_time": "2023-06-01T14:14:41.352Z"
   },
   {
    "duration": 12,
    "start_time": "2023-06-01T14:14:41.367Z"
   },
   {
    "duration": 30,
    "start_time": "2023-06-01T14:14:41.380Z"
   },
   {
    "duration": 42,
    "start_time": "2023-06-01T14:14:41.412Z"
   },
   {
    "duration": 8,
    "start_time": "2023-06-01T14:14:41.455Z"
   },
   {
    "duration": 25,
    "start_time": "2023-06-01T14:14:41.464Z"
   },
   {
    "duration": 17,
    "start_time": "2023-06-01T14:14:41.490Z"
   },
   {
    "duration": 43,
    "start_time": "2023-06-01T14:14:41.509Z"
   },
   {
    "duration": 26,
    "start_time": "2023-06-01T14:14:41.554Z"
   },
   {
    "duration": 14,
    "start_time": "2023-06-01T14:14:41.581Z"
   },
   {
    "duration": 11,
    "start_time": "2023-06-01T14:14:41.596Z"
   },
   {
    "duration": 11,
    "start_time": "2023-06-01T14:14:41.608Z"
   },
   {
    "duration": 72,
    "start_time": "2023-06-01T14:14:41.621Z"
   },
   {
    "duration": 498,
    "start_time": "2023-06-01T14:16:16.941Z"
   },
   {
    "duration": 22,
    "start_time": "2023-06-01T14:16:17.440Z"
   },
   {
    "duration": 17,
    "start_time": "2023-06-01T14:16:17.464Z"
   },
   {
    "duration": 19,
    "start_time": "2023-06-01T14:16:17.483Z"
   },
   {
    "duration": 43,
    "start_time": "2023-06-01T14:16:17.505Z"
   },
   {
    "duration": 4,
    "start_time": "2023-06-01T14:16:17.550Z"
   },
   {
    "duration": 23,
    "start_time": "2023-06-01T14:16:17.555Z"
   },
   {
    "duration": 10,
    "start_time": "2023-06-01T14:16:17.580Z"
   },
   {
    "duration": 23,
    "start_time": "2023-06-01T14:16:17.592Z"
   },
   {
    "duration": 16,
    "start_time": "2023-06-01T14:16:17.617Z"
   },
   {
    "duration": 55,
    "start_time": "2023-06-01T14:16:17.635Z"
   },
   {
    "duration": 12,
    "start_time": "2023-06-01T14:16:17.692Z"
   },
   {
    "duration": 22,
    "start_time": "2023-06-01T14:16:17.707Z"
   },
   {
    "duration": 41,
    "start_time": "2023-06-01T14:16:17.734Z"
   },
   {
    "duration": 33,
    "start_time": "2023-06-01T14:16:17.778Z"
   },
   {
    "duration": 34,
    "start_time": "2023-06-01T14:16:17.813Z"
   },
   {
    "duration": 13,
    "start_time": "2023-06-01T14:16:17.850Z"
   },
   {
    "duration": 34,
    "start_time": "2023-06-01T14:16:17.866Z"
   },
   {
    "duration": 10,
    "start_time": "2023-06-01T14:16:17.902Z"
   },
   {
    "duration": 33,
    "start_time": "2023-06-01T14:16:17.914Z"
   },
   {
    "duration": 44,
    "start_time": "2023-06-01T14:16:17.949Z"
   },
   {
    "duration": 49,
    "start_time": "2023-06-01T14:16:17.994Z"
   },
   {
    "duration": 20,
    "start_time": "2023-06-01T14:16:18.045Z"
   },
   {
    "duration": 29,
    "start_time": "2023-06-01T14:16:18.067Z"
   },
   {
    "duration": 37,
    "start_time": "2023-06-01T14:16:18.098Z"
   },
   {
    "duration": 35,
    "start_time": "2023-06-01T14:16:18.137Z"
   },
   {
    "duration": 37,
    "start_time": "2023-06-01T14:16:18.175Z"
   },
   {
    "duration": 30,
    "start_time": "2023-06-01T14:16:18.214Z"
   },
   {
    "duration": 42,
    "start_time": "2023-06-01T14:16:18.246Z"
   },
   {
    "duration": 52,
    "start_time": "2023-06-01T14:16:18.290Z"
   },
   {
    "duration": 45,
    "start_time": "2023-06-01T14:16:18.344Z"
   },
   {
    "duration": 37,
    "start_time": "2023-06-01T14:16:18.390Z"
   },
   {
    "duration": 59,
    "start_time": "2023-06-01T14:16:18.428Z"
   },
   {
    "duration": 134,
    "start_time": "2023-06-01T14:16:18.489Z"
   },
   {
    "duration": 505,
    "start_time": "2023-06-01T14:16:41.046Z"
   },
   {
    "duration": 33,
    "start_time": "2023-06-01T14:16:41.553Z"
   },
   {
    "duration": 15,
    "start_time": "2023-06-01T14:16:41.588Z"
   },
   {
    "duration": 8,
    "start_time": "2023-06-01T14:16:41.605Z"
   },
   {
    "duration": 31,
    "start_time": "2023-06-01T14:16:41.615Z"
   },
   {
    "duration": 4,
    "start_time": "2023-06-01T14:16:41.647Z"
   },
   {
    "duration": 33,
    "start_time": "2023-06-01T14:16:41.653Z"
   },
   {
    "duration": 6,
    "start_time": "2023-06-01T14:16:41.688Z"
   },
   {
    "duration": 12,
    "start_time": "2023-06-01T14:16:41.696Z"
   },
   {
    "duration": 5,
    "start_time": "2023-06-01T14:16:41.710Z"
   },
   {
    "duration": 63,
    "start_time": "2023-06-01T14:16:41.716Z"
   },
   {
    "duration": 10,
    "start_time": "2023-06-01T14:16:41.781Z"
   },
   {
    "duration": 5,
    "start_time": "2023-06-01T14:16:41.793Z"
   },
   {
    "duration": 18,
    "start_time": "2023-06-01T14:16:41.802Z"
   },
   {
    "duration": 25,
    "start_time": "2023-06-01T14:16:41.822Z"
   },
   {
    "duration": 44,
    "start_time": "2023-06-01T14:16:41.849Z"
   },
   {
    "duration": 4,
    "start_time": "2023-06-01T14:16:41.895Z"
   },
   {
    "duration": 13,
    "start_time": "2023-06-01T14:16:41.901Z"
   },
   {
    "duration": 8,
    "start_time": "2023-06-01T14:16:41.915Z"
   },
   {
    "duration": 6,
    "start_time": "2023-06-01T14:16:41.925Z"
   },
   {
    "duration": 11,
    "start_time": "2023-06-01T14:16:41.932Z"
   },
   {
    "duration": 37,
    "start_time": "2023-06-01T14:16:41.945Z"
   },
   {
    "duration": 6,
    "start_time": "2023-06-01T14:16:41.984Z"
   },
   {
    "duration": 15,
    "start_time": "2023-06-01T14:16:41.991Z"
   },
   {
    "duration": 12,
    "start_time": "2023-06-01T14:16:42.008Z"
   },
   {
    "duration": 9,
    "start_time": "2023-06-01T14:16:42.022Z"
   },
   {
    "duration": 56,
    "start_time": "2023-06-01T14:16:42.033Z"
   },
   {
    "duration": 16,
    "start_time": "2023-06-01T14:16:42.091Z"
   },
   {
    "duration": 33,
    "start_time": "2023-06-01T14:16:42.110Z"
   },
   {
    "duration": 18,
    "start_time": "2023-06-01T14:16:42.145Z"
   },
   {
    "duration": 8,
    "start_time": "2023-06-01T14:16:42.165Z"
   },
   {
    "duration": 7,
    "start_time": "2023-06-01T14:16:42.178Z"
   },
   {
    "duration": 13,
    "start_time": "2023-06-01T14:16:42.187Z"
   },
   {
    "duration": 90,
    "start_time": "2023-06-01T14:16:42.201Z"
   },
   {
    "duration": 496,
    "start_time": "2023-06-01T14:17:35.956Z"
   },
   {
    "duration": 23,
    "start_time": "2023-06-01T14:17:36.455Z"
   },
   {
    "duration": 19,
    "start_time": "2023-06-01T14:17:36.479Z"
   },
   {
    "duration": 10,
    "start_time": "2023-06-01T14:17:36.499Z"
   },
   {
    "duration": 37,
    "start_time": "2023-06-01T14:17:36.511Z"
   },
   {
    "duration": 4,
    "start_time": "2023-06-01T14:17:36.549Z"
   },
   {
    "duration": 29,
    "start_time": "2023-06-01T14:17:36.555Z"
   },
   {
    "duration": 5,
    "start_time": "2023-06-01T14:17:36.586Z"
   },
   {
    "duration": 11,
    "start_time": "2023-06-01T14:17:36.593Z"
   },
   {
    "duration": 6,
    "start_time": "2023-06-01T14:17:36.606Z"
   },
   {
    "duration": 65,
    "start_time": "2023-06-01T14:17:36.614Z"
   },
   {
    "duration": 14,
    "start_time": "2023-06-01T14:17:36.682Z"
   },
   {
    "duration": 22,
    "start_time": "2023-06-01T14:17:36.699Z"
   },
   {
    "duration": 42,
    "start_time": "2023-06-01T14:17:36.724Z"
   },
   {
    "duration": 44,
    "start_time": "2023-06-01T14:17:36.768Z"
   },
   {
    "duration": 29,
    "start_time": "2023-06-01T14:17:36.814Z"
   },
   {
    "duration": 5,
    "start_time": "2023-06-01T14:17:36.845Z"
   },
   {
    "duration": 53,
    "start_time": "2023-06-01T14:17:36.852Z"
   },
   {
    "duration": 9,
    "start_time": "2023-06-01T14:17:36.907Z"
   },
   {
    "duration": 25,
    "start_time": "2023-06-01T14:17:36.918Z"
   },
   {
    "duration": 29,
    "start_time": "2023-06-01T14:17:36.945Z"
   },
   {
    "duration": 22,
    "start_time": "2023-06-01T14:17:36.976Z"
   },
   {
    "duration": 16,
    "start_time": "2023-06-01T14:17:37.000Z"
   },
   {
    "duration": 43,
    "start_time": "2023-06-01T14:17:37.018Z"
   },
   {
    "duration": 26,
    "start_time": "2023-06-01T14:17:37.063Z"
   },
   {
    "duration": 45,
    "start_time": "2023-06-01T14:17:37.092Z"
   },
   {
    "duration": 36,
    "start_time": "2023-06-01T14:17:37.139Z"
   },
   {
    "duration": 20,
    "start_time": "2023-06-01T14:17:37.177Z"
   },
   {
    "duration": 47,
    "start_time": "2023-06-01T14:17:37.199Z"
   },
   {
    "duration": 50,
    "start_time": "2023-06-01T14:17:37.248Z"
   },
   {
    "duration": 53,
    "start_time": "2023-06-01T14:17:37.301Z"
   },
   {
    "duration": 37,
    "start_time": "2023-06-01T14:17:37.356Z"
   },
   {
    "duration": 40,
    "start_time": "2023-06-01T14:17:37.395Z"
   },
   {
    "duration": 128,
    "start_time": "2023-06-01T14:17:37.437Z"
   },
   {
    "duration": 460,
    "start_time": "2023-06-01T14:18:06.289Z"
   },
   {
    "duration": 21,
    "start_time": "2023-06-01T14:18:06.751Z"
   },
   {
    "duration": 14,
    "start_time": "2023-06-01T14:18:06.774Z"
   },
   {
    "duration": 8,
    "start_time": "2023-06-01T14:18:06.791Z"
   },
   {
    "duration": 31,
    "start_time": "2023-06-01T14:18:06.802Z"
   },
   {
    "duration": 3,
    "start_time": "2023-06-01T14:18:06.835Z"
   },
   {
    "duration": 10,
    "start_time": "2023-06-01T14:18:06.839Z"
   },
   {
    "duration": 29,
    "start_time": "2023-06-01T14:18:06.851Z"
   },
   {
    "duration": 10,
    "start_time": "2023-06-01T14:18:06.882Z"
   },
   {
    "duration": 5,
    "start_time": "2023-06-01T14:18:06.894Z"
   },
   {
    "duration": 31,
    "start_time": "2023-06-01T14:18:06.901Z"
   },
   {
    "duration": 10,
    "start_time": "2023-06-01T14:18:06.934Z"
   },
   {
    "duration": 32,
    "start_time": "2023-06-01T14:18:06.946Z"
   },
   {
    "duration": 12,
    "start_time": "2023-06-01T14:18:06.982Z"
   },
   {
    "duration": 20,
    "start_time": "2023-06-01T14:18:06.996Z"
   },
   {
    "duration": 17,
    "start_time": "2023-06-01T14:18:07.017Z"
   },
   {
    "duration": 3,
    "start_time": "2023-06-01T14:18:07.036Z"
   },
   {
    "duration": 39,
    "start_time": "2023-06-01T14:18:07.041Z"
   },
   {
    "duration": 5,
    "start_time": "2023-06-01T14:18:07.082Z"
   },
   {
    "duration": 4,
    "start_time": "2023-06-01T14:18:07.090Z"
   },
   {
    "duration": 15,
    "start_time": "2023-06-01T14:18:07.096Z"
   },
   {
    "duration": 15,
    "start_time": "2023-06-01T14:18:07.113Z"
   },
   {
    "duration": 5,
    "start_time": "2023-06-01T14:18:07.130Z"
   },
   {
    "duration": 55,
    "start_time": "2023-06-01T14:18:07.136Z"
   },
   {
    "duration": 10,
    "start_time": "2023-06-01T14:18:07.193Z"
   },
   {
    "duration": 8,
    "start_time": "2023-06-01T14:18:07.205Z"
   },
   {
    "duration": 12,
    "start_time": "2023-06-01T14:18:07.214Z"
   },
   {
    "duration": 9,
    "start_time": "2023-06-01T14:18:07.227Z"
   },
   {
    "duration": 42,
    "start_time": "2023-06-01T14:18:07.238Z"
   },
   {
    "duration": 12,
    "start_time": "2023-06-01T14:18:07.282Z"
   },
   {
    "duration": 11,
    "start_time": "2023-06-01T14:18:07.295Z"
   },
   {
    "duration": 7,
    "start_time": "2023-06-01T14:18:07.308Z"
   },
   {
    "duration": 12,
    "start_time": "2023-06-01T14:18:07.316Z"
   },
   {
    "duration": 88,
    "start_time": "2023-06-01T14:18:07.329Z"
   },
   {
    "duration": 491,
    "start_time": "2023-06-01T14:19:28.367Z"
   },
   {
    "duration": 32,
    "start_time": "2023-06-01T14:19:28.861Z"
   },
   {
    "duration": 18,
    "start_time": "2023-06-01T14:19:28.895Z"
   },
   {
    "duration": 19,
    "start_time": "2023-06-01T14:19:28.915Z"
   },
   {
    "duration": 53,
    "start_time": "2023-06-01T14:19:28.936Z"
   },
   {
    "duration": 4,
    "start_time": "2023-06-01T14:19:28.992Z"
   },
   {
    "duration": 14,
    "start_time": "2023-06-01T14:19:28.998Z"
   },
   {
    "duration": 5,
    "start_time": "2023-06-01T14:19:29.014Z"
   },
   {
    "duration": 21,
    "start_time": "2023-06-01T14:19:29.022Z"
   },
   {
    "duration": 23,
    "start_time": "2023-06-01T14:19:29.044Z"
   },
   {
    "duration": 41,
    "start_time": "2023-06-01T14:19:29.069Z"
   },
   {
    "duration": 9,
    "start_time": "2023-06-01T14:19:29.111Z"
   },
   {
    "duration": 37,
    "start_time": "2023-06-01T14:19:29.122Z"
   },
   {
    "duration": 25,
    "start_time": "2023-06-01T14:19:29.161Z"
   },
   {
    "duration": 28,
    "start_time": "2023-06-01T14:19:29.188Z"
   },
   {
    "duration": 17,
    "start_time": "2023-06-01T14:19:29.217Z"
   },
   {
    "duration": 3,
    "start_time": "2023-06-01T14:19:29.236Z"
   },
   {
    "duration": 17,
    "start_time": "2023-06-01T14:19:29.241Z"
   },
   {
    "duration": 24,
    "start_time": "2023-06-01T14:19:29.259Z"
   },
   {
    "duration": 15,
    "start_time": "2023-06-01T14:19:29.285Z"
   },
   {
    "duration": 23,
    "start_time": "2023-06-01T14:19:29.302Z"
   },
   {
    "duration": 26,
    "start_time": "2023-06-01T14:19:29.327Z"
   },
   {
    "duration": 17,
    "start_time": "2023-06-01T14:19:29.355Z"
   },
   {
    "duration": 39,
    "start_time": "2023-06-01T14:19:29.374Z"
   },
   {
    "duration": 56,
    "start_time": "2023-06-01T14:19:29.415Z"
   },
   {
    "duration": 27,
    "start_time": "2023-06-01T14:19:29.472Z"
   },
   {
    "duration": 30,
    "start_time": "2023-06-01T14:19:29.501Z"
   },
   {
    "duration": 23,
    "start_time": "2023-06-01T14:19:29.533Z"
   },
   {
    "duration": 59,
    "start_time": "2023-06-01T14:19:29.558Z"
   },
   {
    "duration": 24,
    "start_time": "2023-06-01T14:19:29.618Z"
   },
   {
    "duration": 14,
    "start_time": "2023-06-01T14:19:29.644Z"
   },
   {
    "duration": 18,
    "start_time": "2023-06-01T14:19:29.659Z"
   },
   {
    "duration": 48,
    "start_time": "2023-06-01T14:19:29.679Z"
   },
   {
    "duration": 87,
    "start_time": "2023-06-01T14:19:29.729Z"
   },
   {
    "duration": 430,
    "start_time": "2023-06-01T14:20:29.512Z"
   },
   {
    "duration": 24,
    "start_time": "2023-06-01T14:20:29.944Z"
   },
   {
    "duration": 24,
    "start_time": "2023-06-01T14:20:29.971Z"
   },
   {
    "duration": 15,
    "start_time": "2023-06-01T14:20:29.999Z"
   },
   {
    "duration": 70,
    "start_time": "2023-06-01T14:20:30.016Z"
   },
   {
    "duration": 14,
    "start_time": "2023-06-01T14:20:30.088Z"
   },
   {
    "duration": 30,
    "start_time": "2023-06-01T14:20:30.104Z"
   },
   {
    "duration": 32,
    "start_time": "2023-06-01T14:20:30.136Z"
   },
   {
    "duration": 70,
    "start_time": "2023-06-01T14:20:30.169Z"
   },
   {
    "duration": 60,
    "start_time": "2023-06-01T14:20:30.243Z"
   },
   {
    "duration": 92,
    "start_time": "2023-06-01T14:20:30.304Z"
   },
   {
    "duration": 42,
    "start_time": "2023-06-01T14:20:30.397Z"
   },
   {
    "duration": 51,
    "start_time": "2023-06-01T14:20:30.441Z"
   },
   {
    "duration": 36,
    "start_time": "2023-06-01T14:20:30.494Z"
   },
   {
    "duration": 46,
    "start_time": "2023-06-01T14:20:30.532Z"
   },
   {
    "duration": 77,
    "start_time": "2023-06-01T14:20:30.579Z"
   },
   {
    "duration": 36,
    "start_time": "2023-06-01T14:20:30.658Z"
   },
   {
    "duration": 73,
    "start_time": "2023-06-01T14:20:30.696Z"
   },
   {
    "duration": 53,
    "start_time": "2023-06-01T14:20:30.771Z"
   },
   {
    "duration": 53,
    "start_time": "2023-06-01T14:20:30.826Z"
   },
   {
    "duration": 61,
    "start_time": "2023-06-01T14:20:30.880Z"
   },
   {
    "duration": 72,
    "start_time": "2023-06-01T14:20:30.942Z"
   },
   {
    "duration": 93,
    "start_time": "2023-06-01T14:20:31.016Z"
   },
   {
    "duration": 52,
    "start_time": "2023-06-01T14:20:31.111Z"
   },
   {
    "duration": 71,
    "start_time": "2023-06-01T14:20:31.165Z"
   },
   {
    "duration": 71,
    "start_time": "2023-06-01T14:20:31.237Z"
   },
   {
    "duration": 80,
    "start_time": "2023-06-01T14:20:31.309Z"
   },
   {
    "duration": 47,
    "start_time": "2023-06-01T14:20:31.392Z"
   },
   {
    "duration": 75,
    "start_time": "2023-06-01T14:20:31.440Z"
   },
   {
    "duration": 59,
    "start_time": "2023-06-01T14:20:31.517Z"
   },
   {
    "duration": 67,
    "start_time": "2023-06-01T14:20:31.578Z"
   },
   {
    "duration": 44,
    "start_time": "2023-06-01T14:20:31.647Z"
   },
   {
    "duration": 35,
    "start_time": "2023-06-01T14:20:31.693Z"
   },
   {
    "duration": 127,
    "start_time": "2023-06-01T14:20:31.730Z"
   },
   {
    "duration": 461,
    "start_time": "2023-06-01T14:21:41.888Z"
   },
   {
    "duration": 21,
    "start_time": "2023-06-01T14:21:42.351Z"
   },
   {
    "duration": 14,
    "start_time": "2023-06-01T14:21:42.374Z"
   },
   {
    "duration": 9,
    "start_time": "2023-06-01T14:21:42.389Z"
   },
   {
    "duration": 31,
    "start_time": "2023-06-01T14:21:42.400Z"
   },
   {
    "duration": 3,
    "start_time": "2023-06-01T14:21:42.433Z"
   },
   {
    "duration": 9,
    "start_time": "2023-06-01T14:21:42.438Z"
   },
   {
    "duration": 29,
    "start_time": "2023-06-01T14:21:42.449Z"
   },
   {
    "duration": 8,
    "start_time": "2023-06-01T14:21:42.480Z"
   },
   {
    "duration": 4,
    "start_time": "2023-06-01T14:21:42.490Z"
   },
   {
    "duration": 31,
    "start_time": "2023-06-01T14:21:42.496Z"
   },
   {
    "duration": 9,
    "start_time": "2023-06-01T14:21:42.528Z"
   },
   {
    "duration": 7,
    "start_time": "2023-06-01T14:21:42.539Z"
   },
   {
    "duration": 38,
    "start_time": "2023-06-01T14:21:42.549Z"
   },
   {
    "duration": 20,
    "start_time": "2023-06-01T14:21:42.589Z"
   },
   {
    "duration": 17,
    "start_time": "2023-06-01T14:21:42.611Z"
   },
   {
    "duration": 3,
    "start_time": "2023-06-01T14:21:42.630Z"
   },
   {
    "duration": 11,
    "start_time": "2023-06-01T14:21:42.635Z"
   },
   {
    "duration": 32,
    "start_time": "2023-06-01T14:21:42.648Z"
   },
   {
    "duration": 3,
    "start_time": "2023-06-01T14:21:42.682Z"
   },
   {
    "duration": 11,
    "start_time": "2023-06-01T14:21:42.686Z"
   },
   {
    "duration": 13,
    "start_time": "2023-06-01T14:21:42.698Z"
   },
   {
    "duration": 5,
    "start_time": "2023-06-01T14:21:42.712Z"
   },
   {
    "duration": 12,
    "start_time": "2023-06-01T14:21:42.718Z"
   },
   {
    "duration": 17,
    "start_time": "2023-06-01T14:21:42.731Z"
   },
   {
    "duration": 35,
    "start_time": "2023-06-01T14:21:42.749Z"
   },
   {
    "duration": 13,
    "start_time": "2023-06-01T14:21:42.785Z"
   },
   {
    "duration": 10,
    "start_time": "2023-06-01T14:21:42.800Z"
   },
   {
    "duration": 10,
    "start_time": "2023-06-01T14:21:42.812Z"
   },
   {
    "duration": 15,
    "start_time": "2023-06-01T14:21:42.823Z"
   },
   {
    "duration": 7,
    "start_time": "2023-06-01T14:21:42.839Z"
   },
   {
    "duration": 32,
    "start_time": "2023-06-01T14:21:42.847Z"
   },
   {
    "duration": 13,
    "start_time": "2023-06-01T14:21:42.880Z"
   },
   {
    "duration": 63,
    "start_time": "2023-06-01T14:21:42.895Z"
   },
   {
    "duration": 428,
    "start_time": "2023-06-01T14:22:52.533Z"
   },
   {
    "duration": 33,
    "start_time": "2023-06-01T14:22:52.963Z"
   },
   {
    "duration": 15,
    "start_time": "2023-06-01T14:22:52.998Z"
   },
   {
    "duration": 10,
    "start_time": "2023-06-01T14:22:53.015Z"
   },
   {
    "duration": 32,
    "start_time": "2023-06-01T14:22:53.026Z"
   },
   {
    "duration": 11,
    "start_time": "2023-06-01T14:22:53.083Z"
   },
   {
    "duration": 8,
    "start_time": "2023-06-01T14:22:53.095Z"
   },
   {
    "duration": 10,
    "start_time": "2023-06-01T14:22:53.104Z"
   },
   {
    "duration": 6,
    "start_time": "2023-06-01T14:22:53.115Z"
   },
   {
    "duration": 6,
    "start_time": "2023-06-01T14:22:53.124Z"
   },
   {
    "duration": 35,
    "start_time": "2023-06-01T14:22:53.131Z"
   },
   {
    "duration": 20,
    "start_time": "2023-06-01T14:22:53.168Z"
   },
   {
    "duration": 3,
    "start_time": "2023-06-01T14:22:53.190Z"
   },
   {
    "duration": 18,
    "start_time": "2023-06-01T14:22:53.196Z"
   },
   {
    "duration": 19,
    "start_time": "2023-06-01T14:22:53.216Z"
   },
   {
    "duration": 51,
    "start_time": "2023-06-01T14:22:53.237Z"
   },
   {
    "duration": 4,
    "start_time": "2023-06-01T14:22:53.290Z"
   },
   {
    "duration": 15,
    "start_time": "2023-06-01T14:22:53.296Z"
   },
   {
    "duration": 11,
    "start_time": "2023-06-01T14:22:53.312Z"
   },
   {
    "duration": 4,
    "start_time": "2023-06-01T14:22:53.325Z"
   },
   {
    "duration": 15,
    "start_time": "2023-06-01T14:22:53.330Z"
   },
   {
    "duration": 13,
    "start_time": "2023-06-01T14:22:53.347Z"
   },
   {
    "duration": 28,
    "start_time": "2023-06-01T14:22:53.362Z"
   },
   {
    "duration": 14,
    "start_time": "2023-06-01T14:22:53.391Z"
   },
   {
    "duration": 8,
    "start_time": "2023-06-01T14:22:53.407Z"
   },
   {
    "duration": 6,
    "start_time": "2023-06-01T14:22:53.417Z"
   },
   {
    "duration": 12,
    "start_time": "2023-06-01T14:22:53.425Z"
   },
   {
    "duration": 23,
    "start_time": "2023-06-01T14:22:53.441Z"
   },
   {
    "duration": 12,
    "start_time": "2023-06-01T14:22:53.481Z"
   },
   {
    "duration": 24,
    "start_time": "2023-06-01T14:22:53.495Z"
   },
   {
    "duration": 10,
    "start_time": "2023-06-01T14:22:53.521Z"
   },
   {
    "duration": 8,
    "start_time": "2023-06-01T14:22:53.532Z"
   },
   {
    "duration": 12,
    "start_time": "2023-06-01T14:22:53.542Z"
   },
   {
    "duration": 77,
    "start_time": "2023-06-01T14:22:53.556Z"
   },
   {
    "duration": 483,
    "start_time": "2023-06-01T14:27:46.358Z"
   },
   {
    "duration": 22,
    "start_time": "2023-06-01T14:27:46.842Z"
   },
   {
    "duration": 18,
    "start_time": "2023-06-01T14:27:46.866Z"
   },
   {
    "duration": 10,
    "start_time": "2023-06-01T14:27:46.889Z"
   },
   {
    "duration": 30,
    "start_time": "2023-06-01T14:27:46.902Z"
   },
   {
    "duration": 3,
    "start_time": "2023-06-01T14:27:46.934Z"
   },
   {
    "duration": 9,
    "start_time": "2023-06-01T14:27:46.938Z"
   },
   {
    "duration": 4,
    "start_time": "2023-06-01T14:27:46.949Z"
   },
   {
    "duration": 30,
    "start_time": "2023-06-01T14:27:46.954Z"
   },
   {
    "duration": 4,
    "start_time": "2023-06-01T14:27:46.986Z"
   },
   {
    "duration": 32,
    "start_time": "2023-06-01T14:27:46.991Z"
   },
   {
    "duration": 8,
    "start_time": "2023-06-01T14:27:47.024Z"
   },
   {
    "duration": 3,
    "start_time": "2023-06-01T14:27:47.034Z"
   },
   {
    "duration": 11,
    "start_time": "2023-06-01T14:27:47.040Z"
   },
   {
    "duration": 45,
    "start_time": "2023-06-01T14:27:47.053Z"
   },
   {
    "duration": 17,
    "start_time": "2023-06-01T14:27:47.099Z"
   },
   {
    "duration": 4,
    "start_time": "2023-06-01T14:27:47.117Z"
   },
   {
    "duration": 10,
    "start_time": "2023-06-01T14:27:47.123Z"
   },
   {
    "duration": 6,
    "start_time": "2023-06-01T14:27:47.134Z"
   },
   {
    "duration": 3,
    "start_time": "2023-06-01T14:27:47.142Z"
   },
   {
    "duration": 48,
    "start_time": "2023-06-01T14:27:47.146Z"
   },
   {
    "duration": 11,
    "start_time": "2023-06-01T14:27:47.195Z"
   },
   {
    "duration": 5,
    "start_time": "2023-06-01T14:27:47.207Z"
   },
   {
    "duration": 13,
    "start_time": "2023-06-01T14:27:47.213Z"
   },
   {
    "duration": 8,
    "start_time": "2023-06-01T14:27:47.227Z"
   },
   {
    "duration": 7,
    "start_time": "2023-06-01T14:27:47.237Z"
   },
   {
    "duration": 35,
    "start_time": "2023-06-01T14:27:47.246Z"
   },
   {
    "duration": 8,
    "start_time": "2023-06-01T14:27:47.284Z"
   },
   {
    "duration": 8,
    "start_time": "2023-06-01T14:27:47.295Z"
   },
   {
    "duration": 10,
    "start_time": "2023-06-01T14:27:47.305Z"
   },
   {
    "duration": 6,
    "start_time": "2023-06-01T14:27:47.317Z"
   },
   {
    "duration": 8,
    "start_time": "2023-06-01T14:27:47.325Z"
   },
   {
    "duration": 15,
    "start_time": "2023-06-01T14:27:47.334Z"
   },
   {
    "duration": 95,
    "start_time": "2023-06-01T14:27:47.352Z"
   },
   {
    "duration": 554,
    "start_time": "2023-06-01T14:28:27.409Z"
   },
   {
    "duration": 36,
    "start_time": "2023-06-01T14:28:27.965Z"
   },
   {
    "duration": 26,
    "start_time": "2023-06-01T14:28:28.003Z"
   },
   {
    "duration": 9,
    "start_time": "2023-06-01T14:28:28.031Z"
   },
   {
    "duration": 40,
    "start_time": "2023-06-01T14:28:28.042Z"
   },
   {
    "duration": 7,
    "start_time": "2023-06-01T14:28:28.093Z"
   },
   {
    "duration": 26,
    "start_time": "2023-06-01T14:28:28.105Z"
   },
   {
    "duration": 5,
    "start_time": "2023-06-01T14:28:28.134Z"
   },
   {
    "duration": 7,
    "start_time": "2023-06-01T14:28:28.140Z"
   },
   {
    "duration": 11,
    "start_time": "2023-06-01T14:28:28.151Z"
   },
   {
    "duration": 55,
    "start_time": "2023-06-01T14:28:28.164Z"
   },
   {
    "duration": 10,
    "start_time": "2023-06-01T14:28:28.221Z"
   },
   {
    "duration": 3,
    "start_time": "2023-06-01T14:28:28.232Z"
   },
   {
    "duration": 17,
    "start_time": "2023-06-01T14:28:28.237Z"
   },
   {
    "duration": 36,
    "start_time": "2023-06-01T14:28:28.256Z"
   },
   {
    "duration": 27,
    "start_time": "2023-06-01T14:28:28.296Z"
   },
   {
    "duration": 3,
    "start_time": "2023-06-01T14:28:28.326Z"
   },
   {
    "duration": 13,
    "start_time": "2023-06-01T14:28:28.330Z"
   },
   {
    "duration": 7,
    "start_time": "2023-06-01T14:28:28.344Z"
   },
   {
    "duration": 4,
    "start_time": "2023-06-01T14:28:28.353Z"
   },
   {
    "duration": 9,
    "start_time": "2023-06-01T14:28:28.358Z"
   },
   {
    "duration": 40,
    "start_time": "2023-06-01T14:28:28.369Z"
   },
   {
    "duration": 6,
    "start_time": "2023-06-01T14:28:28.412Z"
   },
   {
    "duration": 17,
    "start_time": "2023-06-01T14:28:28.419Z"
   },
   {
    "duration": 9,
    "start_time": "2023-06-01T14:28:28.438Z"
   },
   {
    "duration": 8,
    "start_time": "2023-06-01T14:28:28.448Z"
   },
   {
    "duration": 13,
    "start_time": "2023-06-01T14:28:28.458Z"
   },
   {
    "duration": 25,
    "start_time": "2023-06-01T14:28:28.479Z"
   },
   {
    "duration": 14,
    "start_time": "2023-06-01T14:28:28.505Z"
   },
   {
    "duration": 14,
    "start_time": "2023-06-01T14:28:28.521Z"
   },
   {
    "duration": 7,
    "start_time": "2023-06-01T14:28:28.537Z"
   },
   {
    "duration": 9,
    "start_time": "2023-06-01T14:28:28.545Z"
   },
   {
    "duration": 32,
    "start_time": "2023-06-01T14:28:28.556Z"
   },
   {
    "duration": 64,
    "start_time": "2023-06-01T14:28:28.600Z"
   },
   {
    "duration": 450,
    "start_time": "2023-06-01T14:31:39.451Z"
   },
   {
    "duration": 21,
    "start_time": "2023-06-01T14:31:39.903Z"
   },
   {
    "duration": 22,
    "start_time": "2023-06-01T14:31:39.925Z"
   },
   {
    "duration": 9,
    "start_time": "2023-06-01T14:31:39.948Z"
   },
   {
    "duration": 64,
    "start_time": "2023-06-01T14:31:39.959Z"
   },
   {
    "duration": 4,
    "start_time": "2023-06-01T14:31:40.024Z"
   },
   {
    "duration": 27,
    "start_time": "2023-06-01T14:31:40.029Z"
   },
   {
    "duration": 14,
    "start_time": "2023-06-01T14:31:40.058Z"
   },
   {
    "duration": 20,
    "start_time": "2023-06-01T14:31:40.074Z"
   },
   {
    "duration": 25,
    "start_time": "2023-06-01T14:31:40.096Z"
   },
   {
    "duration": 38,
    "start_time": "2023-06-01T14:31:40.122Z"
   },
   {
    "duration": 9,
    "start_time": "2023-06-01T14:31:40.162Z"
   },
   {
    "duration": 29,
    "start_time": "2023-06-01T14:31:40.173Z"
   },
   {
    "duration": 17,
    "start_time": "2023-06-01T14:31:40.205Z"
   },
   {
    "duration": 30,
    "start_time": "2023-06-01T14:31:40.223Z"
   },
   {
    "duration": 17,
    "start_time": "2023-06-01T14:31:40.255Z"
   },
   {
    "duration": 15,
    "start_time": "2023-06-01T14:31:40.274Z"
   },
   {
    "duration": 35,
    "start_time": "2023-06-01T14:31:40.290Z"
   },
   {
    "duration": 9,
    "start_time": "2023-06-01T14:31:40.327Z"
   },
   {
    "duration": 13,
    "start_time": "2023-06-01T14:31:40.338Z"
   },
   {
    "duration": 28,
    "start_time": "2023-06-01T14:31:40.353Z"
   },
   {
    "duration": 25,
    "start_time": "2023-06-01T14:31:40.383Z"
   },
   {
    "duration": 9,
    "start_time": "2023-06-01T14:31:40.410Z"
   },
   {
    "duration": 20,
    "start_time": "2023-06-01T14:31:40.421Z"
   },
   {
    "duration": 20,
    "start_time": "2023-06-01T14:31:40.443Z"
   },
   {
    "duration": 11,
    "start_time": "2023-06-01T14:31:40.464Z"
   },
   {
    "duration": 21,
    "start_time": "2023-06-01T14:31:40.479Z"
   },
   {
    "duration": 12,
    "start_time": "2023-06-01T14:31:40.502Z"
   },
   {
    "duration": 9,
    "start_time": "2023-06-01T14:31:40.516Z"
   },
   {
    "duration": 21,
    "start_time": "2023-06-01T14:31:40.526Z"
   },
   {
    "duration": 25,
    "start_time": "2023-06-01T14:31:40.549Z"
   },
   {
    "duration": 20,
    "start_time": "2023-06-01T14:31:40.576Z"
   },
   {
    "duration": 23,
    "start_time": "2023-06-01T14:31:40.598Z"
   },
   {
    "duration": 70,
    "start_time": "2023-06-01T14:31:40.623Z"
   },
   {
    "duration": 474,
    "start_time": "2023-06-01T14:33:02.888Z"
   },
   {
    "duration": 29,
    "start_time": "2023-06-01T14:33:03.364Z"
   },
   {
    "duration": 15,
    "start_time": "2023-06-01T14:33:03.395Z"
   },
   {
    "duration": 9,
    "start_time": "2023-06-01T14:33:03.412Z"
   },
   {
    "duration": 32,
    "start_time": "2023-06-01T14:33:03.424Z"
   },
   {
    "duration": 35,
    "start_time": "2023-06-01T14:33:03.457Z"
   },
   {
    "duration": 8,
    "start_time": "2023-06-01T14:33:03.494Z"
   },
   {
    "duration": 5,
    "start_time": "2023-06-01T14:33:03.504Z"
   },
   {
    "duration": 12,
    "start_time": "2023-06-01T14:33:03.511Z"
   },
   {
    "duration": 6,
    "start_time": "2023-06-01T14:33:03.525Z"
   },
   {
    "duration": 64,
    "start_time": "2023-06-01T14:33:03.532Z"
   },
   {
    "duration": 21,
    "start_time": "2023-06-01T14:33:03.598Z"
   },
   {
    "duration": 5,
    "start_time": "2023-06-01T14:33:03.621Z"
   },
   {
    "duration": 23,
    "start_time": "2023-06-01T14:33:03.630Z"
   },
   {
    "duration": 45,
    "start_time": "2023-06-01T14:33:03.655Z"
   },
   {
    "duration": 18,
    "start_time": "2023-06-01T14:33:03.702Z"
   },
   {
    "duration": 4,
    "start_time": "2023-06-01T14:33:03.721Z"
   },
   {
    "duration": 11,
    "start_time": "2023-06-01T14:33:03.727Z"
   },
   {
    "duration": 8,
    "start_time": "2023-06-01T14:33:03.740Z"
   },
   {
    "duration": 12,
    "start_time": "2023-06-01T14:33:03.750Z"
   },
   {
    "duration": 15,
    "start_time": "2023-06-01T14:33:03.781Z"
   },
   {
    "duration": 23,
    "start_time": "2023-06-01T14:33:03.798Z"
   },
   {
    "duration": 6,
    "start_time": "2023-06-01T14:33:03.823Z"
   },
   {
    "duration": 22,
    "start_time": "2023-06-01T14:33:03.830Z"
   },
   {
    "duration": 29,
    "start_time": "2023-06-01T14:33:03.854Z"
   },
   {
    "duration": 13,
    "start_time": "2023-06-01T14:33:03.886Z"
   },
   {
    "duration": 14,
    "start_time": "2023-06-01T14:33:03.900Z"
   },
   {
    "duration": 9,
    "start_time": "2023-06-01T14:33:03.915Z"
   },
   {
    "duration": 16,
    "start_time": "2023-06-01T14:33:03.925Z"
   },
   {
    "duration": 17,
    "start_time": "2023-06-01T14:33:03.943Z"
   },
   {
    "duration": 13,
    "start_time": "2023-06-01T14:33:03.980Z"
   },
   {
    "duration": 9,
    "start_time": "2023-06-01T14:33:03.995Z"
   },
   {
    "duration": 14,
    "start_time": "2023-06-01T14:33:04.006Z"
   },
   {
    "duration": 93,
    "start_time": "2023-06-01T14:33:04.022Z"
   },
   {
    "duration": 472,
    "start_time": "2023-06-01T14:34:10.094Z"
   },
   {
    "duration": 30,
    "start_time": "2023-06-01T14:34:10.568Z"
   },
   {
    "duration": 16,
    "start_time": "2023-06-01T14:34:10.600Z"
   },
   {
    "duration": 10,
    "start_time": "2023-06-01T14:34:10.617Z"
   },
   {
    "duration": 61,
    "start_time": "2023-06-01T14:34:10.629Z"
   },
   {
    "duration": 5,
    "start_time": "2023-06-01T14:34:10.693Z"
   },
   {
    "duration": 9,
    "start_time": "2023-06-01T14:34:10.700Z"
   },
   {
    "duration": 4,
    "start_time": "2023-06-01T14:34:10.711Z"
   },
   {
    "duration": 8,
    "start_time": "2023-06-01T14:34:10.717Z"
   },
   {
    "duration": 5,
    "start_time": "2023-06-01T14:34:10.727Z"
   },
   {
    "duration": 73,
    "start_time": "2023-06-01T14:34:10.734Z"
   },
   {
    "duration": 10,
    "start_time": "2023-06-01T14:34:10.809Z"
   },
   {
    "duration": 4,
    "start_time": "2023-06-01T14:34:10.821Z"
   },
   {
    "duration": 12,
    "start_time": "2023-06-01T14:34:10.828Z"
   },
   {
    "duration": 48,
    "start_time": "2023-06-01T14:34:10.842Z"
   },
   {
    "duration": 19,
    "start_time": "2023-06-01T14:34:10.894Z"
   },
   {
    "duration": 4,
    "start_time": "2023-06-01T14:34:10.915Z"
   },
   {
    "duration": 11,
    "start_time": "2023-06-01T14:34:10.921Z"
   },
   {
    "duration": 5,
    "start_time": "2023-06-01T14:34:10.933Z"
   },
   {
    "duration": 3,
    "start_time": "2023-06-01T14:34:10.940Z"
   },
   {
    "duration": 44,
    "start_time": "2023-06-01T14:34:10.945Z"
   },
   {
    "duration": 13,
    "start_time": "2023-06-01T14:34:10.993Z"
   },
   {
    "duration": 5,
    "start_time": "2023-06-01T14:34:11.008Z"
   },
   {
    "duration": 17,
    "start_time": "2023-06-01T14:34:11.014Z"
   },
   {
    "duration": 9,
    "start_time": "2023-06-01T14:34:11.033Z"
   },
   {
    "duration": 10,
    "start_time": "2023-06-01T14:34:11.043Z"
   },
   {
    "duration": 32,
    "start_time": "2023-06-01T14:34:11.054Z"
   },
   {
    "duration": 11,
    "start_time": "2023-06-01T14:34:11.091Z"
   },
   {
    "duration": 34,
    "start_time": "2023-06-01T14:34:11.104Z"
   },
   {
    "duration": 18,
    "start_time": "2023-06-01T14:34:11.141Z"
   },
   {
    "duration": 33,
    "start_time": "2023-06-01T14:34:11.162Z"
   },
   {
    "duration": 8,
    "start_time": "2023-06-01T14:34:11.196Z"
   },
   {
    "duration": 18,
    "start_time": "2023-06-01T14:34:11.207Z"
   },
   {
    "duration": 92,
    "start_time": "2023-06-01T14:34:11.227Z"
   },
   {
    "duration": 496,
    "start_time": "2023-06-01T14:35:00.463Z"
   },
   {
    "duration": 30,
    "start_time": "2023-06-01T14:35:00.961Z"
   },
   {
    "duration": 16,
    "start_time": "2023-06-01T14:35:00.994Z"
   },
   {
    "duration": 17,
    "start_time": "2023-06-01T14:35:01.013Z"
   },
   {
    "duration": 55,
    "start_time": "2023-06-01T14:35:01.032Z"
   },
   {
    "duration": 4,
    "start_time": "2023-06-01T14:35:01.090Z"
   },
   {
    "duration": 51,
    "start_time": "2023-06-01T14:35:01.096Z"
   },
   {
    "duration": 25,
    "start_time": "2023-06-01T14:35:01.148Z"
   },
   {
    "duration": 22,
    "start_time": "2023-06-01T14:35:01.174Z"
   },
   {
    "duration": 20,
    "start_time": "2023-06-01T14:35:01.199Z"
   },
   {
    "duration": 71,
    "start_time": "2023-06-01T14:35:01.221Z"
   },
   {
    "duration": 33,
    "start_time": "2023-06-01T14:35:01.297Z"
   },
   {
    "duration": 36,
    "start_time": "2023-06-01T14:35:01.332Z"
   },
   {
    "duration": 52,
    "start_time": "2023-06-01T14:35:01.371Z"
   },
   {
    "duration": 40,
    "start_time": "2023-06-01T14:35:01.424Z"
   },
   {
    "duration": 35,
    "start_time": "2023-06-01T14:35:01.466Z"
   },
   {
    "duration": 13,
    "start_time": "2023-06-01T14:35:01.503Z"
   },
   {
    "duration": 82,
    "start_time": "2023-06-01T14:35:01.518Z"
   },
   {
    "duration": 15,
    "start_time": "2023-06-01T14:35:01.602Z"
   },
   {
    "duration": 61,
    "start_time": "2023-06-01T14:35:01.618Z"
   },
   {
    "duration": 44,
    "start_time": "2023-06-01T14:35:01.681Z"
   },
   {
    "duration": 39,
    "start_time": "2023-06-01T14:35:01.727Z"
   },
   {
    "duration": 39,
    "start_time": "2023-06-01T14:35:01.768Z"
   },
   {
    "duration": 45,
    "start_time": "2023-06-01T14:35:01.809Z"
   },
   {
    "duration": 45,
    "start_time": "2023-06-01T14:35:01.856Z"
   },
   {
    "duration": 33,
    "start_time": "2023-06-01T14:35:01.903Z"
   },
   {
    "duration": 60,
    "start_time": "2023-06-01T14:35:01.937Z"
   },
   {
    "duration": 40,
    "start_time": "2023-06-01T14:35:02.001Z"
   },
   {
    "duration": 75,
    "start_time": "2023-06-01T14:35:02.043Z"
   },
   {
    "duration": 38,
    "start_time": "2023-06-01T14:35:02.120Z"
   },
   {
    "duration": 38,
    "start_time": "2023-06-01T14:35:02.160Z"
   },
   {
    "duration": 44,
    "start_time": "2023-06-01T14:35:02.200Z"
   },
   {
    "duration": 39,
    "start_time": "2023-06-01T14:35:02.246Z"
   },
   {
    "duration": 105,
    "start_time": "2023-06-01T14:35:02.288Z"
   },
   {
    "duration": 453,
    "start_time": "2023-06-01T14:36:06.152Z"
   },
   {
    "duration": 23,
    "start_time": "2023-06-01T14:36:06.607Z"
   },
   {
    "duration": 20,
    "start_time": "2023-06-01T14:36:06.632Z"
   },
   {
    "duration": 35,
    "start_time": "2023-06-01T14:36:06.654Z"
   },
   {
    "duration": 33,
    "start_time": "2023-06-01T14:36:06.696Z"
   },
   {
    "duration": 4,
    "start_time": "2023-06-01T14:36:06.730Z"
   },
   {
    "duration": 10,
    "start_time": "2023-06-01T14:36:06.735Z"
   },
   {
    "duration": 5,
    "start_time": "2023-06-01T14:36:06.747Z"
   },
   {
    "duration": 34,
    "start_time": "2023-06-01T14:36:06.753Z"
   },
   {
    "duration": 5,
    "start_time": "2023-06-01T14:36:06.794Z"
   },
   {
    "duration": 33,
    "start_time": "2023-06-01T14:36:06.800Z"
   },
   {
    "duration": 9,
    "start_time": "2023-06-01T14:36:06.835Z"
   },
   {
    "duration": 3,
    "start_time": "2023-06-01T14:36:06.845Z"
   },
   {
    "duration": 10,
    "start_time": "2023-06-01T14:36:06.851Z"
   },
   {
    "duration": 27,
    "start_time": "2023-06-01T14:36:06.881Z"
   },
   {
    "duration": 18,
    "start_time": "2023-06-01T14:36:06.910Z"
   },
   {
    "duration": 4,
    "start_time": "2023-06-01T14:36:06.929Z"
   },
   {
    "duration": 11,
    "start_time": "2023-06-01T14:36:06.935Z"
   },
   {
    "duration": 7,
    "start_time": "2023-06-01T14:36:06.948Z"
   },
   {
    "duration": 26,
    "start_time": "2023-06-01T14:36:06.957Z"
   },
   {
    "duration": 15,
    "start_time": "2023-06-01T14:36:06.985Z"
   },
   {
    "duration": 13,
    "start_time": "2023-06-01T14:36:07.002Z"
   },
   {
    "duration": 5,
    "start_time": "2023-06-01T14:36:07.016Z"
   },
   {
    "duration": 12,
    "start_time": "2023-06-01T14:36:07.022Z"
   },
   {
    "duration": 18,
    "start_time": "2023-06-01T14:36:07.036Z"
   },
   {
    "duration": 37,
    "start_time": "2023-06-01T14:36:07.056Z"
   },
   {
    "duration": 23,
    "start_time": "2023-06-01T14:36:07.094Z"
   },
   {
    "duration": 14,
    "start_time": "2023-06-01T14:36:07.119Z"
   },
   {
    "duration": 11,
    "start_time": "2023-06-01T14:36:07.135Z"
   },
   {
    "duration": 12,
    "start_time": "2023-06-01T14:36:07.148Z"
   },
   {
    "duration": 7,
    "start_time": "2023-06-01T14:36:07.161Z"
   },
   {
    "duration": 11,
    "start_time": "2023-06-01T14:36:07.170Z"
   },
   {
    "duration": 17,
    "start_time": "2023-06-01T14:36:07.187Z"
   },
   {
    "duration": 63,
    "start_time": "2023-06-01T14:36:07.206Z"
   },
   {
    "duration": 485,
    "start_time": "2023-06-01T14:37:38.191Z"
   },
   {
    "duration": 28,
    "start_time": "2023-06-01T14:37:38.677Z"
   },
   {
    "duration": 28,
    "start_time": "2023-06-01T14:37:38.707Z"
   },
   {
    "duration": 13,
    "start_time": "2023-06-01T14:37:38.736Z"
   },
   {
    "duration": 49,
    "start_time": "2023-06-01T14:37:38.752Z"
   },
   {
    "duration": 4,
    "start_time": "2023-06-01T14:37:38.803Z"
   },
   {
    "duration": 20,
    "start_time": "2023-06-01T14:37:38.808Z"
   },
   {
    "duration": 19,
    "start_time": "2023-06-01T14:37:38.830Z"
   },
   {
    "duration": 16,
    "start_time": "2023-06-01T14:37:38.851Z"
   },
   {
    "duration": 13,
    "start_time": "2023-06-01T14:37:38.868Z"
   },
   {
    "duration": 36,
    "start_time": "2023-06-01T14:37:38.887Z"
   },
   {
    "duration": 9,
    "start_time": "2023-06-01T14:37:38.924Z"
   },
   {
    "duration": 33,
    "start_time": "2023-06-01T14:37:38.934Z"
   },
   {
    "duration": 28,
    "start_time": "2023-06-01T14:37:38.970Z"
   },
   {
    "duration": 34,
    "start_time": "2023-06-01T14:37:38.999Z"
   },
   {
    "duration": 31,
    "start_time": "2023-06-01T14:37:39.035Z"
   },
   {
    "duration": 3,
    "start_time": "2023-06-01T14:37:39.068Z"
   },
   {
    "duration": 29,
    "start_time": "2023-06-01T14:37:39.073Z"
   },
   {
    "duration": 20,
    "start_time": "2023-06-01T14:37:39.104Z"
   },
   {
    "duration": 15,
    "start_time": "2023-06-01T14:37:39.126Z"
   },
   {
    "duration": 15,
    "start_time": "2023-06-01T14:37:39.143Z"
   },
   {
    "duration": 25,
    "start_time": "2023-06-01T14:37:39.160Z"
   },
   {
    "duration": 8,
    "start_time": "2023-06-01T14:37:39.186Z"
   },
   {
    "duration": 36,
    "start_time": "2023-06-01T14:37:39.196Z"
   },
   {
    "duration": 10,
    "start_time": "2023-06-01T14:37:39.234Z"
   },
   {
    "duration": 8,
    "start_time": "2023-06-01T14:37:39.246Z"
   },
   {
    "duration": 12,
    "start_time": "2023-06-01T14:37:39.256Z"
   },
   {
    "duration": 23,
    "start_time": "2023-06-01T14:37:39.269Z"
   },
   {
    "duration": 9,
    "start_time": "2023-06-01T14:37:39.293Z"
   },
   {
    "duration": 15,
    "start_time": "2023-06-01T14:37:39.303Z"
   },
   {
    "duration": 12,
    "start_time": "2023-06-01T14:37:39.319Z"
   },
   {
    "duration": 8,
    "start_time": "2023-06-01T14:37:39.332Z"
   },
   {
    "duration": 13,
    "start_time": "2023-06-01T14:37:39.341Z"
   },
   {
    "duration": 74,
    "start_time": "2023-06-01T14:37:39.356Z"
   },
   {
    "duration": 478,
    "start_time": "2023-06-01T14:38:19.668Z"
   },
   {
    "duration": 22,
    "start_time": "2023-06-01T14:38:20.147Z"
   },
   {
    "duration": 20,
    "start_time": "2023-06-01T14:38:20.170Z"
   },
   {
    "duration": 8,
    "start_time": "2023-06-01T14:38:20.192Z"
   },
   {
    "duration": 33,
    "start_time": "2023-06-01T14:38:20.203Z"
   },
   {
    "duration": 4,
    "start_time": "2023-06-01T14:38:20.238Z"
   },
   {
    "duration": 11,
    "start_time": "2023-06-01T14:38:20.243Z"
   },
   {
    "duration": 25,
    "start_time": "2023-06-01T14:38:20.256Z"
   },
   {
    "duration": 12,
    "start_time": "2023-06-01T14:38:20.283Z"
   },
   {
    "duration": 5,
    "start_time": "2023-06-01T14:38:20.297Z"
   },
   {
    "duration": 33,
    "start_time": "2023-06-01T14:38:20.304Z"
   },
   {
    "duration": 10,
    "start_time": "2023-06-01T14:38:20.339Z"
   },
   {
    "duration": 30,
    "start_time": "2023-06-01T14:38:20.351Z"
   },
   {
    "duration": 15,
    "start_time": "2023-06-01T14:38:20.384Z"
   },
   {
    "duration": 31,
    "start_time": "2023-06-01T14:38:20.401Z"
   },
   {
    "duration": 17,
    "start_time": "2023-06-01T14:38:20.433Z"
   },
   {
    "duration": 11,
    "start_time": "2023-06-01T14:38:20.451Z"
   },
   {
    "duration": 30,
    "start_time": "2023-06-01T14:38:20.464Z"
   },
   {
    "duration": 7,
    "start_time": "2023-06-01T14:38:20.495Z"
   },
   {
    "duration": 3,
    "start_time": "2023-06-01T14:38:20.504Z"
   },
   {
    "duration": 9,
    "start_time": "2023-06-01T14:38:20.508Z"
   },
   {
    "duration": 10,
    "start_time": "2023-06-01T14:38:20.519Z"
   },
   {
    "duration": 5,
    "start_time": "2023-06-01T14:38:20.530Z"
   },
   {
    "duration": 13,
    "start_time": "2023-06-01T14:38:20.537Z"
   },
   {
    "duration": 7,
    "start_time": "2023-06-01T14:38:20.587Z"
   },
   {
    "duration": 9,
    "start_time": "2023-06-01T14:38:20.595Z"
   },
   {
    "duration": 12,
    "start_time": "2023-06-01T14:38:20.605Z"
   },
   {
    "duration": 9,
    "start_time": "2023-06-01T14:38:20.618Z"
   },
   {
    "duration": 10,
    "start_time": "2023-06-01T14:38:20.628Z"
   },
   {
    "duration": 12,
    "start_time": "2023-06-01T14:38:20.639Z"
   },
   {
    "duration": 42,
    "start_time": "2023-06-01T14:38:20.653Z"
   },
   {
    "duration": 9,
    "start_time": "2023-06-01T14:38:20.696Z"
   },
   {
    "duration": 25,
    "start_time": "2023-06-01T14:38:20.706Z"
   },
   {
    "duration": 72,
    "start_time": "2023-06-01T14:38:20.733Z"
   },
   {
    "duration": 488,
    "start_time": "2023-06-01T14:39:12.560Z"
   },
   {
    "duration": 23,
    "start_time": "2023-06-01T14:39:13.050Z"
   },
   {
    "duration": 23,
    "start_time": "2023-06-01T14:39:13.075Z"
   },
   {
    "duration": 18,
    "start_time": "2023-06-01T14:39:13.100Z"
   },
   {
    "duration": 45,
    "start_time": "2023-06-01T14:39:13.120Z"
   },
   {
    "duration": 6,
    "start_time": "2023-06-01T14:39:13.166Z"
   },
   {
    "duration": 42,
    "start_time": "2023-06-01T14:39:13.174Z"
   },
   {
    "duration": 21,
    "start_time": "2023-06-01T14:39:13.218Z"
   },
   {
    "duration": 71,
    "start_time": "2023-06-01T14:39:13.241Z"
   },
   {
    "duration": 15,
    "start_time": "2023-06-01T14:39:13.313Z"
   },
   {
    "duration": 55,
    "start_time": "2023-06-01T14:39:13.329Z"
   },
   {
    "duration": 13,
    "start_time": "2023-06-01T14:39:13.389Z"
   },
   {
    "duration": 17,
    "start_time": "2023-06-01T14:39:13.404Z"
   },
   {
    "duration": 42,
    "start_time": "2023-06-01T14:39:13.425Z"
   },
   {
    "duration": 37,
    "start_time": "2023-06-01T14:39:13.470Z"
   },
   {
    "duration": 23,
    "start_time": "2023-06-01T14:39:13.522Z"
   },
   {
    "duration": 12,
    "start_time": "2023-06-01T14:39:13.546Z"
   },
   {
    "duration": 42,
    "start_time": "2023-06-01T14:39:13.560Z"
   },
   {
    "duration": 41,
    "start_time": "2023-06-01T14:39:13.604Z"
   },
   {
    "duration": 46,
    "start_time": "2023-06-01T14:39:13.646Z"
   },
   {
    "duration": 34,
    "start_time": "2023-06-01T14:39:13.693Z"
   },
   {
    "duration": 37,
    "start_time": "2023-06-01T14:39:13.729Z"
   },
   {
    "duration": 19,
    "start_time": "2023-06-01T14:39:13.768Z"
   },
   {
    "duration": 21,
    "start_time": "2023-06-01T14:39:13.788Z"
   },
   {
    "duration": 40,
    "start_time": "2023-06-01T14:39:13.812Z"
   },
   {
    "duration": 38,
    "start_time": "2023-06-01T14:39:13.854Z"
   },
   {
    "duration": 23,
    "start_time": "2023-06-01T14:39:13.895Z"
   },
   {
    "duration": 40,
    "start_time": "2023-06-01T14:39:13.920Z"
   },
   {
    "duration": 42,
    "start_time": "2023-06-01T14:39:13.961Z"
   },
   {
    "duration": 29,
    "start_time": "2023-06-01T14:39:14.004Z"
   },
   {
    "duration": 19,
    "start_time": "2023-06-01T14:39:14.035Z"
   },
   {
    "duration": 34,
    "start_time": "2023-06-01T14:39:14.056Z"
   },
   {
    "duration": 26,
    "start_time": "2023-06-01T14:39:14.092Z"
   },
   {
    "duration": 111,
    "start_time": "2023-06-01T14:39:14.120Z"
   },
   {
    "duration": 482,
    "start_time": "2023-06-01T14:39:51.275Z"
   },
   {
    "duration": 36,
    "start_time": "2023-06-01T14:39:51.759Z"
   },
   {
    "duration": 14,
    "start_time": "2023-06-01T14:39:51.797Z"
   },
   {
    "duration": 10,
    "start_time": "2023-06-01T14:39:51.813Z"
   },
   {
    "duration": 31,
    "start_time": "2023-06-01T14:39:51.825Z"
   },
   {
    "duration": 3,
    "start_time": "2023-06-01T14:39:51.857Z"
   },
   {
    "duration": 29,
    "start_time": "2023-06-01T14:39:51.862Z"
   },
   {
    "duration": 5,
    "start_time": "2023-06-01T14:39:51.892Z"
   },
   {
    "duration": 9,
    "start_time": "2023-06-01T14:39:51.898Z"
   },
   {
    "duration": 9,
    "start_time": "2023-06-01T14:39:51.909Z"
   },
   {
    "duration": 48,
    "start_time": "2023-06-01T14:39:51.919Z"
   },
   {
    "duration": 13,
    "start_time": "2023-06-01T14:39:51.968Z"
   },
   {
    "duration": 4,
    "start_time": "2023-06-01T14:39:51.991Z"
   },
   {
    "duration": 28,
    "start_time": "2023-06-01T14:39:51.998Z"
   },
   {
    "duration": 26,
    "start_time": "2023-06-01T14:39:52.028Z"
   },
   {
    "duration": 16,
    "start_time": "2023-06-01T14:39:52.055Z"
   },
   {
    "duration": 3,
    "start_time": "2023-06-01T14:39:52.072Z"
   },
   {
    "duration": 21,
    "start_time": "2023-06-01T14:39:52.077Z"
   },
   {
    "duration": 15,
    "start_time": "2023-06-01T14:39:52.099Z"
   },
   {
    "duration": 4,
    "start_time": "2023-06-01T14:39:52.115Z"
   },
   {
    "duration": 23,
    "start_time": "2023-06-01T14:39:52.120Z"
   },
   {
    "duration": 15,
    "start_time": "2023-06-01T14:39:52.145Z"
   },
   {
    "duration": 5,
    "start_time": "2023-06-01T14:39:52.161Z"
   },
   {
    "duration": 12,
    "start_time": "2023-06-01T14:39:52.167Z"
   },
   {
    "duration": 13,
    "start_time": "2023-06-01T14:39:52.181Z"
   },
   {
    "duration": 19,
    "start_time": "2023-06-01T14:39:52.196Z"
   },
   {
    "duration": 13,
    "start_time": "2023-06-01T14:39:52.217Z"
   },
   {
    "duration": 13,
    "start_time": "2023-06-01T14:39:52.232Z"
   },
   {
    "duration": 12,
    "start_time": "2023-06-01T14:39:52.247Z"
   },
   {
    "duration": 24,
    "start_time": "2023-06-01T14:39:52.261Z"
   },
   {
    "duration": 27,
    "start_time": "2023-06-01T14:39:52.290Z"
   },
   {
    "duration": 19,
    "start_time": "2023-06-01T14:39:52.319Z"
   },
   {
    "duration": 14,
    "start_time": "2023-06-01T14:39:52.339Z"
   },
   {
    "duration": 86,
    "start_time": "2023-06-01T14:39:52.354Z"
   },
   {
    "duration": 461,
    "start_time": "2023-06-01T14:41:27.698Z"
   },
   {
    "duration": 25,
    "start_time": "2023-06-01T14:41:28.161Z"
   },
   {
    "duration": 24,
    "start_time": "2023-06-01T14:41:28.190Z"
   },
   {
    "duration": 15,
    "start_time": "2023-06-01T14:41:28.215Z"
   },
   {
    "duration": 39,
    "start_time": "2023-06-01T14:41:28.232Z"
   },
   {
    "duration": 4,
    "start_time": "2023-06-01T14:41:28.272Z"
   },
   {
    "duration": 26,
    "start_time": "2023-06-01T14:41:28.277Z"
   },
   {
    "duration": 13,
    "start_time": "2023-06-01T14:41:28.305Z"
   },
   {
    "duration": 15,
    "start_time": "2023-06-01T14:41:28.319Z"
   },
   {
    "duration": 13,
    "start_time": "2023-06-01T14:41:28.335Z"
   },
   {
    "duration": 44,
    "start_time": "2023-06-01T14:41:28.349Z"
   },
   {
    "duration": 8,
    "start_time": "2023-06-01T14:41:28.396Z"
   },
   {
    "duration": 19,
    "start_time": "2023-06-01T14:41:28.406Z"
   },
   {
    "duration": 16,
    "start_time": "2023-06-01T14:41:28.427Z"
   },
   {
    "duration": 25,
    "start_time": "2023-06-01T14:41:28.445Z"
   },
   {
    "duration": 21,
    "start_time": "2023-06-01T14:41:28.472Z"
   },
   {
    "duration": 6,
    "start_time": "2023-06-01T14:41:28.495Z"
   },
   {
    "duration": 28,
    "start_time": "2023-06-01T14:41:28.502Z"
   },
   {
    "duration": 15,
    "start_time": "2023-06-01T14:41:28.532Z"
   },
   {
    "duration": 9,
    "start_time": "2023-06-01T14:41:28.549Z"
   },
   {
    "duration": 28,
    "start_time": "2023-06-01T14:41:28.560Z"
   },
   {
    "duration": 22,
    "start_time": "2023-06-01T14:41:28.594Z"
   },
   {
    "duration": 13,
    "start_time": "2023-06-01T14:41:28.618Z"
   },
   {
    "duration": 16,
    "start_time": "2023-06-01T14:41:28.632Z"
   },
   {
    "duration": 27,
    "start_time": "2023-06-01T14:41:28.650Z"
   },
   {
    "duration": 25,
    "start_time": "2023-06-01T14:41:28.682Z"
   },
   {
    "duration": 29,
    "start_time": "2023-06-01T14:41:28.709Z"
   },
   {
    "duration": 23,
    "start_time": "2023-06-01T14:41:28.740Z"
   },
   {
    "duration": 38,
    "start_time": "2023-06-01T14:41:28.765Z"
   },
   {
    "duration": 34,
    "start_time": "2023-06-01T14:41:28.804Z"
   },
   {
    "duration": 32,
    "start_time": "2023-06-01T14:41:28.840Z"
   },
   {
    "duration": 33,
    "start_time": "2023-06-01T14:41:28.873Z"
   },
   {
    "duration": 35,
    "start_time": "2023-06-01T14:41:28.907Z"
   },
   {
    "duration": 79,
    "start_time": "2023-06-01T14:41:28.944Z"
   },
   {
    "duration": 455,
    "start_time": "2023-06-01T14:41:58.303Z"
   },
   {
    "duration": 33,
    "start_time": "2023-06-01T14:41:58.760Z"
   },
   {
    "duration": 15,
    "start_time": "2023-06-01T14:41:58.796Z"
   },
   {
    "duration": 10,
    "start_time": "2023-06-01T14:41:58.812Z"
   },
   {
    "duration": 35,
    "start_time": "2023-06-01T14:41:58.824Z"
   },
   {
    "duration": 20,
    "start_time": "2023-06-01T14:41:58.861Z"
   },
   {
    "duration": 10,
    "start_time": "2023-06-01T14:41:58.892Z"
   },
   {
    "duration": 4,
    "start_time": "2023-06-01T14:41:58.903Z"
   },
   {
    "duration": 13,
    "start_time": "2023-06-01T14:41:58.909Z"
   },
   {
    "duration": 5,
    "start_time": "2023-06-01T14:41:58.924Z"
   },
   {
    "duration": 65,
    "start_time": "2023-06-01T14:41:58.930Z"
   },
   {
    "duration": 10,
    "start_time": "2023-06-01T14:41:58.996Z"
   },
   {
    "duration": 10,
    "start_time": "2023-06-01T14:41:59.007Z"
   },
   {
    "duration": 22,
    "start_time": "2023-06-01T14:41:59.019Z"
   },
   {
    "duration": 30,
    "start_time": "2023-06-01T14:41:59.043Z"
   },
   {
    "duration": 23,
    "start_time": "2023-06-01T14:41:59.075Z"
   },
   {
    "duration": 5,
    "start_time": "2023-06-01T14:41:59.099Z"
   },
   {
    "duration": 40,
    "start_time": "2023-06-01T14:41:59.106Z"
   },
   {
    "duration": 6,
    "start_time": "2023-06-01T14:41:59.147Z"
   },
   {
    "duration": 12,
    "start_time": "2023-06-01T14:41:59.155Z"
   },
   {
    "duration": 24,
    "start_time": "2023-06-01T14:41:59.169Z"
   },
   {
    "duration": 13,
    "start_time": "2023-06-01T14:41:59.194Z"
   },
   {
    "duration": 6,
    "start_time": "2023-06-01T14:41:59.208Z"
   },
   {
    "duration": 24,
    "start_time": "2023-06-01T14:41:59.215Z"
   },
   {
    "duration": 10,
    "start_time": "2023-06-01T14:41:59.241Z"
   },
   {
    "duration": 8,
    "start_time": "2023-06-01T14:41:59.252Z"
   },
   {
    "duration": 26,
    "start_time": "2023-06-01T14:41:59.262Z"
   },
   {
    "duration": 8,
    "start_time": "2023-06-01T14:41:59.291Z"
   },
   {
    "duration": 11,
    "start_time": "2023-06-01T14:41:59.301Z"
   },
   {
    "duration": 24,
    "start_time": "2023-06-01T14:41:59.313Z"
   },
   {
    "duration": 13,
    "start_time": "2023-06-01T14:41:59.339Z"
   },
   {
    "duration": 13,
    "start_time": "2023-06-01T14:41:59.354Z"
   },
   {
    "duration": 16,
    "start_time": "2023-06-01T14:41:59.382Z"
   },
   {
    "duration": 98,
    "start_time": "2023-06-01T14:41:59.400Z"
   },
   {
    "duration": 460,
    "start_time": "2023-06-01T14:42:56.913Z"
   },
   {
    "duration": 37,
    "start_time": "2023-06-01T14:42:57.375Z"
   },
   {
    "duration": 19,
    "start_time": "2023-06-01T14:42:57.414Z"
   },
   {
    "duration": 13,
    "start_time": "2023-06-01T14:42:57.435Z"
   },
   {
    "duration": 58,
    "start_time": "2023-06-01T14:42:57.450Z"
   },
   {
    "duration": 4,
    "start_time": "2023-06-01T14:42:57.511Z"
   },
   {
    "duration": 11,
    "start_time": "2023-06-01T14:42:57.517Z"
   },
   {
    "duration": 5,
    "start_time": "2023-06-01T14:42:57.530Z"
   },
   {
    "duration": 13,
    "start_time": "2023-06-01T14:42:57.537Z"
   },
   {
    "duration": 12,
    "start_time": "2023-06-01T14:42:57.577Z"
   },
   {
    "duration": 44,
    "start_time": "2023-06-01T14:42:57.590Z"
   },
   {
    "duration": 11,
    "start_time": "2023-06-01T14:42:57.636Z"
   },
   {
    "duration": 4,
    "start_time": "2023-06-01T14:42:57.648Z"
   },
   {
    "duration": 31,
    "start_time": "2023-06-01T14:42:57.654Z"
   },
   {
    "duration": 21,
    "start_time": "2023-06-01T14:42:57.686Z"
   },
   {
    "duration": 17,
    "start_time": "2023-06-01T14:42:57.708Z"
   },
   {
    "duration": 4,
    "start_time": "2023-06-01T14:42:57.727Z"
   },
   {
    "duration": 15,
    "start_time": "2023-06-01T14:42:57.732Z"
   },
   {
    "duration": 7,
    "start_time": "2023-06-01T14:42:57.749Z"
   },
   {
    "duration": 23,
    "start_time": "2023-06-01T14:42:57.758Z"
   },
   {
    "duration": 8,
    "start_time": "2023-06-01T14:42:57.791Z"
   },
   {
    "duration": 11,
    "start_time": "2023-06-01T14:42:57.802Z"
   },
   {
    "duration": 5,
    "start_time": "2023-06-01T14:42:57.815Z"
   },
   {
    "duration": 13,
    "start_time": "2023-06-01T14:42:57.822Z"
   },
   {
    "duration": 12,
    "start_time": "2023-06-01T14:42:57.836Z"
   },
   {
    "duration": 8,
    "start_time": "2023-06-01T14:42:57.850Z"
   },
   {
    "duration": 21,
    "start_time": "2023-06-01T14:42:57.878Z"
   },
   {
    "duration": 11,
    "start_time": "2023-06-01T14:42:57.902Z"
   },
   {
    "duration": 22,
    "start_time": "2023-06-01T14:42:57.915Z"
   },
   {
    "duration": 19,
    "start_time": "2023-06-01T14:42:57.939Z"
   },
   {
    "duration": 7,
    "start_time": "2023-06-01T14:42:57.960Z"
   },
   {
    "duration": 13,
    "start_time": "2023-06-01T14:42:57.968Z"
   },
   {
    "duration": 12,
    "start_time": "2023-06-01T14:42:57.991Z"
   },
   {
    "duration": 69,
    "start_time": "2023-06-01T14:42:58.004Z"
   },
   {
    "duration": 489,
    "start_time": "2023-06-01T15:23:55.350Z"
   },
   {
    "duration": 21,
    "start_time": "2023-06-01T15:23:55.841Z"
   },
   {
    "duration": 22,
    "start_time": "2023-06-01T15:23:55.864Z"
   },
   {
    "duration": 16,
    "start_time": "2023-06-01T15:23:55.888Z"
   },
   {
    "duration": 33,
    "start_time": "2023-06-01T15:23:55.906Z"
   },
   {
    "duration": 3,
    "start_time": "2023-06-01T15:23:55.940Z"
   },
   {
    "duration": 10,
    "start_time": "2023-06-01T15:23:55.945Z"
   },
   {
    "duration": 26,
    "start_time": "2023-06-01T15:23:55.957Z"
   },
   {
    "duration": 11,
    "start_time": "2023-06-01T15:23:55.993Z"
   },
   {
    "duration": 4,
    "start_time": "2023-06-01T15:23:56.009Z"
   },
   {
    "duration": 35,
    "start_time": "2023-06-01T15:23:56.014Z"
   },
   {
    "duration": 11,
    "start_time": "2023-06-01T15:23:56.051Z"
   },
   {
    "duration": 6,
    "start_time": "2023-06-01T15:23:56.076Z"
   },
   {
    "duration": 28,
    "start_time": "2023-06-01T15:23:56.083Z"
   },
   {
    "duration": 19,
    "start_time": "2023-06-01T15:23:56.113Z"
   },
   {
    "duration": 15,
    "start_time": "2023-06-01T15:23:56.133Z"
   },
   {
    "duration": 3,
    "start_time": "2023-06-01T15:23:56.150Z"
   },
   {
    "duration": 30,
    "start_time": "2023-06-01T15:23:56.155Z"
   },
   {
    "duration": 10,
    "start_time": "2023-06-01T15:23:56.189Z"
   },
   {
    "duration": 5,
    "start_time": "2023-06-01T15:23:56.201Z"
   },
   {
    "duration": 12,
    "start_time": "2023-06-01T15:23:56.208Z"
   },
   {
    "duration": 14,
    "start_time": "2023-06-01T15:23:56.222Z"
   },
   {
    "duration": 9,
    "start_time": "2023-06-01T15:23:56.238Z"
   },
   {
    "duration": 33,
    "start_time": "2023-06-01T15:23:56.248Z"
   },
   {
    "duration": 10,
    "start_time": "2023-06-01T15:23:56.289Z"
   },
   {
    "duration": 15,
    "start_time": "2023-06-01T15:23:56.301Z"
   },
   {
    "duration": 16,
    "start_time": "2023-06-01T15:23:56.318Z"
   },
   {
    "duration": 8,
    "start_time": "2023-06-01T15:23:56.338Z"
   },
   {
    "duration": 33,
    "start_time": "2023-06-01T15:23:56.348Z"
   },
   {
    "duration": 16,
    "start_time": "2023-06-01T15:23:56.389Z"
   },
   {
    "duration": 8,
    "start_time": "2023-06-01T15:23:56.407Z"
   },
   {
    "duration": 21,
    "start_time": "2023-06-01T15:23:56.416Z"
   },
   {
    "duration": 25,
    "start_time": "2023-06-01T15:23:56.438Z"
   },
   {
    "duration": 81,
    "start_time": "2023-06-01T15:23:56.464Z"
   }
  ],
  "colab": {
   "provenance": []
  },
  "kernelspec": {
   "display_name": "Python 3 (ipykernel)",
   "language": "python",
   "name": "python3"
  },
  "language_info": {
   "codemirror_mode": {
    "name": "ipython",
    "version": 3
   },
   "file_extension": ".py",
   "mimetype": "text/x-python",
   "name": "python",
   "nbconvert_exporter": "python",
   "pygments_lexer": "ipython3",
   "version": "3.10.9"
  },
  "toc": {
   "base_numbering": 1,
   "nav_menu": {},
   "number_sections": true,
   "sideBar": true,
   "skip_h1_title": true,
   "title_cell": "Table of Contents",
   "title_sidebar": "Contents",
   "toc_cell": false,
   "toc_position": {},
   "toc_section_display": true,
   "toc_window_display": true
  }
 },
 "nbformat": 4,
 "nbformat_minor": 5
}
