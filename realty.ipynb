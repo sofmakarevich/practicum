{
 "cells": [
  {
   "cell_type": "markdown",
   "metadata": {},
   "source": [
    "# Исследование объявлений о продаже квартир\n",
    "\n",
    "В нашем распоряжении данные сервиса Яндекс.Недвижимость — архив объявлений о продаже квартир в Санкт-Петербурге и соседних населённых пунктов за несколько лет. Определим рыночную стоимость объектов недвижимости.  "
   ]
  },
  {
   "cell_type": "markdown",
   "metadata": {},
   "source": [
    "### Открытие файла с данными, общая информация "
   ]
  },
  {
   "cell_type": "markdown",
   "metadata": {},
   "source": [
    "#### Загрузка данных"
   ]
  },
  {
   "cell_type": "code",
   "execution_count": 1,
   "metadata": {},
   "outputs": [],
   "source": [
    "#импортируем библиотеку pandas\n",
    "import pandas as pd \n",
    "#читаем файл csv\n",
    "data = pd.read_csv('/datasets/real_estate_data.csv', sep = '\\t')"
   ]
  },
  {
   "cell_type": "markdown",
   "metadata": {},
   "source": [
    "#### Общая информаиция о датафрейме"
   ]
  },
  {
   "cell_type": "code",
   "execution_count": 2,
   "metadata": {},
   "outputs": [
    {
     "data": {
      "text/html": [
       "<div>\n",
       "<style scoped>\n",
       "    .dataframe tbody tr th:only-of-type {\n",
       "        vertical-align: middle;\n",
       "    }\n",
       "\n",
       "    .dataframe tbody tr th {\n",
       "        vertical-align: top;\n",
       "    }\n",
       "\n",
       "    .dataframe thead th {\n",
       "        text-align: right;\n",
       "    }\n",
       "</style>\n",
       "<table border=\"1\" class=\"dataframe\">\n",
       "  <thead>\n",
       "    <tr style=\"text-align: right;\">\n",
       "      <th></th>\n",
       "      <th>total_images</th>\n",
       "      <th>last_price</th>\n",
       "      <th>total_area</th>\n",
       "      <th>first_day_exposition</th>\n",
       "      <th>rooms</th>\n",
       "      <th>ceiling_height</th>\n",
       "      <th>floors_total</th>\n",
       "      <th>living_area</th>\n",
       "      <th>floor</th>\n",
       "      <th>is_apartment</th>\n",
       "      <th>studio</th>\n",
       "      <th>open_plan</th>\n",
       "      <th>kitchen_area</th>\n",
       "      <th>balcony</th>\n",
       "      <th>locality_name</th>\n",
       "      <th>airports_nearest</th>\n",
       "      <th>cityCenters_nearest</th>\n",
       "      <th>parks_around3000</th>\n",
       "      <th>parks_nearest</th>\n",
       "      <th>ponds_around3000</th>\n",
       "      <th>ponds_nearest</th>\n",
       "      <th>days_exposition</th>\n",
       "    </tr>\n",
       "  </thead>\n",
       "  <tbody>\n",
       "    <tr>\n",
       "      <th>0</th>\n",
       "      <td>20</td>\n",
       "      <td>13000000.0</td>\n",
       "      <td>108.00</td>\n",
       "      <td>2019-03-07T00:00:00</td>\n",
       "      <td>3</td>\n",
       "      <td>2.70</td>\n",
       "      <td>16.0</td>\n",
       "      <td>51.00</td>\n",
       "      <td>8</td>\n",
       "      <td>NaN</td>\n",
       "      <td>False</td>\n",
       "      <td>False</td>\n",
       "      <td>25.00</td>\n",
       "      <td>NaN</td>\n",
       "      <td>Санкт-Петербург</td>\n",
       "      <td>18863.0</td>\n",
       "      <td>16028.0</td>\n",
       "      <td>1.0</td>\n",
       "      <td>482.0</td>\n",
       "      <td>2.0</td>\n",
       "      <td>755.0</td>\n",
       "      <td>NaN</td>\n",
       "    </tr>\n",
       "    <tr>\n",
       "      <th>1</th>\n",
       "      <td>7</td>\n",
       "      <td>3350000.0</td>\n",
       "      <td>40.40</td>\n",
       "      <td>2018-12-04T00:00:00</td>\n",
       "      <td>1</td>\n",
       "      <td>NaN</td>\n",
       "      <td>11.0</td>\n",
       "      <td>18.60</td>\n",
       "      <td>1</td>\n",
       "      <td>NaN</td>\n",
       "      <td>False</td>\n",
       "      <td>False</td>\n",
       "      <td>11.00</td>\n",
       "      <td>2.0</td>\n",
       "      <td>посёлок Шушары</td>\n",
       "      <td>12817.0</td>\n",
       "      <td>18603.0</td>\n",
       "      <td>0.0</td>\n",
       "      <td>NaN</td>\n",
       "      <td>0.0</td>\n",
       "      <td>NaN</td>\n",
       "      <td>81.0</td>\n",
       "    </tr>\n",
       "    <tr>\n",
       "      <th>2</th>\n",
       "      <td>10</td>\n",
       "      <td>5196000.0</td>\n",
       "      <td>56.00</td>\n",
       "      <td>2015-08-20T00:00:00</td>\n",
       "      <td>2</td>\n",
       "      <td>NaN</td>\n",
       "      <td>5.0</td>\n",
       "      <td>34.30</td>\n",
       "      <td>4</td>\n",
       "      <td>NaN</td>\n",
       "      <td>False</td>\n",
       "      <td>False</td>\n",
       "      <td>8.30</td>\n",
       "      <td>0.0</td>\n",
       "      <td>Санкт-Петербург</td>\n",
       "      <td>21741.0</td>\n",
       "      <td>13933.0</td>\n",
       "      <td>1.0</td>\n",
       "      <td>90.0</td>\n",
       "      <td>2.0</td>\n",
       "      <td>574.0</td>\n",
       "      <td>558.0</td>\n",
       "    </tr>\n",
       "    <tr>\n",
       "      <th>3</th>\n",
       "      <td>0</td>\n",
       "      <td>64900000.0</td>\n",
       "      <td>159.00</td>\n",
       "      <td>2015-07-24T00:00:00</td>\n",
       "      <td>3</td>\n",
       "      <td>NaN</td>\n",
       "      <td>14.0</td>\n",
       "      <td>NaN</td>\n",
       "      <td>9</td>\n",
       "      <td>NaN</td>\n",
       "      <td>False</td>\n",
       "      <td>False</td>\n",
       "      <td>NaN</td>\n",
       "      <td>0.0</td>\n",
       "      <td>Санкт-Петербург</td>\n",
       "      <td>28098.0</td>\n",
       "      <td>6800.0</td>\n",
       "      <td>2.0</td>\n",
       "      <td>84.0</td>\n",
       "      <td>3.0</td>\n",
       "      <td>234.0</td>\n",
       "      <td>424.0</td>\n",
       "    </tr>\n",
       "    <tr>\n",
       "      <th>4</th>\n",
       "      <td>2</td>\n",
       "      <td>10000000.0</td>\n",
       "      <td>100.00</td>\n",
       "      <td>2018-06-19T00:00:00</td>\n",
       "      <td>2</td>\n",
       "      <td>3.03</td>\n",
       "      <td>14.0</td>\n",
       "      <td>32.00</td>\n",
       "      <td>13</td>\n",
       "      <td>NaN</td>\n",
       "      <td>False</td>\n",
       "      <td>False</td>\n",
       "      <td>41.00</td>\n",
       "      <td>NaN</td>\n",
       "      <td>Санкт-Петербург</td>\n",
       "      <td>31856.0</td>\n",
       "      <td>8098.0</td>\n",
       "      <td>2.0</td>\n",
       "      <td>112.0</td>\n",
       "      <td>1.0</td>\n",
       "      <td>48.0</td>\n",
       "      <td>121.0</td>\n",
       "    </tr>\n",
       "    <tr>\n",
       "      <th>5</th>\n",
       "      <td>10</td>\n",
       "      <td>2890000.0</td>\n",
       "      <td>30.40</td>\n",
       "      <td>2018-09-10T00:00:00</td>\n",
       "      <td>1</td>\n",
       "      <td>NaN</td>\n",
       "      <td>12.0</td>\n",
       "      <td>14.40</td>\n",
       "      <td>5</td>\n",
       "      <td>NaN</td>\n",
       "      <td>False</td>\n",
       "      <td>False</td>\n",
       "      <td>9.10</td>\n",
       "      <td>NaN</td>\n",
       "      <td>городской посёлок Янино-1</td>\n",
       "      <td>NaN</td>\n",
       "      <td>NaN</td>\n",
       "      <td>NaN</td>\n",
       "      <td>NaN</td>\n",
       "      <td>NaN</td>\n",
       "      <td>NaN</td>\n",
       "      <td>55.0</td>\n",
       "    </tr>\n",
       "    <tr>\n",
       "      <th>6</th>\n",
       "      <td>6</td>\n",
       "      <td>3700000.0</td>\n",
       "      <td>37.30</td>\n",
       "      <td>2017-11-02T00:00:00</td>\n",
       "      <td>1</td>\n",
       "      <td>NaN</td>\n",
       "      <td>26.0</td>\n",
       "      <td>10.60</td>\n",
       "      <td>6</td>\n",
       "      <td>NaN</td>\n",
       "      <td>False</td>\n",
       "      <td>False</td>\n",
       "      <td>14.40</td>\n",
       "      <td>1.0</td>\n",
       "      <td>посёлок Парголово</td>\n",
       "      <td>52996.0</td>\n",
       "      <td>19143.0</td>\n",
       "      <td>0.0</td>\n",
       "      <td>NaN</td>\n",
       "      <td>0.0</td>\n",
       "      <td>NaN</td>\n",
       "      <td>155.0</td>\n",
       "    </tr>\n",
       "    <tr>\n",
       "      <th>7</th>\n",
       "      <td>5</td>\n",
       "      <td>7915000.0</td>\n",
       "      <td>71.60</td>\n",
       "      <td>2019-04-18T00:00:00</td>\n",
       "      <td>2</td>\n",
       "      <td>NaN</td>\n",
       "      <td>24.0</td>\n",
       "      <td>NaN</td>\n",
       "      <td>22</td>\n",
       "      <td>NaN</td>\n",
       "      <td>False</td>\n",
       "      <td>False</td>\n",
       "      <td>18.90</td>\n",
       "      <td>2.0</td>\n",
       "      <td>Санкт-Петербург</td>\n",
       "      <td>23982.0</td>\n",
       "      <td>11634.0</td>\n",
       "      <td>0.0</td>\n",
       "      <td>NaN</td>\n",
       "      <td>0.0</td>\n",
       "      <td>NaN</td>\n",
       "      <td>NaN</td>\n",
       "    </tr>\n",
       "    <tr>\n",
       "      <th>8</th>\n",
       "      <td>20</td>\n",
       "      <td>2900000.0</td>\n",
       "      <td>33.16</td>\n",
       "      <td>2018-05-23T00:00:00</td>\n",
       "      <td>1</td>\n",
       "      <td>NaN</td>\n",
       "      <td>27.0</td>\n",
       "      <td>15.43</td>\n",
       "      <td>26</td>\n",
       "      <td>NaN</td>\n",
       "      <td>False</td>\n",
       "      <td>False</td>\n",
       "      <td>8.81</td>\n",
       "      <td>NaN</td>\n",
       "      <td>посёлок Мурино</td>\n",
       "      <td>NaN</td>\n",
       "      <td>NaN</td>\n",
       "      <td>NaN</td>\n",
       "      <td>NaN</td>\n",
       "      <td>NaN</td>\n",
       "      <td>NaN</td>\n",
       "      <td>189.0</td>\n",
       "    </tr>\n",
       "    <tr>\n",
       "      <th>9</th>\n",
       "      <td>18</td>\n",
       "      <td>5400000.0</td>\n",
       "      <td>61.00</td>\n",
       "      <td>2017-02-26T00:00:00</td>\n",
       "      <td>3</td>\n",
       "      <td>2.50</td>\n",
       "      <td>9.0</td>\n",
       "      <td>43.60</td>\n",
       "      <td>7</td>\n",
       "      <td>NaN</td>\n",
       "      <td>False</td>\n",
       "      <td>False</td>\n",
       "      <td>6.50</td>\n",
       "      <td>2.0</td>\n",
       "      <td>Санкт-Петербург</td>\n",
       "      <td>50898.0</td>\n",
       "      <td>15008.0</td>\n",
       "      <td>0.0</td>\n",
       "      <td>NaN</td>\n",
       "      <td>0.0</td>\n",
       "      <td>NaN</td>\n",
       "      <td>289.0</td>\n",
       "    </tr>\n",
       "    <tr>\n",
       "      <th>10</th>\n",
       "      <td>5</td>\n",
       "      <td>5050000.0</td>\n",
       "      <td>39.60</td>\n",
       "      <td>2017-11-16T00:00:00</td>\n",
       "      <td>1</td>\n",
       "      <td>2.67</td>\n",
       "      <td>12.0</td>\n",
       "      <td>20.30</td>\n",
       "      <td>3</td>\n",
       "      <td>NaN</td>\n",
       "      <td>False</td>\n",
       "      <td>False</td>\n",
       "      <td>8.50</td>\n",
       "      <td>NaN</td>\n",
       "      <td>Санкт-Петербург</td>\n",
       "      <td>38357.0</td>\n",
       "      <td>13878.0</td>\n",
       "      <td>1.0</td>\n",
       "      <td>310.0</td>\n",
       "      <td>2.0</td>\n",
       "      <td>553.0</td>\n",
       "      <td>137.0</td>\n",
       "    </tr>\n",
       "    <tr>\n",
       "      <th>11</th>\n",
       "      <td>9</td>\n",
       "      <td>3300000.0</td>\n",
       "      <td>44.00</td>\n",
       "      <td>2018-08-27T00:00:00</td>\n",
       "      <td>2</td>\n",
       "      <td>NaN</td>\n",
       "      <td>5.0</td>\n",
       "      <td>31.00</td>\n",
       "      <td>4</td>\n",
       "      <td>False</td>\n",
       "      <td>False</td>\n",
       "      <td>False</td>\n",
       "      <td>6.00</td>\n",
       "      <td>1.0</td>\n",
       "      <td>Ломоносов</td>\n",
       "      <td>48252.0</td>\n",
       "      <td>51677.0</td>\n",
       "      <td>0.0</td>\n",
       "      <td>NaN</td>\n",
       "      <td>0.0</td>\n",
       "      <td>NaN</td>\n",
       "      <td>7.0</td>\n",
       "    </tr>\n",
       "    <tr>\n",
       "      <th>12</th>\n",
       "      <td>10</td>\n",
       "      <td>3890000.0</td>\n",
       "      <td>54.00</td>\n",
       "      <td>2016-06-30T00:00:00</td>\n",
       "      <td>2</td>\n",
       "      <td>NaN</td>\n",
       "      <td>5.0</td>\n",
       "      <td>30.00</td>\n",
       "      <td>5</td>\n",
       "      <td>NaN</td>\n",
       "      <td>False</td>\n",
       "      <td>False</td>\n",
       "      <td>9.00</td>\n",
       "      <td>0.0</td>\n",
       "      <td>Сертолово</td>\n",
       "      <td>NaN</td>\n",
       "      <td>NaN</td>\n",
       "      <td>NaN</td>\n",
       "      <td>NaN</td>\n",
       "      <td>NaN</td>\n",
       "      <td>NaN</td>\n",
       "      <td>90.0</td>\n",
       "    </tr>\n",
       "    <tr>\n",
       "      <th>13</th>\n",
       "      <td>20</td>\n",
       "      <td>3550000.0</td>\n",
       "      <td>42.80</td>\n",
       "      <td>2017-07-01T00:00:00</td>\n",
       "      <td>2</td>\n",
       "      <td>2.56</td>\n",
       "      <td>5.0</td>\n",
       "      <td>27.00</td>\n",
       "      <td>5</td>\n",
       "      <td>NaN</td>\n",
       "      <td>False</td>\n",
       "      <td>False</td>\n",
       "      <td>5.20</td>\n",
       "      <td>1.0</td>\n",
       "      <td>Петергоф</td>\n",
       "      <td>37868.0</td>\n",
       "      <td>33058.0</td>\n",
       "      <td>1.0</td>\n",
       "      <td>294.0</td>\n",
       "      <td>3.0</td>\n",
       "      <td>298.0</td>\n",
       "      <td>366.0</td>\n",
       "    </tr>\n",
       "    <tr>\n",
       "      <th>14</th>\n",
       "      <td>1</td>\n",
       "      <td>4400000.0</td>\n",
       "      <td>36.00</td>\n",
       "      <td>2016-06-23T00:00:00</td>\n",
       "      <td>1</td>\n",
       "      <td>NaN</td>\n",
       "      <td>6.0</td>\n",
       "      <td>17.00</td>\n",
       "      <td>1</td>\n",
       "      <td>NaN</td>\n",
       "      <td>False</td>\n",
       "      <td>False</td>\n",
       "      <td>8.00</td>\n",
       "      <td>0.0</td>\n",
       "      <td>Пушкин</td>\n",
       "      <td>20782.0</td>\n",
       "      <td>30759.0</td>\n",
       "      <td>0.0</td>\n",
       "      <td>NaN</td>\n",
       "      <td>1.0</td>\n",
       "      <td>96.0</td>\n",
       "      <td>203.0</td>\n",
       "    </tr>\n",
       "  </tbody>\n",
       "</table>\n",
       "</div>"
      ],
      "text/plain": [
       "    total_images  last_price  total_area first_day_exposition  rooms  \\\n",
       "0             20  13000000.0      108.00  2019-03-07T00:00:00      3   \n",
       "1              7   3350000.0       40.40  2018-12-04T00:00:00      1   \n",
       "2             10   5196000.0       56.00  2015-08-20T00:00:00      2   \n",
       "3              0  64900000.0      159.00  2015-07-24T00:00:00      3   \n",
       "4              2  10000000.0      100.00  2018-06-19T00:00:00      2   \n",
       "5             10   2890000.0       30.40  2018-09-10T00:00:00      1   \n",
       "6              6   3700000.0       37.30  2017-11-02T00:00:00      1   \n",
       "7              5   7915000.0       71.60  2019-04-18T00:00:00      2   \n",
       "8             20   2900000.0       33.16  2018-05-23T00:00:00      1   \n",
       "9             18   5400000.0       61.00  2017-02-26T00:00:00      3   \n",
       "10             5   5050000.0       39.60  2017-11-16T00:00:00      1   \n",
       "11             9   3300000.0       44.00  2018-08-27T00:00:00      2   \n",
       "12            10   3890000.0       54.00  2016-06-30T00:00:00      2   \n",
       "13            20   3550000.0       42.80  2017-07-01T00:00:00      2   \n",
       "14             1   4400000.0       36.00  2016-06-23T00:00:00      1   \n",
       "\n",
       "    ceiling_height  floors_total  living_area  floor is_apartment  studio  \\\n",
       "0             2.70          16.0        51.00      8          NaN   False   \n",
       "1              NaN          11.0        18.60      1          NaN   False   \n",
       "2              NaN           5.0        34.30      4          NaN   False   \n",
       "3              NaN          14.0          NaN      9          NaN   False   \n",
       "4             3.03          14.0        32.00     13          NaN   False   \n",
       "5              NaN          12.0        14.40      5          NaN   False   \n",
       "6              NaN          26.0        10.60      6          NaN   False   \n",
       "7              NaN          24.0          NaN     22          NaN   False   \n",
       "8              NaN          27.0        15.43     26          NaN   False   \n",
       "9             2.50           9.0        43.60      7          NaN   False   \n",
       "10            2.67          12.0        20.30      3          NaN   False   \n",
       "11             NaN           5.0        31.00      4        False   False   \n",
       "12             NaN           5.0        30.00      5          NaN   False   \n",
       "13            2.56           5.0        27.00      5          NaN   False   \n",
       "14             NaN           6.0        17.00      1          NaN   False   \n",
       "\n",
       "    open_plan  kitchen_area  balcony              locality_name  \\\n",
       "0       False         25.00      NaN            Санкт-Петербург   \n",
       "1       False         11.00      2.0             посёлок Шушары   \n",
       "2       False          8.30      0.0            Санкт-Петербург   \n",
       "3       False           NaN      0.0            Санкт-Петербург   \n",
       "4       False         41.00      NaN            Санкт-Петербург   \n",
       "5       False          9.10      NaN  городской посёлок Янино-1   \n",
       "6       False         14.40      1.0          посёлок Парголово   \n",
       "7       False         18.90      2.0            Санкт-Петербург   \n",
       "8       False          8.81      NaN             посёлок Мурино   \n",
       "9       False          6.50      2.0            Санкт-Петербург   \n",
       "10      False          8.50      NaN            Санкт-Петербург   \n",
       "11      False          6.00      1.0                  Ломоносов   \n",
       "12      False          9.00      0.0                  Сертолово   \n",
       "13      False          5.20      1.0                   Петергоф   \n",
       "14      False          8.00      0.0                     Пушкин   \n",
       "\n",
       "    airports_nearest  cityCenters_nearest  parks_around3000  parks_nearest  \\\n",
       "0            18863.0              16028.0               1.0          482.0   \n",
       "1            12817.0              18603.0               0.0            NaN   \n",
       "2            21741.0              13933.0               1.0           90.0   \n",
       "3            28098.0               6800.0               2.0           84.0   \n",
       "4            31856.0               8098.0               2.0          112.0   \n",
       "5                NaN                  NaN               NaN            NaN   \n",
       "6            52996.0              19143.0               0.0            NaN   \n",
       "7            23982.0              11634.0               0.0            NaN   \n",
       "8                NaN                  NaN               NaN            NaN   \n",
       "9            50898.0              15008.0               0.0            NaN   \n",
       "10           38357.0              13878.0               1.0          310.0   \n",
       "11           48252.0              51677.0               0.0            NaN   \n",
       "12               NaN                  NaN               NaN            NaN   \n",
       "13           37868.0              33058.0               1.0          294.0   \n",
       "14           20782.0              30759.0               0.0            NaN   \n",
       "\n",
       "    ponds_around3000  ponds_nearest  days_exposition  \n",
       "0                2.0          755.0              NaN  \n",
       "1                0.0            NaN             81.0  \n",
       "2                2.0          574.0            558.0  \n",
       "3                3.0          234.0            424.0  \n",
       "4                1.0           48.0            121.0  \n",
       "5                NaN            NaN             55.0  \n",
       "6                0.0            NaN            155.0  \n",
       "7                0.0            NaN              NaN  \n",
       "8                NaN            NaN            189.0  \n",
       "9                0.0            NaN            289.0  \n",
       "10               2.0          553.0            137.0  \n",
       "11               0.0            NaN              7.0  \n",
       "12               NaN            NaN             90.0  \n",
       "13               3.0          298.0            366.0  \n",
       "14               1.0           96.0            203.0  "
      ]
     },
     "execution_count": 2,
     "metadata": {},
     "output_type": "execute_result"
    }
   ],
   "source": [
    "#изучаем файл, выводим первые 15 строк датафрейма на экран\n",
    "pd.set_option('display.max_columns', None)\n",
    "data.head(15)"
   ]
  },
  {
   "cell_type": "code",
   "execution_count": 3,
   "metadata": {},
   "outputs": [
    {
     "name": "stdout",
     "output_type": "stream",
     "text": [
      "<class 'pandas.core.frame.DataFrame'>\n",
      "RangeIndex: 23699 entries, 0 to 23698\n",
      "Data columns (total 22 columns):\n",
      " #   Column                Non-Null Count  Dtype  \n",
      "---  ------                --------------  -----  \n",
      " 0   total_images          23699 non-null  int64  \n",
      " 1   last_price            23699 non-null  float64\n",
      " 2   total_area            23699 non-null  float64\n",
      " 3   first_day_exposition  23699 non-null  object \n",
      " 4   rooms                 23699 non-null  int64  \n",
      " 5   ceiling_height        14504 non-null  float64\n",
      " 6   floors_total          23613 non-null  float64\n",
      " 7   living_area           21796 non-null  float64\n",
      " 8   floor                 23699 non-null  int64  \n",
      " 9   is_apartment          2775 non-null   object \n",
      " 10  studio                23699 non-null  bool   \n",
      " 11  open_plan             23699 non-null  bool   \n",
      " 12  kitchen_area          21421 non-null  float64\n",
      " 13  balcony               12180 non-null  float64\n",
      " 14  locality_name         23650 non-null  object \n",
      " 15  airports_nearest      18157 non-null  float64\n",
      " 16  cityCenters_nearest   18180 non-null  float64\n",
      " 17  parks_around3000      18181 non-null  float64\n",
      " 18  parks_nearest         8079 non-null   float64\n",
      " 19  ponds_around3000      18181 non-null  float64\n",
      " 20  ponds_nearest         9110 non-null   float64\n",
      " 21  days_exposition       20518 non-null  float64\n",
      "dtypes: bool(2), float64(14), int64(3), object(3)\n",
      "memory usage: 3.7+ MB\n"
     ]
    }
   ],
   "source": [
    "#выводим основную информацию о датафрейме с помощью метода info()\n",
    "data.info() "
   ]
  },
  {
   "cell_type": "markdown",
   "metadata": {},
   "source": [
    "#### Гистограммы для всех столбцов"
   ]
  },
  {
   "cell_type": "code",
   "execution_count": 4,
   "metadata": {},
   "outputs": [
    {
     "data": {
      "image/png": "[encoded data removed]",
      "text/plain": [
       "<Figure size 1080x1440 with 20 Axes>"
      ]
     },
     "metadata": {
      "needs_background": "light"
     },
     "output_type": "display_data"
    }
   ],
   "source": [
    "#выводим общую гистограмму для численных столбцов таблицы\n",
    "data.hist(figsize=(15, 20));"
   ]
  },
  {
   "cell_type": "markdown",
   "metadata": {},
   "source": [
    "Файл для выполнения задания содержит данные о продаже квартир в Санкт-петербурге и соседних населенных пунктах (таких как Ломоносов, Петергоф, Пушкин и др). Датафрейм состоит из 22 столбцов (таких как дата публикации, название населенного пункта, общая площадь квартиры и др) и порядка 23 тысяч строк.\n",
    "Гистограммы дают общее представление о столбцах. Проведем анализ данных в столбцах после обработки пропусков и аномальных значений. "
   ]
  },
  {
   "cell_type": "markdown",
   "metadata": {},
   "source": [
    "### Предобработка данных"
   ]
  },
  {
   "cell_type": "markdown",
   "metadata": {},
   "source": [
    "#### Пропущенные значения"
   ]
  },
  {
   "cell_type": "code",
   "execution_count": 5,
   "metadata": {},
   "outputs": [
    {
     "data": {
      "text/plain": [
       "total_images                0\n",
       "last_price                  0\n",
       "total_area                  0\n",
       "first_day_exposition        0\n",
       "rooms                       0\n",
       "ceiling_height           9195\n",
       "floors_total               86\n",
       "living_area              1903\n",
       "floor                       0\n",
       "is_apartment            20924\n",
       "studio                      0\n",
       "open_plan                   0\n",
       "kitchen_area             2278\n",
       "balcony                 11519\n",
       "locality_name              49\n",
       "airports_nearest         5542\n",
       "cityCenters_nearest      5519\n",
       "parks_around3000         5518\n",
       "parks_nearest           15620\n",
       "ponds_around3000         5518\n",
       "ponds_nearest           14589\n",
       "days_exposition          3181\n",
       "dtype: int64"
      ]
     },
     "execution_count": 5,
     "metadata": {},
     "output_type": "execute_result"
    }
   ],
   "source": [
    "#выведем количество пропущенных значений для каждого столбца\n",
    "data.isna().sum()"
   ]
  },
  {
   "cell_type": "code",
   "execution_count": 6,
   "metadata": {},
   "outputs": [],
   "source": [
    "#пропуски значений в \"балконы\", вероятно, связаны с тем, что пользователи с квратирами \"без балкона\" просто не выбрали вариант \"0\" балконов\n",
    "#создадим список из значений столбца \"балконы\". переберем элементы циклом for. проведем замену значений Nan на ноль\n",
    "balcony_replace = ['balcony']\n",
    "for d in balcony_replace:\n",
    "    data[d] = data[d].fillna(0)"
   ]
  },
  {
   "cell_type": "code",
   "execution_count": 7,
   "metadata": {},
   "outputs": [
    {
     "data": {
      "text/plain": [
       "total_images                0\n",
       "last_price                  0\n",
       "total_area                  0\n",
       "first_day_exposition        0\n",
       "rooms                       0\n",
       "ceiling_height           9118\n",
       "floors_total                0\n",
       "living_area              1870\n",
       "floor                       0\n",
       "is_apartment            20838\n",
       "studio                      0\n",
       "open_plan                   0\n",
       "kitchen_area             2231\n",
       "balcony                     0\n",
       "locality_name              48\n",
       "airports_nearest         5532\n",
       "cityCenters_nearest      5509\n",
       "parks_around3000         5508\n",
       "parks_nearest           15568\n",
       "ponds_around3000         5508\n",
       "ponds_nearest           14552\n",
       "days_exposition          3172\n",
       "dtype: int64"
      ]
     },
     "execution_count": 7,
     "metadata": {},
     "output_type": "execute_result"
    }
   ],
   "source": [
    "#пропуски есть также в floors_total. данные столбец нужен нам для дальнейшей работы. удалим строки с отсутствующими значениями\n",
    "data = data.dropna(subset = ['floors_total'])\n",
    "\n",
    "#проверим, как изменилось количество пропусков после наших изменений\n",
    "data.isna().sum()"
   ]
  },
  {
   "cell_type": "markdown",
   "metadata": {},
   "source": [
    "Таблица имеет пропуски в 12 из 22 столбцах:\n",
    "- тип жилья: апартаменты/квартира = 20 924 пропуска из 23 613. 88% пропущенных данных. % потерянных данных и остаток значений слишком мал для анализа. не будем проводить исследования связанные с этим параметром.\n",
    "- расстояние до ближайшего парка = 15 620 из 23 613. 66% пропущенных данных. % потери данных существеннен, но оставшихся данных достаточно для анализа\n",
    "- расстояние до ближайшего водоема = 14 589 из 23 613. 62% пропущенных данных. % потери данных существеннен, но оставшихся данных достаточно для анализа\n",
    "- расстояние до аэропорта =  5 542 из 23 613. 23% пропущенных данных. % потери данных существеннен, но оставшихся данных достаточно для анализа\n",
    "- расстоние до центра города = 5 519 из 23 613. 23% пропущенных данных. % потери данных существеннен, но оставшихся данных достаточно для анализа\n",
    "- кол-во парков в радиусе 3км = 5 518 из 23 613. 23% пропущенных данных. % потери данных существеннен, но оставшихся данных достаточно для анализа\n",
    "- кол-во водоемов в радиусе 3 км = 5 518 из 23 613. 23% пропущенных данных. % потери данных существеннен, но оставшихся данных достаточно для анализа\n",
    "\n",
    "Потерянные данные относятся к картографическим. Необходимо поставить задачу в it отдел, чтобы они проверили причины отсутствия данных, либо настроили их автоматический вывод (возможно, по данным населенным пунктам работы не были проведенены до конца, то есть, например, не настроен расчет расстояния до озера в \"Ломоносово\").\n",
    "\n",
    "Отсутствие данных в столбце \"аппартаменты\" - относится к данным добавленным пользователем. Возможно, заполнение данного столбца не является обязательным при заполнении карточки объявления. Также данные о типе дома, возможно, есть в открытых источниках - возможно, it отдел сможет автоматически подтянуть эти данные к сервису. Необходимо это поправить, т.к. тип жилья является весомым фактором при выборе объекта и может иметь сильные взаимосвязи с другими параметрами объекта. "
   ]
  },
  {
   "cell_type": "markdown",
   "metadata": {},
   "source": [
    "#### Типы данных"
   ]
  },
  {
   "cell_type": "markdown",
   "metadata": {},
   "source": [
    "Столбец first_day_exposition (дата публикации) имеет не подходящий, строковый, тип данных. На следующих этапах при обработке данных нам нужно будет забирать из этого столбца день, месяц, год - с типом данных \"строка\" это будет сделать невозможно. \n",
    "Сделаем также тип данных для floors_total (всего этажей в доме) на int - т.к. у этого столбца может быть только целочисленное значение.  "
   ]
  },
  {
   "cell_type": "code",
   "execution_count": 8,
   "metadata": {},
   "outputs": [
    {
     "name": "stdout",
     "output_type": "stream",
     "text": [
      "<class 'pandas.core.frame.DataFrame'>\n",
      "Int64Index: 23613 entries, 0 to 23698\n",
      "Data columns (total 22 columns):\n",
      " #   Column                Non-Null Count  Dtype         \n",
      "---  ------                --------------  -----         \n",
      " 0   total_images          23613 non-null  int64         \n",
      " 1   last_price            23613 non-null  float32       \n",
      " 2   total_area            23613 non-null  float32       \n",
      " 3   first_day_exposition  23613 non-null  datetime64[ns]\n",
      " 4   rooms                 23613 non-null  int64         \n",
      " 5   ceiling_height        14495 non-null  float32       \n",
      " 6   floors_total          23613 non-null  int64         \n",
      " 7   living_area           21743 non-null  float32       \n",
      " 8   floor                 23613 non-null  int64         \n",
      " 9   is_apartment          2775 non-null   object        \n",
      " 10  studio                23613 non-null  bool          \n",
      " 11  open_plan             23613 non-null  bool          \n",
      " 12  kitchen_area          21382 non-null  float32       \n",
      " 13  balcony               23613 non-null  float32       \n",
      " 14  locality_name         23565 non-null  object        \n",
      " 15  airports_nearest      18081 non-null  float32       \n",
      " 16  cityCenters_nearest   18104 non-null  float32       \n",
      " 17  parks_around3000      18105 non-null  float32       \n",
      " 18  parks_nearest         8045 non-null   float32       \n",
      " 19  ponds_around3000      18105 non-null  float32       \n",
      " 20  ponds_nearest         9061 non-null   float32       \n",
      " 21  days_exposition       20441 non-null  float32       \n",
      "dtypes: bool(2), datetime64[ns](1), float32(13), int64(4), object(2)\n",
      "memory usage: 2.7+ MB\n"
     ]
    }
   ],
   "source": [
    "#заменим тип данных в first_day_exposition на datetime()\n",
    "data['first_day_exposition'] = pd.to_datetime(data['first_day_exposition'], format='%Y-%m-%d')\n",
    "\n",
    "#заменим тип данных в floors_total на int\n",
    "data['floors_total'] = data['floors_total'].astype(int)\n",
    "\n",
    "#заменим тип данных в float64 на float32 для экономии памяти\n",
    "data['last_price'] = pd.to_numeric(data['last_price'], downcast='float')\n",
    "data['total_area'] = pd.to_numeric(data['total_area'], downcast='float')\n",
    "data['ceiling_height'] = pd.to_numeric(data['ceiling_height'], downcast='float')\n",
    "data['living_area'] = pd.to_numeric(data['living_area'], downcast='float')\n",
    "data['kitchen_area'] = pd.to_numeric(data['kitchen_area'], downcast='float')\n",
    "data['balcony'] = pd.to_numeric(data['balcony'], downcast='float')\n",
    "data['airports_nearest'] = pd.to_numeric(data['airports_nearest'], downcast='float')\n",
    "data['cityCenters_nearest'] = pd.to_numeric(data['cityCenters_nearest'], downcast='float')\n",
    "data['parks_around3000'] = pd.to_numeric(data['parks_around3000'], downcast='float')\n",
    "data['parks_nearest'] = pd.to_numeric(data['parks_nearest'], downcast='float')\n",
    "data['ponds_around3000'] = pd.to_numeric(data['ponds_around3000'], downcast='float')\n",
    "data['ponds_nearest'] = pd.to_numeric(data['ponds_nearest'], downcast='float')\n",
    "data['days_exposition'] = pd.to_numeric(data['days_exposition'], downcast='float')\n",
    "\n",
    "#проверим еще раз типы данных через info()\n",
    "data.info()"
   ]
  },
  {
   "cell_type": "markdown",
   "metadata": {},
   "source": [
    "#### Неявные дубликаты"
   ]
  },
  {
   "cell_type": "markdown",
   "metadata": {},
   "source": [
    "Датафрейм содержит только один столбец с названиями - locality_name (название населенного пункта). Проверим, содержит ли он неявные дубликаты. "
   ]
  },
  {
   "cell_type": "code",
   "execution_count": 9,
   "metadata": {
    "scrolled": false
   },
   "outputs": [
    {
     "data": {
      "text/plain": [
       "array(['Санкт-Петербург', 'посёлок Шушары', 'городской посёлок Янино-1',\n",
       "       'посёлок Парголово', 'посёлок Мурино', 'Ломоносов', 'Сертолово',\n",
       "       'Петергоф', 'Пушкин', 'деревня Кудрово', 'Коммунар', 'Колпино',\n",
       "       'поселок городского типа Красный Бор', 'Гатчина', 'поселок Мурино',\n",
       "       'деревня Фёдоровское', 'Выборг', 'Кронштадт', 'Кировск',\n",
       "       'деревня Новое Девяткино', 'посёлок Металлострой',\n",
       "       'посёлок городского типа Лебяжье',\n",
       "       'посёлок городского типа Сиверский', 'поселок Молодцово',\n",
       "       'поселок городского типа Кузьмоловский',\n",
       "       'садовое товарищество Новая Ропша', 'Павловск',\n",
       "       'деревня Пикколово', 'Всеволожск', 'Волхов', 'Кингисепп',\n",
       "       'Приозерск', 'Сестрорецк', 'деревня Куттузи', 'посёлок Аннино',\n",
       "       'поселок городского типа Ефимовский', 'посёлок Плодовое',\n",
       "       'деревня Заклинье', 'поселок Торковичи', 'поселок Первомайское',\n",
       "       'Красное Село', 'посёлок Понтонный', 'Сясьстрой', 'деревня Старая',\n",
       "       'деревня Лесколово', 'посёлок Новый Свет', 'Сланцы',\n",
       "       'село Путилово', 'Ивангород', 'Мурино', 'Шлиссельбург',\n",
       "       'Никольское', 'Зеленогорск', 'Сосновый Бор', 'поселок Новый Свет',\n",
       "       'деревня Оржицы', 'деревня Кальтино', 'Кудрово',\n",
       "       'поселок Романовка', 'посёлок Бугры', 'поселок Бугры',\n",
       "       'поселок городского типа Рощино', 'Кириши', 'Луга', 'Волосово',\n",
       "       'Отрадное', 'село Павлово', 'поселок Оредеж', 'село Копорье',\n",
       "       'посёлок городского типа Красный Бор', 'посёлок Молодёжное',\n",
       "       'Тихвин', 'посёлок Победа', 'деревня Нурма',\n",
       "       'поселок городского типа Синявино', 'Тосно',\n",
       "       'посёлок городского типа Кузьмоловский', 'посёлок Стрельна',\n",
       "       'Бокситогорск', 'посёлок Александровская', 'деревня Лопухинка',\n",
       "       'Пикалёво', 'поселок Терволово',\n",
       "       'поселок городского типа Советский', 'Подпорожье',\n",
       "       'посёлок Петровское', 'посёлок городского типа Токсово',\n",
       "       'поселок Сельцо', 'посёлок городского типа Вырица',\n",
       "       'деревня Кипень', 'деревня Келози', 'деревня Вартемяги',\n",
       "       'посёлок Тельмана', 'поселок Севастьяново',\n",
       "       'городской поселок Большая Ижора', nan,\n",
       "       'городской посёлок Павлово', 'деревня Агалатово',\n",
       "       'посёлок Новогорелово', 'городской посёлок Лесогорский',\n",
       "       'деревня Лаголово', 'поселок Цвелодубово',\n",
       "       'поселок городского типа Рахья', 'поселок городского типа Вырица',\n",
       "       'деревня Белогорка', 'поселок Заводской',\n",
       "       'городской посёлок Новоселье', 'деревня Большие Колпаны',\n",
       "       'деревня Горбунки', 'деревня Батово', 'деревня Заневка',\n",
       "       'деревня Иссад', 'Приморск', 'городской посёлок Фёдоровское',\n",
       "       'деревня Мистолово', 'Новая Ладога', 'поселок Зимитицы',\n",
       "       'поселок Барышево', 'деревня Разметелево',\n",
       "       'поселок городского типа имени Свердлова', 'деревня Пеники',\n",
       "       'поселок Рябово', 'деревня Пудомяги', 'поселок станции Корнево',\n",
       "       'деревня Низино', 'деревня Бегуницы', 'посёлок Поляны',\n",
       "       'городской посёлок Мга', 'поселок Елизаветино',\n",
       "       'посёлок городского типа Кузнечное', 'деревня Колтуши',\n",
       "       'поселок Запорожское', 'посёлок городского типа Рощино',\n",
       "       'деревня Гостилицы', 'деревня Малое Карлино',\n",
       "       'посёлок Мичуринское', 'посёлок городского типа имени Морозова',\n",
       "       'посёлок Песочный', 'посёлок Сосново', 'деревня Аро',\n",
       "       'поселок Ильичёво', 'посёлок городского типа Тайцы',\n",
       "       'деревня Малое Верево', 'деревня Извара', 'поселок станции Вещево',\n",
       "       'село Паша', 'деревня Калитино',\n",
       "       'посёлок городского типа Ульяновка', 'деревня Чудской Бор',\n",
       "       'поселок городского типа Дубровка', 'деревня Мины',\n",
       "       'поселок Войсковицы', 'посёлок городского типа имени Свердлова',\n",
       "       'деревня Коркино', 'посёлок Ропша',\n",
       "       'поселок городского типа Приладожский', 'посёлок Щеглово',\n",
       "       'посёлок Гаврилово', 'Лодейное Поле', 'деревня Рабитицы',\n",
       "       'поселок городского типа Никольский', 'деревня Кузьмолово',\n",
       "       'деревня Малые Колпаны', 'поселок Тельмана',\n",
       "       'посёлок Петро-Славянка', 'городской посёлок Назия',\n",
       "       'посёлок Репино', 'посёлок Ильичёво', 'поселок Углово',\n",
       "       'поселок Старая Малукса', 'садовое товарищество Рахья',\n",
       "       'поселок Аннино', 'поселок Победа', 'деревня Меньково',\n",
       "       'деревня Старые Бегуницы', 'посёлок Сапёрный', 'поселок Семрино',\n",
       "       'поселок Гаврилово', 'поселок Глажево', 'поселок Кобринское',\n",
       "       'деревня Гарболово', 'деревня Юкки',\n",
       "       'поселок станции Приветнинское', 'деревня Мануйлово',\n",
       "       'деревня Пчева', 'поселок Поляны', 'поселок Цвылёво',\n",
       "       'поселок Мельниково', 'посёлок Пудость', 'посёлок Усть-Луга',\n",
       "       'Светогорск', 'Любань', 'поселок Селезнёво',\n",
       "       'поселок городского типа Рябово', 'Каменногорск', 'деревня Кривко',\n",
       "       'поселок Глебычево', 'деревня Парицы', 'поселок Жилпосёлок',\n",
       "       'посёлок городского типа Мга', 'городской поселок Янино-1',\n",
       "       'посёлок Войскорово', 'село Никольское', 'посёлок Терволово',\n",
       "       'поселок Стеклянный', 'посёлок городского типа Важины',\n",
       "       'посёлок Мыза-Ивановка', 'село Русско-Высоцкое',\n",
       "       'поселок городского типа Лебяжье',\n",
       "       'поселок городского типа Форносово', 'село Старая Ладога',\n",
       "       'поселок Житково', 'городской посёлок Виллози', 'деревня Лампово',\n",
       "       'деревня Шпаньково', 'деревня Лаврики', 'посёлок Сумино',\n",
       "       'посёлок Возрождение', 'деревня Старосиверская',\n",
       "       'посёлок Кикерино', 'поселок Возрождение',\n",
       "       'деревня Старое Хинколово', 'посёлок Пригородный',\n",
       "       'посёлок Торфяное', 'городской посёлок Будогощь',\n",
       "       'поселок Суходолье', 'поселок Красная Долина', 'деревня Хапо-Ое',\n",
       "       'поселок городского типа Дружная Горка', 'поселок Лисий Нос',\n",
       "       'деревня Яльгелево', 'посёлок Стеклянный', 'село Рождествено',\n",
       "       'деревня Старополье', 'посёлок Левашово', 'деревня Сяськелево',\n",
       "       'деревня Камышовка',\n",
       "       'садоводческое некоммерческое товарищество Лесная Поляна',\n",
       "       'деревня Хязельки', 'поселок Жилгородок',\n",
       "       'посёлок городского типа Павлово', 'деревня Ялгино',\n",
       "       'поселок Новый Учхоз', 'городской посёлок Рощино',\n",
       "       'поселок Гончарово', 'поселок Почап', 'посёлок Сапёрное',\n",
       "       'посёлок Платформа 69-й километр', 'поселок Каложицы',\n",
       "       'деревня Фалилеево', 'деревня Пельгора',\n",
       "       'поселок городского типа Лесогорский', 'деревня Торошковичи',\n",
       "       'посёлок Белоостров', 'посёлок Алексеевка', 'поселок Серебрянский',\n",
       "       'поселок Лукаши', 'поселок Петровское', 'деревня Щеглово',\n",
       "       'поселок Мичуринское', 'деревня Тарасово', 'поселок Кингисеппский',\n",
       "       'посёлок при железнодорожной станции Вещево', 'поселок Ушаки',\n",
       "       'деревня Котлы', 'деревня Сижно', 'деревня Торосово',\n",
       "       'посёлок Форт Красная Горка', 'деревня Новолисино',\n",
       "       'посёлок станции Громово', 'деревня Глинка', 'посёлок Мельниково',\n",
       "       'поселок городского типа Назия', 'деревня Старая Пустошь',\n",
       "       'поселок Коммунары', 'поселок Починок',\n",
       "       'посёлок городского типа Вознесенье', 'деревня Разбегаево',\n",
       "       'посёлок городского типа Рябово', 'поселок Гладкое',\n",
       "       'посёлок при железнодорожной станции Приветнинское',\n",
       "       'поселок Тёсово-4', 'посёлок Жилгородок', 'деревня Бор',\n",
       "       'посёлок Коробицыно', 'деревня Большая Вруда', 'деревня Курковицы',\n",
       "       'посёлок Лисий Нос', 'городской посёлок Советский',\n",
       "       'посёлок Кобралово', 'деревня Суоранда', 'поселок Кобралово',\n",
       "       'поселок городского типа Кондратьево',\n",
       "       'коттеджный поселок Счастье', 'поселок Любань', 'деревня Реброво',\n",
       "       'деревня Зимитицы', 'деревня Тойворово', 'поселок Семиозерье',\n",
       "       'поселок Лесное', 'поселок Совхозный', 'поселок Усть-Луга',\n",
       "       'посёлок Ленинское', 'посёлок Суйда',\n",
       "       'посёлок городского типа Форносово', 'деревня Нижние Осельки',\n",
       "       'посёлок станции Свирь', 'поселок Перово', 'Высоцк',\n",
       "       'поселок Гарболово', 'село Шум', 'поселок Котельский',\n",
       "       'поселок станции Лужайка', 'деревня Большая Пустомержа',\n",
       "       'поселок Красносельское', 'деревня Вахнова Кара', 'деревня Пижма',\n",
       "       'коттеджный поселок Кивеннапа Север', 'поселок Коробицыно',\n",
       "       'поселок Ромашки', 'посёлок Перово', 'деревня Каськово',\n",
       "       'деревня Куровицы', 'посёлок Плоское', 'поселок Сумино',\n",
       "       'поселок городского типа Большая Ижора', 'поселок Кирпичное',\n",
       "       'деревня Ям-Тесово', 'деревня Раздолье', 'деревня Терпилицы',\n",
       "       'поселок городского типа Токсово', 'посёлок Шугозеро',\n",
       "       'деревня Ваганово', 'поселок Пушное', 'садовое товарищество Садко',\n",
       "       'посёлок Усть-Ижора', 'деревня Выскатка',\n",
       "       'городской посёлок Свирьстрой', 'поселок Громово',\n",
       "       'деревня Кисельня', 'посёлок Старая Малукса',\n",
       "       'деревня Трубников Бор', 'поселок Калитино',\n",
       "       'посёлок Высокоключевой', 'садовое товарищество Приладожский',\n",
       "       'посёлок Пансионат Зелёный Бор', 'деревня Ненимяки',\n",
       "       'поселок Пансионат Зелёный Бор', 'деревня Снегирёвка',\n",
       "       'деревня Рапполово', 'деревня Пустынка', 'поселок Рабитицы',\n",
       "       'деревня Большой Сабск', 'деревня Русско', 'деревня Лупполово',\n",
       "       'деревня Большое Рейзино', 'деревня Малая Романовка',\n",
       "       'поселок Дружноселье', 'поселок Пчевжа', 'поселок Володарское',\n",
       "       'деревня Нижняя', 'коттеджный посёлок Лесное', 'деревня Тихковицы',\n",
       "       'деревня Борисова Грива', 'посёлок Дзержинского'], dtype=object)"
      ]
     },
     "execution_count": 9,
     "metadata": {},
     "output_type": "execute_result"
    }
   ],
   "source": [
    "#выведем список уникальных значений названий населенных пунктов\n",
    "data['locality_name'].unique() "
   ]
  },
  {
   "cell_type": "code",
   "execution_count": 10,
   "metadata": {
    "scrolled": false
   },
   "outputs": [
    {
     "data": {
      "text/plain": [
       "array(['Санкт-Петербург', 'посёлок Шушары', 'городской посёлок Янино-1',\n",
       "       'посёлок Парголово', 'посёлок Мурино', 'Ломоносов', 'Сертолово',\n",
       "       'Петергоф', 'Пушкин', 'деревня Кудрово', 'Коммунар', 'Колпино',\n",
       "       'поселок городского типа Красный Бор', 'Гатчина', 'поселок Мурино',\n",
       "       'деревня Фёдоровское', 'Выборг', 'Кронштадт', 'Кировск',\n",
       "       'деревня Новое Девяткино', 'посёлок Металлострой',\n",
       "       'посёлок городского типа Лебяжье',\n",
       "       'посёлок городского типа Сиверский', 'поселок Молодцово',\n",
       "       'поселок городского типа Кузьмоловский',\n",
       "       'садовое товарищество Новая Ропша', 'Павловск',\n",
       "       'деревня Пикколово', 'Всеволожск', 'Волхов', 'Кингисепп',\n",
       "       'Приозерск', 'Сестрорецк', 'деревня Куттузи', 'посёлок Аннино',\n",
       "       'поселок городского типа Ефимовский', 'посёлок Плодовое',\n",
       "       'деревня Заклинье', 'поселок Торковичи', 'поселок Первомайское',\n",
       "       'Красное Село', 'посёлок Понтонный', 'Сясьстрой', 'деревня Старая',\n",
       "       'деревня Лесколово', 'посёлок Новый Свет', 'Сланцы',\n",
       "       'село Путилово', 'Ивангород', 'Мурино', 'Шлиссельбург',\n",
       "       'Никольское', 'Зеленогорск', 'Сосновый Бор', 'поселок Новый Свет',\n",
       "       'деревня Оржицы', 'деревня Кальтино', 'Кудрово',\n",
       "       'поселок Романовка', 'посёлок Бугры', 'поселок Бугры',\n",
       "       'поселок городского типа Рощино', 'Кириши', 'Луга', 'Волосово',\n",
       "       'Отрадное', 'село Павлово', 'поселок Оредеж', 'село Копорье',\n",
       "       'посёлок городского типа Красный Бор', 'посёлок Молодёжное',\n",
       "       'Тихвин', 'посёлок Победа', 'деревня Нурма',\n",
       "       'поселок городского типа Синявино', 'Тосно',\n",
       "       'посёлок городского типа Кузьмоловский', 'посёлок Стрельна',\n",
       "       'Бокситогорск', 'посёлок Александровская', 'деревня Лопухинка',\n",
       "       'Пикалёво', 'поселок Терволово',\n",
       "       'поселок городского типа Советский', 'Подпорожье',\n",
       "       'посёлок Петровское', 'посёлок городского типа Токсово',\n",
       "       'поселок Сельцо', 'посёлок городского типа Вырица',\n",
       "       'деревня Кипень', 'деревня Келози', 'деревня Вартемяги',\n",
       "       'посёлок Тельмана', 'поселок Севастьяново',\n",
       "       'городской поселок Большая Ижора', nan,\n",
       "       'городской посёлок Павлово', 'деревня Агалатово',\n",
       "       'посёлок Новогорелово', 'городской посёлок Лесогорский',\n",
       "       'деревня Лаголово', 'поселок Цвелодубово',\n",
       "       'поселок городского типа Рахья', 'поселок городского типа Вырица',\n",
       "       'деревня Белогорка', 'поселок Заводской',\n",
       "       'городской посёлок Новоселье', 'деревня Большие Колпаны',\n",
       "       'деревня Горбунки', 'деревня Батово', 'деревня Заневка',\n",
       "       'деревня Иссад', 'Приморск', 'городской посёлок Фёдоровское',\n",
       "       'деревня Мистолово', 'Новая Ладога', 'поселок Зимитицы',\n",
       "       'поселок Барышево', 'деревня Разметелево',\n",
       "       'поселок городского типа имени Свердлова', 'деревня Пеники',\n",
       "       'поселок Рябово', 'деревня Пудомяги', 'поселок станции Корнево',\n",
       "       'деревня Низино', 'деревня Бегуницы', 'посёлок Поляны',\n",
       "       'городской посёлок Мга', 'поселок Елизаветино',\n",
       "       'посёлок городского типа Кузнечное', 'деревня Колтуши',\n",
       "       'поселок Запорожское', 'посёлок городского типа Рощино',\n",
       "       'деревня Гостилицы', 'деревня Малое Карлино',\n",
       "       'посёлок Мичуринское', 'посёлок городского типа имени Морозова',\n",
       "       'посёлок Песочный', 'посёлок Сосново', 'деревня Аро',\n",
       "       'поселок Ильичёво', 'посёлок городского типа Тайцы',\n",
       "       'деревня Малое Верево', 'деревня Извара', 'поселок станции Вещево',\n",
       "       'село Паша', 'деревня Калитино',\n",
       "       'посёлок городского типа Ульяновка', 'деревня Чудской Бор',\n",
       "       'поселок городского типа Дубровка', 'деревня Мины',\n",
       "       'поселок Войсковицы', 'посёлок городского типа имени Свердлова',\n",
       "       'деревня Коркино', 'посёлок Ропша',\n",
       "       'поселок городского типа Приладожский', 'посёлок Щеглово',\n",
       "       'посёлок Гаврилово', 'Лодейное Поле', 'деревня Рабитицы',\n",
       "       'поселок городского типа Никольский', 'деревня Кузьмолово',\n",
       "       'деревня Малые Колпаны', 'поселок Тельмана',\n",
       "       'посёлок Петро-Славянка', 'поселок городского типа Назия',\n",
       "       'посёлок Репино', 'посёлок Ильичёво', 'поселок Углово',\n",
       "       'поселок Старая Малукса', 'садовое товарищество Рахья',\n",
       "       'поселок Аннино', 'поселок Победа', 'деревня Меньково',\n",
       "       'деревня Старые Бегуницы', 'посёлок Сапёрный', 'поселок Семрино',\n",
       "       'поселок Гаврилово', 'поселок Глажево', 'поселок Кобринское',\n",
       "       'деревня Гарболово', 'деревня Юкки',\n",
       "       'поселок станции Приветнинское', 'деревня Мануйлово',\n",
       "       'деревня Пчева', 'поселок Поляны', 'поселок Цвылёво',\n",
       "       'поселок Мельниково', 'посёлок Пудость', 'посёлок Усть-Луга',\n",
       "       'Светогорск', 'Любань', 'поселок Селезнёво',\n",
       "       'посёлок городского типа Рябово', 'Каменногорск', 'деревня Кривко',\n",
       "       'поселок Глебычево', 'деревня Парицы', 'поселок Жилпосёлок',\n",
       "       'посёлок городского типа Мга', 'городской поселок Янино-1',\n",
       "       'посёлок Войскорово', 'село Никольское', 'посёлок Терволово',\n",
       "       'поселок Стеклянный', 'посёлок городского типа Важины',\n",
       "       'посёлок Мыза-Ивановка', 'село Русско-Высоцкое',\n",
       "       'поселок городского типа Лебяжье',\n",
       "       'поселок городского типа Форносово', 'село Старая Ладога',\n",
       "       'поселок Житково', 'городской посёлок Виллози', 'деревня Лампово',\n",
       "       'деревня Шпаньково', 'деревня Лаврики', 'посёлок Сумино',\n",
       "       'посёлок Возрождение', 'деревня Старосиверская',\n",
       "       'посёлок Кикерино', 'поселок Возрождение',\n",
       "       'деревня Старое Хинколово', 'посёлок Пригородный',\n",
       "       'посёлок Торфяное', 'городской посёлок Будогощь',\n",
       "       'поселок Суходолье', 'поселок Красная Долина', 'деревня Хапо-Ое',\n",
       "       'поселок городского типа Дружная Горка', 'поселок Лисий Нос',\n",
       "       'деревня Яльгелево', 'посёлок Стеклянный', 'село Рождествено',\n",
       "       'деревня Старополье', 'посёлок Левашово', 'деревня Сяськелево',\n",
       "       'деревня Камышовка',\n",
       "       'садоводческое некоммерческое товарищество Лесная Поляна',\n",
       "       'деревня Хязельки', 'поселок Жилгородок',\n",
       "       'посёлок городского типа Павлово', 'деревня Ялгино',\n",
       "       'поселок Новый Учхоз', 'поселок Гончарово', 'поселок Почап',\n",
       "       'посёлок Сапёрное', 'посёлок Платформа 69-й километр',\n",
       "       'поселок Каложицы', 'деревня Фалилеево', 'деревня Пельгора',\n",
       "       'поселок городского типа Лесогорский', 'деревня Торошковичи',\n",
       "       'посёлок Белоостров', 'посёлок Алексеевка', 'поселок Серебрянский',\n",
       "       'поселок Лукаши', 'поселок Петровское', 'деревня Щеглово',\n",
       "       'поселок Мичуринское', 'деревня Тарасово', 'поселок Кингисеппский',\n",
       "       'посёлок при железнодорожной станции Вещево', 'поселок Ушаки',\n",
       "       'деревня Котлы', 'деревня Сижно', 'деревня Торосово',\n",
       "       'посёлок Форт Красная Горка', 'деревня Новолисино',\n",
       "       'посёлок станции Громово', 'деревня Глинка', 'посёлок Мельниково',\n",
       "       'деревня Старая Пустошь', 'поселок Коммунары', 'поселок Починок',\n",
       "       'посёлок городского типа Вознесенье', 'деревня Разбегаево',\n",
       "       'поселок Гладкое',\n",
       "       'посёлок при железнодорожной станции Приветнинское',\n",
       "       'поселок Тёсово-4', 'посёлок Жилгородок', 'деревня Бор',\n",
       "       'посёлок Коробицыно', 'деревня Большая Вруда', 'деревня Курковицы',\n",
       "       'посёлок Лисий Нос', 'городской посёлок Советский',\n",
       "       'посёлок Кобралово', 'деревня Суоранда', 'поселок Кобралово',\n",
       "       'поселок городского типа Кондратьево',\n",
       "       'коттеджный поселок Счастье', 'поселок Любань', 'деревня Реброво',\n",
       "       'деревня Зимитицы', 'деревня Тойворово', 'поселок Семиозерье',\n",
       "       'поселок Лесное', 'поселок Совхозный', 'поселок Усть-Луга',\n",
       "       'посёлок Ленинское', 'посёлок Суйда',\n",
       "       'посёлок городского типа Форносово', 'деревня Нижние Осельки',\n",
       "       'посёлок станции Свирь', 'поселок Перово', 'Высоцк',\n",
       "       'поселок Гарболово', 'село Шум', 'поселок Котельский',\n",
       "       'поселок станции Лужайка', 'деревня Большая Пустомержа',\n",
       "       'поселок Красносельское', 'деревня Вахнова Кара', 'деревня Пижма',\n",
       "       'коттеджный поселок Кивеннапа Север', 'поселок Коробицыно',\n",
       "       'поселок Ромашки', 'посёлок Перово', 'деревня Каськово',\n",
       "       'деревня Куровицы', 'посёлок Плоское', 'поселок Сумино',\n",
       "       'поселок городского типа Большая Ижора', 'поселок Кирпичное',\n",
       "       'деревня Ям-Тесово', 'деревня Раздолье', 'деревня Терпилицы',\n",
       "       'поселок городского типа Токсово', 'посёлок Шугозеро',\n",
       "       'деревня Ваганово', 'поселок Пушное', 'садовое товарищество Садко',\n",
       "       'посёлок Усть-Ижора', 'деревня Выскатка',\n",
       "       'городской посёлок Свирьстрой', 'поселок Громово',\n",
       "       'деревня Кисельня', 'посёлок Старая Малукса',\n",
       "       'деревня Трубников Бор', 'поселок Калитино',\n",
       "       'посёлок Высокоключевой', 'садовое товарищество Приладожский',\n",
       "       'посёлок Пансионат Зелёный Бор', 'деревня Ненимяки',\n",
       "       'поселок Пансионат Зелёный Бор', 'деревня Снегирёвка',\n",
       "       'деревня Рапполово', 'деревня Пустынка', 'поселок Рабитицы',\n",
       "       'деревня Большой Сабск', 'деревня Русско', 'деревня Лупполово',\n",
       "       'деревня Большое Рейзино', 'деревня Малая Романовка',\n",
       "       'поселок Дружноселье', 'поселок Пчевжа', 'поселок Володарское',\n",
       "       'деревня Нижняя', 'коттеджный посёлок Лесное', 'деревня Тихковицы',\n",
       "       'деревня Борисова Грива', 'посёлок Дзержинского'], dtype=object)"
      ]
     },
     "execution_count": 10,
     "metadata": {},
     "output_type": "execute_result"
    }
   ],
   "source": [
    "#обработаем не явные дубликаты. \"городской посёлок Назия\" и \"поселок городского типа Назия\" дубликаты\n",
    "duplicates = ['городской посёлок Назия']\n",
    "name = 'поселок городского типа Назия'\n",
    "data['locality_name'] = data['locality_name'].replace(duplicates, name)\n",
    "\n",
    "#\"городской посёлок Рощино\" и \"посёлок городского типа Рощино\" тоже очевидно дубликаты\n",
    "duplicates = ['городской посёлок Рощино']\n",
    "name = 'посёлок городского типа Рощино'\n",
    "data['locality_name'] = data['locality_name'].replace(duplicates, name)\n",
    "\n",
    "#\"поселок городского типа Рябово\" и \"посёлок городского типа Рябово\" - дубликаты\n",
    "duplicates = ['поселок городского типа Рябово']\n",
    "name = 'посёлок городского типа Рябово'\n",
    "data['locality_name'] = data['locality_name'].replace(duplicates, name)\n",
    "\n",
    "#выведем уникальные значения вновь для проверки \n",
    "data['locality_name'].unique() "
   ]
  },
  {
   "cell_type": "markdown",
   "metadata": {},
   "source": [
    "#### Аномальные значения"
   ]
  },
  {
   "cell_type": "markdown",
   "metadata": {},
   "source": [
    "Посмотрим минимальные, максимальные и средние значения для всех столбцов датафрейма для выявления аномальных значений"
   ]
  },
  {
   "cell_type": "code",
   "execution_count": 11,
   "metadata": {},
   "outputs": [
    {
     "data": {
      "text/html": [
       "<div>\n",
       "<style scoped>\n",
       "    .dataframe tbody tr th:only-of-type {\n",
       "        vertical-align: middle;\n",
       "    }\n",
       "\n",
       "    .dataframe tbody tr th {\n",
       "        vertical-align: top;\n",
       "    }\n",
       "\n",
       "    .dataframe thead th {\n",
       "        text-align: right;\n",
       "    }\n",
       "</style>\n",
       "<table border=\"1\" class=\"dataframe\">\n",
       "  <thead>\n",
       "    <tr style=\"text-align: right;\">\n",
       "      <th></th>\n",
       "      <th>count</th>\n",
       "      <th>mean</th>\n",
       "      <th>std</th>\n",
       "      <th>min</th>\n",
       "      <th>25%</th>\n",
       "      <th>50%</th>\n",
       "      <th>75%</th>\n",
       "      <th>max</th>\n",
       "    </tr>\n",
       "  </thead>\n",
       "  <tbody>\n",
       "    <tr>\n",
       "      <th>total_images</th>\n",
       "      <td>23613.0</td>\n",
       "      <td>9.874518e+00</td>\n",
       "      <td>5.681541e+00</td>\n",
       "      <td>0.0</td>\n",
       "      <td>6.00</td>\n",
       "      <td>9.00</td>\n",
       "      <td>1.400000e+01</td>\n",
       "      <td>5.000000e+01</td>\n",
       "    </tr>\n",
       "    <tr>\n",
       "      <th>last_price</th>\n",
       "      <td>23613.0</td>\n",
       "      <td>6.540556e+06</td>\n",
       "      <td>1.090172e+07</td>\n",
       "      <td>12190.0</td>\n",
       "      <td>3400000.00</td>\n",
       "      <td>4650000.00</td>\n",
       "      <td>6.799000e+06</td>\n",
       "      <td>7.630000e+08</td>\n",
       "    </tr>\n",
       "    <tr>\n",
       "      <th>total_area</th>\n",
       "      <td>23613.0</td>\n",
       "      <td>6.034068e+01</td>\n",
       "      <td>3.564899e+01</td>\n",
       "      <td>12.0</td>\n",
       "      <td>40.00</td>\n",
       "      <td>52.00</td>\n",
       "      <td>6.980000e+01</td>\n",
       "      <td>9.000000e+02</td>\n",
       "    </tr>\n",
       "    <tr>\n",
       "      <th>rooms</th>\n",
       "      <td>23613.0</td>\n",
       "      <td>2.071147e+00</td>\n",
       "      <td>1.078380e+00</td>\n",
       "      <td>0.0</td>\n",
       "      <td>1.00</td>\n",
       "      <td>2.00</td>\n",
       "      <td>3.000000e+00</td>\n",
       "      <td>1.900000e+01</td>\n",
       "    </tr>\n",
       "    <tr>\n",
       "      <th>ceiling_height</th>\n",
       "      <td>14495.0</td>\n",
       "      <td>2.771495e+00</td>\n",
       "      <td>1.261445e+00</td>\n",
       "      <td>1.0</td>\n",
       "      <td>2.52</td>\n",
       "      <td>2.65</td>\n",
       "      <td>2.800000e+00</td>\n",
       "      <td>1.000000e+02</td>\n",
       "    </tr>\n",
       "    <tr>\n",
       "      <th>floors_total</th>\n",
       "      <td>23613.0</td>\n",
       "      <td>1.067382e+01</td>\n",
       "      <td>6.597173e+00</td>\n",
       "      <td>1.0</td>\n",
       "      <td>5.00</td>\n",
       "      <td>9.00</td>\n",
       "      <td>1.600000e+01</td>\n",
       "      <td>6.000000e+01</td>\n",
       "    </tr>\n",
       "    <tr>\n",
       "      <th>living_area</th>\n",
       "      <td>21743.0</td>\n",
       "      <td>3.446278e+01</td>\n",
       "      <td>2.203743e+01</td>\n",
       "      <td>2.0</td>\n",
       "      <td>18.60</td>\n",
       "      <td>30.00</td>\n",
       "      <td>4.230000e+01</td>\n",
       "      <td>4.097000e+02</td>\n",
       "    </tr>\n",
       "    <tr>\n",
       "      <th>floor</th>\n",
       "      <td>23613.0</td>\n",
       "      <td>5.877313e+00</td>\n",
       "      <td>4.873539e+00</td>\n",
       "      <td>1.0</td>\n",
       "      <td>2.00</td>\n",
       "      <td>4.00</td>\n",
       "      <td>8.000000e+00</td>\n",
       "      <td>3.300000e+01</td>\n",
       "    </tr>\n",
       "    <tr>\n",
       "      <th>kitchen_area</th>\n",
       "      <td>21382.0</td>\n",
       "      <td>1.056413e+01</td>\n",
       "      <td>5.904316e+00</td>\n",
       "      <td>1.3</td>\n",
       "      <td>7.00</td>\n",
       "      <td>9.10</td>\n",
       "      <td>1.200000e+01</td>\n",
       "      <td>1.120000e+02</td>\n",
       "    </tr>\n",
       "    <tr>\n",
       "      <th>balcony</th>\n",
       "      <td>23613.0</td>\n",
       "      <td>5.930631e-01</td>\n",
       "      <td>9.603071e-01</td>\n",
       "      <td>0.0</td>\n",
       "      <td>0.00</td>\n",
       "      <td>0.00</td>\n",
       "      <td>1.000000e+00</td>\n",
       "      <td>5.000000e+00</td>\n",
       "    </tr>\n",
       "    <tr>\n",
       "      <th>airports_nearest</th>\n",
       "      <td>18081.0</td>\n",
       "      <td>2.878801e+04</td>\n",
       "      <td>1.262621e+04</td>\n",
       "      <td>0.0</td>\n",
       "      <td>18575.00</td>\n",
       "      <td>26726.00</td>\n",
       "      <td>3.724200e+04</td>\n",
       "      <td>8.486900e+04</td>\n",
       "    </tr>\n",
       "    <tr>\n",
       "      <th>cityCenters_nearest</th>\n",
       "      <td>18104.0</td>\n",
       "      <td>1.418508e+04</td>\n",
       "      <td>8.614132e+03</td>\n",
       "      <td>181.0</td>\n",
       "      <td>9233.75</td>\n",
       "      <td>13093.00</td>\n",
       "      <td>1.628700e+04</td>\n",
       "      <td>6.596800e+04</td>\n",
       "    </tr>\n",
       "    <tr>\n",
       "      <th>parks_around3000</th>\n",
       "      <td>18105.0</td>\n",
       "      <td>6.114333e-01</td>\n",
       "      <td>8.021677e-01</td>\n",
       "      <td>0.0</td>\n",
       "      <td>0.00</td>\n",
       "      <td>0.00</td>\n",
       "      <td>1.000000e+00</td>\n",
       "      <td>3.000000e+00</td>\n",
       "    </tr>\n",
       "    <tr>\n",
       "      <th>parks_nearest</th>\n",
       "      <td>8045.0</td>\n",
       "      <td>4.905546e+02</td>\n",
       "      <td>3.413367e+02</td>\n",
       "      <td>1.0</td>\n",
       "      <td>288.00</td>\n",
       "      <td>455.00</td>\n",
       "      <td>6.120000e+02</td>\n",
       "      <td>3.190000e+03</td>\n",
       "    </tr>\n",
       "    <tr>\n",
       "      <th>ponds_around3000</th>\n",
       "      <td>18105.0</td>\n",
       "      <td>7.701188e-01</td>\n",
       "      <td>9.390752e-01</td>\n",
       "      <td>0.0</td>\n",
       "      <td>0.00</td>\n",
       "      <td>1.00</td>\n",
       "      <td>1.000000e+00</td>\n",
       "      <td>3.000000e+00</td>\n",
       "    </tr>\n",
       "    <tr>\n",
       "      <th>ponds_nearest</th>\n",
       "      <td>9061.0</td>\n",
       "      <td>5.182095e+02</td>\n",
       "      <td>2.778875e+02</td>\n",
       "      <td>13.0</td>\n",
       "      <td>294.00</td>\n",
       "      <td>503.00</td>\n",
       "      <td>7.300000e+02</td>\n",
       "      <td>1.344000e+03</td>\n",
       "    </tr>\n",
       "    <tr>\n",
       "      <th>days_exposition</th>\n",
       "      <td>20441.0</td>\n",
       "      <td>1.808848e+02</td>\n",
       "      <td>2.196855e+02</td>\n",
       "      <td>1.0</td>\n",
       "      <td>45.00</td>\n",
       "      <td>95.00</td>\n",
       "      <td>2.320000e+02</td>\n",
       "      <td>1.580000e+03</td>\n",
       "    </tr>\n",
       "  </tbody>\n",
       "</table>\n",
       "</div>"
      ],
      "text/plain": [
       "                       count          mean           std      min         25%  \\\n",
       "total_images         23613.0  9.874518e+00  5.681541e+00      0.0        6.00   \n",
       "last_price           23613.0  6.540556e+06  1.090172e+07  12190.0  3400000.00   \n",
       "total_area           23613.0  6.034068e+01  3.564899e+01     12.0       40.00   \n",
       "rooms                23613.0  2.071147e+00  1.078380e+00      0.0        1.00   \n",
       "ceiling_height       14495.0  2.771495e+00  1.261445e+00      1.0        2.52   \n",
       "floors_total         23613.0  1.067382e+01  6.597173e+00      1.0        5.00   \n",
       "living_area          21743.0  3.446278e+01  2.203743e+01      2.0       18.60   \n",
       "floor                23613.0  5.877313e+00  4.873539e+00      1.0        2.00   \n",
       "kitchen_area         21382.0  1.056413e+01  5.904316e+00      1.3        7.00   \n",
       "balcony              23613.0  5.930631e-01  9.603071e-01      0.0        0.00   \n",
       "airports_nearest     18081.0  2.878801e+04  1.262621e+04      0.0    18575.00   \n",
       "cityCenters_nearest  18104.0  1.418508e+04  8.614132e+03    181.0     9233.75   \n",
       "parks_around3000     18105.0  6.114333e-01  8.021677e-01      0.0        0.00   \n",
       "parks_nearest         8045.0  4.905546e+02  3.413367e+02      1.0      288.00   \n",
       "ponds_around3000     18105.0  7.701188e-01  9.390752e-01      0.0        0.00   \n",
       "ponds_nearest         9061.0  5.182095e+02  2.778875e+02     13.0      294.00   \n",
       "days_exposition      20441.0  1.808848e+02  2.196855e+02      1.0       45.00   \n",
       "\n",
       "                            50%           75%           max  \n",
       "total_images               9.00  1.400000e+01  5.000000e+01  \n",
       "last_price           4650000.00  6.799000e+06  7.630000e+08  \n",
       "total_area                52.00  6.980000e+01  9.000000e+02  \n",
       "rooms                      2.00  3.000000e+00  1.900000e+01  \n",
       "ceiling_height             2.65  2.800000e+00  1.000000e+02  \n",
       "floors_total               9.00  1.600000e+01  6.000000e+01  \n",
       "living_area               30.00  4.230000e+01  4.097000e+02  \n",
       "floor                      4.00  8.000000e+00  3.300000e+01  \n",
       "kitchen_area               9.10  1.200000e+01  1.120000e+02  \n",
       "balcony                    0.00  1.000000e+00  5.000000e+00  \n",
       "airports_nearest       26726.00  3.724200e+04  8.486900e+04  \n",
       "cityCenters_nearest    13093.00  1.628700e+04  6.596800e+04  \n",
       "parks_around3000           0.00  1.000000e+00  3.000000e+00  \n",
       "parks_nearest            455.00  6.120000e+02  3.190000e+03  \n",
       "ponds_around3000           1.00  1.000000e+00  3.000000e+00  \n",
       "ponds_nearest            503.00  7.300000e+02  1.344000e+03  \n",
       "days_exposition           95.00  2.320000e+02  1.580000e+03  "
      ]
     },
     "execution_count": 11,
     "metadata": {},
     "output_type": "execute_result"
    }
   ],
   "source": [
    "#посмотрим все столбцы методом describe()\n",
    "data.describe().T"
   ]
  },
  {
   "cell_type": "markdown",
   "metadata": {},
   "source": [
    "- total_area - минимальное в 12кв. Выглядит выбивающимся значением. Оставим в датафрейме объекты с площадью от 17кв. Значение в 900кв так же выглядит выбивающимся - возможно в базу попали не жилые помещения;\n",
    "- rooms - минимальное 0. Вероятно, это ошибки. Число комнат в квартире не может быть равно 0. Заменим 0 на 1. Максимальное значение в 19 также выглядит ошибкой;\n",
    "- last_price. 75% процентиль приходится на 7млн. Максимальное значение в 7 млрд - аномальное. возможно, это нежилые помещения;\n",
    "- ceiling_height - не может быть меньше 2,5м. Элитные дома могут иметь высоту до 4м. Удалим все значения за пределами этого диапазона.\n",
    "- floors_total - 1(один) этаж это жилой дом, частный сектор. Мы исследуем данные о продаже квартир. Оставим только объекты с этажностью от 2 этажей.\n",
    "- kitchen_area - максимальное значение 112 выглядит аномальным. оставим для анализа только объекты с площадью кухни до 40кв\n",
    "- living_area - оставим данные с объектами с площадью от 12кв \n",
    "- days_exposition - значение 1 выглядит аномальным. похоже на ошибку загрузки. возможно, пользователь загрузил не то объявление и решил его удалить. на данном этапе нам помогла бы консультация с опытным риелтором - чтобы узнать минимально нормальное время продажи квартиры. по нашим данным первый квартиль равен 45. оставим для этого столбца значение больше 7 дней. "
   ]
  },
  {
   "cell_type": "code",
   "execution_count": 12,
   "metadata": {
    "scrolled": false
   },
   "outputs": [
    {
     "name": "stdout",
     "output_type": "stream",
     "text": [
      "<class 'pandas.core.frame.DataFrame'>\n",
      "Int64Index: 22522 entries, 0 to 23698\n",
      "Data columns (total 22 columns):\n",
      " #   Column                Non-Null Count  Dtype         \n",
      "---  ------                --------------  -----         \n",
      " 0   total_images          22522 non-null  int64         \n",
      " 1   last_price            22522 non-null  float32       \n",
      " 2   total_area            22522 non-null  float32       \n",
      " 3   first_day_exposition  22522 non-null  datetime64[ns]\n",
      " 4   rooms                 22522 non-null  int64         \n",
      " 5   ceiling_height        13792 non-null  float32       \n",
      " 6   floors_total          22522 non-null  int64         \n",
      " 7   living_area           20717 non-null  float32       \n",
      " 8   floor                 22522 non-null  int64         \n",
      " 9   is_apartment          2672 non-null   object        \n",
      " 10  studio                22522 non-null  bool          \n",
      " 11  open_plan             22522 non-null  bool          \n",
      " 12  kitchen_area          20398 non-null  float32       \n",
      " 13  balcony               22522 non-null  float32       \n",
      " 14  locality_name         22476 non-null  object        \n",
      " 15  airports_nearest      17205 non-null  float32       \n",
      " 16  cityCenters_nearest   17225 non-null  float32       \n",
      " 17  parks_around3000      17226 non-null  float32       \n",
      " 18  parks_nearest         7618 non-null   float32       \n",
      " 19  ponds_around3000      17226 non-null  float32       \n",
      " 20  ponds_nearest         8620 non-null   float32       \n",
      " 21  days_exposition       19436 non-null  float32       \n",
      "dtypes: bool(2), datetime64[ns](1), float32(13), int64(4), object(2)\n",
      "memory usage: 2.5+ MB\n"
     ]
    }
   ],
   "source": [
    "#удалим в total_area все строки со значениями меньше 17 и больше 400\n",
    "data = data.drop(data[data['total_area'] < 17].index)\n",
    "data = data.drop(data[data['total_area'] > 400].index)\n",
    "\n",
    "#заменим в rooms 0 на 1\n",
    "for i in data['rooms']:\n",
    "     if i == 0:\n",
    "        data['rooms'] = data['rooms'].replace({i: 1})\n",
    "\n",
    "#удалим все значени в rooms больше чем 7. мы удаляем их т.к. 75% процентиль приходится на 3. в Максимум = 19.\n",
    "data = data.drop(data[data['rooms'] > 7].index)\n",
    "\n",
    "#удалим из last_price все значения больше 100 000 000 (в купе с тем, что у нас есть объекты в 900кв метров - возможно, это не жилые помещения)\n",
    "data = data.drop(data[data['last_price'] > 100000000].index)\n",
    "\n",
    "#удалим все значени в ceiling_height меньшие чем 2,5 и большие, чем 4\n",
    "data = data.drop(data[data['ceiling_height'] < 2.5].index) \n",
    "data = data.drop(data[data['ceiling_height'] > 4].index)\n",
    "\n",
    "#удалим все значени в floors_total равные 1\n",
    "data = data.drop(data[data['floors_total'] == 1].index)\n",
    "\n",
    "#удалим в living_area все строки со значениями меньше 12\n",
    "data = data.drop(data[data['living_area'] < 12].index)\n",
    "\n",
    "#удалим в kitchen_area все строки со значениями больше 40\n",
    "data = data.drop(data[data['kitchen_area'] > 40].index)\n",
    "\n",
    "#удалим из days_exposition все строки со значениями меньше 7\n",
    "data = data.drop(data[data['days_exposition'] < 7].index)\n",
    "\n",
    "#посмотрим как изменились данные в датафрейме после работы с аномальными значениями\n",
    "data.info()"
   ]
  },
  {
   "cell_type": "markdown",
   "metadata": {},
   "source": [
    "После обработки данных датафрейм сократился, но не существенно. "
   ]
  },
  {
   "cell_type": "markdown",
   "metadata": {},
   "source": [
    "### Добавление новых столбцов в таблицу"
   ]
  },
  {
   "cell_type": "markdown",
   "metadata": {},
   "source": [
    "Проведем расчеты и добавим в таблицу новые столбцы необходимые для анализа данных."
   ]
  },
  {
   "cell_type": "code",
   "execution_count": 13,
   "metadata": {},
   "outputs": [],
   "source": [
    "#добавим в таблицу data цену за один квадратный метр\n",
    "data['meter_area_price'] = round ((data['last_price'] / data['total_area']), 2)\n",
    "\n",
    "#добавим в таблицу день недели публикации объявления\n",
    "data['day_week'] = data['first_day_exposition'].dt.weekday\n",
    "\n",
    "#добавим в таблицу столбец с месяцем публикации объявления\n",
    "data['month'] = data['first_day_exposition'].dt.month \n",
    "\n",
    "#добавим в таблицу столбец с годом публикации объявления\n",
    "data['year'] = data['first_day_exposition'].dt.to_period(\"Y\")\n",
    "\n",
    "#добавим в таблицу столбец с типом этажа квартиры\n",
    "def floor_type(floor):\n",
    "    if floor['floor'] == 1:\n",
    "        return 'первый'\n",
    "    elif floor['floor'] == floor['floors_total']:\n",
    "        return 'последний'\n",
    "    else:\n",
    "        return 'другой'\n",
    "\n",
    "data['floor_type'] = data.apply(floor_type, axis =1)"
   ]
  },
  {
   "cell_type": "code",
   "execution_count": 14,
   "metadata": {},
   "outputs": [],
   "source": [
    "#преобразуем столбец cityCenters_nearest. переведем метры в километры и округлим их\n",
    "data['cityCenters_nearest'] = data['cityCenters_nearest'] // 1000"
   ]
  },
  {
   "cell_type": "code",
   "execution_count": 15,
   "metadata": {},
   "outputs": [
    {
     "data": {
      "text/html": [
       "<div>\n",
       "<style scoped>\n",
       "    .dataframe tbody tr th:only-of-type {\n",
       "        vertical-align: middle;\n",
       "    }\n",
       "\n",
       "    .dataframe tbody tr th {\n",
       "        vertical-align: top;\n",
       "    }\n",
       "\n",
       "    .dataframe thead th {\n",
       "        text-align: right;\n",
       "    }\n",
       "</style>\n",
       "<table border=\"1\" class=\"dataframe\">\n",
       "  <thead>\n",
       "    <tr style=\"text-align: right;\">\n",
       "      <th></th>\n",
       "      <th>total_images</th>\n",
       "      <th>last_price</th>\n",
       "      <th>total_area</th>\n",
       "      <th>first_day_exposition</th>\n",
       "      <th>rooms</th>\n",
       "      <th>ceiling_height</th>\n",
       "      <th>floors_total</th>\n",
       "      <th>living_area</th>\n",
       "      <th>floor</th>\n",
       "      <th>is_apartment</th>\n",
       "      <th>studio</th>\n",
       "      <th>open_plan</th>\n",
       "      <th>kitchen_area</th>\n",
       "      <th>balcony</th>\n",
       "      <th>locality_name</th>\n",
       "      <th>airports_nearest</th>\n",
       "      <th>cityCenters_nearest</th>\n",
       "      <th>parks_around3000</th>\n",
       "      <th>parks_nearest</th>\n",
       "      <th>ponds_around3000</th>\n",
       "      <th>ponds_nearest</th>\n",
       "      <th>days_exposition</th>\n",
       "      <th>meter_area_price</th>\n",
       "      <th>day_week</th>\n",
       "      <th>month</th>\n",
       "      <th>year</th>\n",
       "      <th>floor_type</th>\n",
       "    </tr>\n",
       "  </thead>\n",
       "  <tbody>\n",
       "    <tr>\n",
       "      <th>0</th>\n",
       "      <td>20</td>\n",
       "      <td>13000000.0</td>\n",
       "      <td>108.000000</td>\n",
       "      <td>2019-03-07</td>\n",
       "      <td>3</td>\n",
       "      <td>2.7</td>\n",
       "      <td>16</td>\n",
       "      <td>51.000000</td>\n",
       "      <td>8</td>\n",
       "      <td>NaN</td>\n",
       "      <td>False</td>\n",
       "      <td>False</td>\n",
       "      <td>25.0</td>\n",
       "      <td>0.0</td>\n",
       "      <td>Санкт-Петербург</td>\n",
       "      <td>18863.0</td>\n",
       "      <td>16.0</td>\n",
       "      <td>1.0</td>\n",
       "      <td>482.0</td>\n",
       "      <td>2.0</td>\n",
       "      <td>755.0</td>\n",
       "      <td>NaN</td>\n",
       "      <td>120370.367188</td>\n",
       "      <td>3</td>\n",
       "      <td>3</td>\n",
       "      <td>2019</td>\n",
       "      <td>другой</td>\n",
       "    </tr>\n",
       "    <tr>\n",
       "      <th>1</th>\n",
       "      <td>7</td>\n",
       "      <td>3350000.0</td>\n",
       "      <td>40.400002</td>\n",
       "      <td>2018-12-04</td>\n",
       "      <td>1</td>\n",
       "      <td>NaN</td>\n",
       "      <td>11</td>\n",
       "      <td>18.600000</td>\n",
       "      <td>1</td>\n",
       "      <td>NaN</td>\n",
       "      <td>False</td>\n",
       "      <td>False</td>\n",
       "      <td>11.0</td>\n",
       "      <td>2.0</td>\n",
       "      <td>посёлок Шушары</td>\n",
       "      <td>12817.0</td>\n",
       "      <td>18.0</td>\n",
       "      <td>0.0</td>\n",
       "      <td>NaN</td>\n",
       "      <td>0.0</td>\n",
       "      <td>NaN</td>\n",
       "      <td>81.0</td>\n",
       "      <td>82920.789062</td>\n",
       "      <td>1</td>\n",
       "      <td>12</td>\n",
       "      <td>2018</td>\n",
       "      <td>первый</td>\n",
       "    </tr>\n",
       "    <tr>\n",
       "      <th>2</th>\n",
       "      <td>10</td>\n",
       "      <td>5196000.0</td>\n",
       "      <td>56.000000</td>\n",
       "      <td>2015-08-20</td>\n",
       "      <td>2</td>\n",
       "      <td>NaN</td>\n",
       "      <td>5</td>\n",
       "      <td>34.299999</td>\n",
       "      <td>4</td>\n",
       "      <td>NaN</td>\n",
       "      <td>False</td>\n",
       "      <td>False</td>\n",
       "      <td>8.3</td>\n",
       "      <td>0.0</td>\n",
       "      <td>Санкт-Петербург</td>\n",
       "      <td>21741.0</td>\n",
       "      <td>13.0</td>\n",
       "      <td>1.0</td>\n",
       "      <td>90.0</td>\n",
       "      <td>2.0</td>\n",
       "      <td>574.0</td>\n",
       "      <td>558.0</td>\n",
       "      <td>92785.710938</td>\n",
       "      <td>3</td>\n",
       "      <td>8</td>\n",
       "      <td>2015</td>\n",
       "      <td>другой</td>\n",
       "    </tr>\n",
       "    <tr>\n",
       "      <th>3</th>\n",
       "      <td>0</td>\n",
       "      <td>64900000.0</td>\n",
       "      <td>159.000000</td>\n",
       "      <td>2015-07-24</td>\n",
       "      <td>3</td>\n",
       "      <td>NaN</td>\n",
       "      <td>14</td>\n",
       "      <td>NaN</td>\n",
       "      <td>9</td>\n",
       "      <td>NaN</td>\n",
       "      <td>False</td>\n",
       "      <td>False</td>\n",
       "      <td>NaN</td>\n",
       "      <td>0.0</td>\n",
       "      <td>Санкт-Петербург</td>\n",
       "      <td>28098.0</td>\n",
       "      <td>6.0</td>\n",
       "      <td>2.0</td>\n",
       "      <td>84.0</td>\n",
       "      <td>3.0</td>\n",
       "      <td>234.0</td>\n",
       "      <td>424.0</td>\n",
       "      <td>408176.093750</td>\n",
       "      <td>4</td>\n",
       "      <td>7</td>\n",
       "      <td>2015</td>\n",
       "      <td>другой</td>\n",
       "    </tr>\n",
       "    <tr>\n",
       "      <th>5</th>\n",
       "      <td>10</td>\n",
       "      <td>2890000.0</td>\n",
       "      <td>30.400000</td>\n",
       "      <td>2018-09-10</td>\n",
       "      <td>1</td>\n",
       "      <td>NaN</td>\n",
       "      <td>12</td>\n",
       "      <td>14.400000</td>\n",
       "      <td>5</td>\n",
       "      <td>NaN</td>\n",
       "      <td>False</td>\n",
       "      <td>False</td>\n",
       "      <td>9.1</td>\n",
       "      <td>0.0</td>\n",
       "      <td>городской посёлок Янино-1</td>\n",
       "      <td>NaN</td>\n",
       "      <td>NaN</td>\n",
       "      <td>NaN</td>\n",
       "      <td>NaN</td>\n",
       "      <td>NaN</td>\n",
       "      <td>NaN</td>\n",
       "      <td>55.0</td>\n",
       "      <td>95065.789062</td>\n",
       "      <td>0</td>\n",
       "      <td>9</td>\n",
       "      <td>2018</td>\n",
       "      <td>другой</td>\n",
       "    </tr>\n",
       "  </tbody>\n",
       "</table>\n",
       "</div>"
      ],
      "text/plain": [
       "   total_images  last_price  total_area first_day_exposition  rooms  \\\n",
       "0            20  13000000.0  108.000000           2019-03-07      3   \n",
       "1             7   3350000.0   40.400002           2018-12-04      1   \n",
       "2            10   5196000.0   56.000000           2015-08-20      2   \n",
       "3             0  64900000.0  159.000000           2015-07-24      3   \n",
       "5            10   2890000.0   30.400000           2018-09-10      1   \n",
       "\n",
       "   ceiling_height  floors_total  living_area  floor is_apartment  studio  \\\n",
       "0             2.7            16    51.000000      8          NaN   False   \n",
       "1             NaN            11    18.600000      1          NaN   False   \n",
       "2             NaN             5    34.299999      4          NaN   False   \n",
       "3             NaN            14          NaN      9          NaN   False   \n",
       "5             NaN            12    14.400000      5          NaN   False   \n",
       "\n",
       "   open_plan  kitchen_area  balcony              locality_name  \\\n",
       "0      False          25.0      0.0            Санкт-Петербург   \n",
       "1      False          11.0      2.0             посёлок Шушары   \n",
       "2      False           8.3      0.0            Санкт-Петербург   \n",
       "3      False           NaN      0.0            Санкт-Петербург   \n",
       "5      False           9.1      0.0  городской посёлок Янино-1   \n",
       "\n",
       "   airports_nearest  cityCenters_nearest  parks_around3000  parks_nearest  \\\n",
       "0           18863.0                 16.0               1.0          482.0   \n",
       "1           12817.0                 18.0               0.0            NaN   \n",
       "2           21741.0                 13.0               1.0           90.0   \n",
       "3           28098.0                  6.0               2.0           84.0   \n",
       "5               NaN                  NaN               NaN            NaN   \n",
       "\n",
       "   ponds_around3000  ponds_nearest  days_exposition  meter_area_price  \\\n",
       "0               2.0          755.0              NaN     120370.367188   \n",
       "1               0.0            NaN             81.0      82920.789062   \n",
       "2               2.0          574.0            558.0      92785.710938   \n",
       "3               3.0          234.0            424.0     408176.093750   \n",
       "5               NaN            NaN             55.0      95065.789062   \n",
       "\n",
       "   day_week  month  year floor_type  \n",
       "0         3      3  2019     другой  \n",
       "1         1     12  2018     первый  \n",
       "2         3      8  2015     другой  \n",
       "3         4      7  2015     другой  \n",
       "5         0      9  2018     другой  "
      ]
     },
     "execution_count": 15,
     "metadata": {},
     "output_type": "execute_result"
    }
   ],
   "source": [
    "#выведим таблицу и убедимся, что все добавления и преобразования прошли корректно\n",
    "data.head(5)"
   ]
  },
  {
   "cell_type": "markdown",
   "metadata": {},
   "source": [
    "### Исследовательский анализ данных"
   ]
  },
  {
   "cell_type": "markdown",
   "metadata": {},
   "source": [
    "#### Изучение параметров объектов. Гистограммы. "
   ]
  },
  {
   "cell_type": "code",
   "execution_count": 16,
   "metadata": {},
   "outputs": [
    {
     "data": {
      "text/plain": [
       "<AxesSubplot:>"
      ]
     },
     "execution_count": 16,
     "metadata": {},
     "output_type": "execute_result"
    },
    {
     "data": {
      "image/png": "[encoded data removed]",
      "text/plain": [
       "<Figure size 432x288 with 1 Axes>"
      ]
     },
     "metadata": {
      "needs_background": "light"
     },
     "output_type": "display_data"
    }
   ],
   "source": [
    "#постоим гистограмму для столбца общая площадь\n",
    "data['total_area'].hist(bins = 20, range = (0, 350))"
   ]
  },
  {
   "cell_type": "code",
   "execution_count": 17,
   "metadata": {},
   "outputs": [
    {
     "data": {
      "text/plain": [
       "<AxesSubplot:>"
      ]
     },
     "execution_count": 17,
     "metadata": {},
     "output_type": "execute_result"
    },
    {
     "data": {
      "image/png": "[encoded data removed]",
      "text/plain": [
       "<Figure size 432x288 with 1 Axes>"
      ]
     },
     "metadata": {
      "needs_background": "light"
     },
     "output_type": "display_data"
    }
   ],
   "source": [
    "#постоим гистограмму для столбца жилая площадь\n",
    "data['living_area'].hist(bins = 20, range = (0, 200))"
   ]
  },
  {
   "cell_type": "code",
   "execution_count": 18,
   "metadata": {},
   "outputs": [
    {
     "data": {
      "text/plain": [
       "<AxesSubplot:>"
      ]
     },
     "execution_count": 18,
     "metadata": {},
     "output_type": "execute_result"
    },
    {
     "data": {
      "image/png": "[encoded data removed]",
      "text/plain": [
       "<Figure size 432x288 with 1 Axes>"
      ]
     },
     "metadata": {
      "needs_background": "light"
     },
     "output_type": "display_data"
    }
   ],
   "source": [
    "#постоим гистограмму для столбца площадь кухни\n",
    "data['kitchen_area'].hist(bins = 20, range = (0, 45))"
   ]
  },
  {
   "cell_type": "code",
   "execution_count": 19,
   "metadata": {
    "scrolled": true
   },
   "outputs": [
    {
     "data": {
      "text/plain": [
       "<AxesSubplot:>"
      ]
     },
     "execution_count": 19,
     "metadata": {},
     "output_type": "execute_result"
    },
    {
     "data": {
      "image/png": "[encoded data removed]",
      "text/plain": [
       "<Figure size 432x288 with 1 Axes>"
      ]
     },
     "metadata": {
      "needs_background": "light"
     },
     "output_type": "display_data"
    }
   ],
   "source": [
    "#постоим гистограмму для столбца цена объекта\n",
    "data['last_price'].hist(bins = 20, range = (0, 50000000))"
   ]
  },
  {
   "cell_type": "code",
   "execution_count": 57,
   "metadata": {},
   "outputs": [
    {
     "data": {
      "image/png": "[encoded data removed]",
      "text/plain": [
       "<Figure size 432x288 with 1 Axes>"
      ]
     },
     "metadata": {
      "needs_background": "light"
     },
     "output_type": "display_data"
    }
   ],
   "source": [
    "#код ревьюера\n",
    "(data['last_price']/1000000).hist(range=(0, 20), bins=15);"
   ]
  },
  {
   "cell_type": "code",
   "execution_count": 20,
   "metadata": {},
   "outputs": [
    {
     "data": {
      "text/plain": [
       "<AxesSubplot:>"
      ]
     },
     "execution_count": 20,
     "metadata": {},
     "output_type": "execute_result"
    },
    {
     "data": {
      "image/png": "[encoded data removed]",
      "text/plain": [
       "<Figure size 432x288 with 1 Axes>"
      ]
     },
     "metadata": {
      "needs_background": "light"
     },
     "output_type": "display_data"
    }
   ],
   "source": [
    "#постоим гистограмму для столбца количество комнат\n",
    "data['rooms'].hist(bins = 10, range = (0, 9))"
   ]
  },
  {
   "cell_type": "code",
   "execution_count": 21,
   "metadata": {},
   "outputs": [
    {
     "data": {
      "text/plain": [
       "<AxesSubplot:>"
      ]
     },
     "execution_count": 21,
     "metadata": {},
     "output_type": "execute_result"
    },
    {
     "data": {
      "image/png": "[encoded data removed]",
      "text/plain": [
       "<Figure size 432x288 with 1 Axes>"
      ]
     },
     "metadata": {
      "needs_background": "light"
     },
     "output_type": "display_data"
    }
   ],
   "source": [
    "#постоим гистограмму для столбца высота потолков\n",
    "data['ceiling_height'].hist(bins = 30, range = (2, 5))"
   ]
  },
  {
   "cell_type": "code",
   "execution_count": 22,
   "metadata": {
    "scrolled": true
   },
   "outputs": [
    {
     "data": {
      "text/plain": [
       "<AxesSubplot:>"
      ]
     },
     "execution_count": 22,
     "metadata": {},
     "output_type": "execute_result"
    },
    {
     "data": {
      "image/png": "[encoded data removed]",
      "text/plain": [
       "<Figure size 432x288 with 1 Axes>"
      ]
     },
     "metadata": {
      "needs_background": "light"
     },
     "output_type": "display_data"
    }
   ],
   "source": [
    "#постоим гистограмму для столбца этаж квартиры\n",
    "data['floor'].hist(bins = 15, range = (0, 20))"
   ]
  },
  {
   "cell_type": "code",
   "execution_count": 23,
   "metadata": {
    "scrolled": true
   },
   "outputs": [
    {
     "data": {
      "text/plain": [
       "<AxesSubplot:>"
      ]
     },
     "execution_count": 23,
     "metadata": {},
     "output_type": "execute_result"
    },
    {
     "data": {
      "image/png": "[encoded data removed]",
      "text/plain": [
       "<Figure size 432x288 with 1 Axes>"
      ]
     },
     "metadata": {
      "needs_background": "light"
     },
     "output_type": "display_data"
    }
   ],
   "source": [
    "#постоим гистограмму для столбца тип этажа квартиры\n",
    "data['floor_type'].hist(bins = 3)"
   ]
  },
  {
   "cell_type": "code",
   "execution_count": 24,
   "metadata": {},
   "outputs": [
    {
     "data": {
      "text/plain": [
       "<AxesSubplot:>"
      ]
     },
     "execution_count": 24,
     "metadata": {},
     "output_type": "execute_result"
    },
    {
     "data": {
      "image/png": "[encoded data removed]",
      "text/plain": [
       "<Figure size 432x288 with 1 Axes>"
      ]
     },
     "metadata": {
      "needs_background": "light"
     },
     "output_type": "display_data"
    }
   ],
   "source": [
    "#постоим гистограмму для столбца общее количество этажей в доме\n",
    "data['floors_total'].hist(bins = 10, range = (0, 40))"
   ]
  },
  {
   "cell_type": "code",
   "execution_count": 25,
   "metadata": {},
   "outputs": [
    {
     "data": {
      "text/plain": [
       "<AxesSubplot:>"
      ]
     },
     "execution_count": 25,
     "metadata": {},
     "output_type": "execute_result"
    },
    {
     "data": {
      "image/png": "[encoded data removed]",
      "text/plain": [
       "<Figure size 432x288 with 1 Axes>"
      ]
     },
     "metadata": {
      "needs_background": "light"
     },
     "output_type": "display_data"
    }
   ],
   "source": [
    "#постоим гистограмму для столбца расстояние до центра города\n",
    "data['cityCenters_nearest'].hist(bins = 10)"
   ]
  },
  {
   "cell_type": "code",
   "execution_count": 26,
   "metadata": {},
   "outputs": [
    {
     "data": {
      "text/plain": [
       "<AxesSubplot:>"
      ]
     },
     "execution_count": 26,
     "metadata": {},
     "output_type": "execute_result"
    },
    {
     "data": {
      "image/png": "[encoded data removed]",
      "text/plain": [
       "<Figure size 432x288 with 1 Axes>"
      ]
     },
     "metadata": {
      "needs_background": "light"
     },
     "output_type": "display_data"
    }
   ],
   "source": [
    "#постоим эту же гистограмму для Санкт-Петербурга\n",
    "data.query('locality_name ==\"Санкт-Петербург\"')['cityCenters_nearest'].hist(bins = 20, range = (0, 35))"
   ]
  },
  {
   "cell_type": "code",
   "execution_count": 27,
   "metadata": {},
   "outputs": [
    {
     "data": {
      "text/plain": [
       "<AxesSubplot:>"
      ]
     },
     "execution_count": 27,
     "metadata": {},
     "output_type": "execute_result"
    },
    {
     "data": {
      "image/png": "[encoded data removed]",
      "text/plain": [
       "<Figure size 432x288 with 1 Axes>"
      ]
     },
     "metadata": {
      "needs_background": "light"
     },
     "output_type": "display_data"
    }
   ],
   "source": [
    "#постоим гистограмму для столбца расстояние до ближайшего аэропорта\n",
    "data['airports_nearest'].hist(bins = 10)"
   ]
  },
  {
   "cell_type": "code",
   "execution_count": 28,
   "metadata": {},
   "outputs": [
    {
     "data": {
      "text/plain": [
       "<AxesSubplot:>"
      ]
     },
     "execution_count": 28,
     "metadata": {},
     "output_type": "execute_result"
    },
    {
     "data": {
      "image/png": "[encoded data removed]",
      "text/plain": [
       "<Figure size 432x288 with 1 Axes>"
      ]
     },
     "metadata": {
      "needs_background": "light"
     },
     "output_type": "display_data"
    }
   ],
   "source": [
    "#постоим гистограмму для столбца расстояние до ближайшего парка\n",
    "data['parks_nearest'].hist(bins = 10)"
   ]
  },
  {
   "cell_type": "code",
   "execution_count": 29,
   "metadata": {},
   "outputs": [
    {
     "data": {
      "text/plain": [
       "<AxesSubplot:>"
      ]
     },
     "execution_count": 29,
     "metadata": {},
     "output_type": "execute_result"
    },
    {
     "data": {
      "image/png": "[encoded data removed]",
      "text/plain": [
       "<Figure size 432x288 with 1 Axes>"
      ]
     },
     "metadata": {
      "needs_background": "light"
     },
     "output_type": "display_data"
    }
   ],
   "source": [
    "#постоим гистограмму для столбца день публикации объявления\n",
    "data['day_week'].hist(bins = 5)"
   ]
  },
  {
   "cell_type": "code",
   "execution_count": 30,
   "metadata": {},
   "outputs": [
    {
     "data": {
      "text/plain": [
       "<AxesSubplot:>"
      ]
     },
     "execution_count": 30,
     "metadata": {},
     "output_type": "execute_result"
    },
    {
     "data": {
      "image/png": "[encoded data removed]",
      "text/plain": [
       "<Figure size 432x288 with 1 Axes>"
      ]
     },
     "metadata": {
      "needs_background": "light"
     },
     "output_type": "display_data"
    }
   ],
   "source": [
    "#постоим гистограмму для столбца месяц публикации объявления\n",
    "data['month'].hist(bins = 10)"
   ]
  },
  {
   "cell_type": "markdown",
   "metadata": {},
   "source": [
    "- общая площадь. имеет тип распределения Пуассона. пик значения приходится на 50кв.;\n",
    "- жилая площадь. распределение не похоже на нормальное. причины - не ясны;\n",
    "- площадь кухни. имеет тип распределения Пуассона. пик значения приходится на 8кв.;\n",
    "- цена объекта. имеет тип распределения Пуассона;\n",
    "- количество комнат. саме частые значение - 1 и 2. основная часть объектов в диапазоне между 1 и 4; \n",
    "- высота потолков. пик значений приходится на 2,7;\n",
    "- этаж квартиры. большая часть объектов - на 5 этаже. глядя на этот график возникает ощущение ошибки ввода данных. потому что есть пики на 5, 9, 12 этажах - это типовая этажность домов. в то время как данный столбец должен содержать информацию не о количестве этажей в доме, а о том, на каком этаже расположен продаваемый объект. еще как вариант - объекты на последних этажах просто дольше продаются, поэтому их больше в общей массе. эти гипотезы нужно дополнительно проверять;\n",
    "- тип этажа. больше всего вариантов с типом \"другой этаж\". на последних этажах квартир немногим больше, чем на первых;\n",
    "- общее количество этажей в доме. больше всего объектов с 5-этажностью;\n",
    "- расстояние до центра города. большая часть объектов расположена в пределах 20км от центра города. есть значения больше 40км. это странно. посмотрели отдельно Санкт-Петербург. у него значения до 25 км - что нормально. вероятно, значения в 60 км до центра города - ошибки. посчитано расстояние не до центра своего населенного пункта, а до центра ближайшего крупного города;  \n",
    "- расстояние до аэропорта. часть объектов расположена очень близко к аэропорту. далее идет резкий скачек - с данными что-то не то. как мы помним, в данном столбце было много пропусков, вероятно, это сильно влияет на вид гистограммы; \n",
    "- расстояние до парка. пиковое значение - 500; \n",
    "- день публикации. чаще всего объявления публикуют в понедельник и вторник; \n",
    "- месяц публикации. пики (с большими отрывами) приходятся на декабрь и январь. май - существенное снижение активности. это можно объяснить тем, что у пользователей другие задачи, такие как подготовка к отпуску, к экзаменам, даче и др."
   ]
  },
  {
   "cell_type": "markdown",
   "metadata": {},
   "source": [
    "#### Длительность продажи квартир"
   ]
  },
  {
   "cell_type": "markdown",
   "metadata": {},
   "source": [
    "Изучим данные о длительности продажи квартир и о факторах, влияющих на данный процесс."
   ]
  },
  {
   "cell_type": "code",
   "execution_count": 31,
   "metadata": {},
   "outputs": [
    {
     "data": {
      "text/plain": [
       "<AxesSubplot:>"
      ]
     },
     "execution_count": 31,
     "metadata": {},
     "output_type": "execute_result"
    },
    {
     "data": {
      "image/png": "[encoded data removed]",
      "text/plain": [
       "<Figure size 432x288 with 1 Axes>"
      ]
     },
     "metadata": {
      "needs_background": "light"
     },
     "output_type": "display_data"
    }
   ],
   "source": [
    "#построим гистограмму для столбца days_exposition\n",
    "data['days_exposition'].hist(bins = 10)"
   ]
  },
  {
   "cell_type": "code",
   "execution_count": 32,
   "metadata": {},
   "outputs": [
    {
     "data": {
      "text/plain": [
       "count    19436.000000\n",
       "mean       185.497833\n",
       "std        220.008713\n",
       "min          7.000000\n",
       "25%         45.000000\n",
       "50%        100.000000\n",
       "75%        238.000000\n",
       "max       1580.000000\n",
       "Name: days_exposition, dtype: float64"
      ]
     },
     "execution_count": 32,
     "metadata": {},
     "output_type": "execute_result"
    }
   ],
   "source": [
    "#посмотрим на значения столбца методом describe ()\n",
    "data['days_exposition'].describe()"
   ]
  },
  {
   "cell_type": "code",
   "execution_count": 33,
   "metadata": {},
   "outputs": [
    {
     "data": {
      "text/plain": [
       "(-100.0, 1000.0)"
      ]
     },
     "execution_count": 33,
     "metadata": {},
     "output_type": "execute_result"
    },
    {
     "data": {
      "image/png": "[encoded data removed]",
      "text/plain": [
       "<Figure size 432x288 with 1 Axes>"
      ]
     },
     "metadata": {
      "needs_background": "light"
     },
     "output_type": "display_data"
    }
   ],
   "source": [
    "#добавим диаграмму размаха для данного столбца\n",
    "import matplotlib.pyplot as plt\n",
    " \n",
    "data.boxplot('days_exposition')\n",
    "plt.ylim(-100, 1000)"
   ]
  },
  {
   "cell_type": "code",
   "execution_count": 34,
   "metadata": {},
   "outputs": [
    {
     "data": {
      "text/plain": [
       "<AxesSubplot:>"
      ]
     },
     "execution_count": 34,
     "metadata": {},
     "output_type": "execute_result"
    },
    {
     "data": {
      "image/png": "[encoded data removed]",
      "text/plain": [
       "<Figure size 432x288 with 1 Axes>"
      ]
     },
     "metadata": {
      "needs_background": "light"
     },
     "output_type": "display_data"
    }
   ],
   "source": [
    "#посмотрим также на значения столбца через гистограмму. сделав при этом срез до 100 дней размещения объявления\n",
    "data.query('days_exposition < 100')['days_exposition'].hist(bins = 10)"
   ]
  },
  {
   "cell_type": "markdown",
   "metadata": {},
   "source": [
    "В среднем продажа занимает 185 дней, по медианному значению - 100 дней (порядка 3 месяцев). \n",
    "Все продажи до 45 дней можно считать быстрыми. Все что дольше 238 дней - долгими.\n",
    "По диаграмме размаха мы видим большой хвост выбросов после 500 дня продажи. Максимлаьное значение - 1580. (возможно, пользователям с такой длительностью стоит предлагать активней методы доп рекламы объектов :) )\n",
    "А также проверить, корректно ли настроена проверка актуальности продажи объекта. "
   ]
  },
  {
   "cell_type": "markdown",
   "metadata": {},
   "source": [
    "#### Факторы, влияющие на стоимость объекта"
   ]
  },
  {
   "cell_type": "markdown",
   "metadata": {},
   "source": [
    "Изучим зависимость стоимости объекта от других параметров объекта."
   ]
  },
  {
   "cell_type": "code",
   "execution_count": 35,
   "metadata": {},
   "outputs": [
    {
     "data": {
      "text/plain": [
       "<AxesSubplot:xlabel='last_price', ylabel='total_area'>"
      ]
     },
     "execution_count": 35,
     "metadata": {},
     "output_type": "execute_result"
    },
    {
     "data": {
      "image/png": "[encoded data removed]",
      "text/plain": [
       "<Figure size 432x288 with 1 Axes>"
      ]
     },
     "metadata": {
      "needs_background": "light"
     },
     "output_type": "display_data"
    }
   ],
   "source": [
    "#построим график зависимости стоимости объекта и общей площади\n",
    "data.plot(x= 'last_price', y= 'total_area', kind = 'scatter')"
   ]
  },
  {
   "cell_type": "code",
   "execution_count": 36,
   "metadata": {},
   "outputs": [
    {
     "data": {
      "text/plain": [
       "0.7573834286909008"
      ]
     },
     "execution_count": 36,
     "metadata": {},
     "output_type": "execute_result"
    }
   ],
   "source": [
    "#расчитаем корреляцию\n",
    "data['last_price'].corr(data['total_area'])"
   ]
  },
  {
   "cell_type": "code",
   "execution_count": 37,
   "metadata": {},
   "outputs": [
    {
     "data": {
      "text/plain": [
       "<AxesSubplot:xlabel='last_price', ylabel='total_area'>"
      ]
     },
     "execution_count": 37,
     "metadata": {},
     "output_type": "execute_result"
    },
    {
     "data": {
      "image/png": "[encoded data removed]",
      "text/plain": [
       "<Figure size 432x288 with 1 Axes>"
      ]
     },
     "metadata": {
      "needs_background": "light"
     },
     "output_type": "display_data"
    }
   ],
   "source": [
    "#у нас есть одно сильно выбивающееся значение. сделаем срез, посмотрим на график со значение по цене квартиры до 50млн\n",
    "data.query('last_price < 50000000').plot(x= 'last_price', y= 'total_area', kind = 'scatter')"
   ]
  },
  {
   "cell_type": "markdown",
   "metadata": {},
   "source": [
    "Зависимость между стоимостью жилья и общей площадью видна на графике и она подтверждается коэфициентом корреляции = 0,6."
   ]
  },
  {
   "cell_type": "code",
   "execution_count": 38,
   "metadata": {},
   "outputs": [
    {
     "data": {
      "text/plain": [
       "<AxesSubplot:xlabel='last_price', ylabel='living_area'>"
      ]
     },
     "execution_count": 38,
     "metadata": {},
     "output_type": "execute_result"
    },
    {
     "data": {
      "image/png": "[encoded data removed]",
      "text/plain": [
       "<Figure size 432x288 with 1 Axes>"
      ]
     },
     "metadata": {
      "needs_background": "light"
     },
     "output_type": "display_data"
    }
   ],
   "source": [
    "#построим график зависимости стоимости объекта и жилой площади. сразу сделаем срез по стоимости до 50млн\n",
    "data.query('last_price < 50000000').plot(x= 'last_price', y= 'living_area', kind = 'scatter')"
   ]
  },
  {
   "cell_type": "code",
   "execution_count": 39,
   "metadata": {},
   "outputs": [
    {
     "data": {
      "text/plain": [
       "0.6767891189067408"
      ]
     },
     "execution_count": 39,
     "metadata": {},
     "output_type": "execute_result"
    }
   ],
   "source": [
    "#расчитаем корреляцию\n",
    "data['last_price'].corr(data['living_area'])"
   ]
  },
  {
   "cell_type": "markdown",
   "metadata": {},
   "source": [
    "Зависимость между стоимостью жилья и жилой площадью видна на графике и она подтверждается коэфициентом корреляции = 0,5."
   ]
  },
  {
   "cell_type": "code",
   "execution_count": 40,
   "metadata": {},
   "outputs": [
    {
     "data": {
      "text/plain": [
       "<AxesSubplot:xlabel='last_price', ylabel='kitchen_area'>"
      ]
     },
     "execution_count": 40,
     "metadata": {},
     "output_type": "execute_result"
    },
    {
     "data": {
      "image/png": "[encoded data removed]",
      "text/plain": [
       "<Figure size 432x288 with 1 Axes>"
      ]
     },
     "metadata": {
      "needs_background": "light"
     },
     "output_type": "display_data"
    }
   ],
   "source": [
    "#построим график зависимости стоимости объекта и площади кухни\n",
    "data.query('last_price < 50000000').plot(x= 'last_price', y= 'kitchen_area', kind = 'scatter')"
   ]
  },
  {
   "cell_type": "code",
   "execution_count": 41,
   "metadata": {},
   "outputs": [
    {
     "data": {
      "text/plain": [
       "0.548620871596051"
      ]
     },
     "execution_count": 41,
     "metadata": {},
     "output_type": "execute_result"
    }
   ],
   "source": [
    "#расчитаем корреляцию\n",
    "data['last_price'].corr(data['kitchen_area'])"
   ]
  },
  {
   "cell_type": "markdown",
   "metadata": {},
   "source": [
    "Зависимость между стоимостью объекта и площадью кухни есть. "
   ]
  },
  {
   "cell_type": "code",
   "execution_count": 42,
   "metadata": {},
   "outputs": [
    {
     "data": {
      "text/plain": [
       "<AxesSubplot:xlabel='last_price', ylabel='rooms'>"
      ]
     },
     "execution_count": 42,
     "metadata": {},
     "output_type": "execute_result"
    },
    {
     "data": {
      "image/png": "[encoded data removed]",
      "text/plain": [
       "<Figure size 432x288 with 1 Axes>"
      ]
     },
     "metadata": {
      "needs_background": "light"
     },
     "output_type": "display_data"
    }
   ],
   "source": [
    "#построим график зависимости стоимости объекта c количеством комнат\n",
    "data.query('last_price < 50000000').plot(x= 'last_price', y= 'rooms', kind = 'scatter')"
   ]
  },
  {
   "cell_type": "code",
   "execution_count": 43,
   "metadata": {},
   "outputs": [
    {
     "data": {
      "text/plain": [
       "0.4631949855583962"
      ]
     },
     "execution_count": 43,
     "metadata": {},
     "output_type": "execute_result"
    }
   ],
   "source": [
    "#расчитаем корреляцию\n",
    "data['last_price'].corr(data['rooms'])"
   ]
  },
  {
   "cell_type": "code",
   "execution_count": 44,
   "metadata": {},
   "outputs": [
    {
     "data": {
      "text/plain": [
       "<AxesSubplot:title={'center':'Медианная стоимость объекта в разрезе типа этажа объекта'}, xlabel='Тип этажа', ylabel='Стоимость объекта'>"
      ]
     },
     "execution_count": 44,
     "metadata": {},
     "output_type": "execute_result"
    },
    {
     "data": {
      "image/png": "[encoded data removed]",
      "text/plain": [
       "<Figure size 864x288 with 1 Axes>"
      ]
     },
     "metadata": {
      "needs_background": "light"
     },
     "output_type": "display_data"
    }
   ],
   "source": [
    "#создадим сводную таблицу для параметров стоимость объекта и тип этажа\n",
    "last_price_floor_type = data.pivot_table(index= 'floor_type', values='last_price', aggfunc='median')\n",
    "last_price_floor_type.columns = ['median']\n",
    "\n",
    "#построим график типа bar \n",
    "last_price_floor_type.plot(y = 'median', kind = 'bar', figsize=(12, 4), title = 'Медианная стоимость объекта в разрезе типа этажа объекта', xlabel = 'Тип этажа', ylabel = 'Стоимость объекта')"
   ]
  },
  {
   "cell_type": "markdown",
   "metadata": {},
   "source": [
    "По графику видно, что зависимость есть. Так, на первых этажах меньше объектов с высокой стоимостью жилья. Несколько больше их на последних. И больше всего их у объектов с \"другим\" этажом. "
   ]
  },
  {
   "cell_type": "code",
   "execution_count": 45,
   "metadata": {},
   "outputs": [
    {
     "data": {
      "text/plain": [
       "<AxesSubplot:title={'center':'Медианная стоимость объекта в разрезе дней размещения объявления'}, xlabel='День размещения', ylabel='Стоимость объекта'>"
      ]
     },
     "execution_count": 45,
     "metadata": {},
     "output_type": "execute_result"
    },
    {
     "data": {
      "image/png": "[encoded data removed]",
      "text/plain": [
       "<Figure size 864x288 with 1 Axes>"
      ]
     },
     "metadata": {
      "needs_background": "light"
     },
     "output_type": "display_data"
    }
   ],
   "source": [
    "#создадим сводную таблицу для параметров стоимость объекта и день размещения объявления\n",
    "last_price_day_week = data.pivot_table(index= 'day_week', values='last_price', aggfunc='median')\n",
    "last_price_day_week.columns = ['median']\n",
    "\n",
    "#построим график типа bar \n",
    "last_price_day_week.plot(y = 'median', kind = 'bar', figsize=(12, 4), title = 'Медианная стоимость объекта в разрезе дней размещения объявления', xlabel = 'День размещения', ylabel = 'Стоимость объекта')"
   ]
  },
  {
   "cell_type": "markdown",
   "metadata": {},
   "source": [
    "Зависимости между днем размещения объявления и стоимостью объекта нет. "
   ]
  },
  {
   "cell_type": "code",
   "execution_count": 46,
   "metadata": {},
   "outputs": [
    {
     "data": {
      "text/plain": [
       "<AxesSubplot:title={'center':'Медианная стоимость объекта в разрезе месяцев размещения'}, xlabel='Месяц размещения объявления', ylabel='Стоимость объекта'>"
      ]
     },
     "execution_count": 46,
     "metadata": {},
     "output_type": "execute_result"
    },
    {
     "data": {
      "image/png": "[encoded data removed]",
      "text/plain": [
       "<Figure size 864x288 with 1 Axes>"
      ]
     },
     "metadata": {
      "needs_background": "light"
     },
     "output_type": "display_data"
    }
   ],
   "source": [
    "#создадим сводную таблицу для параметров стоимость жилья и месяц размещения объявления\n",
    "last_price_month = data.pivot_table(index= 'month', values='last_price', aggfunc='median')\n",
    "last_price_month.columns = ['median']\n",
    "\n",
    "#построит график типа bar \n",
    "last_price_month.plot(y = 'median', kind = 'bar', figsize=(12, 4), title = 'Медианная стоимость объекта в разрезе месяцев размещения', xlabel = 'Месяц размещения объявления', ylabel = 'Стоимость объекта')"
   ]
  },
  {
   "cell_type": "markdown",
   "metadata": {},
   "source": [
    "Зависимости между месяцем размещения объявления и стоимостью объекта нет. "
   ]
  },
  {
   "cell_type": "code",
   "execution_count": 47,
   "metadata": {},
   "outputs": [
    {
     "data": {
      "text/html": [
       "<div>\n",
       "<style scoped>\n",
       "    .dataframe tbody tr th:only-of-type {\n",
       "        vertical-align: middle;\n",
       "    }\n",
       "\n",
       "    .dataframe tbody tr th {\n",
       "        vertical-align: top;\n",
       "    }\n",
       "\n",
       "    .dataframe thead tr th {\n",
       "        text-align: left;\n",
       "    }\n",
       "\n",
       "    .dataframe thead tr:last-of-type th {\n",
       "        text-align: right;\n",
       "    }\n",
       "</style>\n",
       "<table border=\"1\" class=\"dataframe\">\n",
       "  <thead>\n",
       "    <tr>\n",
       "      <th></th>\n",
       "      <th>median</th>\n",
       "      <th>count</th>\n",
       "    </tr>\n",
       "    <tr>\n",
       "      <th></th>\n",
       "      <th>last_price</th>\n",
       "      <th>last_price</th>\n",
       "    </tr>\n",
       "    <tr>\n",
       "      <th>year</th>\n",
       "      <th></th>\n",
       "      <th></th>\n",
       "    </tr>\n",
       "  </thead>\n",
       "  <tbody>\n",
       "    <tr>\n",
       "      <th>2014</th>\n",
       "      <td>7500000.0</td>\n",
       "      <td>132</td>\n",
       "    </tr>\n",
       "    <tr>\n",
       "      <th>2015</th>\n",
       "      <td>5250000.0</td>\n",
       "      <td>1148</td>\n",
       "    </tr>\n",
       "    <tr>\n",
       "      <th>2016</th>\n",
       "      <td>4500000.0</td>\n",
       "      <td>2710</td>\n",
       "    </tr>\n",
       "    <tr>\n",
       "      <th>2017</th>\n",
       "      <td>4500000.0</td>\n",
       "      <td>7776</td>\n",
       "    </tr>\n",
       "    <tr>\n",
       "      <th>2018</th>\n",
       "      <td>4599000.0</td>\n",
       "      <td>8059</td>\n",
       "    </tr>\n",
       "    <tr>\n",
       "      <th>2019</th>\n",
       "      <td>5100000.0</td>\n",
       "      <td>2697</td>\n",
       "    </tr>\n",
       "  </tbody>\n",
       "</table>\n",
       "</div>"
      ],
      "text/plain": [
       "         median      count\n",
       "     last_price last_price\n",
       "year                      \n",
       "2014  7500000.0        132\n",
       "2015  5250000.0       1148\n",
       "2016  4500000.0       2710\n",
       "2017  4500000.0       7776\n",
       "2018  4599000.0       8059\n",
       "2019  5100000.0       2697"
      ]
     },
     "execution_count": 47,
     "metadata": {},
     "output_type": "execute_result"
    }
   ],
   "source": [
    "#посмотрим зависимость цены от года размещения объявления через сводные таблицы\n",
    "year_last_price = data.pivot_table(index='year', values='last_price', aggfunc=['median', 'count'])\n",
    "year_last_price"
   ]
  },
  {
   "cell_type": "markdown",
   "metadata": {},
   "source": [
    "Год к году наблюдалось снижение медианной стоимости объектов. Цена снижалась, а количество объектов росло. Вероятно, было активное подключение близлежайших населенных пунктов, где стоимость жилья несколько ниже. "
   ]
  },
  {
   "cell_type": "markdown",
   "metadata": {},
   "source": [
    "#### Населенные пукты с высокой и низкой стоимость кв.м."
   ]
  },
  {
   "cell_type": "code",
   "execution_count": 48,
   "metadata": {},
   "outputs": [
    {
     "data": {
      "text/plain": [
       "Санкт-Петербург      14874\n",
       "посёлок Мурино         492\n",
       "посёлок Шушары         424\n",
       "Всеволожск             388\n",
       "Пушкин                 347\n",
       "Колпино                324\n",
       "посёлок Парголово      302\n",
       "Гатчина                295\n",
       "деревня Кудрово        287\n",
       "Выборг                 228\n",
       "Name: locality_name, dtype: int64"
      ]
     },
     "execution_count": 48,
     "metadata": {},
     "output_type": "execute_result"
    }
   ],
   "source": [
    "#выведем ТОП-10 населенных пунктов с наибольшим числом объявлений\n",
    "data['locality_name'].value_counts().head(10)"
   ]
  },
  {
   "cell_type": "code",
   "execution_count": 49,
   "metadata": {},
   "outputs": [
    {
     "data": {
      "text/html": [
       "<div>\n",
       "<style scoped>\n",
       "    .dataframe tbody tr th:only-of-type {\n",
       "        vertical-align: middle;\n",
       "    }\n",
       "\n",
       "    .dataframe tbody tr th {\n",
       "        vertical-align: top;\n",
       "    }\n",
       "\n",
       "    .dataframe thead th {\n",
       "        text-align: right;\n",
       "    }\n",
       "</style>\n",
       "<table border=\"1\" class=\"dataframe\">\n",
       "  <thead>\n",
       "    <tr style=\"text-align: right;\">\n",
       "      <th></th>\n",
       "      <th>mean</th>\n",
       "      <th>count</th>\n",
       "    </tr>\n",
       "    <tr>\n",
       "      <th>locality_name</th>\n",
       "      <th></th>\n",
       "      <th></th>\n",
       "    </tr>\n",
       "  </thead>\n",
       "  <tbody>\n",
       "    <tr>\n",
       "      <th>Всеволожск</th>\n",
       "      <td>68741.226562</td>\n",
       "      <td>388</td>\n",
       "    </tr>\n",
       "    <tr>\n",
       "      <th>Выборг</th>\n",
       "      <td>58015.621094</td>\n",
       "      <td>228</td>\n",
       "    </tr>\n",
       "    <tr>\n",
       "      <th>Гатчина</th>\n",
       "      <td>68735.796875</td>\n",
       "      <td>295</td>\n",
       "    </tr>\n",
       "    <tr>\n",
       "      <th>Колпино</th>\n",
       "      <td>75239.460938</td>\n",
       "      <td>324</td>\n",
       "    </tr>\n",
       "    <tr>\n",
       "      <th>Пушкин</th>\n",
       "      <td>102351.257812</td>\n",
       "      <td>347</td>\n",
       "    </tr>\n",
       "    <tr>\n",
       "      <th>Санкт-Петербург</th>\n",
       "      <td>113037.531250</td>\n",
       "      <td>14874</td>\n",
       "    </tr>\n",
       "    <tr>\n",
       "      <th>деревня Кудрово</th>\n",
       "      <td>92341.578125</td>\n",
       "      <td>287</td>\n",
       "    </tr>\n",
       "    <tr>\n",
       "      <th>посёлок Мурино</th>\n",
       "      <td>85486.859375</td>\n",
       "      <td>492</td>\n",
       "    </tr>\n",
       "    <tr>\n",
       "      <th>посёлок Парголово</th>\n",
       "      <td>89553.414062</td>\n",
       "      <td>302</td>\n",
       "    </tr>\n",
       "    <tr>\n",
       "      <th>посёлок Шушары</th>\n",
       "      <td>78319.242188</td>\n",
       "      <td>424</td>\n",
       "    </tr>\n",
       "  </tbody>\n",
       "</table>\n",
       "</div>"
      ],
      "text/plain": [
       "                            mean  count\n",
       "locality_name                          \n",
       "Всеволожск          68741.226562    388\n",
       "Выборг              58015.621094    228\n",
       "Гатчина             68735.796875    295\n",
       "Колпино             75239.460938    324\n",
       "Пушкин             102351.257812    347\n",
       "Санкт-Петербург    113037.531250  14874\n",
       "деревня Кудрово     92341.578125    287\n",
       "посёлок Мурино      85486.859375    492\n",
       "посёлок Парголово   89553.414062    302\n",
       "посёлок Шушары      78319.242188    424"
      ]
     },
     "execution_count": 49,
     "metadata": {},
     "output_type": "execute_result"
    }
   ],
   "source": [
    "#выведем сводную таблицу с данными по средней стоимости квадратного метра по населенным пунктам\n",
    "mean_square_meter_locality = data.query('locality_name == \"Санкт-Петербург\" or locality_name == \"посёлок Мурино\" or locality_name == \"посёлок Шушары\" or locality_name == \"Всеволожск\" or locality_name == \"деревня Кудрово\" or locality_name == \"Пушкин\" or locality_name == \"посёлок Парголово\" or locality_name == \"Колпино\" or locality_name == \"Гатчина\" or locality_name == \"Выборг\" or locality_name == \"посёлок Шушары\"')\n",
    "mean_square_meter_locality = mean_square_meter_locality.pivot_table(index= 'locality_name', values='meter_area_price', aggfunc=['mean', 'count'])\n",
    "mean_square_meter_locality.columns = ['mean', 'count']\n",
    "mean_square_meter_locality"
   ]
  },
  {
   "cell_type": "code",
   "execution_count": 50,
   "metadata": {},
   "outputs": [
    {
     "data": {
      "text/plain": [
       "58015.62"
      ]
     },
     "execution_count": 50,
     "metadata": {},
     "output_type": "execute_result"
    }
   ],
   "source": [
    "#выведем минимальное значение\n",
    "mean_square_meter_locality['mean'].min()"
   ]
  },
  {
   "cell_type": "code",
   "execution_count": 51,
   "metadata": {},
   "outputs": [
    {
     "data": {
      "text/plain": [
       "113037.53"
      ]
     },
     "execution_count": 51,
     "metadata": {},
     "output_type": "execute_result"
    }
   ],
   "source": [
    "#выведем максимальное значение\n",
    "mean_square_meter_locality['mean'].max()"
   ]
  },
  {
   "cell_type": "code",
   "execution_count": 52,
   "metadata": {},
   "outputs": [
    {
     "data": {
      "text/plain": [
       "<AxesSubplot:title={'center':'Средняя стоимость 1кв м для ТОП-10 населенных пунктов'}, xlabel='Населенный пункт', ylabel='Стоимость 1 кв м'>"
      ]
     },
     "execution_count": 52,
     "metadata": {},
     "output_type": "execute_result"
    },
    {
     "data": {
      "image/png": "[encoded data removed]",
      "text/plain": [
       "<Figure size 864x288 with 1 Axes>"
      ]
     },
     "metadata": {
      "needs_background": "light"
     },
     "output_type": "display_data"
    }
   ],
   "source": [
    "#построим график по данным сводной таблицы \n",
    "mean_square_meter_locality.plot(y = 'mean', kind = 'bar', figsize=(12, 4), title = 'Средняя стоимость 1кв м для ТОП-10 населенных пунктов', xlabel = 'Населенный пункт', ylabel = 'Стоимость 1 кв м')"
   ]
  },
  {
   "cell_type": "markdown",
   "metadata": {},
   "source": [
    "Наименьшая стоимость квадратного метра в Выборге (58015). Максимальная в Санкт-Петербурге (113994)"
   ]
  },
  {
   "cell_type": "markdown",
   "metadata": {},
   "source": [
    "#### Зависимость стоимости объекта от расстояния до центра города"
   ]
  },
  {
   "cell_type": "code",
   "execution_count": 53,
   "metadata": {},
   "outputs": [
    {
     "data": {
      "text/html": [
       "<div>\n",
       "<style scoped>\n",
       "    .dataframe tbody tr th:only-of-type {\n",
       "        vertical-align: middle;\n",
       "    }\n",
       "\n",
       "    .dataframe tbody tr th {\n",
       "        vertical-align: top;\n",
       "    }\n",
       "\n",
       "    .dataframe thead th {\n",
       "        text-align: right;\n",
       "    }\n",
       "</style>\n",
       "<table border=\"1\" class=\"dataframe\">\n",
       "  <thead>\n",
       "    <tr style=\"text-align: right;\">\n",
       "      <th></th>\n",
       "      <th>mean</th>\n",
       "    </tr>\n",
       "    <tr>\n",
       "      <th>cityCenters_nearest</th>\n",
       "      <th></th>\n",
       "    </tr>\n",
       "  </thead>\n",
       "  <tbody>\n",
       "    <tr>\n",
       "      <th>0.0</th>\n",
       "      <td>169846.593750</td>\n",
       "    </tr>\n",
       "    <tr>\n",
       "      <th>1.0</th>\n",
       "      <td>146048.500000</td>\n",
       "    </tr>\n",
       "    <tr>\n",
       "      <th>2.0</th>\n",
       "      <td>138103.328125</td>\n",
       "    </tr>\n",
       "    <tr>\n",
       "      <th>3.0</th>\n",
       "      <td>123967.828125</td>\n",
       "    </tr>\n",
       "    <tr>\n",
       "      <th>4.0</th>\n",
       "      <td>134907.437500</td>\n",
       "    </tr>\n",
       "    <tr>\n",
       "      <th>5.0</th>\n",
       "      <td>139577.937500</td>\n",
       "    </tr>\n",
       "    <tr>\n",
       "      <th>6.0</th>\n",
       "      <td>147654.281250</td>\n",
       "    </tr>\n",
       "    <tr>\n",
       "      <th>7.0</th>\n",
       "      <td>137450.703125</td>\n",
       "    </tr>\n",
       "    <tr>\n",
       "      <th>8.0</th>\n",
       "      <td>119791.296875</td>\n",
       "    </tr>\n",
       "    <tr>\n",
       "      <th>9.0</th>\n",
       "      <td>110398.250000</td>\n",
       "    </tr>\n",
       "    <tr>\n",
       "      <th>10.0</th>\n",
       "      <td>111532.960938</td>\n",
       "    </tr>\n",
       "    <tr>\n",
       "      <th>11.0</th>\n",
       "      <td>106761.312500</td>\n",
       "    </tr>\n",
       "    <tr>\n",
       "      <th>12.0</th>\n",
       "      <td>108423.593750</td>\n",
       "    </tr>\n",
       "    <tr>\n",
       "      <th>13.0</th>\n",
       "      <td>107044.140625</td>\n",
       "    </tr>\n",
       "    <tr>\n",
       "      <th>14.0</th>\n",
       "      <td>104585.898438</td>\n",
       "    </tr>\n",
       "    <tr>\n",
       "      <th>15.0</th>\n",
       "      <td>101884.343750</td>\n",
       "    </tr>\n",
       "    <tr>\n",
       "      <th>16.0</th>\n",
       "      <td>99758.453125</td>\n",
       "    </tr>\n",
       "    <tr>\n",
       "      <th>17.0</th>\n",
       "      <td>94562.687500</td>\n",
       "    </tr>\n",
       "    <tr>\n",
       "      <th>18.0</th>\n",
       "      <td>95091.585938</td>\n",
       "    </tr>\n",
       "    <tr>\n",
       "      <th>19.0</th>\n",
       "      <td>93918.796875</td>\n",
       "    </tr>\n",
       "    <tr>\n",
       "      <th>20.0</th>\n",
       "      <td>107132.156250</td>\n",
       "    </tr>\n",
       "    <tr>\n",
       "      <th>21.0</th>\n",
       "      <td>91540.765625</td>\n",
       "    </tr>\n",
       "    <tr>\n",
       "      <th>22.0</th>\n",
       "      <td>88884.750000</td>\n",
       "    </tr>\n",
       "    <tr>\n",
       "      <th>23.0</th>\n",
       "      <td>91773.234375</td>\n",
       "    </tr>\n",
       "    <tr>\n",
       "      <th>24.0</th>\n",
       "      <td>82440.343750</td>\n",
       "    </tr>\n",
       "    <tr>\n",
       "      <th>25.0</th>\n",
       "      <td>89549.156250</td>\n",
       "    </tr>\n",
       "    <tr>\n",
       "      <th>26.0</th>\n",
       "      <td>75171.914062</td>\n",
       "    </tr>\n",
       "    <tr>\n",
       "      <th>27.0</th>\n",
       "      <td>132115.718750</td>\n",
       "    </tr>\n",
       "    <tr>\n",
       "      <th>28.0</th>\n",
       "      <td>81840.640625</td>\n",
       "    </tr>\n",
       "    <tr>\n",
       "      <th>29.0</th>\n",
       "      <td>62482.398438</td>\n",
       "    </tr>\n",
       "  </tbody>\n",
       "</table>\n",
       "</div>"
      ],
      "text/plain": [
       "                              mean\n",
       "cityCenters_nearest               \n",
       "0.0                  169846.593750\n",
       "1.0                  146048.500000\n",
       "2.0                  138103.328125\n",
       "3.0                  123967.828125\n",
       "4.0                  134907.437500\n",
       "5.0                  139577.937500\n",
       "6.0                  147654.281250\n",
       "7.0                  137450.703125\n",
       "8.0                  119791.296875\n",
       "9.0                  110398.250000\n",
       "10.0                 111532.960938\n",
       "11.0                 106761.312500\n",
       "12.0                 108423.593750\n",
       "13.0                 107044.140625\n",
       "14.0                 104585.898438\n",
       "15.0                 101884.343750\n",
       "16.0                  99758.453125\n",
       "17.0                  94562.687500\n",
       "18.0                  95091.585938\n",
       "19.0                  93918.796875\n",
       "20.0                 107132.156250\n",
       "21.0                  91540.765625\n",
       "22.0                  88884.750000\n",
       "23.0                  91773.234375\n",
       "24.0                  82440.343750\n",
       "25.0                  89549.156250\n",
       "26.0                  75171.914062\n",
       "27.0                 132115.718750\n",
       "28.0                  81840.640625\n",
       "29.0                  62482.398438"
      ]
     },
     "execution_count": 53,
     "metadata": {},
     "output_type": "execute_result"
    }
   ],
   "source": [
    "#сделаем срез данных по локации \"Санкт-Петербург\" и создадим сводную таблицу. в индекс постами расстояние до центра, в выводимые данне - среднее по стоимости 1кв.метра)\n",
    "data_spb_group = (\n",
    "    data\n",
    "    .query('locality_name == \"Санкт-Петербург\"')\n",
    "    .pivot_table(index = 'cityCenters_nearest', values = 'meter_area_price', aggfunc='mean')\n",
    ")\n",
    "data_spb_group.columns = ['mean']\n",
    "\n",
    "#выведем полученную таблицу\n",
    "data_spb_group"
   ]
  },
  {
   "cell_type": "code",
   "execution_count": 54,
   "metadata": {},
   "outputs": [
    {
     "data": {
      "text/plain": [
       "<AxesSubplot:title={'center':'Цена 1 кв м для каждого километра удаленности от центра'}, xlabel='Расстояние до центра города, км', ylabel='Стоимость 1кв м'>"
      ]
     },
     "execution_count": 54,
     "metadata": {},
     "output_type": "execute_result"
    },
    {
     "data": {
      "image/png": "[encoded data removed]",
      "text/plain": [
       "<Figure size 864x576 with 1 Axes>"
      ]
     },
     "metadata": {
      "needs_background": "light"
     },
     "output_type": "display_data"
    }
   ],
   "source": [
    "#выведем график по полученной таблице. график покажет среднюю стоимоть квадратного метра жилья в зависимости от удаленности от центра города. будем использовать столбчатую диаграмму\n",
    "data_spb_group.plot(y = 'mean', kind = 'bar', figsize=(12, 8), title = 'Цена 1 кв м для каждого километра удаленности от центра', xlabel = 'Расстояние до центра города, км', ylabel = 'Стоимость 1кв м')"
   ]
  },
  {
   "cell_type": "markdown",
   "metadata": {},
   "source": [
    "Стоимость кв метра зависит от приблеженность объекта к центру города. Самая высокая стоимость у объектов в пределах 1 км от центра. График нисходящий, но есть скачки на 5км и 27км. Вероятно, на этой удаленности расположены элитные жилые комплексы. "
   ]
  },
  {
   "cell_type": "markdown",
   "metadata": {},
   "source": [
    "### Общий вывод"
   ]
  },
  {
   "cell_type": "markdown",
   "metadata": {},
   "source": [
    "#### Подготовительный этап\n",
    "В ходе исследования нами были обработаны данные, полученные из файла 'real_estate_data.csv'. Данные сервиса Яндекс.Недвижимость — архив объявлений о продаже квартир в Санкт-Петербурге и соседних населённых пунктов за несколько лет.\n",
    "\n",
    "В ходе исследования на предварительном этапе были проведены следующие работы:\n",
    "- заполнены пропуски в столбце balcony;\n",
    "- удаленены пропуски в floors_total;\n",
    "- изменены типы данных для first_day_exposition и floors_total;\n",
    "- измненен тип данных с float64 на float32 для всех столбцов с таким типом данных;\n",
    "- обработаны неявные дубликаты в locality_name;\n",
    "- обработаны аномальные значения в total_area, rooms, last_price, ceiling_height, floors_total, living_area, kitchen_area, days_exposition; \n",
    "- все аномальные значения были удаленены. всего было удаленено порядка 5% данных. \n",
    "\n",
    "Для полноты анализа были добавлены новые столбцы: \n",
    "- цена за квадратный метр;\n",
    "- день недели публикации объявления;\n",
    "- месяц публикации объявления;\n",
    "- год публикации объявления;\n",
    "- тип этажа квартиры (первый/последний/другой)."
   ]
  },
  {
   "cell_type": "markdown",
   "metadata": {},
   "source": [
    "#### Выводы по целям исследования\n",
    "Общие выводы:\n",
    "- общая площадь. имеет тип распределения Пуассона. пик значения приходится на 50кв.;\n",
    "- жилая площадь. распределение не похоже на нормальное. причины - не ясны;\n",
    "- площадь кухни. имеет тип распределения Пуассона. пик значения приходится на 8кв.;\n",
    "- цена объекта. имеет тип распределения Пуассона;\n",
    "- количество комнат. самые частые значение - 1 и 2. основная часть объектов в диапазоне между 1 и 4; \n",
    "- высота потолков. пик значений приходится на 2,7;\n",
    "- этаж квартиры. большая часть объектов - на 5 этаже. глядя на этот график возникает ощущение ошибки ввода данных. потому что есть пики на 5, 9, 12 этажах - это типовая этажность домов. в то время как данный столбец должен содержать информацию не о количестве этажей в доме, а о том, на каком этаже расположен продаваемый объект. еще как вариант - объекты на последних этажах просто дольше продаются, поэтому их больше в общей массе. эти гипотезы нужно дополнительно проверять;\n",
    "- тип этажа. больше всего вариантов с типом \"другой этаж\". на последних этажах квартир немногим больше, чем на первых;\n",
    "- общее количество этажей в доме. больше всего объектов с 5-этажностью;\n",
    "- расстояние до центра города. большая часть объектов расположена в пределах 20км от центра города. есть значения больше 40км. это странно. посмотрели отдельно Санкт-Петербург. у него значения до 25 км - что нормально. вероятно, значения в 60 км до центра города - ошибки. посчитано расстояние не до центра своего населенного пункта, а до центра ближайшего крупного города;  \n",
    "- расстояние до аэропорта. часть объектов расположена очень близко к аэропорту. далее идет резкий скачек - с данными что-то не то. как мы помним, в данном столбце было много пропусков, вероятно, это сильно влияет на вид гистограммы; \n",
    "- расстояние до парка. пиковое значение - 500; \n",
    "- день публикации. чаще всего объявления публикуют в понедельник и вторник; \n",
    "- месяц публикации. пики (с большими отрывами) приходятся на декабрь и январь. май - существенное снижение активности. это можно объяснить тем, что у пользователей другие задачи, такие как подготовка к отпуску, к экзаменам, даче и др.\n",
    "\n",
    "Изучена длительность продажи квартир: \n",
    "- в среднем продажа занимает 185 дней; \n",
    "- по медианному значению - 100 дней (порядка 3 месяцев); \n",
    "- все продажи до 45 дней можно считать быстрыми; \n",
    "- все продажи дольше 238 дней - долгие;\n",
    "По диаграмме размаха мы видим большой хвост выбросов после 500 дня продажи. Максимальное значение - 1580. (возможно, пользователям с такой длительностью стоит предлагать активней методы доп рекламы объектов :) )\n",
    "А также проверить, корректно ли настроена проверка актуальности продажи объекта.\n",
    "\n",
    "Изучены факторы, влияющие на стоимость квартиры: \n",
    "- зависимость между стоимостью жилья и общей площадью видна на графике и она подтверждается коэфициентом корреляции = 0,6;\n",
    "- зависимость между стоимостью жилья и жилой площадью видна на графике и она подтверждается коэфициентом корреляции = 0,5;\n",
    "- есть зависимость между стоимостью объекта и площадью кухни; \n",
    "- есть зависимость между стоимость жилья и типом этажа. Так, на первых этажах меньше объектов с высокой стоимостью жилья. Несколько больше их на последних. И больше всего их у объектов с \"другим\" этажом; \n",
    "- другие зависимости не выявленены. \n",
    "\n",
    "Изучена стоимость кв м по населенным пунктам:\n",
    "- наименьшая стоимость квадратного метра в Выборге (58015); \n",
    "- максимальная стоимость квадратного метра в Санкт-Петербурге (113994).\n",
    "\n",
    "Установлена зависимость между стоимостью кв м и расстоянием по центра города:\n",
    "- стоимость кв метра зависит от приблеженность объекта к центру города. \n",
    "- самая высокая стоимость у объектов в пределах 1 км от центра. \n",
    "- данные графика нисходящие, но есть скачки на 5км и 27км. Вероятно, на этой удаленности расположены элитные жилые комплексы. \n"
   ]
  },
  {
   "cell_type": "markdown",
   "metadata": {},
   "source": [
    "#### Рекомендации по работе с данными\n",
    "- потерянные данные относятся к картографическим. Необходимо поставить задачу в it отдел, с целью проверки причин отсутствия данных, либо настройки их автоматичесого вывода (возможно, по данным населенным пунктам работы не были проведенены до конца, то есть, например, не настроен расчет расстояния до озера в \"Ломоносово\");\n",
    "\n",
    "- отсутствие данных в столбце \"аппартаменты\" - относится к данным добавленным пользователем. Возможно, заполнение данного столбца не является обязательным при заполнении карточки объявления. Также данные о типе дома, возможно, есть в открытых источниках - возможно, it отдел сможет автоматически подтянуть эти данные к сервису. Необходимо это поправить, т.к. тип жилья является весомым фактором при выборе объекта и может иметь сильные взаимосвязи с другими параметрами объекта;\n",
    "\n",
    "- добавить на сайт классификатор населенных пунктов. либо провести проверку текущего классификатора на предмет неявных дубликатов;\n",
    "\n",
    "- в столбце days_exposition есть данные равные 1,2,3 (и тд) дням. Желательно добавить форму опроса пользователей при снятии объявления с размещения о причинах снятия. Возможные причины: продажа, ошибка размещения, передумал продавать и др. "
   ]
  }
 ],
 "metadata": {
  "ExecuteTimeLog": [
   {
    "duration": 490,
    "start_time": "2023-06-16T14:41:44.594Z"
   },
   {
    "duration": 231,
    "start_time": "2023-06-16T14:41:46.132Z"
   },
   {
    "duration": 27,
    "start_time": "2023-06-16T14:41:46.909Z"
   },
   {
    "duration": 101,
    "start_time": "2023-06-16T14:42:49.294Z"
   },
   {
    "duration": 97,
    "start_time": "2023-06-16T14:43:02.052Z"
   },
   {
    "duration": 444,
    "start_time": "2023-06-16T14:43:21.402Z"
   },
   {
    "duration": 97,
    "start_time": "2023-06-16T14:43:21.856Z"
   },
   {
    "duration": 18,
    "start_time": "2023-06-16T14:43:21.955Z"
   },
   {
    "duration": 25,
    "start_time": "2023-06-16T14:43:21.974Z"
   },
   {
    "duration": 116,
    "start_time": "2023-06-16T14:46:01.627Z"
   },
   {
    "duration": 370,
    "start_time": "2023-06-16T14:47:12.853Z"
   },
   {
    "duration": 93,
    "start_time": "2023-06-16T14:47:13.227Z"
   },
   {
    "duration": 14,
    "start_time": "2023-06-16T14:47:13.322Z"
   },
   {
    "duration": 47,
    "start_time": "2023-06-16T14:47:13.344Z"
   },
   {
    "duration": 332,
    "start_time": "2023-06-16T14:50:46.265Z"
   },
   {
    "duration": 105,
    "start_time": "2023-06-16T14:50:46.598Z"
   },
   {
    "duration": 19,
    "start_time": "2023-06-16T14:50:46.705Z"
   },
   {
    "duration": 29,
    "start_time": "2023-06-16T14:50:46.726Z"
   },
   {
    "duration": 94,
    "start_time": "2023-06-16T14:59:20.096Z"
   },
   {
    "duration": 367,
    "start_time": "2023-06-16T14:59:32.469Z"
   },
   {
    "duration": 81,
    "start_time": "2023-06-16T14:59:32.838Z"
   },
   {
    "duration": 21,
    "start_time": "2023-06-16T14:59:32.921Z"
   },
   {
    "duration": 12,
    "start_time": "2023-06-16T14:59:32.943Z"
   },
   {
    "duration": 415,
    "start_time": "2023-06-16T14:59:32.957Z"
   },
   {
    "duration": 0,
    "start_time": "2023-06-16T14:59:33.374Z"
   },
   {
    "duration": 387,
    "start_time": "2023-06-16T15:00:49.277Z"
   },
   {
    "duration": 84,
    "start_time": "2023-06-16T15:00:49.666Z"
   },
   {
    "duration": 0,
    "start_time": "2023-06-16T15:00:49.752Z"
   },
   {
    "duration": 0,
    "start_time": "2023-06-16T15:00:49.753Z"
   },
   {
    "duration": 0,
    "start_time": "2023-06-16T15:00:49.754Z"
   },
   {
    "duration": 0,
    "start_time": "2023-06-16T15:00:49.755Z"
   },
   {
    "duration": 355,
    "start_time": "2023-06-16T15:01:35.739Z"
   },
   {
    "duration": 87,
    "start_time": "2023-06-16T15:01:36.096Z"
   },
   {
    "duration": 11,
    "start_time": "2023-06-16T15:01:36.185Z"
   },
   {
    "duration": 25,
    "start_time": "2023-06-16T15:01:36.197Z"
   },
   {
    "duration": 201,
    "start_time": "2023-06-16T15:01:36.224Z"
   },
   {
    "duration": 0,
    "start_time": "2023-06-16T15:01:36.426Z"
   },
   {
    "duration": 402,
    "start_time": "2023-06-16T15:02:39.293Z"
   },
   {
    "duration": 86,
    "start_time": "2023-06-16T15:02:39.697Z"
   },
   {
    "duration": 12,
    "start_time": "2023-06-16T15:02:39.784Z"
   },
   {
    "duration": 15,
    "start_time": "2023-06-16T15:02:39.797Z"
   },
   {
    "duration": 212,
    "start_time": "2023-06-16T15:02:39.817Z"
   },
   {
    "duration": 0,
    "start_time": "2023-06-16T15:02:40.030Z"
   },
   {
    "duration": 352,
    "start_time": "2023-06-16T15:04:45.750Z"
   },
   {
    "duration": 77,
    "start_time": "2023-06-16T15:04:46.105Z"
   },
   {
    "duration": 12,
    "start_time": "2023-06-16T15:04:46.184Z"
   },
   {
    "duration": 19,
    "start_time": "2023-06-16T15:04:46.197Z"
   },
   {
    "duration": 212,
    "start_time": "2023-06-16T15:04:46.218Z"
   },
   {
    "duration": 0,
    "start_time": "2023-06-16T15:04:46.432Z"
   },
   {
    "duration": 384,
    "start_time": "2023-06-16T15:05:19.500Z"
   },
   {
    "duration": 81,
    "start_time": "2023-06-16T15:05:19.887Z"
   },
   {
    "duration": 12,
    "start_time": "2023-06-16T15:05:19.970Z"
   },
   {
    "duration": 12,
    "start_time": "2023-06-16T15:05:19.983Z"
   },
   {
    "duration": 220,
    "start_time": "2023-06-16T15:05:19.997Z"
   },
   {
    "duration": 0,
    "start_time": "2023-06-16T15:05:20.219Z"
   },
   {
    "duration": 3,
    "start_time": "2023-06-16T15:07:09.490Z"
   },
   {
    "duration": 3130,
    "start_time": "2023-06-16T15:07:11.304Z"
   },
   {
    "duration": 6,
    "start_time": "2023-06-16T15:07:16.172Z"
   },
   {
    "duration": 2,
    "start_time": "2023-06-16T15:07:36.667Z"
   },
   {
    "duration": 75,
    "start_time": "2023-06-16T15:07:39.850Z"
   },
   {
    "duration": 6,
    "start_time": "2023-06-16T15:07:43.323Z"
   },
   {
    "duration": 71,
    "start_time": "2023-06-16T18:10:09.308Z"
   },
   {
    "duration": 413,
    "start_time": "2023-06-16T18:10:57.254Z"
   },
   {
    "duration": 502,
    "start_time": "2023-06-16T18:10:57.669Z"
   },
   {
    "duration": 41,
    "start_time": "2023-06-16T18:10:58.173Z"
   },
   {
    "duration": 44,
    "start_time": "2023-06-16T18:10:58.216Z"
   },
   {
    "duration": 2400,
    "start_time": "2023-06-16T18:10:58.263Z"
   },
   {
    "duration": 9,
    "start_time": "2023-06-16T18:11:00.665Z"
   },
   {
    "duration": 51,
    "start_time": "2023-06-17T03:44:26.549Z"
   },
   {
    "duration": 6,
    "start_time": "2023-06-17T03:47:27.162Z"
   },
   {
    "duration": 411,
    "start_time": "2023-06-17T03:47:39.266Z"
   },
   {
    "duration": 304,
    "start_time": "2023-06-17T03:47:39.680Z"
   },
   {
    "duration": 39,
    "start_time": "2023-06-17T03:47:39.986Z"
   },
   {
    "duration": 14,
    "start_time": "2023-06-17T03:47:40.027Z"
   },
   {
    "duration": 2375,
    "start_time": "2023-06-17T03:47:40.042Z"
   },
   {
    "duration": 11,
    "start_time": "2023-06-17T03:47:42.419Z"
   },
   {
    "duration": 8,
    "start_time": "2023-06-17T03:47:42.432Z"
   },
   {
    "duration": 11,
    "start_time": "2023-06-17T03:48:10.211Z"
   },
   {
    "duration": 408,
    "start_time": "2023-06-17T03:49:01.110Z"
   },
   {
    "duration": 93,
    "start_time": "2023-06-17T03:49:01.520Z"
   },
   {
    "duration": 37,
    "start_time": "2023-06-17T03:49:01.615Z"
   },
   {
    "duration": 14,
    "start_time": "2023-06-17T03:49:01.654Z"
   },
   {
    "duration": 1990,
    "start_time": "2023-06-17T03:49:01.670Z"
   },
   {
    "duration": 11,
    "start_time": "2023-06-17T03:49:03.662Z"
   },
   {
    "duration": 1286,
    "start_time": "2023-06-17T03:49:03.675Z"
   },
   {
    "duration": 0,
    "start_time": "2023-06-17T03:49:04.963Z"
   },
   {
    "duration": 8,
    "start_time": "2023-06-17T03:49:54.277Z"
   },
   {
    "duration": 104,
    "start_time": "2023-06-17T05:25:18.152Z"
   },
   {
    "duration": 79,
    "start_time": "2023-06-17T05:33:52.549Z"
   },
   {
    "duration": 409,
    "start_time": "2023-06-17T05:34:10.271Z"
   },
   {
    "duration": 99,
    "start_time": "2023-06-17T05:34:10.682Z"
   },
   {
    "duration": 38,
    "start_time": "2023-06-17T05:34:10.782Z"
   },
   {
    "duration": 22,
    "start_time": "2023-06-17T05:34:10.832Z"
   },
   {
    "duration": 2160,
    "start_time": "2023-06-17T05:34:10.857Z"
   },
   {
    "duration": 11,
    "start_time": "2023-06-17T05:34:13.018Z"
   },
   {
    "duration": 32,
    "start_time": "2023-06-17T05:34:13.030Z"
   },
   {
    "duration": 117,
    "start_time": "2023-06-17T05:34:13.064Z"
   },
   {
    "duration": 0,
    "start_time": "2023-06-17T05:34:13.182Z"
   },
   {
    "duration": 106,
    "start_time": "2023-06-17T05:34:49.094Z"
   },
   {
    "duration": 371,
    "start_time": "2023-06-17T05:34:59.369Z"
   },
   {
    "duration": 101,
    "start_time": "2023-06-17T05:34:59.742Z"
   },
   {
    "duration": 39,
    "start_time": "2023-06-17T05:34:59.844Z"
   },
   {
    "duration": 14,
    "start_time": "2023-06-17T05:34:59.884Z"
   },
   {
    "duration": 2301,
    "start_time": "2023-06-17T05:34:59.900Z"
   },
   {
    "duration": 14,
    "start_time": "2023-06-17T05:35:02.203Z"
   },
   {
    "duration": 227,
    "start_time": "2023-06-17T05:35:02.219Z"
   },
   {
    "duration": 124,
    "start_time": "2023-06-17T05:35:02.450Z"
   },
   {
    "duration": 0,
    "start_time": "2023-06-17T05:35:02.575Z"
   },
   {
    "duration": 107,
    "start_time": "2023-06-17T05:35:30.991Z"
   },
   {
    "duration": 102,
    "start_time": "2023-06-17T05:37:24.721Z"
   },
   {
    "duration": 13,
    "start_time": "2023-06-17T05:39:27.392Z"
   },
   {
    "duration": 358,
    "start_time": "2023-06-17T05:39:41.982Z"
   },
   {
    "duration": 114,
    "start_time": "2023-06-17T05:39:42.342Z"
   },
   {
    "duration": 38,
    "start_time": "2023-06-17T05:39:42.464Z"
   },
   {
    "duration": 13,
    "start_time": "2023-06-17T05:39:42.504Z"
   },
   {
    "duration": 2270,
    "start_time": "2023-06-17T05:39:42.519Z"
   },
   {
    "duration": 13,
    "start_time": "2023-06-17T05:39:44.792Z"
   },
   {
    "duration": 19,
    "start_time": "2023-06-17T05:39:44.807Z"
   },
   {
    "duration": 146,
    "start_time": "2023-06-17T05:39:44.828Z"
   },
   {
    "duration": 0,
    "start_time": "2023-06-17T05:39:44.976Z"
   },
   {
    "duration": 37,
    "start_time": "2023-06-17T05:40:27.342Z"
   },
   {
    "duration": 384,
    "start_time": "2023-06-17T05:41:32.255Z"
   },
   {
    "duration": 105,
    "start_time": "2023-06-17T05:41:32.649Z"
   },
   {
    "duration": 57,
    "start_time": "2023-06-17T05:41:32.758Z"
   },
   {
    "duration": 25,
    "start_time": "2023-06-17T05:41:32.817Z"
   },
   {
    "duration": 2376,
    "start_time": "2023-06-17T05:41:32.844Z"
   },
   {
    "duration": 12,
    "start_time": "2023-06-17T05:41:35.222Z"
   },
   {
    "duration": 32,
    "start_time": "2023-06-17T05:41:35.236Z"
   },
   {
    "duration": 101,
    "start_time": "2023-06-17T05:41:35.270Z"
   },
   {
    "duration": 0,
    "start_time": "2023-06-17T05:41:35.373Z"
   },
   {
    "duration": 19,
    "start_time": "2023-06-17T05:42:09.626Z"
   },
   {
    "duration": 14,
    "start_time": "2023-06-17T05:42:20.514Z"
   },
   {
    "duration": 20,
    "start_time": "2023-06-17T05:42:27.276Z"
   },
   {
    "duration": 20,
    "start_time": "2023-06-17T05:42:34.628Z"
   },
   {
    "duration": 9,
    "start_time": "2023-06-17T05:44:07.380Z"
   },
   {
    "duration": 467,
    "start_time": "2023-06-17T05:44:20.113Z"
   },
   {
    "duration": 135,
    "start_time": "2023-06-17T05:44:20.582Z"
   },
   {
    "duration": 54,
    "start_time": "2023-06-17T05:44:20.719Z"
   },
   {
    "duration": 42,
    "start_time": "2023-06-17T05:44:20.778Z"
   },
   {
    "duration": 3046,
    "start_time": "2023-06-17T05:44:20.823Z"
   },
   {
    "duration": 11,
    "start_time": "2023-06-17T05:44:23.871Z"
   },
   {
    "duration": 19,
    "start_time": "2023-06-17T05:44:23.884Z"
   },
   {
    "duration": 129,
    "start_time": "2023-06-17T05:44:23.905Z"
   },
   {
    "duration": 0,
    "start_time": "2023-06-17T05:44:24.040Z"
   },
   {
    "duration": 13,
    "start_time": "2023-06-17T05:45:33.844Z"
   },
   {
    "duration": 408,
    "start_time": "2023-06-17T05:46:44.743Z"
   },
   {
    "duration": 89,
    "start_time": "2023-06-17T05:46:45.153Z"
   },
   {
    "duration": 33,
    "start_time": "2023-06-17T05:46:45.244Z"
   },
   {
    "duration": 14,
    "start_time": "2023-06-17T05:46:45.279Z"
   },
   {
    "duration": 2295,
    "start_time": "2023-06-17T05:46:45.294Z"
   },
   {
    "duration": 12,
    "start_time": "2023-06-17T05:46:47.591Z"
   },
   {
    "duration": 10,
    "start_time": "2023-06-17T05:46:47.605Z"
   },
   {
    "duration": 83,
    "start_time": "2023-06-17T05:46:47.617Z"
   },
   {
    "duration": 0,
    "start_time": "2023-06-17T05:46:47.702Z"
   },
   {
    "duration": 24,
    "start_time": "2023-06-17T05:47:18.496Z"
   },
   {
    "duration": 9,
    "start_time": "2023-06-17T05:47:58.719Z"
   },
   {
    "duration": 419,
    "start_time": "2023-06-17T05:48:08.906Z"
   },
   {
    "duration": 90,
    "start_time": "2023-06-17T05:48:09.327Z"
   },
   {
    "duration": 34,
    "start_time": "2023-06-17T05:48:09.418Z"
   },
   {
    "duration": 14,
    "start_time": "2023-06-17T05:48:09.454Z"
   },
   {
    "duration": 2003,
    "start_time": "2023-06-17T05:48:09.470Z"
   },
   {
    "duration": 10,
    "start_time": "2023-06-17T05:48:11.474Z"
   },
   {
    "duration": 14,
    "start_time": "2023-06-17T05:48:11.485Z"
   },
   {
    "duration": 70,
    "start_time": "2023-06-17T05:48:11.500Z"
   },
   {
    "duration": 0,
    "start_time": "2023-06-17T05:48:11.571Z"
   },
   {
    "duration": 15,
    "start_time": "2023-06-17T05:51:52.748Z"
   },
   {
    "duration": 22,
    "start_time": "2023-06-17T06:03:26.633Z"
   },
   {
    "duration": 12,
    "start_time": "2023-06-17T06:04:52.599Z"
   },
   {
    "duration": 8,
    "start_time": "2023-06-17T06:08:09.717Z"
   },
   {
    "duration": 12,
    "start_time": "2023-06-17T06:34:06.154Z"
   },
   {
    "duration": 34,
    "start_time": "2023-06-17T06:45:04.768Z"
   },
   {
    "duration": 41,
    "start_time": "2023-06-17T06:45:18.144Z"
   },
   {
    "duration": 5,
    "start_time": "2023-06-17T06:46:55.246Z"
   },
   {
    "duration": 11,
    "start_time": "2023-06-17T06:53:27.698Z"
   },
   {
    "duration": 371,
    "start_time": "2023-06-17T06:54:47.853Z"
   },
   {
    "duration": 305,
    "start_time": "2023-06-17T06:54:48.226Z"
   },
   {
    "duration": 47,
    "start_time": "2023-06-17T06:54:48.532Z"
   },
   {
    "duration": 14,
    "start_time": "2023-06-17T06:54:48.580Z"
   },
   {
    "duration": 1977,
    "start_time": "2023-06-17T06:54:48.596Z"
   },
   {
    "duration": 10,
    "start_time": "2023-06-17T06:54:50.574Z"
   },
   {
    "duration": 26,
    "start_time": "2023-06-17T06:54:50.585Z"
   },
   {
    "duration": 32,
    "start_time": "2023-06-17T06:54:50.613Z"
   },
   {
    "duration": 26,
    "start_time": "2023-06-17T06:54:50.647Z"
   },
   {
    "duration": 104,
    "start_time": "2023-06-17T06:54:50.674Z"
   },
   {
    "duration": 50,
    "start_time": "2023-06-17T06:55:10.436Z"
   },
   {
    "duration": 6,
    "start_time": "2023-06-17T06:55:38.999Z"
   },
   {
    "duration": 411,
    "start_time": "2023-06-17T06:55:54.833Z"
   },
   {
    "duration": 295,
    "start_time": "2023-06-17T06:55:55.246Z"
   },
   {
    "duration": 47,
    "start_time": "2023-06-17T06:55:55.542Z"
   },
   {
    "duration": 13,
    "start_time": "2023-06-17T06:55:55.591Z"
   },
   {
    "duration": 1992,
    "start_time": "2023-06-17T06:55:55.605Z"
   },
   {
    "duration": 9,
    "start_time": "2023-06-17T06:55:57.598Z"
   },
   {
    "duration": 8,
    "start_time": "2023-06-17T06:55:57.608Z"
   },
   {
    "duration": 21,
    "start_time": "2023-06-17T06:55:57.617Z"
   },
   {
    "duration": 13,
    "start_time": "2023-06-17T06:55:57.639Z"
   },
   {
    "duration": 27,
    "start_time": "2023-06-17T06:55:57.653Z"
   },
   {
    "duration": 44,
    "start_time": "2023-06-17T06:56:19.277Z"
   },
   {
    "duration": 381,
    "start_time": "2023-06-17T06:56:33.358Z"
   },
   {
    "duration": 298,
    "start_time": "2023-06-17T06:56:33.741Z"
   },
   {
    "duration": 50,
    "start_time": "2023-06-17T06:56:34.041Z"
   },
   {
    "duration": 14,
    "start_time": "2023-06-17T06:56:34.093Z"
   },
   {
    "duration": 2032,
    "start_time": "2023-06-17T06:56:34.109Z"
   },
   {
    "duration": 9,
    "start_time": "2023-06-17T06:56:36.143Z"
   },
   {
    "duration": 9,
    "start_time": "2023-06-17T06:56:36.153Z"
   },
   {
    "duration": 37,
    "start_time": "2023-06-17T06:56:36.164Z"
   },
   {
    "duration": 9,
    "start_time": "2023-06-17T06:56:36.203Z"
   },
   {
    "duration": 20,
    "start_time": "2023-06-17T06:56:36.215Z"
   },
   {
    "duration": 22,
    "start_time": "2023-06-17T06:56:36.237Z"
   },
   {
    "duration": 2,
    "start_time": "2023-06-17T06:56:36.261Z"
   },
   {
    "duration": 58,
    "start_time": "2023-06-17T06:58:59.231Z"
   },
   {
    "duration": 390,
    "start_time": "2023-06-17T06:59:10.411Z"
   },
   {
    "duration": 358,
    "start_time": "2023-06-17T06:59:10.803Z"
   },
   {
    "duration": 49,
    "start_time": "2023-06-17T06:59:11.162Z"
   },
   {
    "duration": 13,
    "start_time": "2023-06-17T06:59:11.213Z"
   },
   {
    "duration": 2198,
    "start_time": "2023-06-17T06:59:11.227Z"
   },
   {
    "duration": 14,
    "start_time": "2023-06-17T06:59:13.426Z"
   },
   {
    "duration": 36,
    "start_time": "2023-06-17T06:59:13.442Z"
   },
   {
    "duration": 22,
    "start_time": "2023-06-17T06:59:13.480Z"
   },
   {
    "duration": 5,
    "start_time": "2023-06-17T06:59:13.503Z"
   },
   {
    "duration": 37,
    "start_time": "2023-06-17T06:59:13.511Z"
   },
   {
    "duration": 99,
    "start_time": "2023-06-17T06:59:13.549Z"
   },
   {
    "duration": 0,
    "start_time": "2023-06-17T06:59:13.656Z"
   },
   {
    "duration": 10,
    "start_time": "2023-06-17T07:07:22.316Z"
   },
   {
    "duration": 44,
    "start_time": "2023-06-17T07:08:41.470Z"
   },
   {
    "duration": 401,
    "start_time": "2023-06-17T07:08:50.106Z"
   },
   {
    "duration": 324,
    "start_time": "2023-06-17T07:08:50.509Z"
   },
   {
    "duration": 54,
    "start_time": "2023-06-17T07:08:50.842Z"
   },
   {
    "duration": 13,
    "start_time": "2023-06-17T07:08:50.897Z"
   },
   {
    "duration": 2168,
    "start_time": "2023-06-17T07:08:50.912Z"
   },
   {
    "duration": 9,
    "start_time": "2023-06-17T07:08:53.082Z"
   },
   {
    "duration": 10,
    "start_time": "2023-06-17T07:08:53.092Z"
   },
   {
    "duration": 19,
    "start_time": "2023-06-17T07:08:53.104Z"
   },
   {
    "duration": 6,
    "start_time": "2023-06-17T07:08:53.124Z"
   },
   {
    "duration": 25,
    "start_time": "2023-06-17T07:08:53.131Z"
   },
   {
    "duration": 91,
    "start_time": "2023-06-17T07:08:53.157Z"
   },
   {
    "duration": 0,
    "start_time": "2023-06-17T07:08:53.249Z"
   },
   {
    "duration": 5,
    "start_time": "2023-06-17T07:09:31.428Z"
   },
   {
    "duration": 29,
    "start_time": "2023-06-17T07:09:57.125Z"
   },
   {
    "duration": 6,
    "start_time": "2023-06-17T07:10:04.402Z"
   },
   {
    "duration": 14,
    "start_time": "2023-06-17T07:10:40.394Z"
   },
   {
    "duration": 9,
    "start_time": "2023-06-17T07:10:51.028Z"
   },
   {
    "duration": 354,
    "start_time": "2023-06-17T07:11:12.667Z"
   },
   {
    "duration": 88,
    "start_time": "2023-06-17T07:11:13.023Z"
   },
   {
    "duration": 46,
    "start_time": "2023-06-17T07:11:13.114Z"
   },
   {
    "duration": 13,
    "start_time": "2023-06-17T07:11:13.162Z"
   },
   {
    "duration": 2107,
    "start_time": "2023-06-17T07:11:13.177Z"
   },
   {
    "duration": 9,
    "start_time": "2023-06-17T07:11:15.286Z"
   },
   {
    "duration": 14,
    "start_time": "2023-06-17T07:11:15.297Z"
   },
   {
    "duration": 31,
    "start_time": "2023-06-17T07:11:15.313Z"
   },
   {
    "duration": 6,
    "start_time": "2023-06-17T07:11:15.345Z"
   },
   {
    "duration": 13,
    "start_time": "2023-06-17T07:11:15.353Z"
   },
   {
    "duration": 7,
    "start_time": "2023-06-17T07:11:15.368Z"
   },
   {
    "duration": 7,
    "start_time": "2023-06-17T07:11:15.377Z"
   },
   {
    "duration": 20,
    "start_time": "2023-06-17T07:14:43.324Z"
   },
   {
    "duration": 434,
    "start_time": "2023-06-17T07:15:13.230Z"
   },
   {
    "duration": 94,
    "start_time": "2023-06-17T07:15:13.666Z"
   },
   {
    "duration": 47,
    "start_time": "2023-06-17T07:15:13.762Z"
   },
   {
    "duration": 29,
    "start_time": "2023-06-17T07:15:13.811Z"
   },
   {
    "duration": 2275,
    "start_time": "2023-06-17T07:15:13.842Z"
   },
   {
    "duration": 9,
    "start_time": "2023-06-17T07:15:16.119Z"
   },
   {
    "duration": 17,
    "start_time": "2023-06-17T07:15:16.129Z"
   },
   {
    "duration": 21,
    "start_time": "2023-06-17T07:15:16.148Z"
   },
   {
    "duration": 5,
    "start_time": "2023-06-17T07:15:16.171Z"
   },
   {
    "duration": 20,
    "start_time": "2023-06-17T07:15:16.179Z"
   },
   {
    "duration": 22,
    "start_time": "2023-06-17T07:15:16.200Z"
   },
   {
    "duration": 3,
    "start_time": "2023-06-17T07:15:16.232Z"
   },
   {
    "duration": 412,
    "start_time": "2023-06-17T07:16:08.606Z"
   },
   {
    "duration": 89,
    "start_time": "2023-06-17T07:16:09.021Z"
   },
   {
    "duration": 49,
    "start_time": "2023-06-17T07:16:09.112Z"
   },
   {
    "duration": 15,
    "start_time": "2023-06-17T07:16:09.163Z"
   },
   {
    "duration": 1994,
    "start_time": "2023-06-17T07:16:09.179Z"
   },
   {
    "duration": 11,
    "start_time": "2023-06-17T07:16:11.175Z"
   },
   {
    "duration": 12,
    "start_time": "2023-06-17T07:16:11.188Z"
   },
   {
    "duration": 25,
    "start_time": "2023-06-17T07:16:11.202Z"
   },
   {
    "duration": 5,
    "start_time": "2023-06-17T07:16:11.229Z"
   },
   {
    "duration": 33,
    "start_time": "2023-06-17T07:16:11.236Z"
   },
   {
    "duration": 26,
    "start_time": "2023-06-17T07:16:11.271Z"
   },
   {
    "duration": 19,
    "start_time": "2023-06-17T07:16:11.299Z"
   },
   {
    "duration": 35,
    "start_time": "2023-06-17T07:21:56.546Z"
   },
   {
    "duration": 5,
    "start_time": "2023-06-17T07:22:49.548Z"
   },
   {
    "duration": 6,
    "start_time": "2023-06-17T07:23:23.805Z"
   },
   {
    "duration": 6,
    "start_time": "2023-06-17T07:23:52.328Z"
   },
   {
    "duration": 5,
    "start_time": "2023-06-17T07:24:07.512Z"
   },
   {
    "duration": 5,
    "start_time": "2023-06-17T07:24:16.931Z"
   },
   {
    "duration": 42,
    "start_time": "2023-06-17T08:47:25.423Z"
   },
   {
    "duration": 71,
    "start_time": "2023-06-17T08:49:34.260Z"
   },
   {
    "duration": 38,
    "start_time": "2023-06-17T08:52:10.047Z"
   },
   {
    "duration": 7,
    "start_time": "2023-06-17T08:59:33.530Z"
   },
   {
    "duration": 41,
    "start_time": "2023-06-17T08:59:41.005Z"
   },
   {
    "duration": 17,
    "start_time": "2023-06-17T09:03:51.716Z"
   },
   {
    "duration": 1266,
    "start_time": "2023-06-17T09:05:25.671Z"
   },
   {
    "duration": 43,
    "start_time": "2023-06-17T09:06:50.806Z"
   },
   {
    "duration": 67,
    "start_time": "2023-06-17T09:08:24.692Z"
   },
   {
    "duration": 313,
    "start_time": "2023-06-17T09:23:12.049Z"
   },
   {
    "duration": 18,
    "start_time": "2023-06-17T09:27:19.958Z"
   },
   {
    "duration": 72,
    "start_time": "2023-06-17T09:27:33.363Z"
   },
   {
    "duration": 5,
    "start_time": "2023-06-17T09:36:59.448Z"
   },
   {
    "duration": 385,
    "start_time": "2023-06-17T09:37:10.791Z"
   },
   {
    "duration": 94,
    "start_time": "2023-06-17T09:37:11.178Z"
   },
   {
    "duration": 81,
    "start_time": "2023-06-17T09:37:11.274Z"
   },
   {
    "duration": 18,
    "start_time": "2023-06-17T09:37:11.356Z"
   },
   {
    "duration": 2240,
    "start_time": "2023-06-17T09:37:11.377Z"
   },
   {
    "duration": 15,
    "start_time": "2023-06-17T09:37:13.620Z"
   },
   {
    "duration": 10,
    "start_time": "2023-06-17T09:37:13.637Z"
   },
   {
    "duration": 6,
    "start_time": "2023-06-17T09:37:13.649Z"
   },
   {
    "duration": 29,
    "start_time": "2023-06-17T09:37:13.656Z"
   },
   {
    "duration": 12,
    "start_time": "2023-06-17T09:37:13.688Z"
   },
   {
    "duration": 38,
    "start_time": "2023-06-17T09:37:13.702Z"
   },
   {
    "duration": 41,
    "start_time": "2023-06-17T09:37:13.742Z"
   },
   {
    "duration": 2,
    "start_time": "2023-06-17T09:37:13.785Z"
   },
   {
    "duration": 91,
    "start_time": "2023-06-17T09:37:13.789Z"
   },
   {
    "duration": 452,
    "start_time": "2023-06-17T09:37:32.633Z"
   },
   {
    "duration": 370,
    "start_time": "2023-06-17T09:38:56.256Z"
   },
   {
    "duration": 100,
    "start_time": "2023-06-17T09:38:56.631Z"
   },
   {
    "duration": 55,
    "start_time": "2023-06-17T09:38:56.733Z"
   },
   {
    "duration": 20,
    "start_time": "2023-06-17T09:38:56.790Z"
   },
   {
    "duration": 2216,
    "start_time": "2023-06-17T09:38:56.813Z"
   },
   {
    "duration": 11,
    "start_time": "2023-06-17T09:38:59.031Z"
   },
   {
    "duration": 17,
    "start_time": "2023-06-17T09:38:59.044Z"
   },
   {
    "duration": 9,
    "start_time": "2023-06-17T09:38:59.063Z"
   },
   {
    "duration": 26,
    "start_time": "2023-06-17T09:38:59.074Z"
   },
   {
    "duration": 7,
    "start_time": "2023-06-17T09:38:59.102Z"
   },
   {
    "duration": 12,
    "start_time": "2023-06-17T09:38:59.131Z"
   },
   {
    "duration": 41,
    "start_time": "2023-06-17T09:38:59.145Z"
   },
   {
    "duration": 4,
    "start_time": "2023-06-17T09:38:59.188Z"
   },
   {
    "duration": 452,
    "start_time": "2023-06-17T09:38:59.195Z"
   },
   {
    "duration": 422,
    "start_time": "2023-06-17T09:39:50.926Z"
   },
   {
    "duration": 94,
    "start_time": "2023-06-17T09:39:51.350Z"
   },
   {
    "duration": 51,
    "start_time": "2023-06-17T09:39:51.446Z"
   },
   {
    "duration": 33,
    "start_time": "2023-06-17T09:39:51.499Z"
   },
   {
    "duration": 2127,
    "start_time": "2023-06-17T09:39:51.534Z"
   },
   {
    "duration": 13,
    "start_time": "2023-06-17T09:39:53.663Z"
   },
   {
    "duration": 84,
    "start_time": "2023-06-17T09:39:53.678Z"
   },
   {
    "duration": 58,
    "start_time": "2023-06-17T09:39:53.764Z"
   },
   {
    "duration": 26,
    "start_time": "2023-06-17T09:39:53.824Z"
   },
   {
    "duration": 6,
    "start_time": "2023-06-17T09:39:53.853Z"
   },
   {
    "duration": 20,
    "start_time": "2023-06-17T09:39:53.861Z"
   },
   {
    "duration": 74,
    "start_time": "2023-06-17T09:39:53.883Z"
   },
   {
    "duration": 27,
    "start_time": "2023-06-17T09:39:53.958Z"
   },
   {
    "duration": 494,
    "start_time": "2023-06-17T09:39:53.986Z"
   },
   {
    "duration": 13,
    "start_time": "2023-06-17T09:41:03.006Z"
   },
   {
    "duration": 18,
    "start_time": "2023-06-17T09:42:37.525Z"
   },
   {
    "duration": 408,
    "start_time": "2023-06-17T09:42:56.548Z"
   },
   {
    "duration": 96,
    "start_time": "2023-06-17T09:42:56.958Z"
   },
   {
    "duration": 51,
    "start_time": "2023-06-17T09:42:57.055Z"
   },
   {
    "duration": 31,
    "start_time": "2023-06-17T09:42:57.108Z"
   },
   {
    "duration": 2179,
    "start_time": "2023-06-17T09:42:57.142Z"
   },
   {
    "duration": 10,
    "start_time": "2023-06-17T09:42:59.323Z"
   },
   {
    "duration": 42,
    "start_time": "2023-06-17T09:42:59.335Z"
   },
   {
    "duration": 30,
    "start_time": "2023-06-17T09:42:59.379Z"
   },
   {
    "duration": 25,
    "start_time": "2023-06-17T09:42:59.411Z"
   },
   {
    "duration": 9,
    "start_time": "2023-06-17T09:42:59.438Z"
   },
   {
    "duration": 26,
    "start_time": "2023-06-17T09:42:59.450Z"
   },
   {
    "duration": 35,
    "start_time": "2023-06-17T09:42:59.477Z"
   },
   {
    "duration": 3,
    "start_time": "2023-06-17T09:42:59.513Z"
   },
   {
    "duration": 390,
    "start_time": "2023-06-17T09:42:59.532Z"
   },
   {
    "duration": 17,
    "start_time": "2023-06-17T09:43:22.563Z"
   },
   {
    "duration": 15,
    "start_time": "2023-06-17T09:45:53.283Z"
   },
   {
    "duration": 4,
    "start_time": "2023-06-17T09:46:47.364Z"
   },
   {
    "duration": 16,
    "start_time": "2023-06-17T09:47:10.131Z"
   },
   {
    "duration": 12,
    "start_time": "2023-06-17T09:48:05.812Z"
   },
   {
    "duration": 13,
    "start_time": "2023-06-17T09:48:20.606Z"
   },
   {
    "duration": 14,
    "start_time": "2023-06-17T09:48:38.233Z"
   },
   {
    "duration": 425,
    "start_time": "2023-06-17T09:49:01.753Z"
   },
   {
    "duration": 111,
    "start_time": "2023-06-17T09:49:02.180Z"
   },
   {
    "duration": 73,
    "start_time": "2023-06-17T09:49:02.293Z"
   },
   {
    "duration": 20,
    "start_time": "2023-06-17T09:49:02.369Z"
   },
   {
    "duration": 2293,
    "start_time": "2023-06-17T09:49:02.391Z"
   },
   {
    "duration": 15,
    "start_time": "2023-06-17T09:49:04.686Z"
   },
   {
    "duration": 23,
    "start_time": "2023-06-17T09:49:04.704Z"
   },
   {
    "duration": 31,
    "start_time": "2023-06-17T09:49:04.729Z"
   },
   {
    "duration": 23,
    "start_time": "2023-06-17T09:49:04.762Z"
   },
   {
    "duration": 7,
    "start_time": "2023-06-17T09:49:04.787Z"
   },
   {
    "duration": 16,
    "start_time": "2023-06-17T09:49:04.796Z"
   },
   {
    "duration": 51,
    "start_time": "2023-06-17T09:49:04.813Z"
   },
   {
    "duration": 3,
    "start_time": "2023-06-17T09:49:04.866Z"
   },
   {
    "duration": 451,
    "start_time": "2023-06-17T09:49:04.870Z"
   },
   {
    "duration": 30,
    "start_time": "2023-06-17T09:51:32.418Z"
   },
   {
    "duration": 373,
    "start_time": "2023-06-17T09:51:51.447Z"
   },
   {
    "duration": 90,
    "start_time": "2023-06-17T09:51:51.822Z"
   },
   {
    "duration": 47,
    "start_time": "2023-06-17T09:51:51.914Z"
   },
   {
    "duration": 13,
    "start_time": "2023-06-17T09:51:51.964Z"
   },
   {
    "duration": 2025,
    "start_time": "2023-06-17T09:51:51.979Z"
   },
   {
    "duration": 9,
    "start_time": "2023-06-17T09:51:54.006Z"
   },
   {
    "duration": 11,
    "start_time": "2023-06-17T09:51:54.016Z"
   },
   {
    "duration": 18,
    "start_time": "2023-06-17T09:51:54.028Z"
   },
   {
    "duration": 19,
    "start_time": "2023-06-17T09:51:54.047Z"
   },
   {
    "duration": 10,
    "start_time": "2023-06-17T09:51:54.067Z"
   },
   {
    "duration": 16,
    "start_time": "2023-06-17T09:51:54.079Z"
   },
   {
    "duration": 47,
    "start_time": "2023-06-17T09:51:54.096Z"
   },
   {
    "duration": 2,
    "start_time": "2023-06-17T09:51:54.144Z"
   },
   {
    "duration": 409,
    "start_time": "2023-06-17T09:51:54.148Z"
   },
   {
    "duration": 335,
    "start_time": "2023-06-17T09:53:55.221Z"
   },
   {
    "duration": 20,
    "start_time": "2023-06-17T09:58:50.533Z"
   },
   {
    "duration": 445,
    "start_time": "2023-06-17T10:52:52.976Z"
   },
   {
    "duration": 37,
    "start_time": "2023-06-17T10:52:53.423Z"
   },
   {
    "duration": 13,
    "start_time": "2023-06-17T10:52:53.461Z"
   },
   {
    "duration": 2097,
    "start_time": "2023-06-17T10:52:53.476Z"
   },
   {
    "duration": 10,
    "start_time": "2023-06-17T10:52:55.575Z"
   },
   {
    "duration": 9,
    "start_time": "2023-06-17T10:52:55.587Z"
   },
   {
    "duration": 20,
    "start_time": "2023-06-17T10:52:55.597Z"
   },
   {
    "duration": 21,
    "start_time": "2023-06-17T10:52:55.618Z"
   },
   {
    "duration": 6,
    "start_time": "2023-06-17T10:52:55.640Z"
   },
   {
    "duration": 15,
    "start_time": "2023-06-17T10:52:55.647Z"
   },
   {
    "duration": 59,
    "start_time": "2023-06-17T10:52:55.664Z"
   },
   {
    "duration": 2,
    "start_time": "2023-06-17T10:52:55.725Z"
   },
   {
    "duration": 98,
    "start_time": "2023-06-17T10:52:55.728Z"
   },
   {
    "duration": 0,
    "start_time": "2023-06-17T10:52:55.827Z"
   },
   {
    "duration": 0,
    "start_time": "2023-06-17T10:52:55.828Z"
   },
   {
    "duration": 0,
    "start_time": "2023-06-17T10:52:55.830Z"
   },
   {
    "duration": 0,
    "start_time": "2023-06-17T10:52:55.830Z"
   },
   {
    "duration": 0,
    "start_time": "2023-06-17T10:52:55.831Z"
   },
   {
    "duration": 0,
    "start_time": "2023-06-17T10:52:55.832Z"
   },
   {
    "duration": 465,
    "start_time": "2023-06-17T10:59:39.253Z"
   },
   {
    "duration": 45,
    "start_time": "2023-06-17T10:59:39.720Z"
   },
   {
    "duration": 19,
    "start_time": "2023-06-17T10:59:39.766Z"
   },
   {
    "duration": 2061,
    "start_time": "2023-06-17T10:59:39.787Z"
   },
   {
    "duration": 9,
    "start_time": "2023-06-17T10:59:41.850Z"
   },
   {
    "duration": 7,
    "start_time": "2023-06-17T10:59:41.861Z"
   },
   {
    "duration": 21,
    "start_time": "2023-06-17T10:59:41.870Z"
   },
   {
    "duration": 21,
    "start_time": "2023-06-17T10:59:41.893Z"
   },
   {
    "duration": 6,
    "start_time": "2023-06-17T10:59:41.915Z"
   },
   {
    "duration": 11,
    "start_time": "2023-06-17T10:59:41.931Z"
   },
   {
    "duration": 34,
    "start_time": "2023-06-17T10:59:41.944Z"
   },
   {
    "duration": 2,
    "start_time": "2023-06-17T10:59:41.980Z"
   },
   {
    "duration": 100,
    "start_time": "2023-06-17T10:59:41.984Z"
   },
   {
    "duration": 0,
    "start_time": "2023-06-17T10:59:42.086Z"
   },
   {
    "duration": 0,
    "start_time": "2023-06-17T10:59:42.087Z"
   },
   {
    "duration": 0,
    "start_time": "2023-06-17T10:59:42.088Z"
   },
   {
    "duration": 0,
    "start_time": "2023-06-17T10:59:42.089Z"
   },
   {
    "duration": 0,
    "start_time": "2023-06-17T10:59:42.090Z"
   },
   {
    "duration": 0,
    "start_time": "2023-06-17T10:59:42.091Z"
   },
   {
    "duration": 49,
    "start_time": "2023-06-19T05:01:01.437Z"
   },
   {
    "duration": 9,
    "start_time": "2023-06-19T05:01:18.314Z"
   },
   {
    "duration": 7,
    "start_time": "2023-06-19T05:03:15.799Z"
   },
   {
    "duration": 708,
    "start_time": "2023-06-19T05:03:23.867Z"
   },
   {
    "duration": 35,
    "start_time": "2023-06-19T05:03:24.577Z"
   },
   {
    "duration": 16,
    "start_time": "2023-06-19T05:03:24.614Z"
   },
   {
    "duration": 2331,
    "start_time": "2023-06-19T05:03:24.632Z"
   },
   {
    "duration": 11,
    "start_time": "2023-06-19T05:03:26.965Z"
   },
   {
    "duration": 10,
    "start_time": "2023-06-19T05:03:26.978Z"
   },
   {
    "duration": 20,
    "start_time": "2023-06-19T05:03:26.990Z"
   },
   {
    "duration": 32,
    "start_time": "2023-06-19T05:03:27.011Z"
   },
   {
    "duration": 7,
    "start_time": "2023-06-19T05:03:27.045Z"
   },
   {
    "duration": 17,
    "start_time": "2023-06-19T05:03:27.054Z"
   },
   {
    "duration": 51,
    "start_time": "2023-06-19T05:03:27.073Z"
   },
   {
    "duration": 6,
    "start_time": "2023-06-19T05:03:27.126Z"
   },
   {
    "duration": 111,
    "start_time": "2023-06-19T05:03:27.134Z"
   },
   {
    "duration": 0,
    "start_time": "2023-06-19T05:03:27.247Z"
   },
   {
    "duration": 0,
    "start_time": "2023-06-19T05:03:27.249Z"
   },
   {
    "duration": 0,
    "start_time": "2023-06-19T05:03:27.250Z"
   },
   {
    "duration": 0,
    "start_time": "2023-06-19T05:03:27.251Z"
   },
   {
    "duration": 0,
    "start_time": "2023-06-19T05:03:27.253Z"
   },
   {
    "duration": 0,
    "start_time": "2023-06-19T05:03:27.254Z"
   },
   {
    "duration": 464,
    "start_time": "2023-06-19T05:05:29.497Z"
   },
   {
    "duration": 9,
    "start_time": "2023-06-19T05:05:56.787Z"
   },
   {
    "duration": 4,
    "start_time": "2023-06-19T05:06:19.382Z"
   },
   {
    "duration": 3,
    "start_time": "2023-06-19T05:07:09.127Z"
   },
   {
    "duration": 35,
    "start_time": "2023-06-19T05:07:17.658Z"
   },
   {
    "duration": 7,
    "start_time": "2023-06-19T05:09:03.862Z"
   },
   {
    "duration": 6,
    "start_time": "2023-06-19T05:11:23.007Z"
   },
   {
    "duration": 6,
    "start_time": "2023-06-19T05:11:30.112Z"
   },
   {
    "duration": 6,
    "start_time": "2023-06-19T05:11:48.041Z"
   },
   {
    "duration": 7,
    "start_time": "2023-06-19T05:12:26.755Z"
   },
   {
    "duration": 5,
    "start_time": "2023-06-19T05:12:54.384Z"
   },
   {
    "duration": 7,
    "start_time": "2023-06-19T05:14:15.671Z"
   },
   {
    "duration": 6,
    "start_time": "2023-06-19T05:15:47.647Z"
   },
   {
    "duration": 591,
    "start_time": "2023-06-19T05:15:59.013Z"
   },
   {
    "duration": 11,
    "start_time": "2023-06-19T05:15:59.606Z"
   },
   {
    "duration": 53,
    "start_time": "2023-06-19T05:15:59.621Z"
   },
   {
    "duration": 14,
    "start_time": "2023-06-19T05:15:59.676Z"
   },
   {
    "duration": 5,
    "start_time": "2023-06-19T05:15:59.693Z"
   },
   {
    "duration": 2270,
    "start_time": "2023-06-19T05:15:59.721Z"
   },
   {
    "duration": 9,
    "start_time": "2023-06-19T05:16:01.993Z"
   },
   {
    "duration": 70,
    "start_time": "2023-06-19T05:16:02.003Z"
   },
   {
    "duration": 39,
    "start_time": "2023-06-19T05:16:02.075Z"
   },
   {
    "duration": 43,
    "start_time": "2023-06-19T05:16:02.116Z"
   },
   {
    "duration": 38,
    "start_time": "2023-06-19T05:16:02.161Z"
   },
   {
    "duration": 62,
    "start_time": "2023-06-19T05:16:02.201Z"
   },
   {
    "duration": 54,
    "start_time": "2023-06-19T05:16:02.265Z"
   },
   {
    "duration": 2,
    "start_time": "2023-06-19T05:16:02.325Z"
   },
   {
    "duration": 520,
    "start_time": "2023-06-19T05:16:02.328Z"
   },
   {
    "duration": 7,
    "start_time": "2023-06-19T05:16:02.849Z"
   },
   {
    "duration": 397,
    "start_time": "2023-06-19T05:16:02.858Z"
   },
   {
    "duration": 144,
    "start_time": "2023-06-19T05:16:03.256Z"
   },
   {
    "duration": 3,
    "start_time": "2023-06-19T05:16:03.401Z"
   },
   {
    "duration": 27,
    "start_time": "2023-06-19T05:16:03.405Z"
   },
   {
    "duration": 13,
    "start_time": "2023-06-19T05:16:03.434Z"
   },
   {
    "duration": 13,
    "start_time": "2023-06-19T05:17:27.621Z"
   },
   {
    "duration": 5,
    "start_time": "2023-06-19T05:18:24.711Z"
   },
   {
    "duration": 6,
    "start_time": "2023-06-19T05:18:34.000Z"
   },
   {
    "duration": 6,
    "start_time": "2023-06-19T05:20:23.055Z"
   },
   {
    "duration": 525,
    "start_time": "2023-06-19T05:20:33.196Z"
   },
   {
    "duration": 10,
    "start_time": "2023-06-19T05:20:33.723Z"
   },
   {
    "duration": 45,
    "start_time": "2023-06-19T05:20:33.735Z"
   },
   {
    "duration": 16,
    "start_time": "2023-06-19T05:20:33.781Z"
   },
   {
    "duration": 2068,
    "start_time": "2023-06-19T05:20:33.799Z"
   },
   {
    "duration": 13,
    "start_time": "2023-06-19T05:20:35.869Z"
   },
   {
    "duration": 22,
    "start_time": "2023-06-19T05:20:35.884Z"
   },
   {
    "duration": 28,
    "start_time": "2023-06-19T05:20:35.908Z"
   },
   {
    "duration": 20,
    "start_time": "2023-06-19T05:20:35.938Z"
   },
   {
    "duration": 9,
    "start_time": "2023-06-19T05:20:35.960Z"
   },
   {
    "duration": 21,
    "start_time": "2023-06-19T05:20:35.971Z"
   },
   {
    "duration": 51,
    "start_time": "2023-06-19T05:20:35.994Z"
   },
   {
    "duration": 2,
    "start_time": "2023-06-19T05:20:36.047Z"
   },
   {
    "duration": 443,
    "start_time": "2023-06-19T05:20:36.052Z"
   },
   {
    "duration": 6,
    "start_time": "2023-06-19T05:20:36.497Z"
   },
   {
    "duration": 350,
    "start_time": "2023-06-19T05:20:36.504Z"
   },
   {
    "duration": 143,
    "start_time": "2023-06-19T05:20:36.856Z"
   },
   {
    "duration": 3,
    "start_time": "2023-06-19T05:20:37.001Z"
   },
   {
    "duration": 6,
    "start_time": "2023-06-19T05:20:37.019Z"
   },
   {
    "duration": 14,
    "start_time": "2023-06-19T05:20:37.027Z"
   },
   {
    "duration": 7,
    "start_time": "2023-06-19T05:20:51.542Z"
   },
   {
    "duration": 6,
    "start_time": "2023-06-19T05:20:57.120Z"
   },
   {
    "duration": 6,
    "start_time": "2023-06-19T05:21:06.235Z"
   },
   {
    "duration": 424,
    "start_time": "2023-06-19T05:21:20.779Z"
   },
   {
    "duration": 11,
    "start_time": "2023-06-19T05:21:21.205Z"
   },
   {
    "duration": 48,
    "start_time": "2023-06-19T05:21:21.217Z"
   },
   {
    "duration": 14,
    "start_time": "2023-06-19T05:21:21.267Z"
   },
   {
    "duration": 2076,
    "start_time": "2023-06-19T05:21:21.283Z"
   },
   {
    "duration": 10,
    "start_time": "2023-06-19T05:21:23.361Z"
   },
   {
    "duration": 28,
    "start_time": "2023-06-19T05:21:23.376Z"
   },
   {
    "duration": 22,
    "start_time": "2023-06-19T05:21:23.406Z"
   },
   {
    "duration": 23,
    "start_time": "2023-06-19T05:21:23.430Z"
   },
   {
    "duration": 6,
    "start_time": "2023-06-19T05:21:23.455Z"
   },
   {
    "duration": 16,
    "start_time": "2023-06-19T05:21:23.463Z"
   },
   {
    "duration": 63,
    "start_time": "2023-06-19T05:21:23.480Z"
   },
   {
    "duration": 3,
    "start_time": "2023-06-19T05:21:23.544Z"
   },
   {
    "duration": 458,
    "start_time": "2023-06-19T05:21:23.549Z"
   },
   {
    "duration": 12,
    "start_time": "2023-06-19T05:21:24.009Z"
   },
   {
    "duration": 356,
    "start_time": "2023-06-19T05:21:24.023Z"
   },
   {
    "duration": 150,
    "start_time": "2023-06-19T05:21:24.381Z"
   },
   {
    "duration": 3,
    "start_time": "2023-06-19T05:21:24.533Z"
   },
   {
    "duration": 17,
    "start_time": "2023-06-19T05:21:24.538Z"
   },
   {
    "duration": 10,
    "start_time": "2023-06-19T05:21:24.556Z"
   },
   {
    "duration": 104,
    "start_time": "2023-06-19T05:24:20.382Z"
   },
   {
    "duration": 98,
    "start_time": "2023-06-19T05:24:34.126Z"
   },
   {
    "duration": 127,
    "start_time": "2023-06-19T05:25:58.992Z"
   },
   {
    "duration": 133,
    "start_time": "2023-06-19T05:26:10.577Z"
   },
   {
    "duration": 153,
    "start_time": "2023-06-19T05:26:35.602Z"
   },
   {
    "duration": 133,
    "start_time": "2023-06-19T05:26:51.906Z"
   },
   {
    "duration": 169,
    "start_time": "2023-06-19T05:27:05.432Z"
   },
   {
    "duration": 150,
    "start_time": "2023-06-19T05:27:28.815Z"
   },
   {
    "duration": 192,
    "start_time": "2023-06-19T05:27:36.881Z"
   },
   {
    "duration": 82,
    "start_time": "2023-06-19T05:28:10.496Z"
   },
   {
    "duration": 160,
    "start_time": "2023-06-19T05:28:25.007Z"
   },
   {
    "duration": 162,
    "start_time": "2023-06-19T05:28:55.087Z"
   },
   {
    "duration": 164,
    "start_time": "2023-06-19T05:29:09.217Z"
   },
   {
    "duration": 135,
    "start_time": "2023-06-19T05:29:17.238Z"
   },
   {
    "duration": 127,
    "start_time": "2023-06-19T05:29:48.764Z"
   },
   {
    "duration": 123,
    "start_time": "2023-06-19T05:30:02.474Z"
   },
   {
    "duration": 132,
    "start_time": "2023-06-19T05:30:13.696Z"
   },
   {
    "duration": 139,
    "start_time": "2023-06-19T05:30:30.279Z"
   },
   {
    "duration": 150,
    "start_time": "2023-06-19T05:30:35.927Z"
   },
   {
    "duration": 133,
    "start_time": "2023-06-19T05:30:43.987Z"
   },
   {
    "duration": 218,
    "start_time": "2023-06-19T05:31:14.493Z"
   },
   {
    "duration": 125,
    "start_time": "2023-06-19T05:31:19.661Z"
   },
   {
    "duration": 131,
    "start_time": "2023-06-19T05:31:27.486Z"
   },
   {
    "duration": 130,
    "start_time": "2023-06-19T05:31:48.976Z"
   },
   {
    "duration": 174,
    "start_time": "2023-06-19T05:31:55.271Z"
   },
   {
    "duration": 138,
    "start_time": "2023-06-19T05:32:09.627Z"
   },
   {
    "duration": 141,
    "start_time": "2023-06-19T05:32:41.142Z"
   },
   {
    "duration": 128,
    "start_time": "2023-06-19T05:32:47.316Z"
   },
   {
    "duration": 134,
    "start_time": "2023-06-19T05:32:53.646Z"
   },
   {
    "duration": 141,
    "start_time": "2023-06-19T05:33:13.593Z"
   },
   {
    "duration": 118,
    "start_time": "2023-06-19T05:35:23.486Z"
   },
   {
    "duration": 126,
    "start_time": "2023-06-19T05:35:34.911Z"
   },
   {
    "duration": 128,
    "start_time": "2023-06-19T05:35:41.018Z"
   },
   {
    "duration": 107,
    "start_time": "2023-06-19T05:36:02.568Z"
   },
   {
    "duration": 141,
    "start_time": "2023-06-19T05:36:22.816Z"
   },
   {
    "duration": 252,
    "start_time": "2023-06-19T05:36:37.878Z"
   },
   {
    "duration": 100,
    "start_time": "2023-06-19T05:37:00.310Z"
   },
   {
    "duration": 144,
    "start_time": "2023-06-19T05:37:27.602Z"
   },
   {
    "duration": 134,
    "start_time": "2023-06-19T05:37:44.164Z"
   },
   {
    "duration": 137,
    "start_time": "2023-06-19T05:37:51.493Z"
   },
   {
    "duration": 137,
    "start_time": "2023-06-19T05:38:22.874Z"
   },
   {
    "duration": 160,
    "start_time": "2023-06-19T05:38:30.712Z"
   },
   {
    "duration": 144,
    "start_time": "2023-06-19T05:38:38.016Z"
   },
   {
    "duration": 118,
    "start_time": "2023-06-19T05:38:43.880Z"
   },
   {
    "duration": 114,
    "start_time": "2023-06-19T05:38:52.215Z"
   },
   {
    "duration": 128,
    "start_time": "2023-06-19T05:38:57.435Z"
   },
   {
    "duration": 115,
    "start_time": "2023-06-19T05:40:00.674Z"
   },
   {
    "duration": 121,
    "start_time": "2023-06-19T05:40:08.252Z"
   },
   {
    "duration": 118,
    "start_time": "2023-06-19T05:40:42.687Z"
   },
   {
    "duration": 135,
    "start_time": "2023-06-19T05:41:02.545Z"
   },
   {
    "duration": 123,
    "start_time": "2023-06-19T05:41:30.826Z"
   },
   {
    "duration": 99,
    "start_time": "2023-06-19T05:41:54.389Z"
   },
   {
    "duration": 141,
    "start_time": "2023-06-19T05:42:12.132Z"
   },
   {
    "duration": 140,
    "start_time": "2023-06-19T05:42:29.350Z"
   },
   {
    "duration": 126,
    "start_time": "2023-06-19T05:42:38.452Z"
   },
   {
    "duration": 297,
    "start_time": "2023-06-19T05:42:52.469Z"
   },
   {
    "duration": 8,
    "start_time": "2023-06-19T05:43:35.171Z"
   },
   {
    "duration": 598,
    "start_time": "2023-06-19T05:43:56.643Z"
   },
   {
    "duration": 17,
    "start_time": "2023-06-19T05:43:57.244Z"
   },
   {
    "duration": 77,
    "start_time": "2023-06-19T05:43:57.263Z"
   },
   {
    "duration": 23,
    "start_time": "2023-06-19T05:43:57.342Z"
   },
   {
    "duration": 2199,
    "start_time": "2023-06-19T05:43:57.368Z"
   },
   {
    "duration": 10,
    "start_time": "2023-06-19T05:43:59.569Z"
   },
   {
    "duration": 10,
    "start_time": "2023-06-19T05:43:59.581Z"
   },
   {
    "duration": 27,
    "start_time": "2023-06-19T05:43:59.592Z"
   },
   {
    "duration": 33,
    "start_time": "2023-06-19T05:43:59.621Z"
   },
   {
    "duration": 9,
    "start_time": "2023-06-19T05:43:59.657Z"
   },
   {
    "duration": 23,
    "start_time": "2023-06-19T05:43:59.668Z"
   },
   {
    "duration": 67,
    "start_time": "2023-06-19T05:43:59.693Z"
   },
   {
    "duration": 2,
    "start_time": "2023-06-19T05:43:59.762Z"
   },
   {
    "duration": 526,
    "start_time": "2023-06-19T05:43:59.768Z"
   },
   {
    "duration": 4,
    "start_time": "2023-06-19T05:44:00.296Z"
   },
   {
    "duration": 212,
    "start_time": "2023-06-19T05:44:00.301Z"
   },
   {
    "duration": 153,
    "start_time": "2023-06-19T05:44:00.515Z"
   },
   {
    "duration": 156,
    "start_time": "2023-06-19T05:44:00.669Z"
   },
   {
    "duration": 153,
    "start_time": "2023-06-19T05:44:00.827Z"
   },
   {
    "duration": 178,
    "start_time": "2023-06-19T05:44:00.981Z"
   },
   {
    "duration": 228,
    "start_time": "2023-06-19T05:44:01.161Z"
   },
   {
    "duration": 153,
    "start_time": "2023-06-19T05:44:01.391Z"
   },
   {
    "duration": 181,
    "start_time": "2023-06-19T05:44:01.546Z"
   },
   {
    "duration": 178,
    "start_time": "2023-06-19T05:44:01.729Z"
   },
   {
    "duration": 224,
    "start_time": "2023-06-19T05:44:01.910Z"
   },
   {
    "duration": 337,
    "start_time": "2023-06-19T05:44:02.136Z"
   },
   {
    "duration": 217,
    "start_time": "2023-06-19T05:44:02.474Z"
   },
   {
    "duration": 151,
    "start_time": "2023-06-19T05:44:02.693Z"
   },
   {
    "duration": 158,
    "start_time": "2023-06-19T05:44:02.846Z"
   },
   {
    "duration": 156,
    "start_time": "2023-06-19T05:44:03.006Z"
   },
   {
    "duration": 5,
    "start_time": "2023-06-19T05:44:03.163Z"
   },
   {
    "duration": 68,
    "start_time": "2023-06-19T05:44:03.169Z"
   },
   {
    "duration": 50,
    "start_time": "2023-06-19T05:44:03.239Z"
   },
   {
    "duration": 43,
    "start_time": "2023-06-20T04:04:13.751Z"
   },
   {
    "duration": 688,
    "start_time": "2023-06-20T04:04:40.911Z"
   },
   {
    "duration": 11,
    "start_time": "2023-06-20T04:04:41.601Z"
   },
   {
    "duration": 44,
    "start_time": "2023-06-20T04:04:41.613Z"
   },
   {
    "duration": 15,
    "start_time": "2023-06-20T04:04:41.659Z"
   },
   {
    "duration": 2210,
    "start_time": "2023-06-20T04:04:41.676Z"
   },
   {
    "duration": 7,
    "start_time": "2023-06-20T04:04:43.888Z"
   },
   {
    "duration": 27,
    "start_time": "2023-06-20T04:04:43.897Z"
   },
   {
    "duration": 32,
    "start_time": "2023-06-20T04:04:43.926Z"
   },
   {
    "duration": 19,
    "start_time": "2023-06-20T04:04:43.959Z"
   },
   {
    "duration": 46,
    "start_time": "2023-06-20T04:04:43.980Z"
   },
   {
    "duration": 33,
    "start_time": "2023-06-20T04:04:44.027Z"
   },
   {
    "duration": 33,
    "start_time": "2023-06-20T04:04:44.061Z"
   },
   {
    "duration": 16,
    "start_time": "2023-06-20T04:04:44.096Z"
   },
   {
    "duration": 442,
    "start_time": "2023-06-20T04:04:44.114Z"
   },
   {
    "duration": 4,
    "start_time": "2023-06-20T04:04:44.558Z"
   },
   {
    "duration": 122,
    "start_time": "2023-06-20T04:04:44.563Z"
   },
   {
    "duration": 129,
    "start_time": "2023-06-20T04:04:44.686Z"
   },
   {
    "duration": 131,
    "start_time": "2023-06-20T04:04:44.816Z"
   },
   {
    "duration": 119,
    "start_time": "2023-06-20T04:04:44.948Z"
   },
   {
    "duration": 117,
    "start_time": "2023-06-20T04:04:45.069Z"
   },
   {
    "duration": 166,
    "start_time": "2023-06-20T04:04:45.187Z"
   },
   {
    "duration": 150,
    "start_time": "2023-06-20T04:04:45.355Z"
   },
   {
    "duration": 119,
    "start_time": "2023-06-20T04:04:45.507Z"
   },
   {
    "duration": 139,
    "start_time": "2023-06-20T04:04:45.627Z"
   },
   {
    "duration": 134,
    "start_time": "2023-06-20T04:04:45.768Z"
   },
   {
    "duration": 138,
    "start_time": "2023-06-20T04:04:45.904Z"
   },
   {
    "duration": 135,
    "start_time": "2023-06-20T04:04:46.044Z"
   },
   {
    "duration": 134,
    "start_time": "2023-06-20T04:04:46.182Z"
   },
   {
    "duration": 187,
    "start_time": "2023-06-20T04:04:46.317Z"
   },
   {
    "duration": 141,
    "start_time": "2023-06-20T04:04:46.506Z"
   },
   {
    "duration": 2,
    "start_time": "2023-06-20T04:04:46.649Z"
   },
   {
    "duration": 11,
    "start_time": "2023-06-20T04:04:46.652Z"
   },
   {
    "duration": 9,
    "start_time": "2023-06-20T04:04:46.664Z"
   },
   {
    "duration": 9,
    "start_time": "2023-06-20T04:07:53.039Z"
   },
   {
    "duration": 8,
    "start_time": "2023-06-20T04:07:56.374Z"
   },
   {
    "duration": 8,
    "start_time": "2023-06-20T04:07:59.374Z"
   },
   {
    "duration": 8,
    "start_time": "2023-06-20T04:08:03.172Z"
   },
   {
    "duration": 5,
    "start_time": "2023-06-20T04:16:14.925Z"
   },
   {
    "duration": 5,
    "start_time": "2023-06-20T04:16:58.810Z"
   },
   {
    "duration": 8,
    "start_time": "2023-06-20T04:17:56.418Z"
   },
   {
    "duration": 5,
    "start_time": "2023-06-20T04:18:12.240Z"
   },
   {
    "duration": 7,
    "start_time": "2023-06-20T05:10:24.372Z"
   },
   {
    "duration": 523,
    "start_time": "2023-06-20T05:54:10.237Z"
   },
   {
    "duration": 10,
    "start_time": "2023-06-20T05:54:10.764Z"
   },
   {
    "duration": 48,
    "start_time": "2023-06-20T05:54:10.776Z"
   },
   {
    "duration": 22,
    "start_time": "2023-06-20T05:54:10.826Z"
   },
   {
    "duration": 1948,
    "start_time": "2023-06-20T05:54:10.850Z"
   },
   {
    "duration": 11,
    "start_time": "2023-06-20T05:54:12.805Z"
   },
   {
    "duration": 49,
    "start_time": "2023-06-20T05:54:12.818Z"
   },
   {
    "duration": 62,
    "start_time": "2023-06-20T05:54:12.869Z"
   },
   {
    "duration": 36,
    "start_time": "2023-06-20T05:54:12.933Z"
   },
   {
    "duration": 6,
    "start_time": "2023-06-20T05:54:12.971Z"
   },
   {
    "duration": 71,
    "start_time": "2023-06-20T05:54:12.979Z"
   },
   {
    "duration": 68,
    "start_time": "2023-06-20T05:54:13.052Z"
   },
   {
    "duration": 47,
    "start_time": "2023-06-20T05:54:13.122Z"
   },
   {
    "duration": 63,
    "start_time": "2023-06-20T05:54:13.170Z"
   },
   {
    "duration": 26,
    "start_time": "2023-06-20T05:54:13.235Z"
   },
   {
    "duration": 31,
    "start_time": "2023-06-20T05:54:13.263Z"
   },
   {
    "duration": 58,
    "start_time": "2023-06-20T05:54:13.296Z"
   },
   {
    "duration": 188,
    "start_time": "2023-06-20T05:54:13.355Z"
   },
   {
    "duration": 516,
    "start_time": "2023-06-20T05:54:13.544Z"
   },
   {
    "duration": 3,
    "start_time": "2023-06-20T05:54:14.062Z"
   },
   {
    "duration": 142,
    "start_time": "2023-06-20T05:54:14.066Z"
   },
   {
    "duration": 139,
    "start_time": "2023-06-20T05:54:14.209Z"
   },
   {
    "duration": 159,
    "start_time": "2023-06-20T05:54:14.350Z"
   },
   {
    "duration": 128,
    "start_time": "2023-06-20T05:54:14.511Z"
   },
   {
    "duration": 126,
    "start_time": "2023-06-20T05:54:14.641Z"
   },
   {
    "duration": 158,
    "start_time": "2023-06-20T05:54:14.769Z"
   },
   {
    "duration": 141,
    "start_time": "2023-06-20T05:54:14.933Z"
   },
   {
    "duration": 138,
    "start_time": "2023-06-20T05:54:15.077Z"
   },
   {
    "duration": 134,
    "start_time": "2023-06-20T05:54:15.226Z"
   },
   {
    "duration": 129,
    "start_time": "2023-06-20T05:54:15.361Z"
   },
   {
    "duration": 99,
    "start_time": "2023-06-20T05:54:15.491Z"
   },
   {
    "duration": 151,
    "start_time": "2023-06-20T05:54:15.591Z"
   },
   {
    "duration": 119,
    "start_time": "2023-06-20T05:54:15.744Z"
   },
   {
    "duration": 231,
    "start_time": "2023-06-20T05:54:15.865Z"
   },
   {
    "duration": 170,
    "start_time": "2023-06-20T05:54:16.098Z"
   },
   {
    "duration": 3,
    "start_time": "2023-06-20T05:54:16.270Z"
   },
   {
    "duration": 14,
    "start_time": "2023-06-20T05:54:16.274Z"
   },
   {
    "duration": 47,
    "start_time": "2023-06-20T05:54:16.289Z"
   },
   {
    "duration": 120,
    "start_time": "2023-06-20T05:56:39.342Z"
   },
   {
    "duration": 152,
    "start_time": "2023-06-20T06:00:13.282Z"
   },
   {
    "duration": 172,
    "start_time": "2023-06-20T06:01:11.879Z"
   },
   {
    "duration": 5,
    "start_time": "2023-06-20T06:05:25.638Z"
   },
   {
    "duration": 25,
    "start_time": "2023-06-20T06:05:40.096Z"
   },
   {
    "duration": 5,
    "start_time": "2023-06-20T06:05:43.926Z"
   },
   {
    "duration": 51,
    "start_time": "2023-06-20T06:09:40.891Z"
   },
   {
    "duration": 8,
    "start_time": "2023-06-20T06:13:51.877Z"
   },
   {
    "duration": 8,
    "start_time": "2023-06-20T06:13:54.487Z"
   },
   {
    "duration": 434,
    "start_time": "2023-06-20T06:14:06.224Z"
   },
   {
    "duration": 10,
    "start_time": "2023-06-20T06:14:06.660Z"
   },
   {
    "duration": 54,
    "start_time": "2023-06-20T06:14:06.672Z"
   },
   {
    "duration": 13,
    "start_time": "2023-06-20T06:14:06.727Z"
   },
   {
    "duration": 1892,
    "start_time": "2023-06-20T06:14:06.742Z"
   },
   {
    "duration": 8,
    "start_time": "2023-06-20T06:14:08.636Z"
   },
   {
    "duration": 16,
    "start_time": "2023-06-20T06:14:08.645Z"
   },
   {
    "duration": 17,
    "start_time": "2023-06-20T06:14:08.662Z"
   },
   {
    "duration": 17,
    "start_time": "2023-06-20T06:14:08.680Z"
   },
   {
    "duration": 39,
    "start_time": "2023-06-20T06:14:08.698Z"
   },
   {
    "duration": 27,
    "start_time": "2023-06-20T06:14:08.739Z"
   },
   {
    "duration": 38,
    "start_time": "2023-06-20T06:14:08.767Z"
   },
   {
    "duration": 17,
    "start_time": "2023-06-20T06:14:08.806Z"
   },
   {
    "duration": 44,
    "start_time": "2023-06-20T06:14:08.826Z"
   },
   {
    "duration": 11,
    "start_time": "2023-06-20T06:14:08.872Z"
   },
   {
    "duration": 146,
    "start_time": "2023-06-20T06:14:08.884Z"
   },
   {
    "duration": 7,
    "start_time": "2023-06-20T06:14:09.032Z"
   },
   {
    "duration": 14,
    "start_time": "2023-06-20T06:14:09.040Z"
   },
   {
    "duration": 12,
    "start_time": "2023-06-20T06:14:09.055Z"
   },
   {
    "duration": 161,
    "start_time": "2023-06-20T06:14:09.068Z"
   },
   {
    "duration": 8,
    "start_time": "2023-06-20T06:14:09.231Z"
   },
   {
    "duration": 480,
    "start_time": "2023-06-20T06:14:09.240Z"
   },
   {
    "duration": 5,
    "start_time": "2023-06-20T06:14:09.725Z"
   },
   {
    "duration": 138,
    "start_time": "2023-06-20T06:14:09.732Z"
   },
   {
    "duration": 137,
    "start_time": "2023-06-20T06:14:09.872Z"
   },
   {
    "duration": 141,
    "start_time": "2023-06-20T06:14:10.010Z"
   },
   {
    "duration": 114,
    "start_time": "2023-06-20T06:14:10.153Z"
   },
   {
    "duration": 126,
    "start_time": "2023-06-20T06:14:10.269Z"
   },
   {
    "duration": 152,
    "start_time": "2023-06-20T06:14:10.396Z"
   },
   {
    "duration": 124,
    "start_time": "2023-06-20T06:14:10.549Z"
   },
   {
    "duration": 107,
    "start_time": "2023-06-20T06:14:10.675Z"
   },
   {
    "duration": 143,
    "start_time": "2023-06-20T06:14:10.783Z"
   },
   {
    "duration": 116,
    "start_time": "2023-06-20T06:14:10.927Z"
   },
   {
    "duration": 105,
    "start_time": "2023-06-20T06:14:11.044Z"
   },
   {
    "duration": 194,
    "start_time": "2023-06-20T06:14:11.150Z"
   },
   {
    "duration": 119,
    "start_time": "2023-06-20T06:14:11.346Z"
   },
   {
    "duration": 137,
    "start_time": "2023-06-20T06:14:11.466Z"
   },
   {
    "duration": 122,
    "start_time": "2023-06-20T06:14:11.605Z"
   },
   {
    "duration": 4,
    "start_time": "2023-06-20T06:14:11.729Z"
   },
   {
    "duration": 11,
    "start_time": "2023-06-20T06:14:11.734Z"
   },
   {
    "duration": 86,
    "start_time": "2023-06-20T06:14:11.748Z"
   },
   {
    "duration": 0,
    "start_time": "2023-06-20T06:14:11.836Z"
   },
   {
    "duration": 0,
    "start_time": "2023-06-20T06:14:11.837Z"
   },
   {
    "duration": 0,
    "start_time": "2023-06-20T06:14:11.838Z"
   },
   {
    "duration": 9,
    "start_time": "2023-06-20T06:15:44.126Z"
   },
   {
    "duration": 462,
    "start_time": "2023-06-20T06:15:53.867Z"
   },
   {
    "duration": 10,
    "start_time": "2023-06-20T06:15:54.331Z"
   },
   {
    "duration": 54,
    "start_time": "2023-06-20T06:15:54.343Z"
   },
   {
    "duration": 46,
    "start_time": "2023-06-20T06:15:54.398Z"
   },
   {
    "duration": 2123,
    "start_time": "2023-06-20T06:15:54.447Z"
   },
   {
    "duration": 10,
    "start_time": "2023-06-20T06:15:56.572Z"
   },
   {
    "duration": 52,
    "start_time": "2023-06-20T06:15:56.583Z"
   },
   {
    "duration": 22,
    "start_time": "2023-06-20T06:15:56.636Z"
   },
   {
    "duration": 61,
    "start_time": "2023-06-20T06:15:56.659Z"
   },
   {
    "duration": 108,
    "start_time": "2023-06-20T06:15:56.722Z"
   },
   {
    "duration": 63,
    "start_time": "2023-06-20T06:15:56.831Z"
   },
   {
    "duration": 76,
    "start_time": "2023-06-20T06:15:56.895Z"
   },
   {
    "duration": 63,
    "start_time": "2023-06-20T06:15:56.972Z"
   },
   {
    "duration": 46,
    "start_time": "2023-06-20T06:15:57.038Z"
   },
   {
    "duration": 45,
    "start_time": "2023-06-20T06:15:57.085Z"
   },
   {
    "duration": 135,
    "start_time": "2023-06-20T06:15:57.132Z"
   },
   {
    "duration": 7,
    "start_time": "2023-06-20T06:15:57.269Z"
   },
   {
    "duration": 105,
    "start_time": "2023-06-20T06:15:57.278Z"
   },
   {
    "duration": 63,
    "start_time": "2023-06-20T06:15:57.385Z"
   },
   {
    "duration": 161,
    "start_time": "2023-06-20T06:15:57.450Z"
   },
   {
    "duration": 9,
    "start_time": "2023-06-20T06:15:57.621Z"
   },
   {
    "duration": 497,
    "start_time": "2023-06-20T06:15:57.632Z"
   },
   {
    "duration": 4,
    "start_time": "2023-06-20T06:15:58.131Z"
   },
   {
    "duration": 195,
    "start_time": "2023-06-20T06:15:58.136Z"
   },
   {
    "duration": 132,
    "start_time": "2023-06-20T06:15:58.332Z"
   },
   {
    "duration": 140,
    "start_time": "2023-06-20T06:15:58.465Z"
   },
   {
    "duration": 126,
    "start_time": "2023-06-20T06:15:58.606Z"
   },
   {
    "duration": 126,
    "start_time": "2023-06-20T06:15:58.734Z"
   },
   {
    "duration": 152,
    "start_time": "2023-06-20T06:15:58.862Z"
   },
   {
    "duration": 132,
    "start_time": "2023-06-20T06:15:59.026Z"
   },
   {
    "duration": 117,
    "start_time": "2023-06-20T06:15:59.160Z"
   },
   {
    "duration": 128,
    "start_time": "2023-06-20T06:15:59.279Z"
   },
   {
    "duration": 126,
    "start_time": "2023-06-20T06:15:59.409Z"
   },
   {
    "duration": 109,
    "start_time": "2023-06-20T06:15:59.537Z"
   },
   {
    "duration": 204,
    "start_time": "2023-06-20T06:15:59.648Z"
   },
   {
    "duration": 131,
    "start_time": "2023-06-20T06:15:59.854Z"
   },
   {
    "duration": 143,
    "start_time": "2023-06-20T06:15:59.986Z"
   },
   {
    "duration": 129,
    "start_time": "2023-06-20T06:16:00.130Z"
   },
   {
    "duration": 4,
    "start_time": "2023-06-20T06:16:00.260Z"
   },
   {
    "duration": 160,
    "start_time": "2023-06-20T06:16:00.266Z"
   },
   {
    "duration": 197,
    "start_time": "2023-06-20T06:16:00.430Z"
   },
   {
    "duration": 0,
    "start_time": "2023-06-20T06:16:00.628Z"
   },
   {
    "duration": 0,
    "start_time": "2023-06-20T06:16:00.630Z"
   },
   {
    "duration": 0,
    "start_time": "2023-06-20T06:16:00.631Z"
   },
   {
    "duration": 494,
    "start_time": "2023-06-20T06:17:17.131Z"
   },
   {
    "duration": 14,
    "start_time": "2023-06-20T06:17:17.631Z"
   },
   {
    "duration": 86,
    "start_time": "2023-06-20T06:17:17.646Z"
   },
   {
    "duration": 14,
    "start_time": "2023-06-20T06:17:17.734Z"
   },
   {
    "duration": 1975,
    "start_time": "2023-06-20T06:17:17.750Z"
   },
   {
    "duration": 13,
    "start_time": "2023-06-20T06:17:19.729Z"
   },
   {
    "duration": 13,
    "start_time": "2023-06-20T06:17:19.744Z"
   },
   {
    "duration": 23,
    "start_time": "2023-06-20T06:17:19.759Z"
   },
   {
    "duration": 26,
    "start_time": "2023-06-20T06:17:19.783Z"
   },
   {
    "duration": 28,
    "start_time": "2023-06-20T06:17:19.818Z"
   },
   {
    "duration": 24,
    "start_time": "2023-06-20T06:17:19.848Z"
   },
   {
    "duration": 53,
    "start_time": "2023-06-20T06:17:19.874Z"
   },
   {
    "duration": 12,
    "start_time": "2023-06-20T06:17:19.928Z"
   },
   {
    "duration": 37,
    "start_time": "2023-06-20T06:17:19.943Z"
   },
   {
    "duration": 69,
    "start_time": "2023-06-20T06:17:19.981Z"
   },
   {
    "duration": 181,
    "start_time": "2023-06-20T06:17:20.051Z"
   },
   {
    "duration": 7,
    "start_time": "2023-06-20T06:17:20.234Z"
   },
   {
    "duration": 77,
    "start_time": "2023-06-20T06:17:20.242Z"
   },
   {
    "duration": 17,
    "start_time": "2023-06-20T06:17:20.329Z"
   },
   {
    "duration": 127,
    "start_time": "2023-06-20T06:17:20.347Z"
   },
   {
    "duration": 6,
    "start_time": "2023-06-20T06:17:20.476Z"
   },
   {
    "duration": 546,
    "start_time": "2023-06-20T06:17:20.483Z"
   },
   {
    "duration": 8,
    "start_time": "2023-06-20T06:17:21.030Z"
   },
   {
    "duration": 224,
    "start_time": "2023-06-20T06:17:21.039Z"
   },
   {
    "duration": 125,
    "start_time": "2023-06-20T06:17:21.264Z"
   },
   {
    "duration": 144,
    "start_time": "2023-06-20T06:17:21.391Z"
   },
   {
    "duration": 125,
    "start_time": "2023-06-20T06:17:21.537Z"
   },
   {
    "duration": 126,
    "start_time": "2023-06-20T06:17:21.665Z"
   },
   {
    "duration": 156,
    "start_time": "2023-06-20T06:17:21.793Z"
   },
   {
    "duration": 141,
    "start_time": "2023-06-20T06:17:21.950Z"
   },
   {
    "duration": 126,
    "start_time": "2023-06-20T06:17:22.092Z"
   },
   {
    "duration": 130,
    "start_time": "2023-06-20T06:17:22.221Z"
   },
   {
    "duration": 123,
    "start_time": "2023-06-20T06:17:22.353Z"
   },
   {
    "duration": 117,
    "start_time": "2023-06-20T06:17:22.478Z"
   },
   {
    "duration": 208,
    "start_time": "2023-06-20T06:17:22.597Z"
   },
   {
    "duration": 120,
    "start_time": "2023-06-20T06:17:22.806Z"
   },
   {
    "duration": 142,
    "start_time": "2023-06-20T06:17:22.927Z"
   },
   {
    "duration": 145,
    "start_time": "2023-06-20T06:17:23.071Z"
   },
   {
    "duration": 7,
    "start_time": "2023-06-20T06:17:23.221Z"
   },
   {
    "duration": 21,
    "start_time": "2023-06-20T06:17:23.231Z"
   },
   {
    "duration": 116,
    "start_time": "2023-06-20T06:17:23.254Z"
   },
   {
    "duration": 0,
    "start_time": "2023-06-20T06:17:23.371Z"
   },
   {
    "duration": 0,
    "start_time": "2023-06-20T06:17:23.372Z"
   },
   {
    "duration": 0,
    "start_time": "2023-06-20T06:17:23.373Z"
   },
   {
    "duration": 8,
    "start_time": "2023-06-20T06:18:41.151Z"
   },
   {
    "duration": 517,
    "start_time": "2023-06-20T06:19:15.712Z"
   },
   {
    "duration": 12,
    "start_time": "2023-06-20T06:19:16.232Z"
   },
   {
    "duration": 138,
    "start_time": "2023-06-20T06:19:16.246Z"
   },
   {
    "duration": 43,
    "start_time": "2023-06-20T06:19:16.386Z"
   },
   {
    "duration": 2123,
    "start_time": "2023-06-20T06:19:16.431Z"
   },
   {
    "duration": 8,
    "start_time": "2023-06-20T06:19:18.556Z"
   },
   {
    "duration": 44,
    "start_time": "2023-06-20T06:19:18.566Z"
   },
   {
    "duration": 46,
    "start_time": "2023-06-20T06:19:18.612Z"
   },
   {
    "duration": 47,
    "start_time": "2023-06-20T06:19:18.660Z"
   },
   {
    "duration": 64,
    "start_time": "2023-06-20T06:19:18.710Z"
   },
   {
    "duration": 80,
    "start_time": "2023-06-20T06:19:18.775Z"
   },
   {
    "duration": 59,
    "start_time": "2023-06-20T06:19:18.856Z"
   },
   {
    "duration": 34,
    "start_time": "2023-06-20T06:19:18.917Z"
   },
   {
    "duration": 102,
    "start_time": "2023-06-20T06:19:18.952Z"
   },
   {
    "duration": 20,
    "start_time": "2023-06-20T06:19:19.056Z"
   },
   {
    "duration": 163,
    "start_time": "2023-06-20T06:19:19.078Z"
   },
   {
    "duration": 6,
    "start_time": "2023-06-20T06:19:19.242Z"
   },
   {
    "duration": 22,
    "start_time": "2023-06-20T06:19:19.249Z"
   },
   {
    "duration": 22,
    "start_time": "2023-06-20T06:19:19.273Z"
   },
   {
    "duration": 126,
    "start_time": "2023-06-20T06:19:19.296Z"
   },
   {
    "duration": 6,
    "start_time": "2023-06-20T06:19:19.424Z"
   },
   {
    "duration": 593,
    "start_time": "2023-06-20T06:19:19.431Z"
   },
   {
    "duration": 4,
    "start_time": "2023-06-20T06:19:20.026Z"
   },
   {
    "duration": 153,
    "start_time": "2023-06-20T06:19:20.034Z"
   },
   {
    "duration": 139,
    "start_time": "2023-06-20T06:19:20.189Z"
   },
   {
    "duration": 140,
    "start_time": "2023-06-20T06:19:20.330Z"
   },
   {
    "duration": 129,
    "start_time": "2023-06-20T06:19:20.472Z"
   },
   {
    "duration": 126,
    "start_time": "2023-06-20T06:19:20.605Z"
   },
   {
    "duration": 179,
    "start_time": "2023-06-20T06:19:20.732Z"
   },
   {
    "duration": 120,
    "start_time": "2023-06-20T06:19:20.914Z"
   },
   {
    "duration": 111,
    "start_time": "2023-06-20T06:19:21.035Z"
   },
   {
    "duration": 129,
    "start_time": "2023-06-20T06:19:21.147Z"
   },
   {
    "duration": 136,
    "start_time": "2023-06-20T06:19:21.277Z"
   },
   {
    "duration": 93,
    "start_time": "2023-06-20T06:19:21.416Z"
   },
   {
    "duration": 204,
    "start_time": "2023-06-20T06:19:21.511Z"
   },
   {
    "duration": 114,
    "start_time": "2023-06-20T06:19:21.716Z"
   },
   {
    "duration": 120,
    "start_time": "2023-06-20T06:19:21.832Z"
   },
   {
    "duration": 130,
    "start_time": "2023-06-20T06:19:21.954Z"
   },
   {
    "duration": 4,
    "start_time": "2023-06-20T06:19:22.086Z"
   },
   {
    "duration": 28,
    "start_time": "2023-06-20T06:19:22.091Z"
   },
   {
    "duration": 98,
    "start_time": "2023-06-20T06:19:22.120Z"
   },
   {
    "duration": 0,
    "start_time": "2023-06-20T06:19:22.220Z"
   },
   {
    "duration": 0,
    "start_time": "2023-06-20T06:19:22.221Z"
   },
   {
    "duration": 0,
    "start_time": "2023-06-20T06:19:22.222Z"
   },
   {
    "duration": 513,
    "start_time": "2023-06-20T06:22:49.781Z"
   },
   {
    "duration": 21,
    "start_time": "2023-06-20T06:22:50.295Z"
   },
   {
    "duration": 65,
    "start_time": "2023-06-20T06:22:50.317Z"
   },
   {
    "duration": 27,
    "start_time": "2023-06-20T06:22:50.384Z"
   },
   {
    "duration": 2153,
    "start_time": "2023-06-20T06:22:50.413Z"
   },
   {
    "duration": 10,
    "start_time": "2023-06-20T06:22:52.568Z"
   },
   {
    "duration": 49,
    "start_time": "2023-06-20T06:22:52.580Z"
   },
   {
    "duration": 48,
    "start_time": "2023-06-20T06:22:52.631Z"
   },
   {
    "duration": 28,
    "start_time": "2023-06-20T06:22:52.681Z"
   },
   {
    "duration": 66,
    "start_time": "2023-06-20T06:22:52.715Z"
   },
   {
    "duration": 42,
    "start_time": "2023-06-20T06:22:52.783Z"
   },
   {
    "duration": 90,
    "start_time": "2023-06-20T06:22:52.826Z"
   },
   {
    "duration": 145,
    "start_time": "2023-06-20T06:22:52.918Z"
   },
   {
    "duration": 73,
    "start_time": "2023-06-20T06:22:53.066Z"
   },
   {
    "duration": 17,
    "start_time": "2023-06-20T06:22:53.140Z"
   },
   {
    "duration": 141,
    "start_time": "2023-06-20T06:22:53.158Z"
   },
   {
    "duration": 17,
    "start_time": "2023-06-20T06:22:53.300Z"
   },
   {
    "duration": 39,
    "start_time": "2023-06-20T06:22:53.319Z"
   },
   {
    "duration": 24,
    "start_time": "2023-06-20T06:22:53.359Z"
   },
   {
    "duration": 151,
    "start_time": "2023-06-20T06:22:53.384Z"
   },
   {
    "duration": 7,
    "start_time": "2023-06-20T06:22:53.536Z"
   },
   {
    "duration": 473,
    "start_time": "2023-06-20T06:22:53.544Z"
   },
   {
    "duration": 3,
    "start_time": "2023-06-20T06:22:54.018Z"
   },
   {
    "duration": 225,
    "start_time": "2023-06-20T06:22:54.023Z"
   },
   {
    "duration": 121,
    "start_time": "2023-06-20T06:22:54.250Z"
   },
   {
    "duration": 142,
    "start_time": "2023-06-20T06:22:54.372Z"
   },
   {
    "duration": 140,
    "start_time": "2023-06-20T06:22:54.516Z"
   },
   {
    "duration": 123,
    "start_time": "2023-06-20T06:22:54.657Z"
   },
   {
    "duration": 158,
    "start_time": "2023-06-20T06:22:54.781Z"
   },
   {
    "duration": 129,
    "start_time": "2023-06-20T06:22:54.940Z"
   },
   {
    "duration": 110,
    "start_time": "2023-06-20T06:22:55.071Z"
   },
   {
    "duration": 133,
    "start_time": "2023-06-20T06:22:55.182Z"
   },
   {
    "duration": 132,
    "start_time": "2023-06-20T06:22:55.316Z"
   },
   {
    "duration": 122,
    "start_time": "2023-06-20T06:22:55.450Z"
   },
   {
    "duration": 205,
    "start_time": "2023-06-20T06:22:55.574Z"
   },
   {
    "duration": 131,
    "start_time": "2023-06-20T06:22:55.780Z"
   },
   {
    "duration": 143,
    "start_time": "2023-06-20T06:22:55.915Z"
   },
   {
    "duration": 173,
    "start_time": "2023-06-20T06:22:56.059Z"
   },
   {
    "duration": 4,
    "start_time": "2023-06-20T06:22:56.233Z"
   },
   {
    "duration": 15,
    "start_time": "2023-06-20T06:22:56.239Z"
   },
   {
    "duration": 21,
    "start_time": "2023-06-20T06:22:56.257Z"
   },
   {
    "duration": 13,
    "start_time": "2023-06-20T06:22:56.279Z"
   },
   {
    "duration": 56,
    "start_time": "2023-06-20T06:22:56.293Z"
   },
   {
    "duration": 8,
    "start_time": "2023-06-20T06:22:56.351Z"
   },
   {
    "duration": 38,
    "start_time": "2023-06-20T06:22:56.360Z"
   },
   {
    "duration": 4,
    "start_time": "2023-06-20T06:33:37.702Z"
   },
   {
    "duration": 18,
    "start_time": "2023-06-20T06:33:56.190Z"
   },
   {
    "duration": 25,
    "start_time": "2023-06-20T06:34:06.340Z"
   },
   {
    "duration": 43,
    "start_time": "2023-06-20T08:44:48.419Z"
   },
   {
    "duration": 108,
    "start_time": "2023-06-20T08:45:05.977Z"
   },
   {
    "duration": 1189,
    "start_time": "2023-06-20T08:45:18.036Z"
   },
   {
    "duration": 9,
    "start_time": "2023-06-20T08:45:19.227Z"
   },
   {
    "duration": 80,
    "start_time": "2023-06-20T08:45:19.238Z"
   },
   {
    "duration": 24,
    "start_time": "2023-06-20T08:45:19.320Z"
   },
   {
    "duration": 2045,
    "start_time": "2023-06-20T08:45:19.345Z"
   },
   {
    "duration": 25,
    "start_time": "2023-06-20T08:45:21.392Z"
   },
   {
    "duration": 45,
    "start_time": "2023-06-20T08:45:21.419Z"
   },
   {
    "duration": 23,
    "start_time": "2023-06-20T08:45:21.466Z"
   },
   {
    "duration": 34,
    "start_time": "2023-06-20T08:45:21.491Z"
   },
   {
    "duration": 17,
    "start_time": "2023-06-20T08:45:21.528Z"
   },
   {
    "duration": 17,
    "start_time": "2023-06-20T08:45:21.547Z"
   },
   {
    "duration": 28,
    "start_time": "2023-06-20T08:45:21.565Z"
   },
   {
    "duration": 23,
    "start_time": "2023-06-20T08:45:21.595Z"
   },
   {
    "duration": 14,
    "start_time": "2023-06-20T08:45:21.619Z"
   },
   {
    "duration": 10,
    "start_time": "2023-06-20T08:45:21.634Z"
   },
   {
    "duration": 144,
    "start_time": "2023-06-20T08:45:21.645Z"
   },
   {
    "duration": 8,
    "start_time": "2023-06-20T08:45:21.791Z"
   },
   {
    "duration": 52,
    "start_time": "2023-06-20T08:45:21.800Z"
   },
   {
    "duration": 9,
    "start_time": "2023-06-20T08:45:21.853Z"
   },
   {
    "duration": 174,
    "start_time": "2023-06-20T08:45:21.863Z"
   },
   {
    "duration": 6,
    "start_time": "2023-06-20T08:45:22.039Z"
   },
   {
    "duration": 471,
    "start_time": "2023-06-20T08:45:22.046Z"
   },
   {
    "duration": 4,
    "start_time": "2023-06-20T08:45:22.518Z"
   },
   {
    "duration": 129,
    "start_time": "2023-06-20T08:45:22.524Z"
   },
   {
    "duration": 131,
    "start_time": "2023-06-20T08:45:22.654Z"
   },
   {
    "duration": 146,
    "start_time": "2023-06-20T08:45:22.787Z"
   },
   {
    "duration": 115,
    "start_time": "2023-06-20T08:45:22.935Z"
   },
   {
    "duration": 136,
    "start_time": "2023-06-20T08:45:23.053Z"
   },
   {
    "duration": 150,
    "start_time": "2023-06-20T08:45:23.191Z"
   },
   {
    "duration": 131,
    "start_time": "2023-06-20T08:45:23.343Z"
   },
   {
    "duration": 142,
    "start_time": "2023-06-20T08:45:23.475Z"
   },
   {
    "duration": 191,
    "start_time": "2023-06-20T08:45:23.619Z"
   },
   {
    "duration": 119,
    "start_time": "2023-06-20T08:45:23.811Z"
   },
   {
    "duration": 112,
    "start_time": "2023-06-20T08:45:23.931Z"
   },
   {
    "duration": 151,
    "start_time": "2023-06-20T08:45:24.044Z"
   },
   {
    "duration": 120,
    "start_time": "2023-06-20T08:45:24.197Z"
   },
   {
    "duration": 164,
    "start_time": "2023-06-20T08:45:24.319Z"
   },
   {
    "duration": 175,
    "start_time": "2023-06-20T08:45:24.485Z"
   },
   {
    "duration": 9,
    "start_time": "2023-06-20T08:45:24.662Z"
   },
   {
    "duration": 10,
    "start_time": "2023-06-20T08:45:24.672Z"
   },
   {
    "duration": 98,
    "start_time": "2023-06-20T08:45:24.684Z"
   },
   {
    "duration": 0,
    "start_time": "2023-06-20T08:45:24.784Z"
   },
   {
    "duration": 0,
    "start_time": "2023-06-20T08:45:24.785Z"
   },
   {
    "duration": 0,
    "start_time": "2023-06-20T08:45:24.786Z"
   },
   {
    "duration": 24,
    "start_time": "2023-06-20T08:45:40.419Z"
   },
   {
    "duration": 1771,
    "start_time": "2023-06-20T08:45:44.618Z"
   },
   {
    "duration": 46,
    "start_time": "2023-06-24T08:53:46.909Z"
   },
   {
    "duration": 754,
    "start_time": "2023-06-24T08:54:12.970Z"
   },
   {
    "duration": 46,
    "start_time": "2023-06-24T08:54:13.727Z"
   },
   {
    "duration": 15,
    "start_time": "2023-06-24T08:54:13.775Z"
   },
   {
    "duration": 2471,
    "start_time": "2023-06-24T08:54:13.792Z"
   },
   {
    "duration": 10,
    "start_time": "2023-06-24T08:54:16.265Z"
   },
   {
    "duration": 50,
    "start_time": "2023-06-24T08:54:16.277Z"
   },
   {
    "duration": 27,
    "start_time": "2023-06-24T08:54:16.329Z"
   },
   {
    "duration": 37,
    "start_time": "2023-06-24T08:54:16.358Z"
   },
   {
    "duration": 9,
    "start_time": "2023-06-24T08:54:16.397Z"
   },
   {
    "duration": 22,
    "start_time": "2023-06-24T08:54:16.408Z"
   },
   {
    "duration": 178,
    "start_time": "2023-06-24T08:54:16.432Z"
   },
   {
    "duration": 0,
    "start_time": "2023-06-24T08:54:16.613Z"
   },
   {
    "duration": 0,
    "start_time": "2023-06-24T08:54:16.614Z"
   },
   {
    "duration": 0,
    "start_time": "2023-06-24T08:54:16.616Z"
   },
   {
    "duration": 0,
    "start_time": "2023-06-24T08:54:16.617Z"
   },
   {
    "duration": 0,
    "start_time": "2023-06-24T08:54:16.618Z"
   },
   {
    "duration": 0,
    "start_time": "2023-06-24T08:54:16.619Z"
   },
   {
    "duration": 0,
    "start_time": "2023-06-24T08:54:16.620Z"
   },
   {
    "duration": 0,
    "start_time": "2023-06-24T08:54:16.622Z"
   },
   {
    "duration": 0,
    "start_time": "2023-06-24T08:54:16.623Z"
   },
   {
    "duration": 0,
    "start_time": "2023-06-24T08:54:16.625Z"
   },
   {
    "duration": 0,
    "start_time": "2023-06-24T08:54:16.626Z"
   },
   {
    "duration": 0,
    "start_time": "2023-06-24T08:54:16.627Z"
   },
   {
    "duration": 0,
    "start_time": "2023-06-24T08:54:16.629Z"
   },
   {
    "duration": 0,
    "start_time": "2023-06-24T08:54:16.630Z"
   },
   {
    "duration": 0,
    "start_time": "2023-06-24T08:54:16.632Z"
   },
   {
    "duration": 0,
    "start_time": "2023-06-24T08:54:16.633Z"
   },
   {
    "duration": 0,
    "start_time": "2023-06-24T08:54:16.635Z"
   },
   {
    "duration": 0,
    "start_time": "2023-06-24T08:54:16.637Z"
   },
   {
    "duration": 0,
    "start_time": "2023-06-24T08:54:16.639Z"
   },
   {
    "duration": 0,
    "start_time": "2023-06-24T08:54:16.640Z"
   },
   {
    "duration": 1,
    "start_time": "2023-06-24T08:54:16.641Z"
   },
   {
    "duration": 0,
    "start_time": "2023-06-24T08:54:16.643Z"
   },
   {
    "duration": 0,
    "start_time": "2023-06-24T08:54:16.644Z"
   },
   {
    "duration": 0,
    "start_time": "2023-06-24T08:54:16.645Z"
   },
   {
    "duration": 0,
    "start_time": "2023-06-24T08:54:16.647Z"
   },
   {
    "duration": 0,
    "start_time": "2023-06-24T08:54:16.648Z"
   },
   {
    "duration": 0,
    "start_time": "2023-06-24T08:54:16.649Z"
   },
   {
    "duration": 0,
    "start_time": "2023-06-24T08:54:16.701Z"
   },
   {
    "duration": 0,
    "start_time": "2023-06-24T08:54:16.703Z"
   },
   {
    "duration": 0,
    "start_time": "2023-06-24T08:54:16.704Z"
   },
   {
    "duration": 1,
    "start_time": "2023-06-24T08:54:16.705Z"
   },
   {
    "duration": 0,
    "start_time": "2023-06-24T08:54:16.707Z"
   },
   {
    "duration": 0,
    "start_time": "2023-06-24T08:54:16.709Z"
   },
   {
    "duration": 0,
    "start_time": "2023-06-24T08:54:16.710Z"
   },
   {
    "duration": 68,
    "start_time": "2023-06-24T08:54:43.068Z"
   },
   {
    "duration": 69,
    "start_time": "2023-06-24T08:55:10.876Z"
   },
   {
    "duration": 61,
    "start_time": "2023-06-24T09:27:04.898Z"
   },
   {
    "duration": 120,
    "start_time": "2023-06-24T09:27:11.787Z"
   },
   {
    "duration": 71,
    "start_time": "2023-06-24T09:27:35.273Z"
   },
   {
    "duration": 73,
    "start_time": "2023-06-24T09:27:49.306Z"
   },
   {
    "duration": 493,
    "start_time": "2023-06-24T09:28:00.063Z"
   },
   {
    "duration": 66,
    "start_time": "2023-06-24T09:28:00.559Z"
   },
   {
    "duration": 70,
    "start_time": "2023-06-24T09:28:00.627Z"
   },
   {
    "duration": 2756,
    "start_time": "2023-06-24T09:28:00.699Z"
   },
   {
    "duration": 11,
    "start_time": "2023-06-24T09:28:03.458Z"
   },
   {
    "duration": 11,
    "start_time": "2023-06-24T09:28:03.471Z"
   },
   {
    "duration": 35,
    "start_time": "2023-06-24T09:28:03.484Z"
   },
   {
    "duration": 32,
    "start_time": "2023-06-24T09:28:03.522Z"
   },
   {
    "duration": 6,
    "start_time": "2023-06-24T09:28:03.555Z"
   },
   {
    "duration": 33,
    "start_time": "2023-06-24T09:28:03.563Z"
   },
   {
    "duration": 89,
    "start_time": "2023-06-24T09:28:03.598Z"
   },
   {
    "duration": 110,
    "start_time": "2023-06-24T09:28:03.689Z"
   },
   {
    "duration": 17,
    "start_time": "2023-06-24T09:28:03.802Z"
   },
   {
    "duration": 30,
    "start_time": "2023-06-24T09:28:03.824Z"
   },
   {
    "duration": 16,
    "start_time": "2023-06-24T09:28:03.857Z"
   },
   {
    "duration": 219,
    "start_time": "2023-06-24T09:28:03.875Z"
   },
   {
    "duration": 29,
    "start_time": "2023-06-24T09:28:04.096Z"
   },
   {
    "duration": 11,
    "start_time": "2023-06-24T09:28:04.127Z"
   },
   {
    "duration": 12,
    "start_time": "2023-06-24T09:28:04.139Z"
   },
   {
    "duration": 215,
    "start_time": "2023-06-24T09:28:04.154Z"
   },
   {
    "duration": 6,
    "start_time": "2023-06-24T09:28:04.372Z"
   },
   {
    "duration": 103,
    "start_time": "2023-06-24T09:28:04.380Z"
   },
   {
    "duration": 0,
    "start_time": "2023-06-24T09:28:04.485Z"
   },
   {
    "duration": 0,
    "start_time": "2023-06-24T09:28:04.487Z"
   },
   {
    "duration": 0,
    "start_time": "2023-06-24T09:28:04.489Z"
   },
   {
    "duration": 1,
    "start_time": "2023-06-24T09:28:04.501Z"
   },
   {
    "duration": 0,
    "start_time": "2023-06-24T09:28:04.502Z"
   },
   {
    "duration": 0,
    "start_time": "2023-06-24T09:28:04.503Z"
   },
   {
    "duration": 0,
    "start_time": "2023-06-24T09:28:04.504Z"
   },
   {
    "duration": 0,
    "start_time": "2023-06-24T09:28:04.505Z"
   },
   {
    "duration": 0,
    "start_time": "2023-06-24T09:28:04.506Z"
   },
   {
    "duration": 0,
    "start_time": "2023-06-24T09:28:04.506Z"
   },
   {
    "duration": 0,
    "start_time": "2023-06-24T09:28:04.507Z"
   },
   {
    "duration": 0,
    "start_time": "2023-06-24T09:28:04.508Z"
   },
   {
    "duration": 0,
    "start_time": "2023-06-24T09:28:04.508Z"
   },
   {
    "duration": 0,
    "start_time": "2023-06-24T09:28:04.511Z"
   },
   {
    "duration": 0,
    "start_time": "2023-06-24T09:28:04.511Z"
   },
   {
    "duration": 0,
    "start_time": "2023-06-24T09:28:04.512Z"
   },
   {
    "duration": 0,
    "start_time": "2023-06-24T09:28:04.519Z"
   },
   {
    "duration": 0,
    "start_time": "2023-06-24T09:28:04.519Z"
   },
   {
    "duration": 0,
    "start_time": "2023-06-24T09:28:04.520Z"
   },
   {
    "duration": 0,
    "start_time": "2023-06-24T09:28:04.520Z"
   },
   {
    "duration": 0,
    "start_time": "2023-06-24T09:28:04.521Z"
   },
   {
    "duration": 0,
    "start_time": "2023-06-24T09:28:04.522Z"
   },
   {
    "duration": 8,
    "start_time": "2023-06-24T09:36:32.827Z"
   },
   {
    "duration": 12,
    "start_time": "2023-06-24T09:38:12.629Z"
   },
   {
    "duration": 9,
    "start_time": "2023-06-24T09:38:34.766Z"
   },
   {
    "duration": 15,
    "start_time": "2023-06-24T09:42:52.230Z"
   },
   {
    "duration": 69,
    "start_time": "2023-06-24T09:45:55.296Z"
   },
   {
    "duration": 19,
    "start_time": "2023-06-24T09:47:26.516Z"
   },
   {
    "duration": 7,
    "start_time": "2023-06-24T09:49:05.416Z"
   },
   {
    "duration": 516,
    "start_time": "2023-06-24T09:49:15.039Z"
   },
   {
    "duration": 41,
    "start_time": "2023-06-24T09:49:15.557Z"
   },
   {
    "duration": 25,
    "start_time": "2023-06-24T09:49:15.599Z"
   },
   {
    "duration": 2515,
    "start_time": "2023-06-24T09:49:15.627Z"
   },
   {
    "duration": 10,
    "start_time": "2023-06-24T09:49:18.144Z"
   },
   {
    "duration": 23,
    "start_time": "2023-06-24T09:49:18.155Z"
   },
   {
    "duration": 34,
    "start_time": "2023-06-24T09:49:18.180Z"
   },
   {
    "duration": 23,
    "start_time": "2023-06-24T09:49:18.216Z"
   },
   {
    "duration": 6,
    "start_time": "2023-06-24T09:49:18.240Z"
   },
   {
    "duration": 19,
    "start_time": "2023-06-24T09:49:18.248Z"
   },
   {
    "duration": 98,
    "start_time": "2023-06-24T09:49:18.268Z"
   },
   {
    "duration": 12,
    "start_time": "2023-06-24T09:49:18.369Z"
   },
   {
    "duration": 41,
    "start_time": "2023-06-24T09:49:18.382Z"
   },
   {
    "duration": 88,
    "start_time": "2023-06-24T09:49:18.425Z"
   },
   {
    "duration": 10,
    "start_time": "2023-06-24T09:49:18.515Z"
   },
   {
    "duration": 16,
    "start_time": "2023-06-24T09:49:18.527Z"
   },
   {
    "duration": 8,
    "start_time": "2023-06-24T09:49:18.544Z"
   },
   {
    "duration": 205,
    "start_time": "2023-06-24T09:49:18.554Z"
   },
   {
    "duration": 9,
    "start_time": "2023-06-24T09:49:18.761Z"
   },
   {
    "duration": 22,
    "start_time": "2023-06-24T09:49:18.772Z"
   },
   {
    "duration": 28,
    "start_time": "2023-06-24T09:49:18.796Z"
   },
   {
    "duration": 155,
    "start_time": "2023-06-24T09:49:18.826Z"
   },
   {
    "duration": 8,
    "start_time": "2023-06-24T09:49:18.982Z"
   },
   {
    "duration": 552,
    "start_time": "2023-06-24T09:49:18.992Z"
   },
   {
    "duration": 4,
    "start_time": "2023-06-24T09:49:19.546Z"
   },
   {
    "duration": 197,
    "start_time": "2023-06-24T09:49:19.552Z"
   },
   {
    "duration": 180,
    "start_time": "2023-06-24T09:49:19.751Z"
   },
   {
    "duration": 163,
    "start_time": "2023-06-24T09:49:19.935Z"
   },
   {
    "duration": 168,
    "start_time": "2023-06-24T09:49:20.100Z"
   },
   {
    "duration": 180,
    "start_time": "2023-06-24T09:49:20.269Z"
   },
   {
    "duration": 229,
    "start_time": "2023-06-24T09:49:20.452Z"
   },
   {
    "duration": 174,
    "start_time": "2023-06-24T09:49:20.683Z"
   },
   {
    "duration": 151,
    "start_time": "2023-06-24T09:49:20.859Z"
   },
   {
    "duration": 178,
    "start_time": "2023-06-24T09:49:21.011Z"
   },
   {
    "duration": 164,
    "start_time": "2023-06-24T09:49:21.190Z"
   },
   {
    "duration": 132,
    "start_time": "2023-06-24T09:49:21.356Z"
   },
   {
    "duration": 251,
    "start_time": "2023-06-24T09:49:21.489Z"
   },
   {
    "duration": 149,
    "start_time": "2023-06-24T09:49:21.742Z"
   },
   {
    "duration": 153,
    "start_time": "2023-06-24T09:49:21.892Z"
   },
   {
    "duration": 171,
    "start_time": "2023-06-24T09:49:22.047Z"
   },
   {
    "duration": 11,
    "start_time": "2023-06-24T09:49:22.220Z"
   },
   {
    "duration": 2,
    "start_time": "2023-06-24T09:49:22.233Z"
   },
   {
    "duration": 30,
    "start_time": "2023-06-24T09:49:22.237Z"
   },
   {
    "duration": 2827,
    "start_time": "2023-06-24T09:49:22.268Z"
   },
   {
    "duration": 0,
    "start_time": "2023-06-24T09:49:25.097Z"
   },
   {
    "duration": 0,
    "start_time": "2023-06-24T09:49:25.098Z"
   },
   {
    "duration": 502,
    "start_time": "2023-06-24T09:50:09.819Z"
   },
   {
    "duration": 50,
    "start_time": "2023-06-24T09:50:10.323Z"
   },
   {
    "duration": 36,
    "start_time": "2023-06-24T09:50:10.376Z"
   },
   {
    "duration": 2472,
    "start_time": "2023-06-24T09:50:10.415Z"
   },
   {
    "duration": 10,
    "start_time": "2023-06-24T09:50:12.888Z"
   },
   {
    "duration": 27,
    "start_time": "2023-06-24T09:50:12.900Z"
   },
   {
    "duration": 34,
    "start_time": "2023-06-24T09:50:12.929Z"
   },
   {
    "duration": 24,
    "start_time": "2023-06-24T09:50:12.965Z"
   },
   {
    "duration": 6,
    "start_time": "2023-06-24T09:50:12.991Z"
   },
   {
    "duration": 23,
    "start_time": "2023-06-24T09:50:13.000Z"
   },
   {
    "duration": 68,
    "start_time": "2023-06-24T09:50:13.025Z"
   },
   {
    "duration": 25,
    "start_time": "2023-06-24T09:50:13.095Z"
   },
   {
    "duration": 16,
    "start_time": "2023-06-24T09:50:13.122Z"
   },
   {
    "duration": 11,
    "start_time": "2023-06-24T09:50:13.140Z"
   },
   {
    "duration": 19,
    "start_time": "2023-06-24T09:50:13.152Z"
   },
   {
    "duration": 110,
    "start_time": "2023-06-24T09:50:13.173Z"
   },
   {
    "duration": 10,
    "start_time": "2023-06-24T09:50:13.284Z"
   },
   {
    "duration": 54,
    "start_time": "2023-06-24T09:50:13.295Z"
   },
   {
    "duration": 10,
    "start_time": "2023-06-24T09:50:13.350Z"
   },
   {
    "duration": 177,
    "start_time": "2023-06-24T09:50:13.362Z"
   },
   {
    "duration": 8,
    "start_time": "2023-06-24T09:50:13.541Z"
   },
   {
    "duration": 18,
    "start_time": "2023-06-24T09:50:13.551Z"
   },
   {
    "duration": 8,
    "start_time": "2023-06-24T09:50:13.571Z"
   },
   {
    "duration": 192,
    "start_time": "2023-06-24T09:50:13.581Z"
   },
   {
    "duration": 9,
    "start_time": "2023-06-24T09:50:13.774Z"
   },
   {
    "duration": 546,
    "start_time": "2023-06-24T09:50:13.784Z"
   },
   {
    "duration": 4,
    "start_time": "2023-06-24T09:50:14.331Z"
   },
   {
    "duration": 192,
    "start_time": "2023-06-24T09:50:14.338Z"
   },
   {
    "duration": 189,
    "start_time": "2023-06-24T09:50:14.533Z"
   },
   {
    "duration": 180,
    "start_time": "2023-06-24T09:50:14.725Z"
   },
   {
    "duration": 159,
    "start_time": "2023-06-24T09:50:14.911Z"
   },
   {
    "duration": 176,
    "start_time": "2023-06-24T09:50:15.072Z"
   },
   {
    "duration": 204,
    "start_time": "2023-06-24T09:50:15.250Z"
   },
   {
    "duration": 161,
    "start_time": "2023-06-24T09:50:15.456Z"
   },
   {
    "duration": 130,
    "start_time": "2023-06-24T09:50:15.619Z"
   },
   {
    "duration": 174,
    "start_time": "2023-06-24T09:50:15.750Z"
   },
   {
    "duration": 154,
    "start_time": "2023-06-24T09:50:15.926Z"
   },
   {
    "duration": 145,
    "start_time": "2023-06-24T09:50:16.082Z"
   },
   {
    "duration": 259,
    "start_time": "2023-06-24T09:50:16.229Z"
   },
   {
    "duration": 154,
    "start_time": "2023-06-24T09:50:16.490Z"
   },
   {
    "duration": 168,
    "start_time": "2023-06-24T09:50:16.646Z"
   },
   {
    "duration": 159,
    "start_time": "2023-06-24T09:50:16.815Z"
   },
   {
    "duration": 9,
    "start_time": "2023-06-24T09:50:16.976Z"
   },
   {
    "duration": 9,
    "start_time": "2023-06-24T09:50:16.987Z"
   },
   {
    "duration": 45,
    "start_time": "2023-06-24T09:50:16.997Z"
   },
   {
    "duration": 1485,
    "start_time": "2023-06-24T09:50:17.043Z"
   },
   {
    "duration": 0,
    "start_time": "2023-06-24T09:50:18.530Z"
   },
   {
    "duration": 0,
    "start_time": "2023-06-24T09:50:18.531Z"
   },
   {
    "duration": 521,
    "start_time": "2023-06-24T09:51:09.137Z"
   },
   {
    "duration": 56,
    "start_time": "2023-06-24T09:51:09.660Z"
   },
   {
    "duration": 15,
    "start_time": "2023-06-24T09:51:09.718Z"
   },
   {
    "duration": 2580,
    "start_time": "2023-06-24T09:51:09.735Z"
   },
   {
    "duration": 10,
    "start_time": "2023-06-24T09:51:12.317Z"
   },
   {
    "duration": 9,
    "start_time": "2023-06-24T09:51:12.328Z"
   },
   {
    "duration": 20,
    "start_time": "2023-06-24T09:51:12.339Z"
   },
   {
    "duration": 55,
    "start_time": "2023-06-24T09:51:12.360Z"
   },
   {
    "duration": 7,
    "start_time": "2023-06-24T09:51:12.417Z"
   },
   {
    "duration": 13,
    "start_time": "2023-06-24T09:51:12.427Z"
   },
   {
    "duration": 92,
    "start_time": "2023-06-24T09:51:12.441Z"
   },
   {
    "duration": 11,
    "start_time": "2023-06-24T09:51:12.535Z"
   },
   {
    "duration": 24,
    "start_time": "2023-06-24T09:51:12.547Z"
   },
   {
    "duration": 11,
    "start_time": "2023-06-24T09:51:12.572Z"
   },
   {
    "duration": 44,
    "start_time": "2023-06-24T09:51:12.585Z"
   },
   {
    "duration": 10,
    "start_time": "2023-06-24T09:51:12.631Z"
   },
   {
    "duration": 86,
    "start_time": "2023-06-24T09:51:12.643Z"
   },
   {
    "duration": 0,
    "start_time": "2023-06-24T09:51:12.731Z"
   },
   {
    "duration": 1,
    "start_time": "2023-06-24T09:51:12.732Z"
   },
   {
    "duration": 0,
    "start_time": "2023-06-24T09:51:12.734Z"
   },
   {
    "duration": 0,
    "start_time": "2023-06-24T09:51:12.735Z"
   },
   {
    "duration": 0,
    "start_time": "2023-06-24T09:51:12.737Z"
   },
   {
    "duration": 0,
    "start_time": "2023-06-24T09:51:12.738Z"
   },
   {
    "duration": 0,
    "start_time": "2023-06-24T09:51:12.739Z"
   },
   {
    "duration": 0,
    "start_time": "2023-06-24T09:51:12.740Z"
   },
   {
    "duration": 0,
    "start_time": "2023-06-24T09:51:12.741Z"
   },
   {
    "duration": 0,
    "start_time": "2023-06-24T09:51:12.743Z"
   },
   {
    "duration": 0,
    "start_time": "2023-06-24T09:51:12.744Z"
   },
   {
    "duration": 0,
    "start_time": "2023-06-24T09:51:12.745Z"
   },
   {
    "duration": 0,
    "start_time": "2023-06-24T09:51:12.746Z"
   },
   {
    "duration": 0,
    "start_time": "2023-06-24T09:51:12.747Z"
   },
   {
    "duration": 0,
    "start_time": "2023-06-24T09:51:12.748Z"
   },
   {
    "duration": 0,
    "start_time": "2023-06-24T09:51:12.749Z"
   },
   {
    "duration": 0,
    "start_time": "2023-06-24T09:51:12.750Z"
   },
   {
    "duration": 0,
    "start_time": "2023-06-24T09:51:12.751Z"
   },
   {
    "duration": 0,
    "start_time": "2023-06-24T09:51:12.753Z"
   },
   {
    "duration": 0,
    "start_time": "2023-06-24T09:51:12.755Z"
   },
   {
    "duration": 0,
    "start_time": "2023-06-24T09:51:12.756Z"
   },
   {
    "duration": 0,
    "start_time": "2023-06-24T09:51:12.757Z"
   },
   {
    "duration": 0,
    "start_time": "2023-06-24T09:51:12.758Z"
   },
   {
    "duration": 0,
    "start_time": "2023-06-24T09:51:12.759Z"
   },
   {
    "duration": 1,
    "start_time": "2023-06-24T09:51:12.805Z"
   },
   {
    "duration": 0,
    "start_time": "2023-06-24T09:51:12.807Z"
   },
   {
    "duration": 0,
    "start_time": "2023-06-24T09:51:12.807Z"
   },
   {
    "duration": 0,
    "start_time": "2023-06-24T09:51:12.808Z"
   },
   {
    "duration": 0,
    "start_time": "2023-06-24T09:51:12.815Z"
   },
   {
    "duration": 0,
    "start_time": "2023-06-24T09:51:12.816Z"
   },
   {
    "duration": 0,
    "start_time": "2023-06-24T09:51:12.817Z"
   },
   {
    "duration": 0,
    "start_time": "2023-06-24T09:51:12.818Z"
   },
   {
    "duration": 0,
    "start_time": "2023-06-24T09:51:12.819Z"
   },
   {
    "duration": 16,
    "start_time": "2023-06-24T09:51:29.536Z"
   },
   {
    "duration": 503,
    "start_time": "2023-06-24T09:52:03.219Z"
   },
   {
    "duration": 44,
    "start_time": "2023-06-24T09:52:03.724Z"
   },
   {
    "duration": 15,
    "start_time": "2023-06-24T09:52:03.770Z"
   },
   {
    "duration": 2437,
    "start_time": "2023-06-24T09:52:03.786Z"
   },
   {
    "duration": 10,
    "start_time": "2023-06-24T09:52:06.225Z"
   },
   {
    "duration": 37,
    "start_time": "2023-06-24T09:52:06.237Z"
   },
   {
    "duration": 33,
    "start_time": "2023-06-24T09:52:06.276Z"
   },
   {
    "duration": 28,
    "start_time": "2023-06-24T09:52:06.310Z"
   },
   {
    "duration": 6,
    "start_time": "2023-06-24T09:52:06.340Z"
   },
   {
    "duration": 17,
    "start_time": "2023-06-24T09:52:06.347Z"
   },
   {
    "duration": 84,
    "start_time": "2023-06-24T09:52:06.366Z"
   },
   {
    "duration": 10,
    "start_time": "2023-06-24T09:52:06.452Z"
   },
   {
    "duration": 49,
    "start_time": "2023-06-24T09:52:06.464Z"
   },
   {
    "duration": 21,
    "start_time": "2023-06-24T09:52:06.519Z"
   },
   {
    "duration": 20,
    "start_time": "2023-06-24T09:52:06.542Z"
   },
   {
    "duration": 6,
    "start_time": "2023-06-24T09:52:06.564Z"
   },
   {
    "duration": 22,
    "start_time": "2023-06-24T09:52:06.572Z"
   },
   {
    "duration": 22,
    "start_time": "2023-06-24T09:52:06.596Z"
   },
   {
    "duration": 74,
    "start_time": "2023-06-24T09:52:06.619Z"
   },
   {
    "duration": 24,
    "start_time": "2023-06-24T09:52:06.695Z"
   },
   {
    "duration": 9,
    "start_time": "2023-06-24T09:52:06.720Z"
   },
   {
    "duration": 26,
    "start_time": "2023-06-24T09:52:06.731Z"
   },
   {
    "duration": 182,
    "start_time": "2023-06-24T09:52:06.759Z"
   },
   {
    "duration": 7,
    "start_time": "2023-06-24T09:52:06.943Z"
   },
   {
    "duration": 9,
    "start_time": "2023-06-24T09:52:06.952Z"
   },
   {
    "duration": 9,
    "start_time": "2023-06-24T09:52:06.962Z"
   },
   {
    "duration": 172,
    "start_time": "2023-06-24T09:52:06.972Z"
   },
   {
    "duration": 8,
    "start_time": "2023-06-24T09:52:07.146Z"
   },
   {
    "duration": 554,
    "start_time": "2023-06-24T09:52:07.155Z"
   },
   {
    "duration": 5,
    "start_time": "2023-06-24T09:52:07.710Z"
   },
   {
    "duration": 170,
    "start_time": "2023-06-24T09:52:07.717Z"
   },
   {
    "duration": 171,
    "start_time": "2023-06-24T09:52:07.889Z"
   },
   {
    "duration": 165,
    "start_time": "2023-06-24T09:52:08.061Z"
   },
   {
    "duration": 158,
    "start_time": "2023-06-24T09:52:08.227Z"
   },
   {
    "duration": 161,
    "start_time": "2023-06-24T09:52:08.387Z"
   },
   {
    "duration": 190,
    "start_time": "2023-06-24T09:52:08.550Z"
   },
   {
    "duration": 175,
    "start_time": "2023-06-24T09:52:08.742Z"
   },
   {
    "duration": 127,
    "start_time": "2023-06-24T09:52:08.919Z"
   },
   {
    "duration": 269,
    "start_time": "2023-06-24T09:52:09.047Z"
   },
   {
    "duration": 142,
    "start_time": "2023-06-24T09:52:09.317Z"
   },
   {
    "duration": 138,
    "start_time": "2023-06-24T09:52:09.462Z"
   },
   {
    "duration": 158,
    "start_time": "2023-06-24T09:52:09.605Z"
   },
   {
    "duration": 164,
    "start_time": "2023-06-24T09:52:09.765Z"
   },
   {
    "duration": 154,
    "start_time": "2023-06-24T09:52:09.931Z"
   },
   {
    "duration": 163,
    "start_time": "2023-06-24T09:52:10.087Z"
   },
   {
    "duration": 8,
    "start_time": "2023-06-24T09:52:10.252Z"
   },
   {
    "duration": 4,
    "start_time": "2023-06-24T09:52:10.262Z"
   },
   {
    "duration": 48,
    "start_time": "2023-06-24T09:52:10.268Z"
   },
   {
    "duration": 1551,
    "start_time": "2023-06-24T09:52:10.318Z"
   },
   {
    "duration": 0,
    "start_time": "2023-06-24T09:52:11.871Z"
   },
   {
    "duration": 0,
    "start_time": "2023-06-24T09:52:11.872Z"
   },
   {
    "duration": 22,
    "start_time": "2023-06-24T09:52:55.270Z"
   },
   {
    "duration": 52,
    "start_time": "2023-06-24T09:55:01.464Z"
   },
   {
    "duration": 158,
    "start_time": "2023-06-24T09:56:59.015Z"
   },
   {
    "duration": 468,
    "start_time": "2023-06-24T09:58:51.554Z"
   },
   {
    "duration": 41,
    "start_time": "2023-06-24T09:58:52.024Z"
   },
   {
    "duration": 14,
    "start_time": "2023-06-24T09:58:52.067Z"
   },
   {
    "duration": 2312,
    "start_time": "2023-06-24T09:58:52.083Z"
   },
   {
    "duration": 16,
    "start_time": "2023-06-24T09:58:54.397Z"
   },
   {
    "duration": 13,
    "start_time": "2023-06-24T09:58:54.415Z"
   },
   {
    "duration": 24,
    "start_time": "2023-06-24T09:58:54.430Z"
   },
   {
    "duration": 23,
    "start_time": "2023-06-24T09:58:54.456Z"
   },
   {
    "duration": 8,
    "start_time": "2023-06-24T09:58:54.480Z"
   },
   {
    "duration": 14,
    "start_time": "2023-06-24T09:58:54.505Z"
   },
   {
    "duration": 70,
    "start_time": "2023-06-24T09:58:54.521Z"
   },
   {
    "duration": 45,
    "start_time": "2023-06-24T09:58:54.603Z"
   },
   {
    "duration": 447,
    "start_time": "2023-06-24T09:58:54.649Z"
   },
   {
    "duration": 15,
    "start_time": "2023-06-24T09:58:55.102Z"
   },
   {
    "duration": 259,
    "start_time": "2023-06-24T09:58:55.119Z"
   },
   {
    "duration": 173,
    "start_time": "2023-06-24T09:58:55.380Z"
   },
   {
    "duration": 160,
    "start_time": "2023-06-24T09:58:55.555Z"
   },
   {
    "duration": 158,
    "start_time": "2023-06-24T09:58:55.717Z"
   },
   {
    "duration": 156,
    "start_time": "2023-06-24T09:58:55.878Z"
   },
   {
    "duration": 193,
    "start_time": "2023-06-24T09:58:56.036Z"
   },
   {
    "duration": 157,
    "start_time": "2023-06-24T09:58:56.231Z"
   },
   {
    "duration": 145,
    "start_time": "2023-06-24T09:58:56.389Z"
   },
   {
    "duration": 168,
    "start_time": "2023-06-24T09:58:56.536Z"
   },
   {
    "duration": 145,
    "start_time": "2023-06-24T09:58:56.708Z"
   },
   {
    "duration": 129,
    "start_time": "2023-06-24T09:58:56.854Z"
   },
   {
    "duration": 266,
    "start_time": "2023-06-24T09:58:56.985Z"
   },
   {
    "duration": 156,
    "start_time": "2023-06-24T09:58:57.253Z"
   },
   {
    "duration": 144,
    "start_time": "2023-06-24T09:58:57.414Z"
   },
   {
    "duration": 159,
    "start_time": "2023-06-24T09:58:57.560Z"
   },
   {
    "duration": 11,
    "start_time": "2023-06-24T09:58:57.721Z"
   },
   {
    "duration": 3,
    "start_time": "2023-06-24T09:58:57.733Z"
   },
   {
    "duration": 32,
    "start_time": "2023-06-24T09:58:57.738Z"
   },
   {
    "duration": 2019,
    "start_time": "2023-06-24T09:58:57.772Z"
   },
   {
    "duration": 0,
    "start_time": "2023-06-24T09:58:59.793Z"
   },
   {
    "duration": 0,
    "start_time": "2023-06-24T09:58:59.794Z"
   },
   {
    "duration": 11,
    "start_time": "2023-06-24T09:59:54.983Z"
   },
   {
    "duration": 145,
    "start_time": "2023-06-24T10:00:50.694Z"
   },
   {
    "duration": 203,
    "start_time": "2023-06-24T10:02:49.688Z"
   },
   {
    "duration": 192,
    "start_time": "2023-06-24T10:04:13.288Z"
   },
   {
    "duration": 206,
    "start_time": "2023-06-24T10:08:03.525Z"
   },
   {
    "duration": 232,
    "start_time": "2023-06-24T10:08:06.895Z"
   },
   {
    "duration": 196,
    "start_time": "2023-06-24T10:08:10.222Z"
   },
   {
    "duration": 234,
    "start_time": "2023-06-24T10:08:14.397Z"
   },
   {
    "duration": 190,
    "start_time": "2023-06-24T10:08:33.078Z"
   },
   {
    "duration": 222,
    "start_time": "2023-06-24T10:08:45.323Z"
   },
   {
    "duration": 207,
    "start_time": "2023-06-24T10:08:51.664Z"
   },
   {
    "duration": 1887,
    "start_time": "2023-06-24T10:08:58.398Z"
   },
   {
    "duration": 2,
    "start_time": "2023-06-24T10:09:18.328Z"
   },
   {
    "duration": 10,
    "start_time": "2023-06-24T10:11:23.689Z"
   },
   {
    "duration": 47,
    "start_time": "2023-06-27T09:19:56.244Z"
   },
   {
    "duration": 7,
    "start_time": "2023-06-27T09:20:27.518Z"
   },
   {
    "duration": 10,
    "start_time": "2023-06-27T09:21:13.353Z"
   },
   {
    "duration": 570,
    "start_time": "2023-06-27T09:21:31.301Z"
   },
   {
    "duration": 45,
    "start_time": "2023-06-27T09:21:31.874Z"
   },
   {
    "duration": 17,
    "start_time": "2023-06-27T09:21:31.921Z"
   },
   {
    "duration": 2576,
    "start_time": "2023-06-27T09:21:31.941Z"
   },
   {
    "duration": 12,
    "start_time": "2023-06-27T09:21:34.520Z"
   },
   {
    "duration": 11,
    "start_time": "2023-06-27T09:21:34.534Z"
   },
   {
    "duration": 33,
    "start_time": "2023-06-27T09:21:34.547Z"
   },
   {
    "duration": 24,
    "start_time": "2023-06-27T09:21:34.582Z"
   },
   {
    "duration": 7,
    "start_time": "2023-06-27T09:21:34.608Z"
   },
   {
    "duration": 17,
    "start_time": "2023-06-27T09:21:34.618Z"
   },
   {
    "duration": 99,
    "start_time": "2023-06-27T09:21:34.637Z"
   },
   {
    "duration": 47,
    "start_time": "2023-06-27T09:21:34.738Z"
   },
   {
    "duration": 511,
    "start_time": "2023-06-27T09:21:34.788Z"
   },
   {
    "duration": 4,
    "start_time": "2023-06-27T09:21:35.302Z"
   },
   {
    "duration": 178,
    "start_time": "2023-06-27T09:21:35.307Z"
   },
   {
    "duration": 177,
    "start_time": "2023-06-27T09:21:35.487Z"
   },
   {
    "duration": 169,
    "start_time": "2023-06-27T09:21:35.666Z"
   },
   {
    "duration": 150,
    "start_time": "2023-06-27T09:21:35.836Z"
   },
   {
    "duration": 154,
    "start_time": "2023-06-27T09:21:35.988Z"
   },
   {
    "duration": 184,
    "start_time": "2023-06-27T09:21:36.144Z"
   },
   {
    "duration": 162,
    "start_time": "2023-06-27T09:21:36.330Z"
   },
   {
    "duration": 143,
    "start_time": "2023-06-27T09:21:36.494Z"
   },
   {
    "duration": 177,
    "start_time": "2023-06-27T09:21:36.639Z"
   },
   {
    "duration": 155,
    "start_time": "2023-06-27T09:21:36.819Z"
   },
   {
    "duration": 134,
    "start_time": "2023-06-27T09:21:36.976Z"
   },
   {
    "duration": 170,
    "start_time": "2023-06-27T09:21:37.112Z"
   },
   {
    "duration": 170,
    "start_time": "2023-06-27T09:21:37.284Z"
   },
   {
    "duration": 262,
    "start_time": "2023-06-27T09:21:37.458Z"
   },
   {
    "duration": 162,
    "start_time": "2023-06-27T09:21:37.722Z"
   },
   {
    "duration": 9,
    "start_time": "2023-06-27T09:21:37.886Z"
   },
   {
    "duration": 128,
    "start_time": "2023-06-27T09:21:37.897Z"
   },
   {
    "duration": 42,
    "start_time": "2023-06-27T09:21:38.026Z"
   },
   {
    "duration": 202,
    "start_time": "2023-06-27T09:21:38.070Z"
   },
   {
    "duration": 218,
    "start_time": "2023-06-27T09:21:38.273Z"
   },
   {
    "duration": 226,
    "start_time": "2023-06-27T09:21:38.492Z"
   },
   {
    "duration": 222,
    "start_time": "2023-06-27T09:21:38.720Z"
   },
   {
    "duration": 235,
    "start_time": "2023-06-27T09:21:38.945Z"
   },
   {
    "duration": 202,
    "start_time": "2023-06-27T09:21:39.183Z"
   },
   {
    "duration": 215,
    "start_time": "2023-06-27T09:21:39.386Z"
   },
   {
    "duration": 210,
    "start_time": "2023-06-27T09:21:39.603Z"
   },
   {
    "duration": 3,
    "start_time": "2023-06-27T09:21:39.814Z"
   },
   {
    "duration": 123,
    "start_time": "2023-06-27T09:21:39.819Z"
   },
   {
    "duration": 0,
    "start_time": "2023-06-27T09:21:39.944Z"
   },
   {
    "duration": 0,
    "start_time": "2023-06-27T09:21:39.945Z"
   },
   {
    "duration": 200,
    "start_time": "2023-06-27T09:22:07.739Z"
   },
   {
    "duration": 195,
    "start_time": "2023-06-27T09:23:23.702Z"
   },
   {
    "duration": 197,
    "start_time": "2023-06-27T09:23:43.212Z"
   },
   {
    "duration": 523,
    "start_time": "2023-06-27T09:25:43.046Z"
   },
   {
    "duration": 40,
    "start_time": "2023-06-27T09:25:43.571Z"
   },
   {
    "duration": 15,
    "start_time": "2023-06-27T09:25:43.612Z"
   },
   {
    "duration": 2248,
    "start_time": "2023-06-27T09:25:43.629Z"
   },
   {
    "duration": 9,
    "start_time": "2023-06-27T09:25:45.879Z"
   },
   {
    "duration": 23,
    "start_time": "2023-06-27T09:25:45.889Z"
   },
   {
    "duration": 21,
    "start_time": "2023-06-27T09:25:45.913Z"
   },
   {
    "duration": 23,
    "start_time": "2023-06-27T09:25:45.935Z"
   },
   {
    "duration": 6,
    "start_time": "2023-06-27T09:25:45.960Z"
   },
   {
    "duration": 26,
    "start_time": "2023-06-27T09:25:45.970Z"
   },
   {
    "duration": 84,
    "start_time": "2023-06-27T09:25:45.997Z"
   },
   {
    "duration": 48,
    "start_time": "2023-06-27T09:25:46.083Z"
   },
   {
    "duration": 324,
    "start_time": "2023-06-27T09:25:46.133Z"
   },
   {
    "duration": 3,
    "start_time": "2023-06-27T09:25:46.460Z"
   },
   {
    "duration": 171,
    "start_time": "2023-06-27T09:25:46.465Z"
   },
   {
    "duration": 163,
    "start_time": "2023-06-27T09:25:46.637Z"
   },
   {
    "duration": 246,
    "start_time": "2023-06-27T09:25:46.802Z"
   },
   {
    "duration": 149,
    "start_time": "2023-06-27T09:25:47.049Z"
   },
   {
    "duration": 156,
    "start_time": "2023-06-27T09:25:47.200Z"
   },
   {
    "duration": 184,
    "start_time": "2023-06-27T09:25:47.358Z"
   },
   {
    "duration": 186,
    "start_time": "2023-06-27T09:25:47.544Z"
   },
   {
    "duration": 115,
    "start_time": "2023-06-27T09:25:47.732Z"
   },
   {
    "duration": 140,
    "start_time": "2023-06-27T09:25:47.857Z"
   },
   {
    "duration": 137,
    "start_time": "2023-06-27T09:25:47.998Z"
   },
   {
    "duration": 130,
    "start_time": "2023-06-27T09:25:48.136Z"
   },
   {
    "duration": 143,
    "start_time": "2023-06-27T09:25:48.268Z"
   },
   {
    "duration": 146,
    "start_time": "2023-06-27T09:25:48.412Z"
   },
   {
    "duration": 143,
    "start_time": "2023-06-27T09:25:48.562Z"
   },
   {
    "duration": 287,
    "start_time": "2023-06-27T09:25:48.707Z"
   },
   {
    "duration": 13,
    "start_time": "2023-06-27T09:25:48.996Z"
   },
   {
    "duration": 133,
    "start_time": "2023-06-27T09:25:49.012Z"
   },
   {
    "duration": 35,
    "start_time": "2023-06-27T09:25:49.147Z"
   },
   {
    "duration": 195,
    "start_time": "2023-06-27T09:25:49.183Z"
   },
   {
    "duration": 179,
    "start_time": "2023-06-27T09:25:49.380Z"
   },
   {
    "duration": 174,
    "start_time": "2023-06-27T09:25:49.560Z"
   },
   {
    "duration": 168,
    "start_time": "2023-06-27T09:25:49.736Z"
   },
   {
    "duration": 187,
    "start_time": "2023-06-27T09:25:49.906Z"
   },
   {
    "duration": 151,
    "start_time": "2023-06-27T09:25:50.095Z"
   },
   {
    "duration": 168,
    "start_time": "2023-06-27T09:25:50.248Z"
   },
   {
    "duration": 189,
    "start_time": "2023-06-27T09:25:50.418Z"
   },
   {
    "duration": 2,
    "start_time": "2023-06-27T09:25:50.609Z"
   },
   {
    "duration": 121,
    "start_time": "2023-06-27T09:25:50.613Z"
   },
   {
    "duration": 0,
    "start_time": "2023-06-27T09:25:50.736Z"
   },
   {
    "duration": 0,
    "start_time": "2023-06-27T09:25:50.737Z"
   },
   {
    "duration": 181,
    "start_time": "2023-06-27T09:27:05.703Z"
   },
   {
    "duration": 156,
    "start_time": "2023-06-27T09:27:20.784Z"
   },
   {
    "duration": 182,
    "start_time": "2023-06-27T09:27:33.004Z"
   },
   {
    "duration": 166,
    "start_time": "2023-06-27T09:27:44.292Z"
   },
   {
    "duration": 135,
    "start_time": "2023-06-27T09:29:13.909Z"
   },
   {
    "duration": 128,
    "start_time": "2023-06-27T09:29:26.188Z"
   },
   {
    "duration": 1623,
    "start_time": "2023-06-27T09:30:40.908Z"
   },
   {
    "duration": 506,
    "start_time": "2023-06-27T09:32:05.121Z"
   },
   {
    "duration": 45,
    "start_time": "2023-06-27T09:32:05.630Z"
   },
   {
    "duration": 15,
    "start_time": "2023-06-27T09:32:05.677Z"
   },
   {
    "duration": 2375,
    "start_time": "2023-06-27T09:32:05.694Z"
   },
   {
    "duration": 10,
    "start_time": "2023-06-27T09:32:08.071Z"
   },
   {
    "duration": 11,
    "start_time": "2023-06-27T09:32:08.082Z"
   },
   {
    "duration": 27,
    "start_time": "2023-06-27T09:32:08.095Z"
   },
   {
    "duration": 40,
    "start_time": "2023-06-27T09:32:08.123Z"
   },
   {
    "duration": 21,
    "start_time": "2023-06-27T09:32:08.165Z"
   },
   {
    "duration": 17,
    "start_time": "2023-06-27T09:32:08.188Z"
   },
   {
    "duration": 66,
    "start_time": "2023-06-27T09:32:08.206Z"
   },
   {
    "duration": 44,
    "start_time": "2023-06-27T09:32:08.274Z"
   },
   {
    "duration": 343,
    "start_time": "2023-06-27T09:32:08.320Z"
   },
   {
    "duration": 3,
    "start_time": "2023-06-27T09:32:08.665Z"
   },
   {
    "duration": 229,
    "start_time": "2023-06-27T09:32:08.670Z"
   },
   {
    "duration": 210,
    "start_time": "2023-06-27T09:32:08.901Z"
   },
   {
    "duration": 258,
    "start_time": "2023-06-27T09:32:09.112Z"
   },
   {
    "duration": 149,
    "start_time": "2023-06-27T09:32:09.371Z"
   },
   {
    "duration": 147,
    "start_time": "2023-06-27T09:32:09.522Z"
   },
   {
    "duration": 187,
    "start_time": "2023-06-27T09:32:09.671Z"
   },
   {
    "duration": 172,
    "start_time": "2023-06-27T09:32:09.860Z"
   },
   {
    "duration": 117,
    "start_time": "2023-06-27T09:32:10.034Z"
   },
   {
    "duration": 147,
    "start_time": "2023-06-27T09:32:10.157Z"
   },
   {
    "duration": 137,
    "start_time": "2023-06-27T09:32:10.306Z"
   },
   {
    "duration": 151,
    "start_time": "2023-06-27T09:32:10.444Z"
   },
   {
    "duration": 138,
    "start_time": "2023-06-27T09:32:10.597Z"
   },
   {
    "duration": 131,
    "start_time": "2023-06-27T09:32:10.737Z"
   },
   {
    "duration": 149,
    "start_time": "2023-06-27T09:32:10.872Z"
   },
   {
    "duration": 267,
    "start_time": "2023-06-27T09:32:11.022Z"
   },
   {
    "duration": 9,
    "start_time": "2023-06-27T09:32:11.290Z"
   },
   {
    "duration": 131,
    "start_time": "2023-06-27T09:32:11.301Z"
   },
   {
    "duration": 40,
    "start_time": "2023-06-27T09:32:11.434Z"
   },
   {
    "duration": 195,
    "start_time": "2023-06-27T09:32:11.476Z"
   },
   {
    "duration": 196,
    "start_time": "2023-06-27T09:32:11.672Z"
   },
   {
    "duration": 187,
    "start_time": "2023-06-27T09:32:11.871Z"
   },
   {
    "duration": 182,
    "start_time": "2023-06-27T09:32:12.060Z"
   },
   {
    "duration": 189,
    "start_time": "2023-06-27T09:32:12.244Z"
   },
   {
    "duration": 159,
    "start_time": "2023-06-27T09:32:12.435Z"
   },
   {
    "duration": 167,
    "start_time": "2023-06-27T09:32:12.595Z"
   },
   {
    "duration": 138,
    "start_time": "2023-06-27T09:32:12.764Z"
   },
   {
    "duration": 2489,
    "start_time": "2023-06-27T09:32:12.903Z"
   },
   {
    "duration": 0,
    "start_time": "2023-06-27T09:32:15.394Z"
   },
   {
    "duration": 0,
    "start_time": "2023-06-27T09:32:15.396Z"
   },
   {
    "duration": 0,
    "start_time": "2023-06-27T09:32:15.398Z"
   },
   {
    "duration": 29,
    "start_time": "2023-06-27T09:34:18.922Z"
   },
   {
    "duration": 13,
    "start_time": "2023-06-27T09:43:36.523Z"
   },
   {
    "duration": 523,
    "start_time": "2023-06-27T09:43:48.156Z"
   },
   {
    "duration": 43,
    "start_time": "2023-06-27T09:43:48.681Z"
   },
   {
    "duration": 30,
    "start_time": "2023-06-27T09:43:48.726Z"
   },
   {
    "duration": 2350,
    "start_time": "2023-06-27T09:43:48.759Z"
   },
   {
    "duration": 10,
    "start_time": "2023-06-27T09:43:51.111Z"
   },
   {
    "duration": 9,
    "start_time": "2023-06-27T09:43:51.122Z"
   },
   {
    "duration": 102,
    "start_time": "2023-06-27T09:43:51.133Z"
   },
   {
    "duration": 31,
    "start_time": "2023-06-27T09:43:51.237Z"
   },
   {
    "duration": 129,
    "start_time": "2023-06-27T09:43:51.269Z"
   },
   {
    "duration": 35,
    "start_time": "2023-06-27T09:43:51.401Z"
   },
   {
    "duration": 66,
    "start_time": "2023-06-27T09:43:51.438Z"
   },
   {
    "duration": 50,
    "start_time": "2023-06-27T09:43:51.506Z"
   },
   {
    "duration": 304,
    "start_time": "2023-06-27T09:43:51.558Z"
   },
   {
    "duration": 4,
    "start_time": "2023-06-27T09:43:51.864Z"
   },
   {
    "duration": 189,
    "start_time": "2023-06-27T09:43:51.870Z"
   },
   {
    "duration": 174,
    "start_time": "2023-06-27T09:43:52.061Z"
   },
   {
    "duration": 247,
    "start_time": "2023-06-27T09:43:52.237Z"
   },
   {
    "duration": 151,
    "start_time": "2023-06-27T09:43:52.486Z"
   },
   {
    "duration": 158,
    "start_time": "2023-06-27T09:43:52.639Z"
   },
   {
    "duration": 178,
    "start_time": "2023-06-27T09:43:52.799Z"
   },
   {
    "duration": 173,
    "start_time": "2023-06-27T09:43:52.979Z"
   },
   {
    "duration": 135,
    "start_time": "2023-06-27T09:43:53.154Z"
   },
   {
    "duration": 176,
    "start_time": "2023-06-27T09:43:53.292Z"
   },
   {
    "duration": 160,
    "start_time": "2023-06-27T09:43:53.470Z"
   },
   {
    "duration": 134,
    "start_time": "2023-06-27T09:43:53.632Z"
   },
   {
    "duration": 142,
    "start_time": "2023-06-27T09:43:53.768Z"
   },
   {
    "duration": 134,
    "start_time": "2023-06-27T09:43:53.911Z"
   },
   {
    "duration": 142,
    "start_time": "2023-06-27T09:43:54.055Z"
   },
   {
    "duration": 266,
    "start_time": "2023-06-27T09:43:54.199Z"
   },
   {
    "duration": 9,
    "start_time": "2023-06-27T09:43:54.467Z"
   },
   {
    "duration": 127,
    "start_time": "2023-06-27T09:43:54.477Z"
   },
   {
    "duration": 28,
    "start_time": "2023-06-27T09:43:54.606Z"
   },
   {
    "duration": 191,
    "start_time": "2023-06-27T09:43:54.636Z"
   },
   {
    "duration": 178,
    "start_time": "2023-06-27T09:43:54.829Z"
   },
   {
    "duration": 181,
    "start_time": "2023-06-27T09:43:55.008Z"
   },
   {
    "duration": 186,
    "start_time": "2023-06-27T09:43:55.190Z"
   },
   {
    "duration": 193,
    "start_time": "2023-06-27T09:43:55.378Z"
   },
   {
    "duration": 168,
    "start_time": "2023-06-27T09:43:55.573Z"
   },
   {
    "duration": 179,
    "start_time": "2023-06-27T09:43:55.743Z"
   },
   {
    "duration": 153,
    "start_time": "2023-06-27T09:43:55.924Z"
   },
   {
    "duration": 21,
    "start_time": "2023-06-27T09:43:56.079Z"
   },
   {
    "duration": 4,
    "start_time": "2023-06-27T09:43:56.102Z"
   },
   {
    "duration": 54,
    "start_time": "2023-06-27T09:43:56.108Z"
   },
   {
    "duration": 3,
    "start_time": "2023-06-27T09:43:56.163Z"
   },
   {
    "duration": 5,
    "start_time": "2023-06-27T09:44:12.389Z"
   },
   {
    "duration": 20,
    "start_time": "2023-06-27T09:44:15.282Z"
   },
   {
    "duration": 6,
    "start_time": "2023-06-27T09:44:22.182Z"
   },
   {
    "duration": 18,
    "start_time": "2023-06-27T09:44:24.775Z"
   },
   {
    "duration": 16,
    "start_time": "2023-06-27T09:45:36.344Z"
   },
   {
    "duration": 19,
    "start_time": "2023-06-27T09:46:06.292Z"
   },
   {
    "duration": 523,
    "start_time": "2023-06-27T09:46:23.545Z"
   },
   {
    "duration": 43,
    "start_time": "2023-06-27T09:46:24.070Z"
   },
   {
    "duration": 15,
    "start_time": "2023-06-27T09:46:24.115Z"
   },
   {
    "duration": 2169,
    "start_time": "2023-06-27T09:46:24.132Z"
   },
   {
    "duration": 10,
    "start_time": "2023-06-27T09:46:26.303Z"
   },
   {
    "duration": 8,
    "start_time": "2023-06-27T09:46:26.314Z"
   },
   {
    "duration": 22,
    "start_time": "2023-06-27T09:46:26.323Z"
   },
   {
    "duration": 24,
    "start_time": "2023-06-27T09:46:26.347Z"
   },
   {
    "duration": 21,
    "start_time": "2023-06-27T09:46:26.373Z"
   },
   {
    "duration": 19,
    "start_time": "2023-06-27T09:46:26.396Z"
   },
   {
    "duration": 72,
    "start_time": "2023-06-27T09:46:26.417Z"
   },
   {
    "duration": 43,
    "start_time": "2023-06-27T09:46:26.491Z"
   },
   {
    "duration": 315,
    "start_time": "2023-06-27T09:46:26.536Z"
   },
   {
    "duration": 4,
    "start_time": "2023-06-27T09:46:26.853Z"
   },
   {
    "duration": 170,
    "start_time": "2023-06-27T09:46:26.858Z"
   },
   {
    "duration": 168,
    "start_time": "2023-06-27T09:46:27.030Z"
   },
   {
    "duration": 259,
    "start_time": "2023-06-27T09:46:27.199Z"
   },
   {
    "duration": 140,
    "start_time": "2023-06-27T09:46:27.460Z"
   },
   {
    "duration": 158,
    "start_time": "2023-06-27T09:46:27.602Z"
   },
   {
    "duration": 175,
    "start_time": "2023-06-27T09:46:27.762Z"
   },
   {
    "duration": 167,
    "start_time": "2023-06-27T09:46:27.938Z"
   },
   {
    "duration": 118,
    "start_time": "2023-06-27T09:46:28.106Z"
   },
   {
    "duration": 147,
    "start_time": "2023-06-27T09:46:28.225Z"
   },
   {
    "duration": 148,
    "start_time": "2023-06-27T09:46:28.374Z"
   },
   {
    "duration": 138,
    "start_time": "2023-06-27T09:46:28.524Z"
   },
   {
    "duration": 149,
    "start_time": "2023-06-27T09:46:28.664Z"
   },
   {
    "duration": 197,
    "start_time": "2023-06-27T09:46:28.815Z"
   },
   {
    "duration": 183,
    "start_time": "2023-06-27T09:46:29.016Z"
   },
   {
    "duration": 256,
    "start_time": "2023-06-27T09:46:29.202Z"
   },
   {
    "duration": 9,
    "start_time": "2023-06-27T09:46:29.460Z"
   },
   {
    "duration": 131,
    "start_time": "2023-06-27T09:46:29.471Z"
   },
   {
    "duration": 29,
    "start_time": "2023-06-27T09:46:29.604Z"
   },
   {
    "duration": 189,
    "start_time": "2023-06-27T09:46:29.635Z"
   },
   {
    "duration": 175,
    "start_time": "2023-06-27T09:46:29.826Z"
   },
   {
    "duration": 186,
    "start_time": "2023-06-27T09:46:30.003Z"
   },
   {
    "duration": 185,
    "start_time": "2023-06-27T09:46:30.191Z"
   },
   {
    "duration": 188,
    "start_time": "2023-06-27T09:46:30.377Z"
   },
   {
    "duration": 164,
    "start_time": "2023-06-27T09:46:30.567Z"
   },
   {
    "duration": 190,
    "start_time": "2023-06-27T09:46:30.732Z"
   },
   {
    "duration": 146,
    "start_time": "2023-06-27T09:46:30.924Z"
   },
   {
    "duration": 22,
    "start_time": "2023-06-27T09:46:31.072Z"
   },
   {
    "duration": 16,
    "start_time": "2023-06-27T09:46:31.096Z"
   },
   {
    "duration": 44,
    "start_time": "2023-06-27T09:46:31.114Z"
   },
   {
    "duration": 13,
    "start_time": "2023-06-27T09:46:31.160Z"
   },
   {
    "duration": 79,
    "start_time": "2023-06-27T09:46:45.248Z"
   },
   {
    "duration": 5,
    "start_time": "2023-06-27T09:46:54.921Z"
   },
   {
    "duration": 9,
    "start_time": "2023-06-27T09:48:32.965Z"
   },
   {
    "duration": 1287,
    "start_time": "2023-06-27T09:51:17.703Z"
   },
   {
    "duration": 28,
    "start_time": "2023-06-27T10:00:22.452Z"
   },
   {
    "duration": 41,
    "start_time": "2023-06-27T10:00:35.861Z"
   },
   {
    "duration": 529,
    "start_time": "2023-06-27T10:00:46.151Z"
   },
   {
    "duration": 43,
    "start_time": "2023-06-27T10:00:46.682Z"
   },
   {
    "duration": 31,
    "start_time": "2023-06-27T10:00:46.727Z"
   },
   {
    "duration": 2385,
    "start_time": "2023-06-27T10:00:46.760Z"
   },
   {
    "duration": 9,
    "start_time": "2023-06-27T10:00:49.148Z"
   },
   {
    "duration": 8,
    "start_time": "2023-06-27T10:00:49.159Z"
   },
   {
    "duration": 22,
    "start_time": "2023-06-27T10:00:49.169Z"
   },
   {
    "duration": 24,
    "start_time": "2023-06-27T10:00:49.192Z"
   },
   {
    "duration": 6,
    "start_time": "2023-06-27T10:00:49.218Z"
   },
   {
    "duration": 43,
    "start_time": "2023-06-27T10:00:49.225Z"
   },
   {
    "duration": 88,
    "start_time": "2023-06-27T10:00:49.270Z"
   },
   {
    "duration": 46,
    "start_time": "2023-06-27T10:00:49.360Z"
   },
   {
    "duration": 337,
    "start_time": "2023-06-27T10:00:49.408Z"
   },
   {
    "duration": 4,
    "start_time": "2023-06-27T10:00:49.758Z"
   },
   {
    "duration": 167,
    "start_time": "2023-06-27T10:00:49.764Z"
   },
   {
    "duration": 163,
    "start_time": "2023-06-27T10:00:49.932Z"
   },
   {
    "duration": 249,
    "start_time": "2023-06-27T10:00:50.097Z"
   },
   {
    "duration": 150,
    "start_time": "2023-06-27T10:00:50.348Z"
   },
   {
    "duration": 159,
    "start_time": "2023-06-27T10:00:50.500Z"
   },
   {
    "duration": 190,
    "start_time": "2023-06-27T10:00:50.661Z"
   },
   {
    "duration": 184,
    "start_time": "2023-06-27T10:00:50.857Z"
   },
   {
    "duration": 121,
    "start_time": "2023-06-27T10:00:51.043Z"
   },
   {
    "duration": 157,
    "start_time": "2023-06-27T10:00:51.165Z"
   },
   {
    "duration": 141,
    "start_time": "2023-06-27T10:00:51.323Z"
   },
   {
    "duration": 131,
    "start_time": "2023-06-27T10:00:51.466Z"
   },
   {
    "duration": 164,
    "start_time": "2023-06-27T10:00:51.599Z"
   },
   {
    "duration": 143,
    "start_time": "2023-06-27T10:00:51.766Z"
   },
   {
    "duration": 139,
    "start_time": "2023-06-27T10:00:51.912Z"
   },
   {
    "duration": 270,
    "start_time": "2023-06-27T10:00:52.056Z"
   },
   {
    "duration": 10,
    "start_time": "2023-06-27T10:00:52.328Z"
   },
   {
    "duration": 128,
    "start_time": "2023-06-27T10:00:52.340Z"
   },
   {
    "duration": 28,
    "start_time": "2023-06-27T10:00:52.470Z"
   },
   {
    "duration": 209,
    "start_time": "2023-06-27T10:00:52.500Z"
   },
   {
    "duration": 193,
    "start_time": "2023-06-27T10:00:52.711Z"
   },
   {
    "duration": 172,
    "start_time": "2023-06-27T10:00:52.906Z"
   },
   {
    "duration": 188,
    "start_time": "2023-06-27T10:00:53.080Z"
   },
   {
    "duration": 189,
    "start_time": "2023-06-27T10:00:53.270Z"
   },
   {
    "duration": 174,
    "start_time": "2023-06-27T10:00:53.461Z"
   },
   {
    "duration": 211,
    "start_time": "2023-06-27T10:00:53.637Z"
   },
   {
    "duration": 149,
    "start_time": "2023-06-27T10:00:53.850Z"
   },
   {
    "duration": 25,
    "start_time": "2023-06-27T10:00:54.003Z"
   },
   {
    "duration": 6,
    "start_time": "2023-06-27T10:00:54.030Z"
   },
   {
    "duration": 26,
    "start_time": "2023-06-27T10:00:54.038Z"
   },
   {
    "duration": 146,
    "start_time": "2023-06-27T10:00:54.065Z"
   },
   {
    "duration": 0,
    "start_time": "2023-06-27T10:00:54.213Z"
   },
   {
    "duration": 25,
    "start_time": "2023-06-27T10:01:50.893Z"
   },
   {
    "duration": 18,
    "start_time": "2023-06-27T10:14:19.424Z"
   },
   {
    "duration": 28,
    "start_time": "2023-06-27T10:14:29.130Z"
   },
   {
    "duration": 10,
    "start_time": "2023-06-27T10:24:58.538Z"
   },
   {
    "duration": 22,
    "start_time": "2023-06-27T10:25:00.943Z"
   },
   {
    "duration": 2929,
    "start_time": "2023-06-27T10:25:03.904Z"
   },
   {
    "duration": 30,
    "start_time": "2023-06-27T10:26:07.608Z"
   },
   {
    "duration": 2,
    "start_time": "2023-06-27T10:26:26.325Z"
   },
   {
    "duration": 11,
    "start_time": "2023-06-27T10:26:57.603Z"
   },
   {
    "duration": 3581,
    "start_time": "2023-06-27T10:27:30.649Z"
   },
   {
    "duration": 8,
    "start_time": "2023-06-27T10:28:13.704Z"
   },
   {
    "duration": 7,
    "start_time": "2023-06-27T10:28:29.302Z"
   },
   {
    "duration": 14,
    "start_time": "2023-06-27T10:30:32.934Z"
   },
   {
    "duration": 6,
    "start_time": "2023-06-27T10:34:42.754Z"
   },
   {
    "duration": 10,
    "start_time": "2023-06-27T10:34:44.842Z"
   },
   {
    "duration": 8,
    "start_time": "2023-06-27T10:35:13.060Z"
   },
   {
    "duration": 96,
    "start_time": "2023-06-27T10:36:16.950Z"
   },
   {
    "duration": 8,
    "start_time": "2023-06-27T10:36:26.609Z"
   },
   {
    "duration": 531,
    "start_time": "2023-06-27T10:36:34.847Z"
   },
   {
    "duration": 45,
    "start_time": "2023-06-27T10:36:35.380Z"
   },
   {
    "duration": 33,
    "start_time": "2023-06-27T10:36:35.426Z"
   },
   {
    "duration": 2280,
    "start_time": "2023-06-27T10:36:35.461Z"
   },
   {
    "duration": 11,
    "start_time": "2023-06-27T10:36:37.744Z"
   },
   {
    "duration": 10,
    "start_time": "2023-06-27T10:36:37.756Z"
   },
   {
    "duration": 21,
    "start_time": "2023-06-27T10:36:37.768Z"
   },
   {
    "duration": 24,
    "start_time": "2023-06-27T10:36:37.791Z"
   },
   {
    "duration": 12,
    "start_time": "2023-06-27T10:36:37.817Z"
   },
   {
    "duration": 37,
    "start_time": "2023-06-27T10:36:37.831Z"
   },
   {
    "duration": 69,
    "start_time": "2023-06-27T10:36:37.870Z"
   },
   {
    "duration": 46,
    "start_time": "2023-06-27T10:36:37.956Z"
   },
   {
    "duration": 320,
    "start_time": "2023-06-27T10:36:38.004Z"
   },
   {
    "duration": 3,
    "start_time": "2023-06-27T10:36:38.328Z"
   },
   {
    "duration": 197,
    "start_time": "2023-06-27T10:36:38.332Z"
   },
   {
    "duration": 171,
    "start_time": "2023-06-27T10:36:38.531Z"
   },
   {
    "duration": 299,
    "start_time": "2023-06-27T10:36:38.705Z"
   },
   {
    "duration": 185,
    "start_time": "2023-06-27T10:36:39.006Z"
   },
   {
    "duration": 167,
    "start_time": "2023-06-27T10:36:39.193Z"
   },
   {
    "duration": 196,
    "start_time": "2023-06-27T10:36:39.362Z"
   },
   {
    "duration": 177,
    "start_time": "2023-06-27T10:36:39.561Z"
   },
   {
    "duration": 121,
    "start_time": "2023-06-27T10:36:39.740Z"
   },
   {
    "duration": 175,
    "start_time": "2023-06-27T10:36:39.863Z"
   },
   {
    "duration": 146,
    "start_time": "2023-06-27T10:36:40.040Z"
   },
   {
    "duration": 145,
    "start_time": "2023-06-27T10:36:40.188Z"
   },
   {
    "duration": 145,
    "start_time": "2023-06-27T10:36:40.335Z"
   },
   {
    "duration": 134,
    "start_time": "2023-06-27T10:36:40.481Z"
   },
   {
    "duration": 151,
    "start_time": "2023-06-27T10:36:40.616Z"
   },
   {
    "duration": 266,
    "start_time": "2023-06-27T10:36:40.769Z"
   },
   {
    "duration": 10,
    "start_time": "2023-06-27T10:36:41.037Z"
   },
   {
    "duration": 208,
    "start_time": "2023-06-27T10:36:41.057Z"
   },
   {
    "duration": 29,
    "start_time": "2023-06-27T10:36:41.267Z"
   },
   {
    "duration": 194,
    "start_time": "2023-06-27T10:36:41.298Z"
   },
   {
    "duration": 176,
    "start_time": "2023-06-27T10:36:41.494Z"
   },
   {
    "duration": 187,
    "start_time": "2023-06-27T10:36:41.671Z"
   },
   {
    "duration": 187,
    "start_time": "2023-06-27T10:36:41.860Z"
   },
   {
    "duration": 187,
    "start_time": "2023-06-27T10:36:42.049Z"
   },
   {
    "duration": 161,
    "start_time": "2023-06-27T10:36:42.238Z"
   },
   {
    "duration": 180,
    "start_time": "2023-06-27T10:36:42.401Z"
   },
   {
    "duration": 147,
    "start_time": "2023-06-27T10:36:42.583Z"
   },
   {
    "duration": 38,
    "start_time": "2023-06-27T10:36:42.734Z"
   },
   {
    "duration": 5,
    "start_time": "2023-06-27T10:36:42.774Z"
   },
   {
    "duration": 89,
    "start_time": "2023-06-27T10:36:42.780Z"
   },
   {
    "duration": 0,
    "start_time": "2023-06-27T10:36:42.871Z"
   },
   {
    "duration": 0,
    "start_time": "2023-06-27T10:36:42.873Z"
   },
   {
    "duration": 0,
    "start_time": "2023-06-27T10:36:42.874Z"
   },
   {
    "duration": 0,
    "start_time": "2023-06-27T10:36:42.875Z"
   },
   {
    "duration": 8,
    "start_time": "2023-06-27T10:37:51.142Z"
   },
   {
    "duration": 63,
    "start_time": "2023-06-27T10:37:55.305Z"
   },
   {
    "duration": 123,
    "start_time": "2023-06-27T10:39:07.635Z"
   },
   {
    "duration": 38,
    "start_time": "2023-06-27T10:39:58.523Z"
   },
   {
    "duration": 29,
    "start_time": "2023-06-27T10:40:34.416Z"
   },
   {
    "duration": 33,
    "start_time": "2023-06-27T10:42:41.553Z"
   },
   {
    "duration": 9,
    "start_time": "2023-06-27T10:44:28.699Z"
   },
   {
    "duration": 5,
    "start_time": "2023-06-27T10:57:40.305Z"
   },
   {
    "duration": 29,
    "start_time": "2023-06-27T10:58:24.695Z"
   },
   {
    "duration": 27,
    "start_time": "2023-06-27T10:59:21.452Z"
   },
   {
    "duration": 35,
    "start_time": "2023-06-27T10:59:30.900Z"
   },
   {
    "duration": 14,
    "start_time": "2023-06-27T11:01:24.648Z"
   },
   {
    "duration": 13,
    "start_time": "2023-06-27T11:01:49.057Z"
   },
   {
    "duration": 12,
    "start_time": "2023-06-27T11:02:06.723Z"
   },
   {
    "duration": 41,
    "start_time": "2023-06-27T11:03:17.207Z"
   },
   {
    "duration": 9,
    "start_time": "2023-06-27T11:03:29.123Z"
   },
   {
    "duration": 6,
    "start_time": "2023-06-27T11:04:33.943Z"
   },
   {
    "duration": 4,
    "start_time": "2023-06-27T11:04:59.226Z"
   },
   {
    "duration": 4,
    "start_time": "2023-06-27T11:05:02.148Z"
   },
   {
    "duration": 5,
    "start_time": "2023-06-27T11:05:07.782Z"
   },
   {
    "duration": 6,
    "start_time": "2023-06-27T11:06:45.550Z"
   },
   {
    "duration": 6,
    "start_time": "2023-06-27T11:07:09.294Z"
   },
   {
    "duration": 10,
    "start_time": "2023-06-27T11:15:02.112Z"
   },
   {
    "duration": 15,
    "start_time": "2023-06-27T11:16:21.723Z"
   },
   {
    "duration": 478,
    "start_time": "2023-06-27T11:16:34.597Z"
   },
   {
    "duration": 40,
    "start_time": "2023-06-27T11:16:35.078Z"
   },
   {
    "duration": 15,
    "start_time": "2023-06-27T11:16:35.120Z"
   },
   {
    "duration": 2389,
    "start_time": "2023-06-27T11:16:35.136Z"
   },
   {
    "duration": 10,
    "start_time": "2023-06-27T11:16:37.528Z"
   },
   {
    "duration": 32,
    "start_time": "2023-06-27T11:16:37.540Z"
   },
   {
    "duration": 24,
    "start_time": "2023-06-27T11:16:37.574Z"
   },
   {
    "duration": 23,
    "start_time": "2023-06-27T11:16:37.600Z"
   },
   {
    "duration": 8,
    "start_time": "2023-06-27T11:16:37.625Z"
   },
   {
    "duration": 26,
    "start_time": "2023-06-27T11:16:37.634Z"
   },
   {
    "duration": 73,
    "start_time": "2023-06-27T11:16:37.662Z"
   },
   {
    "duration": 64,
    "start_time": "2023-06-27T11:16:37.737Z"
   },
   {
    "duration": 355,
    "start_time": "2023-06-27T11:16:37.803Z"
   },
   {
    "duration": 4,
    "start_time": "2023-06-27T11:16:38.162Z"
   },
   {
    "duration": 192,
    "start_time": "2023-06-27T11:16:38.168Z"
   },
   {
    "duration": 181,
    "start_time": "2023-06-27T11:16:38.362Z"
   },
   {
    "duration": 235,
    "start_time": "2023-06-27T11:16:38.544Z"
   },
   {
    "duration": 182,
    "start_time": "2023-06-27T11:16:38.781Z"
   },
   {
    "duration": 199,
    "start_time": "2023-06-27T11:16:38.965Z"
   },
   {
    "duration": 208,
    "start_time": "2023-06-27T11:16:39.166Z"
   },
   {
    "duration": 166,
    "start_time": "2023-06-27T11:16:39.376Z"
   },
   {
    "duration": 123,
    "start_time": "2023-06-27T11:16:39.544Z"
   },
   {
    "duration": 158,
    "start_time": "2023-06-27T11:16:39.669Z"
   },
   {
    "duration": 155,
    "start_time": "2023-06-27T11:16:39.829Z"
   },
   {
    "duration": 139,
    "start_time": "2023-06-27T11:16:39.986Z"
   },
   {
    "duration": 142,
    "start_time": "2023-06-27T11:16:40.127Z"
   },
   {
    "duration": 132,
    "start_time": "2023-06-27T11:16:40.271Z"
   },
   {
    "duration": 156,
    "start_time": "2023-06-27T11:16:40.405Z"
   },
   {
    "duration": 266,
    "start_time": "2023-06-27T11:16:40.563Z"
   },
   {
    "duration": 9,
    "start_time": "2023-06-27T11:16:40.831Z"
   },
   {
    "duration": 136,
    "start_time": "2023-06-27T11:16:40.842Z"
   },
   {
    "duration": 26,
    "start_time": "2023-06-27T11:16:40.980Z"
   },
   {
    "duration": 189,
    "start_time": "2023-06-27T11:16:41.008Z"
   },
   {
    "duration": 186,
    "start_time": "2023-06-27T11:16:41.199Z"
   },
   {
    "duration": 171,
    "start_time": "2023-06-27T11:16:41.387Z"
   },
   {
    "duration": 189,
    "start_time": "2023-06-27T11:16:41.561Z"
   },
   {
    "duration": 199,
    "start_time": "2023-06-27T11:16:41.752Z"
   },
   {
    "duration": 170,
    "start_time": "2023-06-27T11:16:41.955Z"
   },
   {
    "duration": 182,
    "start_time": "2023-06-27T11:16:42.126Z"
   },
   {
    "duration": 140,
    "start_time": "2023-06-27T11:16:42.310Z"
   },
   {
    "duration": 29,
    "start_time": "2023-06-27T11:16:42.458Z"
   },
   {
    "duration": 6,
    "start_time": "2023-06-27T11:16:42.488Z"
   },
   {
    "duration": 33,
    "start_time": "2023-06-27T11:16:42.496Z"
   },
   {
    "duration": 35,
    "start_time": "2023-06-27T11:16:42.531Z"
   },
   {
    "duration": 7,
    "start_time": "2023-06-27T11:16:42.568Z"
   },
   {
    "duration": 8,
    "start_time": "2023-06-27T11:16:42.576Z"
   },
   {
    "duration": 105,
    "start_time": "2023-06-27T11:16:42.586Z"
   },
   {
    "duration": 200,
    "start_time": "2023-06-27T11:20:02.075Z"
   },
   {
    "duration": 67,
    "start_time": "2023-06-27T11:20:09.874Z"
   },
   {
    "duration": 8,
    "start_time": "2023-06-27T11:20:22.315Z"
   },
   {
    "duration": 7,
    "start_time": "2023-06-27T11:20:33.872Z"
   },
   {
    "duration": 41,
    "start_time": "2023-06-27T11:20:40.999Z"
   },
   {
    "duration": 12,
    "start_time": "2023-06-27T11:20:58.898Z"
   },
   {
    "duration": 9,
    "start_time": "2023-06-27T11:21:26.845Z"
   },
   {
    "duration": 499,
    "start_time": "2023-06-27T11:22:07.490Z"
   },
   {
    "duration": 43,
    "start_time": "2023-06-27T11:22:07.991Z"
   },
   {
    "duration": 34,
    "start_time": "2023-06-27T11:22:08.036Z"
   },
   {
    "duration": 2449,
    "start_time": "2023-06-27T11:22:08.072Z"
   },
   {
    "duration": 10,
    "start_time": "2023-06-27T11:22:10.524Z"
   },
   {
    "duration": 10,
    "start_time": "2023-06-27T11:22:10.535Z"
   },
   {
    "duration": 29,
    "start_time": "2023-06-27T11:22:10.547Z"
   },
   {
    "duration": 22,
    "start_time": "2023-06-27T11:22:10.578Z"
   },
   {
    "duration": 6,
    "start_time": "2023-06-27T11:22:10.602Z"
   },
   {
    "duration": 15,
    "start_time": "2023-06-27T11:22:10.609Z"
   },
   {
    "duration": 94,
    "start_time": "2023-06-27T11:22:10.626Z"
   },
   {
    "duration": 56,
    "start_time": "2023-06-27T11:22:10.722Z"
   },
   {
    "duration": 329,
    "start_time": "2023-06-27T11:22:10.780Z"
   },
   {
    "duration": 4,
    "start_time": "2023-06-27T11:22:11.112Z"
   },
   {
    "duration": 179,
    "start_time": "2023-06-27T11:22:11.119Z"
   },
   {
    "duration": 177,
    "start_time": "2023-06-27T11:22:11.300Z"
   },
   {
    "duration": 261,
    "start_time": "2023-06-27T11:22:11.479Z"
   },
   {
    "duration": 173,
    "start_time": "2023-06-27T11:22:11.742Z"
   },
   {
    "duration": 163,
    "start_time": "2023-06-27T11:22:11.917Z"
   },
   {
    "duration": 201,
    "start_time": "2023-06-27T11:22:12.082Z"
   },
   {
    "duration": 188,
    "start_time": "2023-06-27T11:22:12.285Z"
   },
   {
    "duration": 145,
    "start_time": "2023-06-27T11:22:12.475Z"
   },
   {
    "duration": 181,
    "start_time": "2023-06-27T11:22:12.622Z"
   },
   {
    "duration": 145,
    "start_time": "2023-06-27T11:22:12.805Z"
   },
   {
    "duration": 141,
    "start_time": "2023-06-27T11:22:12.956Z"
   },
   {
    "duration": 147,
    "start_time": "2023-06-27T11:22:13.099Z"
   },
   {
    "duration": 140,
    "start_time": "2023-06-27T11:22:13.249Z"
   },
   {
    "duration": 154,
    "start_time": "2023-06-27T11:22:13.391Z"
   },
   {
    "duration": 264,
    "start_time": "2023-06-27T11:22:13.547Z"
   },
   {
    "duration": 10,
    "start_time": "2023-06-27T11:22:13.812Z"
   },
   {
    "duration": 138,
    "start_time": "2023-06-27T11:22:13.824Z"
   },
   {
    "duration": 31,
    "start_time": "2023-06-27T11:22:13.964Z"
   },
   {
    "duration": 207,
    "start_time": "2023-06-27T11:22:13.996Z"
   },
   {
    "duration": 189,
    "start_time": "2023-06-27T11:22:14.205Z"
   },
   {
    "duration": 181,
    "start_time": "2023-06-27T11:22:14.396Z"
   },
   {
    "duration": 177,
    "start_time": "2023-06-27T11:22:14.579Z"
   },
   {
    "duration": 186,
    "start_time": "2023-06-27T11:22:14.758Z"
   },
   {
    "duration": 169,
    "start_time": "2023-06-27T11:22:14.946Z"
   },
   {
    "duration": 192,
    "start_time": "2023-06-27T11:22:15.117Z"
   },
   {
    "duration": 145,
    "start_time": "2023-06-27T11:22:15.311Z"
   },
   {
    "duration": 22,
    "start_time": "2023-06-27T11:22:15.461Z"
   },
   {
    "duration": 6,
    "start_time": "2023-06-27T11:22:15.486Z"
   },
   {
    "duration": 39,
    "start_time": "2023-06-27T11:22:15.494Z"
   },
   {
    "duration": 30,
    "start_time": "2023-06-27T11:22:15.535Z"
   },
   {
    "duration": 5,
    "start_time": "2023-06-27T11:22:15.572Z"
   },
   {
    "duration": 7,
    "start_time": "2023-06-27T11:22:15.579Z"
   },
   {
    "duration": 22,
    "start_time": "2023-06-27T11:22:15.588Z"
   },
   {
    "duration": 77,
    "start_time": "2023-06-27T11:24:07.586Z"
   },
   {
    "duration": 13,
    "start_time": "2023-06-27T11:24:54.786Z"
   },
   {
    "duration": 9,
    "start_time": "2023-06-27T11:25:19.478Z"
   },
   {
    "duration": 9,
    "start_time": "2023-06-27T11:32:53.279Z"
   },
   {
    "duration": 29,
    "start_time": "2023-06-27T11:32:55.239Z"
   },
   {
    "duration": 49,
    "start_time": "2023-06-27T11:36:21.322Z"
   },
   {
    "duration": 15,
    "start_time": "2023-06-27T11:36:30.802Z"
   },
   {
    "duration": 538,
    "start_time": "2023-06-27T11:36:49.036Z"
   },
   {
    "duration": 45,
    "start_time": "2023-06-27T11:36:49.576Z"
   },
   {
    "duration": 17,
    "start_time": "2023-06-27T11:36:49.623Z"
   },
   {
    "duration": 2396,
    "start_time": "2023-06-27T11:36:49.657Z"
   },
   {
    "duration": 10,
    "start_time": "2023-06-27T11:36:52.056Z"
   },
   {
    "duration": 22,
    "start_time": "2023-06-27T11:36:52.067Z"
   },
   {
    "duration": 33,
    "start_time": "2023-06-27T11:36:52.091Z"
   },
   {
    "duration": 32,
    "start_time": "2023-06-27T11:36:52.126Z"
   },
   {
    "duration": 7,
    "start_time": "2023-06-27T11:36:52.160Z"
   },
   {
    "duration": 16,
    "start_time": "2023-06-27T11:36:52.170Z"
   },
   {
    "duration": 106,
    "start_time": "2023-06-27T11:36:52.188Z"
   },
   {
    "duration": 61,
    "start_time": "2023-06-27T11:36:52.296Z"
   },
   {
    "duration": 332,
    "start_time": "2023-06-27T11:36:52.359Z"
   },
   {
    "duration": 5,
    "start_time": "2023-06-27T11:36:52.693Z"
   },
   {
    "duration": 192,
    "start_time": "2023-06-27T11:36:52.699Z"
   },
   {
    "duration": 174,
    "start_time": "2023-06-27T11:36:52.893Z"
   },
   {
    "duration": 272,
    "start_time": "2023-06-27T11:36:53.069Z"
   },
   {
    "duration": 169,
    "start_time": "2023-06-27T11:36:53.343Z"
   },
   {
    "duration": 161,
    "start_time": "2023-06-27T11:36:53.514Z"
   },
   {
    "duration": 197,
    "start_time": "2023-06-27T11:36:53.677Z"
   },
   {
    "duration": 190,
    "start_time": "2023-06-27T11:36:53.876Z"
   },
   {
    "duration": 129,
    "start_time": "2023-06-27T11:36:54.068Z"
   },
   {
    "duration": 149,
    "start_time": "2023-06-27T11:36:54.198Z"
   },
   {
    "duration": 156,
    "start_time": "2023-06-27T11:36:54.349Z"
   },
   {
    "duration": 158,
    "start_time": "2023-06-27T11:36:54.507Z"
   },
   {
    "duration": 197,
    "start_time": "2023-06-27T11:36:54.666Z"
   },
   {
    "duration": 155,
    "start_time": "2023-06-27T11:36:54.865Z"
   },
   {
    "duration": 153,
    "start_time": "2023-06-27T11:36:55.023Z"
   },
   {
    "duration": 281,
    "start_time": "2023-06-27T11:36:55.178Z"
   },
   {
    "duration": 10,
    "start_time": "2023-06-27T11:36:55.460Z"
   },
   {
    "duration": 135,
    "start_time": "2023-06-27T11:36:55.472Z"
   },
   {
    "duration": 28,
    "start_time": "2023-06-27T11:36:55.609Z"
   },
   {
    "duration": 197,
    "start_time": "2023-06-27T11:36:55.639Z"
   },
   {
    "duration": 186,
    "start_time": "2023-06-27T11:36:55.837Z"
   },
   {
    "duration": 178,
    "start_time": "2023-06-27T11:36:56.025Z"
   },
   {
    "duration": 187,
    "start_time": "2023-06-27T11:36:56.206Z"
   },
   {
    "duration": 212,
    "start_time": "2023-06-27T11:36:56.395Z"
   },
   {
    "duration": 192,
    "start_time": "2023-06-27T11:36:56.609Z"
   },
   {
    "duration": 194,
    "start_time": "2023-06-27T11:36:56.803Z"
   },
   {
    "duration": 157,
    "start_time": "2023-06-27T11:36:57.000Z"
   },
   {
    "duration": 22,
    "start_time": "2023-06-27T11:36:57.160Z"
   },
   {
    "duration": 24,
    "start_time": "2023-06-27T11:36:57.184Z"
   },
   {
    "duration": 56,
    "start_time": "2023-06-27T11:36:57.211Z"
   },
   {
    "duration": 10,
    "start_time": "2023-06-27T11:36:57.270Z"
   },
   {
    "duration": 17,
    "start_time": "2023-06-27T11:36:57.282Z"
   },
   {
    "duration": 38,
    "start_time": "2023-06-27T11:36:57.301Z"
   },
   {
    "duration": 107,
    "start_time": "2023-06-27T11:36:57.342Z"
   },
   {
    "duration": 22,
    "start_time": "2023-06-27T11:36:57.452Z"
   },
   {
    "duration": 12,
    "start_time": "2023-06-27T11:37:51.629Z"
   },
   {
    "duration": 14,
    "start_time": "2023-06-27T11:37:56.597Z"
   },
   {
    "duration": 5,
    "start_time": "2023-06-27T11:38:14.542Z"
   },
   {
    "duration": 41,
    "start_time": "2023-06-27T11:38:24.789Z"
   },
   {
    "duration": 5,
    "start_time": "2023-06-27T11:42:25.801Z"
   },
   {
    "duration": 6,
    "start_time": "2023-06-27T11:43:03.416Z"
   },
   {
    "duration": 487,
    "start_time": "2023-06-27T11:44:20.683Z"
   },
   {
    "duration": 44,
    "start_time": "2023-06-27T11:44:21.172Z"
   },
   {
    "duration": 18,
    "start_time": "2023-06-27T11:44:21.218Z"
   },
   {
    "duration": 2249,
    "start_time": "2023-06-27T11:44:21.256Z"
   },
   {
    "duration": 9,
    "start_time": "2023-06-27T11:44:23.508Z"
   },
   {
    "duration": 8,
    "start_time": "2023-06-27T11:44:23.519Z"
   },
   {
    "duration": 28,
    "start_time": "2023-06-27T11:44:23.529Z"
   },
   {
    "duration": 22,
    "start_time": "2023-06-27T11:44:23.559Z"
   },
   {
    "duration": 6,
    "start_time": "2023-06-27T11:44:23.583Z"
   },
   {
    "duration": 12,
    "start_time": "2023-06-27T11:44:23.590Z"
   },
   {
    "duration": 94,
    "start_time": "2023-06-27T11:44:23.604Z"
   },
   {
    "duration": 56,
    "start_time": "2023-06-27T11:44:23.700Z"
   },
   {
    "duration": 340,
    "start_time": "2023-06-27T11:44:23.758Z"
   },
   {
    "duration": 4,
    "start_time": "2023-06-27T11:44:24.101Z"
   },
   {
    "duration": 177,
    "start_time": "2023-06-27T11:44:24.106Z"
   },
   {
    "duration": 170,
    "start_time": "2023-06-27T11:44:24.285Z"
   },
   {
    "duration": 247,
    "start_time": "2023-06-27T11:44:24.457Z"
   },
   {
    "duration": 150,
    "start_time": "2023-06-27T11:44:24.706Z"
   },
   {
    "duration": 158,
    "start_time": "2023-06-27T11:44:24.858Z"
   },
   {
    "duration": 177,
    "start_time": "2023-06-27T11:44:25.018Z"
   },
   {
    "duration": 165,
    "start_time": "2023-06-27T11:44:25.196Z"
   },
   {
    "duration": 115,
    "start_time": "2023-06-27T11:44:25.362Z"
   },
   {
    "duration": 148,
    "start_time": "2023-06-27T11:44:25.479Z"
   },
   {
    "duration": 136,
    "start_time": "2023-06-27T11:44:25.628Z"
   },
   {
    "duration": 136,
    "start_time": "2023-06-27T11:44:25.765Z"
   },
   {
    "duration": 136,
    "start_time": "2023-06-27T11:44:25.902Z"
   },
   {
    "duration": 141,
    "start_time": "2023-06-27T11:44:26.040Z"
   },
   {
    "duration": 137,
    "start_time": "2023-06-27T11:44:26.182Z"
   },
   {
    "duration": 257,
    "start_time": "2023-06-27T11:44:26.320Z"
   },
   {
    "duration": 9,
    "start_time": "2023-06-27T11:44:26.578Z"
   },
   {
    "duration": 135,
    "start_time": "2023-06-27T11:44:26.588Z"
   },
   {
    "duration": 38,
    "start_time": "2023-06-27T11:44:26.724Z"
   },
   {
    "duration": 189,
    "start_time": "2023-06-27T11:44:26.764Z"
   },
   {
    "duration": 176,
    "start_time": "2023-06-27T11:44:26.957Z"
   },
   {
    "duration": 181,
    "start_time": "2023-06-27T11:44:27.134Z"
   },
   {
    "duration": 184,
    "start_time": "2023-06-27T11:44:27.316Z"
   },
   {
    "duration": 181,
    "start_time": "2023-06-27T11:44:27.502Z"
   },
   {
    "duration": 164,
    "start_time": "2023-06-27T11:44:27.685Z"
   },
   {
    "duration": 183,
    "start_time": "2023-06-27T11:44:27.851Z"
   },
   {
    "duration": 157,
    "start_time": "2023-06-27T11:44:28.036Z"
   },
   {
    "duration": 21,
    "start_time": "2023-06-27T11:44:28.198Z"
   },
   {
    "duration": 8,
    "start_time": "2023-06-27T11:44:28.221Z"
   },
   {
    "duration": 58,
    "start_time": "2023-06-27T11:44:28.230Z"
   },
   {
    "duration": 11,
    "start_time": "2023-06-27T11:44:28.290Z"
   },
   {
    "duration": 16,
    "start_time": "2023-06-27T11:44:28.303Z"
   },
   {
    "duration": 10,
    "start_time": "2023-06-27T11:44:28.321Z"
   },
   {
    "duration": 30,
    "start_time": "2023-06-27T11:44:28.333Z"
   },
   {
    "duration": 31,
    "start_time": "2023-06-27T11:44:28.365Z"
   },
   {
    "duration": 58,
    "start_time": "2023-06-27T11:44:28.398Z"
   },
   {
    "duration": 6,
    "start_time": "2023-06-27T11:44:28.459Z"
   },
   {
    "duration": 570,
    "start_time": "2023-06-27T12:19:59.724Z"
   },
   {
    "duration": 43,
    "start_time": "2023-06-27T12:20:00.296Z"
   },
   {
    "duration": 20,
    "start_time": "2023-06-27T12:20:00.356Z"
   },
   {
    "duration": 2570,
    "start_time": "2023-06-27T12:20:00.379Z"
   },
   {
    "duration": 11,
    "start_time": "2023-06-27T12:20:02.951Z"
   },
   {
    "duration": 32,
    "start_time": "2023-06-27T12:20:02.963Z"
   },
   {
    "duration": 22,
    "start_time": "2023-06-27T12:20:02.997Z"
   },
   {
    "duration": 39,
    "start_time": "2023-06-27T12:20:03.021Z"
   },
   {
    "duration": 12,
    "start_time": "2023-06-27T12:20:03.062Z"
   },
   {
    "duration": 26,
    "start_time": "2023-06-27T12:20:03.077Z"
   },
   {
    "duration": 76,
    "start_time": "2023-06-27T12:20:03.105Z"
   },
   {
    "duration": 57,
    "start_time": "2023-06-27T12:20:03.183Z"
   },
   {
    "duration": 379,
    "start_time": "2023-06-27T12:20:03.242Z"
   },
   {
    "duration": 6,
    "start_time": "2023-06-27T12:20:03.622Z"
   },
   {
    "duration": 209,
    "start_time": "2023-06-27T12:20:03.630Z"
   },
   {
    "duration": 191,
    "start_time": "2023-06-27T12:20:03.840Z"
   },
   {
    "duration": 318,
    "start_time": "2023-06-27T12:20:04.034Z"
   },
   {
    "duration": 169,
    "start_time": "2023-06-27T12:20:04.354Z"
   },
   {
    "duration": 153,
    "start_time": "2023-06-27T12:20:04.525Z"
   },
   {
    "duration": 182,
    "start_time": "2023-06-27T12:20:04.681Z"
   },
   {
    "duration": 163,
    "start_time": "2023-06-27T12:20:04.866Z"
   },
   {
    "duration": 131,
    "start_time": "2023-06-27T12:20:05.031Z"
   },
   {
    "duration": 202,
    "start_time": "2023-06-27T12:20:05.164Z"
   },
   {
    "duration": 215,
    "start_time": "2023-06-27T12:20:05.367Z"
   },
   {
    "duration": 175,
    "start_time": "2023-06-27T12:20:05.585Z"
   },
   {
    "duration": 152,
    "start_time": "2023-06-27T12:20:05.763Z"
   },
   {
    "duration": 162,
    "start_time": "2023-06-27T12:20:05.917Z"
   },
   {
    "duration": 174,
    "start_time": "2023-06-27T12:20:06.083Z"
   },
   {
    "duration": 339,
    "start_time": "2023-06-27T12:20:06.259Z"
   },
   {
    "duration": 11,
    "start_time": "2023-06-27T12:20:06.601Z"
   },
   {
    "duration": 127,
    "start_time": "2023-06-27T12:20:06.613Z"
   },
   {
    "duration": 41,
    "start_time": "2023-06-27T12:20:06.742Z"
   },
   {
    "duration": 220,
    "start_time": "2023-06-27T12:20:06.785Z"
   },
   {
    "duration": 189,
    "start_time": "2023-06-27T12:20:07.008Z"
   },
   {
    "duration": 231,
    "start_time": "2023-06-27T12:20:07.199Z"
   },
   {
    "duration": 213,
    "start_time": "2023-06-27T12:20:07.432Z"
   },
   {
    "duration": 204,
    "start_time": "2023-06-27T12:20:07.647Z"
   },
   {
    "duration": 177,
    "start_time": "2023-06-27T12:20:07.854Z"
   },
   {
    "duration": 195,
    "start_time": "2023-06-27T12:20:08.033Z"
   },
   {
    "duration": 168,
    "start_time": "2023-06-27T12:20:08.230Z"
   },
   {
    "duration": 27,
    "start_time": "2023-06-27T12:20:08.400Z"
   },
   {
    "duration": 34,
    "start_time": "2023-06-27T12:20:08.430Z"
   },
   {
    "duration": 66,
    "start_time": "2023-06-27T12:20:08.471Z"
   },
   {
    "duration": 10,
    "start_time": "2023-06-27T12:20:08.539Z"
   },
   {
    "duration": 20,
    "start_time": "2023-06-27T12:20:08.551Z"
   },
   {
    "duration": 34,
    "start_time": "2023-06-27T12:20:08.573Z"
   },
   {
    "duration": 34,
    "start_time": "2023-06-27T12:20:08.609Z"
   },
   {
    "duration": 33,
    "start_time": "2023-06-27T12:20:08.646Z"
   },
   {
    "duration": 64,
    "start_time": "2023-06-27T12:20:08.681Z"
   },
   {
    "duration": 6,
    "start_time": "2023-06-27T12:20:08.747Z"
   },
   {
    "duration": 509,
    "start_time": "2023-06-27T12:21:35.168Z"
   },
   {
    "duration": 42,
    "start_time": "2023-06-27T12:21:35.681Z"
   },
   {
    "duration": 69,
    "start_time": "2023-06-27T12:21:35.724Z"
   },
   {
    "duration": 2554,
    "start_time": "2023-06-27T12:21:35.795Z"
   },
   {
    "duration": 23,
    "start_time": "2023-06-27T12:21:38.352Z"
   },
   {
    "duration": 13,
    "start_time": "2023-06-27T12:21:38.377Z"
   },
   {
    "duration": 33,
    "start_time": "2023-06-27T12:21:38.392Z"
   },
   {
    "duration": 65,
    "start_time": "2023-06-27T12:21:38.427Z"
   },
   {
    "duration": 10,
    "start_time": "2023-06-27T12:21:38.495Z"
   },
   {
    "duration": 20,
    "start_time": "2023-06-27T12:21:38.509Z"
   },
   {
    "duration": 142,
    "start_time": "2023-06-27T12:21:38.531Z"
   },
   {
    "duration": 51,
    "start_time": "2023-06-27T12:21:38.679Z"
   },
   {
    "duration": 568,
    "start_time": "2023-06-27T12:21:38.732Z"
   },
   {
    "duration": 5,
    "start_time": "2023-06-27T12:21:39.303Z"
   },
   {
    "duration": 330,
    "start_time": "2023-06-27T12:21:39.311Z"
   },
   {
    "duration": 243,
    "start_time": "2023-06-27T12:21:39.644Z"
   },
   {
    "duration": 188,
    "start_time": "2023-06-27T12:21:39.889Z"
   },
   {
    "duration": 174,
    "start_time": "2023-06-27T12:21:40.079Z"
   },
   {
    "duration": 198,
    "start_time": "2023-06-27T12:21:40.255Z"
   },
   {
    "duration": 194,
    "start_time": "2023-06-27T12:21:40.458Z"
   },
   {
    "duration": 179,
    "start_time": "2023-06-27T12:21:40.660Z"
   },
   {
    "duration": 138,
    "start_time": "2023-06-27T12:21:40.840Z"
   },
   {
    "duration": 197,
    "start_time": "2023-06-27T12:21:40.980Z"
   },
   {
    "duration": 201,
    "start_time": "2023-06-27T12:21:41.179Z"
   },
   {
    "duration": 145,
    "start_time": "2023-06-27T12:21:41.382Z"
   },
   {
    "duration": 288,
    "start_time": "2023-06-27T12:21:41.529Z"
   },
   {
    "duration": 179,
    "start_time": "2023-06-27T12:21:41.819Z"
   },
   {
    "duration": 209,
    "start_time": "2023-06-27T12:21:42.005Z"
   },
   {
    "duration": 202,
    "start_time": "2023-06-27T12:21:42.216Z"
   },
   {
    "duration": 11,
    "start_time": "2023-06-27T12:21:42.420Z"
   },
   {
    "duration": 143,
    "start_time": "2023-06-27T12:21:42.433Z"
   },
   {
    "duration": 31,
    "start_time": "2023-06-27T12:21:42.578Z"
   },
   {
    "duration": 282,
    "start_time": "2023-06-27T12:21:42.611Z"
   },
   {
    "duration": 225,
    "start_time": "2023-06-27T12:21:42.896Z"
   },
   {
    "duration": 229,
    "start_time": "2023-06-27T12:21:43.122Z"
   },
   {
    "duration": 243,
    "start_time": "2023-06-27T12:21:43.356Z"
   },
   {
    "duration": 226,
    "start_time": "2023-06-27T12:21:43.601Z"
   },
   {
    "duration": 189,
    "start_time": "2023-06-27T12:21:43.828Z"
   },
   {
    "duration": 202,
    "start_time": "2023-06-27T12:21:44.019Z"
   },
   {
    "duration": 190,
    "start_time": "2023-06-27T12:21:44.223Z"
   },
   {
    "duration": 24,
    "start_time": "2023-06-27T12:21:44.415Z"
   },
   {
    "duration": 79,
    "start_time": "2023-06-27T12:21:44.441Z"
   },
   {
    "duration": 53,
    "start_time": "2023-06-27T12:21:44.522Z"
   },
   {
    "duration": 9,
    "start_time": "2023-06-27T12:21:44.577Z"
   },
   {
    "duration": 6,
    "start_time": "2023-06-27T12:21:44.588Z"
   },
   {
    "duration": 6,
    "start_time": "2023-06-27T12:21:44.596Z"
   },
   {
    "duration": 14,
    "start_time": "2023-06-27T12:21:44.604Z"
   },
   {
    "duration": 43,
    "start_time": "2023-06-27T12:21:44.620Z"
   },
   {
    "duration": 46,
    "start_time": "2023-06-27T12:21:44.671Z"
   },
   {
    "duration": 5,
    "start_time": "2023-06-27T12:21:44.719Z"
   },
   {
    "duration": 670,
    "start_time": "2023-06-27T12:26:38.540Z"
   },
   {
    "duration": 4,
    "start_time": "2023-06-27T12:26:40.939Z"
   },
   {
    "duration": 31,
    "start_time": "2023-06-27T12:27:39.704Z"
   },
   {
    "duration": 163,
    "start_time": "2023-06-27T12:45:09.970Z"
   },
   {
    "duration": 152,
    "start_time": "2023-06-27T12:45:43.329Z"
   },
   {
    "duration": 129,
    "start_time": "2023-06-27T12:45:56.074Z"
   },
   {
    "duration": 153,
    "start_time": "2023-06-27T12:47:20.943Z"
   },
   {
    "duration": 151,
    "start_time": "2023-06-27T12:47:28.371Z"
   },
   {
    "duration": 156,
    "start_time": "2023-06-27T12:47:48.118Z"
   },
   {
    "duration": 510,
    "start_time": "2023-06-27T12:48:10.612Z"
   },
   {
    "duration": 57,
    "start_time": "2023-06-27T12:48:11.124Z"
   },
   {
    "duration": 17,
    "start_time": "2023-06-27T12:48:11.183Z"
   },
   {
    "duration": 2468,
    "start_time": "2023-06-27T12:48:11.202Z"
   },
   {
    "duration": 11,
    "start_time": "2023-06-27T12:48:13.674Z"
   },
   {
    "duration": 11,
    "start_time": "2023-06-27T12:48:13.687Z"
   },
   {
    "duration": 21,
    "start_time": "2023-06-27T12:48:13.700Z"
   },
   {
    "duration": 38,
    "start_time": "2023-06-27T12:48:13.723Z"
   },
   {
    "duration": 11,
    "start_time": "2023-06-27T12:48:13.763Z"
   },
   {
    "duration": 29,
    "start_time": "2023-06-27T12:48:13.776Z"
   },
   {
    "duration": 86,
    "start_time": "2023-06-27T12:48:13.806Z"
   },
   {
    "duration": 48,
    "start_time": "2023-06-27T12:48:13.894Z"
   },
   {
    "duration": 433,
    "start_time": "2023-06-27T12:48:13.944Z"
   },
   {
    "duration": 5,
    "start_time": "2023-06-27T12:48:14.382Z"
   },
   {
    "duration": 38,
    "start_time": "2023-06-27T12:48:14.388Z"
   },
   {
    "duration": 292,
    "start_time": "2023-06-27T12:48:14.428Z"
   },
   {
    "duration": 211,
    "start_time": "2023-06-27T12:48:14.722Z"
   },
   {
    "duration": 169,
    "start_time": "2023-06-27T12:48:14.935Z"
   },
   {
    "duration": 169,
    "start_time": "2023-06-27T12:48:15.105Z"
   },
   {
    "duration": 154,
    "start_time": "2023-06-27T12:48:15.276Z"
   },
   {
    "duration": 183,
    "start_time": "2023-06-27T12:48:15.432Z"
   },
   {
    "duration": 189,
    "start_time": "2023-06-27T12:48:15.617Z"
   },
   {
    "duration": 155,
    "start_time": "2023-06-27T12:48:15.808Z"
   },
   {
    "duration": 175,
    "start_time": "2023-06-27T12:48:15.967Z"
   },
   {
    "duration": 184,
    "start_time": "2023-06-27T12:48:16.143Z"
   },
   {
    "duration": 197,
    "start_time": "2023-06-27T12:48:16.329Z"
   },
   {
    "duration": 269,
    "start_time": "2023-06-27T12:48:16.528Z"
   },
   {
    "duration": 175,
    "start_time": "2023-06-27T12:48:16.799Z"
   },
   {
    "duration": 175,
    "start_time": "2023-06-27T12:48:16.976Z"
   },
   {
    "duration": 203,
    "start_time": "2023-06-27T12:48:17.160Z"
   },
   {
    "duration": 183,
    "start_time": "2023-06-27T12:48:17.367Z"
   },
   {
    "duration": 16,
    "start_time": "2023-06-27T12:48:17.552Z"
   },
   {
    "duration": 289,
    "start_time": "2023-06-27T12:48:17.573Z"
   },
   {
    "duration": 29,
    "start_time": "2023-06-27T12:48:17.870Z"
   },
   {
    "duration": 227,
    "start_time": "2023-06-27T12:48:17.900Z"
   },
   {
    "duration": 217,
    "start_time": "2023-06-27T12:48:18.129Z"
   },
   {
    "duration": 244,
    "start_time": "2023-06-27T12:48:18.348Z"
   },
   {
    "duration": 273,
    "start_time": "2023-06-27T12:48:18.593Z"
   },
   {
    "duration": 244,
    "start_time": "2023-06-27T12:48:18.869Z"
   },
   {
    "duration": 220,
    "start_time": "2023-06-27T12:48:19.115Z"
   },
   {
    "duration": 228,
    "start_time": "2023-06-27T12:48:19.340Z"
   },
   {
    "duration": 165,
    "start_time": "2023-06-27T12:48:19.573Z"
   },
   {
    "duration": 34,
    "start_time": "2023-06-27T12:48:19.740Z"
   },
   {
    "duration": 8,
    "start_time": "2023-06-27T12:48:19.776Z"
   },
   {
    "duration": 39,
    "start_time": "2023-06-27T12:48:19.786Z"
   },
   {
    "duration": 40,
    "start_time": "2023-06-27T12:48:19.826Z"
   },
   {
    "duration": 7,
    "start_time": "2023-06-27T12:48:19.867Z"
   },
   {
    "duration": 6,
    "start_time": "2023-06-27T12:48:19.876Z"
   },
   {
    "duration": 14,
    "start_time": "2023-06-27T12:48:19.884Z"
   },
   {
    "duration": 15,
    "start_time": "2023-06-27T12:48:19.900Z"
   },
   {
    "duration": 76,
    "start_time": "2023-06-27T12:48:19.917Z"
   },
   {
    "duration": 6,
    "start_time": "2023-06-27T12:48:19.994Z"
   },
   {
    "duration": 155,
    "start_time": "2023-06-27T12:48:39.863Z"
   },
   {
    "duration": 161,
    "start_time": "2023-06-27T12:48:49.430Z"
   },
   {
    "duration": 294,
    "start_time": "2023-06-27T12:48:56.030Z"
   },
   {
    "duration": 152,
    "start_time": "2023-06-27T12:49:04.116Z"
   },
   {
    "duration": 156,
    "start_time": "2023-06-27T12:55:26.829Z"
   },
   {
    "duration": 153,
    "start_time": "2023-06-27T12:55:32.474Z"
   },
   {
    "duration": 153,
    "start_time": "2023-06-27T12:55:42.272Z"
   },
   {
    "duration": 8,
    "start_time": "2023-06-27T13:13:18.957Z"
   },
   {
    "duration": 220,
    "start_time": "2023-06-27T13:13:29.032Z"
   },
   {
    "duration": 7,
    "start_time": "2023-06-27T13:13:51.322Z"
   },
   {
    "duration": 8,
    "start_time": "2023-06-27T13:14:37.125Z"
   },
   {
    "duration": 7,
    "start_time": "2023-06-27T13:15:00.729Z"
   },
   {
    "duration": 6,
    "start_time": "2023-06-27T13:15:25.020Z"
   },
   {
    "duration": 426,
    "start_time": "2023-06-27T13:15:50.758Z"
   },
   {
    "duration": 6,
    "start_time": "2023-06-27T13:16:34.447Z"
   },
   {
    "duration": 7,
    "start_time": "2023-06-27T13:17:02.460Z"
   },
   {
    "duration": 558,
    "start_time": "2023-06-27T13:17:30.937Z"
   },
   {
    "duration": 1237,
    "start_time": "2023-06-27T13:24:05.532Z"
   },
   {
    "duration": 98,
    "start_time": "2023-06-27T13:25:19.850Z"
   },
   {
    "duration": 47,
    "start_time": "2023-06-27T13:37:35.526Z"
   },
   {
    "duration": 44,
    "start_time": "2023-06-27T13:38:54.015Z"
   },
   {
    "duration": 7,
    "start_time": "2023-06-27T13:38:59.430Z"
   },
   {
    "duration": 1274,
    "start_time": "2023-06-27T13:39:54.342Z"
   },
   {
    "duration": 577,
    "start_time": "2023-06-27T13:40:12.276Z"
   },
   {
    "duration": 52,
    "start_time": "2023-06-27T13:40:12.856Z"
   },
   {
    "duration": 29,
    "start_time": "2023-06-27T13:40:12.909Z"
   },
   {
    "duration": 2637,
    "start_time": "2023-06-27T13:40:12.940Z"
   },
   {
    "duration": 11,
    "start_time": "2023-06-27T13:40:15.582Z"
   },
   {
    "duration": 11,
    "start_time": "2023-06-27T13:40:15.595Z"
   },
   {
    "duration": 25,
    "start_time": "2023-06-27T13:40:15.609Z"
   },
   {
    "duration": 46,
    "start_time": "2023-06-27T13:40:15.636Z"
   },
   {
    "duration": 12,
    "start_time": "2023-06-27T13:40:15.684Z"
   },
   {
    "duration": 19,
    "start_time": "2023-06-27T13:40:15.699Z"
   },
   {
    "duration": 106,
    "start_time": "2023-06-27T13:40:15.721Z"
   },
   {
    "duration": 67,
    "start_time": "2023-06-27T13:40:15.829Z"
   },
   {
    "duration": 421,
    "start_time": "2023-06-27T13:40:15.899Z"
   },
   {
    "duration": 5,
    "start_time": "2023-06-27T13:40:16.323Z"
   },
   {
    "duration": 48,
    "start_time": "2023-06-27T13:40:16.330Z"
   },
   {
    "duration": 295,
    "start_time": "2023-06-27T13:40:16.381Z"
   },
   {
    "duration": 185,
    "start_time": "2023-06-27T13:40:16.678Z"
   },
   {
    "duration": 181,
    "start_time": "2023-06-27T13:40:16.864Z"
   },
   {
    "duration": 166,
    "start_time": "2023-06-27T13:40:17.047Z"
   },
   {
    "duration": 181,
    "start_time": "2023-06-27T13:40:17.216Z"
   },
   {
    "duration": 200,
    "start_time": "2023-06-27T13:40:17.399Z"
   },
   {
    "duration": 238,
    "start_time": "2023-06-27T13:40:17.601Z"
   },
   {
    "duration": 164,
    "start_time": "2023-06-27T13:40:17.842Z"
   },
   {
    "duration": 195,
    "start_time": "2023-06-27T13:40:18.009Z"
   },
   {
    "duration": 177,
    "start_time": "2023-06-27T13:40:18.206Z"
   },
   {
    "duration": 189,
    "start_time": "2023-06-27T13:40:18.386Z"
   },
   {
    "duration": 257,
    "start_time": "2023-06-27T13:40:18.577Z"
   },
   {
    "duration": 212,
    "start_time": "2023-06-27T13:40:18.836Z"
   },
   {
    "duration": 226,
    "start_time": "2023-06-27T13:40:19.051Z"
   },
   {
    "duration": 197,
    "start_time": "2023-06-27T13:40:19.282Z"
   },
   {
    "duration": 213,
    "start_time": "2023-06-27T13:40:19.483Z"
   },
   {
    "duration": 11,
    "start_time": "2023-06-27T13:40:19.698Z"
   },
   {
    "duration": 133,
    "start_time": "2023-06-27T13:40:19.710Z"
   },
   {
    "duration": 219,
    "start_time": "2023-06-27T13:40:19.844Z"
   },
   {
    "duration": 12,
    "start_time": "2023-06-27T13:40:20.065Z"
   },
   {
    "duration": 268,
    "start_time": "2023-06-27T13:40:20.079Z"
   },
   {
    "duration": 222,
    "start_time": "2023-06-27T13:40:20.356Z"
   },
   {
    "duration": 7,
    "start_time": "2023-06-27T13:40:20.581Z"
   },
   {
    "duration": 238,
    "start_time": "2023-06-27T13:40:20.591Z"
   },
   {
    "duration": 5,
    "start_time": "2023-06-27T13:40:20.831Z"
   },
   {
    "duration": 224,
    "start_time": "2023-06-27T13:40:20.840Z"
   },
   {
    "duration": 9,
    "start_time": "2023-06-27T13:40:21.069Z"
   },
   {
    "duration": 201,
    "start_time": "2023-06-27T13:40:21.081Z"
   },
   {
    "duration": 201,
    "start_time": "2023-06-27T13:40:21.283Z"
   },
   {
    "duration": 7,
    "start_time": "2023-06-27T13:40:21.486Z"
   },
   {
    "duration": 188,
    "start_time": "2023-06-27T13:40:21.496Z"
   },
   {
    "duration": 6,
    "start_time": "2023-06-27T13:40:21.686Z"
   },
   {
    "duration": 31,
    "start_time": "2023-06-27T13:40:21.693Z"
   },
   {
    "duration": 45,
    "start_time": "2023-06-27T13:40:21.726Z"
   },
   {
    "duration": 41,
    "start_time": "2023-06-27T13:40:21.777Z"
   },
   {
    "duration": 6,
    "start_time": "2023-06-27T13:40:21.820Z"
   },
   {
    "duration": 12,
    "start_time": "2023-06-27T13:40:21.828Z"
   },
   {
    "duration": 24,
    "start_time": "2023-06-27T13:40:21.841Z"
   },
   {
    "duration": 33,
    "start_time": "2023-06-27T13:40:21.867Z"
   },
   {
    "duration": 1199,
    "start_time": "2023-06-27T13:40:21.902Z"
   },
   {
    "duration": 0,
    "start_time": "2023-06-27T13:40:23.104Z"
   },
   {
    "duration": 14,
    "start_time": "2023-06-27T13:41:27.253Z"
   },
   {
    "duration": 6,
    "start_time": "2023-06-27T13:43:23.357Z"
   },
   {
    "duration": 211,
    "start_time": "2023-06-27T13:47:51.034Z"
   },
   {
    "duration": 195,
    "start_time": "2023-06-27T13:48:29.329Z"
   },
   {
    "duration": 73,
    "start_time": "2023-06-27T14:02:20.823Z"
   },
   {
    "duration": 112,
    "start_time": "2023-06-27T14:02:55.528Z"
   },
   {
    "duration": 89,
    "start_time": "2023-06-27T14:03:05.331Z"
   },
   {
    "duration": 70,
    "start_time": "2023-06-27T14:03:19.516Z"
   },
   {
    "duration": 61,
    "start_time": "2023-06-27T14:03:29.415Z"
   },
   {
    "duration": 10,
    "start_time": "2023-06-27T14:03:36.619Z"
   },
   {
    "duration": 79,
    "start_time": "2023-06-27T14:04:02.726Z"
   },
   {
    "duration": 70,
    "start_time": "2023-06-27T14:04:12.342Z"
   },
   {
    "duration": 2443,
    "start_time": "2023-06-27T14:04:32.665Z"
   },
   {
    "duration": 2637,
    "start_time": "2023-06-27T14:06:55.033Z"
   },
   {
    "duration": 7,
    "start_time": "2023-06-27T14:07:34.263Z"
   },
   {
    "duration": 12130,
    "start_time": "2023-06-27T14:07:50.736Z"
   },
   {
    "duration": 26,
    "start_time": "2023-06-27T14:14:22.132Z"
   },
   {
    "duration": 850,
    "start_time": "2023-06-27T14:14:53.076Z"
   },
   {
    "duration": 73,
    "start_time": "2023-06-27T14:19:08.215Z"
   },
   {
    "duration": 70,
    "start_time": "2023-06-27T14:19:43.655Z"
   },
   {
    "duration": 56,
    "start_time": "2023-06-27T14:21:59.873Z"
   },
   {
    "duration": 10,
    "start_time": "2023-06-27T14:22:34.528Z"
   },
   {
    "duration": 12,
    "start_time": "2023-06-27T14:24:25.734Z"
   },
   {
    "duration": 10,
    "start_time": "2023-06-27T14:24:51.030Z"
   },
   {
    "duration": 107,
    "start_time": "2023-06-27T14:33:58.582Z"
   },
   {
    "duration": 76,
    "start_time": "2023-06-27T14:34:38.017Z"
   },
   {
    "duration": 16,
    "start_time": "2023-06-27T14:36:00.745Z"
   },
   {
    "duration": 570,
    "start_time": "2023-06-27T15:15:26.642Z"
   },
   {
    "duration": 80,
    "start_time": "2023-06-27T15:15:27.216Z"
   },
   {
    "duration": 31,
    "start_time": "2023-06-27T15:15:27.300Z"
   },
   {
    "duration": 2738,
    "start_time": "2023-06-27T15:15:27.335Z"
   },
   {
    "duration": 9,
    "start_time": "2023-06-27T15:15:30.076Z"
   },
   {
    "duration": 40,
    "start_time": "2023-06-27T15:15:30.087Z"
   },
   {
    "duration": 41,
    "start_time": "2023-06-27T15:15:30.129Z"
   },
   {
    "duration": 44,
    "start_time": "2023-06-27T15:15:30.173Z"
   },
   {
    "duration": 20,
    "start_time": "2023-06-27T15:15:30.220Z"
   },
   {
    "duration": 52,
    "start_time": "2023-06-27T15:15:30.244Z"
   },
   {
    "duration": 138,
    "start_time": "2023-06-27T15:15:30.299Z"
   },
   {
    "duration": 97,
    "start_time": "2023-06-27T15:15:30.439Z"
   },
   {
    "duration": 455,
    "start_time": "2023-06-27T15:15:30.538Z"
   },
   {
    "duration": 5,
    "start_time": "2023-06-27T15:15:30.995Z"
   },
   {
    "duration": 70,
    "start_time": "2023-06-27T15:15:31.002Z"
   },
   {
    "duration": 295,
    "start_time": "2023-06-27T15:15:31.074Z"
   },
   {
    "duration": 198,
    "start_time": "2023-06-27T15:15:31.371Z"
   },
   {
    "duration": 176,
    "start_time": "2023-06-27T15:15:31.571Z"
   },
   {
    "duration": 198,
    "start_time": "2023-06-27T15:15:31.749Z"
   },
   {
    "duration": 183,
    "start_time": "2023-06-27T15:15:31.957Z"
   },
   {
    "duration": 181,
    "start_time": "2023-06-27T15:15:32.141Z"
   },
   {
    "duration": 198,
    "start_time": "2023-06-27T15:15:32.325Z"
   },
   {
    "duration": 151,
    "start_time": "2023-06-27T15:15:32.526Z"
   },
   {
    "duration": 184,
    "start_time": "2023-06-27T15:15:32.678Z"
   },
   {
    "duration": 267,
    "start_time": "2023-06-27T15:15:32.864Z"
   },
   {
    "duration": 192,
    "start_time": "2023-06-27T15:15:33.135Z"
   },
   {
    "duration": 253,
    "start_time": "2023-06-27T15:15:33.329Z"
   },
   {
    "duration": 169,
    "start_time": "2023-06-27T15:15:33.587Z"
   },
   {
    "duration": 168,
    "start_time": "2023-06-27T15:15:33.758Z"
   },
   {
    "duration": 179,
    "start_time": "2023-06-27T15:15:33.929Z"
   },
   {
    "duration": 175,
    "start_time": "2023-06-27T15:15:34.110Z"
   },
   {
    "duration": 10,
    "start_time": "2023-06-27T15:15:34.287Z"
   },
   {
    "duration": 130,
    "start_time": "2023-06-27T15:15:34.299Z"
   },
   {
    "duration": 214,
    "start_time": "2023-06-27T15:15:34.431Z"
   },
   {
    "duration": 12,
    "start_time": "2023-06-27T15:15:34.648Z"
   },
   {
    "duration": 208,
    "start_time": "2023-06-27T15:15:34.662Z"
   },
   {
    "duration": 202,
    "start_time": "2023-06-27T15:15:34.872Z"
   },
   {
    "duration": 9,
    "start_time": "2023-06-27T15:15:35.076Z"
   },
   {
    "duration": 243,
    "start_time": "2023-06-27T15:15:35.087Z"
   },
   {
    "duration": 7,
    "start_time": "2023-06-27T15:15:35.332Z"
   },
   {
    "duration": 219,
    "start_time": "2023-06-27T15:15:35.356Z"
   },
   {
    "duration": 6,
    "start_time": "2023-06-27T15:15:35.578Z"
   },
   {
    "duration": 198,
    "start_time": "2023-06-27T15:15:35.586Z"
   },
   {
    "duration": 210,
    "start_time": "2023-06-27T15:15:35.787Z"
   },
   {
    "duration": 6,
    "start_time": "2023-06-27T15:15:35.999Z"
   },
   {
    "duration": 200,
    "start_time": "2023-06-27T15:15:36.006Z"
   },
   {
    "duration": 6,
    "start_time": "2023-06-27T15:15:36.208Z"
   },
   {
    "duration": 42,
    "start_time": "2023-06-27T15:15:36.215Z"
   },
   {
    "duration": 9,
    "start_time": "2023-06-27T15:15:36.260Z"
   },
   {
    "duration": 45,
    "start_time": "2023-06-27T15:15:36.271Z"
   },
   {
    "duration": 5,
    "start_time": "2023-06-27T15:15:36.318Z"
   },
   {
    "duration": 31,
    "start_time": "2023-06-27T15:15:36.325Z"
   },
   {
    "duration": 20,
    "start_time": "2023-06-27T15:15:36.358Z"
   },
   {
    "duration": 9,
    "start_time": "2023-06-27T15:15:36.381Z"
   },
   {
    "duration": 14,
    "start_time": "2023-06-27T15:15:36.392Z"
   },
   {
    "duration": 68,
    "start_time": "2023-06-27T15:15:36.409Z"
   },
   {
    "duration": 5,
    "start_time": "2023-06-27T15:15:36.479Z"
   },
   {
    "duration": 201,
    "start_time": "2023-06-27T15:15:36.485Z"
   },
   {
    "duration": 334,
    "start_time": "2023-06-27T15:15:36.688Z"
   },
   {
    "duration": 1277,
    "start_time": "2023-06-27T15:16:14.446Z"
   },
   {
    "duration": 384,
    "start_time": "2023-06-27T15:17:31.069Z"
   },
   {
    "duration": 206,
    "start_time": "2023-06-27T15:19:34.552Z"
   },
   {
    "duration": 503,
    "start_time": "2023-06-27T15:21:54.418Z"
   },
   {
    "duration": 48,
    "start_time": "2023-06-27T15:21:54.924Z"
   },
   {
    "duration": 20,
    "start_time": "2023-06-27T15:21:54.974Z"
   },
   {
    "duration": 2378,
    "start_time": "2023-06-27T15:21:54.996Z"
   },
   {
    "duration": 11,
    "start_time": "2023-06-27T15:21:57.377Z"
   },
   {
    "duration": 8,
    "start_time": "2023-06-27T15:21:57.390Z"
   },
   {
    "duration": 50,
    "start_time": "2023-06-27T15:21:57.400Z"
   },
   {
    "duration": 38,
    "start_time": "2023-06-27T15:21:57.453Z"
   },
   {
    "duration": 9,
    "start_time": "2023-06-27T15:21:57.494Z"
   },
   {
    "duration": 21,
    "start_time": "2023-06-27T15:21:57.506Z"
   },
   {
    "duration": 89,
    "start_time": "2023-06-27T15:21:57.530Z"
   },
   {
    "duration": 64,
    "start_time": "2023-06-27T15:21:57.620Z"
   },
   {
    "duration": 383,
    "start_time": "2023-06-27T15:21:57.686Z"
   },
   {
    "duration": 4,
    "start_time": "2023-06-27T15:21:58.074Z"
   },
   {
    "duration": 27,
    "start_time": "2023-06-27T15:21:58.080Z"
   },
   {
    "duration": 282,
    "start_time": "2023-06-27T15:21:58.110Z"
   },
   {
    "duration": 218,
    "start_time": "2023-06-27T15:21:58.396Z"
   },
   {
    "duration": 175,
    "start_time": "2023-06-27T15:21:58.616Z"
   },
   {
    "duration": 203,
    "start_time": "2023-06-27T15:21:58.793Z"
   },
   {
    "duration": 198,
    "start_time": "2023-06-27T15:21:58.999Z"
   },
   {
    "duration": 177,
    "start_time": "2023-06-27T15:21:59.200Z"
   },
   {
    "duration": 218,
    "start_time": "2023-06-27T15:21:59.379Z"
   },
   {
    "duration": 132,
    "start_time": "2023-06-27T15:21:59.599Z"
   },
   {
    "duration": 243,
    "start_time": "2023-06-27T15:21:59.733Z"
   },
   {
    "duration": 221,
    "start_time": "2023-06-27T15:21:59.977Z"
   },
   {
    "duration": 178,
    "start_time": "2023-06-27T15:22:00.200Z"
   },
   {
    "duration": 258,
    "start_time": "2023-06-27T15:22:00.380Z"
   },
   {
    "duration": 172,
    "start_time": "2023-06-27T15:22:00.640Z"
   },
   {
    "duration": 166,
    "start_time": "2023-06-27T15:22:00.814Z"
   },
   {
    "duration": 188,
    "start_time": "2023-06-27T15:22:00.981Z"
   },
   {
    "duration": 180,
    "start_time": "2023-06-27T15:22:01.171Z"
   },
   {
    "duration": 13,
    "start_time": "2023-06-27T15:22:01.353Z"
   },
   {
    "duration": 141,
    "start_time": "2023-06-27T15:22:01.368Z"
   },
   {
    "duration": 219,
    "start_time": "2023-06-27T15:22:01.511Z"
   },
   {
    "duration": 7,
    "start_time": "2023-06-27T15:22:01.732Z"
   },
   {
    "duration": 231,
    "start_time": "2023-06-27T15:22:01.741Z"
   },
   {
    "duration": 243,
    "start_time": "2023-06-27T15:22:01.975Z"
   },
   {
    "duration": 7,
    "start_time": "2023-06-27T15:22:02.220Z"
   },
   {
    "duration": 261,
    "start_time": "2023-06-27T15:22:02.228Z"
   },
   {
    "duration": 8,
    "start_time": "2023-06-27T15:22:02.491Z"
   },
   {
    "duration": 217,
    "start_time": "2023-06-27T15:22:02.506Z"
   },
   {
    "duration": 7,
    "start_time": "2023-06-27T15:22:02.725Z"
   },
   {
    "duration": 193,
    "start_time": "2023-06-27T15:22:02.734Z"
   },
   {
    "duration": 229,
    "start_time": "2023-06-27T15:22:02.930Z"
   },
   {
    "duration": 5,
    "start_time": "2023-06-27T15:22:03.162Z"
   },
   {
    "duration": 198,
    "start_time": "2023-06-27T15:22:03.169Z"
   },
   {
    "duration": 8,
    "start_time": "2023-06-27T15:22:03.369Z"
   },
   {
    "duration": 45,
    "start_time": "2023-06-27T15:22:03.379Z"
   },
   {
    "duration": 21,
    "start_time": "2023-06-27T15:22:03.425Z"
   },
   {
    "duration": 50,
    "start_time": "2023-06-27T15:22:03.449Z"
   },
   {
    "duration": 5,
    "start_time": "2023-06-27T15:22:03.501Z"
   },
   {
    "duration": 29,
    "start_time": "2023-06-27T15:22:03.508Z"
   },
   {
    "duration": 29,
    "start_time": "2023-06-27T15:22:03.540Z"
   },
   {
    "duration": 7,
    "start_time": "2023-06-27T15:22:03.571Z"
   },
   {
    "duration": 13,
    "start_time": "2023-06-27T15:22:03.580Z"
   },
   {
    "duration": 36,
    "start_time": "2023-06-27T15:22:03.596Z"
   },
   {
    "duration": 7,
    "start_time": "2023-06-27T15:22:03.634Z"
   },
   {
    "duration": 213,
    "start_time": "2023-06-27T15:22:03.643Z"
   },
   {
    "duration": 603,
    "start_time": "2023-06-27T15:25:52.429Z"
   },
   {
    "duration": 63,
    "start_time": "2023-06-27T15:25:53.034Z"
   },
   {
    "duration": 16,
    "start_time": "2023-06-27T15:25:53.099Z"
   },
   {
    "duration": 2727,
    "start_time": "2023-06-27T15:25:53.118Z"
   },
   {
    "duration": 12,
    "start_time": "2023-06-27T15:25:55.848Z"
   },
   {
    "duration": 11,
    "start_time": "2023-06-27T15:25:55.862Z"
   },
   {
    "duration": 27,
    "start_time": "2023-06-27T15:25:55.875Z"
   },
   {
    "duration": 27,
    "start_time": "2023-06-27T15:25:55.905Z"
   },
   {
    "duration": 8,
    "start_time": "2023-06-27T15:25:55.957Z"
   },
   {
    "duration": 14,
    "start_time": "2023-06-27T15:25:55.968Z"
   },
   {
    "duration": 112,
    "start_time": "2023-06-27T15:25:55.984Z"
   },
   {
    "duration": 82,
    "start_time": "2023-06-27T15:25:56.098Z"
   },
   {
    "duration": 539,
    "start_time": "2023-06-27T15:25:56.182Z"
   },
   {
    "duration": 6,
    "start_time": "2023-06-27T15:25:56.726Z"
   },
   {
    "duration": 54,
    "start_time": "2023-06-27T15:25:56.734Z"
   },
   {
    "duration": 361,
    "start_time": "2023-06-27T15:25:56.791Z"
   },
   {
    "duration": 253,
    "start_time": "2023-06-27T15:25:57.156Z"
   },
   {
    "duration": 196,
    "start_time": "2023-06-27T15:25:57.411Z"
   },
   {
    "duration": 185,
    "start_time": "2023-06-27T15:25:57.610Z"
   },
   {
    "duration": 195,
    "start_time": "2023-06-27T15:25:57.798Z"
   },
   {
    "duration": 268,
    "start_time": "2023-06-27T15:25:57.995Z"
   },
   {
    "duration": 201,
    "start_time": "2023-06-27T15:25:58.266Z"
   },
   {
    "duration": 190,
    "start_time": "2023-06-27T15:25:58.469Z"
   },
   {
    "duration": 246,
    "start_time": "2023-06-27T15:25:58.662Z"
   },
   {
    "duration": 242,
    "start_time": "2023-06-27T15:25:58.909Z"
   },
   {
    "duration": 253,
    "start_time": "2023-06-27T15:25:59.156Z"
   },
   {
    "duration": 320,
    "start_time": "2023-06-27T15:25:59.412Z"
   },
   {
    "duration": 186,
    "start_time": "2023-06-27T15:25:59.734Z"
   },
   {
    "duration": 248,
    "start_time": "2023-06-27T15:25:59.922Z"
   },
   {
    "duration": 204,
    "start_time": "2023-06-27T15:26:00.173Z"
   },
   {
    "duration": 227,
    "start_time": "2023-06-27T15:26:00.380Z"
   },
   {
    "duration": 48,
    "start_time": "2023-06-27T15:26:00.610Z"
   },
   {
    "duration": 234,
    "start_time": "2023-06-27T15:26:00.661Z"
   },
   {
    "duration": 361,
    "start_time": "2023-06-27T15:26:00.899Z"
   },
   {
    "duration": 9,
    "start_time": "2023-06-27T15:26:01.262Z"
   },
   {
    "duration": 251,
    "start_time": "2023-06-27T15:26:01.274Z"
   },
   {
    "duration": 254,
    "start_time": "2023-06-27T15:26:01.527Z"
   },
   {
    "duration": 8,
    "start_time": "2023-06-27T15:26:01.783Z"
   },
   {
    "duration": 267,
    "start_time": "2023-06-27T15:26:01.793Z"
   },
   {
    "duration": 6,
    "start_time": "2023-06-27T15:26:02.063Z"
   },
   {
    "duration": 230,
    "start_time": "2023-06-27T15:26:02.075Z"
   },
   {
    "duration": 7,
    "start_time": "2023-06-27T15:26:02.307Z"
   },
   {
    "duration": 241,
    "start_time": "2023-06-27T15:26:02.316Z"
   },
   {
    "duration": 240,
    "start_time": "2023-06-27T15:26:02.559Z"
   },
   {
    "duration": 7,
    "start_time": "2023-06-27T15:26:02.802Z"
   },
   {
    "duration": 207,
    "start_time": "2023-06-27T15:26:02.811Z"
   },
   {
    "duration": 7,
    "start_time": "2023-06-27T15:26:03.020Z"
   },
   {
    "duration": 39,
    "start_time": "2023-06-27T15:26:03.029Z"
   },
   {
    "duration": 9,
    "start_time": "2023-06-27T15:26:03.070Z"
   },
   {
    "duration": 67,
    "start_time": "2023-06-27T15:26:03.080Z"
   },
   {
    "duration": 5,
    "start_time": "2023-06-27T15:26:03.149Z"
   },
   {
    "duration": 28,
    "start_time": "2023-06-27T15:26:03.157Z"
   },
   {
    "duration": 40,
    "start_time": "2023-06-27T15:26:03.187Z"
   },
   {
    "duration": 10,
    "start_time": "2023-06-27T15:26:03.229Z"
   },
   {
    "duration": 133,
    "start_time": "2023-06-27T15:26:03.241Z"
   },
   {
    "duration": 342,
    "start_time": "2023-06-27T15:26:03.377Z"
   },
   {
    "duration": 61,
    "start_time": "2023-06-27T15:26:03.721Z"
   },
   {
    "duration": 283,
    "start_time": "2023-06-27T15:26:03.784Z"
   },
   {
    "duration": 550,
    "start_time": "2023-06-27T15:29:24.050Z"
   },
   {
    "duration": 52,
    "start_time": "2023-06-27T15:29:24.604Z"
   },
   {
    "duration": 18,
    "start_time": "2023-06-27T15:29:24.658Z"
   },
   {
    "duration": 2363,
    "start_time": "2023-06-27T15:29:24.678Z"
   },
   {
    "duration": 9,
    "start_time": "2023-06-27T15:29:27.044Z"
   },
   {
    "duration": 16,
    "start_time": "2023-06-27T15:29:27.055Z"
   },
   {
    "duration": 22,
    "start_time": "2023-06-27T15:29:27.073Z"
   },
   {
    "duration": 24,
    "start_time": "2023-06-27T15:29:27.097Z"
   },
   {
    "duration": 7,
    "start_time": "2023-06-27T15:29:27.122Z"
   },
   {
    "duration": 34,
    "start_time": "2023-06-27T15:29:27.131Z"
   },
   {
    "duration": 69,
    "start_time": "2023-06-27T15:29:27.168Z"
   },
   {
    "duration": 62,
    "start_time": "2023-06-27T15:29:27.239Z"
   },
   {
    "duration": 408,
    "start_time": "2023-06-27T15:29:27.304Z"
   },
   {
    "duration": 4,
    "start_time": "2023-06-27T15:29:27.716Z"
   },
   {
    "duration": 37,
    "start_time": "2023-06-27T15:29:27.721Z"
   },
   {
    "duration": 258,
    "start_time": "2023-06-27T15:29:27.760Z"
   },
   {
    "duration": 174,
    "start_time": "2023-06-27T15:29:28.019Z"
   },
   {
    "duration": 150,
    "start_time": "2023-06-27T15:29:28.195Z"
   },
   {
    "duration": 187,
    "start_time": "2023-06-27T15:29:28.348Z"
   },
   {
    "duration": 152,
    "start_time": "2023-06-27T15:29:28.538Z"
   },
   {
    "duration": 193,
    "start_time": "2023-06-27T15:29:28.692Z"
   },
   {
    "duration": 209,
    "start_time": "2023-06-27T15:29:28.888Z"
   },
   {
    "duration": 159,
    "start_time": "2023-06-27T15:29:29.100Z"
   },
   {
    "duration": 176,
    "start_time": "2023-06-27T15:29:29.261Z"
   },
   {
    "duration": 152,
    "start_time": "2023-06-27T15:29:29.439Z"
   },
   {
    "duration": 176,
    "start_time": "2023-06-27T15:29:29.593Z"
   },
   {
    "duration": 276,
    "start_time": "2023-06-27T15:29:29.771Z"
   },
   {
    "duration": 167,
    "start_time": "2023-06-27T15:29:30.056Z"
   },
   {
    "duration": 179,
    "start_time": "2023-06-27T15:29:30.226Z"
   },
   {
    "duration": 173,
    "start_time": "2023-06-27T15:29:30.409Z"
   },
   {
    "duration": 170,
    "start_time": "2023-06-27T15:29:30.584Z"
   },
   {
    "duration": 11,
    "start_time": "2023-06-27T15:29:30.756Z"
   },
   {
    "duration": 147,
    "start_time": "2023-06-27T15:29:30.769Z"
   },
   {
    "duration": 241,
    "start_time": "2023-06-27T15:29:30.918Z"
   },
   {
    "duration": 6,
    "start_time": "2023-06-27T15:29:31.161Z"
   },
   {
    "duration": 251,
    "start_time": "2023-06-27T15:29:31.169Z"
   },
   {
    "duration": 207,
    "start_time": "2023-06-27T15:29:31.422Z"
   },
   {
    "duration": 6,
    "start_time": "2023-06-27T15:29:31.631Z"
   },
   {
    "duration": 231,
    "start_time": "2023-06-27T15:29:31.639Z"
   },
   {
    "duration": 7,
    "start_time": "2023-06-27T15:29:31.872Z"
   },
   {
    "duration": 217,
    "start_time": "2023-06-27T15:29:31.884Z"
   },
   {
    "duration": 6,
    "start_time": "2023-06-27T15:29:32.103Z"
   },
   {
    "duration": 185,
    "start_time": "2023-06-27T15:29:32.111Z"
   },
   {
    "duration": 216,
    "start_time": "2023-06-27T15:29:32.298Z"
   },
   {
    "duration": 5,
    "start_time": "2023-06-27T15:29:32.516Z"
   },
   {
    "duration": 179,
    "start_time": "2023-06-27T15:29:32.523Z"
   },
   {
    "duration": 5,
    "start_time": "2023-06-27T15:29:32.705Z"
   },
   {
    "duration": 29,
    "start_time": "2023-06-27T15:29:32.711Z"
   },
   {
    "duration": 18,
    "start_time": "2023-06-27T15:29:32.742Z"
   },
   {
    "duration": 47,
    "start_time": "2023-06-27T15:29:32.761Z"
   },
   {
    "duration": 4,
    "start_time": "2023-06-27T15:29:32.810Z"
   },
   {
    "duration": 11,
    "start_time": "2023-06-27T15:29:32.816Z"
   },
   {
    "duration": 14,
    "start_time": "2023-06-27T15:29:32.828Z"
   },
   {
    "duration": 18,
    "start_time": "2023-06-27T15:29:32.843Z"
   },
   {
    "duration": 6,
    "start_time": "2023-06-27T15:29:32.862Z"
   },
   {
    "duration": 40,
    "start_time": "2023-06-27T15:29:32.869Z"
   },
   {
    "duration": 23,
    "start_time": "2023-06-27T15:29:32.911Z"
   },
   {
    "duration": 83,
    "start_time": "2023-06-27T15:29:32.936Z"
   },
   {
    "duration": 0,
    "start_time": "2023-06-27T15:29:33.021Z"
   },
   {
    "duration": 0,
    "start_time": "2023-06-27T15:29:33.022Z"
   },
   {
    "duration": 0,
    "start_time": "2023-06-27T15:29:33.024Z"
   },
   {
    "duration": 300,
    "start_time": "2023-06-27T15:30:39.341Z"
   },
   {
    "duration": 306,
    "start_time": "2023-06-27T15:32:00.117Z"
   },
   {
    "duration": 548,
    "start_time": "2023-06-27T15:32:40.086Z"
   },
   {
    "duration": 53,
    "start_time": "2023-06-27T15:32:40.637Z"
   },
   {
    "duration": 25,
    "start_time": "2023-06-27T15:32:40.692Z"
   },
   {
    "duration": 2377,
    "start_time": "2023-06-27T15:32:40.720Z"
   },
   {
    "duration": 11,
    "start_time": "2023-06-27T15:32:43.099Z"
   },
   {
    "duration": 9,
    "start_time": "2023-06-27T15:32:43.112Z"
   },
   {
    "duration": 39,
    "start_time": "2023-06-27T15:32:43.123Z"
   },
   {
    "duration": 26,
    "start_time": "2023-06-27T15:32:43.165Z"
   },
   {
    "duration": 7,
    "start_time": "2023-06-27T15:32:43.193Z"
   },
   {
    "duration": 13,
    "start_time": "2023-06-27T15:32:43.205Z"
   },
   {
    "duration": 113,
    "start_time": "2023-06-27T15:32:43.220Z"
   },
   {
    "duration": 57,
    "start_time": "2023-06-27T15:32:43.335Z"
   },
   {
    "duration": 382,
    "start_time": "2023-06-27T15:32:43.394Z"
   },
   {
    "duration": 5,
    "start_time": "2023-06-27T15:32:43.778Z"
   },
   {
    "duration": 50,
    "start_time": "2023-06-27T15:32:43.784Z"
   },
   {
    "duration": 283,
    "start_time": "2023-06-27T15:32:43.835Z"
   },
   {
    "duration": 189,
    "start_time": "2023-06-27T15:32:44.119Z"
   },
   {
    "duration": 160,
    "start_time": "2023-06-27T15:32:44.310Z"
   },
   {
    "duration": 186,
    "start_time": "2023-06-27T15:32:44.472Z"
   },
   {
    "duration": 150,
    "start_time": "2023-06-27T15:32:44.659Z"
   },
   {
    "duration": 168,
    "start_time": "2023-06-27T15:32:44.811Z"
   },
   {
    "duration": 168,
    "start_time": "2023-06-27T15:32:44.981Z"
   },
   {
    "duration": 152,
    "start_time": "2023-06-27T15:32:45.151Z"
   },
   {
    "duration": 172,
    "start_time": "2023-06-27T15:32:45.305Z"
   },
   {
    "duration": 162,
    "start_time": "2023-06-27T15:32:45.479Z"
   },
   {
    "duration": 178,
    "start_time": "2023-06-27T15:32:45.642Z"
   },
   {
    "duration": 243,
    "start_time": "2023-06-27T15:32:45.822Z"
   },
   {
    "duration": 164,
    "start_time": "2023-06-27T15:32:46.069Z"
   },
   {
    "duration": 165,
    "start_time": "2023-06-27T15:32:46.235Z"
   },
   {
    "duration": 161,
    "start_time": "2023-06-27T15:32:46.401Z"
   },
   {
    "duration": 171,
    "start_time": "2023-06-27T15:32:46.563Z"
   },
   {
    "duration": 23,
    "start_time": "2023-06-27T15:32:46.736Z"
   },
   {
    "duration": 126,
    "start_time": "2023-06-27T15:32:46.761Z"
   },
   {
    "duration": 218,
    "start_time": "2023-06-27T15:32:46.889Z"
   },
   {
    "duration": 5,
    "start_time": "2023-06-27T15:32:47.109Z"
   },
   {
    "duration": 248,
    "start_time": "2023-06-27T15:32:47.116Z"
   },
   {
    "duration": 216,
    "start_time": "2023-06-27T15:32:47.367Z"
   },
   {
    "duration": 5,
    "start_time": "2023-06-27T15:32:47.585Z"
   },
   {
    "duration": 235,
    "start_time": "2023-06-27T15:32:47.592Z"
   },
   {
    "duration": 6,
    "start_time": "2023-06-27T15:32:47.829Z"
   },
   {
    "duration": 209,
    "start_time": "2023-06-27T15:32:47.836Z"
   },
   {
    "duration": 13,
    "start_time": "2023-06-27T15:32:48.047Z"
   },
   {
    "duration": 185,
    "start_time": "2023-06-27T15:32:48.061Z"
   },
   {
    "duration": 224,
    "start_time": "2023-06-27T15:32:48.256Z"
   },
   {
    "duration": 6,
    "start_time": "2023-06-27T15:32:48.481Z"
   },
   {
    "duration": 188,
    "start_time": "2023-06-27T15:32:48.488Z"
   },
   {
    "duration": 5,
    "start_time": "2023-06-27T15:32:48.678Z"
   },
   {
    "duration": 30,
    "start_time": "2023-06-27T15:32:48.685Z"
   },
   {
    "duration": 8,
    "start_time": "2023-06-27T15:32:48.716Z"
   },
   {
    "duration": 68,
    "start_time": "2023-06-27T15:32:48.726Z"
   },
   {
    "duration": 14,
    "start_time": "2023-06-27T15:32:48.795Z"
   },
   {
    "duration": 22,
    "start_time": "2023-06-27T15:32:48.811Z"
   },
   {
    "duration": 73,
    "start_time": "2023-06-27T15:32:48.835Z"
   },
   {
    "duration": 7,
    "start_time": "2023-06-27T15:32:48.911Z"
   },
   {
    "duration": 11,
    "start_time": "2023-06-27T15:32:48.923Z"
   },
   {
    "duration": 55,
    "start_time": "2023-06-27T15:32:48.936Z"
   },
   {
    "duration": 428,
    "start_time": "2023-06-27T15:32:48.993Z"
   },
   {
    "duration": 0,
    "start_time": "2023-06-27T15:32:49.423Z"
   },
   {
    "duration": 0,
    "start_time": "2023-06-27T15:32:49.424Z"
   },
   {
    "duration": 0,
    "start_time": "2023-06-27T15:32:49.425Z"
   },
   {
    "duration": 0,
    "start_time": "2023-06-27T15:32:49.427Z"
   },
   {
    "duration": 24,
    "start_time": "2023-06-27T15:33:05.069Z"
   },
   {
    "duration": 282,
    "start_time": "2023-06-27T15:34:23.819Z"
   },
   {
    "duration": 307,
    "start_time": "2023-06-27T15:35:27.656Z"
   },
   {
    "duration": 26,
    "start_time": "2023-06-27T15:36:37.024Z"
   },
   {
    "duration": 574,
    "start_time": "2023-06-27T15:39:02.242Z"
   },
   {
    "duration": 50,
    "start_time": "2023-06-27T15:39:02.818Z"
   },
   {
    "duration": 15,
    "start_time": "2023-06-27T15:39:02.870Z"
   },
   {
    "duration": 2337,
    "start_time": "2023-06-27T15:39:02.888Z"
   },
   {
    "duration": 16,
    "start_time": "2023-06-27T15:39:05.228Z"
   },
   {
    "duration": 20,
    "start_time": "2023-06-27T15:39:05.246Z"
   },
   {
    "duration": 33,
    "start_time": "2023-06-27T15:39:05.268Z"
   },
   {
    "duration": 59,
    "start_time": "2023-06-27T15:39:05.304Z"
   },
   {
    "duration": 9,
    "start_time": "2023-06-27T15:39:05.366Z"
   },
   {
    "duration": 68,
    "start_time": "2023-06-27T15:39:05.379Z"
   },
   {
    "duration": 72,
    "start_time": "2023-06-27T15:39:05.450Z"
   },
   {
    "duration": 61,
    "start_time": "2023-06-27T15:39:05.524Z"
   },
   {
    "duration": 390,
    "start_time": "2023-06-27T15:39:05.587Z"
   },
   {
    "duration": 4,
    "start_time": "2023-06-27T15:39:05.979Z"
   },
   {
    "duration": 41,
    "start_time": "2023-06-27T15:39:05.985Z"
   },
   {
    "duration": 404,
    "start_time": "2023-06-27T15:39:06.028Z"
   },
   {
    "duration": 186,
    "start_time": "2023-06-27T15:39:06.434Z"
   },
   {
    "duration": 159,
    "start_time": "2023-06-27T15:39:06.622Z"
   },
   {
    "duration": 155,
    "start_time": "2023-06-27T15:39:06.783Z"
   },
   {
    "duration": 153,
    "start_time": "2023-06-27T15:39:06.940Z"
   },
   {
    "duration": 182,
    "start_time": "2023-06-27T15:39:07.094Z"
   },
   {
    "duration": 186,
    "start_time": "2023-06-27T15:39:07.278Z"
   },
   {
    "duration": 142,
    "start_time": "2023-06-27T15:39:07.467Z"
   },
   {
    "duration": 176,
    "start_time": "2023-06-27T15:39:07.610Z"
   },
   {
    "duration": 158,
    "start_time": "2023-06-27T15:39:07.789Z"
   },
   {
    "duration": 173,
    "start_time": "2023-06-27T15:39:07.957Z"
   },
   {
    "duration": 260,
    "start_time": "2023-06-27T15:39:08.132Z"
   },
   {
    "duration": 169,
    "start_time": "2023-06-27T15:39:08.396Z"
   },
   {
    "duration": 152,
    "start_time": "2023-06-27T15:39:08.568Z"
   },
   {
    "duration": 167,
    "start_time": "2023-06-27T15:39:08.722Z"
   },
   {
    "duration": 216,
    "start_time": "2023-06-27T15:39:08.892Z"
   },
   {
    "duration": 13,
    "start_time": "2023-06-27T15:39:09.111Z"
   },
   {
    "duration": 179,
    "start_time": "2023-06-27T15:39:09.126Z"
   },
   {
    "duration": 239,
    "start_time": "2023-06-27T15:39:09.307Z"
   },
   {
    "duration": 10,
    "start_time": "2023-06-27T15:39:09.548Z"
   },
   {
    "duration": 226,
    "start_time": "2023-06-27T15:39:09.560Z"
   },
   {
    "duration": 222,
    "start_time": "2023-06-27T15:39:09.788Z"
   },
   {
    "duration": 7,
    "start_time": "2023-06-27T15:39:10.012Z"
   },
   {
    "duration": 238,
    "start_time": "2023-06-27T15:39:10.021Z"
   },
   {
    "duration": 6,
    "start_time": "2023-06-27T15:39:10.261Z"
   },
   {
    "duration": 219,
    "start_time": "2023-06-27T15:39:10.270Z"
   },
   {
    "duration": 5,
    "start_time": "2023-06-27T15:39:10.491Z"
   },
   {
    "duration": 198,
    "start_time": "2023-06-27T15:39:10.497Z"
   },
   {
    "duration": 207,
    "start_time": "2023-06-27T15:39:10.697Z"
   },
   {
    "duration": 6,
    "start_time": "2023-06-27T15:39:10.906Z"
   },
   {
    "duration": 184,
    "start_time": "2023-06-27T15:39:10.913Z"
   },
   {
    "duration": 5,
    "start_time": "2023-06-27T15:39:11.099Z"
   },
   {
    "duration": 25,
    "start_time": "2023-06-27T15:39:11.106Z"
   },
   {
    "duration": 28,
    "start_time": "2023-06-27T15:39:11.133Z"
   },
   {
    "duration": 40,
    "start_time": "2023-06-27T15:39:11.163Z"
   },
   {
    "duration": 5,
    "start_time": "2023-06-27T15:39:11.205Z"
   },
   {
    "duration": 6,
    "start_time": "2023-06-27T15:39:11.213Z"
   },
   {
    "duration": 35,
    "start_time": "2023-06-27T15:39:11.222Z"
   },
   {
    "duration": 39,
    "start_time": "2023-06-27T15:39:11.259Z"
   },
   {
    "duration": 18,
    "start_time": "2023-06-27T15:39:11.300Z"
   },
   {
    "duration": 34,
    "start_time": "2023-06-27T15:39:11.319Z"
   },
   {
    "duration": 90,
    "start_time": "2023-06-27T15:39:11.355Z"
   },
   {
    "duration": 0,
    "start_time": "2023-06-27T15:39:11.447Z"
   },
   {
    "duration": 0,
    "start_time": "2023-06-27T15:39:11.449Z"
   },
   {
    "duration": 0,
    "start_time": "2023-06-27T15:39:11.450Z"
   },
   {
    "duration": 0,
    "start_time": "2023-06-27T15:39:11.451Z"
   },
   {
    "duration": 10,
    "start_time": "2023-06-27T15:40:06.227Z"
   },
   {
    "duration": 16,
    "start_time": "2023-06-27T15:40:22.899Z"
   },
   {
    "duration": 17,
    "start_time": "2023-06-27T15:40:27.589Z"
   },
   {
    "duration": 19,
    "start_time": "2023-06-27T15:40:33.811Z"
   },
   {
    "duration": 15,
    "start_time": "2023-06-27T15:42:05.262Z"
   },
   {
    "duration": 561,
    "start_time": "2023-06-27T15:42:15.247Z"
   },
   {
    "duration": 48,
    "start_time": "2023-06-27T15:42:15.810Z"
   },
   {
    "duration": 17,
    "start_time": "2023-06-27T15:42:15.860Z"
   },
   {
    "duration": 2399,
    "start_time": "2023-06-27T15:42:15.878Z"
   },
   {
    "duration": 13,
    "start_time": "2023-06-27T15:42:18.280Z"
   },
   {
    "duration": 11,
    "start_time": "2023-06-27T15:42:18.295Z"
   },
   {
    "duration": 26,
    "start_time": "2023-06-27T15:42:18.308Z"
   },
   {
    "duration": 30,
    "start_time": "2023-06-27T15:42:18.336Z"
   },
   {
    "duration": 11,
    "start_time": "2023-06-27T15:42:18.370Z"
   },
   {
    "duration": 20,
    "start_time": "2023-06-27T15:42:18.384Z"
   },
   {
    "duration": 110,
    "start_time": "2023-06-27T15:42:18.406Z"
   },
   {
    "duration": 57,
    "start_time": "2023-06-27T15:42:18.518Z"
   },
   {
    "duration": 443,
    "start_time": "2023-06-27T15:42:18.577Z"
   },
   {
    "duration": 8,
    "start_time": "2023-06-27T15:42:19.025Z"
   },
   {
    "duration": 48,
    "start_time": "2023-06-27T15:42:19.035Z"
   },
   {
    "duration": 278,
    "start_time": "2023-06-27T15:42:19.085Z"
   },
   {
    "duration": 178,
    "start_time": "2023-06-27T15:42:19.364Z"
   },
   {
    "duration": 152,
    "start_time": "2023-06-27T15:42:19.544Z"
   },
   {
    "duration": 160,
    "start_time": "2023-06-27T15:42:19.698Z"
   },
   {
    "duration": 149,
    "start_time": "2023-06-27T15:42:19.860Z"
   },
   {
    "duration": 176,
    "start_time": "2023-06-27T15:42:20.011Z"
   },
   {
    "duration": 169,
    "start_time": "2023-06-27T15:42:20.189Z"
   },
   {
    "duration": 149,
    "start_time": "2023-06-27T15:42:20.360Z"
   },
   {
    "duration": 176,
    "start_time": "2023-06-27T15:42:20.511Z"
   },
   {
    "duration": 161,
    "start_time": "2023-06-27T15:42:20.689Z"
   },
   {
    "duration": 177,
    "start_time": "2023-06-27T15:42:20.856Z"
   },
   {
    "duration": 249,
    "start_time": "2023-06-27T15:42:21.035Z"
   },
   {
    "duration": 180,
    "start_time": "2023-06-27T15:42:21.286Z"
   },
   {
    "duration": 156,
    "start_time": "2023-06-27T15:42:21.467Z"
   },
   {
    "duration": 155,
    "start_time": "2023-06-27T15:42:21.625Z"
   },
   {
    "duration": 168,
    "start_time": "2023-06-27T15:42:21.782Z"
   },
   {
    "duration": 12,
    "start_time": "2023-06-27T15:42:21.952Z"
   },
   {
    "duration": 138,
    "start_time": "2023-06-27T15:42:21.966Z"
   },
   {
    "duration": 212,
    "start_time": "2023-06-27T15:42:22.106Z"
   },
   {
    "duration": 6,
    "start_time": "2023-06-27T15:42:22.320Z"
   },
   {
    "duration": 217,
    "start_time": "2023-06-27T15:42:22.327Z"
   },
   {
    "duration": 216,
    "start_time": "2023-06-27T15:42:22.546Z"
   },
   {
    "duration": 6,
    "start_time": "2023-06-27T15:42:22.764Z"
   },
   {
    "duration": 220,
    "start_time": "2023-06-27T15:42:22.772Z"
   },
   {
    "duration": 6,
    "start_time": "2023-06-27T15:42:22.994Z"
   },
   {
    "duration": 215,
    "start_time": "2023-06-27T15:42:23.004Z"
   },
   {
    "duration": 6,
    "start_time": "2023-06-27T15:42:23.221Z"
   },
   {
    "duration": 186,
    "start_time": "2023-06-27T15:42:23.228Z"
   },
   {
    "duration": 210,
    "start_time": "2023-06-27T15:42:23.415Z"
   },
   {
    "duration": 6,
    "start_time": "2023-06-27T15:42:23.627Z"
   },
   {
    "duration": 187,
    "start_time": "2023-06-27T15:42:23.635Z"
   },
   {
    "duration": 5,
    "start_time": "2023-06-27T15:42:23.824Z"
   },
   {
    "duration": 37,
    "start_time": "2023-06-27T15:42:23.831Z"
   },
   {
    "duration": 8,
    "start_time": "2023-06-27T15:42:23.870Z"
   },
   {
    "duration": 35,
    "start_time": "2023-06-27T15:42:23.880Z"
   },
   {
    "duration": 5,
    "start_time": "2023-06-27T15:42:23.917Z"
   },
   {
    "duration": 5,
    "start_time": "2023-06-27T15:42:23.958Z"
   },
   {
    "duration": 10,
    "start_time": "2023-06-27T15:42:23.965Z"
   },
   {
    "duration": 5,
    "start_time": "2023-06-27T15:42:23.977Z"
   },
   {
    "duration": 7,
    "start_time": "2023-06-27T15:42:23.984Z"
   },
   {
    "duration": 18,
    "start_time": "2023-06-27T15:42:23.993Z"
   },
   {
    "duration": 27,
    "start_time": "2023-06-27T15:42:24.013Z"
   },
   {
    "duration": 44,
    "start_time": "2023-06-27T15:42:24.042Z"
   },
   {
    "duration": 13,
    "start_time": "2023-06-27T15:42:24.088Z"
   },
   {
    "duration": 29,
    "start_time": "2023-06-27T15:42:24.103Z"
   },
   {
    "duration": 27,
    "start_time": "2023-06-27T15:42:24.134Z"
   },
   {
    "duration": 21,
    "start_time": "2023-06-27T15:43:44.842Z"
   },
   {
    "duration": 14,
    "start_time": "2023-06-27T15:43:50.343Z"
   },
   {
    "duration": 528,
    "start_time": "2023-06-27T15:43:59.628Z"
   },
   {
    "duration": 43,
    "start_time": "2023-06-27T15:44:00.158Z"
   },
   {
    "duration": 15,
    "start_time": "2023-06-27T15:44:00.203Z"
   },
   {
    "duration": 2542,
    "start_time": "2023-06-27T15:44:00.219Z"
   },
   {
    "duration": 11,
    "start_time": "2023-06-27T15:44:02.764Z"
   },
   {
    "duration": 23,
    "start_time": "2023-06-27T15:44:02.777Z"
   },
   {
    "duration": 62,
    "start_time": "2023-06-27T15:44:02.801Z"
   },
   {
    "duration": 28,
    "start_time": "2023-06-27T15:44:02.865Z"
   },
   {
    "duration": 10,
    "start_time": "2023-06-27T15:44:02.895Z"
   },
   {
    "duration": 28,
    "start_time": "2023-06-27T15:44:02.908Z"
   },
   {
    "duration": 96,
    "start_time": "2023-06-27T15:44:02.938Z"
   },
   {
    "duration": 56,
    "start_time": "2023-06-27T15:44:03.036Z"
   },
   {
    "duration": 408,
    "start_time": "2023-06-27T15:44:03.094Z"
   },
   {
    "duration": 4,
    "start_time": "2023-06-27T15:44:03.506Z"
   },
   {
    "duration": 90,
    "start_time": "2023-06-27T15:44:03.512Z"
   },
   {
    "duration": 268,
    "start_time": "2023-06-27T15:44:03.604Z"
   },
   {
    "duration": 185,
    "start_time": "2023-06-27T15:44:03.874Z"
   },
   {
    "duration": 156,
    "start_time": "2023-06-27T15:44:04.061Z"
   },
   {
    "duration": 161,
    "start_time": "2023-06-27T15:44:04.219Z"
   },
   {
    "duration": 162,
    "start_time": "2023-06-27T15:44:04.382Z"
   },
   {
    "duration": 178,
    "start_time": "2023-06-27T15:44:04.547Z"
   },
   {
    "duration": 171,
    "start_time": "2023-06-27T15:44:04.727Z"
   },
   {
    "duration": 148,
    "start_time": "2023-06-27T15:44:04.900Z"
   },
   {
    "duration": 219,
    "start_time": "2023-06-27T15:44:05.057Z"
   },
   {
    "duration": 149,
    "start_time": "2023-06-27T15:44:05.277Z"
   },
   {
    "duration": 175,
    "start_time": "2023-06-27T15:44:05.428Z"
   },
   {
    "duration": 229,
    "start_time": "2023-06-27T15:44:05.605Z"
   },
   {
    "duration": 153,
    "start_time": "2023-06-27T15:44:05.837Z"
   },
   {
    "duration": 157,
    "start_time": "2023-06-27T15:44:05.992Z"
   },
   {
    "duration": 155,
    "start_time": "2023-06-27T15:44:06.151Z"
   },
   {
    "duration": 166,
    "start_time": "2023-06-27T15:44:06.308Z"
   },
   {
    "duration": 11,
    "start_time": "2023-06-27T15:44:06.476Z"
   },
   {
    "duration": 133,
    "start_time": "2023-06-27T15:44:06.489Z"
   },
   {
    "duration": 223,
    "start_time": "2023-06-27T15:44:06.624Z"
   },
   {
    "duration": 7,
    "start_time": "2023-06-27T15:44:06.855Z"
   },
   {
    "duration": 211,
    "start_time": "2023-06-27T15:44:06.864Z"
   },
   {
    "duration": 217,
    "start_time": "2023-06-27T15:44:07.078Z"
   },
   {
    "duration": 7,
    "start_time": "2023-06-27T15:44:07.298Z"
   },
   {
    "duration": 231,
    "start_time": "2023-06-27T15:44:07.307Z"
   },
   {
    "duration": 17,
    "start_time": "2023-06-27T15:44:07.539Z"
   },
   {
    "duration": 210,
    "start_time": "2023-06-27T15:44:07.561Z"
   },
   {
    "duration": 7,
    "start_time": "2023-06-27T15:44:07.773Z"
   },
   {
    "duration": 197,
    "start_time": "2023-06-27T15:44:07.782Z"
   },
   {
    "duration": 224,
    "start_time": "2023-06-27T15:44:07.981Z"
   },
   {
    "duration": 6,
    "start_time": "2023-06-27T15:44:08.207Z"
   },
   {
    "duration": 185,
    "start_time": "2023-06-27T15:44:08.215Z"
   },
   {
    "duration": 7,
    "start_time": "2023-06-27T15:44:08.402Z"
   },
   {
    "duration": 38,
    "start_time": "2023-06-27T15:44:08.410Z"
   },
   {
    "duration": 13,
    "start_time": "2023-06-27T15:44:08.450Z"
   },
   {
    "duration": 51,
    "start_time": "2023-06-27T15:44:08.465Z"
   },
   {
    "duration": 6,
    "start_time": "2023-06-27T15:44:08.518Z"
   },
   {
    "duration": 22,
    "start_time": "2023-06-27T15:44:08.526Z"
   },
   {
    "duration": 15,
    "start_time": "2023-06-27T15:44:08.550Z"
   },
   {
    "duration": 28,
    "start_time": "2023-06-27T15:44:08.567Z"
   },
   {
    "duration": 58,
    "start_time": "2023-06-27T15:44:08.597Z"
   },
   {
    "duration": 122,
    "start_time": "2023-06-27T15:44:08.657Z"
   },
   {
    "duration": 52,
    "start_time": "2023-06-27T15:44:08.781Z"
   },
   {
    "duration": 13,
    "start_time": "2023-06-27T15:44:08.836Z"
   },
   {
    "duration": 9,
    "start_time": "2023-06-27T15:44:08.851Z"
   },
   {
    "duration": 40,
    "start_time": "2023-06-27T15:44:08.862Z"
   },
   {
    "duration": 82,
    "start_time": "2023-06-27T15:44:08.905Z"
   },
   {
    "duration": 13,
    "start_time": "2023-06-27T15:45:27.830Z"
   },
   {
    "duration": 55,
    "start_time": "2023-06-27T15:45:38.787Z"
   },
   {
    "duration": 16,
    "start_time": "2023-06-27T15:45:49.683Z"
   },
   {
    "duration": 80,
    "start_time": "2023-06-27T15:46:24.602Z"
   },
   {
    "duration": 1556,
    "start_time": "2023-06-27T15:46:33.961Z"
   },
   {
    "duration": 578,
    "start_time": "2023-06-27T15:48:16.182Z"
   },
   {
    "duration": 533,
    "start_time": "2023-06-27T15:49:20.870Z"
   },
   {
    "duration": 43,
    "start_time": "2023-06-27T15:49:21.405Z"
   },
   {
    "duration": 18,
    "start_time": "2023-06-27T15:49:21.457Z"
   },
   {
    "duration": 2387,
    "start_time": "2023-06-27T15:49:21.478Z"
   },
   {
    "duration": 13,
    "start_time": "2023-06-27T15:49:23.867Z"
   },
   {
    "duration": 47,
    "start_time": "2023-06-27T15:49:23.881Z"
   },
   {
    "duration": 36,
    "start_time": "2023-06-27T15:49:23.930Z"
   },
   {
    "duration": 27,
    "start_time": "2023-06-27T15:49:23.969Z"
   },
   {
    "duration": 7,
    "start_time": "2023-06-27T15:49:23.997Z"
   },
   {
    "duration": 48,
    "start_time": "2023-06-27T15:49:24.008Z"
   },
   {
    "duration": 104,
    "start_time": "2023-06-27T15:49:24.059Z"
   },
   {
    "duration": 49,
    "start_time": "2023-06-27T15:49:24.165Z"
   },
   {
    "duration": 390,
    "start_time": "2023-06-27T15:49:24.216Z"
   },
   {
    "duration": 3,
    "start_time": "2023-06-27T15:49:24.608Z"
   },
   {
    "duration": 37,
    "start_time": "2023-06-27T15:49:24.613Z"
   },
   {
    "duration": 258,
    "start_time": "2023-06-27T15:49:24.657Z"
   },
   {
    "duration": 173,
    "start_time": "2023-06-27T15:49:24.917Z"
   },
   {
    "duration": 148,
    "start_time": "2023-06-27T15:49:25.092Z"
   },
   {
    "duration": 165,
    "start_time": "2023-06-27T15:49:25.242Z"
   },
   {
    "duration": 152,
    "start_time": "2023-06-27T15:49:25.409Z"
   },
   {
    "duration": 205,
    "start_time": "2023-06-27T15:49:25.563Z"
   },
   {
    "duration": 168,
    "start_time": "2023-06-27T15:49:25.770Z"
   },
   {
    "duration": 141,
    "start_time": "2023-06-27T15:49:25.940Z"
   },
   {
    "duration": 172,
    "start_time": "2023-06-27T15:49:26.082Z"
   },
   {
    "duration": 157,
    "start_time": "2023-06-27T15:49:26.256Z"
   },
   {
    "duration": 176,
    "start_time": "2023-06-27T15:49:26.415Z"
   },
   {
    "duration": 245,
    "start_time": "2023-06-27T15:49:26.594Z"
   },
   {
    "duration": 172,
    "start_time": "2023-06-27T15:49:26.843Z"
   },
   {
    "duration": 160,
    "start_time": "2023-06-27T15:49:27.018Z"
   },
   {
    "duration": 178,
    "start_time": "2023-06-27T15:49:27.181Z"
   },
   {
    "duration": 181,
    "start_time": "2023-06-27T15:49:27.361Z"
   },
   {
    "duration": 14,
    "start_time": "2023-06-27T15:49:27.544Z"
   },
   {
    "duration": 126,
    "start_time": "2023-06-27T15:49:27.560Z"
   },
   {
    "duration": 230,
    "start_time": "2023-06-27T15:49:27.689Z"
   },
   {
    "duration": 6,
    "start_time": "2023-06-27T15:49:27.921Z"
   },
   {
    "duration": 210,
    "start_time": "2023-06-27T15:49:27.929Z"
   },
   {
    "duration": 196,
    "start_time": "2023-06-27T15:49:28.141Z"
   },
   {
    "duration": 17,
    "start_time": "2023-06-27T15:49:28.339Z"
   },
   {
    "duration": 240,
    "start_time": "2023-06-27T15:49:28.359Z"
   },
   {
    "duration": 5,
    "start_time": "2023-06-27T15:49:28.601Z"
   },
   {
    "duration": 218,
    "start_time": "2023-06-27T15:49:28.607Z"
   },
   {
    "duration": 6,
    "start_time": "2023-06-27T15:49:28.828Z"
   },
   {
    "duration": 243,
    "start_time": "2023-06-27T15:49:28.836Z"
   },
   {
    "duration": 230,
    "start_time": "2023-06-27T15:49:29.082Z"
   },
   {
    "duration": 6,
    "start_time": "2023-06-27T15:49:29.314Z"
   },
   {
    "duration": 184,
    "start_time": "2023-06-27T15:49:29.321Z"
   },
   {
    "duration": 7,
    "start_time": "2023-06-27T15:49:29.506Z"
   },
   {
    "duration": 41,
    "start_time": "2023-06-27T15:49:29.515Z"
   },
   {
    "duration": 9,
    "start_time": "2023-06-27T15:49:29.558Z"
   },
   {
    "duration": 49,
    "start_time": "2023-06-27T15:49:29.569Z"
   },
   {
    "duration": 5,
    "start_time": "2023-06-27T15:49:29.620Z"
   },
   {
    "duration": 18,
    "start_time": "2023-06-27T15:49:29.626Z"
   },
   {
    "duration": 20,
    "start_time": "2023-06-27T15:49:29.646Z"
   },
   {
    "duration": 14,
    "start_time": "2023-06-27T15:49:29.668Z"
   },
   {
    "duration": 4,
    "start_time": "2023-06-27T15:49:29.684Z"
   },
   {
    "duration": 11,
    "start_time": "2023-06-27T15:49:29.690Z"
   },
   {
    "duration": 363,
    "start_time": "2023-06-27T15:49:29.702Z"
   },
   {
    "duration": 0,
    "start_time": "2023-06-27T15:49:30.067Z"
   },
   {
    "duration": 0,
    "start_time": "2023-06-27T15:49:30.068Z"
   },
   {
    "duration": 0,
    "start_time": "2023-06-27T15:49:30.069Z"
   },
   {
    "duration": 0,
    "start_time": "2023-06-27T15:49:30.070Z"
   },
   {
    "duration": 19,
    "start_time": "2023-06-27T15:52:10.130Z"
   },
   {
    "duration": 675,
    "start_time": "2023-06-27T15:54:08.435Z"
   },
   {
    "duration": 58,
    "start_time": "2023-06-27T15:54:09.113Z"
   },
   {
    "duration": 19,
    "start_time": "2023-06-27T15:54:09.173Z"
   },
   {
    "duration": 2668,
    "start_time": "2023-06-27T15:54:09.194Z"
   },
   {
    "duration": 12,
    "start_time": "2023-06-27T15:54:11.864Z"
   },
   {
    "duration": 15,
    "start_time": "2023-06-27T15:54:11.879Z"
   },
   {
    "duration": 31,
    "start_time": "2023-06-27T15:54:11.896Z"
   },
   {
    "duration": 52,
    "start_time": "2023-06-27T15:54:11.929Z"
   },
   {
    "duration": 9,
    "start_time": "2023-06-27T15:54:11.984Z"
   },
   {
    "duration": 21,
    "start_time": "2023-06-27T15:54:11.995Z"
   },
   {
    "duration": 116,
    "start_time": "2023-06-27T15:54:12.018Z"
   },
   {
    "duration": 57,
    "start_time": "2023-06-27T15:54:12.136Z"
   },
   {
    "duration": 433,
    "start_time": "2023-06-27T15:54:12.195Z"
   },
   {
    "duration": 4,
    "start_time": "2023-06-27T15:54:12.631Z"
   },
   {
    "duration": 51,
    "start_time": "2023-06-27T15:54:12.637Z"
   },
   {
    "duration": 326,
    "start_time": "2023-06-27T15:54:12.690Z"
   },
   {
    "duration": 251,
    "start_time": "2023-06-27T15:54:13.019Z"
   },
   {
    "duration": 176,
    "start_time": "2023-06-27T15:54:13.273Z"
   },
   {
    "duration": 164,
    "start_time": "2023-06-27T15:54:13.451Z"
   },
   {
    "duration": 151,
    "start_time": "2023-06-27T15:54:13.617Z"
   },
   {
    "duration": 191,
    "start_time": "2023-06-27T15:54:13.770Z"
   },
   {
    "duration": 182,
    "start_time": "2023-06-27T15:54:13.964Z"
   },
   {
    "duration": 157,
    "start_time": "2023-06-27T15:54:14.148Z"
   },
   {
    "duration": 183,
    "start_time": "2023-06-27T15:54:14.307Z"
   },
   {
    "duration": 166,
    "start_time": "2023-06-27T15:54:14.492Z"
   },
   {
    "duration": 202,
    "start_time": "2023-06-27T15:54:14.661Z"
   },
   {
    "duration": 265,
    "start_time": "2023-06-27T15:54:14.865Z"
   },
   {
    "duration": 198,
    "start_time": "2023-06-27T15:54:15.133Z"
   },
   {
    "duration": 165,
    "start_time": "2023-06-27T15:54:15.333Z"
   },
   {
    "duration": 166,
    "start_time": "2023-06-27T15:54:15.500Z"
   },
   {
    "duration": 167,
    "start_time": "2023-06-27T15:54:15.668Z"
   },
   {
    "duration": 23,
    "start_time": "2023-06-27T15:54:15.838Z"
   },
   {
    "duration": 131,
    "start_time": "2023-06-27T15:54:15.863Z"
   },
   {
    "duration": 235,
    "start_time": "2023-06-27T15:54:15.996Z"
   },
   {
    "duration": 7,
    "start_time": "2023-06-27T15:54:16.233Z"
   },
   {
    "duration": 224,
    "start_time": "2023-06-27T15:54:16.242Z"
   },
   {
    "duration": 207,
    "start_time": "2023-06-27T15:54:16.468Z"
   },
   {
    "duration": 6,
    "start_time": "2023-06-27T15:54:16.677Z"
   },
   {
    "duration": 229,
    "start_time": "2023-06-27T15:54:16.685Z"
   },
   {
    "duration": 6,
    "start_time": "2023-06-27T15:54:16.917Z"
   },
   {
    "duration": 258,
    "start_time": "2023-06-27T15:54:16.929Z"
   },
   {
    "duration": 7,
    "start_time": "2023-06-27T15:54:17.190Z"
   },
   {
    "duration": 229,
    "start_time": "2023-06-27T15:54:17.199Z"
   },
   {
    "duration": 204,
    "start_time": "2023-06-27T15:54:17.430Z"
   },
   {
    "duration": 6,
    "start_time": "2023-06-27T15:54:17.637Z"
   },
   {
    "duration": 239,
    "start_time": "2023-06-27T15:54:17.645Z"
   },
   {
    "duration": 7,
    "start_time": "2023-06-27T15:54:17.887Z"
   },
   {
    "duration": 42,
    "start_time": "2023-06-27T15:54:17.896Z"
   },
   {
    "duration": 20,
    "start_time": "2023-06-27T15:54:17.940Z"
   },
   {
    "duration": 40,
    "start_time": "2023-06-27T15:54:17.962Z"
   },
   {
    "duration": 4,
    "start_time": "2023-06-27T15:54:18.004Z"
   },
   {
    "duration": 21,
    "start_time": "2023-06-27T15:54:18.010Z"
   },
   {
    "duration": 40,
    "start_time": "2023-06-27T15:54:18.033Z"
   },
   {
    "duration": 25,
    "start_time": "2023-06-27T15:54:18.075Z"
   },
   {
    "duration": 14,
    "start_time": "2023-06-27T15:54:18.102Z"
   },
   {
    "duration": 47,
    "start_time": "2023-06-27T15:54:18.118Z"
   },
   {
    "duration": 23,
    "start_time": "2023-06-27T15:54:18.169Z"
   },
   {
    "duration": 3,
    "start_time": "2023-06-27T15:57:41.260Z"
   },
   {
    "duration": 8,
    "start_time": "2023-06-27T15:57:41.265Z"
   },
   {
    "duration": 6,
    "start_time": "2023-06-27T15:57:41.277Z"
   },
   {
    "duration": 30,
    "start_time": "2023-06-27T15:57:41.285Z"
   },
   {
    "duration": 86,
    "start_time": "2023-06-27T15:57:41.319Z"
   },
   {
    "duration": 12,
    "start_time": "2023-06-27T16:08:55.881Z"
   },
   {
    "duration": 13,
    "start_time": "2023-06-27T16:09:10.915Z"
   },
   {
    "duration": 22,
    "start_time": "2023-06-27T16:09:19.116Z"
   },
   {
    "duration": 10,
    "start_time": "2023-06-27T16:09:36.627Z"
   },
   {
    "duration": 579,
    "start_time": "2023-06-27T16:09:51.026Z"
   },
   {
    "duration": 62,
    "start_time": "2023-06-27T16:09:51.608Z"
   },
   {
    "duration": 18,
    "start_time": "2023-06-27T16:09:51.673Z"
   },
   {
    "duration": 2464,
    "start_time": "2023-06-27T16:09:51.694Z"
   },
   {
    "duration": 14,
    "start_time": "2023-06-27T16:09:54.160Z"
   },
   {
    "duration": 16,
    "start_time": "2023-06-27T16:09:54.176Z"
   },
   {
    "duration": 37,
    "start_time": "2023-06-27T16:09:54.194Z"
   },
   {
    "duration": 44,
    "start_time": "2023-06-27T16:09:54.233Z"
   },
   {
    "duration": 7,
    "start_time": "2023-06-27T16:09:54.279Z"
   },
   {
    "duration": 24,
    "start_time": "2023-06-27T16:09:54.290Z"
   },
   {
    "duration": 106,
    "start_time": "2023-06-27T16:09:54.316Z"
   },
   {
    "duration": 66,
    "start_time": "2023-06-27T16:09:54.423Z"
   },
   {
    "duration": 426,
    "start_time": "2023-06-27T16:09:54.491Z"
   },
   {
    "duration": 4,
    "start_time": "2023-06-27T16:09:54.920Z"
   },
   {
    "duration": 44,
    "start_time": "2023-06-27T16:09:54.925Z"
   },
   {
    "duration": 297,
    "start_time": "2023-06-27T16:09:54.971Z"
   },
   {
    "duration": 221,
    "start_time": "2023-06-27T16:09:55.270Z"
   },
   {
    "duration": 150,
    "start_time": "2023-06-27T16:09:55.493Z"
   },
   {
    "duration": 168,
    "start_time": "2023-06-27T16:09:55.646Z"
   },
   {
    "duration": 175,
    "start_time": "2023-06-27T16:09:55.816Z"
   },
   {
    "duration": 177,
    "start_time": "2023-06-27T16:09:55.994Z"
   },
   {
    "duration": 222,
    "start_time": "2023-06-27T16:09:56.174Z"
   },
   {
    "duration": 150,
    "start_time": "2023-06-27T16:09:56.399Z"
   },
   {
    "duration": 182,
    "start_time": "2023-06-27T16:09:56.556Z"
   },
   {
    "duration": 239,
    "start_time": "2023-06-27T16:09:56.741Z"
   },
   {
    "duration": 259,
    "start_time": "2023-06-27T16:09:56.982Z"
   },
   {
    "duration": 272,
    "start_time": "2023-06-27T16:09:57.243Z"
   },
   {
    "duration": 165,
    "start_time": "2023-06-27T16:09:57.519Z"
   },
   {
    "duration": 175,
    "start_time": "2023-06-27T16:09:57.685Z"
   },
   {
    "duration": 185,
    "start_time": "2023-06-27T16:09:57.861Z"
   },
   {
    "duration": 187,
    "start_time": "2023-06-27T16:09:58.048Z"
   },
   {
    "duration": 21,
    "start_time": "2023-06-27T16:09:58.237Z"
   },
   {
    "duration": 178,
    "start_time": "2023-06-27T16:09:58.260Z"
   },
   {
    "duration": 270,
    "start_time": "2023-06-27T16:09:58.441Z"
   },
   {
    "duration": 6,
    "start_time": "2023-06-27T16:09:58.713Z"
   },
   {
    "duration": 274,
    "start_time": "2023-06-27T16:09:58.721Z"
   },
   {
    "duration": 323,
    "start_time": "2023-06-27T16:09:58.997Z"
   },
   {
    "duration": 8,
    "start_time": "2023-06-27T16:09:59.323Z"
   },
   {
    "duration": 302,
    "start_time": "2023-06-27T16:09:59.333Z"
   },
   {
    "duration": 7,
    "start_time": "2023-06-27T16:09:59.637Z"
   },
   {
    "duration": 321,
    "start_time": "2023-06-27T16:09:59.647Z"
   },
   {
    "duration": 6,
    "start_time": "2023-06-27T16:09:59.970Z"
   },
   {
    "duration": 256,
    "start_time": "2023-06-27T16:09:59.978Z"
   },
   {
    "duration": 230,
    "start_time": "2023-06-27T16:10:00.236Z"
   },
   {
    "duration": 6,
    "start_time": "2023-06-27T16:10:00.469Z"
   },
   {
    "duration": 321,
    "start_time": "2023-06-27T16:10:00.477Z"
   },
   {
    "duration": 7,
    "start_time": "2023-06-27T16:10:00.801Z"
   },
   {
    "duration": 109,
    "start_time": "2023-06-27T16:10:00.811Z"
   },
   {
    "duration": 80,
    "start_time": "2023-06-27T16:10:00.923Z"
   },
   {
    "duration": 114,
    "start_time": "2023-06-27T16:10:01.005Z"
   },
   {
    "duration": 31,
    "start_time": "2023-06-27T16:10:01.121Z"
   },
   {
    "duration": 81,
    "start_time": "2023-06-27T16:10:01.154Z"
   },
   {
    "duration": 57,
    "start_time": "2023-06-27T16:10:01.238Z"
   },
   {
    "duration": 59,
    "start_time": "2023-06-27T16:10:01.297Z"
   },
   {
    "duration": 30,
    "start_time": "2023-06-27T16:10:01.360Z"
   },
   {
    "duration": 33,
    "start_time": "2023-06-27T16:10:01.393Z"
   },
   {
    "duration": 65,
    "start_time": "2023-06-27T16:10:01.429Z"
   },
   {
    "duration": 96,
    "start_time": "2023-06-27T16:10:01.497Z"
   },
   {
    "duration": 0,
    "start_time": "2023-06-27T16:10:01.595Z"
   },
   {
    "duration": 0,
    "start_time": "2023-06-27T16:10:01.597Z"
   },
   {
    "duration": 0,
    "start_time": "2023-06-27T16:10:01.599Z"
   },
   {
    "duration": 0,
    "start_time": "2023-06-27T16:10:01.600Z"
   },
   {
    "duration": 303,
    "start_time": "2023-06-27T16:10:18.339Z"
   },
   {
    "duration": 515,
    "start_time": "2023-06-27T16:14:40.993Z"
   },
   {
    "duration": 51,
    "start_time": "2023-06-27T16:14:41.510Z"
   },
   {
    "duration": 17,
    "start_time": "2023-06-27T16:14:41.562Z"
   },
   {
    "duration": 2396,
    "start_time": "2023-06-27T16:14:41.581Z"
   },
   {
    "duration": 11,
    "start_time": "2023-06-27T16:14:43.980Z"
   },
   {
    "duration": 17,
    "start_time": "2023-06-27T16:14:43.993Z"
   },
   {
    "duration": 22,
    "start_time": "2023-06-27T16:14:44.012Z"
   },
   {
    "duration": 38,
    "start_time": "2023-06-27T16:14:44.036Z"
   },
   {
    "duration": 8,
    "start_time": "2023-06-27T16:14:44.076Z"
   },
   {
    "duration": 18,
    "start_time": "2023-06-27T16:14:44.086Z"
   },
   {
    "duration": 88,
    "start_time": "2023-06-27T16:14:44.105Z"
   },
   {
    "duration": 63,
    "start_time": "2023-06-27T16:14:44.194Z"
   },
   {
    "duration": 385,
    "start_time": "2023-06-27T16:14:44.260Z"
   },
   {
    "duration": 8,
    "start_time": "2023-06-27T16:14:44.649Z"
   },
   {
    "duration": 26,
    "start_time": "2023-06-27T16:14:44.659Z"
   },
   {
    "duration": 277,
    "start_time": "2023-06-27T16:14:44.687Z"
   },
   {
    "duration": 183,
    "start_time": "2023-06-27T16:14:44.966Z"
   },
   {
    "duration": 163,
    "start_time": "2023-06-27T16:14:45.151Z"
   },
   {
    "duration": 152,
    "start_time": "2023-06-27T16:14:45.316Z"
   },
   {
    "duration": 153,
    "start_time": "2023-06-27T16:14:45.470Z"
   },
   {
    "duration": 174,
    "start_time": "2023-06-27T16:14:45.625Z"
   },
   {
    "duration": 163,
    "start_time": "2023-06-27T16:14:45.801Z"
   },
   {
    "duration": 147,
    "start_time": "2023-06-27T16:14:45.966Z"
   },
   {
    "duration": 167,
    "start_time": "2023-06-27T16:14:46.116Z"
   },
   {
    "duration": 164,
    "start_time": "2023-06-27T16:14:46.285Z"
   },
   {
    "duration": 185,
    "start_time": "2023-06-27T16:14:46.451Z"
   },
   {
    "duration": 261,
    "start_time": "2023-06-27T16:14:46.638Z"
   },
   {
    "duration": 172,
    "start_time": "2023-06-27T16:14:46.901Z"
   },
   {
    "duration": 170,
    "start_time": "2023-06-27T16:14:47.074Z"
   },
   {
    "duration": 179,
    "start_time": "2023-06-27T16:14:47.246Z"
   },
   {
    "duration": 166,
    "start_time": "2023-06-27T16:14:47.428Z"
   },
   {
    "duration": 10,
    "start_time": "2023-06-27T16:14:47.596Z"
   },
   {
    "duration": 141,
    "start_time": "2023-06-27T16:14:47.609Z"
   },
   {
    "duration": 227,
    "start_time": "2023-06-27T16:14:47.752Z"
   },
   {
    "duration": 7,
    "start_time": "2023-06-27T16:14:47.991Z"
   },
   {
    "duration": 200,
    "start_time": "2023-06-27T16:14:48.000Z"
   },
   {
    "duration": 237,
    "start_time": "2023-06-27T16:14:48.202Z"
   },
   {
    "duration": 17,
    "start_time": "2023-06-27T16:14:48.442Z"
   },
   {
    "duration": 937,
    "start_time": "2023-06-27T16:14:48.460Z"
   },
   {
    "duration": 6,
    "start_time": "2023-06-27T16:14:49.400Z"
   },
   {
    "duration": 218,
    "start_time": "2023-06-27T16:14:49.410Z"
   },
   {
    "duration": 7,
    "start_time": "2023-06-27T16:14:49.629Z"
   },
   {
    "duration": 196,
    "start_time": "2023-06-27T16:14:49.637Z"
   },
   {
    "duration": 207,
    "start_time": "2023-06-27T16:14:49.835Z"
   },
   {
    "duration": 14,
    "start_time": "2023-06-27T16:14:50.044Z"
   },
   {
    "duration": 188,
    "start_time": "2023-06-27T16:14:50.060Z"
   },
   {
    "duration": 9,
    "start_time": "2023-06-27T16:14:50.250Z"
   },
   {
    "duration": 34,
    "start_time": "2023-06-27T16:14:50.261Z"
   },
   {
    "duration": 9,
    "start_time": "2023-06-27T16:14:50.297Z"
   },
   {
    "duration": 49,
    "start_time": "2023-06-27T16:14:50.307Z"
   },
   {
    "duration": 5,
    "start_time": "2023-06-27T16:14:50.358Z"
   },
   {
    "duration": 8,
    "start_time": "2023-06-27T16:14:50.365Z"
   },
   {
    "duration": 13,
    "start_time": "2023-06-27T16:14:50.374Z"
   },
   {
    "duration": 66,
    "start_time": "2023-06-27T16:14:50.389Z"
   },
   {
    "duration": 0,
    "start_time": "2023-06-27T16:14:50.457Z"
   },
   {
    "duration": 0,
    "start_time": "2023-06-27T16:14:50.458Z"
   },
   {
    "duration": 0,
    "start_time": "2023-06-27T16:14:50.460Z"
   },
   {
    "duration": 0,
    "start_time": "2023-06-27T16:14:50.461Z"
   },
   {
    "duration": 0,
    "start_time": "2023-06-27T16:14:50.462Z"
   },
   {
    "duration": 0,
    "start_time": "2023-06-27T16:14:50.462Z"
   },
   {
    "duration": 29,
    "start_time": "2023-06-27T16:15:13.754Z"
   },
   {
    "duration": 25,
    "start_time": "2023-06-27T16:15:22.246Z"
   },
   {
    "duration": 30,
    "start_time": "2023-06-27T16:15:37.547Z"
   },
   {
    "duration": 326,
    "start_time": "2023-06-27T16:16:25.739Z"
   },
   {
    "duration": 444,
    "start_time": "2023-06-27T16:16:39.635Z"
   },
   {
    "duration": 336,
    "start_time": "2023-06-27T16:25:52.856Z"
   },
   {
    "duration": 339,
    "start_time": "2023-06-27T16:28:22.919Z"
   },
   {
    "duration": 554,
    "start_time": "2023-06-27T17:04:25.894Z"
   },
   {
    "duration": 62,
    "start_time": "2023-06-27T17:04:26.451Z"
   },
   {
    "duration": 17,
    "start_time": "2023-06-27T17:04:26.515Z"
   },
   {
    "duration": 2733,
    "start_time": "2023-06-27T17:04:26.533Z"
   },
   {
    "duration": 10,
    "start_time": "2023-06-27T17:04:29.269Z"
   },
   {
    "duration": 9,
    "start_time": "2023-06-27T17:04:29.282Z"
   },
   {
    "duration": 35,
    "start_time": "2023-06-27T17:04:29.293Z"
   },
   {
    "duration": 48,
    "start_time": "2023-06-27T17:04:29.331Z"
   },
   {
    "duration": 10,
    "start_time": "2023-06-27T17:04:29.382Z"
   },
   {
    "duration": 32,
    "start_time": "2023-06-27T17:04:29.395Z"
   },
   {
    "duration": 79,
    "start_time": "2023-06-27T17:04:29.429Z"
   },
   {
    "duration": 62,
    "start_time": "2023-06-27T17:04:29.510Z"
   },
   {
    "duration": 408,
    "start_time": "2023-06-27T17:04:29.574Z"
   },
   {
    "duration": 4,
    "start_time": "2023-06-27T17:04:29.985Z"
   },
   {
    "duration": 26,
    "start_time": "2023-06-27T17:04:29.990Z"
   },
   {
    "duration": 320,
    "start_time": "2023-06-27T17:04:30.018Z"
   },
   {
    "duration": 206,
    "start_time": "2023-06-27T17:04:30.340Z"
   },
   {
    "duration": 177,
    "start_time": "2023-06-27T17:04:30.548Z"
   },
   {
    "duration": 210,
    "start_time": "2023-06-27T17:04:30.728Z"
   },
   {
    "duration": 204,
    "start_time": "2023-06-27T17:04:30.940Z"
   },
   {
    "duration": 212,
    "start_time": "2023-06-27T17:04:31.147Z"
   },
   {
    "duration": 176,
    "start_time": "2023-06-27T17:04:31.362Z"
   },
   {
    "duration": 144,
    "start_time": "2023-06-27T17:04:31.540Z"
   },
   {
    "duration": 205,
    "start_time": "2023-06-27T17:04:31.686Z"
   },
   {
    "duration": 158,
    "start_time": "2023-06-27T17:04:31.893Z"
   },
   {
    "duration": 182,
    "start_time": "2023-06-27T17:04:32.056Z"
   },
   {
    "duration": 294,
    "start_time": "2023-06-27T17:04:32.240Z"
   },
   {
    "duration": 194,
    "start_time": "2023-06-27T17:04:32.536Z"
   },
   {
    "duration": 179,
    "start_time": "2023-06-27T17:04:32.732Z"
   },
   {
    "duration": 201,
    "start_time": "2023-06-27T17:04:32.913Z"
   },
   {
    "duration": 192,
    "start_time": "2023-06-27T17:04:33.116Z"
   },
   {
    "duration": 12,
    "start_time": "2023-06-27T17:04:33.310Z"
   },
   {
    "duration": 143,
    "start_time": "2023-06-27T17:04:33.324Z"
   },
   {
    "duration": 248,
    "start_time": "2023-06-27T17:04:33.469Z"
   },
   {
    "duration": 7,
    "start_time": "2023-06-27T17:04:33.718Z"
   },
   {
    "duration": 231,
    "start_time": "2023-06-27T17:04:33.726Z"
   },
   {
    "duration": 216,
    "start_time": "2023-06-27T17:04:33.959Z"
   },
   {
    "duration": 8,
    "start_time": "2023-06-27T17:04:34.177Z"
   },
   {
    "duration": 254,
    "start_time": "2023-06-27T17:04:34.186Z"
   },
   {
    "duration": 5,
    "start_time": "2023-06-27T17:04:34.442Z"
   },
   {
    "duration": 215,
    "start_time": "2023-06-27T17:04:34.461Z"
   },
   {
    "duration": 6,
    "start_time": "2023-06-27T17:04:34.678Z"
   },
   {
    "duration": 192,
    "start_time": "2023-06-27T17:04:34.686Z"
   },
   {
    "duration": 240,
    "start_time": "2023-06-27T17:04:34.880Z"
   },
   {
    "duration": 8,
    "start_time": "2023-06-27T17:04:35.122Z"
   },
   {
    "duration": 182,
    "start_time": "2023-06-27T17:04:35.132Z"
   },
   {
    "duration": 8,
    "start_time": "2023-06-27T17:04:35.317Z"
   },
   {
    "duration": 32,
    "start_time": "2023-06-27T17:04:35.327Z"
   },
   {
    "duration": 10,
    "start_time": "2023-06-27T17:04:35.361Z"
   },
   {
    "duration": 38,
    "start_time": "2023-06-27T17:04:35.373Z"
   },
   {
    "duration": 5,
    "start_time": "2023-06-27T17:04:35.414Z"
   },
   {
    "duration": 38,
    "start_time": "2023-06-27T17:04:35.420Z"
   },
   {
    "duration": 31,
    "start_time": "2023-06-27T17:04:35.460Z"
   },
   {
    "duration": 411,
    "start_time": "2023-06-27T17:04:35.494Z"
   },
   {
    "duration": 905,
    "start_time": "2023-06-27T17:41:18.828Z"
   },
   {
    "duration": 42,
    "start_time": "2023-06-27T17:41:19.742Z"
   },
   {
    "duration": 18,
    "start_time": "2023-06-27T17:41:19.785Z"
   },
   {
    "duration": 2975,
    "start_time": "2023-06-27T17:41:19.807Z"
   },
   {
    "duration": 10,
    "start_time": "2023-06-27T17:41:22.786Z"
   },
   {
    "duration": 43,
    "start_time": "2023-06-27T17:41:22.797Z"
   },
   {
    "duration": 24,
    "start_time": "2023-06-27T17:41:22.842Z"
   },
   {
    "duration": 23,
    "start_time": "2023-06-27T17:41:22.869Z"
   },
   {
    "duration": 16,
    "start_time": "2023-06-27T17:41:22.894Z"
   },
   {
    "duration": 55,
    "start_time": "2023-06-27T17:41:22.911Z"
   },
   {
    "duration": 95,
    "start_time": "2023-06-27T17:41:22.969Z"
   },
   {
    "duration": 51,
    "start_time": "2023-06-27T17:41:23.066Z"
   },
   {
    "duration": 573,
    "start_time": "2023-06-27T17:41:23.127Z"
   },
   {
    "duration": 7,
    "start_time": "2023-06-27T17:41:23.704Z"
   },
   {
    "duration": 74,
    "start_time": "2023-06-27T17:41:23.713Z"
   },
   {
    "duration": 235,
    "start_time": "2023-06-27T17:41:23.789Z"
   },
   {
    "duration": 172,
    "start_time": "2023-06-27T17:41:24.029Z"
   },
   {
    "duration": 161,
    "start_time": "2023-06-27T17:41:24.211Z"
   },
   {
    "duration": 166,
    "start_time": "2023-06-27T17:41:24.374Z"
   },
   {
    "duration": 166,
    "start_time": "2023-06-27T17:41:24.541Z"
   },
   {
    "duration": 187,
    "start_time": "2023-06-27T17:41:24.708Z"
   },
   {
    "duration": 183,
    "start_time": "2023-06-27T17:41:24.896Z"
   },
   {
    "duration": 181,
    "start_time": "2023-06-27T17:41:25.081Z"
   },
   {
    "duration": 198,
    "start_time": "2023-06-27T17:41:25.264Z"
   },
   {
    "duration": 180,
    "start_time": "2023-06-27T17:41:25.463Z"
   },
   {
    "duration": 187,
    "start_time": "2023-06-27T17:41:25.648Z"
   },
   {
    "duration": 138,
    "start_time": "2023-06-27T17:41:25.843Z"
   },
   {
    "duration": 183,
    "start_time": "2023-06-27T17:41:25.982Z"
   },
   {
    "duration": 301,
    "start_time": "2023-06-27T17:41:26.167Z"
   },
   {
    "duration": 206,
    "start_time": "2023-06-27T17:41:26.470Z"
   },
   {
    "duration": 185,
    "start_time": "2023-06-27T17:41:26.678Z"
   },
   {
    "duration": 9,
    "start_time": "2023-06-27T17:41:26.865Z"
   },
   {
    "duration": 147,
    "start_time": "2023-06-27T17:41:26.876Z"
   },
   {
    "duration": 237,
    "start_time": "2023-06-27T17:41:27.024Z"
   },
   {
    "duration": 6,
    "start_time": "2023-06-27T17:41:27.263Z"
   },
   {
    "duration": 249,
    "start_time": "2023-06-27T17:41:27.271Z"
   },
   {
    "duration": 236,
    "start_time": "2023-06-27T17:41:27.522Z"
   },
   {
    "duration": 7,
    "start_time": "2023-06-27T17:41:27.759Z"
   },
   {
    "duration": 256,
    "start_time": "2023-06-27T17:41:27.767Z"
   },
   {
    "duration": 22,
    "start_time": "2023-06-27T17:41:28.025Z"
   },
   {
    "duration": 224,
    "start_time": "2023-06-27T17:41:28.052Z"
   },
   {
    "duration": 6,
    "start_time": "2023-06-27T17:41:28.278Z"
   },
   {
    "duration": 235,
    "start_time": "2023-06-27T17:41:28.286Z"
   },
   {
    "duration": 228,
    "start_time": "2023-06-27T17:41:28.525Z"
   },
   {
    "duration": 6,
    "start_time": "2023-06-27T17:41:28.754Z"
   },
   {
    "duration": 205,
    "start_time": "2023-06-27T17:41:28.761Z"
   },
   {
    "duration": 6,
    "start_time": "2023-06-27T17:41:28.967Z"
   },
   {
    "duration": 41,
    "start_time": "2023-06-27T17:41:28.975Z"
   },
   {
    "duration": 10,
    "start_time": "2023-06-27T17:41:29.022Z"
   },
   {
    "duration": 56,
    "start_time": "2023-06-27T17:41:29.036Z"
   },
   {
    "duration": 5,
    "start_time": "2023-06-27T17:41:29.094Z"
   },
   {
    "duration": 57,
    "start_time": "2023-06-27T17:41:29.101Z"
   },
   {
    "duration": 26,
    "start_time": "2023-06-27T17:41:29.159Z"
   },
   {
    "duration": 389,
    "start_time": "2023-06-27T17:41:29.186Z"
   },
   {
    "duration": 641,
    "start_time": "2023-06-27T19:59:09.060Z"
   },
   {
    "duration": 76,
    "start_time": "2023-06-27T19:59:09.704Z"
   },
   {
    "duration": 17,
    "start_time": "2023-06-27T19:59:09.782Z"
   },
   {
    "duration": 3876,
    "start_time": "2023-06-27T19:59:09.801Z"
   },
   {
    "duration": 16,
    "start_time": "2023-06-27T19:59:13.682Z"
   },
   {
    "duration": 84,
    "start_time": "2023-06-27T19:59:13.700Z"
   },
   {
    "duration": 88,
    "start_time": "2023-06-27T19:59:13.786Z"
   },
   {
    "duration": 191,
    "start_time": "2023-06-27T19:59:13.876Z"
   },
   {
    "duration": 95,
    "start_time": "2023-06-27T19:59:14.071Z"
   },
   {
    "duration": 52,
    "start_time": "2023-06-27T19:59:14.169Z"
   },
   {
    "duration": 157,
    "start_time": "2023-06-27T19:59:14.230Z"
   },
   {
    "duration": 73,
    "start_time": "2023-06-27T19:59:14.389Z"
   },
   {
    "duration": 722,
    "start_time": "2023-06-27T19:59:14.464Z"
   },
   {
    "duration": 12,
    "start_time": "2023-06-27T19:59:15.191Z"
   },
   {
    "duration": 116,
    "start_time": "2023-06-27T19:59:15.206Z"
   },
   {
    "duration": 521,
    "start_time": "2023-06-27T19:59:15.324Z"
   },
   {
    "duration": 302,
    "start_time": "2023-06-27T19:59:15.848Z"
   },
   {
    "duration": 241,
    "start_time": "2023-06-27T19:59:16.156Z"
   },
   {
    "duration": 205,
    "start_time": "2023-06-27T19:59:16.404Z"
   },
   {
    "duration": 199,
    "start_time": "2023-06-27T19:59:16.615Z"
   },
   {
    "duration": 254,
    "start_time": "2023-06-27T19:59:16.820Z"
   },
   {
    "duration": 212,
    "start_time": "2023-06-27T19:59:17.080Z"
   },
   {
    "duration": 182,
    "start_time": "2023-06-27T19:59:17.299Z"
   },
   {
    "duration": 239,
    "start_time": "2023-06-27T19:59:17.483Z"
   },
   {
    "duration": 239,
    "start_time": "2023-06-27T19:59:17.727Z"
   },
   {
    "duration": 223,
    "start_time": "2023-06-27T19:59:17.968Z"
   },
   {
    "duration": 295,
    "start_time": "2023-06-27T19:59:18.193Z"
   },
   {
    "duration": 220,
    "start_time": "2023-06-27T19:59:18.492Z"
   },
   {
    "duration": 248,
    "start_time": "2023-06-27T19:59:18.717Z"
   },
   {
    "duration": 230,
    "start_time": "2023-06-27T19:59:18.977Z"
   },
   {
    "duration": 301,
    "start_time": "2023-06-27T19:59:19.219Z"
   },
   {
    "duration": 53,
    "start_time": "2023-06-27T19:59:19.532Z"
   },
   {
    "duration": 201,
    "start_time": "2023-06-27T19:59:19.594Z"
   },
   {
    "duration": 309,
    "start_time": "2023-06-27T19:59:19.797Z"
   },
   {
    "duration": 22,
    "start_time": "2023-06-27T19:59:20.116Z"
   },
   {
    "duration": 431,
    "start_time": "2023-06-27T19:59:20.144Z"
   },
   {
    "duration": 328,
    "start_time": "2023-06-27T19:59:20.585Z"
   },
   {
    "duration": 9,
    "start_time": "2023-06-27T19:59:20.919Z"
   },
   {
    "duration": 408,
    "start_time": "2023-06-27T19:59:20.929Z"
   },
   {
    "duration": 15,
    "start_time": "2023-06-27T19:59:21.342Z"
   },
   {
    "duration": 424,
    "start_time": "2023-06-27T19:59:21.371Z"
   },
   {
    "duration": 22,
    "start_time": "2023-06-27T19:59:21.798Z"
   },
   {
    "duration": 371,
    "start_time": "2023-06-27T19:59:21.827Z"
   },
   {
    "duration": 247,
    "start_time": "2023-06-27T19:59:22.200Z"
   },
   {
    "duration": 15,
    "start_time": "2023-06-27T19:59:22.448Z"
   },
   {
    "duration": 310,
    "start_time": "2023-06-27T19:59:22.466Z"
   },
   {
    "duration": 15,
    "start_time": "2023-06-27T19:59:22.778Z"
   },
   {
    "duration": 134,
    "start_time": "2023-06-27T19:59:22.795Z"
   },
   {
    "duration": 21,
    "start_time": "2023-06-27T19:59:22.934Z"
   },
   {
    "duration": 147,
    "start_time": "2023-06-27T19:59:22.960Z"
   },
   {
    "duration": 81,
    "start_time": "2023-06-27T19:59:23.113Z"
   },
   {
    "duration": 100,
    "start_time": "2023-06-27T19:59:23.197Z"
   },
   {
    "duration": 98,
    "start_time": "2023-06-27T19:59:23.300Z"
   },
   {
    "duration": 575,
    "start_time": "2023-06-27T19:59:23.403Z"
   },
   {
    "duration": 49,
    "start_time": "2023-06-27T20:02:35.720Z"
   },
   {
    "duration": 326,
    "start_time": "2023-06-27T20:02:38.830Z"
   },
   {
    "duration": 22,
    "start_time": "2023-06-27T20:03:01.205Z"
   },
   {
    "duration": 66,
    "start_time": "2023-06-28T05:09:06.516Z"
   },
   {
    "duration": 7,
    "start_time": "2023-06-28T05:09:39.829Z"
   },
   {
    "duration": 7,
    "start_time": "2023-06-28T05:09:49.943Z"
   },
   {
    "duration": 8,
    "start_time": "2023-06-28T05:10:01.947Z"
   },
   {
    "duration": 598,
    "start_time": "2023-06-28T05:10:16.425Z"
   },
   {
    "duration": 84,
    "start_time": "2023-06-28T05:10:17.026Z"
   },
   {
    "duration": 0,
    "start_time": "2023-06-28T05:10:17.114Z"
   },
   {
    "duration": 0,
    "start_time": "2023-06-28T05:10:17.115Z"
   },
   {
    "duration": 0,
    "start_time": "2023-06-28T05:10:17.117Z"
   },
   {
    "duration": 0,
    "start_time": "2023-06-28T05:10:17.119Z"
   },
   {
    "duration": 0,
    "start_time": "2023-06-28T05:10:17.120Z"
   },
   {
    "duration": 0,
    "start_time": "2023-06-28T05:10:17.122Z"
   },
   {
    "duration": 0,
    "start_time": "2023-06-28T05:10:17.124Z"
   },
   {
    "duration": 0,
    "start_time": "2023-06-28T05:10:17.125Z"
   },
   {
    "duration": 0,
    "start_time": "2023-06-28T05:10:17.126Z"
   },
   {
    "duration": 0,
    "start_time": "2023-06-28T05:10:17.128Z"
   },
   {
    "duration": 0,
    "start_time": "2023-06-28T05:10:17.129Z"
   },
   {
    "duration": 0,
    "start_time": "2023-06-28T05:10:17.130Z"
   },
   {
    "duration": 0,
    "start_time": "2023-06-28T05:10:17.131Z"
   },
   {
    "duration": 0,
    "start_time": "2023-06-28T05:10:17.132Z"
   },
   {
    "duration": 0,
    "start_time": "2023-06-28T05:10:17.134Z"
   },
   {
    "duration": 0,
    "start_time": "2023-06-28T05:10:17.135Z"
   },
   {
    "duration": 0,
    "start_time": "2023-06-28T05:10:17.172Z"
   },
   {
    "duration": 0,
    "start_time": "2023-06-28T05:10:17.173Z"
   },
   {
    "duration": 1,
    "start_time": "2023-06-28T05:10:17.173Z"
   },
   {
    "duration": 0,
    "start_time": "2023-06-28T05:10:17.174Z"
   },
   {
    "duration": 0,
    "start_time": "2023-06-28T05:10:17.175Z"
   },
   {
    "duration": 0,
    "start_time": "2023-06-28T05:10:17.176Z"
   },
   {
    "duration": 0,
    "start_time": "2023-06-28T05:10:17.177Z"
   },
   {
    "duration": 0,
    "start_time": "2023-06-28T05:10:17.178Z"
   },
   {
    "duration": 0,
    "start_time": "2023-06-28T05:10:17.178Z"
   },
   {
    "duration": 0,
    "start_time": "2023-06-28T05:10:17.179Z"
   },
   {
    "duration": 0,
    "start_time": "2023-06-28T05:10:17.180Z"
   },
   {
    "duration": 0,
    "start_time": "2023-06-28T05:10:17.181Z"
   },
   {
    "duration": 0,
    "start_time": "2023-06-28T05:10:17.182Z"
   },
   {
    "duration": 0,
    "start_time": "2023-06-28T05:10:17.185Z"
   },
   {
    "duration": 0,
    "start_time": "2023-06-28T05:10:17.186Z"
   },
   {
    "duration": 0,
    "start_time": "2023-06-28T05:10:17.187Z"
   },
   {
    "duration": 0,
    "start_time": "2023-06-28T05:10:17.188Z"
   },
   {
    "duration": 0,
    "start_time": "2023-06-28T05:10:17.189Z"
   },
   {
    "duration": 0,
    "start_time": "2023-06-28T05:10:17.190Z"
   },
   {
    "duration": 0,
    "start_time": "2023-06-28T05:10:17.191Z"
   },
   {
    "duration": 0,
    "start_time": "2023-06-28T05:10:17.192Z"
   },
   {
    "duration": 0,
    "start_time": "2023-06-28T05:10:17.193Z"
   },
   {
    "duration": 0,
    "start_time": "2023-06-28T05:10:17.194Z"
   },
   {
    "duration": 0,
    "start_time": "2023-06-28T05:10:17.195Z"
   },
   {
    "duration": 0,
    "start_time": "2023-06-28T05:10:17.196Z"
   },
   {
    "duration": 0,
    "start_time": "2023-06-28T05:10:17.197Z"
   },
   {
    "duration": 0,
    "start_time": "2023-06-28T05:10:17.198Z"
   },
   {
    "duration": 0,
    "start_time": "2023-06-28T05:10:17.199Z"
   },
   {
    "duration": 0,
    "start_time": "2023-06-28T05:10:17.200Z"
   },
   {
    "duration": 0,
    "start_time": "2023-06-28T05:10:17.201Z"
   },
   {
    "duration": 0,
    "start_time": "2023-06-28T05:10:17.203Z"
   },
   {
    "duration": 0,
    "start_time": "2023-06-28T05:10:17.205Z"
   },
   {
    "duration": 0,
    "start_time": "2023-06-28T05:10:17.207Z"
   },
   {
    "duration": 0,
    "start_time": "2023-06-28T05:10:17.208Z"
   },
   {
    "duration": 0,
    "start_time": "2023-06-28T05:10:17.209Z"
   },
   {
    "duration": 0,
    "start_time": "2023-06-28T05:10:17.211Z"
   },
   {
    "duration": 48,
    "start_time": "2023-06-28T05:10:59.737Z"
   },
   {
    "duration": 2922,
    "start_time": "2023-06-28T05:12:35.711Z"
   },
   {
    "duration": 38,
    "start_time": "2023-06-28T05:22:33.449Z"
   },
   {
    "duration": 46,
    "start_time": "2023-06-28T05:25:28.442Z"
   },
   {
    "duration": 87,
    "start_time": "2023-06-28T05:26:02.230Z"
   },
   {
    "duration": 89,
    "start_time": "2023-06-28T05:26:17.554Z"
   },
   {
    "duration": 61,
    "start_time": "2023-06-28T05:26:57.429Z"
   },
   {
    "duration": 64,
    "start_time": "2023-06-28T05:27:45.252Z"
   },
   {
    "duration": 78,
    "start_time": "2023-06-28T05:27:54.550Z"
   },
   {
    "duration": 63,
    "start_time": "2023-06-28T05:28:10.796Z"
   },
   {
    "duration": 66,
    "start_time": "2023-06-28T05:28:42.082Z"
   },
   {
    "duration": 19,
    "start_time": "2023-06-28T05:29:43.744Z"
   },
   {
    "duration": 5,
    "start_time": "2023-06-28T05:30:12.593Z"
   },
   {
    "duration": 16,
    "start_time": "2023-06-28T05:30:31.726Z"
   },
   {
    "duration": 5,
    "start_time": "2023-06-28T05:30:44.686Z"
   },
   {
    "duration": 24,
    "start_time": "2023-06-28T05:30:47.909Z"
   },
   {
    "duration": 527,
    "start_time": "2023-06-28T05:31:02.613Z"
   },
   {
    "duration": 48,
    "start_time": "2023-06-28T05:31:03.142Z"
   },
   {
    "duration": 16,
    "start_time": "2023-06-28T05:31:03.193Z"
   },
   {
    "duration": 2521,
    "start_time": "2023-06-28T05:31:03.212Z"
   },
   {
    "duration": 9,
    "start_time": "2023-06-28T05:31:05.735Z"
   },
   {
    "duration": 42,
    "start_time": "2023-06-28T05:31:05.746Z"
   },
   {
    "duration": 44,
    "start_time": "2023-06-28T05:31:05.790Z"
   },
   {
    "duration": 21,
    "start_time": "2023-06-28T05:31:05.836Z"
   },
   {
    "duration": 26,
    "start_time": "2023-06-28T05:31:05.858Z"
   },
   {
    "duration": 7,
    "start_time": "2023-06-28T05:31:05.887Z"
   },
   {
    "duration": 22,
    "start_time": "2023-06-28T05:31:05.896Z"
   },
   {
    "duration": 91,
    "start_time": "2023-06-28T05:31:05.920Z"
   },
   {
    "duration": 54,
    "start_time": "2023-06-28T05:31:06.013Z"
   },
   {
    "duration": 408,
    "start_time": "2023-06-28T05:31:06.069Z"
   },
   {
    "duration": 4,
    "start_time": "2023-06-28T05:31:06.479Z"
   },
   {
    "duration": 32,
    "start_time": "2023-06-28T05:31:06.485Z"
   },
   {
    "duration": 286,
    "start_time": "2023-06-28T05:31:06.519Z"
   },
   {
    "duration": 183,
    "start_time": "2023-06-28T05:31:06.806Z"
   },
   {
    "duration": 163,
    "start_time": "2023-06-28T05:31:06.990Z"
   },
   {
    "duration": 163,
    "start_time": "2023-06-28T05:31:07.155Z"
   },
   {
    "duration": 159,
    "start_time": "2023-06-28T05:31:07.320Z"
   },
   {
    "duration": 183,
    "start_time": "2023-06-28T05:31:07.482Z"
   },
   {
    "duration": 164,
    "start_time": "2023-06-28T05:31:07.672Z"
   },
   {
    "duration": 150,
    "start_time": "2023-06-28T05:31:07.838Z"
   },
   {
    "duration": 195,
    "start_time": "2023-06-28T05:31:07.990Z"
   },
   {
    "duration": 153,
    "start_time": "2023-06-28T05:31:08.187Z"
   },
   {
    "duration": 181,
    "start_time": "2023-06-28T05:31:08.342Z"
   },
   {
    "duration": 231,
    "start_time": "2023-06-28T05:31:08.528Z"
   },
   {
    "duration": 172,
    "start_time": "2023-06-28T05:31:08.767Z"
   },
   {
    "duration": 162,
    "start_time": "2023-06-28T05:31:08.940Z"
   },
   {
    "duration": 174,
    "start_time": "2023-06-28T05:31:09.103Z"
   },
   {
    "duration": 162,
    "start_time": "2023-06-28T05:31:09.279Z"
   },
   {
    "duration": 9,
    "start_time": "2023-06-28T05:31:09.443Z"
   },
   {
    "duration": 139,
    "start_time": "2023-06-28T05:31:09.454Z"
   },
   {
    "duration": 221,
    "start_time": "2023-06-28T05:31:09.595Z"
   },
   {
    "duration": 5,
    "start_time": "2023-06-28T05:31:09.818Z"
   },
   {
    "duration": 222,
    "start_time": "2023-06-28T05:31:09.825Z"
   },
   {
    "duration": 230,
    "start_time": "2023-06-28T05:31:10.049Z"
   },
   {
    "duration": 5,
    "start_time": "2023-06-28T05:31:10.281Z"
   },
   {
    "duration": 214,
    "start_time": "2023-06-28T05:31:10.288Z"
   },
   {
    "duration": 5,
    "start_time": "2023-06-28T05:31:10.504Z"
   },
   {
    "duration": 214,
    "start_time": "2023-06-28T05:31:10.511Z"
   },
   {
    "duration": 5,
    "start_time": "2023-06-28T05:31:10.727Z"
   },
   {
    "duration": 195,
    "start_time": "2023-06-28T05:31:10.734Z"
   },
   {
    "duration": 310,
    "start_time": "2023-06-28T05:31:10.931Z"
   },
   {
    "duration": 5,
    "start_time": "2023-06-28T05:31:11.243Z"
   },
   {
    "duration": 187,
    "start_time": "2023-06-28T05:31:11.250Z"
   },
   {
    "duration": 5,
    "start_time": "2023-06-28T05:31:11.439Z"
   },
   {
    "duration": 41,
    "start_time": "2023-06-28T05:31:11.445Z"
   },
   {
    "duration": 9,
    "start_time": "2023-06-28T05:31:11.487Z"
   },
   {
    "duration": 38,
    "start_time": "2023-06-28T05:31:11.498Z"
   },
   {
    "duration": 4,
    "start_time": "2023-06-28T05:31:11.538Z"
   },
   {
    "duration": 37,
    "start_time": "2023-06-28T05:31:11.544Z"
   },
   {
    "duration": 24,
    "start_time": "2023-06-28T05:31:11.582Z"
   },
   {
    "duration": 345,
    "start_time": "2023-06-28T05:31:11.608Z"
   },
   {
    "duration": 5,
    "start_time": "2023-06-28T05:31:41.634Z"
   },
   {
    "duration": 17,
    "start_time": "2023-06-28T05:31:45.423Z"
   },
   {
    "duration": 522,
    "start_time": "2023-06-28T05:31:58.687Z"
   },
   {
    "duration": 40,
    "start_time": "2023-06-28T05:31:59.212Z"
   },
   {
    "duration": 28,
    "start_time": "2023-06-28T05:31:59.254Z"
   },
   {
    "duration": 2570,
    "start_time": "2023-06-28T05:31:59.284Z"
   },
   {
    "duration": 15,
    "start_time": "2023-06-28T05:32:01.857Z"
   },
   {
    "duration": 60,
    "start_time": "2023-06-28T05:32:01.874Z"
   },
   {
    "duration": 97,
    "start_time": "2023-06-28T05:32:01.936Z"
   },
   {
    "duration": 66,
    "start_time": "2023-06-28T05:32:02.035Z"
   },
   {
    "duration": 54,
    "start_time": "2023-06-28T05:32:02.103Z"
   },
   {
    "duration": 35,
    "start_time": "2023-06-28T05:32:02.159Z"
   },
   {
    "duration": 49,
    "start_time": "2023-06-28T05:32:02.196Z"
   },
   {
    "duration": 161,
    "start_time": "2023-06-28T05:32:02.246Z"
   },
   {
    "duration": 43,
    "start_time": "2023-06-28T05:32:02.409Z"
   },
   {
    "duration": 489,
    "start_time": "2023-06-28T05:32:02.468Z"
   },
   {
    "duration": 8,
    "start_time": "2023-06-28T05:32:02.960Z"
   },
   {
    "duration": 30,
    "start_time": "2023-06-28T05:32:02.972Z"
   },
   {
    "duration": 318,
    "start_time": "2023-06-28T05:32:03.004Z"
   },
   {
    "duration": 187,
    "start_time": "2023-06-28T05:32:03.324Z"
   },
   {
    "duration": 157,
    "start_time": "2023-06-28T05:32:03.513Z"
   },
   {
    "duration": 155,
    "start_time": "2023-06-28T05:32:03.673Z"
   },
   {
    "duration": 191,
    "start_time": "2023-06-28T05:32:03.830Z"
   },
   {
    "duration": 206,
    "start_time": "2023-06-28T05:32:04.024Z"
   },
   {
    "duration": 170,
    "start_time": "2023-06-28T05:32:04.232Z"
   },
   {
    "duration": 140,
    "start_time": "2023-06-28T05:32:04.404Z"
   },
   {
    "duration": 185,
    "start_time": "2023-06-28T05:32:04.546Z"
   },
   {
    "duration": 176,
    "start_time": "2023-06-28T05:32:04.733Z"
   },
   {
    "duration": 178,
    "start_time": "2023-06-28T05:32:04.911Z"
   },
   {
    "duration": 218,
    "start_time": "2023-06-28T05:32:05.091Z"
   },
   {
    "duration": 170,
    "start_time": "2023-06-28T05:32:05.311Z"
   },
   {
    "duration": 138,
    "start_time": "2023-06-28T05:32:05.483Z"
   },
   {
    "duration": 163,
    "start_time": "2023-06-28T05:32:05.623Z"
   },
   {
    "duration": 157,
    "start_time": "2023-06-28T05:32:05.788Z"
   },
   {
    "duration": 24,
    "start_time": "2023-06-28T05:32:05.947Z"
   },
   {
    "duration": 119,
    "start_time": "2023-06-28T05:32:05.981Z"
   },
   {
    "duration": 215,
    "start_time": "2023-06-28T05:32:06.102Z"
   },
   {
    "duration": 6,
    "start_time": "2023-06-28T05:32:06.319Z"
   },
   {
    "duration": 233,
    "start_time": "2023-06-28T05:32:06.326Z"
   },
   {
    "duration": 211,
    "start_time": "2023-06-28T05:32:06.572Z"
   },
   {
    "duration": 6,
    "start_time": "2023-06-28T05:32:06.785Z"
   },
   {
    "duration": 244,
    "start_time": "2023-06-28T05:32:06.793Z"
   },
   {
    "duration": 6,
    "start_time": "2023-06-28T05:32:07.041Z"
   },
   {
    "duration": 239,
    "start_time": "2023-06-28T05:32:07.049Z"
   },
   {
    "duration": 5,
    "start_time": "2023-06-28T05:32:07.290Z"
   },
   {
    "duration": 201,
    "start_time": "2023-06-28T05:32:07.297Z"
   },
   {
    "duration": 301,
    "start_time": "2023-06-28T05:32:07.499Z"
   },
   {
    "duration": 6,
    "start_time": "2023-06-28T05:32:07.801Z"
   },
   {
    "duration": 205,
    "start_time": "2023-06-28T05:32:07.808Z"
   },
   {
    "duration": 5,
    "start_time": "2023-06-28T05:32:08.015Z"
   },
   {
    "duration": 28,
    "start_time": "2023-06-28T05:32:08.021Z"
   },
   {
    "duration": 32,
    "start_time": "2023-06-28T05:32:08.051Z"
   },
   {
    "duration": 42,
    "start_time": "2023-06-28T05:32:08.085Z"
   },
   {
    "duration": 7,
    "start_time": "2023-06-28T05:32:08.129Z"
   },
   {
    "duration": 10,
    "start_time": "2023-06-28T05:32:08.138Z"
   },
   {
    "duration": 66,
    "start_time": "2023-06-28T05:32:08.150Z"
   },
   {
    "duration": 351,
    "start_time": "2023-06-28T05:32:08.218Z"
   },
   {
    "duration": 31,
    "start_time": "2023-06-28T05:39:30.004Z"
   },
   {
    "duration": 46,
    "start_time": "2023-06-28T05:43:24.510Z"
   },
   {
    "duration": 35,
    "start_time": "2023-06-28T05:43:28.122Z"
   },
   {
    "duration": 37,
    "start_time": "2023-06-28T05:45:41.989Z"
   },
   {
    "duration": 15,
    "start_time": "2023-06-28T05:49:06.430Z"
   },
   {
    "duration": 68,
    "start_time": "2023-06-28T05:55:11.284Z"
   },
   {
    "duration": 81,
    "start_time": "2023-06-28T06:02:19.251Z"
   },
   {
    "duration": 531,
    "start_time": "2023-06-28T06:05:09.498Z"
   },
   {
    "duration": 43,
    "start_time": "2023-06-28T06:05:10.032Z"
   },
   {
    "duration": 18,
    "start_time": "2023-06-28T06:05:10.077Z"
   },
   {
    "duration": 2520,
    "start_time": "2023-06-28T06:05:10.097Z"
   },
   {
    "duration": 12,
    "start_time": "2023-06-28T06:05:12.620Z"
   },
   {
    "duration": 4,
    "start_time": "2023-06-28T06:05:12.634Z"
   },
   {
    "duration": 27,
    "start_time": "2023-06-28T06:05:12.640Z"
   },
   {
    "duration": 1653,
    "start_time": "2023-06-28T06:05:12.669Z"
   },
   {
    "duration": 0,
    "start_time": "2023-06-28T06:05:14.325Z"
   },
   {
    "duration": 0,
    "start_time": "2023-06-28T06:05:14.326Z"
   },
   {
    "duration": 0,
    "start_time": "2023-06-28T06:05:14.328Z"
   },
   {
    "duration": 1,
    "start_time": "2023-06-28T06:05:14.329Z"
   },
   {
    "duration": 0,
    "start_time": "2023-06-28T06:05:14.331Z"
   },
   {
    "duration": 0,
    "start_time": "2023-06-28T06:05:14.332Z"
   },
   {
    "duration": 0,
    "start_time": "2023-06-28T06:05:14.335Z"
   },
   {
    "duration": 0,
    "start_time": "2023-06-28T06:05:14.336Z"
   },
   {
    "duration": 0,
    "start_time": "2023-06-28T06:05:14.338Z"
   },
   {
    "duration": 0,
    "start_time": "2023-06-28T06:05:14.339Z"
   },
   {
    "duration": 0,
    "start_time": "2023-06-28T06:05:14.340Z"
   },
   {
    "duration": 0,
    "start_time": "2023-06-28T06:05:14.342Z"
   },
   {
    "duration": 0,
    "start_time": "2023-06-28T06:05:14.344Z"
   },
   {
    "duration": 0,
    "start_time": "2023-06-28T06:05:14.345Z"
   },
   {
    "duration": 0,
    "start_time": "2023-06-28T06:05:14.347Z"
   },
   {
    "duration": 0,
    "start_time": "2023-06-28T06:05:14.348Z"
   },
   {
    "duration": 0,
    "start_time": "2023-06-28T06:05:14.349Z"
   },
   {
    "duration": 0,
    "start_time": "2023-06-28T06:05:14.351Z"
   },
   {
    "duration": 0,
    "start_time": "2023-06-28T06:05:14.352Z"
   },
   {
    "duration": 0,
    "start_time": "2023-06-28T06:05:14.353Z"
   },
   {
    "duration": 0,
    "start_time": "2023-06-28T06:05:14.355Z"
   },
   {
    "duration": 0,
    "start_time": "2023-06-28T06:05:14.356Z"
   },
   {
    "duration": 0,
    "start_time": "2023-06-28T06:05:14.357Z"
   },
   {
    "duration": 0,
    "start_time": "2023-06-28T06:05:14.358Z"
   },
   {
    "duration": 0,
    "start_time": "2023-06-28T06:05:14.360Z"
   },
   {
    "duration": 0,
    "start_time": "2023-06-28T06:05:14.367Z"
   },
   {
    "duration": 0,
    "start_time": "2023-06-28T06:05:14.368Z"
   },
   {
    "duration": 0,
    "start_time": "2023-06-28T06:05:14.370Z"
   },
   {
    "duration": 0,
    "start_time": "2023-06-28T06:05:14.371Z"
   },
   {
    "duration": 0,
    "start_time": "2023-06-28T06:05:14.373Z"
   },
   {
    "duration": 0,
    "start_time": "2023-06-28T06:05:14.374Z"
   },
   {
    "duration": 0,
    "start_time": "2023-06-28T06:05:14.375Z"
   },
   {
    "duration": 0,
    "start_time": "2023-06-28T06:05:14.376Z"
   },
   {
    "duration": 0,
    "start_time": "2023-06-28T06:05:14.378Z"
   },
   {
    "duration": 0,
    "start_time": "2023-06-28T06:05:14.379Z"
   },
   {
    "duration": 0,
    "start_time": "2023-06-28T06:05:14.380Z"
   },
   {
    "duration": 0,
    "start_time": "2023-06-28T06:05:14.382Z"
   },
   {
    "duration": 0,
    "start_time": "2023-06-28T06:05:14.383Z"
   },
   {
    "duration": 1,
    "start_time": "2023-06-28T06:05:14.384Z"
   },
   {
    "duration": 0,
    "start_time": "2023-06-28T06:05:14.386Z"
   },
   {
    "duration": 0,
    "start_time": "2023-06-28T06:05:14.387Z"
   },
   {
    "duration": 0,
    "start_time": "2023-06-28T06:05:14.388Z"
   },
   {
    "duration": 0,
    "start_time": "2023-06-28T06:05:14.389Z"
   },
   {
    "duration": 0,
    "start_time": "2023-06-28T06:05:14.391Z"
   },
   {
    "duration": 0,
    "start_time": "2023-06-28T06:05:14.392Z"
   },
   {
    "duration": 0,
    "start_time": "2023-06-28T06:05:14.393Z"
   },
   {
    "duration": 522,
    "start_time": "2023-06-28T06:05:48.587Z"
   },
   {
    "duration": 41,
    "start_time": "2023-06-28T06:05:49.111Z"
   },
   {
    "duration": 26,
    "start_time": "2023-06-28T06:05:49.153Z"
   },
   {
    "duration": 2496,
    "start_time": "2023-06-28T06:05:49.181Z"
   },
   {
    "duration": 10,
    "start_time": "2023-06-28T06:05:51.680Z"
   },
   {
    "duration": 27,
    "start_time": "2023-06-28T06:05:51.692Z"
   },
   {
    "duration": 29,
    "start_time": "2023-06-28T06:05:51.721Z"
   },
   {
    "duration": 1132,
    "start_time": "2023-06-28T06:05:51.752Z"
   },
   {
    "duration": 0,
    "start_time": "2023-06-28T06:05:52.887Z"
   },
   {
    "duration": 0,
    "start_time": "2023-06-28T06:05:52.889Z"
   },
   {
    "duration": 0,
    "start_time": "2023-06-28T06:05:52.891Z"
   },
   {
    "duration": 0,
    "start_time": "2023-06-28T06:05:52.893Z"
   },
   {
    "duration": 0,
    "start_time": "2023-06-28T06:05:52.894Z"
   },
   {
    "duration": 0,
    "start_time": "2023-06-28T06:05:52.897Z"
   },
   {
    "duration": 0,
    "start_time": "2023-06-28T06:05:52.898Z"
   },
   {
    "duration": 0,
    "start_time": "2023-06-28T06:05:52.900Z"
   },
   {
    "duration": 0,
    "start_time": "2023-06-28T06:05:52.902Z"
   },
   {
    "duration": 0,
    "start_time": "2023-06-28T06:05:52.903Z"
   },
   {
    "duration": 0,
    "start_time": "2023-06-28T06:05:52.904Z"
   },
   {
    "duration": 0,
    "start_time": "2023-06-28T06:05:52.906Z"
   },
   {
    "duration": 0,
    "start_time": "2023-06-28T06:05:52.907Z"
   },
   {
    "duration": 0,
    "start_time": "2023-06-28T06:05:52.909Z"
   },
   {
    "duration": 0,
    "start_time": "2023-06-28T06:05:52.911Z"
   },
   {
    "duration": 0,
    "start_time": "2023-06-28T06:05:52.912Z"
   },
   {
    "duration": 0,
    "start_time": "2023-06-28T06:05:52.914Z"
   },
   {
    "duration": 0,
    "start_time": "2023-06-28T06:05:52.915Z"
   },
   {
    "duration": 0,
    "start_time": "2023-06-28T06:05:52.916Z"
   },
   {
    "duration": 0,
    "start_time": "2023-06-28T06:05:52.917Z"
   },
   {
    "duration": 0,
    "start_time": "2023-06-28T06:05:52.918Z"
   },
   {
    "duration": 0,
    "start_time": "2023-06-28T06:05:52.919Z"
   },
   {
    "duration": 0,
    "start_time": "2023-06-28T06:05:52.920Z"
   },
   {
    "duration": 0,
    "start_time": "2023-06-28T06:05:52.921Z"
   },
   {
    "duration": 0,
    "start_time": "2023-06-28T06:05:52.922Z"
   },
   {
    "duration": 0,
    "start_time": "2023-06-28T06:05:52.924Z"
   },
   {
    "duration": 0,
    "start_time": "2023-06-28T06:05:52.967Z"
   },
   {
    "duration": 0,
    "start_time": "2023-06-28T06:05:52.969Z"
   },
   {
    "duration": 0,
    "start_time": "2023-06-28T06:05:52.970Z"
   },
   {
    "duration": 0,
    "start_time": "2023-06-28T06:05:52.972Z"
   },
   {
    "duration": 0,
    "start_time": "2023-06-28T06:05:52.973Z"
   },
   {
    "duration": 0,
    "start_time": "2023-06-28T06:05:52.975Z"
   },
   {
    "duration": 0,
    "start_time": "2023-06-28T06:05:52.976Z"
   },
   {
    "duration": 0,
    "start_time": "2023-06-28T06:05:52.978Z"
   },
   {
    "duration": 0,
    "start_time": "2023-06-28T06:05:52.979Z"
   },
   {
    "duration": 0,
    "start_time": "2023-06-28T06:05:52.980Z"
   },
   {
    "duration": 0,
    "start_time": "2023-06-28T06:05:52.981Z"
   },
   {
    "duration": 0,
    "start_time": "2023-06-28T06:05:52.982Z"
   },
   {
    "duration": 0,
    "start_time": "2023-06-28T06:05:52.983Z"
   },
   {
    "duration": 0,
    "start_time": "2023-06-28T06:05:52.984Z"
   },
   {
    "duration": 0,
    "start_time": "2023-06-28T06:05:52.985Z"
   },
   {
    "duration": 0,
    "start_time": "2023-06-28T06:05:52.986Z"
   },
   {
    "duration": 0,
    "start_time": "2023-06-28T06:05:52.988Z"
   },
   {
    "duration": 0,
    "start_time": "2023-06-28T06:05:52.989Z"
   },
   {
    "duration": 0,
    "start_time": "2023-06-28T06:05:52.991Z"
   },
   {
    "duration": 0,
    "start_time": "2023-06-28T06:05:52.992Z"
   },
   {
    "duration": 208,
    "start_time": "2023-06-28T06:08:32.470Z"
   },
   {
    "duration": 75,
    "start_time": "2023-06-28T06:09:16.163Z"
   },
   {
    "duration": 22,
    "start_time": "2023-06-28T06:16:23.610Z"
   },
   {
    "duration": 573,
    "start_time": "2023-06-28T06:17:19.389Z"
   },
   {
    "duration": 43,
    "start_time": "2023-06-28T06:17:19.964Z"
   },
   {
    "duration": 18,
    "start_time": "2023-06-28T06:17:20.009Z"
   },
   {
    "duration": 2636,
    "start_time": "2023-06-28T06:17:20.029Z"
   },
   {
    "duration": 12,
    "start_time": "2023-06-28T06:17:22.668Z"
   },
   {
    "duration": 173,
    "start_time": "2023-06-28T06:17:22.682Z"
   },
   {
    "duration": 60,
    "start_time": "2023-06-28T06:17:22.857Z"
   },
   {
    "duration": 1163,
    "start_time": "2023-06-28T06:17:22.920Z"
   },
   {
    "duration": 0,
    "start_time": "2023-06-28T06:17:24.086Z"
   },
   {
    "duration": 0,
    "start_time": "2023-06-28T06:17:24.088Z"
   },
   {
    "duration": 0,
    "start_time": "2023-06-28T06:17:24.090Z"
   },
   {
    "duration": 0,
    "start_time": "2023-06-28T06:17:24.092Z"
   },
   {
    "duration": 0,
    "start_time": "2023-06-28T06:17:24.093Z"
   },
   {
    "duration": 0,
    "start_time": "2023-06-28T06:17:24.094Z"
   },
   {
    "duration": 0,
    "start_time": "2023-06-28T06:17:24.095Z"
   },
   {
    "duration": 0,
    "start_time": "2023-06-28T06:17:24.097Z"
   },
   {
    "duration": 0,
    "start_time": "2023-06-28T06:17:24.098Z"
   },
   {
    "duration": 0,
    "start_time": "2023-06-28T06:17:24.100Z"
   },
   {
    "duration": 0,
    "start_time": "2023-06-28T06:17:24.102Z"
   },
   {
    "duration": 0,
    "start_time": "2023-06-28T06:17:24.103Z"
   },
   {
    "duration": 0,
    "start_time": "2023-06-28T06:17:24.105Z"
   },
   {
    "duration": 0,
    "start_time": "2023-06-28T06:17:24.106Z"
   },
   {
    "duration": 0,
    "start_time": "2023-06-28T06:17:24.107Z"
   },
   {
    "duration": 0,
    "start_time": "2023-06-28T06:17:24.109Z"
   },
   {
    "duration": 0,
    "start_time": "2023-06-28T06:17:24.110Z"
   },
   {
    "duration": 0,
    "start_time": "2023-06-28T06:17:24.112Z"
   },
   {
    "duration": 0,
    "start_time": "2023-06-28T06:17:24.113Z"
   },
   {
    "duration": 0,
    "start_time": "2023-06-28T06:17:24.114Z"
   },
   {
    "duration": 0,
    "start_time": "2023-06-28T06:17:24.115Z"
   },
   {
    "duration": 0,
    "start_time": "2023-06-28T06:17:24.116Z"
   },
   {
    "duration": 0,
    "start_time": "2023-06-28T06:17:24.118Z"
   },
   {
    "duration": 0,
    "start_time": "2023-06-28T06:17:24.120Z"
   },
   {
    "duration": 0,
    "start_time": "2023-06-28T06:17:24.121Z"
   },
   {
    "duration": 0,
    "start_time": "2023-06-28T06:17:24.122Z"
   },
   {
    "duration": 0,
    "start_time": "2023-06-28T06:17:24.124Z"
   },
   {
    "duration": 0,
    "start_time": "2023-06-28T06:17:24.167Z"
   },
   {
    "duration": 0,
    "start_time": "2023-06-28T06:17:24.170Z"
   },
   {
    "duration": 0,
    "start_time": "2023-06-28T06:17:24.172Z"
   },
   {
    "duration": 1,
    "start_time": "2023-06-28T06:17:24.173Z"
   },
   {
    "duration": 0,
    "start_time": "2023-06-28T06:17:24.175Z"
   },
   {
    "duration": 0,
    "start_time": "2023-06-28T06:17:24.176Z"
   },
   {
    "duration": 0,
    "start_time": "2023-06-28T06:17:24.178Z"
   },
   {
    "duration": 0,
    "start_time": "2023-06-28T06:17:24.179Z"
   },
   {
    "duration": 0,
    "start_time": "2023-06-28T06:17:24.181Z"
   },
   {
    "duration": 0,
    "start_time": "2023-06-28T06:17:24.185Z"
   },
   {
    "duration": 0,
    "start_time": "2023-06-28T06:17:24.187Z"
   },
   {
    "duration": 0,
    "start_time": "2023-06-28T06:17:24.188Z"
   },
   {
    "duration": 1,
    "start_time": "2023-06-28T06:17:24.189Z"
   },
   {
    "duration": 0,
    "start_time": "2023-06-28T06:17:24.190Z"
   },
   {
    "duration": 0,
    "start_time": "2023-06-28T06:17:24.191Z"
   },
   {
    "duration": 0,
    "start_time": "2023-06-28T06:17:24.193Z"
   },
   {
    "duration": 0,
    "start_time": "2023-06-28T06:17:24.194Z"
   },
   {
    "duration": 0,
    "start_time": "2023-06-28T06:17:24.195Z"
   },
   {
    "duration": 0,
    "start_time": "2023-06-28T06:17:24.197Z"
   },
   {
    "duration": 18,
    "start_time": "2023-06-28T06:19:19.293Z"
   },
   {
    "duration": 15,
    "start_time": "2023-06-28T06:19:34.653Z"
   },
   {
    "duration": 414,
    "start_time": "2023-06-28T06:19:55.048Z"
   },
   {
    "duration": 4,
    "start_time": "2023-06-28T06:19:56.731Z"
   },
   {
    "duration": 41,
    "start_time": "2023-06-28T06:19:57.330Z"
   },
   {
    "duration": 278,
    "start_time": "2023-06-28T06:20:01.415Z"
   },
   {
    "duration": 211,
    "start_time": "2023-06-28T06:20:02.285Z"
   },
   {
    "duration": 173,
    "start_time": "2023-06-28T06:20:02.766Z"
   },
   {
    "duration": 183,
    "start_time": "2023-06-28T06:20:03.336Z"
   },
   {
    "duration": 148,
    "start_time": "2023-06-28T06:20:06.628Z"
   },
   {
    "duration": 191,
    "start_time": "2023-06-28T06:20:07.329Z"
   },
   {
    "duration": 163,
    "start_time": "2023-06-28T06:20:08.016Z"
   },
   {
    "duration": 127,
    "start_time": "2023-06-28T06:20:08.700Z"
   },
   {
    "duration": 180,
    "start_time": "2023-06-28T06:20:09.418Z"
   },
   {
    "duration": 161,
    "start_time": "2023-06-28T06:20:10.171Z"
   },
   {
    "duration": 158,
    "start_time": "2023-06-28T06:20:10.900Z"
   },
   {
    "duration": 247,
    "start_time": "2023-06-28T06:20:11.889Z"
   },
   {
    "duration": 167,
    "start_time": "2023-06-28T06:20:12.689Z"
   },
   {
    "duration": 156,
    "start_time": "2023-06-28T06:20:13.478Z"
   },
   {
    "duration": 158,
    "start_time": "2023-06-28T06:20:20.686Z"
   },
   {
    "duration": 182,
    "start_time": "2023-06-28T06:20:32.576Z"
   },
   {
    "duration": 12,
    "start_time": "2023-06-28T06:20:33.452Z"
   },
   {
    "duration": 117,
    "start_time": "2023-06-28T06:20:34.477Z"
   },
   {
    "duration": 198,
    "start_time": "2023-06-28T06:20:42.458Z"
   },
   {
    "duration": 7,
    "start_time": "2023-06-28T06:20:43.334Z"
   },
   {
    "duration": 194,
    "start_time": "2023-06-28T06:20:47.439Z"
   },
   {
    "duration": 201,
    "start_time": "2023-06-28T06:20:49.479Z"
   },
   {
    "duration": 6,
    "start_time": "2023-06-28T06:20:50.406Z"
   },
   {
    "duration": 206,
    "start_time": "2023-06-28T06:20:52.545Z"
   },
   {
    "duration": 7,
    "start_time": "2023-06-28T06:20:53.395Z"
   },
   {
    "duration": 226,
    "start_time": "2023-06-28T06:20:55.633Z"
   },
   {
    "duration": 6,
    "start_time": "2023-06-28T06:20:56.649Z"
   },
   {
    "duration": 186,
    "start_time": "2023-06-28T06:20:57.471Z"
   },
   {
    "duration": 327,
    "start_time": "2023-06-28T06:20:59.185Z"
   },
   {
    "duration": 8,
    "start_time": "2023-06-28T06:21:00.357Z"
   },
   {
    "duration": 218,
    "start_time": "2023-06-28T06:21:02.349Z"
   },
   {
    "duration": 19,
    "start_time": "2023-06-28T06:21:49.566Z"
   },
   {
    "duration": 21,
    "start_time": "2023-06-28T06:22:13.984Z"
   },
   {
    "duration": 69,
    "start_time": "2023-06-28T06:23:40.644Z"
   },
   {
    "duration": 16,
    "start_time": "2023-06-28T06:23:47.104Z"
   },
   {
    "duration": 1017,
    "start_time": "2023-06-28T06:25:22.874Z"
   },
   {
    "duration": 10,
    "start_time": "2023-06-28T06:25:52.897Z"
   },
   {
    "duration": 18,
    "start_time": "2023-06-28T06:26:03.564Z"
   },
   {
    "duration": 24,
    "start_time": "2023-06-28T06:26:23.565Z"
   },
   {
    "duration": 25,
    "start_time": "2023-06-28T06:27:13.604Z"
   },
   {
    "duration": 219,
    "start_time": "2023-06-28T06:27:36.085Z"
   },
   {
    "duration": 212,
    "start_time": "2023-06-28T06:28:10.583Z"
   },
   {
    "duration": 253,
    "start_time": "2023-06-28T06:30:18.730Z"
   },
   {
    "duration": 195,
    "start_time": "2023-06-28T06:32:13.396Z"
   },
   {
    "duration": 9,
    "start_time": "2023-06-28T06:37:07.265Z"
   },
   {
    "duration": 40,
    "start_time": "2023-06-28T06:37:10.945Z"
   },
   {
    "duration": 5,
    "start_time": "2023-06-28T06:37:19.270Z"
   },
   {
    "duration": 4,
    "start_time": "2023-06-28T06:37:21.373Z"
   },
   {
    "duration": 234,
    "start_time": "2023-06-28T06:39:32.961Z"
   },
   {
    "duration": 102,
    "start_time": "2023-06-28T06:44:51.795Z"
   },
   {
    "duration": 149,
    "start_time": "2023-06-28T06:47:53.626Z"
   },
   {
    "duration": 543,
    "start_time": "2023-06-28T06:51:50.564Z"
   },
   {
    "duration": 44,
    "start_time": "2023-06-28T06:51:51.109Z"
   },
   {
    "duration": 27,
    "start_time": "2023-06-28T06:51:51.155Z"
   },
   {
    "duration": 2520,
    "start_time": "2023-06-28T06:51:51.185Z"
   },
   {
    "duration": 12,
    "start_time": "2023-06-28T06:51:53.708Z"
   },
   {
    "duration": 4,
    "start_time": "2023-06-28T06:51:53.722Z"
   },
   {
    "duration": 21,
    "start_time": "2023-06-28T06:51:53.728Z"
   },
   {
    "duration": 1172,
    "start_time": "2023-06-28T06:51:53.750Z"
   },
   {
    "duration": 0,
    "start_time": "2023-06-28T06:51:54.926Z"
   },
   {
    "duration": 0,
    "start_time": "2023-06-28T06:51:54.928Z"
   },
   {
    "duration": 0,
    "start_time": "2023-06-28T06:51:54.929Z"
   },
   {
    "duration": 0,
    "start_time": "2023-06-28T06:51:54.930Z"
   },
   {
    "duration": 0,
    "start_time": "2023-06-28T06:51:54.931Z"
   },
   {
    "duration": 0,
    "start_time": "2023-06-28T06:51:54.933Z"
   },
   {
    "duration": 0,
    "start_time": "2023-06-28T06:51:54.934Z"
   },
   {
    "duration": 0,
    "start_time": "2023-06-28T06:51:54.935Z"
   },
   {
    "duration": 0,
    "start_time": "2023-06-28T06:51:54.936Z"
   },
   {
    "duration": 0,
    "start_time": "2023-06-28T06:51:54.937Z"
   },
   {
    "duration": 0,
    "start_time": "2023-06-28T06:51:54.938Z"
   },
   {
    "duration": 0,
    "start_time": "2023-06-28T06:51:54.939Z"
   },
   {
    "duration": 0,
    "start_time": "2023-06-28T06:51:54.941Z"
   },
   {
    "duration": 0,
    "start_time": "2023-06-28T06:51:54.942Z"
   },
   {
    "duration": 0,
    "start_time": "2023-06-28T06:51:54.943Z"
   },
   {
    "duration": 0,
    "start_time": "2023-06-28T06:51:54.944Z"
   },
   {
    "duration": 0,
    "start_time": "2023-06-28T06:51:54.945Z"
   },
   {
    "duration": 0,
    "start_time": "2023-06-28T06:51:54.946Z"
   },
   {
    "duration": 0,
    "start_time": "2023-06-28T06:51:54.948Z"
   },
   {
    "duration": 0,
    "start_time": "2023-06-28T06:51:54.949Z"
   },
   {
    "duration": 0,
    "start_time": "2023-06-28T06:51:54.949Z"
   },
   {
    "duration": 0,
    "start_time": "2023-06-28T06:51:54.950Z"
   },
   {
    "duration": 0,
    "start_time": "2023-06-28T06:51:54.952Z"
   },
   {
    "duration": 0,
    "start_time": "2023-06-28T06:51:54.953Z"
   },
   {
    "duration": 0,
    "start_time": "2023-06-28T06:51:54.954Z"
   },
   {
    "duration": 0,
    "start_time": "2023-06-28T06:51:54.955Z"
   },
   {
    "duration": 0,
    "start_time": "2023-06-28T06:51:54.956Z"
   },
   {
    "duration": 0,
    "start_time": "2023-06-28T06:51:54.957Z"
   },
   {
    "duration": 0,
    "start_time": "2023-06-28T06:51:54.958Z"
   },
   {
    "duration": 0,
    "start_time": "2023-06-28T06:51:54.959Z"
   },
   {
    "duration": 0,
    "start_time": "2023-06-28T06:51:54.961Z"
   },
   {
    "duration": 0,
    "start_time": "2023-06-28T06:51:54.961Z"
   },
   {
    "duration": 0,
    "start_time": "2023-06-28T06:51:54.967Z"
   },
   {
    "duration": 0,
    "start_time": "2023-06-28T06:51:54.968Z"
   },
   {
    "duration": 0,
    "start_time": "2023-06-28T06:51:54.969Z"
   },
   {
    "duration": 0,
    "start_time": "2023-06-28T06:51:54.970Z"
   },
   {
    "duration": 0,
    "start_time": "2023-06-28T06:51:54.971Z"
   },
   {
    "duration": 0,
    "start_time": "2023-06-28T06:51:54.972Z"
   },
   {
    "duration": 0,
    "start_time": "2023-06-28T06:51:54.973Z"
   },
   {
    "duration": 1,
    "start_time": "2023-06-28T06:51:54.973Z"
   },
   {
    "duration": 0,
    "start_time": "2023-06-28T06:51:54.975Z"
   },
   {
    "duration": 0,
    "start_time": "2023-06-28T06:51:54.975Z"
   },
   {
    "duration": 0,
    "start_time": "2023-06-28T06:51:54.977Z"
   },
   {
    "duration": 0,
    "start_time": "2023-06-28T06:51:54.978Z"
   },
   {
    "duration": 0,
    "start_time": "2023-06-28T06:51:54.979Z"
   },
   {
    "duration": 0,
    "start_time": "2023-06-28T06:51:54.980Z"
   },
   {
    "duration": 35,
    "start_time": "2023-06-28T06:53:10.302Z"
   },
   {
    "duration": 8,
    "start_time": "2023-06-28T06:53:32.752Z"
   },
   {
    "duration": 21,
    "start_time": "2023-06-28T06:53:34.099Z"
   },
   {
    "duration": 96,
    "start_time": "2023-06-28T06:53:38.915Z"
   },
   {
    "duration": 55,
    "start_time": "2023-06-28T06:53:42.913Z"
   },
   {
    "duration": 502,
    "start_time": "2023-06-28T06:53:51.474Z"
   },
   {
    "duration": 4,
    "start_time": "2023-06-28T06:53:52.982Z"
   },
   {
    "duration": 33,
    "start_time": "2023-06-28T06:53:53.930Z"
   },
   {
    "duration": 209,
    "start_time": "2023-06-28T06:54:00.542Z"
   },
   {
    "duration": 215,
    "start_time": "2023-06-28T06:54:01.567Z"
   },
   {
    "duration": 180,
    "start_time": "2023-06-28T06:54:02.646Z"
   },
   {
    "duration": 165,
    "start_time": "2023-06-28T06:54:03.578Z"
   },
   {
    "duration": 192,
    "start_time": "2023-06-28T06:54:09.761Z"
   },
   {
    "duration": 187,
    "start_time": "2023-06-28T06:54:10.616Z"
   },
   {
    "duration": 239,
    "start_time": "2023-06-28T06:54:11.410Z"
   },
   {
    "duration": 147,
    "start_time": "2023-06-28T06:54:12.196Z"
   },
   {
    "duration": 185,
    "start_time": "2023-06-28T06:54:13.009Z"
   },
   {
    "duration": 170,
    "start_time": "2023-06-28T06:54:13.802Z"
   },
   {
    "duration": 259,
    "start_time": "2023-06-28T06:54:15.452Z"
   },
   {
    "duration": 142,
    "start_time": "2023-06-28T06:54:16.462Z"
   },
   {
    "duration": 170,
    "start_time": "2023-06-28T06:54:17.216Z"
   },
   {
    "duration": 138,
    "start_time": "2023-06-28T06:54:18.034Z"
   },
   {
    "duration": 167,
    "start_time": "2023-06-28T06:54:18.879Z"
   },
   {
    "duration": 200,
    "start_time": "2023-06-28T06:54:32.737Z"
   },
   {
    "duration": 11,
    "start_time": "2023-06-28T06:54:33.734Z"
   },
   {
    "duration": 175,
    "start_time": "2023-06-28T06:54:34.670Z"
   },
   {
    "duration": 149,
    "start_time": "2023-06-28T06:54:35.547Z"
   },
   {
    "duration": 158,
    "start_time": "2023-06-28T06:55:15.102Z"
   },
   {
    "duration": 221,
    "start_time": "2023-06-28T06:55:22.583Z"
   },
   {
    "duration": 8,
    "start_time": "2023-06-28T06:55:23.903Z"
   },
   {
    "duration": 210,
    "start_time": "2023-06-28T06:55:25.284Z"
   },
   {
    "duration": 269,
    "start_time": "2023-06-28T06:55:27.010Z"
   },
   {
    "duration": 6,
    "start_time": "2023-06-28T06:55:27.796Z"
   },
   {
    "duration": 230,
    "start_time": "2023-06-28T06:55:29.892Z"
   },
   {
    "duration": 9,
    "start_time": "2023-06-28T06:55:30.915Z"
   },
   {
    "duration": 246,
    "start_time": "2023-06-28T06:55:32.832Z"
   },
   {
    "duration": 7,
    "start_time": "2023-06-28T06:55:38.714Z"
   },
   {
    "duration": 176,
    "start_time": "2023-06-28T06:55:39.719Z"
   },
   {
    "duration": 180,
    "start_time": "2023-06-28T06:55:41.974Z"
   },
   {
    "duration": 230,
    "start_time": "2023-06-28T06:55:44.989Z"
   },
   {
    "duration": 25,
    "start_time": "2023-06-28T06:55:54.378Z"
   },
   {
    "duration": 12,
    "start_time": "2023-06-28T06:55:57.967Z"
   },
   {
    "duration": 43,
    "start_time": "2023-06-28T06:55:58.695Z"
   },
   {
    "duration": 6,
    "start_time": "2023-06-28T06:55:59.944Z"
   },
   {
    "duration": 6,
    "start_time": "2023-06-28T06:56:00.672Z"
   },
   {
    "duration": 259,
    "start_time": "2023-06-28T06:56:01.644Z"
   },
   {
    "duration": 214,
    "start_time": "2023-06-28T06:56:25.702Z"
   },
   {
    "duration": 29,
    "start_time": "2023-06-28T06:56:44.278Z"
   },
   {
    "duration": 354,
    "start_time": "2023-06-28T06:56:45.104Z"
   },
   {
    "duration": 913,
    "start_time": "2023-06-28T12:26:52.120Z"
   },
   {
    "duration": 117,
    "start_time": "2023-06-28T12:26:53.035Z"
   },
   {
    "duration": 32,
    "start_time": "2023-06-28T12:26:53.157Z"
   },
   {
    "duration": 5451,
    "start_time": "2023-06-28T12:26:53.194Z"
   },
   {
    "duration": 29,
    "start_time": "2023-06-28T12:26:58.652Z"
   },
   {
    "duration": 31,
    "start_time": "2023-06-28T12:26:58.682Z"
   },
   {
    "duration": 65,
    "start_time": "2023-06-28T12:26:58.719Z"
   },
   {
    "duration": 93,
    "start_time": "2023-06-28T12:26:58.786Z"
   },
   {
    "duration": 9,
    "start_time": "2023-06-28T12:26:58.881Z"
   },
   {
    "duration": 62,
    "start_time": "2023-06-28T12:26:58.891Z"
   },
   {
    "duration": 119,
    "start_time": "2023-06-28T12:26:58.959Z"
   },
   {
    "duration": 74,
    "start_time": "2023-06-28T12:26:59.080Z"
   },
   {
    "duration": 1190,
    "start_time": "2023-06-28T12:26:59.155Z"
   },
   {
    "duration": 17,
    "start_time": "2023-06-28T12:27:00.364Z"
   },
   {
    "duration": 108,
    "start_time": "2023-06-28T12:27:00.384Z"
   },
   {
    "duration": 403,
    "start_time": "2023-06-28T12:27:00.493Z"
   },
   {
    "duration": 239,
    "start_time": "2023-06-28T12:27:00.897Z"
   },
   {
    "duration": 546,
    "start_time": "2023-06-28T12:27:01.138Z"
   },
   {
    "duration": 198,
    "start_time": "2023-06-28T12:27:01.685Z"
   },
   {
    "duration": 619,
    "start_time": "2023-06-28T12:27:01.886Z"
   },
   {
    "duration": 429,
    "start_time": "2023-06-28T12:27:02.507Z"
   },
   {
    "duration": 363,
    "start_time": "2023-06-28T12:27:02.938Z"
   },
   {
    "duration": 304,
    "start_time": "2023-06-28T12:27:03.313Z"
   },
   {
    "duration": 310,
    "start_time": "2023-06-28T12:27:03.626Z"
   },
   {
    "duration": 320,
    "start_time": "2023-06-28T12:27:03.938Z"
   },
   {
    "duration": 322,
    "start_time": "2023-06-28T12:27:04.264Z"
   },
   {
    "duration": 355,
    "start_time": "2023-06-28T12:27:04.587Z"
   },
   {
    "duration": 295,
    "start_time": "2023-06-28T12:27:04.944Z"
   },
   {
    "duration": 322,
    "start_time": "2023-06-28T12:27:05.243Z"
   },
   {
    "duration": 332,
    "start_time": "2023-06-28T12:27:05.577Z"
   },
   {
    "duration": 283,
    "start_time": "2023-06-28T12:27:05.923Z"
   },
   {
    "duration": 23,
    "start_time": "2023-06-28T12:27:06.210Z"
   },
   {
    "duration": 475,
    "start_time": "2023-06-28T12:27:06.237Z"
   },
   {
    "duration": 436,
    "start_time": "2023-06-28T12:27:06.728Z"
   },
   {
    "duration": 405,
    "start_time": "2023-06-28T12:27:07.168Z"
   },
   {
    "duration": 9,
    "start_time": "2023-06-28T12:27:07.582Z"
   },
   {
    "duration": 410,
    "start_time": "2023-06-28T12:27:07.592Z"
   },
   {
    "duration": 344,
    "start_time": "2023-06-28T12:27:08.019Z"
   },
   {
    "duration": 14,
    "start_time": "2023-06-28T12:27:08.364Z"
   },
   {
    "duration": 346,
    "start_time": "2023-06-28T12:27:08.413Z"
   },
   {
    "duration": 8,
    "start_time": "2023-06-28T12:27:08.768Z"
   },
   {
    "duration": 403,
    "start_time": "2023-06-28T12:27:08.807Z"
   },
   {
    "duration": 7,
    "start_time": "2023-06-28T12:27:09.212Z"
   },
   {
    "duration": 603,
    "start_time": "2023-06-28T12:27:09.220Z"
   },
   {
    "duration": 278,
    "start_time": "2023-06-28T12:27:09.825Z"
   },
   {
    "duration": 567,
    "start_time": "2023-06-28T12:27:10.108Z"
   },
   {
    "duration": 92,
    "start_time": "2023-06-28T12:27:10.677Z"
   },
   {
    "duration": 10,
    "start_time": "2023-06-28T12:27:10.770Z"
   },
   {
    "duration": 128,
    "start_time": "2023-06-28T12:27:10.781Z"
   },
   {
    "duration": 76,
    "start_time": "2023-06-28T12:27:10.919Z"
   },
   {
    "duration": 84,
    "start_time": "2023-06-28T12:27:10.998Z"
   },
   {
    "duration": 691,
    "start_time": "2023-06-28T12:27:11.084Z"
   },
   {
    "duration": 73,
    "start_time": "2023-06-28T12:27:11.789Z"
   },
   {
    "duration": 654,
    "start_time": "2023-06-28T12:27:11.868Z"
   },
   {
    "duration": 14,
    "start_time": "2023-06-28T12:42:35.158Z"
   },
   {
    "duration": 112,
    "start_time": "2023-06-28T12:42:38.941Z"
   },
   {
    "duration": 190,
    "start_time": "2023-06-28T12:43:21.055Z"
   }
  ],
  "kernelspec": {
   "display_name": "Python 3 (ipykernel)",
   "language": "python",
   "name": "python3"
  },
  "language_info": {
   "codemirror_mode": {
    "name": "ipython",
    "version": 3
   },
   "file_extension": ".py",
   "mimetype": "text/x-python",
   "name": "python",
   "nbconvert_exporter": "python",
   "pygments_lexer": "ipython3",
   "version": "3.10.9"
  },
  "toc": {
   "base_numbering": 1,
   "nav_menu": {},
   "number_sections": true,
   "sideBar": true,
   "skip_h1_title": true,
   "title_cell": "Table of Contents",
   "title_sidebar": "Contents",
   "toc_cell": false,
   "toc_position": {},
   "toc_section_display": true,
   "toc_window_display": false
  }
 },
 "nbformat": 4,
 "nbformat_minor": 2
}
