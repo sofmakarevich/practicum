{
 "cells": [
  {
   "cell_type": "markdown",
   "metadata": {},
   "source": [
    "Для исследования нами получены данные опубликованные на портале открытых данных Министерства культуры Российской Федерации - это архив кинофильмов вышедших в прокат с 2010 по 2019гг. Данные содержат информацию о прокатных удостоверениях, сборах и государственной поддержке фильмов, а так же информацию о рейтингах с КиноПоиск. \n",
    "\n",
    "Цель исследования\n",
    "1. Изучить рынок российского кинопроката и выявить текущие тренды.\n",
    "2. Изучить фильмы получившие господдержку - выяснить насколько такие фильмы интересны зрителю, выявить другие тренд.\n",
    "\n",
    "Задачи исследования:\n",
    "1. Установить сколько фильмов получало прокатное удостоверение каждый год. Вычислить, какая доля из них выходила в прокат.\n",
    "2. Вычислить в каком году была минимальная и максимальная сумма сборов.\n",
    "3. Вычислить среднюю и медианную сумму сборов для каждого года.\n",
    "4. Определить как возрастные ограничения влияют на сборы денег в прокате.\n",
    "5. Вычислить сколько было выделено денег на поддержку кино.\n",
    "6. Понять, окупаются ли фильмы отечественного производства.\n",
    "7. Вычислить средний рейтинг для фильмов с господдержкой.\n",
    "8. Определить названия конкретных картин выпуск которых можно считать удачным (высокий рейтинг, окупаемость)."
   ]
  },
  {
   "cell_type": "markdown",
   "metadata": {
    "id": "sIfNaMOxgFyK"
   },
   "source": [
    "## Исследование данных о российском кинопрокате\n",
    "\n"
   ]
  },
  {
   "cell_type": "markdown",
   "metadata": {
    "id": "3bSlkCsbgFyL"
   },
   "source": [
    "### Шаг 1. Открытие файла с данными и объединение их в один датафрейм. \n"
   ]
  },
  {
   "cell_type": "markdown",
   "metadata": {},
   "source": [
    "В нашем доступе 2 таблицы. Импортируем необходимые для проекта библиотеки pandas и pyplot. Прочитаем таблицы"
   ]
  },
  {
   "cell_type": "code",
   "execution_count": 1,
   "metadata": {
    "id": "dw87FlzMgFyM"
   },
   "outputs": [
    {
     "name": "stdout",
     "output_type": "stream",
     "text": [
      "<class 'pandas.core.frame.DataFrame'>\n",
      "RangeIndex: 7486 entries, 0 to 7485\n",
      "Data columns (total 15 columns):\n",
      " #   Column                 Non-Null Count  Dtype  \n",
      "---  ------                 --------------  -----  \n",
      " 0   title                  7486 non-null   object \n",
      " 1   puNumber               7486 non-null   object \n",
      " 2   show_start_date        7486 non-null   object \n",
      " 3   type                   7486 non-null   object \n",
      " 4   film_studio            7468 non-null   object \n",
      " 5   production_country     7484 non-null   object \n",
      " 6   director               7477 non-null   object \n",
      " 7   producer               6918 non-null   object \n",
      " 8   age_restriction        7486 non-null   object \n",
      " 9   refundable_support     332 non-null    float64\n",
      " 10  nonrefundable_support  332 non-null    float64\n",
      " 11  budget                 332 non-null    float64\n",
      " 12  financing_source       332 non-null    object \n",
      " 13  ratings                6519 non-null   object \n",
      " 14  genres                 6510 non-null   object \n",
      "dtypes: float64(3), object(12)\n",
      "memory usage: 877.4+ KB\n"
     ]
    }
   ],
   "source": [
    "#импортируем библиотеку pandas\n",
    "import pandas as pd\n",
    "#импортируем библиотеку pyplot\n",
    "import matplotlib.pyplot as plt\n",
    "#добавим команду, которая позволит выводить таблицы со всеми ее столбцами\n",
    "pd.set_option('display.max_columns', None)\n",
    "#добавим команду, которая позволит не подрезать нли в таблицах\n",
    "pd.options.display.float_format = '{:.5f}'.format\n",
    "#читаем файл mkrf_movies\n",
    "mkrf_movies = pd.read_csv('/datasets/mkrf_movies.csv')\n",
    "#читаем файл mkrf_shows\n",
    "mkrf_shows = pd.read_csv('/datasets/mkrf_shows.csv')\n",
    "#посмотрим общее инфо о таблице mkrf_movies\n",
    "mkrf_movies.info()"
   ]
  },
  {
   "cell_type": "code",
   "execution_count": 2,
   "metadata": {},
   "outputs": [
    {
     "name": "stdout",
     "output_type": "stream",
     "text": [
      "<class 'pandas.core.frame.DataFrame'>\n",
      "RangeIndex: 3158 entries, 0 to 3157\n",
      "Data columns (total 2 columns):\n",
      " #   Column      Non-Null Count  Dtype  \n",
      "---  ------      --------------  -----  \n",
      " 0   puNumber    3158 non-null   int64  \n",
      " 1   box_office  3158 non-null   float64\n",
      "dtypes: float64(1), int64(1)\n",
      "memory usage: 49.5 KB\n"
     ]
    }
   ],
   "source": [
    "#посмотрим общее инфо о таблице mkrf_shows\n",
    "mkrf_shows.info()"
   ]
  },
  {
   "cell_type": "code",
   "execution_count": 3,
   "metadata": {},
   "outputs": [
    {
     "name": "stdout",
     "output_type": "stream",
     "text": [
      "<class 'pandas.core.frame.DataFrame'>\n",
      "RangeIndex: 7486 entries, 0 to 7485\n",
      "Data columns (total 15 columns):\n",
      " #   Column                 Non-Null Count  Dtype  \n",
      "---  ------                 --------------  -----  \n",
      " 0   title                  7486 non-null   object \n",
      " 1   puNumber               7485 non-null   float64\n",
      " 2   show_start_date        7486 non-null   object \n",
      " 3   type                   7486 non-null   object \n",
      " 4   film_studio            7468 non-null   object \n",
      " 5   production_country     7484 non-null   object \n",
      " 6   director               7477 non-null   object \n",
      " 7   producer               6918 non-null   object \n",
      " 8   age_restriction        7486 non-null   object \n",
      " 9   refundable_support     332 non-null    float64\n",
      " 10  nonrefundable_support  332 non-null    float64\n",
      " 11  budget                 332 non-null    float64\n",
      " 12  financing_source       332 non-null    object \n",
      " 13  ratings                6519 non-null   object \n",
      " 14  genres                 6510 non-null   object \n",
      "dtypes: float64(4), object(11)\n",
      "memory usage: 877.4+ KB\n"
     ]
    }
   ],
   "source": [
    "#мы будем объединять таблицы по столбцу puNumber. для объединения столбец в обеих ячейках должен иметь один тип. приведем puNumber в таблице mkrf_movies к типу int64\n",
    "mkrf_movies['puNumber'] = pd.to_numeric(mkrf_movies['puNumber'], errors = 'coerce')\n",
    "#проверим\n",
    "mkrf_movies.info()"
   ]
  },
  {
   "cell_type": "code",
   "execution_count": 4,
   "metadata": {},
   "outputs": [
    {
     "data": {
      "text/html": [
       "<div>\n",
       "<style scoped>\n",
       "    .dataframe tbody tr th:only-of-type {\n",
       "        vertical-align: middle;\n",
       "    }\n",
       "\n",
       "    .dataframe tbody tr th {\n",
       "        vertical-align: top;\n",
       "    }\n",
       "\n",
       "    .dataframe thead th {\n",
       "        text-align: right;\n",
       "    }\n",
       "</style>\n",
       "<table border=\"1\" class=\"dataframe\">\n",
       "  <thead>\n",
       "    <tr style=\"text-align: right;\">\n",
       "      <th></th>\n",
       "      <th>title</th>\n",
       "      <th>puNumber</th>\n",
       "      <th>show_start_date</th>\n",
       "      <th>type</th>\n",
       "      <th>film_studio</th>\n",
       "      <th>production_country</th>\n",
       "      <th>director</th>\n",
       "      <th>producer</th>\n",
       "      <th>age_restriction</th>\n",
       "      <th>refundable_support</th>\n",
       "      <th>nonrefundable_support</th>\n",
       "      <th>budget</th>\n",
       "      <th>financing_source</th>\n",
       "      <th>ratings</th>\n",
       "      <th>genres</th>\n",
       "      <th>box_office</th>\n",
       "    </tr>\n",
       "  </thead>\n",
       "  <tbody>\n",
       "    <tr>\n",
       "      <th>0</th>\n",
       "      <td>Открытый простор</td>\n",
       "      <td>221048915.00000</td>\n",
       "      <td>2015-11-27T12:00:00.000Z</td>\n",
       "      <td>Художественный</td>\n",
       "      <td>Тачстоун Пикчерз, Кобальт Пикчерз, Бикон Пикче...</td>\n",
       "      <td>США</td>\n",
       "      <td>Кевин Костнер</td>\n",
       "      <td>Дэвид Валдес, Кевин Костнер, Джейк Эбертс</td>\n",
       "      <td>«18+» - запрещено для детей</td>\n",
       "      <td>NaN</td>\n",
       "      <td>NaN</td>\n",
       "      <td>NaN</td>\n",
       "      <td>NaN</td>\n",
       "      <td>7.2</td>\n",
       "      <td>боевик,драма,мелодрама</td>\n",
       "      <td>NaN</td>\n",
       "    </tr>\n",
       "    <tr>\n",
       "      <th>1</th>\n",
       "      <td>Особо важное задание</td>\n",
       "      <td>111013716.00000</td>\n",
       "      <td>2016-09-13T12:00:00.000Z</td>\n",
       "      <td>Художественный</td>\n",
       "      <td>Киностудия \"Мосфильм\"</td>\n",
       "      <td>СССР</td>\n",
       "      <td>Е.Матвеев</td>\n",
       "      <td>NaN</td>\n",
       "      <td>«6+» - для детей старше 6 лет</td>\n",
       "      <td>NaN</td>\n",
       "      <td>NaN</td>\n",
       "      <td>NaN</td>\n",
       "      <td>NaN</td>\n",
       "      <td>6.6</td>\n",
       "      <td>драма,военный</td>\n",
       "      <td>NaN</td>\n",
       "    </tr>\n",
       "    <tr>\n",
       "      <th>2</th>\n",
       "      <td>Особо опасен</td>\n",
       "      <td>221038416.00000</td>\n",
       "      <td>2016-10-10T12:00:00.000Z</td>\n",
       "      <td>Художественный</td>\n",
       "      <td>Юниверсал Пикчерз, Кикстарт Продакшнз, Марк Пл...</td>\n",
       "      <td>США</td>\n",
       "      <td>Тимур Бекмамбетов</td>\n",
       "      <td>Джим Лемли, Джейсон Нетер, Марк Е.Платт, Яйн Смит</td>\n",
       "      <td>«18+» - запрещено для детей</td>\n",
       "      <td>NaN</td>\n",
       "      <td>NaN</td>\n",
       "      <td>NaN</td>\n",
       "      <td>NaN</td>\n",
       "      <td>6.8</td>\n",
       "      <td>фантастика,боевик,триллер</td>\n",
       "      <td>NaN</td>\n",
       "    </tr>\n",
       "    <tr>\n",
       "      <th>3</th>\n",
       "      <td>Особо опасен</td>\n",
       "      <td>221026916.00000</td>\n",
       "      <td>2016-06-10T12:00:00.000Z</td>\n",
       "      <td>Художественный</td>\n",
       "      <td>Юниверсал Пикчерз, Кикстарт Продакшнз, Марк Пл...</td>\n",
       "      <td>США</td>\n",
       "      <td>Тимур Бекмамбетов</td>\n",
       "      <td>Джим Лемли, Джейсон Нетер, Марк Е.Платт, Яйн Смит</td>\n",
       "      <td>«18+» - запрещено для детей</td>\n",
       "      <td>NaN</td>\n",
       "      <td>NaN</td>\n",
       "      <td>NaN</td>\n",
       "      <td>NaN</td>\n",
       "      <td>6.8</td>\n",
       "      <td>фантастика,боевик,триллер</td>\n",
       "      <td>NaN</td>\n",
       "    </tr>\n",
       "    <tr>\n",
       "      <th>4</th>\n",
       "      <td>Особо опасен</td>\n",
       "      <td>221030815.00000</td>\n",
       "      <td>2015-07-29T12:00:00.000Z</td>\n",
       "      <td>Художественный</td>\n",
       "      <td>Юниверсал Пикчерз, Кикстарт Продакшнз, Марк Пл...</td>\n",
       "      <td>США</td>\n",
       "      <td>Тимур Бекмамбетов</td>\n",
       "      <td>Джим Лемли, Джейсон Нетер, Марк Е.Платт, Яйн Смит</td>\n",
       "      <td>«18+» - запрещено для детей</td>\n",
       "      <td>NaN</td>\n",
       "      <td>NaN</td>\n",
       "      <td>NaN</td>\n",
       "      <td>NaN</td>\n",
       "      <td>6.8</td>\n",
       "      <td>фантастика,боевик,триллер</td>\n",
       "      <td>NaN</td>\n",
       "    </tr>\n",
       "  </tbody>\n",
       "</table>\n",
       "</div>"
      ],
      "text/plain": [
       "                  title        puNumber           show_start_date  \\\n",
       "0      Открытый простор 221048915.00000  2015-11-27T12:00:00.000Z   \n",
       "1  Особо важное задание 111013716.00000  2016-09-13T12:00:00.000Z   \n",
       "2          Особо опасен 221038416.00000  2016-10-10T12:00:00.000Z   \n",
       "3          Особо опасен 221026916.00000  2016-06-10T12:00:00.000Z   \n",
       "4          Особо опасен 221030815.00000  2015-07-29T12:00:00.000Z   \n",
       "\n",
       "             type                                        film_studio  \\\n",
       "0  Художественный  Тачстоун Пикчерз, Кобальт Пикчерз, Бикон Пикче...   \n",
       "1  Художественный                              Киностудия \"Мосфильм\"   \n",
       "2  Художественный  Юниверсал Пикчерз, Кикстарт Продакшнз, Марк Пл...   \n",
       "3  Художественный  Юниверсал Пикчерз, Кикстарт Продакшнз, Марк Пл...   \n",
       "4  Художественный  Юниверсал Пикчерз, Кикстарт Продакшнз, Марк Пл...   \n",
       "\n",
       "  production_country           director  \\\n",
       "0                США      Кевин Костнер   \n",
       "1               СССР          Е.Матвеев   \n",
       "2                США  Тимур Бекмамбетов   \n",
       "3                США  Тимур Бекмамбетов   \n",
       "4                США  Тимур Бекмамбетов   \n",
       "\n",
       "                                            producer  \\\n",
       "0          Дэвид Валдес, Кевин Костнер, Джейк Эбертс   \n",
       "1                                                NaN   \n",
       "2  Джим Лемли, Джейсон Нетер, Марк Е.Платт, Яйн Смит   \n",
       "3  Джим Лемли, Джейсон Нетер, Марк Е.Платт, Яйн Смит   \n",
       "4  Джим Лемли, Джейсон Нетер, Марк Е.Платт, Яйн Смит   \n",
       "\n",
       "                 age_restriction  refundable_support  nonrefundable_support  \\\n",
       "0    «18+» - запрещено для детей                 NaN                    NaN   \n",
       "1  «6+» - для детей старше 6 лет                 NaN                    NaN   \n",
       "2    «18+» - запрещено для детей                 NaN                    NaN   \n",
       "3    «18+» - запрещено для детей                 NaN                    NaN   \n",
       "4    «18+» - запрещено для детей                 NaN                    NaN   \n",
       "\n",
       "   budget financing_source ratings                     genres  box_office  \n",
       "0     NaN              NaN     7.2     боевик,драма,мелодрама         NaN  \n",
       "1     NaN              NaN     6.6              драма,военный         NaN  \n",
       "2     NaN              NaN     6.8  фантастика,боевик,триллер         NaN  \n",
       "3     NaN              NaN     6.8  фантастика,боевик,триллер         NaN  \n",
       "4     NaN              NaN     6.8  фантастика,боевик,триллер         NaN  "
      ]
     },
     "execution_count": 4,
     "metadata": {},
     "output_type": "execute_result"
    }
   ],
   "source": [
    "# объединим таблицы\n",
    "data = mkrf_movies.merge(mkrf_shows, on = 'puNumber', how = 'left')\n",
    "#посмотрим объединенную таблицу, выведем первые 5 строк датафрейма на экран\n",
    "data.head(5)"
   ]
  },
  {
   "cell_type": "markdown",
   "metadata": {},
   "source": [
    "Мы провели полное объединения двух таблиц по столбцу puNumber (прокатное удостоверение). Далее будем работать с этим объединенным датафреймом."
   ]
  },
  {
   "cell_type": "markdown",
   "metadata": {
    "id": "KLDGpPG0gFyM"
   },
   "source": [
    "### Шаг 2. Предобработка данных"
   ]
  },
  {
   "cell_type": "markdown",
   "metadata": {
    "id": "ssWwKXsxgFyO"
   },
   "source": [
    "#### Шаг 2.1. Проврка типа данных\n",
    "\n",
    "- Проверим типы данных в датафрейме и преобразуем их там, где это необходимо."
   ]
  },
  {
   "cell_type": "code",
   "execution_count": 5,
   "metadata": {
    "id": "kVGSplJOgFyO"
   },
   "outputs": [
    {
     "name": "stdout",
     "output_type": "stream",
     "text": [
      "<class 'pandas.core.frame.DataFrame'>\n",
      "Int64Index: 7486 entries, 0 to 7485\n",
      "Data columns (total 16 columns):\n",
      " #   Column                 Non-Null Count  Dtype  \n",
      "---  ------                 --------------  -----  \n",
      " 0   title                  7486 non-null   object \n",
      " 1   puNumber               7485 non-null   float64\n",
      " 2   show_start_date        7486 non-null   object \n",
      " 3   type                   7486 non-null   object \n",
      " 4   film_studio            7468 non-null   object \n",
      " 5   production_country     7484 non-null   object \n",
      " 6   director               7477 non-null   object \n",
      " 7   producer               6918 non-null   object \n",
      " 8   age_restriction        7486 non-null   object \n",
      " 9   refundable_support     332 non-null    float64\n",
      " 10  nonrefundable_support  332 non-null    float64\n",
      " 11  budget                 332 non-null    float64\n",
      " 12  financing_source       332 non-null    object \n",
      " 13  ratings                6519 non-null   object \n",
      " 14  genres                 6510 non-null   object \n",
      " 15  box_office             3158 non-null   float64\n",
      "dtypes: float64(5), object(11)\n",
      "memory usage: 994.2+ KB\n"
     ]
    }
   ],
   "source": [
    "#выведем инфо о датафрейме состоящем из 2х таблиц\n",
    "data.info()"
   ]
  },
  {
   "cell_type": "code",
   "execution_count": 6,
   "metadata": {},
   "outputs": [
    {
     "name": "stdout",
     "output_type": "stream",
     "text": [
      "<class 'pandas.core.frame.DataFrame'>\n",
      "Int64Index: 7486 entries, 0 to 7485\n",
      "Data columns (total 16 columns):\n",
      " #   Column                 Non-Null Count  Dtype              \n",
      "---  ------                 --------------  -----              \n",
      " 0   title                  7486 non-null   object             \n",
      " 1   puNumber               7485 non-null   float64            \n",
      " 2   show_start_date        7486 non-null   datetime64[ns, UTC]\n",
      " 3   type                   7486 non-null   object             \n",
      " 4   film_studio            7468 non-null   object             \n",
      " 5   production_country     7484 non-null   object             \n",
      " 6   director               7477 non-null   object             \n",
      " 7   producer               6918 non-null   object             \n",
      " 8   age_restriction        7486 non-null   object             \n",
      " 9   refundable_support     332 non-null    float64            \n",
      " 10  nonrefundable_support  332 non-null    float64            \n",
      " 11  budget                 332 non-null    float64            \n",
      " 12  financing_source       332 non-null    object             \n",
      " 13  ratings                6490 non-null   float64            \n",
      " 14  genres                 6510 non-null   object             \n",
      " 15  box_office             3158 non-null   float64            \n",
      "dtypes: datetime64[ns, UTC](1), float64(6), object(9)\n",
      "memory usage: 994.2+ KB\n"
     ]
    }
   ],
   "source": [
    "#изменим тип данных для show_start_date на datetime()\n",
    "data['show_start_date'] = pd.to_datetime(data['show_start_date'], format='%Y-%m-%dT%H:%M:%S')\n",
    "\n",
    "#изменим тип данных для ratings на float64\n",
    "data['ratings'] = pd.to_numeric(data['ratings'], errors = 'coerce')\n",
    "\n",
    "#проверим тип данных в таблице после внесенных изменений\n",
    "data.info()"
   ]
  },
  {
   "cell_type": "markdown",
   "metadata": {
    "id": "i0MOLbF-gFyP"
   },
   "source": [
    "#### Шаг 2.2. Изучим пропуски в датафрейме\n"
   ]
  },
  {
   "cell_type": "code",
   "execution_count": 7,
   "metadata": {
    "id": "8MJD_lkngFyP"
   },
   "outputs": [
    {
     "data": {
      "text/plain": [
       "title                       0\n",
       "puNumber                    1\n",
       "show_start_date             0\n",
       "type                        0\n",
       "film_studio                18\n",
       "production_country          2\n",
       "director                    9\n",
       "producer                  568\n",
       "age_restriction             0\n",
       "refundable_support       7154\n",
       "nonrefundable_support    7154\n",
       "budget                   7154\n",
       "financing_source         7154\n",
       "ratings                   996\n",
       "genres                    976\n",
       "box_office               4328\n",
       "dtype: int64"
      ]
     },
     "execution_count": 7,
     "metadata": {},
     "output_type": "execute_result"
    }
   ],
   "source": [
    "#выведем количество пропущенных значений для каждого столбца таблицы\n",
    "data.isna().sum()"
   ]
  },
  {
   "cell_type": "markdown",
   "metadata": {},
   "source": [
    "- puNumber - удалим строку с пропущенным значением. потому что это главный идентификатор;\n",
    "- director - режиссер. заполним отсутствующие значение \"unknown\" т.к. данный столбец понадобиться нам далее;\n",
    "- genres - жанр. заполним отсутствующие значение \"unknown\" т.к. данный столбец понадобиться нам далее;\n",
    "- refundable_support, nonrefundable_support, budget, financing_source  - очень много пропусков. удалять не будем. пропуски в данных столбцах связаны с тем, что в таблице как фильмы отечественного производства (с господдержкой) так и фильмы зарубежного производства (господдержки у которыз, конечно же, не было) - отсутствие значений в этих строках нормально; \n",
    "- film_studio, production_county, producer - нельзя заполнить какими-либо случайными (или чаще повторяющимися) значениями - такие данные можно только найти и ввести их в таблицу;\n",
    "- ratings - вероятно, не все фильмы получали оценки. реальных значений больше, их достаточно для оценки. не будем заполнять средними/медианными числами;\n",
    "- box_office - данные о сборах могут быть только у тех фильмов, что были в прокате. заполнять данный столбец средними/медианными значениями - некорректно. "
   ]
  },
  {
   "cell_type": "code",
   "execution_count": 8,
   "metadata": {},
   "outputs": [],
   "source": [
    "#удалим отсутствующее значение в puNumber\n",
    "data = data.dropna(subset = ['puNumber'])\n",
    "\n",
    "#заполним пропуски в genres на unknown\n",
    "data['genres'] = data['genres'].fillna('unknown')\n",
    "\n",
    "#заполним пропуски в director на unknown\n",
    "data['director'] = data['director'].fillna('unknown')"
   ]
  },
  {
   "cell_type": "markdown",
   "metadata": {
    "id": "4c6k1t9ygFyQ"
   },
   "source": [
    "#### Шаг 2.3. Изучим дубликаты в датафрейме"
   ]
  },
  {
   "cell_type": "code",
   "execution_count": 9,
   "metadata": {
    "id": "aKck8RIdgFyQ"
   },
   "outputs": [
    {
     "data": {
      "text/plain": [
       "714"
      ]
     },
     "execution_count": 9,
     "metadata": {},
     "output_type": "execute_result"
    }
   ],
   "source": [
    "#проверм наличие явных дубликатов в столбце title (название фильма)\n",
    "data['title'].duplicated().sum()"
   ]
  },
  {
   "cell_type": "markdown",
   "metadata": {},
   "source": [
    "В столбце с названием фильма 714 дубликатов. Мы не будем удалять дубликаты из данного столбца."
   ]
  },
  {
   "cell_type": "code",
   "execution_count": 10,
   "metadata": {},
   "outputs": [
    {
     "data": {
      "text/plain": [
       "2"
      ]
     },
     "execution_count": 10,
     "metadata": {},
     "output_type": "execute_result"
    }
   ],
   "source": [
    "#проверм наличие явных дубликатов в столбце puNumber (номер прокатного удостоверения)\n",
    "data['puNumber'].duplicated().sum()"
   ]
  },
  {
   "cell_type": "code",
   "execution_count": 11,
   "metadata": {},
   "outputs": [],
   "source": [
    "#удалим дубликаты из данного столбца\n",
    "data = data.drop_duplicates(subset=['puNumber'])"
   ]
  },
  {
   "cell_type": "markdown",
   "metadata": {},
   "source": [
    "Дубликаты для столбцов: type, film_studio, production_country, director, producer, age_restriction, financing_source, genres - нормальны. В этих столбцах могут встречаться повторяющиеся значения."
   ]
  },
  {
   "cell_type": "markdown",
   "metadata": {
    "id": "52fOPrEBgFyQ"
   },
   "source": [
    "#### Шаг 2.4. Изучим категориальные значения\n"
   ]
  },
  {
   "cell_type": "code",
   "execution_count": 12,
   "metadata": {},
   "outputs": [
    {
     "data": {
      "text/html": [
       "<div>\n",
       "<style scoped>\n",
       "    .dataframe tbody tr th:only-of-type {\n",
       "        vertical-align: middle;\n",
       "    }\n",
       "\n",
       "    .dataframe tbody tr th {\n",
       "        vertical-align: top;\n",
       "    }\n",
       "\n",
       "    .dataframe thead th {\n",
       "        text-align: right;\n",
       "    }\n",
       "</style>\n",
       "<table border=\"1\" class=\"dataframe\">\n",
       "  <thead>\n",
       "    <tr style=\"text-align: right;\">\n",
       "      <th></th>\n",
       "      <th>title</th>\n",
       "      <th>puNumber</th>\n",
       "      <th>show_start_date</th>\n",
       "      <th>type</th>\n",
       "      <th>film_studio</th>\n",
       "      <th>production_country</th>\n",
       "      <th>director</th>\n",
       "      <th>producer</th>\n",
       "      <th>age_restriction</th>\n",
       "      <th>refundable_support</th>\n",
       "      <th>nonrefundable_support</th>\n",
       "      <th>budget</th>\n",
       "      <th>financing_source</th>\n",
       "      <th>ratings</th>\n",
       "      <th>genres</th>\n",
       "      <th>box_office</th>\n",
       "    </tr>\n",
       "  </thead>\n",
       "  <tbody>\n",
       "    <tr>\n",
       "      <th>0</th>\n",
       "      <td>Открытый простор</td>\n",
       "      <td>221048915.00000</td>\n",
       "      <td>2015-11-27 12:00:00+00:00</td>\n",
       "      <td>Художественный</td>\n",
       "      <td>Тачстоун Пикчерз, Кобальт Пикчерз, Бикон Пикче...</td>\n",
       "      <td>США</td>\n",
       "      <td>Кевин Костнер</td>\n",
       "      <td>Дэвид Валдес, Кевин Костнер, Джейк Эбертс</td>\n",
       "      <td>«18+» - запрещено для детей</td>\n",
       "      <td>NaN</td>\n",
       "      <td>NaN</td>\n",
       "      <td>NaN</td>\n",
       "      <td>NaN</td>\n",
       "      <td>7.20000</td>\n",
       "      <td>боевик,драма,мелодрама</td>\n",
       "      <td>NaN</td>\n",
       "    </tr>\n",
       "    <tr>\n",
       "      <th>1</th>\n",
       "      <td>Особо важное задание</td>\n",
       "      <td>111013716.00000</td>\n",
       "      <td>2016-09-13 12:00:00+00:00</td>\n",
       "      <td>Художественный</td>\n",
       "      <td>Киностудия \"Мосфильм\"</td>\n",
       "      <td>СССР</td>\n",
       "      <td>Е.Матвеев</td>\n",
       "      <td>NaN</td>\n",
       "      <td>«6+» - для детей старше 6 лет</td>\n",
       "      <td>NaN</td>\n",
       "      <td>NaN</td>\n",
       "      <td>NaN</td>\n",
       "      <td>NaN</td>\n",
       "      <td>6.60000</td>\n",
       "      <td>драма,военный</td>\n",
       "      <td>NaN</td>\n",
       "    </tr>\n",
       "    <tr>\n",
       "      <th>2</th>\n",
       "      <td>Особо опасен</td>\n",
       "      <td>221038416.00000</td>\n",
       "      <td>2016-10-10 12:00:00+00:00</td>\n",
       "      <td>Художественный</td>\n",
       "      <td>Юниверсал Пикчерз, Кикстарт Продакшнз, Марк Пл...</td>\n",
       "      <td>США</td>\n",
       "      <td>Тимур Бекмамбетов</td>\n",
       "      <td>Джим Лемли, Джейсон Нетер, Марк Е.Платт, Яйн Смит</td>\n",
       "      <td>«18+» - запрещено для детей</td>\n",
       "      <td>NaN</td>\n",
       "      <td>NaN</td>\n",
       "      <td>NaN</td>\n",
       "      <td>NaN</td>\n",
       "      <td>6.80000</td>\n",
       "      <td>фантастика,боевик,триллер</td>\n",
       "      <td>NaN</td>\n",
       "    </tr>\n",
       "    <tr>\n",
       "      <th>3</th>\n",
       "      <td>Особо опасен</td>\n",
       "      <td>221026916.00000</td>\n",
       "      <td>2016-06-10 12:00:00+00:00</td>\n",
       "      <td>Художественный</td>\n",
       "      <td>Юниверсал Пикчерз, Кикстарт Продакшнз, Марк Пл...</td>\n",
       "      <td>США</td>\n",
       "      <td>Тимур Бекмамбетов</td>\n",
       "      <td>Джим Лемли, Джейсон Нетер, Марк Е.Платт, Яйн Смит</td>\n",
       "      <td>«18+» - запрещено для детей</td>\n",
       "      <td>NaN</td>\n",
       "      <td>NaN</td>\n",
       "      <td>NaN</td>\n",
       "      <td>NaN</td>\n",
       "      <td>6.80000</td>\n",
       "      <td>фантастика,боевик,триллер</td>\n",
       "      <td>NaN</td>\n",
       "    </tr>\n",
       "    <tr>\n",
       "      <th>4</th>\n",
       "      <td>Особо опасен</td>\n",
       "      <td>221030815.00000</td>\n",
       "      <td>2015-07-29 12:00:00+00:00</td>\n",
       "      <td>Художественный</td>\n",
       "      <td>Юниверсал Пикчерз, Кикстарт Продакшнз, Марк Пл...</td>\n",
       "      <td>США</td>\n",
       "      <td>Тимур Бекмамбетов</td>\n",
       "      <td>Джим Лемли, Джейсон Нетер, Марк Е.Платт, Яйн Смит</td>\n",
       "      <td>«18+» - запрещено для детей</td>\n",
       "      <td>NaN</td>\n",
       "      <td>NaN</td>\n",
       "      <td>NaN</td>\n",
       "      <td>NaN</td>\n",
       "      <td>6.80000</td>\n",
       "      <td>фантастика,боевик,триллер</td>\n",
       "      <td>NaN</td>\n",
       "    </tr>\n",
       "  </tbody>\n",
       "</table>\n",
       "</div>"
      ],
      "text/plain": [
       "                  title        puNumber           show_start_date  \\\n",
       "0      Открытый простор 221048915.00000 2015-11-27 12:00:00+00:00   \n",
       "1  Особо важное задание 111013716.00000 2016-09-13 12:00:00+00:00   \n",
       "2          Особо опасен 221038416.00000 2016-10-10 12:00:00+00:00   \n",
       "3          Особо опасен 221026916.00000 2016-06-10 12:00:00+00:00   \n",
       "4          Особо опасен 221030815.00000 2015-07-29 12:00:00+00:00   \n",
       "\n",
       "             type                                        film_studio  \\\n",
       "0  Художественный  Тачстоун Пикчерз, Кобальт Пикчерз, Бикон Пикче...   \n",
       "1  Художественный                              Киностудия \"Мосфильм\"   \n",
       "2  Художественный  Юниверсал Пикчерз, Кикстарт Продакшнз, Марк Пл...   \n",
       "3  Художественный  Юниверсал Пикчерз, Кикстарт Продакшнз, Марк Пл...   \n",
       "4  Художественный  Юниверсал Пикчерз, Кикстарт Продакшнз, Марк Пл...   \n",
       "\n",
       "  production_country           director  \\\n",
       "0                США      Кевин Костнер   \n",
       "1               СССР          Е.Матвеев   \n",
       "2                США  Тимур Бекмамбетов   \n",
       "3                США  Тимур Бекмамбетов   \n",
       "4                США  Тимур Бекмамбетов   \n",
       "\n",
       "                                            producer  \\\n",
       "0          Дэвид Валдес, Кевин Костнер, Джейк Эбертс   \n",
       "1                                                NaN   \n",
       "2  Джим Лемли, Джейсон Нетер, Марк Е.Платт, Яйн Смит   \n",
       "3  Джим Лемли, Джейсон Нетер, Марк Е.Платт, Яйн Смит   \n",
       "4  Джим Лемли, Джейсон Нетер, Марк Е.Платт, Яйн Смит   \n",
       "\n",
       "                 age_restriction  refundable_support  nonrefundable_support  \\\n",
       "0    «18+» - запрещено для детей                 NaN                    NaN   \n",
       "1  «6+» - для детей старше 6 лет                 NaN                    NaN   \n",
       "2    «18+» - запрещено для детей                 NaN                    NaN   \n",
       "3    «18+» - запрещено для детей                 NaN                    NaN   \n",
       "4    «18+» - запрещено для детей                 NaN                    NaN   \n",
       "\n",
       "   budget financing_source  ratings                     genres  box_office  \n",
       "0     NaN              NaN  7.20000     боевик,драма,мелодрама         NaN  \n",
       "1     NaN              NaN  6.60000              драма,военный         NaN  \n",
       "2     NaN              NaN  6.80000  фантастика,боевик,триллер         NaN  \n",
       "3     NaN              NaN  6.80000  фантастика,боевик,триллер         NaN  \n",
       "4     NaN              NaN  6.80000  фантастика,боевик,триллер         NaN  "
      ]
     },
     "execution_count": 12,
     "metadata": {},
     "output_type": "execute_result"
    }
   ],
   "source": [
    "data.head(5)"
   ]
  },
  {
   "cell_type": "markdown",
   "metadata": {
    "id": "PnXKIVdFgFyR"
   },
   "source": [
    "Категориальные столбцы:\n",
    "- type\n",
    "- production_country\n",
    "- financing_source\n",
    "- ratings\n",
    "- age_restriction\n",
    "- genres"
   ]
  },
  {
   "cell_type": "code",
   "execution_count": 13,
   "metadata": {},
   "outputs": [
    {
     "data": {
      "text/plain": [
       "array(['Художественный', 'Анимационный', 'Прочие', 'Документальный',\n",
       "       'Научно-популярный', ' Художественный', ' Анимационный',\n",
       "       'Музыкально-развлекательный'], dtype=object)"
      ]
     },
     "execution_count": 13,
     "metadata": {},
     "output_type": "execute_result"
    }
   ],
   "source": [
    "#посмотрим уникальные значения для type\n",
    "data['type'].unique()"
   ]
  },
  {
   "cell_type": "code",
   "execution_count": 14,
   "metadata": {},
   "outputs": [
    {
     "data": {
      "text/plain": [
       "0       Художественный\n",
       "1       Художественный\n",
       "2       Художественный\n",
       "3       Художественный\n",
       "4       Художественный\n",
       "             ...      \n",
       "7481            Прочие\n",
       "7482    Художественный\n",
       "7483    Художественный\n",
       "7484      Анимационный\n",
       "7485      Анимационный\n",
       "Name: type, Length: 7483, dtype: object"
      ]
     },
     "execution_count": 14,
     "metadata": {},
     "output_type": "execute_result"
    }
   ],
   "source": [
    "#проблема данного столбца - лишний пробел перед знаками. исправим это с помощью метода strip()\n",
    "data['type'].str.strip()"
   ]
  },
  {
   "cell_type": "code",
   "execution_count": 15,
   "metadata": {
    "scrolled": true
   },
   "outputs": [
    {
     "data": {
      "text/plain": [
       "array(['США', 'СССР', 'Франция', 'СССР, Венгрия',\n",
       "       'Германия-Великобритания', 'Великобритания - Италия',\n",
       "       'Чехословакия', 'США - Франция - Турция', 'Новая Зеландия',\n",
       "       'Канада - Франция - Испания', 'США-Германия',\n",
       "       'США - Великобритания', 'Великобритания', 'США - Германия',\n",
       "       'Франция - Мексика - США', 'Россия, Казахстан, США',\n",
       "       'СССР, Швеция', 'СССР, Франция, Англия, Куба, ГДР', 'Германия',\n",
       "       'Великобритания-США-Германия-КНР',\n",
       "       'СССР, ЧССР, Западный Берлин, ПНР', 'СССР, Италия', 'Гонконг, КНР',\n",
       "       'США - Франция', 'США - Япония - Франция - Великобритания',\n",
       "       'Гонконг - Сингапур - Таиланд - Великобритания', 'США-Канада',\n",
       "       'Франция - Италия - Великобритания - США', 'Франция - США',\n",
       "       'Ирландия-Великобритания-Германия', 'Чехия', 'США-Австралия',\n",
       "       'СССР, Финляндия', 'США-Франция-Великобритания-Австрия',\n",
       "       'США - Бельгия', 'США - Ирландия - Великобритания',\n",
       "       'Великобритания - США',\n",
       "       'Люксембург - Нидерланды - Испания - Великобритания - США - Италия',\n",
       "       'Великобритания - Франция - США', 'Новая Зеландия - США',\n",
       "       'США - Великобритания - Чехия',\n",
       "       'Канада - Франция - Великобритания', 'Ирландия',\n",
       "       'Великобритания - Германия - США',\n",
       "       'США - Франция - Великобритания', 'Япония', 'СССР, Польша',\n",
       "       'Франция - Испания', 'Канада-Франция', 'Германия - Италия - США',\n",
       "       'Аргентина - Бразилия', 'Дания - Швейцария - Бельгия - Франция',\n",
       "       'США - Испания', 'Германия - США',\n",
       "       'Франция - Австрия - Германия - Италия - США', 'Австрия',\n",
       "       'США - Канада - Германия', 'США - Канада',\n",
       "       'СССР - Швейцария - Франция', 'Россия - Казахстан', 'Гонконг',\n",
       "       'Италия', 'США - ОАЭ', 'Россия',\n",
       "       'США - Франция - Испания - Великобритания',\n",
       "       'Великобритания - Франция', 'США-Италия-Испания-Аргентина',\n",
       "       'Франция-Великобритания', 'КНР - Гонконг',\n",
       "       'Франция - Италия - Швейцария', 'США - Новая Зеландия',\n",
       "       'Франция - Бельгия', 'КНР', 'Германия - Великобритания - Австрия',\n",
       "       'Великобритания - Израиль - Франция - Япония - США', 'Швеция',\n",
       "       'Испания', 'Дания', 'Франция - Бельгия - Люксембург',\n",
       "       'США - Индия - ОАЭ',\n",
       "       'Германия-Канада-Великобритания-Швейцария-Франция',\n",
       "       'Мексика - Чили', 'Аргентина', 'Бразилия', 'Чили', 'Австралия',\n",
       "       'Португалия - Франция', 'США - ЮАР', 'Исландия-Ирландия-Германия',\n",
       "       'США-Индонезия', 'Южная Корея', 'Мексика - Испания - Дания - США',\n",
       "       'Великобритания-США', 'Франция - Италия', 'США-Франция',\n",
       "       'США - Венгрия - Великобритания', 'Бельгия-Франция-Италия',\n",
       "       'Чехия - Германия', 'Германия - Франция', 'США-Нидерланды',\n",
       "       'Украина', 'Великобритания - Германия', 'Франция-Бельгия',\n",
       "       'США-Франция-Испания', 'Италия - Франция', 'Канада',\n",
       "       'Швеция-Франция-Дания', 'Германия-Франция-Польша',\n",
       "       'Франция-Великобритания - Германия',\n",
       "       'США - Бразилия - Франция - Австралия - Великобритания - Германия',\n",
       "       'Германия-Австрия', 'Германия-Италия- Шри-Ланка',\n",
       "       'Великобритания - Испания',\n",
       "       'США - Великобритания - Канада - Швеция',\n",
       "       'Босния и Герцеговина - Франция - Великобритания - Германия - Словения - Бельгия - Сербия',\n",
       "       'Великобритания - Франция - Италия - США', 'США-ОАЭ',\n",
       "       'Испания - Франция', 'США-Великобритания', 'США-ЮАР',\n",
       "       'Великобритания-Австралия - США',\n",
       "       'Норвегия - Швеция - Дания - Германия', 'Норвегия', 'Швейцария',\n",
       "       'Греция - Германия - Франция', 'Норвения', 'Южная Корея - США',\n",
       "       'Чили - Франция - США', 'Австрия - Германия - Франция',\n",
       "       'Швеция - Дания', 'Великобритания - Франция - Бельгия - Италия',\n",
       "       'Франция - Германия', 'Грузия - Франция - Люксембург',\n",
       "       'США - Франция - Великобритания - Бразилия ', 'США - КНР',\n",
       "       'Мексика - Франция', 'США - Германия - Гонконг - Сингапур',\n",
       "       'Финляндия - Австрия - Россия', 'Испания - Куба',\n",
       "       'Великобритания - ЮАР', 'Великобритания - Ирландия', 'Израиль',\n",
       "       'Бразилия - Германия - Порртугалия - Франция ',\n",
       "       'Франция - Канада - Бельгия', 'Франция-Испания',\n",
       "       'Испания - Канада - Япония', 'Иран', 'Швеция-Куба',\n",
       "       'США-Великобритания-Ирландия', 'Гонконг - КНР', 'Нидерланды',\n",
       "       'Испания - Канада', 'Япония-Великобритания',\n",
       "       'Великобритания - Норвегия - Дания - Германия',\n",
       "       'Финляндия - Франция - Германия',\n",
       "       'Мексика - Франция - Нидерланды - Германия', 'США - Индия',\n",
       "       'США-Великобритания-Индия', 'США-Канада-Бельгия',\n",
       "       'Республика Узбекистан', 'Италия ', 'Турция',\n",
       "       'Сербия - Словения - Хорватия - Черногория - Македония',\n",
       "       'Киргизия', 'Германия - Нидерланды - Беларусь - Россия - Латвия',\n",
       "       'Индия', 'Нидерланды - Россия - Германия',\n",
       "       'Великобритания - Нидерланды - Франция - Хорватия',\n",
       "       'Канада - Южная Корея',\n",
       "       'Великобритания - Польша - КНР - Индия - Норвегия',\n",
       "       'Япония - Франция - США - Южная Корея - Турция',\n",
       "       'Мексика - Аргентина - Великобритания', 'Израиль - Франция',\n",
       "       'Польша - Португалия - Франция - Великобритания',\n",
       "       'Австралия - США', 'США - Великобритания ',\n",
       "       'Франция - Люксембург - Бельгия', 'Армения',\n",
       "       'Бельгия - Люксембург - Франция - Швейцария',\n",
       "       'США - Великобритания - Канада', 'Норвегия - Швеция',\n",
       "       'Канада - Франция', 'КНР - Гонконг - США',\n",
       "       'США - Сингапур - Малайзия - Индонезия', 'Германия - Россия',\n",
       "       'Япония - Канада', 'Финляндия - Дания - Германия - Ирландия',\n",
       "       'Франция - Люксембург - Германия - Бельгия - Швейцария - Великобритания ',\n",
       "       'Канада - США', 'США-Италия-Испания', 'США-Испания',\n",
       "       'США - Швейцария - Франция', 'Испания - США - Колумбия',\n",
       "       'Канада-ЮАР', 'Франция - Россия',\n",
       "       'Германия - Финляндия - Австралия', 'Дания - Швеция', 'Бельгия',\n",
       "       'Германия - Франция - Австрия', 'Франция-Индия', 'ЮАР',\n",
       "       'Франция-Перу', 'Франция - Канада', 'Республика Беларусь',\n",
       "       'Великобритания - Австрия - Франция - США',\n",
       "       'Австрия-Германия-Франция', 'США-Россия', 'Германия-США',\n",
       "       'США - Южная Корея', 'Канада - КНР',\n",
       "       'Дания - Швеция - Италия - Франция - Германия',\n",
       "       'Франция-Италия-Испания-Венгрия', 'Франция - Германия - Бельгия',\n",
       "       'Франция-Великобритания-Чехия', 'Румыния - Франция - Бельгия',\n",
       "       'Болгария - Франция - Изриль',\n",
       "       'Израиль - Германия - Польша - Бельгия - Франция - Люксембург',\n",
       "       'Россия, Германия, Франция, Бельгия', 'Индонезия',\n",
       "       'Франция - Португалия', 'Великобритания - Пуэрто-Рико',\n",
       "       'СССР, ФРГ, Западный Берлин', 'Россия, Республика Беларусь',\n",
       "       'США, Великобритания', 'Франция - Австрия', 'Бельгия-Нидерланды',\n",
       "       'Великобритания - США - Индия', 'США - Великобритания - Австралия',\n",
       "       'Канада - Франция - США - ОАЭ - Великобритания',\n",
       "       'США - Австралия - Франция',\n",
       "       'Дания-Франция-Бельгия-Германия-Великобритания',\n",
       "       'Испания - Аргентина', 'Исландия - Финляндия',\n",
       "       'Россия-Польша-Голландия-Словакия', 'Дания - Германия - Швеция',\n",
       "       'Южная Корея - США - Канада', 'Таиланд', 'США-Мальта',\n",
       "       'США -Германия',\n",
       "       'Великобритания - Германия - Франция - Кипр - США', 'Мексика',\n",
       "       'США - Великобритания - Ирландия', 'США - Украина',\n",
       "       'США - Финляндия - Испания - Великобритания - Франция',\n",
       "       'Австралия-Великобритания',\n",
       "       'США - Канада - Афганистан - Бельгия - Франция',\n",
       "       'США - Великобритания - Германия - Новая Зеландия - Бельгия - Франция',\n",
       "       'Франция-Канада',\n",
       "       'Ирландия - Финляндия - Бельгия - Великобритания - США - Швейцария',\n",
       "       'Малайзия - США', 'Германия - Италия',\n",
       "       'США - Франция - Бельгия - Италия', 'Франция - Ирландия - Швеция',\n",
       "       'Азербайджан-Россия', 'Великобритания - Италия - Швейцария',\n",
       "       'США - Германия - Великобритания',\n",
       "       'Германия - Бельгия - США -Франция', 'США-Китай', 'Чили - Испания',\n",
       "       'Франция - Швейцария', 'Канада - Испания',\n",
       "       'США - Румыния - Великобритания', 'США - Япония',\n",
       "       'США - Россия - Франция', 'Франция-США', 'Парагвай',\n",
       "       'Германия - Канада', 'США - Канада - Великобритания',\n",
       "       'Финляндия - Канада', 'Уругвай-Мексика-Германия ', 'США - Чили',\n",
       "       'Германия - Аргентина - Нидерланды - Чили',\n",
       "       'США - Канада - Индонезия', 'Армения - Казахстан', 'Финляндия',\n",
       "       'Испания - Италия - Франция',\n",
       "       'Бельгия - Испания - Канада - Нидерланды',\n",
       "       'Великобритания - Франция - Швеция - Бельгия',\n",
       "       'Мексика - Эквадор - Канада - США - Франция - Малайзия - Италия - Аргентина - Германия - Индия  ',\n",
       "       'Франция - Бенльгия', 'Индия - Великобритания',\n",
       "       'Япония - Великобритания - Франция',\n",
       "       'Испания - Уругвай - Аргентина',\n",
       "       'Франция - Италия - Бельгия - Люксембург',\n",
       "       'Франция - Украина - Грузия - Армения',\n",
       "       'Сербия - Германия - Венгрия', 'Франция-Польша', 'Франция ',\n",
       "       'Румыния-США', 'Россия-Азербайджан',\n",
       "       'США - Нидерланды - Бельгия - Венгрия - Греция - Канада',\n",
       "       'Германия - Франция - Люксембург', 'США - Россия',\n",
       "       'Великобритания - США - Франция', 'США - Австралия - Дания',\n",
       "       'Бельгия-Франция', 'США-Мексика',\n",
       "       'Норвегия - Азербайджан - Россия - Колумбия - Великобритания - Венгрия - Румыния - Франция - Грузия',\n",
       "       'СЩА', 'Бразилия - Испания', 'Россия, Франция, Латвия',\n",
       "       'Нидерланды - США - Германия - Канада - Франция - Ирландия - Великобритания',\n",
       "       'Уругвай - Колумбия', 'США - Испания - Болгария',\n",
       "       'Армения - Германия', 'США - Великобритания- Франция - Швеция',\n",
       "       'США - Мексика', 'Австралия-Турция-США', 'Швеция - Германия',\n",
       "       'Польша - Италия - Россия', 'Франция - Бразилия',\n",
       "       'США - Канада - КНР', 'СССР, Венгрия, ЧССР, ГДР',\n",
       "       'Бельгия - Германия - Люксембург', 'СССР  ', 'СССР ', ' СССР ',\n",
       "       'США - Австралия', 'Бразилия - США',\n",
       "       'США - Великобритания - Канада - КНР', 'Франция - Чили',\n",
       "       'Франция - США - Великобритания - Колумбия - Бельгия - Россия',\n",
       "       'Дания - Великобритания - ЮАР', 'СССР   ',\n",
       "       'Россия-США-Канада-Люксембург', 'Россия - Республика Кипр',\n",
       "       'Германия - США - Швеция - Франция',\n",
       "       'Великобритания-Германия-Канада-ЮАР', ' СССР   ', 'СССР     ',\n",
       "       'Ирландия, Канада',\n",
       "       'Япония - Великобритания - Швейцария - Ирландия - Дания - Франция - Польша - Австралия - Канада  ',\n",
       "       'Великобритания, Канада', 'Бельгия - США',\n",
       "       'Великобритания - США - Россия', 'Россия-Украина',\n",
       "       'Германия - США - Великобритания - Израиль', 'Канада - Германия',\n",
       "       'США- Ю.Корея', 'Индия - Мексика',\n",
       "       'Великобритания - Франция - Республика Кипр - Швейцария - США - Сербия',\n",
       "       'Испания - Аргентина - Индия - США',\n",
       "       'Норвегия - Исландия - США - Великобритания ',\n",
       "       'Турция - Германя - Франция', 'Германия - Великобритания',\n",
       "       'Австралия - Германия', 'Мексика - Испания',\n",
       "       'Великобритания - США - Германия - Бельгия',\n",
       "       'США - Чехия - Франция', 'Россия - Италия', 'Франция-Россия',\n",
       "       'Норвегия - Дания - Швеция', 'Франция - Швейцария - Германия',\n",
       "       'Грузия - Украина', 'Россия - Эстония - Финляндия - Беларусь',\n",
       "       'США - Франция - ЮАР', 'Великобритания - США - Швейцария',\n",
       "       'Канада-США', 'Мексика - Нидерланды - Германия - Франция',\n",
       "       'США - Испания - Франция', 'США - Великобритания - КНР',\n",
       "       'США-Франция-Канада',\n",
       "       'Япония, Великобритания, Австрия, Германия, Ю.Корея',\n",
       "       'Великобритания - Ирландия - США', 'Бельгия - Италия - Франция ',\n",
       "       'Швейцария-Германия-ЮАР', 'Великобритания - США - Германия',\n",
       "       'Германия - Исландия', 'Испания - США', 'СССР    ', 'Хорватия',\n",
       "       'Финляндия - Исландия - Швеция',\n",
       "       'Канада - США - Германия - Франция',\n",
       "       'США - Великобритания - Испания', 'Ирландия-Великобритания',\n",
       "       'Аргентина - Испания', 'Австрия - Германия', ' СССР',\n",
       "       'Германия - Швейцария - Франция - Южная Корея - США',\n",
       "       'Украина - Нидерланды', 'Венгрия - Германия - Швеция',\n",
       "       'Германия - Франция -  Польша - Турция - Канада - Италия - Россия ',\n",
       "       'СССР, Афганистан', 'СССР, Монголия', 'Россия-Кипр',\n",
       "       'Россия, Грузия, Испания',\n",
       "       'Великобритания - Нидерланды - Германия - Франция - Бельгия - Австрия ',\n",
       "       'Испания - Великобритания - Франция',\n",
       "       'Дания - Норвегия - Великобритания',\n",
       "       'Бельгия - Франция - Люксембург',\n",
       "       'Италия - Франция - Швейцария - Великобритания',\n",
       "       'Франция - Бельгия - Великобритания - Испания - Германия - США',\n",
       "       'Швейцария - Израиль - Франция - Великобритания',\n",
       "       'Великобритания - США - Канада - Нидерланды - Франция',\n",
       "       'Россия, Италия', 'СССР, Албания',\n",
       "       'Россия, Украина, Республика Беларусь, Литва',\n",
       "       'Финляндия - Великобритания - Германия', 'Россия, Украина, Польша',\n",
       "       'Франция - Италия - Бельгия - КНР',\n",
       "       'Германия - Бельгия - Люксембург - Ирландия', 'КНР - Сингапур',\n",
       "       'Франция - Бельгия - Великобритания - США - Нидерланды - Канада',\n",
       "       'США - Россия - Польша - Германия - Пуэрто Рико',\n",
       "       'Франция - Бельгия - Канада', 'США ', 'Мексика - США',\n",
       "       'США - Гонконг - КНР ', 'Греция - Россия',\n",
       "       'Ирландия - Дания - Бельгия - Люксембург - Франция',\n",
       "       'Эстония - Россия',\n",
       "       'Великобритания - Исландия - Испания - Швейцария - США',\n",
       "       'Австралия - Великобритания - Бельгия - Индия',\n",
       "       'Швеция - Германия - Франция - Норвегия',\n",
       "       'Нидерланды - Бельгия - Германия - Ирландия',\n",
       "       'Нидерланды - Великобритания - Бельгия',\n",
       "       'США - Колумбия - Испания', 'Франция-Испания-Бельгия-Панама',\n",
       "       'США-Великобритания-Чехия-Румыния',\n",
       "       'Аргентина - Уругвай - Россия - Германия - Франция - Нидерланды',\n",
       "       'Швеция - Франция - Норвегия - Дания',\n",
       "       'Италия-Франция-Великобритания', 'Великобритания, Франция',\n",
       "       'Австралия, США', 'Венесуэла',\n",
       "       'Великобритания - США - Австралия - Ирландия - Германия - Куба - Канада',\n",
       "       'Южная Корея - КНР',\n",
       "       'Аргентина - Мексика - Бразилия - Франция - США', 'Швеция - США',\n",
       "       'Франция - Германия - Турция - Катар', 'Франция-Китай',\n",
       "       'Россия, Германия, Великобритания',\n",
       "       'Великобритания - Италия - Испания', 'Италия - Россия',\n",
       "       'Япония - КНР - Южная Корея', 'Россия, Германия',\n",
       "       'Россия-Ирландия', 'Македония - Франция - Великобритания',\n",
       "       'Франция - Бразилия - Италия', 'Россия-США', 'Армения-Россия',\n",
       "       'Россия, Румыния', 'Франция -  Бельгия', 'Грузия-Франция',\n",
       "       'ЮАР - США', 'Великобритания-США-Франция',\n",
       "       'Великобритания - США - Германия - Канада - Австралия',\n",
       "       'США-Ирландия', 'Россия, Республика Кипр',\n",
       "       'Германия - Люксембург - Франция', 'Россия-Франция',\n",
       "       'США - Нидерланды - Финляндия - Великобритания - Италия',\n",
       "       'Республика Кипр', 'Венгрия', 'Франция - США - Норвегия - Дания',\n",
       "       'Германия - Австрия - Ирландия', 'США - Финляндия',\n",
       "       'Италия-Великобритания', 'Россия, Испания',\n",
       "       'США - Великобритания - Болгария', 'Великобритания - Люксембург',\n",
       "       'Индия - США', 'США - Канада - Россия - Франция - Чили - Ирландия',\n",
       "       'Грузия-Россия',\n",
       "       'Дания - Австрия - Ирландия - Финляндия - Норвегия - Швеция - Нидерланды',\n",
       "       'США-КНР', 'Грузия', 'Австралия - Ирландия',\n",
       "       'Великобритания - Канада', 'Италия - Аргентина - Словения ',\n",
       "       'Испания - Франция - Нидерланды - Германия - Бельгия - Великобритания - Канада',\n",
       "       'Франция - Чехия - Бельгия',\n",
       "       'Великобритания - Франция - Германия - США',\n",
       "       'Ирландия - Великобритания - Франция - США - Германия - Нидерланды',\n",
       "       'США - Канада - Япония - КНР', 'Италия-Франция',\n",
       "       'США - Великобритания - Исландия', 'Великобритания-Франция',\n",
       "       'Франция - Германия - Нидерланды', 'Иран ',\n",
       "       'Франция - Германия - Швеция - США - Чехия - Словакия - Великобритания - Нидерланды',\n",
       "       'Франция - Канада - Н.Зеландия - США - Нидерланды - Германия - Швеция - Россия',\n",
       "       'Турция - США',\n",
       "       'Великобритания - США - Канада - Бельгия - Нидерланды - Австрия - Германия',\n",
       "       'Израиль - Франция - Германия - Палестина - США - Австрия - Великобритания',\n",
       "       'Аргентина - Франция - Испания', 'СССР, Россия',\n",
       "       'Великобритания - Франция - Италия - Индия - Дания - КНР - Бангладеш - Камбоджа - Гаити - Уганда',\n",
       "       'Италия - Франция - Швейцария',\n",
       "       'Ирландия - Великобритания - Канада', 'Перу', 'США - Норвегия',\n",
       "       'Испания-Канада', 'Китай-Гонконг', 'США - Германия - КНР',\n",
       "       'Великобритания - Новая Зеландия',\n",
       "       'Франция - Дания - Швеция - КНР',\n",
       "       'США - Великобритания - Германия - Бельгия - Дания',\n",
       "       'США - Франция - Канада - Германия - Австралия - Индия', nan,\n",
       "       'СССР, Румыния, Франция', 'СССР, ГДР', 'Австралия-Ирландия',\n",
       "       'США - Китай', 'Великобритания - Франция - Австрия - Швеция',\n",
       "       'Россия, Таджикистан', 'Нидерланды - Бельгия - Болгария',\n",
       "       'Великобритания - Канада - США', 'Франция - Бельгия - Испания',\n",
       "       'Китай-Гонконг-США', 'Франция - Великобритания', 'США - Вьетнам',\n",
       "       'США - Германия - Франция', 'Германия - Франция - Бельгия',\n",
       "       'США - Италия',\n",
       "       'Германия - Дания - Испания - Швеция - Канада - Эстония - Франция',\n",
       "       'Княжество Андорра - Украина', 'Германия - Люксембург - Бельгия',\n",
       "       'Великобритания - Россия - Украина - США',\n",
       "       'Германия - Бельгия - Люксембург - Норвегия',\n",
       "       'США - Австралия - Новая Зеландия - Великобритания',\n",
       "       'США - Франция - Канада - Великобритания', 'Испания-Колумбия',\n",
       "       'Великобритания - Чехия - Франция', 'Россия, Украина', 'Исландия',\n",
       "       'Великобритания - Франция - Венгрия',\n",
       "       'Россия, Франция, Германия, Бельгия', 'Франция - Македония',\n",
       "       'Нидерланды - Франция - Германия - Бельгия - Швеция - Великобритания',\n",
       "       'Испания - США - Великобритания - Канада', 'Германия - Австрия',\n",
       "       'Республика Казахстан',\n",
       "       'Франция - Испания - Дания - Венгрия - Швейцария', 'Франция-КНР',\n",
       "       'США - Пуэрто-Рико - Франция ', 'Мексика - Тайвань - США',\n",
       "       'Великобритания - Испания - Непал - Индия - Венгрия - Гонконг - Германия - Дания - Бахрейн',\n",
       "       'Великобритания - Аргентина - США - Франция - Россия - Испания',\n",
       "       'КНР - США', 'Италия - США', 'Финляндия - Швеция - Германия',\n",
       "       'Канада- Испания', 'Франция - Бельгия - Чехия',\n",
       "       'Франция-Бельгия-Канада', 'Франция - Германия - США',\n",
       "       'США - Дания', 'Индия - КНР', 'Чехия-Великобритания-США',\n",
       "       'США-ФРГ-Россия', 'Ирландия-Нидерланды-Франция-США-Великобритания',\n",
       "       'Россия, Грузия, Хорватия, Испания',\n",
       "       'Финляндия - Швеция - Норвегия', 'Сербия - Великобритания - США',\n",
       "       'США - Великобритания - Франция - Гонконг', 'Швейцария - Франция',\n",
       "       'Швейцария - Великобритания', 'ОАЭ - США',\n",
       "       'США - Франция - Германия - Канада - Австралия ',\n",
       "       'Германия - Австралия', 'Иран, Франция',\n",
       "       'США - Великобритания - Новая Зеландия', 'США-Колумбия',\n",
       "       'США-Франция-Ирландия', 'Великобритания - Франция - Бельгия',\n",
       "       'США - Великобритания - Япония', 'США - Франция - Германия',\n",
       "       'Польша - Ирландия', 'Ирландия - Великобритания - Франция - США',\n",
       "       'США - Бельгия - Великобритания', 'СССР, ВНР',\n",
       "       'Испания - Франция - США - Великобритания - Бельгия',\n",
       "       'Франция - Дания - США', 'США - Гонконг', 'Бразилия - К;анада',\n",
       "       'Франция-Германия', 'США - Колумбия',\n",
       "       'США - Ирландия - Великобритания - Франция',\n",
       "       'Великобритания - США - Канада', 'Польша - Франция',\n",
       "       'Канада - США - Нидерланды - Великобритания - Аргентина',\n",
       "       'Великобритания - Дания', 'Франция - Бельгия - Япония',\n",
       "       'Россия,  Испания', 'Франция -Бельгия',\n",
       "       'США - Канада - Германия - Франция', 'США-Канада-Франция',\n",
       "       'Россия - Германия', 'Россия-Италия', 'Китай - Гонконг',\n",
       "       'Германия-Австрия-Франция-Италия', 'США-Япония',\n",
       "       'США - Германия - Канада', 'Испания-Мексика',\n",
       "       'США - Япония - Канада - Великобритания - Германия - Франция',\n",
       "       'США -Великобритания - Австралия', 'Россия-Украина-Германия',\n",
       "       'Израиль - Франция - Великобритания - Германия', 'Корея',\n",
       "       'Россия - Болгария', 'США-Индия',\n",
       "       'Германия-Канада-Франция-Бельгия', 'Германия-Кения',\n",
       "       'Франция - Монако', 'Франция-Испания-Швейцария',\n",
       "       'Австрия-Франция-Германия', 'Румыния',\n",
       "       'США-Великобритания-Франция', 'Канада-Великобритания',\n",
       "       'Канада-Бразилия-Япония', 'Германия - Дания - Норвегия',\n",
       "       'Дания - Германия', 'СССР - Италия',\n",
       "       'СССР - ГДР - Польша - Италия',\n",
       "       'США - Испания - Франция - Великобритания', 'Китай',\n",
       "       'Мексика-Аргентина',\n",
       "       'Германия - Великобритания - Италия - Испания',\n",
       "       'Франция-Германия-Великобритания', 'Россия - Германия - Швейцария',\n",
       "       'Франция-Австралия', 'Голландия', 'Швейцария-Франция',\n",
       "       'Россия-Белоруссия', 'Франция - Испания - Тайвань',\n",
       "       'США-Южная Корея-Новая Зеландия', 'Великобритания-Венгрия',\n",
       "       'Россия-Германия', 'Великобритания-Франция-Германия',\n",
       "       'Франция-Германия-Италия', 'Швеция-Финляндия-Франция-Норвегия',\n",
       "       'Франция-Италия', 'Германия-Израиль',\n",
       "       'Швеция - Германия - Дания - Норвегия', 'США-Бельгия',\n",
       "       'Франция-Гонконг-Ирландия', 'Эстония', 'Литва-Россия-Украина',\n",
       "       'Германия - Италия - Франция',\n",
       "       'Великобритания - Австрия - Германия', 'Бельгия - Франция',\n",
       "       'Россия-Казахстан', 'Испания - Мальта',\n",
       "       'Франция-Россия-Румыния-Италия-Бельгия', 'Россия - Польша',\n",
       "       'Испания - Мексика', 'США-Аргентина', 'Великобритания ',\n",
       "       'Израиль-США-Франция', 'США - Новая Зеландия - Япония',\n",
       "       'Франция - Чехия - Великобритания', 'Россия-Польша',\n",
       "       'Германия-Франция-Великобритания', 'США-Германия-Канада',\n",
       "       'США-Гонконг-Китай', 'США - Великобритания - Германия',\n",
       "       'США-Канада-Австралия', 'Япония-США-Франция',\n",
       "       'Франция-Испания-Германия', 'США - Хорватия - Босния-Герцеговина',\n",
       "       'Великобритания - Чехия - Франция - Италия',\n",
       "       'США - Германия - Нидерланды', 'Германия - Франция - Канада',\n",
       "       'Франция-Грузия-Германия-Россия-Украина-Бельгия',\n",
       "       'Великобритания - Франция - Италия', 'Россия - США',\n",
       "       'Франция - Италия - Иран', 'Россия - Азербайджан', 'Греция',\n",
       "       'Дания - США', 'США-Великобритания-Новая Зеландия',\n",
       "       'США-Германия-Австралия', 'США-Канада-Италия',\n",
       "       'США - Япония - Германия', 'Австралия-США',\n",
       "       'Франция - Великобритания - Багамские острова - США',\n",
       "       'Швейцария - Люксембург', 'Швейцария - Австрия',\n",
       "       'Германия - Швейцария', 'Дания-Швеция-Франция-Германия', 'Польша',\n",
       "       'Швейцария-Австрия', 'Бразилия - Канада - США',\n",
       "       'Нидерланды - Россия', 'Португалия', 'Франция-Аргентина',\n",
       "       'Швеция-Франция', 'Франция-Украина', 'Германия-Украина-Нидерланды',\n",
       "       'Италия-Швейцария', 'США-Германия-Великобритания',\n",
       "       'Латвия - Россия', 'Германия-Франция-Великобритания-США',\n",
       "       'Канада - Италия', 'США - Объединенные Арабские Эмираты',\n",
       "       'США-Венгрия', 'Малайзия', 'Россия - Германия - Украина',\n",
       "       'США - Австралия - Мексика', 'Литва - Венгрия', 'Германия - Китай',\n",
       "       'Казахстан', 'Республика Корея',\n",
       "       'США - Германия - Франция - Великобритания - Канада ',\n",
       "       'Бельгия - Германия - Люксембург - Франция', 'Франция - Греция',\n",
       "       'Италия - Канада', 'США - Великобритания - Франция',\n",
       "       'США-Италия-Греция', 'Германия - США - Великобритания - Ирландия',\n",
       "       'Великобритания - Франция - Германия',\n",
       "       'Германия - Нидерланды - ЮАР',\n",
       "       'США-Япония-Германия-Великобритания-Нидерланды',\n",
       "       'США-Япония-Германия-Великобритания',\n",
       "       'Германия - Франция - Польша',\n",
       "       'Таиланд-Великобритания-Франция-Германия-Испания-Нидерланды',\n",
       "       'Германия-Италия-Швейцария',\n",
       "       'Дания - Швеция - Великобритания - Франция - Германия - Нидерланды - Норвегия - Финляндия',\n",
       "       'Франция - Великобритания - Нидерланды - Люксембург',\n",
       "       'Нидерланды-Великобритания-Франция-Италия-Япония',\n",
       "       'Финляндия-Дания-Германия-Ирландия', 'Испания-Аргентина',\n",
       "       'Великобритания - Нидерланды - Франция - США', 'Канада - Мексика',\n",
       "       'США, Франция', 'Канада-Южная Корея-США',\n",
       "       'Великобритания - Франция - Бельгия - США', 'КНР - Канада - США',\n",
       "       'Италия - Франция - Германия',\n",
       "       'Швеция - Германия - Франция - Дания', 'Франция - США - Бельгия',\n",
       "       'Украина - Германия - Латвия - Эстония', 'Австрия - Люксембург',\n",
       "       'Великобритания - КНР', 'Монголия', 'Франция - Дания',\n",
       "       'Швеция - Дания - Финляндия',\n",
       "       'Сингапур - Великобритания - Индонезия - Канада - США',\n",
       "       'США - Германия - Япония', 'Таиланд - США', 'Франция - Нидерланды',\n",
       "       'Великобритания - Румыния', 'США - Мальта',\n",
       "       'Великобритания - Германия - Нидерланды - Дания',\n",
       "       'Франция - Германия - Литва - Нидерланды - Россия',\n",
       "       'США - ЮАР - Гонконг', 'Австралия - Колумбия',\n",
       "       'Великобритания - Польша', 'США - Великобритания - Швеция',\n",
       "       'Франция - Швеция - Дания - Норвегия', 'Болгария - США',\n",
       "       'СССР, ФРГ', 'Бельгия - Нидерланды - Франция',\n",
       "       'Финляндия - Германия', 'Болгария',\n",
       "       'Грузия - Россия - Украина - Хорватия - Германия',\n",
       "       'Франция - Люксембург', 'Франция - Германия - Австрия',\n",
       "       'Норвегия - США', 'Германия-Швеция', 'Франция - Германия - Италия',\n",
       "       'Франция-Германия-Австрия', 'КНР-США',\n",
       "       'Великобритания - Ирландия - США ',\n",
       "       'Дания - Латвия - Россия - США', 'Финляндия - Польша',\n",
       "       'Германия - Бельгия', 'Германия - США - Франция - Испания',\n",
       "       'Бельгия-Германия-Канада-Франция-США-Великобритания',\n",
       "       'Нидерланды - Бельгия - Люксембург', 'Канада-Германия',\n",
       "       'Люксембург - Бельгия - Франция', 'США-Великобритания-Австралия',\n",
       "       'Великобритания, Новая Зеландия', 'Бельгия, Великобритания, США',\n",
       "       'Великобритания, Австралия', 'Исландия, Бельгия',\n",
       "       'Испания - Швейцария - Великобритания - Германия - Новая Зеландия - Нидерланды - Канада',\n",
       "       'Франция, Бельгия', 'Великобритания, США', 'Киргизия-Россия',\n",
       "       'Германия, США', 'Великобритания, США, Испания',\n",
       "       'Италия - Швейцария - Германия', 'Россия, Армения',\n",
       "       'Франция, Германия', 'Китай, Канада, США', 'Германия, Австралия',\n",
       "       'КНР, США', 'США, Великобритания, Люксембург',\n",
       "       'Испания, Ирландия, Бельгия, Франция',\n",
       "       'Великобритания - Гонконг - Венгрия - США - Ирландия',\n",
       "       'США - Пуэрто Рико', 'Аргентина - Испания - Уругвай',\n",
       "       'Израиль - Германия - Франция - Швейцария',\n",
       "       'Великобритания - Мексика - США', 'Испания - Болгария - США',\n",
       "       'Россия-Словакия-Чехия',\n",
       "       'Швейцария - КНР - США - Россия - Республика Корея - Великобритания',\n",
       "       'Россия, Нидерланды, Финляндия',\n",
       "       'Испания - Бельгия - Франция - Португалия - Великобритания',\n",
       "       'Бразилия - Португалия - Франция', 'Швеция - Норвегия',\n",
       "       'Франция - Польша - Бельгия', 'CША', 'Китай, США',\n",
       "       'Италия, Франция, Германия', 'Германия - Австрия - Франция',\n",
       "       'Чехия - Словакия - Хорватия', 'Россия, Польша, Финляндия',\n",
       "       'Россия, Латвия, Чешская Республика',\n",
       "       'Франция - Великобритания - Камбоджа - США - КНР',\n",
       "       'Чехия - Испания - США', 'Германия - Люксембург - Дания',\n",
       "       'Великобритания - Испания - Германия', 'Дания - Исландия',\n",
       "       'Германия, Франция, Великобритания',\n",
       "       'Великобритания - Испания - Италия - Латвия - Франция - Эстония',\n",
       "       'Дания, Швеция, Великобритания, Франция, Германия, Норвегия, Финляндия, Нидерланды, Италия',\n",
       "       'Польша - Франция - Великобритания',\n",
       "       'Дания, Норвегия, Венгрия, Чехия',\n",
       "       'Дания - Франция - Германия - Швеция',\n",
       "       'Великобритания, Швеция, США',\n",
       "       'Канада, Франция, Италия, Швейцария, США', 'США, Индия',\n",
       "       'США - Великобритания - Германия - - Швеция - Канада',\n",
       "       'Италия, Франция', 'Республика Беларусь, Германия, США, Россия',\n",
       "       'Италия-Швейцария-Франция-Германия ',\n",
       "       'Россия - Франция - Великобритания - Латвия', 'Россия-Беларусь',\n",
       "       'Франция - Испания - Румыния - США - Бельгия', 'Италия-США',\n",
       "       'Россия, Австрия', 'Ирландия - Великобритания - США',\n",
       "       'Швейцария, Великобритания, Франция, США, Ирландия',\n",
       "       'Мексика, Франция, Германия, Дания, Швеция', 'Нидерланды, Бельгия',\n",
       "       'Швеция, Норвегия, Финляндия, Франция', 'Испания, Франция, Италия',\n",
       "       'Испания-Франция-Греция-Индия-США-Россия-Великобритания',\n",
       "       'Великобритания - Япония - США',\n",
       "       'Дания, Канада, Норвегия, Австралия, США', 'Аргентина, Испания',\n",
       "       'Россия, Германия, Казахстан, Польша, Китай',\n",
       "       'Португалия, Франция, Польша, США', 'США - Канада - Аргентина',\n",
       "       'Ливан-США', 'Япония - США', 'США, Гонконг ',\n",
       "       'Франция - Россия - Швейцария - Румыния - Венгрия',\n",
       "       'Аргентина-Испания', 'Россия, Сербия', 'США - Болгария - Мексика',\n",
       "       'США - Великобритания - Швейцария - Франция',\n",
       "       'Таиланд - КНР - США',\n",
       "       'Великобритания, Нидерланды, Польша, Швейцария, Франция',\n",
       "       'Ирландия - США',\n",
       "       'Германия - Франция - Великобритания - Польша - США',\n",
       "       'Великобритания-Франция-Италия', 'США - Австралия - Индия',\n",
       "       'Франция - КНР', 'Великобритания - Израиль',\n",
       "       'Великобритания - Норвегия - Кения - Хорватия',\n",
       "       'США - Бразилия - Великобритания - Канада', 'Германия, Бельгия',\n",
       "       'Австралия, Канада', 'США, Великобритания, Франция',\n",
       "       'Кения, Германия', 'Нидерланды, Бельгия, Люксембург', 'Колумбия',\n",
       "       'Латвия - Франция', 'Ирландия, Великобритания',\n",
       "       'Франция - Израиль - Германия', 'Швеция, Франция, Великобритания',\n",
       "       'Бельгия - Люксембург', 'Германия - Бельгия - Великобритания',\n",
       "       'Испания, Франция, Великобритания, Дания, Бельгия, Германия',\n",
       "       'Румыния, ЮАР, Иран, Франция, Канада, Великобритания',\n",
       "       'Германия, Франция', 'США, Япония',\n",
       "       'США, Великобритания, Ирландия, Люксембург', 'Республика Армения',\n",
       "       'США, Франция, Япония', 'Япония, США', 'Канада, США',\n",
       "       'Республика Кипр - Россия',\n",
       "       'Дания - Франция - Италия - Бельгия - Нидерланды',\n",
       "       'Россия - Грузия', 'Италия, Германия', 'Норвегия, Швеция, Дания',\n",
       "       'Республика Кипр, Россия', 'КНР, Индия, Гонконг, США',\n",
       "       'Израиль, Украина', 'США, Россия', 'США - КНР - Индия - Ю.Корея',\n",
       "       'США - Швеция', 'Франция, Канада', 'Россия-Китай',\n",
       "       'Канада, Великобритания', 'США, Германия',\n",
       "       'Канада, США, Каймановы острова',\n",
       "       'Бразилия, Уругвай, Дания, Норвегия, Чили, Швеция',\n",
       "       'Пуэрто-Рико, Великобритания, США',\n",
       "       'Уругвай - Аргентина - Испания',\n",
       "       'США - Великобритания - Италия - Израиль - Сербия - Индия',\n",
       "       'США - Канада - Франция - Индия', 'Великобритания - Россия - КНР',\n",
       "       'Франция, Новая Зеландия', 'Франция, Люксембург, Бельгия',\n",
       "       'Канада, США, Норвегия', 'Италия, Испания',\n",
       "       'Испания - Германия - Нидерланды', 'Бразилия - США - КНР ',\n",
       "       'Великобритания, Германия, Дания, США', '2019',\n",
       "       'Италия - Фрация - Бразилия - Германия',\n",
       "       'Норвегия - Швеция - Россия', 'Великобритания, Япония, США',\n",
       "       'Сша, Канада', 'Бельгия, Канада',\n",
       "       'Великобритания - Австралия - США', 'США, Канада', 'КНР - США ',\n",
       "       'Франция - Финляндия', 'Колумбия - США',\n",
       "       'Великобритания, Франция, Бельгия', 'Норвегия - Нидерланды',\n",
       "       'Великобритания, Канада, США', 'Япония, Великобритания',\n",
       "       'Италия - Бельгия - Франция', 'Россия, Бельгия, Финляндия',\n",
       "       'США, Украина', 'Франция, Норвегия',\n",
       "       'Великобритания, Южная Корея, Канада, США, Индия, Китай, Япония',\n",
       "       'Канада - Норвегия', 'Республика Кипр-Россия', 'Германия, Россия',\n",
       "       'Польша - Франция - Испания - Бразилия - Швеция',\n",
       "       'Австрия, Великобритания, Германия', 'Франция - Сенегал - Бельгия',\n",
       "       'Франция, Бельгия, Люксембург', 'Финляндия, Латвия', 'Пакистан',\n",
       "       'Германия, Франция, США', 'Германия - Великобритания - США',\n",
       "       'КНР - Франция', 'Дания, Норвегия, Швеция, Исландия',\n",
       "       'Республика Кипр, США, Россия', 'Новая Зеландия - КНР',\n",
       "       'Дания - Канада - Швеция - Франция - Германия - Великобритания - США'],\n",
       "      dtype=object)"
      ]
     },
     "execution_count": 15,
     "metadata": {},
     "output_type": "execute_result"
    }
   ],
   "source": [
    "#проверим столбец production_country на уникальные значения\n",
    "data['production_country'].unique()\n",
    "\n",
    "#очень много значений"
   ]
  },
  {
   "cell_type": "code",
   "execution_count": 16,
   "metadata": {},
   "outputs": [
    {
     "data": {
      "text/plain": [
       "array([nan, 'Министерство культуры', 'Фонд кино',\n",
       "       'Министерство культуры, Фонд кино'], dtype=object)"
      ]
     },
     "execution_count": 16,
     "metadata": {},
     "output_type": "execute_result"
    }
   ],
   "source": [
    "#проверим столбец financing_source на уникальные значения\n",
    "data['financing_source'].unique()\n",
    "\n",
    "#по значениям - все нормально"
   ]
  },
  {
   "cell_type": "code",
   "execution_count": 17,
   "metadata": {},
   "outputs": [
    {
     "data": {
      "text/plain": [
       "array([7.2, 6.6, 6.8, 7.7, 8.3, 8. , 7.8, 8.1, 7.1, 6. , 7.4, 5.8, 8.7,\n",
       "       6.3, 6.9, 5. , 4.3, 7.3, 7. , 6.4, nan, 8.2, 7.5, 6.7, 7.9, 5.9,\n",
       "       6.2, 5.6, 6.5, 2.4, 7.6, 6.1, 8.6, 8.5, 8.8, 5.5, 5.1, 5.7, 5.4,\n",
       "       4.4, 4.5, 5.3, 4.1, 8.4, 2.6, 3.8, 4.6, 4.8, 4. , 3. , 1.6, 4.2,\n",
       "       5.2, 4.7, 4.9, 3.9, 2.7, 3.3, 2.9, 3.7, 1.4, 3.1, 3.5, 3.2, 2.8,\n",
       "       1.5, 2.1, 2.5, 9.2, 3.4, 1.1, 3.6, 1. , 1.3, 1.9, 1.8, 1.2, 1.7,\n",
       "       9. , 8.9, 9.1])"
      ]
     },
     "execution_count": 17,
     "metadata": {},
     "output_type": "execute_result"
    }
   ],
   "source": [
    "#проверим столбец ratings на уникальные значения\n",
    "data['ratings'].unique()\n",
    "\n",
    "#по значениям - все нормально. но шкала значений слишком подробная"
   ]
  },
  {
   "cell_type": "code",
   "execution_count": 18,
   "metadata": {},
   "outputs": [
    {
     "data": {
      "text/plain": [
       "array(['«18+» - запрещено для детей', '«6+» - для детей старше 6 лет',\n",
       "       '«12+» - для детей старше 12 лет',\n",
       "       '«16+» - для детей старше 16 лет',\n",
       "       '«0+» - для любой зрительской аудитории'], dtype=object)"
      ]
     },
     "execution_count": 18,
     "metadata": {},
     "output_type": "execute_result"
    }
   ],
   "source": [
    "#проверим столбец age_restriction на уникальные значения\n",
    "data['age_restriction'].unique()\n",
    "\n",
    "#по значениям - все нормально"
   ]
  },
  {
   "cell_type": "code",
   "execution_count": 19,
   "metadata": {
    "scrolled": true
   },
   "outputs": [
    {
     "data": {
      "text/plain": [
       "array(['боевик,драма,мелодрама', 'драма,военный',\n",
       "       'фантастика,боевик,триллер', 'драма', 'мелодрама,комедия',\n",
       "       'мюзикл,мелодрама,комедия', 'комедия,криминал',\n",
       "       'боевик,триллер,детектив', 'боевик,драма,приключения',\n",
       "       'драма,спорт', 'триллер,драма,мелодрама', 'комедия,мелодрама',\n",
       "       'драма,мелодрама,комедия', 'драма,мелодрама', 'драма,история',\n",
       "       'драма,мелодрама,семейный', 'комедия,мелодрама,криминал',\n",
       "       'комедия', 'боевик,драма,криминал', 'драма,комедия',\n",
       "       'ужасы,фантастика,комедия', 'мультфильм,короткометражка,мелодрама',\n",
       "       'драма,криминал', 'мультфильм,фантастика,фэнтези',\n",
       "       'триллер,драма,криминал', 'драма,мелодрама,биография',\n",
       "       'драма,комедия,военный', 'фантастика,драма,детектив',\n",
       "       'мюзикл,семейный', 'unknown', 'военный,приключения,драма',\n",
       "       'документальный,драма', 'драма,биография,история',\n",
       "       'боевик,триллер,драма', 'фэнтези,боевик',\n",
       "       'боевик,комедия,криминал', 'мюзикл,комедия,детский',\n",
       "       'комедия,мелодрама,драма', 'мультфильм,фэнтези,комедия',\n",
       "       'комедия,история', 'мелодрама', 'драма,биография,музыка',\n",
       "       'фэнтези,драма,мелодрама', 'триллер,военный',\n",
       "       'драма,мелодрама,военный', 'мюзикл,драма,мелодрама',\n",
       "       'мюзикл,комедия', 'мультфильм,приключения,семейный',\n",
       "       'ужасы,триллер', 'боевик,драма,военный', 'драма,боевик',\n",
       "       'мультфильм,драма,комедия', 'триллер,криминал',\n",
       "       'военный,биография,драма', 'комедия,семейный', 'военный',\n",
       "       'драма,семейный,биография', 'фэнтези,приключения,семейный',\n",
       "       'драма,криминал,биография', 'ужасы,триллер,детектив',\n",
       "       'боевик,история,драма', 'ужасы,триллер,драма',\n",
       "       'драма,криминал,спорт', 'документальный,короткометражка',\n",
       "       'триллер,драма', 'криминал,детектив,приключения',\n",
       "       'драма,комедия,криминал', 'драма,комедия,вестерн',\n",
       "       'драма,мелодрама,детектив', 'мелодрама,биография',\n",
       "       'фэнтези,мелодрама,драма', 'драма,мелодрама,история',\n",
       "       'комедия,приключения,история', 'приключения', 'драма,семейный',\n",
       "       'криминал,детектив', 'мультфильм,короткометражка,ужасы',\n",
       "       'фантастика,триллер,драма', 'фэнтези,мелодрама,комедия',\n",
       "       'драма,биография', 'комедия,криминал,история',\n",
       "       'триллер,драма,детектив', 'фантастика,комедия,приключения',\n",
       "       'фэнтези,семейный', 'ужасы,фантастика,боевик',\n",
       "       'мелодрама,криминал', 'комедия,приключения,мелодрама',\n",
       "       'боевик,триллер,приключения', 'боевик,приключения',\n",
       "       'боевик,триллер,криминал', 'документальный,военный,история',\n",
       "       'драма,музыка', 'боевик,драма', 'приключения,боевик',\n",
       "       'драма,военный,биография', 'триллер,драма,приключения',\n",
       "       'аниме,мультфильм,фэнтези', 'триллер,детектив,драма',\n",
       "       'боевик,триллер,мелодрама', 'боевик,история',\n",
       "       'приключения,история', 'драма,комедия,приключения',\n",
       "       'фэнтези,комедия,приключения', 'драма,вестерн',\n",
       "       'документальный,музыка', 'мелодрама,драма',\n",
       "       'триллер,криминал,детектив', 'ужасы', 'боевик,комедия,приключения',\n",
       "       'мультфильм,фэнтези,боевик', 'боевик,фэнтези,драма',\n",
       "       'фэнтези,драма', 'фэнтези,боевик,комедия',\n",
       "       'приключения,детский,комедия', 'документальный',\n",
       "       'боевик,триллер,комедия', 'мелодрама,комедия,криминал',\n",
       "       'драма,детектив', 'мюзикл,ужасы,триллер', 'детектив,триллер,ужасы',\n",
       "       'ужасы,фэнтези', 'ужасы,фэнтези,триллер', 'мультфильм,драма',\n",
       "       'ужасы,боевик,фантастика', 'боевик', 'фантастика,боевик',\n",
       "       'мелодрама,комедия,приключения', 'триллер,детектив',\n",
       "       'мюзикл,мелодрама,фэнтези', 'криминал', 'триллер,комедия,криминал',\n",
       "       'боевик,приключения,триллер', 'триллер,драма,военный',\n",
       "       'комедия,семейный,музыка', 'комедия,фантастика,мелодрама',\n",
       "       'фантастика,триллер,криминал', 'комедия,драма', 'боевик,военный',\n",
       "       'ужасы,фантастика,триллер', 'фантастика,драма,мелодрама',\n",
       "       'фэнтези,драма,детектив', 'боевик,триллер', 'боевик,драма,история',\n",
       "       'мультфильм,мюзикл,фэнтези', 'для взрослых,драма,мелодрама',\n",
       "       'мультфильм,боевик,детектив', 'фантастика,мелодрама,боевик',\n",
       "       'ужасы,фантастика,детектив', 'фантастика,боевик,приключения',\n",
       "       'мелодрама,комедия,спорт', 'комедия,боевик,приключения',\n",
       "       'документальный,приключения', 'мультфильм,короткометражка,детский',\n",
       "       'комедия,приключения', 'ужасы,драма', 'ужасы,фэнтези,боевик',\n",
       "       'мультфильм,фэнтези,детский', 'мюзикл,боевик,драма',\n",
       "       'семейный,комедия,драма', 'концерт,музыка', 'фэнтези,боевик,драма',\n",
       "       'драма,комедия,музыка', 'фантастика,фэнтези,боевик',\n",
       "       'фэнтези,комедия,семейный', 'фэнтези,драма,комедия',\n",
       "       'мультфильм,мюзикл,драма', 'триллер', 'боевик,криминал,триллер',\n",
       "       'мультфильм,приключения,драма', 'мелодрама,музыка',\n",
       "       'документальный,музыка,концерт', 'мультфильм,семейный',\n",
       "       'мультфильм,комедия,приключения', 'мультфильм,комедия,семейный',\n",
       "       'фантастика,драма', 'фэнтези,боевик,приключения',\n",
       "       'мультфильм,приключения', 'драма,военный,история', 'история',\n",
       "       'драма,приключения,военный',\n",
       "       'документальный,короткометражка,семейный',\n",
       "       'мелодрама,история,триллер', 'ужасы,детектив',\n",
       "       'мюзикл,комедия,приключения', 'драма,спорт,биография',\n",
       "       'фантастика,боевик,комедия', 'фантастика,приключения,детектив',\n",
       "       'короткометражка,драма,военный', 'драма,мультфильм',\n",
       "       'приключения,семейный', 'детектив', 'триллер,приключения',\n",
       "       'аниме,мультфильм,боевик', 'драма,комедия,биография',\n",
       "       'драма,комедия,спорт', 'боевик,мелодрама,комедия',\n",
       "       'семейный,комедия', 'фэнтези,боевик,триллер',\n",
       "       'документальный,фэнтези,семейный', 'фантастика,фэнтези,драма',\n",
       "       'ужасы,комедия,фэнтези', 'документальный,биография,музыка',\n",
       "       'фантастика,боевик,фэнтези', 'ужасы,боевик,триллер',\n",
       "       'комедия,криминал,семейный', 'приключения,драма',\n",
       "       'криминал,драма,триллер', 'драма,детектив,криминал',\n",
       "       'фэнтези,приключения,комедия', 'комедия,спорт',\n",
       "       'мюзикл,фэнтези,мелодрама', 'мультфильм,фэнтези,приключения',\n",
       "       'фантастика,фэнтези,приключения', 'фэнтези',\n",
       "       'фэнтези,приключения,боевик', 'фантастика,боевик,драма',\n",
       "       'криминал,драма', 'криминал,триллер,драма',\n",
       "       'драма,мелодрама,приключения', 'детский,комедия',\n",
       "       'фантастика,драма,боевик', 'мультфильм,семейный,фэнтези',\n",
       "       'концерт,музыка,документальный', 'ужасы,комедия,приключения',\n",
       "       'драма,мелодрама,криминал', 'ужасы,фантастика,фэнтези',\n",
       "       'боевик,комедия', 'мультфильм,фантастика,комедия', 'триллер,ужасы',\n",
       "       'мультфильм,мюзикл,комедия', 'мелодрама,фэнтези,триллер',\n",
       "       'детский,приключения,комедия', 'комедия,детектив',\n",
       "       'аниме,мультфильм,мелодрама', 'документальный,драма,семейный',\n",
       "       'документальный,биография,история', 'военный,боевик,драма',\n",
       "       'ужасы,комедия', 'комедия,приключения,семейный',\n",
       "       'приключения,биография,история', 'детский,приключения,семейный',\n",
       "       'спорт,драма,биография', 'аниме,мультфильм,ужасы',\n",
       "       'фантастика,боевик,криминал', 'мюзикл,драма',\n",
       "       'драма,криминал,детектив', 'аниме,мультфильм,драма',\n",
       "       'драма,триллер,приключения', 'триллер,криминал,драма',\n",
       "       'фэнтези,комедия,драма', 'мультфильм,комедия',\n",
       "       'драма,комедия,история', 'комедия,биография,история',\n",
       "       'мультфильм,фантастика,приключения', 'аниме,мультфильм,фантастика',\n",
       "       'мультфильм,фэнтези,семейный', 'мультфильм,боевик,комедия',\n",
       "       'комедия,криминал,спорт', 'документальный,мюзикл',\n",
       "       'мелодрама,комедия,музыка', 'биография',\n",
       "       'триллер,криминал,комедия', 'фантастика,драма,комедия',\n",
       "       'комедия,драма,мелодрама', 'фантастика,приключения,боевик',\n",
       "       'мультфильм,фэнтези,драма', 'триллер,комедия',\n",
       "       'драма,приключения,биография', 'фантастика,комедия',\n",
       "       'мелодрама,драма,комедия', 'боевик,криминал',\n",
       "       'драма,криминал,боевик', 'мультфильм,мюзикл,детский',\n",
       "       'драма,фэнтези', 'документальный,семейный',\n",
       "       'фэнтези,драма,приключения', 'ужасы,комедия,фантастика',\n",
       "       'драма,мелодрама,музыка', 'фэнтези,драма,семейный',\n",
       "       'триллер,мелодрама,драма', 'вестерн,боевик,драма',\n",
       "       'мультфильм,короткометражка,комедия', 'триллер,драма,история',\n",
       "       'ужасы,фантастика', 'ужасы,мелодрама,комедия',\n",
       "       'фэнтези,приключения', 'фантастика,триллер',\n",
       "       'ужасы,боевик,фэнтези', 'мультфильм,комедия,детский',\n",
       "       'триллер,драма,биография', 'мультфильм,ужасы,фэнтези',\n",
       "       'мультфильм,ужасы,фантастика', 'ужасы,боевик,комедия',\n",
       "       'драма,биография,спорт', 'мультфильм', 'мелодрама,комедия,драма',\n",
       "       'приключения,фантастика,семейный', 'комедия,криминал,детектив',\n",
       "       'ужасы,триллер,комедия', 'криминал,комедия,триллер',\n",
       "       'семейный,приключения,комедия', 'мультфильм,драма,приключения',\n",
       "       'ужасы,драма,детектив', 'драма,приключения,фэнтези',\n",
       "       'фантастика,мультфильм,драма', 'драма,триллер,детектив',\n",
       "       'драма,история,музыка', 'детский', 'триллер,боевик,криминал',\n",
       "       'драма,фантастика', 'комедия,драма,семейный',\n",
       "       'боевик,драма,комедия', 'комедия,ужасы',\n",
       "       'драма,фантастика,триллер', 'фантастика,драма,триллер',\n",
       "       'история,спорт,драма', 'документальный,биография',\n",
       "       'биография,история', 'спорт,драма', 'боевик,фэнтези',\n",
       "       'мультфильм,фэнтези', 'документальный,комедия,история',\n",
       "       'криминал,комедия,боевик', 'фэнтези,приключения,драма',\n",
       "       'музыка,концерт', 'триллер,драма,боевик',\n",
       "       'комедия,криминал,боевик', 'комедия,фантастика,боевик',\n",
       "       'вестерн,приключения,боевик', 'аниме,мультфильм,комедия',\n",
       "       'детектив,криминал,триллер', 'мультфильм,комедия,криминал',\n",
       "       'комедия,приключения,детектив', 'мелодрама,фантастика,драма',\n",
       "       'драма,комедия,семейный', 'приключения,фантастика',\n",
       "       'триллер,детектив,ужасы', 'комедия,приключения,фэнтези',\n",
       "       'фэнтези,триллер,драма', 'мелодрама,приключения,боевик',\n",
       "       'детектив,триллер,криминал', 'фэнтези,семейный,мелодрама',\n",
       "       'военный,драма', 'документальный,приключения,семейный',\n",
       "       'криминал,комедия,драма', 'комедия,фантастика',\n",
       "       'история,биография,драма', 'мелодрама,драма,музыка',\n",
       "       'боевик,мелодрама', 'комедия,криминал,триллер',\n",
       "       'детектив,триллер,боевик', 'комедия,боевик,криминал',\n",
       "       'комедия,вестерн', 'детский,мелодрама,семейный',\n",
       "       'короткометражка,мультфильм', 'комедия,фэнтези',\n",
       "       'фантастика,драма,ужасы', 'триллер,драма,ужасы',\n",
       "       'драма,фэнтези,история', 'комедия,драма,короткометражка',\n",
       "       'фэнтези,триллер,приключения', 'семейный',\n",
       "       'комедия,криминал,драма', 'комедия,фэнтези,ужасы',\n",
       "       'короткометражка,комедия,криминал', 'фантастика',\n",
       "       'триллер,ужасы,драма', 'мелодрама,драма,фэнтези',\n",
       "       'фантастика,приключения,драма', 'боевик,детектив',\n",
       "       'военный,драма,боевик', 'комедия,мелодрама,фэнтези',\n",
       "       'вестерн,криминал,триллер', 'драма,история,триллер',\n",
       "       'мультфильм,фантастика,боевик', 'детектив,драма,криминал',\n",
       "       'приключения,история,драма', 'мультфильм,семейный,детский',\n",
       "       'биография,драма,история', 'триллер,криминал,боевик',\n",
       "       'история,мелодрама', 'приключения,детский',\n",
       "       'музыка,приключения,концерт', 'военный,драма,комедия',\n",
       "       'фэнтези,боевик,военный', 'фантастика,детектив,боевик',\n",
       "       'мультфильм,фэнтези,история', 'биография,мелодрама,драма',\n",
       "       'документальный,биография,спорт', 'фантастика,комедия,детектив',\n",
       "       'музыка,концерт,документальный', 'триллер,боевик,приключения',\n",
       "       'триллер,драма,комедия', 'детектив,криминал',\n",
       "       'мультфильм,приключения,фэнтези', 'мелодрама,приключения',\n",
       "       'комедия,музыка', 'мелодрама,комедия,ужасы',\n",
       "       'драма,криминал,приключения', 'приключения,детектив,мелодрама',\n",
       "       'драма,криминал,фантастика', 'фэнтези,драма,биография',\n",
       "       'детектив,фантастика,криминал', 'триллер,драма,фантастика',\n",
       "       'ужасы,комедия,боевик', 'мелодрама,история', 'триллер,боевик',\n",
       "       'фильм-нуар,триллер,детектив', 'комедия,криминал,приключения',\n",
       "       'ужасы,триллер,мелодрама', 'военный,драма,история',\n",
       "       'драма,спорт,история', 'документальный,драма,история',\n",
       "       'триллер,мелодрама,детектив', 'детский,семейный',\n",
       "       'мюзикл,семейный,драма', 'биография,военный,драма',\n",
       "       'мультфильм,детский', 'боевик,криминал,драма',\n",
       "       'детектив,фэнтези,триллер', 'драма,боевик,приключения',\n",
       "       'драма,мелодрама,фэнтези', 'детектив,история,драма',\n",
       "       'фэнтези,боевик,ужасы', 'ужасы,фэнтези,мелодрама',\n",
       "       'ужасы,приключения', 'боевик,фантастика',\n",
       "       'ужасы,мелодрама,детектив', 'фантастика,триллер,приключения',\n",
       "       'боевик,приключения,история', 'приключения,боевик,триллер',\n",
       "       'детектив,ужасы,криминал', 'семейный,фэнтези', 'мюзикл,мелодрама',\n",
       "       'драма,военный,приключения', 'фантастика,драма,приключения',\n",
       "       'приключения,семейный,драма', 'история,драма,боевик',\n",
       "       'мультфильм,приключения,комедия', 'криминал,драма,комедия',\n",
       "       'ужасы,комедия,драма', 'комедия,семейный,приключения',\n",
       "       'мюзикл,фэнтези,драма', 'драма,вестерн,боевик',\n",
       "       'фантастика,триллер,детектив', 'драма,история,детектив',\n",
       "       'короткометражка,биография', 'мультфильм,приключения,фантастика',\n",
       "       'комедия,триллер', 'мультфильм,приключения,детектив',\n",
       "       'драма,триллер', 'ужасы,триллер,криминал',\n",
       "       'документальный,криминал,военный', 'ужасы,фэнтези,драма',\n",
       "       'фэнтези,комедия', 'ужасы,фэнтези,комедия', 'комедия,музыка,драма',\n",
       "       'мультфильм,приключения,военный', 'мюзикл,фэнтези,комедия',\n",
       "       'боевик,фантастика,приключения', 'триллер,ужасы,криминал',\n",
       "       'ужасы,фантастика,драма', 'фантастика,приключения,семейный',\n",
       "       'короткометражка,музыка', 'мелодрама,детектив,комедия',\n",
       "       'документальный,триллер,биография', 'боевик,фантастика,триллер',\n",
       "       'спорт,драма,комедия', 'фэнтези,мелодрама,приключения',\n",
       "       'триллер,детектив,криминал', 'короткометражка,мелодрама',\n",
       "       'мультфильм,семейный,спорт', 'комедия,фэнтези,мелодрама',\n",
       "       'драма,спорт,комедия', 'история,драма,мелодрама',\n",
       "       'драма,боевик,криминал', 'драма,комедия,триллер',\n",
       "       'аниме,мультфильм', 'документальный,ужасы',\n",
       "       'мультфильм,короткометражка', 'драма,история,военный',\n",
       "       'мультфильм,короткометражка,фэнтези', 'комедия,военный,музыка',\n",
       "       'биография,история,драма', 'ужасы,драма,мелодрама',\n",
       "       'драма,комедия,детектив', 'комедия,семейный,фантастика',\n",
       "       'мультфильм,семейный,комедия', 'история,детектив',\n",
       "       'приключения,мелодрама,детектив', 'мюзикл,комедия,мелодрама',\n",
       "       'драма,фантастика,ужасы', 'мультфильм,ужасы,комедия',\n",
       "       'для взрослых,драма,комедия', 'ужасы,комедия,музыка',\n",
       "       'комедия,история,драма', 'семейный,детектив,детский',\n",
       "       'короткометражка,драма', 'документальный,новости,драма',\n",
       "       'триллер,мелодрама', 'ужасы,драма,вестерн',\n",
       "       'мюзикл,фэнтези,семейный', 'вестерн,драма,триллер',\n",
       "       'приключения,вестерн,боевик', 'семейный,комедия,музыка',\n",
       "       'боевик,драма,вестерн', 'ужасы,драма,триллер',\n",
       "       'фантастика,мелодрама', 'комедия,криминал,биография',\n",
       "       'семейный,мультфильм,комедия', 'комедия,драма,криминал',\n",
       "       'фантастика,боевик,военный', 'приключения,биография,драма',\n",
       "       'приключения,триллер,биография', 'криминал,боевик,триллер',\n",
       "       'боевик,вестерн,приключения', 'история,драма',\n",
       "       'фантастика,фэнтези,комедия', 'мультфильм,детский,комедия',\n",
       "       'мелодрама,комедия,триллер', 'документальный,боевик,приключения',\n",
       "       'драма,приключения', 'мелодрама,военный,драма', 'триллер,фэнтези',\n",
       "       'драма,триллер,биография', 'фэнтези,боевик,семейный',\n",
       "       'фантастика,триллер,комедия', 'документальный,фэнтези',\n",
       "       'комедия,мультфильм,фантастика', 'криминал,биография,комедия',\n",
       "       'биография,спорт,драма', 'приключения,военный',\n",
       "       'мультфильм,семейный,драма', 'документальный,фэнтези,драма',\n",
       "       'комедия,боевик,фантастика', 'семейный,приключения,военный',\n",
       "       'триллер,ужасы,детектив', 'короткометражка',\n",
       "       'мелодрама,триллер,история', 'документальный,история',\n",
       "       'мультфильм,приключения,детский', 'драма,комедия,мультфильм',\n",
       "       'военный,детектив', 'семейный,приключения,документальный',\n",
       "       'детский,фэнтези', 'документальный,комедия', 'комедия,биография',\n",
       "       'криминал,комедия', 'спорт,мелодрама,криминал',\n",
       "       'фантастика,комедия,боевик', 'боевик,приключения,детектив',\n",
       "       'детектив,триллер,драма', 'документальный,фантастика',\n",
       "       'мелодрама,комедия,семейный', 'мультфильм,мелодрама,комедия',\n",
       "       'драма,спорт,семейный', 'фантастика,мелодрама,фэнтези',\n",
       "       'мюзикл,комедия,музыка', 'фантастика,триллер,мелодрама',\n",
       "       'приключения,комедия,фэнтези', 'фэнтези,боевик,детектив',\n",
       "       'фэнтези,боевик,мелодрама', 'комедия,военный',\n",
       "       'драма,спорт,боевик', 'мультфильм,боевик,триллер',\n",
       "       'мелодрама,семейный', 'фантастика,боевик,детектив',\n",
       "       'драма,приключения,история', 'документальный,драма,музыка',\n",
       "       'фантастика,триллер,боевик', 'фэнтези,боевик,вестерн',\n",
       "       'драма,комедия,мелодрама', 'ужасы,фэнтези,приключения',\n",
       "       'триллер,фэнтези,драма', 'мультфильм,мюзикл,мелодрама',\n",
       "       'ужасы,триллер,фантастика', 'триллер,мелодрама,комедия',\n",
       "       'ужасы,комедия,семейный', 'комедия,приключения,музыка',\n",
       "       'документальный,комедия,криминал', 'мелодрама,детектив',\n",
       "       'детский,приключения,фантастика', 'короткометражка,боевик,драма',\n",
       "       'боевик,комедия,семейный', 'фантастика,боевик,мелодрама',\n",
       "       'фэнтези,триллер,мелодрама', 'драма,детектив,история',\n",
       "       'боевик,криминал,детектив', 'мультфильм,фэнтези,мелодрама',\n",
       "       'мелодрама,драма,боевик', 'драма,вестерн,приключения',\n",
       "       'драма,приключения,мелодрама', 'фэнтези,боевик,криминал',\n",
       "       'фантастика,комедия,семейный', 'детский,фэнтези,приключения',\n",
       "       'ужасы,боевик', 'фантастика,мелодрама,комедия',\n",
       "       'семейный,спорт,боевик', 'триллер,биография,драма',\n",
       "       'ужасы,драма,комедия', 'мультфильм,фэнтези,триллер', 'мюзикл',\n",
       "       'боевик,спорт,драма', 'комедия,приключения,вестерн',\n",
       "       'документальный,ужасы,боевик', 'фантастика,боевик,семейный',\n",
       "       'военный,история', 'ужасы,боевик,криминал', 'детектив,триллер',\n",
       "       'драма,семейный,комедия', 'драма,детектив,приключения',\n",
       "       'драма,криминал,история', 'приключения,триллер',\n",
       "       'боевик,драма,биография', 'драма,приключения,триллер',\n",
       "       'комедия,фэнтези,приключения', 'фантастика,боевик,ужасы',\n",
       "       'драма,комедия,фантастика', 'детектив,криминал,драма',\n",
       "       'боевик,триллер,фэнтези', 'приключения,детектив,семейный',\n",
       "       'ужасы,комедия,криминал', 'мультфильм,биография,драма',\n",
       "       'история,боевик,фэнтези', 'детектив,криминал,боевик',\n",
       "       'приключения,фэнтези', 'комедия,приключения,спорт',\n",
       "       'драма,биография,мюзикл', 'комедия,семейный,фэнтези',\n",
       "       'детектив,драма,триллер', 'боевик,приключения,семейный',\n",
       "       'биография,спорт,комедия', 'фантастика,приключения,военный',\n",
       "       'документальный,драма,биография', 'детектив,приключения,драма',\n",
       "       'аниме,мультфильм,приключения', 'семейный,приключения',\n",
       "       'ужасы,фэнтези,детектив', 'семейный,документальный',\n",
       "       'драма,приключения,семейный', 'приключения,история,военный',\n",
       "       'фэнтези,мелодрама', 'фэнтези,триллер,детектив',\n",
       "       'документальный,спорт,биография', 'комедия,триллер,драма',\n",
       "       'драма,ужасы', 'биография,музыка,драма', 'фэнтези,ужасы',\n",
       "       'детектив,мелодрама,фэнтези', 'боевик,военный,история',\n",
       "       'биография,драма,криминал', 'триллер,мелодрама,криминал',\n",
       "       'семейный,мелодрама', 'биография,драма', 'военный,история,драма',\n",
       "       'фантастика,детектив,фэнтези', 'детектив,приключения,триллер',\n",
       "       'фантастика,приключения', 'мультфильм,короткометражка,мюзикл',\n",
       "       'мультфильм,детский,семейный', 'документальный,драма,комедия',\n",
       "       'комедия,приключения,криминал', 'документальный,семейный,музыка',\n",
       "       'мелодрама,музыка,драма', 'детектив,фантастика,триллер',\n",
       "       'драма,мелодрама,триллер', 'биография,драма,военный',\n",
       "       'приключения,фантастика,драма', 'детектив,фильм-нуар,комедия',\n",
       "       'документальный,спорт', 'триллер,фантастика,драма',\n",
       "       'биография,документальный', 'ужасы,фантастика,мелодрама',\n",
       "       'детектив,комедия', 'история,биография,военный',\n",
       "       'криминал,мелодрама', 'драма,криминал,вестерн',\n",
       "       'мелодрама,семейный,приключения', 'триллер,ужасы,мелодрама',\n",
       "       'фэнтези,драма,фильм-нуар', 'детектив,мелодрама',\n",
       "       'комедия,драма,биография', 'драма,военный,боевик',\n",
       "       'драма,комедия,ужасы', 'фантастика,драма,криминал',\n",
       "       'документальный,музыка,биография', 'мультфильм,боевик,приключения',\n",
       "       'короткометражка,фантастика', 'мультфильм,мелодрама,драма',\n",
       "       'боевик,военный,драма', 'фэнтези,семейный,приключения',\n",
       "       'детский,мультфильм,приключения', 'семейный,фэнтези,комедия',\n",
       "       'фэнтези,ужасы,триллер', 'ужасы,триллер,приключения',\n",
       "       'драма,боевик,история', 'фэнтези,комедия,детектив',\n",
       "       'история,приключения', 'аниме,мультфильм,короткометражка',\n",
       "       'драма,военный,триллер', 'биография,криминал,триллер',\n",
       "       'фантастика,фэнтези,детектив', 'вестерн,биография,драма',\n",
       "       'биография,музыка,мюзикл', 'драма,история,биография',\n",
       "       'приключения,драма,фантастика', 'комедия,фэнтези,криминал',\n",
       "       'биография,спорт,история', 'драма,криминал,семейный',\n",
       "       'детектив,боевик,история', 'ужасы,комедия,детектив',\n",
       "       'триллер,приключения,драма', 'фэнтези,комедия,криминал',\n",
       "       'триллер,криминал,приключения', 'комедия,детектив,приключения',\n",
       "       'фэнтези,драма,ужасы', 'ужасы,драма,военный', 'реальное ТВ',\n",
       "       'аниме,мультфильм,детектив', 'приключения,фэнтези,семейный',\n",
       "       'драма,биография,комедия', 'триллер,комедия,ужасы',\n",
       "       'музыка,мелодрама,фэнтези', 'мультфильм,история',\n",
       "       'мультфильм,комедия,фантастика', 'биография,криминал,драма',\n",
       "       'комедия,мелодрама,фантастика', 'криминал,боевик,комедия',\n",
       "       'история,криминал', 'детектив,комедия,драма',\n",
       "       'триллер,фантастика,боевик', 'криминал,боевик',\n",
       "       'комедия,драма,военный', 'драма,триллер,криминал',\n",
       "       'мультфильм,мелодрама,приключения', 'фантастика,фэнтези,триллер',\n",
       "       'короткометражка,драма,триллер', 'военный,боевик,история',\n",
       "       'боевик,драма,триллер', 'документальный,военный,драма',\n",
       "       'драма,криминал,фильм-нуар', 'мультфильм,детский,приключения',\n",
       "       'мелодрама,история,драма'], dtype=object)"
      ]
     },
     "execution_count": 19,
     "metadata": {},
     "output_type": "execute_result"
    }
   ],
   "source": [
    "#проверим столбец genres на уникальные значения\n",
    "data['genres'].unique()\n",
    "\n",
    "#здесь очень много значений. обработаем этот столбец ниже"
   ]
  },
  {
   "cell_type": "markdown",
   "metadata": {},
   "source": [
    "- Одна из основных проблем в данных столбцах - встречаются неявные дубликаты. Например, в \"жанр фильма\" встречаются значения: 'мелодрама,драма' и 'драма,мелорама'. А в \"страна-производитель\": 'Бразилия - США' и 'США - Бразилия' - оба примера - это неявные дубликаты. Из-за этого получается много уникальных значений, которые трудно обрабатывать, проводить по ним группировки и осуществлять анализ данных. \n",
    "- Есть и явные дубликаты типа: 'СССР  ', 'СССР ', ' СССР ', ' СССР   ', 'СССР     '. - значения с разным количеством пробелов.\n",
    "- Есть и ошибка. Например в \"страна-производитель\" значение: '2019'.\n"
   ]
  },
  {
   "cell_type": "markdown",
   "metadata": {
    "id": "XFSN5lrEgFyR"
   },
   "source": [
    "#### Шаг 2.5. Проверим количественные значения"
   ]
  },
  {
   "cell_type": "markdown",
   "metadata": {
    "id": "YbzClBxagFyS"
   },
   "source": [
    "Проверим значения в количественных столбцах"
   ]
  },
  {
   "cell_type": "code",
   "execution_count": 20,
   "metadata": {},
   "outputs": [
    {
     "data": {
      "text/plain": [
       "20200688312.0"
      ]
     },
     "execution_count": 20,
     "metadata": {},
     "output_type": "execute_result"
    }
   ],
   "source": [
    "#посмотрим в каком соотношении сумма поддержки на производство фильма и бюджет фильма\n",
    "#сумма поддержки состоит из возвратных и невозвратных инвестиций\n",
    "sum_support = data['refundable_support'].sum() + data['nonrefundable_support'].sum()\n",
    "sum_support"
   ]
  },
  {
   "cell_type": "code",
   "execution_count": 21,
   "metadata": {},
   "outputs": [
    {
     "data": {
      "text/plain": [
       "42240265939.0"
      ]
     },
     "execution_count": 21,
     "metadata": {},
     "output_type": "execute_result"
    }
   ],
   "source": [
    "#посмотрим сумму бюджета в фильмах, которые получили госпооержку\n",
    "sum_budget_with_support = data.query('financing_source==financing_source')['budget'].sum()\n",
    "sum_budget_with_support"
   ]
  },
  {
   "cell_type": "code",
   "execution_count": 22,
   "metadata": {},
   "outputs": [
    {
     "data": {
      "text/plain": [
       "0.47823298132573816"
      ]
     },
     "execution_count": 22,
     "metadata": {},
     "output_type": "execute_result"
    }
   ],
   "source": [
    "#посчитаем сумма поддержки в рамках всего бюджета фильма\n",
    "share_support = sum_support / sum_budget_with_support\n",
    "share_support"
   ]
  },
  {
   "cell_type": "markdown",
   "metadata": {},
   "source": [
    "Порядка 50% - доля господдержки в рамках всего бюджета фильма. Невозвратных инвестиций 1/3. "
   ]
  },
  {
   "cell_type": "code",
   "execution_count": 23,
   "metadata": {},
   "outputs": [
    {
     "data": {
      "text/plain": [
       "count         332.00000\n",
       "mean     11864457.83133\n",
       "std      24916555.26364\n",
       "min             0.00000\n",
       "25%             0.00000\n",
       "50%             0.00000\n",
       "75%      15000000.00000\n",
       "max     180000000.00000\n",
       "Name: refundable_support, dtype: float64"
      ]
     },
     "execution_count": 23,
     "metadata": {},
     "output_type": "execute_result"
    }
   ],
   "source": [
    "#посмотрим значени в refundable_support методом describe\n",
    "data['refundable_support'].describe()\n"
   ]
  },
  {
   "cell_type": "code",
   "execution_count": 24,
   "metadata": {},
   "outputs": [
    {
     "data": {
      "text/plain": [
       "<AxesSubplot:>"
      ]
     },
     "execution_count": 24,
     "metadata": {},
     "output_type": "execute_result"
    },
    {
     "data": {
      "image/png": "[encoded data removed]",
      "text/plain": [
       "<Figure size 432x288 with 1 Axes>"
      ]
     },
     "metadata": {
      "needs_background": "light"
     },
     "output_type": "display_data"
    }
   ],
   "source": [
    "#постоим гистограмму для столбца refundable_support\n",
    "data['refundable_support'].hist(bins = 10, range = (1, 250000000))\n",
    "\n",
    "#здесь все что выше 150 000 000 - единичные значения. но значений не много"
   ]
  },
  {
   "cell_type": "code",
   "execution_count": 25,
   "metadata": {},
   "outputs": [
    {
     "data": {
      "text/plain": [
       "count         332.00000\n",
       "mean     48980988.89157\n",
       "std      59980117.92330\n",
       "min             0.00000\n",
       "25%      25000000.00000\n",
       "50%      30000000.00000\n",
       "75%      40375000.00000\n",
       "max     400000000.00000\n",
       "Name: nonrefundable_support, dtype: float64"
      ]
     },
     "execution_count": 25,
     "metadata": {},
     "output_type": "execute_result"
    }
   ],
   "source": [
    "#посмотрим значени в refundable_support методом describe\n",
    "data['nonrefundable_support'].describe()\n",
    "#среднее знаение намного выше медианного. некоторые фильмы получили очень польшу господдержку"
   ]
  },
  {
   "cell_type": "code",
   "execution_count": 26,
   "metadata": {
    "scrolled": true
   },
   "outputs": [
    {
     "data": {
      "text/plain": [
       "<AxesSubplot:>"
      ]
     },
     "execution_count": 26,
     "metadata": {},
     "output_type": "execute_result"
    },
    {
     "data": {
      "image/png": "[encoded data removed]",
      "text/plain": [
       "<Figure size 432x288 with 1 Axes>"
      ]
     },
     "metadata": {
      "needs_background": "light"
     },
     "output_type": "display_data"
    }
   ],
   "source": [
    "#постоим гистограмму для столбца refundable_support\n",
    "data['nonrefundable_support'].hist(bins = 20, range = (1, 500000000))"
   ]
  },
  {
   "cell_type": "code",
   "execution_count": 27,
   "metadata": {},
   "outputs": [
    {
     "data": {
      "text/plain": [
       "count          332.00000\n",
       "mean     127229716.68373\n",
       "std      188588333.11516\n",
       "min              0.00000\n",
       "25%       42000000.00000\n",
       "50%       68649916.00000\n",
       "75%      141985319.50000\n",
       "max     2305074303.00000\n",
       "Name: budget, dtype: float64"
      ]
     },
     "execution_count": 27,
     "metadata": {},
     "output_type": "execute_result"
    }
   ],
   "source": [
    "#посмотрим значени в budget методом describe\n",
    "data['budget'].describe()\n",
    "\n",
    "#у среднего и медианы разница в 2 раза. есть фильмы с нулевым бюджетом - это нужно исправить"
   ]
  },
  {
   "cell_type": "code",
   "execution_count": 28,
   "metadata": {},
   "outputs": [
    {
     "data": {
      "text/html": [
       "<div>\n",
       "<style scoped>\n",
       "    .dataframe tbody tr th:only-of-type {\n",
       "        vertical-align: middle;\n",
       "    }\n",
       "\n",
       "    .dataframe tbody tr th {\n",
       "        vertical-align: top;\n",
       "    }\n",
       "\n",
       "    .dataframe thead th {\n",
       "        text-align: right;\n",
       "    }\n",
       "</style>\n",
       "<table border=\"1\" class=\"dataframe\">\n",
       "  <thead>\n",
       "    <tr style=\"text-align: right;\">\n",
       "      <th></th>\n",
       "      <th>title</th>\n",
       "      <th>puNumber</th>\n",
       "      <th>show_start_date</th>\n",
       "      <th>type</th>\n",
       "      <th>film_studio</th>\n",
       "      <th>production_country</th>\n",
       "      <th>director</th>\n",
       "      <th>producer</th>\n",
       "      <th>age_restriction</th>\n",
       "      <th>refundable_support</th>\n",
       "      <th>nonrefundable_support</th>\n",
       "      <th>budget</th>\n",
       "      <th>financing_source</th>\n",
       "      <th>ratings</th>\n",
       "      <th>genres</th>\n",
       "      <th>box_office</th>\n",
       "    </tr>\n",
       "  </thead>\n",
       "  <tbody>\n",
       "    <tr>\n",
       "      <th>2053</th>\n",
       "      <td>14+</td>\n",
       "      <td>111023614.00000</td>\n",
       "      <td>2014-12-19 12:00:00+00:00</td>\n",
       "      <td>Художественный</td>\n",
       "      <td>ООО Киностудия  \"Сентябрь\"</td>\n",
       "      <td>Россия</td>\n",
       "      <td>А.Зайцев</td>\n",
       "      <td>О.Гранина, А.Зайцев</td>\n",
       "      <td>«16+» - для детей старше 16 лет</td>\n",
       "      <td>0.00000</td>\n",
       "      <td>23000000.00000</td>\n",
       "      <td>0.00000</td>\n",
       "      <td>Министерство культуры, Фонд кино</td>\n",
       "      <td>6.60000</td>\n",
       "      <td>мелодрама</td>\n",
       "      <td>10234016.10000</td>\n",
       "    </tr>\n",
       "    <tr>\n",
       "      <th>2058</th>\n",
       "      <td>Дуxless 2</td>\n",
       "      <td>111000415.00000</td>\n",
       "      <td>2015-01-26 12:00:00+00:00</td>\n",
       "      <td>Художественный</td>\n",
       "      <td>ООО \"Киностудия \"Слово\", ООО \"Арт Пикчерс Студия\"</td>\n",
       "      <td>Россия</td>\n",
       "      <td>Р.Прыгунов</td>\n",
       "      <td>П.Ануров, Ф.Бондарчук, Д.Рудовский</td>\n",
       "      <td>«16+» - для детей старше 16 лет</td>\n",
       "      <td>0.00000</td>\n",
       "      <td>75000000.00000</td>\n",
       "      <td>0.00000</td>\n",
       "      <td>Фонд кино</td>\n",
       "      <td>6.60000</td>\n",
       "      <td>драма</td>\n",
       "      <td>446163511.00000</td>\n",
       "    </tr>\n",
       "    <tr>\n",
       "      <th>2472</th>\n",
       "      <td>Воин (2015)</td>\n",
       "      <td>111017315.00000</td>\n",
       "      <td>2015-09-28 12:00:00+00:00</td>\n",
       "      <td>Художественный</td>\n",
       "      <td>ООО \"Форпост Продакшн\", ООО \"Арт Пикчерс Студия\"</td>\n",
       "      <td>Россия</td>\n",
       "      <td>А.Андрианов</td>\n",
       "      <td>ООО \"Арт Пикчерс Студия\"</td>\n",
       "      <td>«12+» - для детей старше 12 лет</td>\n",
       "      <td>10000000.00000</td>\n",
       "      <td>70000000.00000</td>\n",
       "      <td>0.00000</td>\n",
       "      <td>Фонд кино</td>\n",
       "      <td>7.80000</td>\n",
       "      <td>боевик,драма,криминал</td>\n",
       "      <td>196572438.40000</td>\n",
       "    </tr>\n",
       "    <tr>\n",
       "      <th>2532</th>\n",
       "      <td>Бармен.</td>\n",
       "      <td>111009615.00000</td>\n",
       "      <td>2015-05-26 12:00:00+00:00</td>\n",
       "      <td>Художественный</td>\n",
       "      <td>АО \"ВайТ Медиа\", ООО \"Арт Пикчерс Студия\"</td>\n",
       "      <td>Россия</td>\n",
       "      <td>Д.Штурманова</td>\n",
       "      <td>Т.Вайнштейн</td>\n",
       "      <td>«16+» - для детей старше 16 лет</td>\n",
       "      <td>20000000.00000</td>\n",
       "      <td>0.00000</td>\n",
       "      <td>0.00000</td>\n",
       "      <td>Фонд кино</td>\n",
       "      <td>6.20000</td>\n",
       "      <td>комедия,фэнтези</td>\n",
       "      <td>67418974.80000</td>\n",
       "    </tr>\n",
       "    <tr>\n",
       "      <th>2615</th>\n",
       "      <td>Савва. Сердце воина</td>\n",
       "      <td>114001715.00000</td>\n",
       "      <td>2015-07-21 12:00:00+00:00</td>\n",
       "      <td>Анимационный</td>\n",
       "      <td>ООО \"Глюкоза Продакшн\", ООО \"Арт Пикчерс Студия\"</td>\n",
       "      <td>Россия</td>\n",
       "      <td>М.Фадеев</td>\n",
       "      <td>А.Чистяков</td>\n",
       "      <td>«6+» - для детей старше 6 лет</td>\n",
       "      <td>60000000.00000</td>\n",
       "      <td>100000000.00000</td>\n",
       "      <td>0.00000</td>\n",
       "      <td>Фонд кино</td>\n",
       "      <td>4.60000</td>\n",
       "      <td>мультфильм,приключения,фэнтези</td>\n",
       "      <td>184487551.40000</td>\n",
       "    </tr>\n",
       "  </tbody>\n",
       "</table>\n",
       "</div>"
      ],
      "text/plain": [
       "                    title        puNumber           show_start_date  \\\n",
       "2053                  14+ 111023614.00000 2014-12-19 12:00:00+00:00   \n",
       "2058            Дуxless 2 111000415.00000 2015-01-26 12:00:00+00:00   \n",
       "2472          Воин (2015) 111017315.00000 2015-09-28 12:00:00+00:00   \n",
       "2532              Бармен. 111009615.00000 2015-05-26 12:00:00+00:00   \n",
       "2615  Савва. Сердце воина 114001715.00000 2015-07-21 12:00:00+00:00   \n",
       "\n",
       "                type                                        film_studio  \\\n",
       "2053  Художественный                         ООО Киностудия  \"Сентябрь\"   \n",
       "2058  Художественный  ООО \"Киностудия \"Слово\", ООО \"Арт Пикчерс Студия\"   \n",
       "2472  Художественный   ООО \"Форпост Продакшн\", ООО \"Арт Пикчерс Студия\"   \n",
       "2532  Художественный          АО \"ВайТ Медиа\", ООО \"Арт Пикчерс Студия\"   \n",
       "2615    Анимационный   ООО \"Глюкоза Продакшн\", ООО \"Арт Пикчерс Студия\"   \n",
       "\n",
       "     production_country      director                            producer  \\\n",
       "2053             Россия      А.Зайцев                 О.Гранина, А.Зайцев   \n",
       "2058             Россия    Р.Прыгунов  П.Ануров, Ф.Бондарчук, Д.Рудовский   \n",
       "2472             Россия   А.Андрианов            ООО \"Арт Пикчерс Студия\"   \n",
       "2532             Россия  Д.Штурманова                         Т.Вайнштейн   \n",
       "2615             Россия      М.Фадеев                          А.Чистяков   \n",
       "\n",
       "                      age_restriction  refundable_support  \\\n",
       "2053  «16+» - для детей старше 16 лет             0.00000   \n",
       "2058  «16+» - для детей старше 16 лет             0.00000   \n",
       "2472  «12+» - для детей старше 12 лет      10000000.00000   \n",
       "2532  «16+» - для детей старше 16 лет      20000000.00000   \n",
       "2615    «6+» - для детей старше 6 лет      60000000.00000   \n",
       "\n",
       "      nonrefundable_support  budget                  financing_source  \\\n",
       "2053         23000000.00000 0.00000  Министерство культуры, Фонд кино   \n",
       "2058         75000000.00000 0.00000                         Фонд кино   \n",
       "2472         70000000.00000 0.00000                         Фонд кино   \n",
       "2532                0.00000 0.00000                         Фонд кино   \n",
       "2615        100000000.00000 0.00000                         Фонд кино   \n",
       "\n",
       "      ratings                          genres      box_office  \n",
       "2053  6.60000                       мелодрама  10234016.10000  \n",
       "2058  6.60000                           драма 446163511.00000  \n",
       "2472  7.80000           боевик,драма,криминал 196572438.40000  \n",
       "2532  6.20000                 комедия,фэнтези  67418974.80000  \n",
       "2615  4.60000  мультфильм,приключения,фэнтези 184487551.40000  "
      ]
     },
     "execution_count": 28,
     "metadata": {},
     "output_type": "execute_result"
    }
   ],
   "source": [
    "#сделаем срез, посмотрим таблицу с фильмами с нулевым бюдежтом\n",
    "data.query('budget == 0').head(5)"
   ]
  },
  {
   "cell_type": "code",
   "execution_count": 29,
   "metadata": {},
   "outputs": [
    {
     "data": {
      "text/plain": [
       "array(['Россия'], dtype=object)"
      ]
     },
     "execution_count": 29,
     "metadata": {},
     "output_type": "execute_result"
    }
   ],
   "source": [
    "#сделаем срез, посмотрим таблицу в фильмами с нулевым бюдежтом, посмотрим страну-производитель у этих фильмов\n",
    "data.query('budget == 0')['production_country'].unique()"
   ]
  },
  {
   "cell_type": "code",
   "execution_count": 30,
   "metadata": {},
   "outputs": [],
   "source": [
    "#в данном срезе только Россия. это фильмы получившие гос поддержку. заполним данные в \"бюджет\" суммой значений из refundable_support и nonrefundable_support\n",
    "for d in data['budget']:\n",
    "    data[data['budget'] == 0]\n",
    "    data.loc[data['budget'] == 0, 'budget'] = data['refundable_support'] + data['nonrefundable_support']   "
   ]
  },
  {
   "cell_type": "code",
   "execution_count": 31,
   "metadata": {},
   "outputs": [
    {
     "data": {
      "text/plain": [
       "count          332.00000\n",
       "mean     131422395.79518\n",
       "std      187148242.66687\n",
       "min        6000000.00000\n",
       "25%       45524799.50000\n",
       "50%       71196901.50000\n",
       "75%      150000000.00000\n",
       "max     2305074303.00000\n",
       "Name: budget, dtype: float64"
      ]
     },
     "execution_count": 31,
     "metadata": {},
     "output_type": "execute_result"
    }
   ],
   "source": [
    "#после заполнения посмотрим значени в budget методом describe\n",
    "data['budget'].describe()"
   ]
  },
  {
   "cell_type": "code",
   "execution_count": 32,
   "metadata": {},
   "outputs": [
    {
     "data": {
      "text/plain": [
       "<AxesSubplot:>"
      ]
     },
     "execution_count": 32,
     "metadata": {},
     "output_type": "execute_result"
    },
    {
     "data": {
      "image/png": "[encoded data removed]",
      "text/plain": [
       "<Figure size 432x288 with 1 Axes>"
      ]
     },
     "metadata": {
      "needs_background": "light"
     },
     "output_type": "display_data"
    }
   ],
   "source": [
    "#постоим гистограмму для столбца budget\n",
    "data['budget'].hist(bins = 20, range = (0, 850000000))"
   ]
  },
  {
   "cell_type": "code",
   "execution_count": 33,
   "metadata": {},
   "outputs": [
    {
     "data": {
      "text/html": [
       "<div>\n",
       "<style scoped>\n",
       "    .dataframe tbody tr th:only-of-type {\n",
       "        vertical-align: middle;\n",
       "    }\n",
       "\n",
       "    .dataframe tbody tr th {\n",
       "        vertical-align: top;\n",
       "    }\n",
       "\n",
       "    .dataframe thead th {\n",
       "        text-align: right;\n",
       "    }\n",
       "</style>\n",
       "<table border=\"1\" class=\"dataframe\">\n",
       "  <thead>\n",
       "    <tr style=\"text-align: right;\">\n",
       "      <th></th>\n",
       "      <th>title</th>\n",
       "      <th>puNumber</th>\n",
       "      <th>show_start_date</th>\n",
       "      <th>type</th>\n",
       "      <th>film_studio</th>\n",
       "      <th>production_country</th>\n",
       "      <th>director</th>\n",
       "      <th>producer</th>\n",
       "      <th>age_restriction</th>\n",
       "      <th>refundable_support</th>\n",
       "      <th>nonrefundable_support</th>\n",
       "      <th>budget</th>\n",
       "      <th>financing_source</th>\n",
       "      <th>ratings</th>\n",
       "      <th>genres</th>\n",
       "      <th>box_office</th>\n",
       "      <th>gov_support</th>\n",
       "      <th>gov_support_budget</th>\n",
       "    </tr>\n",
       "  </thead>\n",
       "  <tbody>\n",
       "  </tbody>\n",
       "</table>\n",
       "</div>"
      ],
      "text/plain": [
       "Empty DataFrame\n",
       "Columns: [title, puNumber, show_start_date, type, film_studio, production_country, director, producer, age_restriction, refundable_support, nonrefundable_support, budget, financing_source, ratings, genres, box_office, gov_support, gov_support_budget]\n",
       "Index: []"
      ]
     },
     "execution_count": 33,
     "metadata": {},
     "output_type": "execute_result"
    }
   ],
   "source": [
    "#добавим в таблицу столбец с суммой гос поддержки\n",
    "data['gov_support'] = data['refundable_support'] + data['nonrefundable_support']   \n",
    "#добавим в таблицу столбец с соотношением общего бюджета фильма и суммы гос поддержки\n",
    "data['gov_support_budget'] = data['gov_support'] / data['budget'] \n",
    "#изменим тип данных для gov_support_budget\n",
    "data['gov_support_budget'] = pd.to_numeric(data['gov_support_budget'], errors = 'coerce')\n",
    "#отфильтруем таблицу. посмотрим, есть ли в gov_support_budget значения превышающие 1. у строк со значение выше 1 сумма господдержки больше общего бюджета\n",
    "data.query('gov_support_budget > 1')\n",
    "\n",
    "#таких значений нет"
   ]
  },
  {
   "cell_type": "markdown",
   "metadata": {
    "id": "Eu6oWp2CgFyS"
   },
   "source": [
    "#### Шаг 2.6. Добавим новые столбцы\n",
    "\n",
    "\n",
    "\n"
   ]
  },
  {
   "cell_type": "code",
   "execution_count": 34,
   "metadata": {
    "id": "I-yd1DkWgFyT"
   },
   "outputs": [],
   "source": [
    "#добавим в таблицу столбец с годом выхода фильма в прокат\n",
    "data['year'] = data['show_start_date'].dt.year"
   ]
  },
  {
   "cell_type": "code",
   "execution_count": 35,
   "metadata": {
    "id": "LSbRZKbMgFyU",
    "scrolled": true
   },
   "outputs": [],
   "source": [
    "#создадим функцию main_on_the_list_genre - функция оставит только первый вид жанра фильма\n",
    "def main_on_the_list_genre(g, sep = ','):\n",
    "    a = g.split(sep=sep)\n",
    "    return a[0]\n",
    " \n",
    "data['genres_main'] = data['genres'].apply(main_on_the_list_genre)"
   ]
  },
  {
   "cell_type": "code",
   "execution_count": 36,
   "metadata": {},
   "outputs": [],
   "source": [
    "#создадим функцию main_on_the_list_director - функция оставит только первого режиссера из списка\n",
    "def main_on_the_list_director(g, sep = ','):\n",
    "    a = g.split(sep=sep)\n",
    "    return a[0]\n",
    " \n",
    "data['director_main'] = data['director'].apply(main_on_the_list_director)"
   ]
  },
  {
   "cell_type": "code",
   "execution_count": 37,
   "metadata": {
    "id": "LV6qFuZLgFyV"
   },
   "outputs": [],
   "source": [
    "#добавим столбец с информацией о том, какую долю от общего бюджета фильма составляет гос поддержка\n",
    "sum_support =  data['refundable_support'] + data['nonrefundable_support']\n",
    "data['share_support'] = sum_support /data['budget'] * 100"
   ]
  },
  {
   "cell_type": "code",
   "execution_count": 38,
   "metadata": {},
   "outputs": [
    {
     "data": {
      "text/html": [
       "<div>\n",
       "<style scoped>\n",
       "    .dataframe tbody tr th:only-of-type {\n",
       "        vertical-align: middle;\n",
       "    }\n",
       "\n",
       "    .dataframe tbody tr th {\n",
       "        vertical-align: top;\n",
       "    }\n",
       "\n",
       "    .dataframe thead th {\n",
       "        text-align: right;\n",
       "    }\n",
       "</style>\n",
       "<table border=\"1\" class=\"dataframe\">\n",
       "  <thead>\n",
       "    <tr style=\"text-align: right;\">\n",
       "      <th></th>\n",
       "      <th>title</th>\n",
       "      <th>puNumber</th>\n",
       "      <th>show_start_date</th>\n",
       "      <th>type</th>\n",
       "      <th>film_studio</th>\n",
       "      <th>production_country</th>\n",
       "      <th>director</th>\n",
       "      <th>producer</th>\n",
       "      <th>age_restriction</th>\n",
       "      <th>refundable_support</th>\n",
       "      <th>nonrefundable_support</th>\n",
       "      <th>budget</th>\n",
       "      <th>financing_source</th>\n",
       "      <th>ratings</th>\n",
       "      <th>genres</th>\n",
       "      <th>box_office</th>\n",
       "      <th>gov_support</th>\n",
       "      <th>gov_support_budget</th>\n",
       "      <th>year</th>\n",
       "      <th>genres_main</th>\n",
       "      <th>director_main</th>\n",
       "      <th>share_support</th>\n",
       "    </tr>\n",
       "  </thead>\n",
       "  <tbody>\n",
       "    <tr>\n",
       "      <th>0</th>\n",
       "      <td>Открытый простор</td>\n",
       "      <td>221048915.00000</td>\n",
       "      <td>2015-11-27 12:00:00+00:00</td>\n",
       "      <td>Художественный</td>\n",
       "      <td>Тачстоун Пикчерз, Кобальт Пикчерз, Бикон Пикче...</td>\n",
       "      <td>США</td>\n",
       "      <td>Кевин Костнер</td>\n",
       "      <td>Дэвид Валдес, Кевин Костнер, Джейк Эбертс</td>\n",
       "      <td>«18+» - запрещено для детей</td>\n",
       "      <td>NaN</td>\n",
       "      <td>NaN</td>\n",
       "      <td>NaN</td>\n",
       "      <td>NaN</td>\n",
       "      <td>7.20000</td>\n",
       "      <td>боевик,драма,мелодрама</td>\n",
       "      <td>NaN</td>\n",
       "      <td>NaN</td>\n",
       "      <td>NaN</td>\n",
       "      <td>2015</td>\n",
       "      <td>боевик</td>\n",
       "      <td>Кевин Костнер</td>\n",
       "      <td>NaN</td>\n",
       "    </tr>\n",
       "    <tr>\n",
       "      <th>1</th>\n",
       "      <td>Особо важное задание</td>\n",
       "      <td>111013716.00000</td>\n",
       "      <td>2016-09-13 12:00:00+00:00</td>\n",
       "      <td>Художественный</td>\n",
       "      <td>Киностудия \"Мосфильм\"</td>\n",
       "      <td>СССР</td>\n",
       "      <td>Е.Матвеев</td>\n",
       "      <td>NaN</td>\n",
       "      <td>«6+» - для детей старше 6 лет</td>\n",
       "      <td>NaN</td>\n",
       "      <td>NaN</td>\n",
       "      <td>NaN</td>\n",
       "      <td>NaN</td>\n",
       "      <td>6.60000</td>\n",
       "      <td>драма,военный</td>\n",
       "      <td>NaN</td>\n",
       "      <td>NaN</td>\n",
       "      <td>NaN</td>\n",
       "      <td>2016</td>\n",
       "      <td>драма</td>\n",
       "      <td>Е.Матвеев</td>\n",
       "      <td>NaN</td>\n",
       "    </tr>\n",
       "    <tr>\n",
       "      <th>2</th>\n",
       "      <td>Особо опасен</td>\n",
       "      <td>221038416.00000</td>\n",
       "      <td>2016-10-10 12:00:00+00:00</td>\n",
       "      <td>Художественный</td>\n",
       "      <td>Юниверсал Пикчерз, Кикстарт Продакшнз, Марк Пл...</td>\n",
       "      <td>США</td>\n",
       "      <td>Тимур Бекмамбетов</td>\n",
       "      <td>Джим Лемли, Джейсон Нетер, Марк Е.Платт, Яйн Смит</td>\n",
       "      <td>«18+» - запрещено для детей</td>\n",
       "      <td>NaN</td>\n",
       "      <td>NaN</td>\n",
       "      <td>NaN</td>\n",
       "      <td>NaN</td>\n",
       "      <td>6.80000</td>\n",
       "      <td>фантастика,боевик,триллер</td>\n",
       "      <td>NaN</td>\n",
       "      <td>NaN</td>\n",
       "      <td>NaN</td>\n",
       "      <td>2016</td>\n",
       "      <td>фантастика</td>\n",
       "      <td>Тимур Бекмамбетов</td>\n",
       "      <td>NaN</td>\n",
       "    </tr>\n",
       "    <tr>\n",
       "      <th>3</th>\n",
       "      <td>Особо опасен</td>\n",
       "      <td>221026916.00000</td>\n",
       "      <td>2016-06-10 12:00:00+00:00</td>\n",
       "      <td>Художественный</td>\n",
       "      <td>Юниверсал Пикчерз, Кикстарт Продакшнз, Марк Пл...</td>\n",
       "      <td>США</td>\n",
       "      <td>Тимур Бекмамбетов</td>\n",
       "      <td>Джим Лемли, Джейсон Нетер, Марк Е.Платт, Яйн Смит</td>\n",
       "      <td>«18+» - запрещено для детей</td>\n",
       "      <td>NaN</td>\n",
       "      <td>NaN</td>\n",
       "      <td>NaN</td>\n",
       "      <td>NaN</td>\n",
       "      <td>6.80000</td>\n",
       "      <td>фантастика,боевик,триллер</td>\n",
       "      <td>NaN</td>\n",
       "      <td>NaN</td>\n",
       "      <td>NaN</td>\n",
       "      <td>2016</td>\n",
       "      <td>фантастика</td>\n",
       "      <td>Тимур Бекмамбетов</td>\n",
       "      <td>NaN</td>\n",
       "    </tr>\n",
       "    <tr>\n",
       "      <th>4</th>\n",
       "      <td>Особо опасен</td>\n",
       "      <td>221030815.00000</td>\n",
       "      <td>2015-07-29 12:00:00+00:00</td>\n",
       "      <td>Художественный</td>\n",
       "      <td>Юниверсал Пикчерз, Кикстарт Продакшнз, Марк Пл...</td>\n",
       "      <td>США</td>\n",
       "      <td>Тимур Бекмамбетов</td>\n",
       "      <td>Джим Лемли, Джейсон Нетер, Марк Е.Платт, Яйн Смит</td>\n",
       "      <td>«18+» - запрещено для детей</td>\n",
       "      <td>NaN</td>\n",
       "      <td>NaN</td>\n",
       "      <td>NaN</td>\n",
       "      <td>NaN</td>\n",
       "      <td>6.80000</td>\n",
       "      <td>фантастика,боевик,триллер</td>\n",
       "      <td>NaN</td>\n",
       "      <td>NaN</td>\n",
       "      <td>NaN</td>\n",
       "      <td>2015</td>\n",
       "      <td>фантастика</td>\n",
       "      <td>Тимур Бекмамбетов</td>\n",
       "      <td>NaN</td>\n",
       "    </tr>\n",
       "  </tbody>\n",
       "</table>\n",
       "</div>"
      ],
      "text/plain": [
       "                  title        puNumber           show_start_date  \\\n",
       "0      Открытый простор 221048915.00000 2015-11-27 12:00:00+00:00   \n",
       "1  Особо важное задание 111013716.00000 2016-09-13 12:00:00+00:00   \n",
       "2          Особо опасен 221038416.00000 2016-10-10 12:00:00+00:00   \n",
       "3          Особо опасен 221026916.00000 2016-06-10 12:00:00+00:00   \n",
       "4          Особо опасен 221030815.00000 2015-07-29 12:00:00+00:00   \n",
       "\n",
       "             type                                        film_studio  \\\n",
       "0  Художественный  Тачстоун Пикчерз, Кобальт Пикчерз, Бикон Пикче...   \n",
       "1  Художественный                              Киностудия \"Мосфильм\"   \n",
       "2  Художественный  Юниверсал Пикчерз, Кикстарт Продакшнз, Марк Пл...   \n",
       "3  Художественный  Юниверсал Пикчерз, Кикстарт Продакшнз, Марк Пл...   \n",
       "4  Художественный  Юниверсал Пикчерз, Кикстарт Продакшнз, Марк Пл...   \n",
       "\n",
       "  production_country           director  \\\n",
       "0                США      Кевин Костнер   \n",
       "1               СССР          Е.Матвеев   \n",
       "2                США  Тимур Бекмамбетов   \n",
       "3                США  Тимур Бекмамбетов   \n",
       "4                США  Тимур Бекмамбетов   \n",
       "\n",
       "                                            producer  \\\n",
       "0          Дэвид Валдес, Кевин Костнер, Джейк Эбертс   \n",
       "1                                                NaN   \n",
       "2  Джим Лемли, Джейсон Нетер, Марк Е.Платт, Яйн Смит   \n",
       "3  Джим Лемли, Джейсон Нетер, Марк Е.Платт, Яйн Смит   \n",
       "4  Джим Лемли, Джейсон Нетер, Марк Е.Платт, Яйн Смит   \n",
       "\n",
       "                 age_restriction  refundable_support  nonrefundable_support  \\\n",
       "0    «18+» - запрещено для детей                 NaN                    NaN   \n",
       "1  «6+» - для детей старше 6 лет                 NaN                    NaN   \n",
       "2    «18+» - запрещено для детей                 NaN                    NaN   \n",
       "3    «18+» - запрещено для детей                 NaN                    NaN   \n",
       "4    «18+» - запрещено для детей                 NaN                    NaN   \n",
       "\n",
       "   budget financing_source  ratings                     genres  box_office  \\\n",
       "0     NaN              NaN  7.20000     боевик,драма,мелодрама         NaN   \n",
       "1     NaN              NaN  6.60000              драма,военный         NaN   \n",
       "2     NaN              NaN  6.80000  фантастика,боевик,триллер         NaN   \n",
       "3     NaN              NaN  6.80000  фантастика,боевик,триллер         NaN   \n",
       "4     NaN              NaN  6.80000  фантастика,боевик,триллер         NaN   \n",
       "\n",
       "   gov_support  gov_support_budget  year genres_main      director_main  \\\n",
       "0          NaN                 NaN  2015      боевик      Кевин Костнер   \n",
       "1          NaN                 NaN  2016       драма          Е.Матвеев   \n",
       "2          NaN                 NaN  2016  фантастика  Тимур Бекмамбетов   \n",
       "3          NaN                 NaN  2016  фантастика  Тимур Бекмамбетов   \n",
       "4          NaN                 NaN  2015  фантастика  Тимур Бекмамбетов   \n",
       "\n",
       "   share_support  \n",
       "0            NaN  \n",
       "1            NaN  \n",
       "2            NaN  \n",
       "3            NaN  \n",
       "4            NaN  "
      ]
     },
     "execution_count": 38,
     "metadata": {},
     "output_type": "execute_result"
    }
   ],
   "source": [
    "#проверим наличие всех новых столбцов\n",
    "data.head(5)"
   ]
  },
  {
   "cell_type": "markdown",
   "metadata": {
    "id": "6t4EukPLgFyV"
   },
   "source": [
    "### Шаг 3. Проведем исследовательский анализ данных\n"
   ]
  },
  {
   "cell_type": "markdown",
   "metadata": {
    "id": "vAH8WCzugFyV"
   },
   "source": [
    "- Посмотрим, сколько фильмов выходило в прокат каждый год."
   ]
  },
  {
   "cell_type": "code",
   "execution_count": 39,
   "metadata": {
    "id": "ABeV47y7gFyW"
   },
   "outputs": [
    {
     "data": {
      "text/html": [
       "<div>\n",
       "<style scoped>\n",
       "    .dataframe tbody tr th:only-of-type {\n",
       "        vertical-align: middle;\n",
       "    }\n",
       "\n",
       "    .dataframe tbody tr th {\n",
       "        vertical-align: top;\n",
       "    }\n",
       "\n",
       "    .dataframe thead th {\n",
       "        text-align: right;\n",
       "    }\n",
       "</style>\n",
       "<table border=\"1\" class=\"dataframe\">\n",
       "  <thead>\n",
       "    <tr style=\"text-align: right;\">\n",
       "      <th></th>\n",
       "      <th>box_office</th>\n",
       "      <th>puNumber</th>\n",
       "      <th>share_cinema</th>\n",
       "    </tr>\n",
       "    <tr>\n",
       "      <th>year</th>\n",
       "      <th></th>\n",
       "      <th></th>\n",
       "      <th></th>\n",
       "    </tr>\n",
       "  </thead>\n",
       "  <tbody>\n",
       "    <tr>\n",
       "      <th>2010</th>\n",
       "      <td>105</td>\n",
       "      <td>983</td>\n",
       "      <td>10.68159</td>\n",
       "    </tr>\n",
       "    <tr>\n",
       "      <th>2011</th>\n",
       "      <td>109</td>\n",
       "      <td>622</td>\n",
       "      <td>17.52412</td>\n",
       "    </tr>\n",
       "    <tr>\n",
       "      <th>2012</th>\n",
       "      <td>128</td>\n",
       "      <td>593</td>\n",
       "      <td>21.58516</td>\n",
       "    </tr>\n",
       "    <tr>\n",
       "      <th>2013</th>\n",
       "      <td>184</td>\n",
       "      <td>630</td>\n",
       "      <td>29.20635</td>\n",
       "    </tr>\n",
       "    <tr>\n",
       "      <th>2014</th>\n",
       "      <td>279</td>\n",
       "      <td>806</td>\n",
       "      <td>34.61538</td>\n",
       "    </tr>\n",
       "    <tr>\n",
       "      <th>2015</th>\n",
       "      <td>465</td>\n",
       "      <td>705</td>\n",
       "      <td>65.95745</td>\n",
       "    </tr>\n",
       "    <tr>\n",
       "      <th>2016</th>\n",
       "      <td>526</td>\n",
       "      <td>818</td>\n",
       "      <td>64.30318</td>\n",
       "    </tr>\n",
       "    <tr>\n",
       "      <th>2017</th>\n",
       "      <td>357</td>\n",
       "      <td>505</td>\n",
       "      <td>70.69307</td>\n",
       "    </tr>\n",
       "    <tr>\n",
       "      <th>2018</th>\n",
       "      <td>475</td>\n",
       "      <td>891</td>\n",
       "      <td>53.31089</td>\n",
       "    </tr>\n",
       "    <tr>\n",
       "      <th>2019</th>\n",
       "      <td>530</td>\n",
       "      <td>930</td>\n",
       "      <td>56.98925</td>\n",
       "    </tr>\n",
       "  </tbody>\n",
       "</table>\n",
       "</div>"
      ],
      "text/plain": [
       "      box_office  puNumber  share_cinema\n",
       "year                                    \n",
       "2010         105       983      10.68159\n",
       "2011         109       622      17.52412\n",
       "2012         128       593      21.58516\n",
       "2013         184       630      29.20635\n",
       "2014         279       806      34.61538\n",
       "2015         465       705      65.95745\n",
       "2016         526       818      64.30318\n",
       "2017         357       505      70.69307\n",
       "2018         475       891      53.31089\n",
       "2019         530       930      56.98925"
      ]
     },
     "execution_count": 39,
     "metadata": {},
     "output_type": "execute_result"
    }
   ],
   "source": [
    "#создадим сводную таблицу для параметров год и прокатное удостоверение\n",
    "movies_box_office = data.pivot_table(index= 'year', values=['puNumber', 'box_office'], aggfunc='count')\n",
    "#добавим в таблицу новый столбец с долей тех фильмов, что были в прокате в кинотеатре\n",
    "movies_box_office['share_cinema'] = movies_box_office['box_office'] / movies_box_office['puNumber'] * 100\n",
    "#выведем всю сводную таблицу\n",
    "movies_box_office"
   ]
  },
  {
   "cell_type": "code",
   "execution_count": 40,
   "metadata": {},
   "outputs": [
    {
     "data": {
      "text/plain": [
       "<AxesSubplot:title={'center':'Фильмы вышедшие в прокат'}, xlabel='Год', ylabel='Кол-во фильмов'>"
      ]
     },
     "execution_count": 40,
     "metadata": {},
     "output_type": "execute_result"
    },
    {
     "data": {
      "image/png": "[encoded data removed]",
      "text/plain": [
       "<Figure size 864x288 with 1 Axes>"
      ]
     },
     "metadata": {
      "needs_background": "light"
     },
     "output_type": "display_data"
    }
   ],
   "source": [
    "#построим график для таблицы\n",
    "movies_box_office.plot(y = 'puNumber', kind = 'bar', figsize=(12, 4), title = 'Фильмы вышедшие в прокат', xlabel = 'Год', ylabel = 'Кол-во фильмов')"
   ]
  },
  {
   "cell_type": "code",
   "execution_count": 41,
   "metadata": {},
   "outputs": [
    {
     "data": {
      "text/plain": [
       "<AxesSubplot:title={'center':'Доля фильмов вышедших в прокат в кинотеатрах'}, xlabel='Год', ylabel='Кол-во фильмов'>"
      ]
     },
     "execution_count": 41,
     "metadata": {},
     "output_type": "execute_result"
    },
    {
     "data": {
      "image/png": "[encoded data removed]",
      "text/plain": [
       "<Figure size 864x288 with 1 Axes>"
      ]
     },
     "metadata": {
      "needs_background": "light"
     },
     "output_type": "display_data"
    }
   ],
   "source": [
    "#построим график для таблицы\n",
    "movies_box_office.plot(y = 'share_cinema', kind = 'bar', figsize=(12, 4), title = 'Доля фильмов вышедших в прокат в кинотеатрах', xlabel = 'Год', ylabel = 'Кол-во фильмов')"
   ]
  },
  {
   "cell_type": "markdown",
   "metadata": {},
   "source": [
    "- количество фильмов, получивших прокатное удостоверение год к году не сильно отличается; \n",
    "- пики пришлись на 2010 и 2019гг (983 и 930 соответственно); \n",
    "- минимальное значение было в 2017г (505); \n",
    "- доля фильмов вышедших в прокат в кинотеатры напротив, увеличивалась год к году и достигла 70% в 2017г (2010г - 10%). В 2018-2019 произошло снижение до 53-56%. "
   ]
  },
  {
   "cell_type": "markdown",
   "metadata": {
    "id": "BEOdcIrIgFyW"
   },
   "source": [
    "- Изучим, как менялась динамика проката по годам."
   ]
  },
  {
   "cell_type": "code",
   "execution_count": 42,
   "metadata": {
    "id": "tfEhofYvgFyX"
   },
   "outputs": [
    {
     "data": {
      "text/html": [
       "<div>\n",
       "<style scoped>\n",
       "    .dataframe tbody tr th:only-of-type {\n",
       "        vertical-align: middle;\n",
       "    }\n",
       "\n",
       "    .dataframe tbody tr th {\n",
       "        vertical-align: top;\n",
       "    }\n",
       "\n",
       "    .dataframe thead th {\n",
       "        text-align: right;\n",
       "    }\n",
       "</style>\n",
       "<table border=\"1\" class=\"dataframe\">\n",
       "  <thead>\n",
       "    <tr style=\"text-align: right;\">\n",
       "      <th></th>\n",
       "      <th>sum_box_office</th>\n",
       "    </tr>\n",
       "    <tr>\n",
       "      <th>year</th>\n",
       "      <th></th>\n",
       "    </tr>\n",
       "  </thead>\n",
       "  <tbody>\n",
       "    <tr>\n",
       "      <th>2010</th>\n",
       "      <td>2428654.00000</td>\n",
       "    </tr>\n",
       "    <tr>\n",
       "      <th>2011</th>\n",
       "      <td>14102765.00000</td>\n",
       "    </tr>\n",
       "    <tr>\n",
       "      <th>2012</th>\n",
       "      <td>6955423.00000</td>\n",
       "    </tr>\n",
       "    <tr>\n",
       "      <th>2013</th>\n",
       "      <td>29799706.20000</td>\n",
       "    </tr>\n",
       "    <tr>\n",
       "      <th>2014</th>\n",
       "      <td>7444951859.20000</td>\n",
       "    </tr>\n",
       "    <tr>\n",
       "      <th>2015</th>\n",
       "      <td>39497365196.40001</td>\n",
       "    </tr>\n",
       "    <tr>\n",
       "      <th>2016</th>\n",
       "      <td>47866299741.91004</td>\n",
       "    </tr>\n",
       "    <tr>\n",
       "      <th>2017</th>\n",
       "      <td>48563707217.51000</td>\n",
       "    </tr>\n",
       "    <tr>\n",
       "      <th>2018</th>\n",
       "      <td>49668403134.31999</td>\n",
       "    </tr>\n",
       "    <tr>\n",
       "      <th>2019</th>\n",
       "      <td>48425708779.59000</td>\n",
       "    </tr>\n",
       "  </tbody>\n",
       "</table>\n",
       "</div>"
      ],
      "text/plain": [
       "        sum_box_office\n",
       "year                  \n",
       "2010     2428654.00000\n",
       "2011    14102765.00000\n",
       "2012     6955423.00000\n",
       "2013    29799706.20000\n",
       "2014  7444951859.20000\n",
       "2015 39497365196.40001\n",
       "2016 47866299741.91004\n",
       "2017 48563707217.51000\n",
       "2018 49668403134.31999\n",
       "2019 48425708779.59000"
      ]
     },
     "execution_count": 42,
     "metadata": {},
     "output_type": "execute_result"
    }
   ],
   "source": [
    "#создадим сводную таблицу для параметров год и сборы в рублях\n",
    "sum_box_office_year = data.pivot_table(index= 'year', values=['box_office'], aggfunc='sum')\n",
    "sum_box_office_year.columns = ['sum_box_office']\n",
    "sum_box_office_year"
   ]
  },
  {
   "cell_type": "code",
   "execution_count": 43,
   "metadata": {},
   "outputs": [
    {
     "data": {
      "text/plain": [
       "count            10.00000\n",
       "mean    24151972247.71301\n",
       "std     24138278781.26069\n",
       "min         2428654.00000\n",
       "25%        18027000.30000\n",
       "50%     23471158527.80000\n",
       "75%     48285856520.17001\n",
       "max     49668403134.31999\n",
       "Name: sum_box_office, dtype: float64"
      ]
     },
     "execution_count": 43,
     "metadata": {},
     "output_type": "execute_result"
    }
   ],
   "source": [
    "sum_box_office_year['sum_box_office'].describe()"
   ]
  },
  {
   "cell_type": "code",
   "execution_count": 44,
   "metadata": {},
   "outputs": [
    {
     "data": {
      "text/plain": [
       "<AxesSubplot:title={'center':'Сборы в кинотеатрах по годам'}, xlabel='Год', ylabel='Сумма сборов'>"
      ]
     },
     "execution_count": 44,
     "metadata": {},
     "output_type": "execute_result"
    },
    {
     "data": {
      "image/png": "[encoded data removed]",
      "text/plain": [
       "<Figure size 864x288 with 1 Axes>"
      ]
     },
     "metadata": {
      "needs_background": "light"
     },
     "output_type": "display_data"
    }
   ],
   "source": [
    "#построим график для таблицы\n",
    "sum_box_office_year.plot(y = 'sum_box_office', kind = 'bar', figsize=(12, 4), title = 'Сборы в кинотеатрах по годам', xlabel = 'Год', ylabel = 'Сумма сборов')"
   ]
  },
  {
   "cell_type": "markdown",
   "metadata": {},
   "source": [
    "Минимальная сумма сборов была в 2010 году (2 428 654 рублей), максимальная в 2017 году (48 561 554 266 рублей).  "
   ]
  },
  {
   "cell_type": "markdown",
   "metadata": {
    "id": "G-7qS-N-gFyY"
   },
   "source": [
    "- С помощью сводной таблицы посчитаем среднюю и медианную сумму сборов для каждого года."
   ]
  },
  {
   "cell_type": "code",
   "execution_count": 45,
   "metadata": {
    "id": "jmp-rgg9gFyY"
   },
   "outputs": [
    {
     "data": {
      "text/html": [
       "<div>\n",
       "<style scoped>\n",
       "    .dataframe tbody tr th:only-of-type {\n",
       "        vertical-align: middle;\n",
       "    }\n",
       "\n",
       "    .dataframe tbody tr th {\n",
       "        vertical-align: top;\n",
       "    }\n",
       "\n",
       "    .dataframe thead th {\n",
       "        text-align: right;\n",
       "    }\n",
       "</style>\n",
       "<table border=\"1\" class=\"dataframe\">\n",
       "  <thead>\n",
       "    <tr style=\"text-align: right;\">\n",
       "      <th></th>\n",
       "      <th>mean</th>\n",
       "      <th>median</th>\n",
       "    </tr>\n",
       "    <tr>\n",
       "      <th>year</th>\n",
       "      <th></th>\n",
       "      <th></th>\n",
       "    </tr>\n",
       "  </thead>\n",
       "  <tbody>\n",
       "    <tr>\n",
       "      <th>2010</th>\n",
       "      <td>23130.03810</td>\n",
       "      <td>1700.00000</td>\n",
       "    </tr>\n",
       "    <tr>\n",
       "      <th>2011</th>\n",
       "      <td>129383.16514</td>\n",
       "      <td>3000.00000</td>\n",
       "    </tr>\n",
       "    <tr>\n",
       "      <th>2012</th>\n",
       "      <td>54339.24219</td>\n",
       "      <td>5660.00000</td>\n",
       "    </tr>\n",
       "    <tr>\n",
       "      <th>2013</th>\n",
       "      <td>161954.92500</td>\n",
       "      <td>3522.50000</td>\n",
       "    </tr>\n",
       "    <tr>\n",
       "      <th>2014</th>\n",
       "      <td>26684415.26595</td>\n",
       "      <td>18160.00000</td>\n",
       "    </tr>\n",
       "    <tr>\n",
       "      <th>2015</th>\n",
       "      <td>84940570.31484</td>\n",
       "      <td>4920933.00000</td>\n",
       "    </tr>\n",
       "    <tr>\n",
       "      <th>2016</th>\n",
       "      <td>91000569.85154</td>\n",
       "      <td>3846679.41000</td>\n",
       "    </tr>\n",
       "    <tr>\n",
       "      <th>2017</th>\n",
       "      <td>136032793.32636</td>\n",
       "      <td>9968340.00000</td>\n",
       "    </tr>\n",
       "    <tr>\n",
       "      <th>2018</th>\n",
       "      <td>104565059.23015</td>\n",
       "      <td>8891102.21000</td>\n",
       "    </tr>\n",
       "    <tr>\n",
       "      <th>2019</th>\n",
       "      <td>91369261.84828</td>\n",
       "      <td>4627798.34500</td>\n",
       "    </tr>\n",
       "  </tbody>\n",
       "</table>\n",
       "</div>"
      ],
      "text/plain": [
       "                mean        median\n",
       "year                              \n",
       "2010     23130.03810    1700.00000\n",
       "2011    129383.16514    3000.00000\n",
       "2012     54339.24219    5660.00000\n",
       "2013    161954.92500    3522.50000\n",
       "2014  26684415.26595   18160.00000\n",
       "2015  84940570.31484 4920933.00000\n",
       "2016  91000569.85154 3846679.41000\n",
       "2017 136032793.32636 9968340.00000\n",
       "2018 104565059.23015 8891102.21000\n",
       "2019  91369261.84828 4627798.34500"
      ]
     },
     "execution_count": 45,
     "metadata": {},
     "output_type": "execute_result"
    }
   ],
   "source": [
    "#создадим сводную таблицу для параметров год и сборы в рублях\n",
    "mean_median_box_office_year = data.pivot_table(index= 'year', values=['box_office'], aggfunc=['mean', 'median'])\n",
    "mean_median_box_office_year.columns = ['mean', 'median']\n",
    "mean_median_box_office_year"
   ]
  },
  {
   "cell_type": "code",
   "execution_count": 46,
   "metadata": {},
   "outputs": [
    {
     "data": {
      "text/plain": [
       "<AxesSubplot:title={'center':'Средняя сумма сборов по годам'}, xlabel='Год', ylabel='Ср сумма сборов'>"
      ]
     },
     "execution_count": 46,
     "metadata": {},
     "output_type": "execute_result"
    },
    {
     "data": {
      "image/png": "[encoded data removed]",
      "text/plain": [
       "<Figure size 864x288 with 1 Axes>"
      ]
     },
     "metadata": {
      "needs_background": "light"
     },
     "output_type": "display_data"
    }
   ],
   "source": [
    "#построим график для таблицы\n",
    "mean_median_box_office_year.plot(y = 'mean', kind = 'bar', figsize=(12, 4), title = 'Средняя сумма сборов по годам', xlabel = 'Год', ylabel = 'Ср сумма сборов')"
   ]
  },
  {
   "cell_type": "code",
   "execution_count": 47,
   "metadata": {},
   "outputs": [
    {
     "data": {
      "text/plain": [
       "<AxesSubplot:title={'center':'Медианная сумма сборов по годам'}, xlabel='Год', ylabel='Медианная сумма сборов'>"
      ]
     },
     "execution_count": 47,
     "metadata": {},
     "output_type": "execute_result"
    },
    {
     "data": {
      "image/png": "[encoded data removed]",
      "text/plain": [
       "<Figure size 864x288 with 1 Axes>"
      ]
     },
     "metadata": {
      "needs_background": "light"
     },
     "output_type": "display_data"
    }
   ],
   "source": [
    "#построим график для таблицы\n",
    "mean_median_box_office_year.plot(y = 'median', kind = 'bar', figsize=(12, 4), title = 'Медианная сумма сборов по годам', xlabel = 'Год', ylabel = 'Медианная сумма сборов')"
   ]
  },
  {
   "cell_type": "markdown",
   "metadata": {},
   "source": [
    "В каждом исследуемом периоде средняя и медианные значения значительно различаются (более чем в 20р). Так, например, в 2016г: средняя = 91 000 569р, медиана = 3 846 679р. В 2019г: средняя = 91 369 261р, медианная = 4 627 798р.\n",
    "Это можно объяснить тем, что в каждом периоде есть суперкассовые фильмы (мировые премьеры получившие в т.ч. большую медийную и промоподдержку) - такие фильмы единичны.  "
   ]
  },
  {
   "cell_type": "markdown",
   "metadata": {
    "id": "Ok89WFwJgFyZ"
   },
   "source": [
    "- Определим, влияет ли возрастное ограничение аудитории («6+», «12+», «16+», «18+» и т. д.) на сборы фильма в прокате в период с 2015 по 2019 год"
   ]
  },
  {
   "cell_type": "code",
   "execution_count": 48,
   "metadata": {
    "id": "jsSbEqfjgFya"
   },
   "outputs": [
    {
     "data": {
      "text/html": [
       "<div>\n",
       "<style scoped>\n",
       "    .dataframe tbody tr th:only-of-type {\n",
       "        vertical-align: middle;\n",
       "    }\n",
       "\n",
       "    .dataframe tbody tr th {\n",
       "        vertical-align: top;\n",
       "    }\n",
       "\n",
       "    .dataframe thead tr th {\n",
       "        text-align: left;\n",
       "    }\n",
       "\n",
       "    .dataframe thead tr:last-of-type th {\n",
       "        text-align: right;\n",
       "    }\n",
       "</style>\n",
       "<table border=\"1\" class=\"dataframe\">\n",
       "  <thead>\n",
       "    <tr>\n",
       "      <th></th>\n",
       "      <th colspan=\"6\" halign=\"left\">box_office</th>\n",
       "    </tr>\n",
       "    <tr>\n",
       "      <th>age_restriction</th>\n",
       "      <th>«0+» - для любой зрительской аудитории</th>\n",
       "      <th>«12+» - для детей старше 12 лет</th>\n",
       "      <th>«16+» - для детей старше 16 лет</th>\n",
       "      <th>«18+» - запрещено для детей</th>\n",
       "      <th>«6+» - для детей старше 6 лет</th>\n",
       "      <th>All</th>\n",
       "    </tr>\n",
       "    <tr>\n",
       "      <th>year</th>\n",
       "      <th></th>\n",
       "      <th></th>\n",
       "      <th></th>\n",
       "      <th></th>\n",
       "      <th></th>\n",
       "      <th></th>\n",
       "    </tr>\n",
       "  </thead>\n",
       "  <tbody>\n",
       "    <tr>\n",
       "      <th>2015</th>\n",
       "      <td>379054578.37000</td>\n",
       "      <td>13616082008.91000</td>\n",
       "      <td>11368120870.27000</td>\n",
       "      <td>5432308367.44000</td>\n",
       "      <td>8701799371.41000</td>\n",
       "      <td>39497365196.40001</td>\n",
       "    </tr>\n",
       "    <tr>\n",
       "      <th>2016</th>\n",
       "      <td>150228848.67000</td>\n",
       "      <td>12204446524.39000</td>\n",
       "      <td>16664548541.74000</td>\n",
       "      <td>6793929818.87000</td>\n",
       "      <td>12053146008.24000</td>\n",
       "      <td>47866299741.91004</td>\n",
       "    </tr>\n",
       "    <tr>\n",
       "      <th>2017</th>\n",
       "      <td>229598930.00000</td>\n",
       "      <td>7851427660.67000</td>\n",
       "      <td>18745042900.06000</td>\n",
       "      <td>9651495581.02000</td>\n",
       "      <td>12086142145.76000</td>\n",
       "      <td>48563707217.51000</td>\n",
       "    </tr>\n",
       "    <tr>\n",
       "      <th>2018</th>\n",
       "      <td>32449002.11000</td>\n",
       "      <td>14267291660.69000</td>\n",
       "      <td>16503602346.96000</td>\n",
       "      <td>8760085501.15000</td>\n",
       "      <td>10104974623.41000</td>\n",
       "      <td>49668403134.31999</td>\n",
       "    </tr>\n",
       "    <tr>\n",
       "      <th>2019</th>\n",
       "      <td>17746066.82000</td>\n",
       "      <td>12680198773.67000</td>\n",
       "      <td>12753418984.60000</td>\n",
       "      <td>10121796303.64000</td>\n",
       "      <td>12852548650.86000</td>\n",
       "      <td>48425708779.59000</td>\n",
       "    </tr>\n",
       "    <tr>\n",
       "      <th>All</th>\n",
       "      <td>809077425.97000</td>\n",
       "      <td>60619446628.32999</td>\n",
       "      <td>76034733643.62994</td>\n",
       "      <td>40759615572.12000</td>\n",
       "      <td>55798610799.68002</td>\n",
       "      <td>234021484069.73001</td>\n",
       "    </tr>\n",
       "  </tbody>\n",
       "</table>\n",
       "</div>"
      ],
      "text/plain": [
       "                                            box_office  \\\n",
       "age_restriction «0+» - для любой зрительской аудитории   \n",
       "year                                                     \n",
       "2015                                   379054578.37000   \n",
       "2016                                   150228848.67000   \n",
       "2017                                   229598930.00000   \n",
       "2018                                    32449002.11000   \n",
       "2019                                    17746066.82000   \n",
       "All                                    809077425.97000   \n",
       "\n",
       "                                                 \\\n",
       "age_restriction «12+» - для детей старше 12 лет   \n",
       "year                                              \n",
       "2015                          13616082008.91000   \n",
       "2016                          12204446524.39000   \n",
       "2017                           7851427660.67000   \n",
       "2018                          14267291660.69000   \n",
       "2019                          12680198773.67000   \n",
       "All                           60619446628.32999   \n",
       "\n",
       "                                                                             \\\n",
       "age_restriction «16+» - для детей старше 16 лет «18+» - запрещено для детей   \n",
       "year                                                                          \n",
       "2015                          11368120870.27000            5432308367.44000   \n",
       "2016                          16664548541.74000            6793929818.87000   \n",
       "2017                          18745042900.06000            9651495581.02000   \n",
       "2018                          16503602346.96000            8760085501.15000   \n",
       "2019                          12753418984.60000           10121796303.64000   \n",
       "All                           76034733643.62994           40759615572.12000   \n",
       "\n",
       "                                                                  \n",
       "age_restriction «6+» - для детей старше 6 лет                All  \n",
       "year                                                              \n",
       "2015                         8701799371.41000  39497365196.40001  \n",
       "2016                        12053146008.24000  47866299741.91004  \n",
       "2017                        12086142145.76000  48563707217.51000  \n",
       "2018                        10104974623.41000  49668403134.31999  \n",
       "2019                        12852548650.86000  48425708779.59000  \n",
       "All                         55798610799.68002 234021484069.73001  "
      ]
     },
     "execution_count": 48,
     "metadata": {},
     "output_type": "execute_result"
    }
   ],
   "source": [
    "#создадим сводную таблицу для параметров возрастное ограничение аудитории и сборы по годам с 2015 по 2019г\n",
    "sum_box_office_age_year = data.query('year <= 2019 and year >= 2015').pivot_table(index= 'year', columns = 'age_restriction', values=['box_office'], aggfunc='sum', margins=True)\n",
    "sum_box_office_age_year"
   ]
  },
  {
   "cell_type": "code",
   "execution_count": 49,
   "metadata": {},
   "outputs": [
    {
     "data": {
      "text/html": [
       "<div>\n",
       "<style scoped>\n",
       "    .dataframe tbody tr th:only-of-type {\n",
       "        vertical-align: middle;\n",
       "    }\n",
       "\n",
       "    .dataframe tbody tr th {\n",
       "        vertical-align: top;\n",
       "    }\n",
       "\n",
       "    .dataframe thead tr th {\n",
       "        text-align: left;\n",
       "    }\n",
       "\n",
       "    .dataframe thead tr:last-of-type th {\n",
       "        text-align: right;\n",
       "    }\n",
       "</style>\n",
       "<table border=\"1\" class=\"dataframe\">\n",
       "  <thead>\n",
       "    <tr>\n",
       "      <th></th>\n",
       "      <th colspan=\"6\" halign=\"left\">box_office</th>\n",
       "    </tr>\n",
       "    <tr>\n",
       "      <th>age_restriction</th>\n",
       "      <th>«0+» - для любой зрительской аудитории</th>\n",
       "      <th>«12+» - для детей старше 12 лет</th>\n",
       "      <th>«16+» - для детей старше 16 лет</th>\n",
       "      <th>«18+» - запрещено для детей</th>\n",
       "      <th>«6+» - для детей старше 6 лет</th>\n",
       "      <th>All</th>\n",
       "    </tr>\n",
       "    <tr>\n",
       "      <th>year</th>\n",
       "      <th></th>\n",
       "      <th></th>\n",
       "      <th></th>\n",
       "      <th></th>\n",
       "      <th></th>\n",
       "      <th></th>\n",
       "    </tr>\n",
       "  </thead>\n",
       "  <tbody>\n",
       "    <tr>\n",
       "      <th>2015</th>\n",
       "      <td>39</td>\n",
       "      <td>73</td>\n",
       "      <td>168</td>\n",
       "      <td>132</td>\n",
       "      <td>53</td>\n",
       "      <td>465</td>\n",
       "    </tr>\n",
       "    <tr>\n",
       "      <th>2016</th>\n",
       "      <td>41</td>\n",
       "      <td>82</td>\n",
       "      <td>182</td>\n",
       "      <td>151</td>\n",
       "      <td>70</td>\n",
       "      <td>526</td>\n",
       "    </tr>\n",
       "    <tr>\n",
       "      <th>2017</th>\n",
       "      <td>3</td>\n",
       "      <td>41</td>\n",
       "      <td>121</td>\n",
       "      <td>147</td>\n",
       "      <td>45</td>\n",
       "      <td>357</td>\n",
       "    </tr>\n",
       "    <tr>\n",
       "      <th>2018</th>\n",
       "      <td>5</td>\n",
       "      <td>67</td>\n",
       "      <td>156</td>\n",
       "      <td>179</td>\n",
       "      <td>68</td>\n",
       "      <td>475</td>\n",
       "    </tr>\n",
       "    <tr>\n",
       "      <th>2019</th>\n",
       "      <td>3</td>\n",
       "      <td>85</td>\n",
       "      <td>178</td>\n",
       "      <td>183</td>\n",
       "      <td>81</td>\n",
       "      <td>530</td>\n",
       "    </tr>\n",
       "    <tr>\n",
       "      <th>All</th>\n",
       "      <td>91</td>\n",
       "      <td>348</td>\n",
       "      <td>805</td>\n",
       "      <td>792</td>\n",
       "      <td>317</td>\n",
       "      <td>2353</td>\n",
       "    </tr>\n",
       "  </tbody>\n",
       "</table>\n",
       "</div>"
      ],
      "text/plain": [
       "                                            box_office  \\\n",
       "age_restriction «0+» - для любой зрительской аудитории   \n",
       "year                                                     \n",
       "2015                                                39   \n",
       "2016                                                41   \n",
       "2017                                                 3   \n",
       "2018                                                 5   \n",
       "2019                                                 3   \n",
       "All                                                 91   \n",
       "\n",
       "                                                 \\\n",
       "age_restriction «12+» - для детей старше 12 лет   \n",
       "year                                              \n",
       "2015                                         73   \n",
       "2016                                         82   \n",
       "2017                                         41   \n",
       "2018                                         67   \n",
       "2019                                         85   \n",
       "All                                         348   \n",
       "\n",
       "                                                                             \\\n",
       "age_restriction «16+» - для детей старше 16 лет «18+» - запрещено для детей   \n",
       "year                                                                          \n",
       "2015                                        168                         132   \n",
       "2016                                        182                         151   \n",
       "2017                                        121                         147   \n",
       "2018                                        156                         179   \n",
       "2019                                        178                         183   \n",
       "All                                         805                         792   \n",
       "\n",
       "                                                     \n",
       "age_restriction «6+» - для детей старше 6 лет   All  \n",
       "year                                                 \n",
       "2015                                       53   465  \n",
       "2016                                       70   526  \n",
       "2017                                       45   357  \n",
       "2018                                       68   475  \n",
       "2019                                       81   530  \n",
       "All                                       317  2353  "
      ]
     },
     "execution_count": 49,
     "metadata": {},
     "output_type": "execute_result"
    }
   ],
   "source": [
    "#создадим сводную таблицу для параметров возрастное ограничение аудитории и количество фильмов по годам с 2015 по 2019г. \n",
    "count_box_office_age_year = data.query('year <= 2019 and year >= 2015').pivot_table(index= 'year', columns = 'age_restriction', values=['box_office'], aggfunc='count', margins=True)\n",
    "count_box_office_age_year"
   ]
  },
  {
   "cell_type": "markdown",
   "metadata": {},
   "source": [
    "Возрастное ограничение влияет на сумму сборов. Так, наибольшие сборы у фильмов 16+ (эта же категория - лидер в общем количестве фильмов). Далее идут сборы у 12+ и 6+. И это несмотря на то, что количество фильмов в кагориях 16+ и 18+ одинаковое. \n",
    "В категории 18+ - много \"авторских\" фильмов, это контент для узкой аудитории. \n",
    "Ситуация менялась в 2018г, когда лидером, наряду с фильмами 16+, стали фильмы с возрастным ограничением 12+.\n",
    "Также ситуация несколько отличалась в 2019г, когда лидером по сборам стали фильмы из категории 6+.\n",
    "Вероятно, в эти годы выходили кассовые фильмы в категориях с данными возрастными ограничениями. "
   ]
  },
  {
   "cell_type": "code",
   "execution_count": 101,
   "metadata": {},
   "outputs": [
    {
     "data": {
      "text/plain": [
       "MultiIndex([('box_office', '«0+» - для любой зрительской аудитории'),\n",
       "            ('box_office',        '«12+» - для детей старше 12 лет'),\n",
       "            ('box_office',        '«16+» - для детей старше 16 лет'),\n",
       "            ('box_office',            '«18+» - запрещено для детей'),\n",
       "            ('box_office',          '«6+» - для детей старше 6 лет'),\n",
       "            ('box_office',                                    'All')],\n",
       "           names=[None, 'age_restriction'])"
      ]
     },
     "execution_count": 101,
     "metadata": {},
     "output_type": "execute_result"
    }
   ],
   "source": [
    "count_box_office_age_year.columns"
   ]
  },
  {
   "cell_type": "code",
   "execution_count": 108,
   "metadata": {},
   "outputs": [],
   "source": [
    "count_box_office_age_year.columns = count_box_office_age_year.columns.droplevel()"
   ]
  },
  {
   "cell_type": "code",
   "execution_count": 109,
   "metadata": {},
   "outputs": [
    {
     "data": {
      "text/html": [
       "<div>\n",
       "<style scoped>\n",
       "    .dataframe tbody tr th:only-of-type {\n",
       "        vertical-align: middle;\n",
       "    }\n",
       "\n",
       "    .dataframe tbody tr th {\n",
       "        vertical-align: top;\n",
       "    }\n",
       "\n",
       "    .dataframe thead th {\n",
       "        text-align: right;\n",
       "    }\n",
       "</style>\n",
       "<table border=\"1\" class=\"dataframe\">\n",
       "  <thead>\n",
       "    <tr style=\"text-align: right;\">\n",
       "      <th>age_restriction</th>\n",
       "      <th>«0+» - для любой зрительской аудитории</th>\n",
       "      <th>«12+» - для детей старше 12 лет</th>\n",
       "      <th>«16+» - для детей старше 16 лет</th>\n",
       "      <th>«18+» - запрещено для детей</th>\n",
       "      <th>«6+» - для детей старше 6 лет</th>\n",
       "      <th>All</th>\n",
       "    </tr>\n",
       "    <tr>\n",
       "      <th>year</th>\n",
       "      <th></th>\n",
       "      <th></th>\n",
       "      <th></th>\n",
       "      <th></th>\n",
       "      <th></th>\n",
       "      <th></th>\n",
       "    </tr>\n",
       "  </thead>\n",
       "  <tbody>\n",
       "    <tr>\n",
       "      <th>2015</th>\n",
       "      <td>39</td>\n",
       "      <td>73</td>\n",
       "      <td>168</td>\n",
       "      <td>132</td>\n",
       "      <td>53</td>\n",
       "      <td>465</td>\n",
       "    </tr>\n",
       "    <tr>\n",
       "      <th>2016</th>\n",
       "      <td>41</td>\n",
       "      <td>82</td>\n",
       "      <td>182</td>\n",
       "      <td>151</td>\n",
       "      <td>70</td>\n",
       "      <td>526</td>\n",
       "    </tr>\n",
       "    <tr>\n",
       "      <th>2017</th>\n",
       "      <td>3</td>\n",
       "      <td>41</td>\n",
       "      <td>121</td>\n",
       "      <td>147</td>\n",
       "      <td>45</td>\n",
       "      <td>357</td>\n",
       "    </tr>\n",
       "    <tr>\n",
       "      <th>2018</th>\n",
       "      <td>5</td>\n",
       "      <td>67</td>\n",
       "      <td>156</td>\n",
       "      <td>179</td>\n",
       "      <td>68</td>\n",
       "      <td>475</td>\n",
       "    </tr>\n",
       "    <tr>\n",
       "      <th>2019</th>\n",
       "      <td>3</td>\n",
       "      <td>85</td>\n",
       "      <td>178</td>\n",
       "      <td>183</td>\n",
       "      <td>81</td>\n",
       "      <td>530</td>\n",
       "    </tr>\n",
       "    <tr>\n",
       "      <th>All</th>\n",
       "      <td>91</td>\n",
       "      <td>348</td>\n",
       "      <td>805</td>\n",
       "      <td>792</td>\n",
       "      <td>317</td>\n",
       "      <td>2353</td>\n",
       "    </tr>\n",
       "  </tbody>\n",
       "</table>\n",
       "</div>"
      ],
      "text/plain": [
       "age_restriction  «0+» - для любой зрительской аудитории  \\\n",
       "year                                                      \n",
       "2015                                                 39   \n",
       "2016                                                 41   \n",
       "2017                                                  3   \n",
       "2018                                                  5   \n",
       "2019                                                  3   \n",
       "All                                                  91   \n",
       "\n",
       "age_restriction  «12+» - для детей старше 12 лет  \\\n",
       "year                                               \n",
       "2015                                          73   \n",
       "2016                                          82   \n",
       "2017                                          41   \n",
       "2018                                          67   \n",
       "2019                                          85   \n",
       "All                                          348   \n",
       "\n",
       "age_restriction  «16+» - для детей старше 16 лет  «18+» - запрещено для детей  \\\n",
       "year                                                                            \n",
       "2015                                         168                          132   \n",
       "2016                                         182                          151   \n",
       "2017                                         121                          147   \n",
       "2018                                         156                          179   \n",
       "2019                                         178                          183   \n",
       "All                                          805                          792   \n",
       "\n",
       "age_restriction  «6+» - для детей старше 6 лет   All  \n",
       "year                                                  \n",
       "2015                                        53   465  \n",
       "2016                                        70   526  \n",
       "2017                                        45   357  \n",
       "2018                                        68   475  \n",
       "2019                                        81   530  \n",
       "All                                        317  2353  "
      ]
     },
     "execution_count": 109,
     "metadata": {},
     "output_type": "execute_result"
    }
   ],
   "source": [
    "count_box_office_age_year"
   ]
  },
  {
   "cell_type": "markdown",
   "metadata": {
    "id": "l_Kg6Ku4gFya"
   },
   "source": [
    "### Шаг 4. Исследуем фильмы, которые получили государственную поддержку"
   ]
  },
  {
   "cell_type": "code",
   "execution_count": 50,
   "metadata": {},
   "outputs": [],
   "source": [
    "#создадим новый датайфрейм только с теми фильмами, которые получили господдержку\n",
    "data_support = data.query('financing_source == financing_source')"
   ]
  },
  {
   "cell_type": "code",
   "execution_count": 51,
   "metadata": {
    "scrolled": true
   },
   "outputs": [
    {
     "data": {
      "text/html": [
       "<div>\n",
       "<style scoped>\n",
       "    .dataframe tbody tr th:only-of-type {\n",
       "        vertical-align: middle;\n",
       "    }\n",
       "\n",
       "    .dataframe tbody tr th {\n",
       "        vertical-align: top;\n",
       "    }\n",
       "\n",
       "    .dataframe thead th {\n",
       "        text-align: right;\n",
       "    }\n",
       "</style>\n",
       "<table border=\"1\" class=\"dataframe\">\n",
       "  <thead>\n",
       "    <tr style=\"text-align: right;\">\n",
       "      <th></th>\n",
       "      <th>title</th>\n",
       "      <th>puNumber</th>\n",
       "      <th>show_start_date</th>\n",
       "      <th>type</th>\n",
       "      <th>film_studio</th>\n",
       "      <th>production_country</th>\n",
       "      <th>director</th>\n",
       "      <th>producer</th>\n",
       "      <th>age_restriction</th>\n",
       "      <th>refundable_support</th>\n",
       "      <th>nonrefundable_support</th>\n",
       "      <th>budget</th>\n",
       "      <th>financing_source</th>\n",
       "      <th>ratings</th>\n",
       "      <th>genres</th>\n",
       "      <th>box_office</th>\n",
       "      <th>gov_support</th>\n",
       "      <th>gov_support_budget</th>\n",
       "      <th>year</th>\n",
       "      <th>genres_main</th>\n",
       "      <th>director_main</th>\n",
       "      <th>share_support</th>\n",
       "    </tr>\n",
       "  </thead>\n",
       "  <tbody>\n",
       "    <tr>\n",
       "      <th>1281</th>\n",
       "      <td>Пока еще жива</td>\n",
       "      <td>111005313.00000</td>\n",
       "      <td>2013-10-11 12:00:00+00:00</td>\n",
       "      <td>Художественный</td>\n",
       "      <td>АНО содействия развитию кинематографии \"Ангел-...</td>\n",
       "      <td>Россия</td>\n",
       "      <td>А.Атанесян</td>\n",
       "      <td>А.Атанесян, М.Бабаханов, Р.Бутко</td>\n",
       "      <td>«16+» - для детей старше 16 лет</td>\n",
       "      <td>0.00000</td>\n",
       "      <td>26500000.00000</td>\n",
       "      <td>79411900.00000</td>\n",
       "      <td>Министерство культуры</td>\n",
       "      <td>8.10000</td>\n",
       "      <td>драма,мелодрама</td>\n",
       "      <td>365353.60000</td>\n",
       "      <td>26500000.00000</td>\n",
       "      <td>0.33370</td>\n",
       "      <td>2013</td>\n",
       "      <td>драма</td>\n",
       "      <td>А.Атанесян</td>\n",
       "      <td>33.37031</td>\n",
       "    </tr>\n",
       "    <tr>\n",
       "      <th>1448</th>\n",
       "      <td>Бесславные придурки</td>\n",
       "      <td>111003314.00000</td>\n",
       "      <td>2014-03-28 12:00:00+00:00</td>\n",
       "      <td>Художественный</td>\n",
       "      <td>ООО \"Компания \"АТК-Студио\"</td>\n",
       "      <td>Россия</td>\n",
       "      <td>А.Якимчук</td>\n",
       "      <td>А.Тютрюмов</td>\n",
       "      <td>«12+» - для детей старше 12 лет</td>\n",
       "      <td>0.00000</td>\n",
       "      <td>26000000.00000</td>\n",
       "      <td>37142857.00000</td>\n",
       "      <td>Министерство культуры</td>\n",
       "      <td>NaN</td>\n",
       "      <td>unknown</td>\n",
       "      <td>28140.00000</td>\n",
       "      <td>26000000.00000</td>\n",
       "      <td>0.70000</td>\n",
       "      <td>2014</td>\n",
       "      <td>unknown</td>\n",
       "      <td>А.Якимчук</td>\n",
       "      <td>70.00000</td>\n",
       "    </tr>\n",
       "    <tr>\n",
       "      <th>1498</th>\n",
       "      <td>Невидимки</td>\n",
       "      <td>111004213.00000</td>\n",
       "      <td>2013-09-10 12:00:00+00:00</td>\n",
       "      <td>Художественный</td>\n",
       "      <td>ООО \"Компания \"РЕАЛ-ДАКОТА\"</td>\n",
       "      <td>Россия</td>\n",
       "      <td>Р.Давлетьяров, С.Комаров</td>\n",
       "      <td>Р.Давлетьяров, А.Котелевский, А.Олейников</td>\n",
       "      <td>«12+» - для детей старше 12 лет</td>\n",
       "      <td>0.00000</td>\n",
       "      <td>107847945.00000</td>\n",
       "      <td>176023490.00000</td>\n",
       "      <td>Фонд кино</td>\n",
       "      <td>5.30000</td>\n",
       "      <td>комедия,фантастика</td>\n",
       "      <td>19957031.50000</td>\n",
       "      <td>107847945.00000</td>\n",
       "      <td>0.61269</td>\n",
       "      <td>2013</td>\n",
       "      <td>комедия</td>\n",
       "      <td>Р.Давлетьяров</td>\n",
       "      <td>61.26906</td>\n",
       "    </tr>\n",
       "    <tr>\n",
       "      <th>1524</th>\n",
       "      <td>БЕРЦЫ</td>\n",
       "      <td>111004314.00000</td>\n",
       "      <td>2014-05-05 12:00:00+00:00</td>\n",
       "      <td>Художественный</td>\n",
       "      <td>ООО \"Студия \"Пассажир\"</td>\n",
       "      <td>Россия</td>\n",
       "      <td>Е.Миндадзе (псевдоним Катя Шагалова)</td>\n",
       "      <td>Л.Антонова</td>\n",
       "      <td>«16+» - для детей старше 16 лет</td>\n",
       "      <td>0.00000</td>\n",
       "      <td>28000000.00000</td>\n",
       "      <td>40574140.00000</td>\n",
       "      <td>Министерство культуры</td>\n",
       "      <td>4.20000</td>\n",
       "      <td>драма</td>\n",
       "      <td>55917.50000</td>\n",
       "      <td>28000000.00000</td>\n",
       "      <td>0.69009</td>\n",
       "      <td>2014</td>\n",
       "      <td>драма</td>\n",
       "      <td>Е.Миндадзе (псевдоним Катя Шагалова)</td>\n",
       "      <td>69.00947</td>\n",
       "    </tr>\n",
       "    <tr>\n",
       "      <th>1792</th>\n",
       "      <td>Братья Ч</td>\n",
       "      <td>111004414.00000</td>\n",
       "      <td>2014-04-23 12:00:00+00:00</td>\n",
       "      <td>Художественный</td>\n",
       "      <td>ООО \"Студия \"Пассажир\"</td>\n",
       "      <td>Россия</td>\n",
       "      <td>М.Угаров</td>\n",
       "      <td>А.Миндадзе, Л.Антонова</td>\n",
       "      <td>«16+» - для детей старше 16 лет</td>\n",
       "      <td>0.00000</td>\n",
       "      <td>25000000.00000</td>\n",
       "      <td>40015122.00000</td>\n",
       "      <td>Министерство культуры</td>\n",
       "      <td>6.40000</td>\n",
       "      <td>драма</td>\n",
       "      <td>232100.00000</td>\n",
       "      <td>25000000.00000</td>\n",
       "      <td>0.62476</td>\n",
       "      <td>2014</td>\n",
       "      <td>драма</td>\n",
       "      <td>М.Угаров</td>\n",
       "      <td>62.47638</td>\n",
       "    </tr>\n",
       "  </tbody>\n",
       "</table>\n",
       "</div>"
      ],
      "text/plain": [
       "                    title        puNumber           show_start_date  \\\n",
       "1281        Пока еще жива 111005313.00000 2013-10-11 12:00:00+00:00   \n",
       "1448  Бесславные придурки 111003314.00000 2014-03-28 12:00:00+00:00   \n",
       "1498            Невидимки 111004213.00000 2013-09-10 12:00:00+00:00   \n",
       "1524                БЕРЦЫ 111004314.00000 2014-05-05 12:00:00+00:00   \n",
       "1792             Братья Ч 111004414.00000 2014-04-23 12:00:00+00:00   \n",
       "\n",
       "                type                                        film_studio  \\\n",
       "1281  Художественный  АНО содействия развитию кинематографии \"Ангел-...   \n",
       "1448  Художественный                         ООО \"Компания \"АТК-Студио\"   \n",
       "1498  Художественный                        ООО \"Компания \"РЕАЛ-ДАКОТА\"   \n",
       "1524  Художественный                             ООО \"Студия \"Пассажир\"   \n",
       "1792  Художественный                             ООО \"Студия \"Пассажир\"   \n",
       "\n",
       "     production_country                              director  \\\n",
       "1281             Россия                            А.Атанесян   \n",
       "1448             Россия                             А.Якимчук   \n",
       "1498             Россия              Р.Давлетьяров, С.Комаров   \n",
       "1524             Россия  Е.Миндадзе (псевдоним Катя Шагалова)   \n",
       "1792             Россия                              М.Угаров   \n",
       "\n",
       "                                       producer  \\\n",
       "1281           А.Атанесян, М.Бабаханов, Р.Бутко   \n",
       "1448                                 А.Тютрюмов   \n",
       "1498  Р.Давлетьяров, А.Котелевский, А.Олейников   \n",
       "1524                                 Л.Антонова   \n",
       "1792                     А.Миндадзе, Л.Антонова   \n",
       "\n",
       "                      age_restriction  refundable_support  \\\n",
       "1281  «16+» - для детей старше 16 лет             0.00000   \n",
       "1448  «12+» - для детей старше 12 лет             0.00000   \n",
       "1498  «12+» - для детей старше 12 лет             0.00000   \n",
       "1524  «16+» - для детей старше 16 лет             0.00000   \n",
       "1792  «16+» - для детей старше 16 лет             0.00000   \n",
       "\n",
       "      nonrefundable_support          budget       financing_source  ratings  \\\n",
       "1281         26500000.00000  79411900.00000  Министерство культуры  8.10000   \n",
       "1448         26000000.00000  37142857.00000  Министерство культуры      NaN   \n",
       "1498        107847945.00000 176023490.00000              Фонд кино  5.30000   \n",
       "1524         28000000.00000  40574140.00000  Министерство культуры  4.20000   \n",
       "1792         25000000.00000  40015122.00000  Министерство культуры  6.40000   \n",
       "\n",
       "                  genres     box_office     gov_support  gov_support_budget  \\\n",
       "1281     драма,мелодрама   365353.60000  26500000.00000             0.33370   \n",
       "1448             unknown    28140.00000  26000000.00000             0.70000   \n",
       "1498  комедия,фантастика 19957031.50000 107847945.00000             0.61269   \n",
       "1524               драма    55917.50000  28000000.00000             0.69009   \n",
       "1792               драма   232100.00000  25000000.00000             0.62476   \n",
       "\n",
       "      year genres_main                         director_main  share_support  \n",
       "1281  2013       драма                            А.Атанесян       33.37031  \n",
       "1448  2014     unknown                             А.Якимчук       70.00000  \n",
       "1498  2013     комедия                         Р.Давлетьяров       61.26906  \n",
       "1524  2014       драма  Е.Миндадзе (псевдоним Катя Шагалова)       69.00947  \n",
       "1792  2014       драма                              М.Угаров       62.47638  "
      ]
     },
     "execution_count": 51,
     "metadata": {},
     "output_type": "execute_result"
    }
   ],
   "source": [
    "#проверим новую таблицу\n",
    "data_support.head(5)"
   ]
  },
  {
   "cell_type": "code",
   "execution_count": 52,
   "metadata": {},
   "outputs": [],
   "source": [
    "#создадим новый датайфрейм с только теми фильмами, которые НЕ получили господдержку\n",
    "data_support_not = data.query('financing_source != financing_source')"
   ]
  },
  {
   "cell_type": "code",
   "execution_count": 53,
   "metadata": {},
   "outputs": [
    {
     "name": "stdout",
     "output_type": "stream",
     "text": [
      "<class 'pandas.core.frame.DataFrame'>\n",
      "Int64Index: 332 entries, 1281 to 7478\n",
      "Data columns (total 22 columns):\n",
      " #   Column                 Non-Null Count  Dtype              \n",
      "---  ------                 --------------  -----              \n",
      " 0   title                  332 non-null    object             \n",
      " 1   puNumber               332 non-null    float64            \n",
      " 2   show_start_date        332 non-null    datetime64[ns, UTC]\n",
      " 3   type                   332 non-null    object             \n",
      " 4   film_studio            332 non-null    object             \n",
      " 5   production_country     332 non-null    object             \n",
      " 6   director               332 non-null    object             \n",
      " 7   producer               330 non-null    object             \n",
      " 8   age_restriction        332 non-null    object             \n",
      " 9   refundable_support     332 non-null    float64            \n",
      " 10  nonrefundable_support  332 non-null    float64            \n",
      " 11  budget                 332 non-null    float64            \n",
      " 12  financing_source       332 non-null    object             \n",
      " 13  ratings                314 non-null    float64            \n",
      " 14  genres                 332 non-null    object             \n",
      " 15  box_office             318 non-null    float64            \n",
      " 16  gov_support            332 non-null    float64            \n",
      " 17  gov_support_budget     332 non-null    float64            \n",
      " 18  year                   332 non-null    int64              \n",
      " 19  genres_main            332 non-null    object             \n",
      " 20  director_main          332 non-null    object             \n",
      " 21  share_support          332 non-null    float64            \n",
      "dtypes: datetime64[ns, UTC](1), float64(9), int64(1), object(11)\n",
      "memory usage: 59.7+ KB\n"
     ]
    }
   ],
   "source": [
    "#выведем общую информацию о таблице\n",
    "data_support.info()\n",
    "#данных мало, но достаточно для анализа"
   ]
  },
  {
   "cell_type": "code",
   "execution_count": 54,
   "metadata": {},
   "outputs": [
    {
     "data": {
      "text/plain": [
       "16261688312.0"
      ]
     },
     "execution_count": 54,
     "metadata": {},
     "output_type": "execute_result"
    }
   ],
   "source": [
    "#посмотрим сколько было выделено невозвратных средств\n",
    "data_support_nonrefundable = data_support['nonrefundable_support'].sum()\n",
    "data_support_nonrefundable"
   ]
  },
  {
   "cell_type": "code",
   "execution_count": 55,
   "metadata": {},
   "outputs": [
    {
     "data": {
      "text/plain": [
       "3939000000.0"
      ]
     },
     "execution_count": 55,
     "metadata": {},
     "output_type": "execute_result"
    }
   ],
   "source": [
    "#посмотрим сколько было выделено возвратных средств\n",
    "data_support_refundable = data_support['refundable_support'].sum()\n",
    "data_support_refundable"
   ]
  },
  {
   "cell_type": "code",
   "execution_count": 56,
   "metadata": {
    "id": "W9QKpjUdgFyb"
   },
   "outputs": [
    {
     "data": {
      "text/plain": [
       "20200688312.0"
      ]
     },
     "execution_count": 56,
     "metadata": {},
     "output_type": "execute_result"
    }
   ],
   "source": [
    "#посмотрим, сколько всего выделили средств на поддежрку кино\n",
    "data_support_sum = data_support_nonrefundable + data_support_refundable\n",
    "data_support_sum "
   ]
  },
  {
   "cell_type": "code",
   "execution_count": 57,
   "metadata": {},
   "outputs": [
    {
     "name": "stderr",
     "output_type": "stream",
     "text": [
      "/tmp/ipykernel_48/3264700195.py:2: SettingWithCopyWarning: \n",
      "A value is trying to be set on a copy of a slice from a DataFrame.\n",
      "Try using .loc[row_indexer,col_indexer] = value instead\n",
      "\n",
      "See the caveats in the documentation: https://pandas.pydata.org/pandas-docs/stable/user_guide/indexing.html#returning-a-view-versus-a-copy\n",
      "  data_support['support_sum'] = data_support['nonrefundable_support'] + data_support['refundable_support']\n"
     ]
    }
   ],
   "source": [
    "#добавим столбец с такой информацией в таблицу\n",
    "data_support['support_sum'] = data_support['nonrefundable_support'] + data_support['refundable_support']"
   ]
  },
  {
   "cell_type": "markdown",
   "metadata": {},
   "source": [
    "Всего с 2015 по 2019 года было выделено более 19,6млрд.руб на поддержку производства кино. \n",
    "Из них порядка 15,8млрд.руб - невозвратные средства. А 3,8млрд.руб - возвратные."
   ]
  },
  {
   "cell_type": "code",
   "execution_count": 58,
   "metadata": {},
   "outputs": [
    {
     "data": {
      "text/html": [
       "<div>\n",
       "<style scoped>\n",
       "    .dataframe tbody tr th:only-of-type {\n",
       "        vertical-align: middle;\n",
       "    }\n",
       "\n",
       "    .dataframe tbody tr th {\n",
       "        vertical-align: top;\n",
       "    }\n",
       "\n",
       "    .dataframe thead th {\n",
       "        text-align: right;\n",
       "    }\n",
       "</style>\n",
       "<table border=\"1\" class=\"dataframe\">\n",
       "  <thead>\n",
       "    <tr style=\"text-align: right;\">\n",
       "      <th></th>\n",
       "      <th>count</th>\n",
       "      <th>sum</th>\n",
       "      <th>median</th>\n",
       "      <th>mean</th>\n",
       "    </tr>\n",
       "    <tr>\n",
       "      <th>financing_source</th>\n",
       "      <th></th>\n",
       "      <th></th>\n",
       "      <th></th>\n",
       "      <th></th>\n",
       "    </tr>\n",
       "  </thead>\n",
       "  <tbody>\n",
       "    <tr>\n",
       "      <th>Министерство культуры</th>\n",
       "      <td>164</td>\n",
       "      <td>4836661000.00000</td>\n",
       "      <td>28000000.00000</td>\n",
       "      <td>29491835.36585</td>\n",
       "    </tr>\n",
       "    <tr>\n",
       "      <th>Министерство культуры, Фонд кино</th>\n",
       "      <td>22</td>\n",
       "      <td>1185431354.00000</td>\n",
       "      <td>47751149.50000</td>\n",
       "      <td>53883243.36364</td>\n",
       "    </tr>\n",
       "    <tr>\n",
       "      <th>Фонд кино</th>\n",
       "      <td>146</td>\n",
       "      <td>14178595958.00000</td>\n",
       "      <td>60000000.00000</td>\n",
       "      <td>97113670.94521</td>\n",
       "    </tr>\n",
       "  </tbody>\n",
       "</table>\n",
       "</div>"
      ],
      "text/plain": [
       "                                  count               sum         median  \\\n",
       "financing_source                                                           \n",
       "Министерство культуры               164  4836661000.00000 28000000.00000   \n",
       "Министерство культуры, Фонд кино     22  1185431354.00000 47751149.50000   \n",
       "Фонд кино                           146 14178595958.00000 60000000.00000   \n",
       "\n",
       "                                           mean  \n",
       "financing_source                                 \n",
       "Министерство культуры            29491835.36585  \n",
       "Министерство культуры, Фонд кино 53883243.36364  \n",
       "Фонд кино                        97113670.94521  "
      ]
     },
     "execution_count": 58,
     "metadata": {},
     "output_type": "execute_result"
    }
   ],
   "source": [
    "#посмотримот от каких фондов идет финансирование\n",
    "data_support_financing = data_support.pivot_table (index = 'financing_source', values = 'support_sum', aggfunc = ['count', 'sum', 'median', 'mean'])\n",
    "data_support_financing.columns = ['count', 'sum', 'median', 'mean']\n",
    "data_support_financing"
   ]
  },
  {
   "cell_type": "code",
   "execution_count": 59,
   "metadata": {},
   "outputs": [
    {
     "data": {
      "text/plain": [
       "<AxesSubplot:title={'center':'Гос.финансирование кино'}, xlabel='Год', ylabel='Фонд'>"
      ]
     },
     "execution_count": 59,
     "metadata": {},
     "output_type": "execute_result"
    },
    {
     "data": {
      "image/png": "[encoded data removed]",
      "text/plain": [
       "<Figure size 864x288 with 1 Axes>"
      ]
     },
     "metadata": {
      "needs_background": "light"
     },
     "output_type": "display_data"
    }
   ],
   "source": [
    "#построим график для таблицы\n",
    "data_support_financing.plot(y = 'sum', kind = 'bar', figsize=(12, 4), title = 'Гос.финансирование кино', xlabel = 'Год', ylabel = 'Фонд')"
   ]
  },
  {
   "cell_type": "markdown",
   "metadata": {},
   "source": [
    "Больше всего профинансировано от \"Фонд кино\" - 144 фильма на общую сумму порядка 13млрд.руб (порядка 70% от всех средств). У него же наибольшее медианное значение - порядка 60млн на один фильм, в то время как у министерства культуры только 28млн/фильм."
   ]
  },
  {
   "cell_type": "code",
   "execution_count": 60,
   "metadata": {},
   "outputs": [
    {
     "data": {
      "text/html": [
       "<div>\n",
       "<style scoped>\n",
       "    .dataframe tbody tr th:only-of-type {\n",
       "        vertical-align: middle;\n",
       "    }\n",
       "\n",
       "    .dataframe tbody tr th {\n",
       "        vertical-align: top;\n",
       "    }\n",
       "\n",
       "    .dataframe thead th {\n",
       "        text-align: right;\n",
       "    }\n",
       "</style>\n",
       "<table border=\"1\" class=\"dataframe\">\n",
       "  <thead>\n",
       "    <tr style=\"text-align: right;\">\n",
       "      <th></th>\n",
       "      <th>sum</th>\n",
       "    </tr>\n",
       "    <tr>\n",
       "      <th>year</th>\n",
       "      <th></th>\n",
       "    </tr>\n",
       "  </thead>\n",
       "  <tbody>\n",
       "    <tr>\n",
       "      <th>2013</th>\n",
       "      <td>134347945.00000</td>\n",
       "    </tr>\n",
       "    <tr>\n",
       "      <th>2014</th>\n",
       "      <td>572002299.00000</td>\n",
       "    </tr>\n",
       "    <tr>\n",
       "      <th>2015</th>\n",
       "      <td>3656241459.00000</td>\n",
       "    </tr>\n",
       "    <tr>\n",
       "      <th>2016</th>\n",
       "      <td>4303155482.00000</td>\n",
       "    </tr>\n",
       "    <tr>\n",
       "      <th>2017</th>\n",
       "      <td>3183971662.00000</td>\n",
       "    </tr>\n",
       "    <tr>\n",
       "      <th>2018</th>\n",
       "      <td>3446969465.00000</td>\n",
       "    </tr>\n",
       "    <tr>\n",
       "      <th>2019</th>\n",
       "      <td>4904000000.00000</td>\n",
       "    </tr>\n",
       "  </tbody>\n",
       "</table>\n",
       "</div>"
      ],
      "text/plain": [
       "                  sum\n",
       "year                 \n",
       "2013  134347945.00000\n",
       "2014  572002299.00000\n",
       "2015 3656241459.00000\n",
       "2016 4303155482.00000\n",
       "2017 3183971662.00000\n",
       "2018 3446969465.00000\n",
       "2019 4904000000.00000"
      ]
     },
     "execution_count": 60,
     "metadata": {},
     "output_type": "execute_result"
    }
   ],
   "source": [
    "#посмотрим сколько всего средств выделяли по годам\n",
    "data_support_box_office_sum = data_support.pivot_table(index= 'year', values=['support_sum'], aggfunc='sum')\n",
    "data_support_box_office_sum.columns = ['sum']\n",
    "data_support_box_office_sum"
   ]
  },
  {
   "cell_type": "code",
   "execution_count": 61,
   "metadata": {},
   "outputs": [
    {
     "data": {
      "text/plain": [
       "<AxesSubplot:title={'center':'Гос.финансирование кино'}, xlabel='Год', ylabel='Объем финансирования'>"
      ]
     },
     "execution_count": 61,
     "metadata": {},
     "output_type": "execute_result"
    },
    {
     "data": {
      "image/png": "[encoded data removed]",
      "text/plain": [
       "<Figure size 864x288 with 1 Axes>"
      ]
     },
     "metadata": {
      "needs_background": "light"
     },
     "output_type": "display_data"
    }
   ],
   "source": [
    "data_support_box_office_sum.plot(y = 'sum', kind = 'bar', figsize=(12, 4), title = 'Гос.финансирование кино', xlabel = 'Год', ylabel = 'Объем финансирования')"
   ]
  },
  {
   "cell_type": "markdown",
   "metadata": {},
   "source": [
    "Объем финансирования растет, но не линейно. в 2015 году произошел существенный скачок. Наибольшее финансирование пришлось на 2019г. "
   ]
  },
  {
   "cell_type": "code",
   "execution_count": 62,
   "metadata": {},
   "outputs": [
    {
     "data": {
      "text/plain": [
       "-3.480742655419327"
      ]
     },
     "execution_count": 62,
     "metadata": {},
     "output_type": "execute_result"
    }
   ],
   "source": [
    "#посчитаем окупаемость фильмов с гос поддержкой\n",
    "payback_support = ((data_support['box_office'].sum() - data_support['budget'].sum()) / data_support['budget'].sum()) *100\n",
    "payback_support"
   ]
  },
  {
   "cell_type": "markdown",
   "metadata": {},
   "source": [
    "ROI меньше 100%. Затраты не окупаются."
   ]
  },
  {
   "cell_type": "code",
   "execution_count": 63,
   "metadata": {},
   "outputs": [
    {
     "name": "stderr",
     "output_type": "stream",
     "text": [
      "/tmp/ipykernel_48/477609014.py:19: SettingWithCopyWarning: \n",
      "A value is trying to be set on a copy of a slice from a DataFrame.\n",
      "Try using .loc[row_indexer,col_indexer] = value instead\n",
      "\n",
      "See the caveats in the documentation: https://pandas.pydata.org/pandas-docs/stable/user_guide/indexing.html#returning-a-view-versus-a-copy\n",
      "  data_support['ratings_categorize'] = data_support['ratings'].apply(categorize_ratings)\n"
     ]
    }
   ],
   "source": [
    "#для анализа данных по рейтингу введем в таблицу новый столбец ratings_categorize с меньшей детализацией чисел рейтинга\n",
    "def categorize_ratings(ratings):\n",
    "    if ratings >= 1 and ratings < 2:\n",
    "        return '1'\n",
    "    if ratings >= 2 and ratings < 3:\n",
    "        return '2'\n",
    "    if ratings >= 3 and ratings < 4:\n",
    "        return '3'\n",
    "    if ratings >= 4 and ratings < 5:\n",
    "        return '4'\n",
    "    if ratings >= 5 and ratings < 6:\n",
    "        return '5'\n",
    "    if ratings >= 6 and ratings < 7:\n",
    "        return '6'\n",
    "    if ratings >= 7 and ratings < 8:\n",
    "        return '7'\n",
    "    return '8'\n",
    "\n",
    "data_support['ratings_categorize'] = data_support['ratings'].apply(categorize_ratings)"
   ]
  },
  {
   "cell_type": "code",
   "execution_count": 64,
   "metadata": {},
   "outputs": [
    {
     "data": {
      "text/html": [
       "<div>\n",
       "<style scoped>\n",
       "    .dataframe tbody tr th:only-of-type {\n",
       "        vertical-align: middle;\n",
       "    }\n",
       "\n",
       "    .dataframe tbody tr th {\n",
       "        vertical-align: top;\n",
       "    }\n",
       "\n",
       "    .dataframe thead th {\n",
       "        text-align: right;\n",
       "    }\n",
       "</style>\n",
       "<table border=\"1\" class=\"dataframe\">\n",
       "  <thead>\n",
       "    <tr style=\"text-align: right;\">\n",
       "      <th></th>\n",
       "      <th>count</th>\n",
       "    </tr>\n",
       "    <tr>\n",
       "      <th>ratings_categorize</th>\n",
       "      <th></th>\n",
       "    </tr>\n",
       "  </thead>\n",
       "  <tbody>\n",
       "    <tr>\n",
       "      <th>1</th>\n",
       "      <td>1</td>\n",
       "    </tr>\n",
       "    <tr>\n",
       "      <th>2</th>\n",
       "      <td>4</td>\n",
       "    </tr>\n",
       "    <tr>\n",
       "      <th>3</th>\n",
       "      <td>11</td>\n",
       "    </tr>\n",
       "    <tr>\n",
       "      <th>4</th>\n",
       "      <td>33</td>\n",
       "    </tr>\n",
       "    <tr>\n",
       "      <th>5</th>\n",
       "      <td>82</td>\n",
       "    </tr>\n",
       "    <tr>\n",
       "      <th>6</th>\n",
       "      <td>130</td>\n",
       "    </tr>\n",
       "    <tr>\n",
       "      <th>7</th>\n",
       "      <td>47</td>\n",
       "    </tr>\n",
       "    <tr>\n",
       "      <th>8</th>\n",
       "      <td>24</td>\n",
       "    </tr>\n",
       "  </tbody>\n",
       "</table>\n",
       "</div>"
      ],
      "text/plain": [
       "                    count\n",
       "ratings_categorize       \n",
       "1                       1\n",
       "2                       4\n",
       "3                      11\n",
       "4                      33\n",
       "5                      82\n",
       "6                     130\n",
       "7                      47\n",
       "8                      24"
      ]
     },
     "execution_count": 64,
     "metadata": {},
     "output_type": "execute_result"
    }
   ],
   "source": [
    "#посмотрим какой рейтинг у фильмов с господдержкой\n",
    "data_support_ratings = data_support.pivot_table (index = 'ratings_categorize', values = 'puNumber', aggfunc = 'count')\n",
    "data_support_ratings.columns = ['count']\n",
    "data_support_ratings"
   ]
  },
  {
   "cell_type": "code",
   "execution_count": 65,
   "metadata": {},
   "outputs": [
    {
     "data": {
      "text/plain": [
       "<AxesSubplot:title={'center':'Рейтинг фильмов'}, xlabel='Рейтинг', ylabel='Количество фильмов'>"
      ]
     },
     "execution_count": 65,
     "metadata": {},
     "output_type": "execute_result"
    },
    {
     "data": {
      "image/png": "[encoded data removed]",
      "text/plain": [
       "<Figure size 864x288 with 1 Axes>"
      ]
     },
     "metadata": {
      "needs_background": "light"
     },
     "output_type": "display_data"
    }
   ],
   "source": [
    "#визуализируем данные таблицы\n",
    "data_support_ratings.plot(y = 'count', kind = 'bar', figsize=(12, 4), title = 'Рейтинг фильмов', xlabel = 'Рейтинг', ylabel = 'Количество фильмов')"
   ]
  },
  {
   "cell_type": "code",
   "execution_count": 66,
   "metadata": {},
   "outputs": [
    {
     "data": {
      "text/plain": [
       "array(['Пока еще жива', 'А зори здесь тихие..._', 'Призрак_.', 'Ведьма .',\n",
       "       'Батальонъ', 'Битва за Севастополь', 'Воин (2015)', 'Однажды._',\n",
       "       'Крепость. Щитом и мечом', '72 часа', 'Частное пионерское-2',\n",
       "       '28 Панфиловцев', 'Экипаж .', 'ВСЯ НАША НАДЕЖДА...',\n",
       "       'Человек из будущего', 'Чемпионы: Быстрее. Выше. Сильнее',\n",
       "       'Тайна Снежной королевы', 'Я-Учитель', 'ХИТ', 'Герой (2015)',\n",
       "       'Время первых (2017)', 'Рок', 'ТЕНЬ', 'Ура! Каникулы!', 'БОЛЬШОЙ',\n",
       "       'Простая история .',\n",
       "       'Колобанга. Только для пользователей Интернета (26 серий)',\n",
       "       'Мотылёк.', 'Матильда', 'Салют-7', 'Жили-были', 'Первые',\n",
       "       'Движение вверх',\n",
       "       'Детский юмористический киножурнал \"ЕРАЛАШ\", выпуски 312-323',\n",
       "       'Двое', 'Киноальманах \"Свидетели\"', 'Один день лета', 'Кровь',\n",
       "       'Крик тишины', 'Рассвет', 'Солдатик', 'Балканский рубеж',\n",
       "       'Миллиард', 'Люби их всех', 'Я не такой. Я не такая', 'Подкидыш',\n",
       "       'Сестренка', 'Байкал - Сердце мира 3D', 'Волшебник', 'Герой',\n",
       "       'РОБО', 'Успех', 'Фиксики против кработов'], dtype=object)"
      ]
     },
     "execution_count": 66,
     "metadata": {},
     "output_type": "execute_result"
    }
   ],
   "source": [
    "#выведем названия фильмов с рейтингом от 7 \n",
    "data_support.query('ratings >= 7')['title'].unique()"
   ]
  },
  {
   "cell_type": "code",
   "execution_count": 67,
   "metadata": {},
   "outputs": [
    {
     "name": "stderr",
     "output_type": "stream",
     "text": [
      "/tmp/ipykernel_48/3578037837.py:19: SettingWithCopyWarning: \n",
      "A value is trying to be set on a copy of a slice from a DataFrame.\n",
      "Try using .loc[row_indexer,col_indexer] = value instead\n",
      "\n",
      "See the caveats in the documentation: https://pandas.pydata.org/pandas-docs/stable/user_guide/indexing.html#returning-a-view-versus-a-copy\n",
      "  data_support_not['ratings_categorize'] = data_support_not['ratings'].apply(categorize_ratings)\n"
     ]
    },
    {
     "data": {
      "text/html": [
       "<div>\n",
       "<style scoped>\n",
       "    .dataframe tbody tr th:only-of-type {\n",
       "        vertical-align: middle;\n",
       "    }\n",
       "\n",
       "    .dataframe tbody tr th {\n",
       "        vertical-align: top;\n",
       "    }\n",
       "\n",
       "    .dataframe thead th {\n",
       "        text-align: right;\n",
       "    }\n",
       "</style>\n",
       "<table border=\"1\" class=\"dataframe\">\n",
       "  <thead>\n",
       "    <tr style=\"text-align: right;\">\n",
       "      <th></th>\n",
       "      <th>count</th>\n",
       "    </tr>\n",
       "    <tr>\n",
       "      <th>ratings_categorize</th>\n",
       "      <th></th>\n",
       "    </tr>\n",
       "  </thead>\n",
       "  <tbody>\n",
       "    <tr>\n",
       "      <th>1</th>\n",
       "      <td>18</td>\n",
       "    </tr>\n",
       "    <tr>\n",
       "      <th>2</th>\n",
       "      <td>32</td>\n",
       "    </tr>\n",
       "    <tr>\n",
       "      <th>3</th>\n",
       "      <td>112</td>\n",
       "    </tr>\n",
       "    <tr>\n",
       "      <th>4</th>\n",
       "      <td>367</td>\n",
       "    </tr>\n",
       "    <tr>\n",
       "      <th>5</th>\n",
       "      <td>1100</td>\n",
       "    </tr>\n",
       "    <tr>\n",
       "      <th>6</th>\n",
       "      <td>2275</td>\n",
       "    </tr>\n",
       "    <tr>\n",
       "      <th>7</th>\n",
       "      <td>1884</td>\n",
       "    </tr>\n",
       "    <tr>\n",
       "      <th>8</th>\n",
       "      <td>1363</td>\n",
       "    </tr>\n",
       "  </tbody>\n",
       "</table>\n",
       "</div>"
      ],
      "text/plain": [
       "                    count\n",
       "ratings_categorize       \n",
       "1                      18\n",
       "2                      32\n",
       "3                     112\n",
       "4                     367\n",
       "5                    1100\n",
       "6                    2275\n",
       "7                    1884\n",
       "8                    1363"
      ]
     },
     "execution_count": 67,
     "metadata": {},
     "output_type": "execute_result"
    }
   ],
   "source": [
    "#данные не с чем сравнить. посмотрим рейтинг фильмов без гос поддержки\n",
    "def categorize_ratings(ratings):\n",
    "    if ratings >= 1 and ratings < 2:\n",
    "        return '1'\n",
    "    if ratings >= 2 and ratings < 3:\n",
    "        return '2'\n",
    "    if ratings >= 3 and ratings < 4:\n",
    "        return '3'\n",
    "    if ratings >= 4 and ratings < 5:\n",
    "        return '4'\n",
    "    if ratings >= 5 and ratings < 6:\n",
    "        return '5'\n",
    "    if ratings >= 6 and ratings < 7:\n",
    "        return '6'\n",
    "    if ratings >= 7 and ratings < 8:\n",
    "        return '7'\n",
    "    return '8'\n",
    "\n",
    "data_support_not['ratings_categorize'] = data_support_not['ratings'].apply(categorize_ratings)\n",
    "\n",
    "#посмотрим какой рейтинг у фильмов без господдержкой\n",
    "data_support_not_ratings = data_support_not.pivot_table (index = 'ratings_categorize', values = 'puNumber', aggfunc = 'count')\n",
    "data_support_not_ratings.columns = ['count']\n",
    "data_support_not_ratings"
   ]
  },
  {
   "cell_type": "code",
   "execution_count": 68,
   "metadata": {},
   "outputs": [
    {
     "data": {
      "text/plain": [
       "<AxesSubplot:title={'center':'Рейтинг фильмов (без гос поддержки)'}, xlabel='Рейтинг', ylabel='Количество'>"
      ]
     },
     "execution_count": 68,
     "metadata": {},
     "output_type": "execute_result"
    },
    {
     "data": {
      "image/png": "[encoded data removed]",
      "text/plain": [
       "<Figure size 864x288 with 1 Axes>"
      ]
     },
     "metadata": {
      "needs_background": "light"
     },
     "output_type": "display_data"
    }
   ],
   "source": [
    "#визуализируем данные таблицы\n",
    "data_support_not_ratings.plot(y = 'count', kind = 'bar', figsize=(12, 4), title = 'Рейтинг фильмов (без гос поддержки)', xlabel = 'Рейтинг', ylabel = 'Количество')"
   ]
  },
  {
   "cell_type": "code",
   "execution_count": 69,
   "metadata": {},
   "outputs": [
    {
     "data": {
      "text/plain": [
       "<AxesSubplot:>"
      ]
     },
     "execution_count": 69,
     "metadata": {},
     "output_type": "execute_result"
    },
    {
     "data": {
      "image/png": "[encoded data removed]",
      "text/plain": [
       "<Figure size 432x288 with 1 Axes>"
      ]
     },
     "metadata": {
      "needs_background": "light"
     },
     "output_type": "display_data"
    }
   ],
   "source": [
    "#построим диаграмму размаха для столбца со значениями рейтинга из таблицы с фильмами с господдержкой\n",
    "import matplotlib.pyplot as plt\n",
    "data_support.boxplot(column=['ratings'], grid = False)"
   ]
  },
  {
   "cell_type": "code",
   "execution_count": 70,
   "metadata": {},
   "outputs": [
    {
     "data": {
      "text/plain": [
       "<AxesSubplot:>"
      ]
     },
     "execution_count": 70,
     "metadata": {},
     "output_type": "execute_result"
    },
    {
     "data": {
      "image/png": "[encoded data removed]",
      "text/plain": [
       "<Figure size 432x288 with 1 Axes>"
      ]
     },
     "metadata": {
      "needs_background": "light"
     },
     "output_type": "display_data"
    }
   ],
   "source": [
    "#построим диаграмму размаха для столбца со значениями рейтинга из таблицы с фильмами БЕЗ господдержкой\n",
    "import matplotlib.pyplot as plt\n",
    "data_support_not.boxplot(column=['ratings'], grid = False)"
   ]
  },
  {
   "cell_type": "markdown",
   "metadata": {},
   "source": [
    "И в когорте \"с финансирование\" и \"без финансирование\" пик значений рейтинга приходится на \"6\". Но, в когорте \"без финансирования\" объем фильмов в категориях с рейтингом \"7\" и \"8\" - значительно выше, чем в когорте с фильмами с госфинансированием. "
   ]
  },
  {
   "cell_type": "code",
   "execution_count": 71,
   "metadata": {},
   "outputs": [
    {
     "data": {
      "text/html": [
       "<div>\n",
       "<style scoped>\n",
       "    .dataframe tbody tr th:only-of-type {\n",
       "        vertical-align: middle;\n",
       "    }\n",
       "\n",
       "    .dataframe tbody tr th {\n",
       "        vertical-align: top;\n",
       "    }\n",
       "\n",
       "    .dataframe thead th {\n",
       "        text-align: right;\n",
       "    }\n",
       "</style>\n",
       "<table border=\"1\" class=\"dataframe\">\n",
       "  <thead>\n",
       "    <tr style=\"text-align: right;\">\n",
       "      <th></th>\n",
       "      <th>sum</th>\n",
       "    </tr>\n",
       "    <tr>\n",
       "      <th>genres_main</th>\n",
       "      <th></th>\n",
       "    </tr>\n",
       "  </thead>\n",
       "  <tbody>\n",
       "    <tr>\n",
       "      <th>unknown</th>\n",
       "      <td>688969465.00000</td>\n",
       "    </tr>\n",
       "    <tr>\n",
       "      <th>биография</th>\n",
       "      <td>112510000.00000</td>\n",
       "    </tr>\n",
       "    <tr>\n",
       "      <th>боевик</th>\n",
       "      <td>334000000.00000</td>\n",
       "    </tr>\n",
       "    <tr>\n",
       "      <th>военный</th>\n",
       "      <td>422000866.00000</td>\n",
       "    </tr>\n",
       "    <tr>\n",
       "      <th>детектив</th>\n",
       "      <td>485000000.00000</td>\n",
       "    </tr>\n",
       "    <tr>\n",
       "      <th>детский</th>\n",
       "      <td>119000000.00000</td>\n",
       "    </tr>\n",
       "    <tr>\n",
       "      <th>драма</th>\n",
       "      <td>5314406632.00000</td>\n",
       "    </tr>\n",
       "    <tr>\n",
       "      <th>история</th>\n",
       "      <td>1020000000.00000</td>\n",
       "    </tr>\n",
       "    <tr>\n",
       "      <th>комедия</th>\n",
       "      <td>3218282945.00000</td>\n",
       "    </tr>\n",
       "    <tr>\n",
       "      <th>криминал</th>\n",
       "      <td>280000000.00000</td>\n",
       "    </tr>\n",
       "    <tr>\n",
       "      <th>мелодрама</th>\n",
       "      <td>398000000.00000</td>\n",
       "    </tr>\n",
       "    <tr>\n",
       "      <th>мультфильм</th>\n",
       "      <td>2461520000.00000</td>\n",
       "    </tr>\n",
       "    <tr>\n",
       "      <th>мюзикл</th>\n",
       "      <td>240453119.00000</td>\n",
       "    </tr>\n",
       "    <tr>\n",
       "      <th>приключения</th>\n",
       "      <td>696000000.00000</td>\n",
       "    </tr>\n",
       "    <tr>\n",
       "      <th>реальное ТВ</th>\n",
       "      <td>53000000.00000</td>\n",
       "    </tr>\n",
       "    <tr>\n",
       "      <th>семейный</th>\n",
       "      <td>339000000.00000</td>\n",
       "    </tr>\n",
       "    <tr>\n",
       "      <th>спорт</th>\n",
       "      <td>455000000.00000</td>\n",
       "    </tr>\n",
       "    <tr>\n",
       "      <th>триллер</th>\n",
       "      <td>769645285.00000</td>\n",
       "    </tr>\n",
       "    <tr>\n",
       "      <th>ужасы</th>\n",
       "      <td>355000000.00000</td>\n",
       "    </tr>\n",
       "    <tr>\n",
       "      <th>фантастика</th>\n",
       "      <td>1406000000.00000</td>\n",
       "    </tr>\n",
       "    <tr>\n",
       "      <th>фэнтези</th>\n",
       "      <td>1032900000.00000</td>\n",
       "    </tr>\n",
       "  </tbody>\n",
       "</table>\n",
       "</div>"
      ],
      "text/plain": [
       "                         sum\n",
       "genres_main                 \n",
       "unknown      688969465.00000\n",
       "биография    112510000.00000\n",
       "боевик       334000000.00000\n",
       "военный      422000866.00000\n",
       "детектив     485000000.00000\n",
       "детский      119000000.00000\n",
       "драма       5314406632.00000\n",
       "история     1020000000.00000\n",
       "комедия     3218282945.00000\n",
       "криминал     280000000.00000\n",
       "мелодрама    398000000.00000\n",
       "мультфильм  2461520000.00000\n",
       "мюзикл       240453119.00000\n",
       "приключения  696000000.00000\n",
       "реальное ТВ   53000000.00000\n",
       "семейный     339000000.00000\n",
       "спорт        455000000.00000\n",
       "триллер      769645285.00000\n",
       "ужасы        355000000.00000\n",
       "фантастика  1406000000.00000\n",
       "фэнтези     1032900000.00000"
      ]
     },
     "execution_count": 71,
     "metadata": {},
     "output_type": "execute_result"
    }
   ],
   "source": [
    "#посмотрим на какой жанр выделяли больше средств\n",
    "data_support_genres = data_support.pivot_table(index = 'genres_main', values = 'support_sum', aggfunc = 'sum')\n",
    "data_support_genres.columns = ['sum']\n",
    "data_support_genres"
   ]
  },
  {
   "cell_type": "code",
   "execution_count": 72,
   "metadata": {},
   "outputs": [
    {
     "data": {
      "text/plain": [
       "<AxesSubplot:title={'center':'Гос.финансирование кино, разбивка по жанрам'}, xlabel='Жанр', ylabel='Объем финансирования'>"
      ]
     },
     "execution_count": 72,
     "metadata": {},
     "output_type": "execute_result"
    },
    {
     "data": {
      "image/png": "[encoded data removed]",
      "text/plain": [
       "<Figure size 864x288 with 1 Axes>"
      ]
     },
     "metadata": {
      "needs_background": "light"
     },
     "output_type": "display_data"
    }
   ],
   "source": [
    "data_support_genres.plot(y = 'sum', kind = 'bar', figsize=(12, 4), title = 'Гос.финансирование кино, разбивка по жанрам', xlabel = 'Жанр', ylabel = 'Объем финансирования')"
   ]
  },
  {
   "cell_type": "markdown",
   "metadata": {},
   "source": [
    "Больше всего средств было выделено на драмы. Далее идут комедии и мультфильмы."
   ]
  },
  {
   "cell_type": "code",
   "execution_count": 73,
   "metadata": {},
   "outputs": [
    {
     "name": "stderr",
     "output_type": "stream",
     "text": [
      "/tmp/ipykernel_48/2538580656.py:2: SettingWithCopyWarning: \n",
      "A value is trying to be set on a copy of a slice from a DataFrame.\n",
      "Try using .loc[row_indexer,col_indexer] = value instead\n",
      "\n",
      "See the caveats in the documentation: https://pandas.pydata.org/pandas-docs/stable/user_guide/indexing.html#returning-a-view-versus-a-copy\n",
      "  data_support['roi'] = ((data_support['box_office'] - data_support['budget']) / data_support['budget']) *100\n"
     ]
    }
   ],
   "source": [
    "#добавим в таблицу столбец с информацией об окупаемости каждого фильма\n",
    "data_support['roi'] = ((data_support['box_office'] - data_support['budget']) / data_support['budget']) *100\n"
   ]
  },
  {
   "cell_type": "code",
   "execution_count": 74,
   "metadata": {},
   "outputs": [
    {
     "data": {
      "text/html": [
       "<div>\n",
       "<style scoped>\n",
       "    .dataframe tbody tr th:only-of-type {\n",
       "        vertical-align: middle;\n",
       "    }\n",
       "\n",
       "    .dataframe tbody tr th {\n",
       "        vertical-align: top;\n",
       "    }\n",
       "\n",
       "    .dataframe thead th {\n",
       "        text-align: right;\n",
       "    }\n",
       "</style>\n",
       "<table border=\"1\" class=\"dataframe\">\n",
       "  <thead>\n",
       "    <tr style=\"text-align: right;\">\n",
       "      <th></th>\n",
       "      <th>median</th>\n",
       "    </tr>\n",
       "    <tr>\n",
       "      <th>genres_main</th>\n",
       "      <th></th>\n",
       "    </tr>\n",
       "  </thead>\n",
       "  <tbody>\n",
       "    <tr>\n",
       "      <th>unknown</th>\n",
       "      <td>-99.03957</td>\n",
       "    </tr>\n",
       "    <tr>\n",
       "      <th>биография</th>\n",
       "      <td>-68.31312</td>\n",
       "    </tr>\n",
       "    <tr>\n",
       "      <th>боевик</th>\n",
       "      <td>-56.38742</td>\n",
       "    </tr>\n",
       "    <tr>\n",
       "      <th>военный</th>\n",
       "      <td>-81.41818</td>\n",
       "    </tr>\n",
       "    <tr>\n",
       "      <th>детектив</th>\n",
       "      <td>-93.51895</td>\n",
       "    </tr>\n",
       "    <tr>\n",
       "      <th>детский</th>\n",
       "      <td>-97.26306</td>\n",
       "    </tr>\n",
       "    <tr>\n",
       "      <th>драма</th>\n",
       "      <td>-94.45897</td>\n",
       "    </tr>\n",
       "    <tr>\n",
       "      <th>история</th>\n",
       "      <td>-49.56141</td>\n",
       "    </tr>\n",
       "    <tr>\n",
       "      <th>комедия</th>\n",
       "      <td>-54.10007</td>\n",
       "    </tr>\n",
       "    <tr>\n",
       "      <th>криминал</th>\n",
       "      <td>-76.98222</td>\n",
       "    </tr>\n",
       "    <tr>\n",
       "      <th>мелодрама</th>\n",
       "      <td>-98.10832</td>\n",
       "    </tr>\n",
       "    <tr>\n",
       "      <th>мультфильм</th>\n",
       "      <td>-39.17475</td>\n",
       "    </tr>\n",
       "    <tr>\n",
       "      <th>мюзикл</th>\n",
       "      <td>-87.39149</td>\n",
       "    </tr>\n",
       "    <tr>\n",
       "      <th>приключения</th>\n",
       "      <td>-32.00595</td>\n",
       "    </tr>\n",
       "    <tr>\n",
       "      <th>реальное ТВ</th>\n",
       "      <td>-59.09862</td>\n",
       "    </tr>\n",
       "    <tr>\n",
       "      <th>семейный</th>\n",
       "      <td>-23.57152</td>\n",
       "    </tr>\n",
       "    <tr>\n",
       "      <th>спорт</th>\n",
       "      <td>86.85743</td>\n",
       "    </tr>\n",
       "    <tr>\n",
       "      <th>триллер</th>\n",
       "      <td>-94.22094</td>\n",
       "    </tr>\n",
       "    <tr>\n",
       "      <th>ужасы</th>\n",
       "      <td>-29.82296</td>\n",
       "    </tr>\n",
       "    <tr>\n",
       "      <th>фантастика</th>\n",
       "      <td>-61.25535</td>\n",
       "    </tr>\n",
       "    <tr>\n",
       "      <th>фэнтези</th>\n",
       "      <td>-73.41299</td>\n",
       "    </tr>\n",
       "  </tbody>\n",
       "</table>\n",
       "</div>"
      ],
      "text/plain": [
       "               median\n",
       "genres_main          \n",
       "unknown     -99.03957\n",
       "биография   -68.31312\n",
       "боевик      -56.38742\n",
       "военный     -81.41818\n",
       "детектив    -93.51895\n",
       "детский     -97.26306\n",
       "драма       -94.45897\n",
       "история     -49.56141\n",
       "комедия     -54.10007\n",
       "криминал    -76.98222\n",
       "мелодрама   -98.10832\n",
       "мультфильм  -39.17475\n",
       "мюзикл      -87.39149\n",
       "приключения -32.00595\n",
       "реальное ТВ -59.09862\n",
       "семейный    -23.57152\n",
       "спорт        86.85743\n",
       "триллер     -94.22094\n",
       "ужасы       -29.82296\n",
       "фантастика  -61.25535\n",
       "фэнтези     -73.41299"
      ]
     },
     "execution_count": 74,
     "metadata": {},
     "output_type": "execute_result"
    }
   ],
   "source": [
    "#посмотрим окупаемость по жанрам\n",
    "data_support_genres_roi = data_support.pivot_table(index = 'genres_main', values = 'roi', aggfunc = 'median')\n",
    "data_support_genres_roi.columns = ['median']\n",
    "data_support_genres_roi"
   ]
  },
  {
   "cell_type": "markdown",
   "metadata": {},
   "source": [
    "Самые высокие значения окупаемости у фильмов в жанре \"спорт\". "
   ]
  },
  {
   "cell_type": "code",
   "execution_count": 75,
   "metadata": {},
   "outputs": [
    {
     "data": {
      "text/html": [
       "<div>\n",
       "<style scoped>\n",
       "    .dataframe tbody tr th:only-of-type {\n",
       "        vertical-align: middle;\n",
       "    }\n",
       "\n",
       "    .dataframe tbody tr th {\n",
       "        vertical-align: top;\n",
       "    }\n",
       "\n",
       "    .dataframe thead th {\n",
       "        text-align: right;\n",
       "    }\n",
       "</style>\n",
       "<table border=\"1\" class=\"dataframe\">\n",
       "  <thead>\n",
       "    <tr style=\"text-align: right;\">\n",
       "      <th></th>\n",
       "      <th>median</th>\n",
       "    </tr>\n",
       "    <tr>\n",
       "      <th>genres_main</th>\n",
       "      <th></th>\n",
       "    </tr>\n",
       "  </thead>\n",
       "  <tbody>\n",
       "    <tr>\n",
       "      <th>биография</th>\n",
       "      <td>6.90000</td>\n",
       "    </tr>\n",
       "    <tr>\n",
       "      <th>боевик</th>\n",
       "      <td>6.45000</td>\n",
       "    </tr>\n",
       "    <tr>\n",
       "      <th>военный</th>\n",
       "      <td>6.40000</td>\n",
       "    </tr>\n",
       "    <tr>\n",
       "      <th>детектив</th>\n",
       "      <td>6.80000</td>\n",
       "    </tr>\n",
       "    <tr>\n",
       "      <th>детский</th>\n",
       "      <td>7.25000</td>\n",
       "    </tr>\n",
       "    <tr>\n",
       "      <th>драма</th>\n",
       "      <td>6.40000</td>\n",
       "    </tr>\n",
       "    <tr>\n",
       "      <th>история</th>\n",
       "      <td>5.90000</td>\n",
       "    </tr>\n",
       "    <tr>\n",
       "      <th>комедия</th>\n",
       "      <td>5.75000</td>\n",
       "    </tr>\n",
       "    <tr>\n",
       "      <th>криминал</th>\n",
       "      <td>7.80000</td>\n",
       "    </tr>\n",
       "    <tr>\n",
       "      <th>мелодрама</th>\n",
       "      <td>6.20000</td>\n",
       "    </tr>\n",
       "    <tr>\n",
       "      <th>мультфильм</th>\n",
       "      <td>6.20000</td>\n",
       "    </tr>\n",
       "    <tr>\n",
       "      <th>мюзикл</th>\n",
       "      <td>6.60000</td>\n",
       "    </tr>\n",
       "    <tr>\n",
       "      <th>приключения</th>\n",
       "      <td>5.70000</td>\n",
       "    </tr>\n",
       "    <tr>\n",
       "      <th>реальное ТВ</th>\n",
       "      <td>5.60000</td>\n",
       "    </tr>\n",
       "    <tr>\n",
       "      <th>семейный</th>\n",
       "      <td>4.80000</td>\n",
       "    </tr>\n",
       "    <tr>\n",
       "      <th>спорт</th>\n",
       "      <td>7.00000</td>\n",
       "    </tr>\n",
       "    <tr>\n",
       "      <th>триллер</th>\n",
       "      <td>5.60000</td>\n",
       "    </tr>\n",
       "    <tr>\n",
       "      <th>ужасы</th>\n",
       "      <td>5.10000</td>\n",
       "    </tr>\n",
       "    <tr>\n",
       "      <th>фантастика</th>\n",
       "      <td>5.95000</td>\n",
       "    </tr>\n",
       "    <tr>\n",
       "      <th>фэнтези</th>\n",
       "      <td>6.80000</td>\n",
       "    </tr>\n",
       "  </tbody>\n",
       "</table>\n",
       "</div>"
      ],
      "text/plain": [
       "             median\n",
       "genres_main        \n",
       "биография   6.90000\n",
       "боевик      6.45000\n",
       "военный     6.40000\n",
       "детектив    6.80000\n",
       "детский     7.25000\n",
       "драма       6.40000\n",
       "история     5.90000\n",
       "комедия     5.75000\n",
       "криминал    7.80000\n",
       "мелодрама   6.20000\n",
       "мультфильм  6.20000\n",
       "мюзикл      6.60000\n",
       "приключения 5.70000\n",
       "реальное ТВ 5.60000\n",
       "семейный    4.80000\n",
       "спорт       7.00000\n",
       "триллер     5.60000\n",
       "ужасы       5.10000\n",
       "фантастика  5.95000\n",
       "фэнтези     6.80000"
      ]
     },
     "execution_count": 75,
     "metadata": {},
     "output_type": "execute_result"
    }
   ],
   "source": [
    "#посмотрим рейтинги по жанрам\n",
    "data_support_genres_ratings = data_support.pivot_table(index = 'genres_main', values = 'ratings', aggfunc = 'median')\n",
    "data_support_genres_ratings.columns = ['median']\n",
    "data_support_genres_ratings"
   ]
  },
  {
   "cell_type": "code",
   "execution_count": 76,
   "metadata": {},
   "outputs": [
    {
     "data": {
      "text/plain": [
       "count    318.00000\n",
       "mean     -17.41764\n",
       "std      168.76368\n",
       "min      -99.99830\n",
       "25%      -97.66268\n",
       "50%      -82.35797\n",
       "75%       -3.10399\n",
       "max     1820.98043\n",
       "Name: roi, dtype: float64"
      ]
     },
     "execution_count": 76,
     "metadata": {},
     "output_type": "execute_result"
    }
   ],
   "source": [
    "#посмотрим общие сведения о столбце с информацией об окупаемости\n",
    "data_support['roi'].describe()"
   ]
  },
  {
   "cell_type": "code",
   "execution_count": 77,
   "metadata": {},
   "outputs": [
    {
     "data": {
      "text/html": [
       "<div>\n",
       "<style scoped>\n",
       "    .dataframe tbody tr th:only-of-type {\n",
       "        vertical-align: middle;\n",
       "    }\n",
       "\n",
       "    .dataframe tbody tr th {\n",
       "        vertical-align: top;\n",
       "    }\n",
       "\n",
       "    .dataframe thead th {\n",
       "        text-align: right;\n",
       "    }\n",
       "</style>\n",
       "<table border=\"1\" class=\"dataframe\">\n",
       "  <thead>\n",
       "    <tr style=\"text-align: right;\">\n",
       "      <th></th>\n",
       "      <th>median</th>\n",
       "    </tr>\n",
       "    <tr>\n",
       "      <th>year</th>\n",
       "      <th></th>\n",
       "    </tr>\n",
       "  </thead>\n",
       "  <tbody>\n",
       "    <tr>\n",
       "      <th>2013</th>\n",
       "      <td>-94.10111</td>\n",
       "    </tr>\n",
       "    <tr>\n",
       "      <th>2014</th>\n",
       "      <td>-93.06576</td>\n",
       "    </tr>\n",
       "    <tr>\n",
       "      <th>2015</th>\n",
       "      <td>-90.06986</td>\n",
       "    </tr>\n",
       "    <tr>\n",
       "      <th>2016</th>\n",
       "      <td>-84.82859</td>\n",
       "    </tr>\n",
       "    <tr>\n",
       "      <th>2017</th>\n",
       "      <td>-50.45284</td>\n",
       "    </tr>\n",
       "    <tr>\n",
       "      <th>2018</th>\n",
       "      <td>-65.10523</td>\n",
       "    </tr>\n",
       "    <tr>\n",
       "      <th>2019</th>\n",
       "      <td>-76.72116</td>\n",
       "    </tr>\n",
       "  </tbody>\n",
       "</table>\n",
       "</div>"
      ],
      "text/plain": [
       "        median\n",
       "year          \n",
       "2013 -94.10111\n",
       "2014 -93.06576\n",
       "2015 -90.06986\n",
       "2016 -84.82859\n",
       "2017 -50.45284\n",
       "2018 -65.10523\n",
       "2019 -76.72116"
      ]
     },
     "execution_count": 77,
     "metadata": {},
     "output_type": "execute_result"
    }
   ],
   "source": [
    "#создадим сводную таблицу\n",
    "data_support_roi_year = data_support.pivot_table(index = 'year', values = 'roi', aggfunc = 'median')\n",
    "data_support_roi_year.columns = ['median']\n",
    "data_support_roi_year"
   ]
  },
  {
   "cell_type": "code",
   "execution_count": 78,
   "metadata": {
    "scrolled": true
   },
   "outputs": [
    {
     "data": {
      "text/plain": [
       "<AxesSubplot:title={'center':'ROI по фильмам с господдержкой'}, xlabel='Год', ylabel='ROI'>"
      ]
     },
     "execution_count": 78,
     "metadata": {},
     "output_type": "execute_result"
    },
    {
     "data": {
      "image/png": "[encoded data removed]",
      "text/plain": [
       "<Figure size 864x288 with 1 Axes>"
      ]
     },
     "metadata": {
      "needs_background": "light"
     },
     "output_type": "display_data"
    }
   ],
   "source": [
    "data_support_roi_year.plot(y = 'median', kind = 'bar', figsize=(12, 4), title = 'ROI по фильмам с господдержкой', xlabel = 'Год', ylabel = 'ROI')"
   ]
  },
  {
   "cell_type": "markdown",
   "metadata": {},
   "source": [
    "Самый удачный год по окупаемости - 2017. "
   ]
  },
  {
   "cell_type": "code",
   "execution_count": 79,
   "metadata": {},
   "outputs": [
    {
     "data": {
      "text/html": [
       "<div>\n",
       "<style scoped>\n",
       "    .dataframe tbody tr th:only-of-type {\n",
       "        vertical-align: middle;\n",
       "    }\n",
       "\n",
       "    .dataframe tbody tr th {\n",
       "        vertical-align: top;\n",
       "    }\n",
       "\n",
       "    .dataframe thead th {\n",
       "        text-align: right;\n",
       "    }\n",
       "</style>\n",
       "<table border=\"1\" class=\"dataframe\">\n",
       "  <thead>\n",
       "    <tr style=\"text-align: right;\">\n",
       "      <th></th>\n",
       "      <th>sum</th>\n",
       "    </tr>\n",
       "    <tr>\n",
       "      <th>year</th>\n",
       "      <th></th>\n",
       "    </tr>\n",
       "  </thead>\n",
       "  <tbody>\n",
       "    <tr>\n",
       "      <th>2013</th>\n",
       "      <td>20322385.10000</td>\n",
       "    </tr>\n",
       "    <tr>\n",
       "      <th>2014</th>\n",
       "      <td>1017422166.60000</td>\n",
       "    </tr>\n",
       "    <tr>\n",
       "      <th>2015</th>\n",
       "      <td>5785285418.14000</td>\n",
       "    </tr>\n",
       "    <tr>\n",
       "      <th>2016</th>\n",
       "      <td>6081707839.10000</td>\n",
       "    </tr>\n",
       "    <tr>\n",
       "      <th>2017</th>\n",
       "      <td>10865075300.96000</td>\n",
       "    </tr>\n",
       "    <tr>\n",
       "      <th>2018</th>\n",
       "      <td>9934069010.25000</td>\n",
       "    </tr>\n",
       "    <tr>\n",
       "      <th>2019</th>\n",
       "      <td>8409627454.63000</td>\n",
       "    </tr>\n",
       "  </tbody>\n",
       "</table>\n",
       "</div>"
      ],
      "text/plain": [
       "                   sum\n",
       "year                  \n",
       "2013    20322385.10000\n",
       "2014  1017422166.60000\n",
       "2015  5785285418.14000\n",
       "2016  6081707839.10000\n",
       "2017 10865075300.96000\n",
       "2018  9934069010.25000\n",
       "2019  8409627454.63000"
      ]
     },
     "execution_count": 79,
     "metadata": {},
     "output_type": "execute_result"
    }
   ],
   "source": [
    "#посмотрим какие сборы у фильмов с господдержкой\n",
    "data_support_box_office = data_support.pivot_table (index = 'year', values = 'box_office', aggfunc = 'sum')\n",
    "data_support_box_office.columns = ['sum']\n",
    "data_support_box_office"
   ]
  },
  {
   "cell_type": "code",
   "execution_count": 80,
   "metadata": {},
   "outputs": [
    {
     "data": {
      "text/plain": [
       "<AxesSubplot:title={'center':'Сборы в руб по фильмам с господдержкой'}, xlabel='Год', ylabel='Сумма сборов'>"
      ]
     },
     "execution_count": 80,
     "metadata": {},
     "output_type": "execute_result"
    },
    {
     "data": {
      "image/png": "[encoded data removed]",
      "text/plain": [
       "<Figure size 864x288 with 1 Axes>"
      ]
     },
     "metadata": {
      "needs_background": "light"
     },
     "output_type": "display_data"
    }
   ],
   "source": [
    "data_support_box_office.plot(y = 'sum', kind = 'bar', figsize=(12, 4), title = 'Сборы в руб по фильмам с господдержкой', xlabel = 'Год', ylabel = 'Сумма сборов')"
   ]
  },
  {
   "cell_type": "code",
   "execution_count": 81,
   "metadata": {},
   "outputs": [
    {
     "data": {
      "text/html": [
       "<div>\n",
       "<style scoped>\n",
       "    .dataframe tbody tr th:only-of-type {\n",
       "        vertical-align: middle;\n",
       "    }\n",
       "\n",
       "    .dataframe tbody tr th {\n",
       "        vertical-align: top;\n",
       "    }\n",
       "\n",
       "    .dataframe thead th {\n",
       "        text-align: right;\n",
       "    }\n",
       "</style>\n",
       "<table border=\"1\" class=\"dataframe\">\n",
       "  <thead>\n",
       "    <tr style=\"text-align: right;\">\n",
       "      <th></th>\n",
       "      <th>sum</th>\n",
       "      <th>count</th>\n",
       "      <th>box_office_one_cinema</th>\n",
       "    </tr>\n",
       "    <tr>\n",
       "      <th>year</th>\n",
       "      <th></th>\n",
       "      <th></th>\n",
       "      <th></th>\n",
       "    </tr>\n",
       "  </thead>\n",
       "  <tbody>\n",
       "    <tr>\n",
       "      <th>2013</th>\n",
       "      <td>20322385.10000</td>\n",
       "      <td>2</td>\n",
       "      <td>10161192.55000</td>\n",
       "    </tr>\n",
       "    <tr>\n",
       "      <th>2014</th>\n",
       "      <td>1017422166.60000</td>\n",
       "      <td>16</td>\n",
       "      <td>63588885.41250</td>\n",
       "    </tr>\n",
       "    <tr>\n",
       "      <th>2015</th>\n",
       "      <td>5785285418.14000</td>\n",
       "      <td>85</td>\n",
       "      <td>68062181.38988</td>\n",
       "    </tr>\n",
       "    <tr>\n",
       "      <th>2016</th>\n",
       "      <td>6081707839.10000</td>\n",
       "      <td>60</td>\n",
       "      <td>101361797.31833</td>\n",
       "    </tr>\n",
       "    <tr>\n",
       "      <th>2017</th>\n",
       "      <td>10865075300.96000</td>\n",
       "      <td>39</td>\n",
       "      <td>278591674.38359</td>\n",
       "    </tr>\n",
       "    <tr>\n",
       "      <th>2018</th>\n",
       "      <td>9934069010.25000</td>\n",
       "      <td>56</td>\n",
       "      <td>177394089.46875</td>\n",
       "    </tr>\n",
       "    <tr>\n",
       "      <th>2019</th>\n",
       "      <td>8409627454.63000</td>\n",
       "      <td>60</td>\n",
       "      <td>140160457.57717</td>\n",
       "    </tr>\n",
       "  </tbody>\n",
       "</table>\n",
       "</div>"
      ],
      "text/plain": [
       "                   sum  count  box_office_one_cinema\n",
       "year                                                \n",
       "2013    20322385.10000      2         10161192.55000\n",
       "2014  1017422166.60000     16         63588885.41250\n",
       "2015  5785285418.14000     85         68062181.38988\n",
       "2016  6081707839.10000     60        101361797.31833\n",
       "2017 10865075300.96000     39        278591674.38359\n",
       "2018  9934069010.25000     56        177394089.46875\n",
       "2019  8409627454.63000     60        140160457.57717"
      ]
     },
     "execution_count": 81,
     "metadata": {},
     "output_type": "execute_result"
    }
   ],
   "source": [
    "#посмотрим какие сборы у фильмов в среднем на фильм\n",
    "data_support_box_office_one = data_support.pivot_table (index = 'year', values = ['box_office'], aggfunc = ['sum', 'count'])\n",
    "data_support_box_office_one.columns = ['sum', 'count']\n",
    "data_support_box_office_one['box_office_one_cinema'] = data_support_box_office_one['sum'] / data_support_box_office_one['count']\n",
    "data_support_box_office_one"
   ]
  },
  {
   "cell_type": "code",
   "execution_count": 82,
   "metadata": {},
   "outputs": [
    {
     "data": {
      "text/plain": [
       "<AxesSubplot:title={'center':'Средняя сумма сборов с фильма с гос.поддержкой'}, xlabel='Год', ylabel='Средняя сумма сбора с фильма'>"
      ]
     },
     "execution_count": 82,
     "metadata": {},
     "output_type": "execute_result"
    },
    {
     "data": {
      "image/png": "[encoded data removed]",
      "text/plain": [
       "<Figure size 864x288 with 1 Axes>"
      ]
     },
     "metadata": {
      "needs_background": "light"
     },
     "output_type": "display_data"
    }
   ],
   "source": [
    "data_support_box_office_one.plot(y = 'box_office_one_cinema', kind = 'bar', figsize=(12, 4), title = 'Средняя сумма сборов с фильма с гос.поддержкой', xlabel = 'Год', ylabel = 'Средняя сумма сбора с фильма')"
   ]
  },
  {
   "cell_type": "code",
   "execution_count": 83,
   "metadata": {},
   "outputs": [
    {
     "data": {
      "text/plain": [
       "array(['Салют-7', 'Последний богатырь', 'Ёлки Новые', 'Движение вверх',\n",
       "       'Три богатыря и принцесса Египта'], dtype=object)"
      ]
     },
     "execution_count": 83,
     "metadata": {},
     "output_type": "execute_result"
    }
   ],
   "source": [
    "#выведем названия фильмов с наибольшим количеством сборов в 2017 году\n",
    "data_support.query('box_office > 600000000 & year == 2017')['title'].unique()"
   ]
  },
  {
   "cell_type": "code",
   "execution_count": 84,
   "metadata": {},
   "outputs": [
    {
     "data": {
      "text/plain": [
       "325.2521824225329"
      ]
     },
     "execution_count": 84,
     "metadata": {},
     "output_type": "execute_result"
    }
   ],
   "source": [
    "#посмотрим какая средняя окупаемость у фильмов с наибольшими сборами\n",
    "data_support.query('box_office > 600000000')['roi'].median()"
   ]
  },
  {
   "cell_type": "code",
   "execution_count": 85,
   "metadata": {},
   "outputs": [
    {
     "data": {
      "text/plain": [
       "array(['Призрак_.', 'Дуxless 2', 'Битва за Севастополь',\n",
       "       '8 новых свиданий', 'Воин (2015)', 'Бармен.', 'Без границ',\n",
       "       'Самый Лучший День', 'Страна чудес', 'Срочно выйду замуж',\n",
       "       '28 Панфиловцев', 'Помню - не помню!', 'Экипаж .',\n",
       "       'Иван Царевич и Серый Волк 3', 'Кухня. Последняя битва',\n",
       "       'Гуляй, Вася !', 'Невеста .', 'Притяжение (2016)',\n",
       "       'Последний богатырь', 'Ёлки Новые', 'Движение вверх',\n",
       "       'Три богатыря и принцесса Египта', 'Селфи', 'Лёд',\n",
       "       'О чем говорят мужчины. Продолжение', 'Я худею', 'Тренер',\n",
       "       'Русалка. Озеро мертвых', 'Непрощенный',\n",
       "       'Три богатыря и наследница престола', 'Ёлки Последние', 'Т-34',\n",
       "       'Бабушка лёгкого поведения 2', 'Балканский рубеж',\n",
       "       'Трезвый водитель', 'Верность', 'Давай разведемся!', 'Холоп',\n",
       "       'Иван Царевич и Серый Волк 4'], dtype=object)"
      ]
     },
     "execution_count": 85,
     "metadata": {},
     "output_type": "execute_result"
    }
   ],
   "source": [
    "#выведем названия фильмов с ROI больше 100 (то есть с теми, что окупились)\n",
    "data_support.query('roi > 100')['title'].unique()"
   ]
  },
  {
   "cell_type": "markdown",
   "metadata": {},
   "source": [
    "Наибольшие сборы принесли фильмы вышедшие в 2017 году. \n",
    "Фильмы, которые окупились: 'Призрак_.', '14+', 'Дуxless 2', 'Битва за Севастополь', '8 новых свиданий', 'Воин (2015)', 'Бармен.', 'Савва. Сердце воина', 'Тряпичный союз', 'Без границ', 'Самый Лучший День', 'Страна чудес', 'Срочно выйду замуж', '28 Панфиловцев', 'Помню - не помню!', 'Экипаж .', 'Любовь с ограничениями', 'Иван Царевич и Серый Волк 3', 'Кухня. Последняя битва', 'Гуляй, Вася !', 'Невеста .', 'Притяжение (2016)', 'Чудо-юдо', 'Мифы', 'Последний богатырь', 'Ёлки Новые', 'Движение вверх', 'Три богатыря и принцесса Египта', 'Селфи', 'Лёд', 'О чем говорят мужчины. Продолжение', 'Я худею', 'Два хвоста', 'Тренер', 'Русалка. Озеро мертвых', 'Принцесса и дракон', 'Непрощенный', 'Баба Яга', 'Три богатыря и наследница престола', 'Ёлки Последние', 'Т-34', 'Бабушка лёгкого поведения 2', 'Балканский рубеж', 'Трезвый водитель', 'Большое путешествие', 'Верность', 'Давай разведемся!', 'Холоп', 'Иван Царевич и Серый Волк 4'],"
   ]
  },
  {
   "cell_type": "markdown",
   "metadata": {
    "id": "V2gYwMcPgFyd"
   },
   "source": [
    "### Шаг 5. Общие выводы"
   ]
  },
  {
   "cell_type": "markdown",
   "metadata": {
    "id": "AYRg3dzXgFye"
   },
   "source": [
    "5.1. Подготовительный этап\n",
    "\n",
    "В хоте исследования нами были обработаны данные, полученные из файлов '/datasets/mkrf_movies.csv' и '/datasets/mkrf_shows.csv'. Данные содержат информацию о рынке российского кинопроката - о фильмах, получивших прокатные удостоверения за период 2010 - 2019гг, информацию о дате премьеры, стране-производителе, возрастной категории, объеме госфинансирования, рейтинге, сборах и др. \n",
    "\n",
    "В ходе исследования на предварительном этапе были проведены следующие работы: \n",
    "- объеденены данные из двух таблиц;\n",
    "- изменен тип данных для столбцаов show_start_date и ratings;\n",
    "- удаленены строки с отсутствующими данными и дубли в puNumber;\n",
    "- обработаны пропуски данных в genres и director;\n",
    "- обработаны значения в type; \n",
    "- изучены данных в столбцах с категориальными значениями. выявлена проблема, присущая большинству столбцов с таким типом информации: в столбцах много неявных дубликатов;\n",
    "- для фильмов с господдержкой заполнены отсутствующие значения в \"общий бюджет\". \n",
    "\n",
    "Для полноты анализа были добавлены новые столбцы:\n",
    "- год выхода фильма в прокат;\n",
    "- основной жанр фильма;\n",
    "- главный режиссер;\n",
    "- общий объем финансирования от государства;\n",
    "- категория рейтинга.\n",
    "\n",
    "5.2 Выводы по целям исследования\n",
    "Общие выводы: \n",
    "- в периоде 2010 - 2019гг. прокатное удостоверение было выдано 7 483. Из них только 3 158 фильмов вышли в прокат в кинотеатры. Ситуация сильно изменилась в 2015г - в прокат стали выходить 50-70% фильмов;\n",
    "- минимальная сумма сборов была в 2010 году (порядка 2млрд.руб.), максимальная в 2017 году (порядка 48млрд.руб.);\n",
    "- средняя сумма сборов и медианная сумма сборов по годам отличаются. максимальные значения были достигнуты в 2017 года - порядка 10млн медиана, и порядка 136млн среднее. в последующие года эти показатели несколько снизились;\n",
    "- в каждом исследуемом периоде средняя и медианные значения значительно различаются (более чем в 20р). Так, например, в 2016г: средняя = 91 000 569р, медиана = 3 846 679р. В 2019г: средняя = 91 369 261р, медианная = 4 627 798р. Это можно объяснить тем, что в каждом периоде есть суперкассовые фильмы (мировые премьеры получившие в т.ч. большую медийную и промоподдержку) - такие фильмы единичны.  \n",
    "- возрастное ограничение влияет на сумму сборов. Так, наибольшие сборы у фильмов 16+ (эта категория также лидер в общем количестве фильмов). Далее идут сборы у 12+ и 6+;\n",
    "- ситуация менялась в 2018г, когда лидером, наряду с фильмами 16+, стали фильмы с возрастным ограничением 12+;\n",
    "- также ситуация несколько отличалась в 2019г, когда лидером по сборам стали фильмы из категории 6+. Вероятно, в эти годы выходили кассовые фильмы в категориях с данными возрастными ограничениями. \n",
    "\n",
    "Общие выводы по фильмам с господдержкой:\n",
    "- всего 329 фильмов получил господдержку в период с 2010 по 2019гг.;\n",
    "- объем невозвратной господдержки порядка 15,8млрд.руб.;\n",
    "- объем возвратной господдержки порядка 3,8млрд.руб.;\n",
    "- общий объем господдержки в периоде 2010-2019гг составил порядка 19,6млрд.руб.;\n",
    "- больше всего профинансировано от \"Фонд кино\" - 144 фильма на общую сумму порядка 13млрд.руб (порядка 70% от всех средств). У него же наибольшее медианное значение - порядка 60млн на один фильм, в то время как у Министерства культуры только 28млн/фильм;\n",
    "- roi окупаемости фильмов с гос.поддержкой меньше 100%. В общей сумме затраты не окупаются;\n",
    "- у фильмов с господдержкой больше всего фильмов с рейтингом \"6\". мы сравнили данные с фильмами без господдержки. в данной когорте так же больше фильмов с рейтингом \"6\", но \"хвост\" фильмов с рейтингом \"7/8\" - больше;\n",
    "- список фильмов с рейтингом больше 7:\n",
    "'Пока еще жива', 'А зори здесь тихие..._', 'Призрак_.', 'Ведьма .', 'Батальонъ', 'Битва за Севастополь', 'Воин (2015)', 'Однажды._', 'Крепость. Щитом и мечом', '72 часа', 'Частное пионерское-2', '28 Панфиловцев', 'Экипаж .', 'ВСЯ НАША НАДЕЖДА...', 'Человек из будущего', 'Чемпионы: Быстрее. Выше. Сильнее', 'Тайна Снежной королевы', 'Я-Учитель', 'ХИТ', 'Герой (2015)', 'Время первых (2017)', 'Рок', 'ТЕНЬ', 'Ура! Каникулы!', 'БОЛЬШОЙ', 'Простая история .', 'Колобанга. Только для пользователей Интернета (26 серий)', 'Мотылёк.', 'Матильда', 'Салют-7', 'Жили-были', 'Первые', 'Движение вверх', 'Детский юмористический киножурнал \"ЕРАЛАШ\", выпуски 312-323', 'Двое', 'Киноальманах \"Свидетели\"', 'Один день лета', 'Кровь', 'Крик тишины', 'Рассвет', 'Солдатик', 'Балканский рубеж', 'Миллиард', 'Люби их всех', 'Я не такой. Я не такая', 'Подкидыш', 'Сестренка', 'Байкал - Сердце мира 3D', 'Волшебник', 'Герой', 'РОБО', 'Фиксики против кработов';\n",
    "- самые высокие рейтинги у фильмов в жанре \"криминал\" (7,8), далее \"детский\" (7,2) и \"спорт\" (7);\n",
    "- больше всего средств было выделено на драмы. Далее идут комедии и мультфильмы;\n",
    "- самые высокие значения окупаемости у фильмов в жанре \"спорт\";\n",
    "- больше всего сборов принесли фильмы вышедшие в 2017 году;\n",
    "- в 2017 году каждый вышедший фильм с господдрежкой принес сборов на  278млн.руб в среднем;\n",
    "- фильмы принесшие наибольшее количество сборов в 2017 году: 'Салют-7', 'Последний богатырь', 'Ёлки Новые', 'Движение вверх', 'Три богатыря и принцесса Египта';\n",
    "- фильмы, окупившиеся в прокате: 'Призрак_.', '14+', 'Дуxless 2', 'Битва за Севастополь', '8 новых свиданий', 'Воин (2015)', 'Бармен.', 'Савва. Сердце воина', 'Тряпичный союз', 'Без границ', 'Самый Лучший День', 'Страна чудес', 'Срочно выйду замуж', '28 Панфиловцев', 'Помню - не помню!', 'Экипаж .', 'Любовь с ограничениями', 'Иван Царевич и Серый Волк 3', 'Кухня. Последняя битва', 'Гуляй, Вася !', 'Невеста .', 'Притяжение (2016)', 'Чудо-юдо', 'Мифы', 'Последний богатырь', 'Ёлки Новые', 'Движение вверх', 'Три богатыря и принцесса Египта', 'Селфи', 'Лёд', 'О чем говорят мужчины. Продолжение', 'Я худею', 'Два хвоста', 'Тренер', 'Русалка. Озеро мертвых', 'Принцесса и дракон', 'Непрощенный', 'Баба Яга', 'Три богатыря и наследница престола', 'Ёлки Последние', 'Т-34', 'Бабушка лёгкого поведения 2', 'Балканский рубеж', 'Трезвый водитель', 'Большое путешествие', 'Верность', 'Давай разведемся!', 'Холоп', 'Иван Царевич и Серый Волк 4\n",
    "- среди фильмов получивших господдержку есть фильмы интересные пользователю (с высоким рейтингом) и фильмы окупившиеся в прокате (roi выше 100). Подробный анализ сценариев этих картин, а также их промоподдержки позволит составить критерии фильма для того чтобы он окупился в прокате.\n",
    "\n",
    "Общие рекомендации:\n",
    "- обработать столбец с данными о стране-производителе фильма. проанализировать, фильмы из каких стран чаще получают прокатные удостоверения, проанализировать, фильмы из каких стран имеют большие прокатные сборы;\n",
    "- добавить данные о господдержке фильмов в других странах - сравнить тренды и окупаемость;\n",
    "- добавить данные об общем бюджете на производство фильмов зарубежных производителей. выявить тренды их окупаемости (зависимости  с датой премьеры, жанром, рейтингом);\n",
    "- добавить данные о промоподдержке. выяснить, если ли корреляция с величиной сборов. выяснить, на сколько промоподдержка увеличивает сборы (в случае, если такая зависимость есть);\n",
    "- среди фильмов отечественного производства проанализировать какие студии имеют большие успех в прокате (рекомендовать к работе данные студии);\n",
    "- добавить для анализа информацию не только о сборах в кинотеатрах. но и сборах в онлайн-кинотеатрах. проанализировать тренды онлайн-кинотеатров - если ли различие в топе лидеров. попробовать определить какая стратегия запуска лучше: сначала кинотеатр, потом онлайн-кинотеатр, наоборот или одномоментный запуск. попробовать определить, возможно для разных жанров удачней разные стратегии."
   ]
  }
 ],
 "metadata": {
  "ExecuteTimeLog": [
   {
    "duration": 537,
    "start_time": "2021-07-07T10:12:08.634Z"
   },
   {
    "duration": 206,
    "start_time": "2021-07-07T10:12:30.191Z"
   },
   {
    "duration": 227,
    "start_time": "2021-07-07T10:12:33.078Z"
   },
   {
    "duration": 153,
    "start_time": "2021-07-07T10:13:42.146Z"
   },
   {
    "duration": 233,
    "start_time": "2021-07-07T10:30:09.252Z"
   },
   {
    "duration": 19,
    "start_time": "2021-07-07T10:30:15.577Z"
   },
   {
    "duration": 18,
    "start_time": "2021-07-07T10:30:57.348Z"
   },
   {
    "duration": 19,
    "start_time": "2021-07-07T10:31:17.452Z"
   },
   {
    "duration": 21,
    "start_time": "2021-07-07T10:31:32.227Z"
   },
   {
    "duration": 27,
    "start_time": "2021-07-07T10:32:06.588Z"
   },
   {
    "duration": 23,
    "start_time": "2021-07-07T10:32:43.645Z"
   },
   {
    "duration": 24,
    "start_time": "2021-07-07T10:33:06.948Z"
   },
   {
    "duration": 7,
    "start_time": "2021-07-07T10:33:28.558Z"
   },
   {
    "duration": 23,
    "start_time": "2021-07-07T10:33:43.761Z"
   },
   {
    "duration": 28,
    "start_time": "2021-07-07T10:34:13.466Z"
   },
   {
    "duration": 23,
    "start_time": "2021-07-07T10:35:56.187Z"
   },
   {
    "duration": 6,
    "start_time": "2021-07-07T10:36:48.182Z"
   },
   {
    "duration": 14,
    "start_time": "2021-07-07T10:37:49.641Z"
   },
   {
    "duration": 6,
    "start_time": "2021-07-07T10:38:06.694Z"
   },
   {
    "duration": 6,
    "start_time": "2021-07-07T10:38:13.493Z"
   },
   {
    "duration": 19,
    "start_time": "2021-07-07T10:38:44.056Z"
   },
   {
    "duration": 186,
    "start_time": "2021-07-07T10:48:35.618Z"
   },
   {
    "duration": 24,
    "start_time": "2021-07-07T10:48:51.498Z"
   },
   {
    "duration": 20,
    "start_time": "2021-07-07T10:48:59.415Z"
   },
   {
    "duration": 20,
    "start_time": "2021-07-07T10:53:02.195Z"
   },
   {
    "duration": 188,
    "start_time": "2021-07-07T10:54:40.486Z"
   },
   {
    "duration": 115,
    "start_time": "2021-07-07T10:54:52.552Z"
   },
   {
    "duration": 214,
    "start_time": "2021-07-07T10:54:56.354Z"
   },
   {
    "duration": 47,
    "start_time": "2021-07-07T10:54:58.282Z"
   },
   {
    "duration": 217,
    "start_time": "2021-07-07T10:59:16.075Z"
   },
   {
    "duration": 51,
    "start_time": "2021-07-07T10:59:16.243Z"
   },
   {
    "duration": 578,
    "start_time": "2021-07-07T10:59:18.774Z"
   },
   {
    "duration": 161,
    "start_time": "2021-07-07T10:59:21.238Z"
   },
   {
    "duration": 59,
    "start_time": "2021-07-07T10:59:21.453Z"
   },
   {
    "duration": 3,
    "start_time": "2021-07-07T11:02:10.786Z"
   },
   {
    "duration": 13,
    "start_time": "2021-07-07T11:07:07.722Z"
   },
   {
    "duration": 26,
    "start_time": "2021-07-07T11:07:17.958Z"
   },
   {
    "duration": 22,
    "start_time": "2021-07-07T11:08:17.939Z"
   },
   {
    "duration": 212,
    "start_time": "2021-07-07T11:08:19.665Z"
   },
   {
    "duration": 21,
    "start_time": "2021-07-07T11:08:29.945Z"
   },
   {
    "duration": 31,
    "start_time": "2021-07-07T11:08:38.899Z"
   },
   {
    "duration": 23,
    "start_time": "2021-07-07T11:08:54.527Z"
   },
   {
    "duration": 8,
    "start_time": "2021-07-07T11:18:55.974Z"
   },
   {
    "duration": 7,
    "start_time": "2021-07-07T11:19:03.639Z"
   },
   {
    "duration": 7,
    "start_time": "2021-07-07T11:19:06.444Z"
   },
   {
    "duration": 578,
    "start_time": "2021-07-07T12:09:59.576Z"
   },
   {
    "duration": 195,
    "start_time": "2021-07-07T12:10:00.156Z"
   },
   {
    "duration": 115,
    "start_time": "2021-07-07T12:10:00.353Z"
   },
   {
    "duration": 3,
    "start_time": "2021-07-07T12:10:00.470Z"
   },
   {
    "duration": 32,
    "start_time": "2021-07-07T12:10:00.474Z"
   },
   {
    "duration": 23,
    "start_time": "2021-07-07T12:10:00.508Z"
   },
   {
    "duration": 19,
    "start_time": "2021-07-07T12:10:00.533Z"
   },
   {
    "duration": 44,
    "start_time": "2021-07-07T12:10:00.553Z"
   },
   {
    "duration": 7,
    "start_time": "2021-07-07T12:10:00.600Z"
   },
   {
    "duration": 7,
    "start_time": "2021-07-07T12:19:45.761Z"
   },
   {
    "duration": 21,
    "start_time": "2021-07-07T12:21:35.482Z"
   },
   {
    "duration": 21,
    "start_time": "2021-07-07T12:29:23.569Z"
   },
   {
    "duration": 525,
    "start_time": "2021-07-07T12:29:44.542Z"
   },
   {
    "duration": 214,
    "start_time": "2021-07-07T12:29:45.069Z"
   },
   {
    "duration": 92,
    "start_time": "2021-07-07T12:29:45.285Z"
   },
   {
    "duration": 3,
    "start_time": "2021-07-07T12:29:45.379Z"
   },
   {
    "duration": 28,
    "start_time": "2021-07-07T12:29:45.384Z"
   },
   {
    "duration": 23,
    "start_time": "2021-07-07T12:29:45.413Z"
   },
   {
    "duration": 21,
    "start_time": "2021-07-07T12:29:45.437Z"
   },
   {
    "duration": 41,
    "start_time": "2021-07-07T12:29:45.460Z"
   },
   {
    "duration": 7,
    "start_time": "2021-07-07T12:29:45.502Z"
   },
   {
    "duration": 20,
    "start_time": "2021-07-07T12:29:45.511Z"
   },
   {
    "duration": 12,
    "start_time": "2021-07-07T12:34:02.800Z"
   },
   {
    "duration": 7,
    "start_time": "2021-07-07T12:35:10.479Z"
   },
   {
    "duration": 8,
    "start_time": "2021-07-07T12:35:22.440Z"
   },
   {
    "duration": 6,
    "start_time": "2021-07-07T12:35:35.649Z"
   },
   {
    "duration": 6,
    "start_time": "2021-07-07T12:35:43.107Z"
   },
   {
    "duration": 22,
    "start_time": "2021-07-07T12:38:03.029Z"
   },
   {
    "duration": 10,
    "start_time": "2021-07-07T12:38:06.592Z"
   },
   {
    "duration": 563,
    "start_time": "2021-07-07T12:38:46.493Z"
   },
   {
    "duration": 265,
    "start_time": "2021-07-07T12:38:47.058Z"
   },
   {
    "duration": 94,
    "start_time": "2021-07-07T12:38:47.325Z"
   },
   {
    "duration": 3,
    "start_time": "2021-07-07T12:38:47.422Z"
   },
   {
    "duration": 30,
    "start_time": "2021-07-07T12:38:47.427Z"
   },
   {
    "duration": 16,
    "start_time": "2021-07-07T12:38:53.305Z"
   },
   {
    "duration": 10,
    "start_time": "2021-07-07T12:38:53.499Z"
   },
   {
    "duration": 8,
    "start_time": "2021-07-07T12:39:48.161Z"
   },
   {
    "duration": 27,
    "start_time": "2021-07-07T12:41:17.629Z"
   },
   {
    "duration": 17,
    "start_time": "2021-07-07T12:41:17.867Z"
   },
   {
    "duration": 21,
    "start_time": "2021-07-07T12:41:19.310Z"
   },
   {
    "duration": 7,
    "start_time": "2021-07-07T12:41:19.544Z"
   },
   {
    "duration": 20,
    "start_time": "2021-07-07T12:41:20.504Z"
   },
   {
    "duration": 554,
    "start_time": "2021-07-07T12:56:23.696Z"
   },
   {
    "duration": 200,
    "start_time": "2021-07-07T12:56:25.234Z"
   },
   {
    "duration": 119,
    "start_time": "2021-07-07T12:56:25.480Z"
   },
   {
    "duration": 4,
    "start_time": "2021-07-07T12:56:25.762Z"
   },
   {
    "duration": 26,
    "start_time": "2021-07-07T12:56:27.172Z"
   },
   {
    "duration": 12,
    "start_time": "2021-07-07T12:56:29.051Z"
   },
   {
    "duration": 10,
    "start_time": "2021-07-07T12:56:29.291Z"
   },
   {
    "duration": 8,
    "start_time": "2021-07-07T12:56:29.623Z"
   },
   {
    "duration": 28,
    "start_time": "2021-07-07T12:56:32.137Z"
   },
   {
    "duration": 19,
    "start_time": "2021-07-07T12:56:39.785Z"
   },
   {
    "duration": 20,
    "start_time": "2021-07-07T12:56:44.297Z"
   },
   {
    "duration": 7,
    "start_time": "2021-07-07T12:56:45.392Z"
   },
   {
    "duration": 23,
    "start_time": "2021-07-07T12:56:46.615Z"
   },
   {
    "duration": 4,
    "start_time": "2021-07-07T12:57:06.625Z"
   },
   {
    "duration": 32,
    "start_time": "2021-07-07T12:57:36.690Z"
   },
   {
    "duration": 18,
    "start_time": "2021-07-07T12:58:00.149Z"
   },
   {
    "duration": 15,
    "start_time": "2021-07-07T12:59:16.793Z"
   },
   {
    "duration": 7,
    "start_time": "2021-07-07T13:19:22.624Z"
   },
   {
    "duration": 6,
    "start_time": "2021-07-07T14:17:33.527Z"
   },
   {
    "duration": 9,
    "start_time": "2021-07-07T14:17:48.409Z"
   },
   {
    "duration": 8,
    "start_time": "2021-07-07T14:20:13.060Z"
   },
   {
    "duration": 8,
    "start_time": "2021-07-07T14:20:37.957Z"
   },
   {
    "duration": 8,
    "start_time": "2021-07-07T14:20:47.470Z"
   },
   {
    "duration": 9,
    "start_time": "2021-07-07T14:20:54.503Z"
   },
   {
    "duration": 10,
    "start_time": "2021-07-07T14:28:57.763Z"
   },
   {
    "duration": 3,
    "start_time": "2021-07-07T14:30:23.377Z"
   },
   {
    "duration": 3,
    "start_time": "2021-07-07T14:30:36.489Z"
   },
   {
    "duration": 103,
    "start_time": "2021-07-07T14:30:52.351Z"
   },
   {
    "duration": 8,
    "start_time": "2021-07-07T14:30:54.763Z"
   },
   {
    "duration": 8,
    "start_time": "2021-07-07T14:31:29.301Z"
   },
   {
    "duration": 13,
    "start_time": "2021-07-07T14:31:44.516Z"
   },
   {
    "duration": 7,
    "start_time": "2021-07-07T14:33:10.972Z"
   },
   {
    "duration": 11,
    "start_time": "2021-07-07T14:33:27.780Z"
   },
   {
    "duration": 8,
    "start_time": "2021-07-07T14:34:44.588Z"
   },
   {
    "duration": 57,
    "start_time": "2021-07-07T14:35:59.042Z"
   },
   {
    "duration": 3,
    "start_time": "2021-07-07T14:36:28.168Z"
   },
   {
    "duration": 5,
    "start_time": "2021-07-07T14:36:46.254Z"
   },
   {
    "duration": 4,
    "start_time": "2021-07-07T14:36:52.714Z"
   },
   {
    "duration": 3,
    "start_time": "2021-07-07T14:36:56.612Z"
   },
   {
    "duration": 4,
    "start_time": "2021-07-07T14:36:57.049Z"
   },
   {
    "duration": 3,
    "start_time": "2021-07-07T14:39:21.214Z"
   },
   {
    "duration": 7,
    "start_time": "2021-07-07T14:39:52.406Z"
   },
   {
    "duration": 11,
    "start_time": "2021-07-07T14:39:58.576Z"
   },
   {
    "duration": 9,
    "start_time": "2021-07-07T14:40:26.301Z"
   },
   {
    "duration": 10,
    "start_time": "2021-07-07T14:40:31.704Z"
   },
   {
    "duration": 11,
    "start_time": "2021-07-07T14:40:36.249Z"
   },
   {
    "duration": 10,
    "start_time": "2021-07-07T14:40:39.783Z"
   },
   {
    "duration": 9,
    "start_time": "2021-07-07T14:40:48.558Z"
   },
   {
    "duration": 10,
    "start_time": "2021-07-07T14:40:57.143Z"
   },
   {
    "duration": 9,
    "start_time": "2021-07-07T14:41:06.074Z"
   },
   {
    "duration": 4324,
    "start_time": "2021-07-07T14:41:22.004Z"
   },
   {
    "duration": 11,
    "start_time": "2021-07-07T14:41:33.392Z"
   },
   {
    "duration": 9,
    "start_time": "2021-07-07T14:41:39.288Z"
   },
   {
    "duration": 569,
    "start_time": "2021-07-07T14:42:14.387Z"
   },
   {
    "duration": 197,
    "start_time": "2021-07-07T14:42:14.959Z"
   },
   {
    "duration": 84,
    "start_time": "2021-07-07T14:42:16.052Z"
   },
   {
    "duration": 4,
    "start_time": "2021-07-07T14:42:16.900Z"
   },
   {
    "duration": 27,
    "start_time": "2021-07-07T14:42:19.898Z"
   },
   {
    "duration": 12,
    "start_time": "2021-07-07T14:42:21.577Z"
   },
   {
    "duration": 9,
    "start_time": "2021-07-07T14:42:21.813Z"
   },
   {
    "duration": 9,
    "start_time": "2021-07-07T14:42:22.569Z"
   },
   {
    "duration": 29,
    "start_time": "2021-07-07T14:42:25.837Z"
   },
   {
    "duration": 20,
    "start_time": "2021-07-07T14:42:27.003Z"
   },
   {
    "duration": 21,
    "start_time": "2021-07-07T14:42:28.767Z"
   },
   {
    "duration": 7,
    "start_time": "2021-07-07T14:42:29.838Z"
   },
   {
    "duration": 4,
    "start_time": "2021-07-07T14:43:25.493Z"
   },
   {
    "duration": 7,
    "start_time": "2021-07-07T14:43:26.573Z"
   },
   {
    "duration": 10,
    "start_time": "2021-07-07T14:43:31.639Z"
   },
   {
    "duration": 9,
    "start_time": "2021-07-07T14:43:32.046Z"
   },
   {
    "duration": 10,
    "start_time": "2021-07-07T14:43:33.301Z"
   },
   {
    "duration": 12,
    "start_time": "2021-07-07T14:43:33.658Z"
   },
   {
    "duration": 8,
    "start_time": "2021-07-07T14:43:34.552Z"
   },
   {
    "duration": 9,
    "start_time": "2021-07-07T14:43:35.058Z"
   },
   {
    "duration": 12,
    "start_time": "2021-07-07T14:43:35.914Z"
   },
   {
    "duration": 17,
    "start_time": "2021-07-07T14:45:34.368Z"
   },
   {
    "duration": 512,
    "start_time": "2021-07-07T14:51:58.236Z"
   },
   {
    "duration": 223,
    "start_time": "2021-07-07T14:51:58.750Z"
   },
   {
    "duration": 93,
    "start_time": "2021-07-07T14:51:58.977Z"
   },
   {
    "duration": 4,
    "start_time": "2021-07-07T14:51:59.071Z"
   },
   {
    "duration": 37,
    "start_time": "2021-07-07T14:51:59.077Z"
   },
   {
    "duration": 18,
    "start_time": "2021-07-07T14:51:59.116Z"
   },
   {
    "duration": 10,
    "start_time": "2021-07-07T14:51:59.137Z"
   },
   {
    "duration": 8,
    "start_time": "2021-07-07T14:51:59.149Z"
   },
   {
    "duration": 54,
    "start_time": "2021-07-07T14:51:59.158Z"
   },
   {
    "duration": 18,
    "start_time": "2021-07-07T14:51:59.213Z"
   },
   {
    "duration": 22,
    "start_time": "2021-07-07T14:51:59.232Z"
   },
   {
    "duration": 36,
    "start_time": "2021-07-07T14:51:59.255Z"
   },
   {
    "duration": 7,
    "start_time": "2021-07-07T14:51:59.293Z"
   },
   {
    "duration": 10,
    "start_time": "2021-07-07T14:51:59.302Z"
   },
   {
    "duration": 9,
    "start_time": "2021-07-07T14:51:59.313Z"
   },
   {
    "duration": 11,
    "start_time": "2021-07-07T14:51:59.324Z"
   },
   {
    "duration": 8,
    "start_time": "2021-07-07T14:51:59.337Z"
   },
   {
    "duration": 46,
    "start_time": "2021-07-07T14:51:59.347Z"
   },
   {
    "duration": 22,
    "start_time": "2021-07-07T14:51:59.395Z"
   },
   {
    "duration": 24,
    "start_time": "2021-07-07T14:57:32.911Z"
   },
   {
    "duration": 7,
    "start_time": "2021-07-07T14:58:22.070Z"
   },
   {
    "duration": 4,
    "start_time": "2021-07-07T14:59:11.239Z"
   },
   {
    "duration": 25,
    "start_time": "2021-07-07T15:07:22.208Z"
   },
   {
    "duration": 16,
    "start_time": "2021-07-07T15:08:25.560Z"
   },
   {
    "duration": 15,
    "start_time": "2021-07-07T15:08:40.647Z"
   },
   {
    "duration": 14,
    "start_time": "2021-07-07T15:08:46.669Z"
   },
   {
    "duration": 533,
    "start_time": "2021-07-07T15:18:07.440Z"
   },
   {
    "duration": 173,
    "start_time": "2021-07-07T15:18:07.974Z"
   },
   {
    "duration": 84,
    "start_time": "2021-07-07T15:18:08.149Z"
   },
   {
    "duration": 3,
    "start_time": "2021-07-07T15:18:08.235Z"
   },
   {
    "duration": 30,
    "start_time": "2021-07-07T15:18:08.240Z"
   },
   {
    "duration": 22,
    "start_time": "2021-07-07T15:18:08.272Z"
   },
   {
    "duration": 11,
    "start_time": "2021-07-07T15:18:08.295Z"
   },
   {
    "duration": 11,
    "start_time": "2021-07-07T15:18:08.309Z"
   },
   {
    "duration": 40,
    "start_time": "2021-07-07T15:18:08.322Z"
   },
   {
    "duration": 42,
    "start_time": "2021-07-07T15:18:08.364Z"
   },
   {
    "duration": 22,
    "start_time": "2021-07-07T15:18:08.408Z"
   },
   {
    "duration": 5,
    "start_time": "2021-07-07T15:18:08.432Z"
   },
   {
    "duration": 13,
    "start_time": "2021-07-07T15:18:08.439Z"
   },
   {
    "duration": 9,
    "start_time": "2021-07-07T15:18:08.454Z"
   },
   {
    "duration": 32,
    "start_time": "2021-07-07T15:18:08.465Z"
   },
   {
    "duration": 10,
    "start_time": "2021-07-07T15:18:08.501Z"
   },
   {
    "duration": 7,
    "start_time": "2021-07-07T15:18:08.513Z"
   },
   {
    "duration": 11,
    "start_time": "2021-07-07T15:18:08.521Z"
   },
   {
    "duration": 17,
    "start_time": "2021-07-07T15:18:08.534Z"
   },
   {
    "duration": 44,
    "start_time": "2021-07-07T15:18:08.553Z"
   },
   {
    "duration": 22,
    "start_time": "2021-07-07T15:18:08.599Z"
   },
   {
    "duration": 61,
    "start_time": "2021-07-07T15:18:08.622Z"
   },
   {
    "duration": 7,
    "start_time": "2021-07-07T15:18:39.457Z"
   },
   {
    "duration": 5,
    "start_time": "2021-07-07T16:05:17.020Z"
   },
   {
    "duration": 5,
    "start_time": "2021-07-07T16:51:28.794Z"
   },
   {
    "duration": 546,
    "start_time": "2021-07-07T16:52:26.306Z"
   },
   {
    "duration": 203,
    "start_time": "2021-07-07T16:52:27.523Z"
   },
   {
    "duration": 85,
    "start_time": "2021-07-07T16:52:27.736Z"
   },
   {
    "duration": 4,
    "start_time": "2021-07-07T16:52:27.899Z"
   },
   {
    "duration": 25,
    "start_time": "2021-07-07T16:52:28.674Z"
   },
   {
    "duration": 8,
    "start_time": "2021-07-07T16:52:32.956Z"
   },
   {
    "duration": 18,
    "start_time": "2021-07-07T16:52:35.616Z"
   },
   {
    "duration": 6,
    "start_time": "2021-07-07T16:52:36.913Z"
   },
   {
    "duration": 11,
    "start_time": "2021-07-07T16:52:40.258Z"
   },
   {
    "duration": 10,
    "start_time": "2021-07-07T16:52:46.251Z"
   },
   {
    "duration": 8,
    "start_time": "2021-07-07T16:52:47.182Z"
   },
   {
    "duration": 27,
    "start_time": "2021-07-07T16:53:20.391Z"
   },
   {
    "duration": 20,
    "start_time": "2021-07-07T16:53:22.022Z"
   },
   {
    "duration": 23,
    "start_time": "2021-07-07T16:53:23.690Z"
   },
   {
    "duration": 8,
    "start_time": "2021-07-07T16:53:24.261Z"
   },
   {
    "duration": 4,
    "start_time": "2021-07-07T16:53:38.733Z"
   },
   {
    "duration": 7,
    "start_time": "2021-07-07T16:53:40.445Z"
   },
   {
    "duration": 11,
    "start_time": "2021-07-07T16:53:41.348Z"
   },
   {
    "duration": 13,
    "start_time": "2021-07-07T16:53:45.250Z"
   },
   {
    "duration": 12,
    "start_time": "2021-07-07T16:53:45.467Z"
   },
   {
    "duration": 4,
    "start_time": "2021-07-07T16:55:32.704Z"
   },
   {
    "duration": 12,
    "start_time": "2021-07-07T16:55:49.012Z"
   },
   {
    "duration": 18,
    "start_time": "2021-07-07T16:55:49.547Z"
   },
   {
    "duration": 611,
    "start_time": "2021-07-07T16:58:35.156Z"
   },
   {
    "duration": 200,
    "start_time": "2021-07-07T16:58:35.770Z"
   },
   {
    "duration": 86,
    "start_time": "2021-07-07T16:58:35.972Z"
   },
   {
    "duration": 3,
    "start_time": "2021-07-07T16:58:36.060Z"
   },
   {
    "duration": 27,
    "start_time": "2021-07-07T16:58:36.065Z"
   },
   {
    "duration": 8,
    "start_time": "2021-07-07T16:58:36.094Z"
   },
   {
    "duration": 17,
    "start_time": "2021-07-07T16:58:36.103Z"
   },
   {
    "duration": 5,
    "start_time": "2021-07-07T16:58:36.123Z"
   },
   {
    "duration": 11,
    "start_time": "2021-07-07T16:58:36.130Z"
   },
   {
    "duration": 7,
    "start_time": "2021-07-07T16:58:36.143Z"
   },
   {
    "duration": 37,
    "start_time": "2021-07-07T16:58:36.152Z"
   },
   {
    "duration": 27,
    "start_time": "2021-07-07T16:58:36.191Z"
   },
   {
    "duration": 19,
    "start_time": "2021-07-07T16:58:36.219Z"
   },
   {
    "duration": 49,
    "start_time": "2021-07-07T16:58:36.240Z"
   },
   {
    "duration": 6,
    "start_time": "2021-07-07T16:58:36.291Z"
   },
   {
    "duration": 3,
    "start_time": "2021-07-07T16:58:36.299Z"
   },
   {
    "duration": 13,
    "start_time": "2021-07-07T16:58:36.304Z"
   },
   {
    "duration": 10,
    "start_time": "2021-07-07T16:58:36.319Z"
   },
   {
    "duration": 10,
    "start_time": "2021-07-07T16:58:36.331Z"
   },
   {
    "duration": 44,
    "start_time": "2021-07-07T16:58:36.343Z"
   },
   {
    "duration": 4,
    "start_time": "2021-07-07T16:58:36.388Z"
   },
   {
    "duration": 13,
    "start_time": "2021-07-07T16:58:36.394Z"
   },
   {
    "duration": 16,
    "start_time": "2021-07-07T16:58:36.410Z"
   },
   {
    "duration": 8,
    "start_time": "2021-07-07T17:02:31.629Z"
   },
   {
    "duration": 8,
    "start_time": "2021-07-07T17:02:34.308Z"
   },
   {
    "duration": 6,
    "start_time": "2021-07-07T17:05:13.483Z"
   },
   {
    "duration": 17,
    "start_time": "2021-07-07T17:05:20.606Z"
   },
   {
    "duration": 7,
    "start_time": "2021-07-07T17:05:34.638Z"
   },
   {
    "duration": 3,
    "start_time": "2021-07-07T17:06:31.883Z"
   },
   {
    "duration": 570,
    "start_time": "2021-07-07T17:06:37.165Z"
   },
   {
    "duration": 174,
    "start_time": "2021-07-07T17:06:37.737Z"
   },
   {
    "duration": 47,
    "start_time": "2021-07-07T17:06:37.913Z"
   },
   {
    "duration": 3,
    "start_time": "2021-07-07T17:06:37.962Z"
   },
   {
    "duration": 27,
    "start_time": "2021-07-07T17:06:37.967Z"
   },
   {
    "duration": 7,
    "start_time": "2021-07-07T17:06:37.996Z"
   },
   {
    "duration": 16,
    "start_time": "2021-07-07T17:06:38.005Z"
   },
   {
    "duration": 6,
    "start_time": "2021-07-07T17:06:38.024Z"
   },
   {
    "duration": 12,
    "start_time": "2021-07-07T17:06:38.031Z"
   },
   {
    "duration": 41,
    "start_time": "2021-07-07T17:06:38.045Z"
   },
   {
    "duration": 8,
    "start_time": "2021-07-07T17:06:38.088Z"
   },
   {
    "duration": 26,
    "start_time": "2021-07-07T17:06:38.098Z"
   },
   {
    "duration": 17,
    "start_time": "2021-07-07T17:06:38.126Z"
   },
   {
    "duration": 43,
    "start_time": "2021-07-07T17:06:38.144Z"
   },
   {
    "duration": 6,
    "start_time": "2021-07-07T17:06:38.188Z"
   },
   {
    "duration": 5,
    "start_time": "2021-07-07T17:06:38.195Z"
   },
   {
    "duration": 9,
    "start_time": "2021-07-07T17:06:38.201Z"
   },
   {
    "duration": 12,
    "start_time": "2021-07-07T17:06:38.212Z"
   },
   {
    "duration": 11,
    "start_time": "2021-07-07T17:06:38.226Z"
   },
   {
    "duration": 47,
    "start_time": "2021-07-07T17:06:38.239Z"
   },
   {
    "duration": 4,
    "start_time": "2021-07-07T17:06:38.288Z"
   },
   {
    "duration": 13,
    "start_time": "2021-07-07T17:06:38.293Z"
   },
   {
    "duration": 5,
    "start_time": "2021-07-07T17:06:38.309Z"
   },
   {
    "duration": 18,
    "start_time": "2021-07-07T17:06:38.325Z"
   },
   {
    "duration": 20,
    "start_time": "2021-07-07T17:07:02.805Z"
   },
   {
    "duration": 19,
    "start_time": "2021-07-07T17:07:08.527Z"
   },
   {
    "duration": 19,
    "start_time": "2021-07-07T17:07:12.758Z"
   },
   {
    "duration": 22,
    "start_time": "2021-07-07T17:07:17.497Z"
   },
   {
    "duration": 19,
    "start_time": "2021-07-07T17:07:19.645Z"
   },
   {
    "duration": 10,
    "start_time": "2021-07-07T17:07:34.239Z"
   },
   {
    "duration": 17,
    "start_time": "2021-07-07T17:07:54.144Z"
   },
   {
    "duration": 14,
    "start_time": "2021-07-07T17:08:14.357Z"
   },
   {
    "duration": 616,
    "start_time": "2021-07-07T17:08:45.254Z"
   },
   {
    "duration": 178,
    "start_time": "2021-07-07T17:08:45.872Z"
   },
   {
    "duration": 60,
    "start_time": "2021-07-07T17:08:46.054Z"
   },
   {
    "duration": 3,
    "start_time": "2021-07-07T17:08:46.116Z"
   },
   {
    "duration": 26,
    "start_time": "2021-07-07T17:08:46.121Z"
   },
   {
    "duration": 7,
    "start_time": "2021-07-07T17:08:46.149Z"
   },
   {
    "duration": 17,
    "start_time": "2021-07-07T17:08:46.158Z"
   },
   {
    "duration": 14,
    "start_time": "2021-07-07T17:08:46.176Z"
   },
   {
    "duration": 17,
    "start_time": "2021-07-07T17:08:46.193Z"
   },
   {
    "duration": 9,
    "start_time": "2021-07-07T17:08:46.211Z"
   },
   {
    "duration": 21,
    "start_time": "2021-07-07T17:08:46.221Z"
   },
   {
    "duration": 49,
    "start_time": "2021-07-07T17:08:46.244Z"
   },
   {
    "duration": 24,
    "start_time": "2021-07-07T17:08:46.295Z"
   },
   {
    "duration": 22,
    "start_time": "2021-07-07T17:08:46.321Z"
   },
   {
    "duration": 6,
    "start_time": "2021-07-07T17:08:46.345Z"
   },
   {
    "duration": 5,
    "start_time": "2021-07-07T17:08:46.353Z"
   },
   {
    "duration": 13,
    "start_time": "2021-07-07T17:08:46.386Z"
   },
   {
    "duration": 12,
    "start_time": "2021-07-07T17:08:46.402Z"
   },
   {
    "duration": 10,
    "start_time": "2021-07-07T17:08:46.415Z"
   },
   {
    "duration": 7,
    "start_time": "2021-07-07T17:08:46.427Z"
   },
   {
    "duration": 8,
    "start_time": "2021-07-07T17:08:46.435Z"
   },
   {
    "duration": 68,
    "start_time": "2021-07-07T17:08:46.446Z"
   },
   {
    "duration": 13,
    "start_time": "2021-07-07T17:08:46.516Z"
   },
   {
    "duration": 78,
    "start_time": "2021-07-07T17:08:46.530Z"
   },
   {
    "duration": 40,
    "start_time": "2021-07-07T17:09:08.185Z"
   },
   {
    "duration": 16,
    "start_time": "2021-07-07T17:09:19.324Z"
   },
   {
    "duration": 21,
    "start_time": "2021-07-07T17:09:23.290Z"
   },
   {
    "duration": 13,
    "start_time": "2021-07-07T17:09:54.812Z"
   },
   {
    "duration": 13,
    "start_time": "2021-07-07T17:10:02.039Z"
   },
   {
    "duration": 10,
    "start_time": "2021-07-07T17:10:29.632Z"
   },
   {
    "duration": 13,
    "start_time": "2021-07-07T17:10:52.372Z"
   },
   {
    "duration": 13,
    "start_time": "2021-07-07T17:11:17.270Z"
   },
   {
    "duration": 13,
    "start_time": "2021-07-07T17:14:59.284Z"
   },
   {
    "duration": 547,
    "start_time": "2021-07-07T17:18:52.403Z"
   },
   {
    "duration": 163,
    "start_time": "2021-07-07T17:18:52.952Z"
   },
   {
    "duration": 44,
    "start_time": "2021-07-07T17:18:53.117Z"
   },
   {
    "duration": 3,
    "start_time": "2021-07-07T17:18:53.162Z"
   },
   {
    "duration": 26,
    "start_time": "2021-07-07T17:18:53.167Z"
   },
   {
    "duration": 6,
    "start_time": "2021-07-07T17:18:53.195Z"
   },
   {
    "duration": 15,
    "start_time": "2021-07-07T17:18:53.203Z"
   },
   {
    "duration": 5,
    "start_time": "2021-07-07T17:18:53.220Z"
   },
   {
    "duration": 11,
    "start_time": "2021-07-07T17:18:53.228Z"
   },
   {
    "duration": 9,
    "start_time": "2021-07-07T17:18:53.241Z"
   },
   {
    "duration": 41,
    "start_time": "2021-07-07T17:18:53.252Z"
   },
   {
    "duration": 33,
    "start_time": "2021-07-07T17:18:53.295Z"
   },
   {
    "duration": 19,
    "start_time": "2021-07-07T17:18:53.330Z"
   },
   {
    "duration": 49,
    "start_time": "2021-07-07T17:18:53.350Z"
   },
   {
    "duration": 5,
    "start_time": "2021-07-07T17:18:53.401Z"
   },
   {
    "duration": 5,
    "start_time": "2021-07-07T17:18:53.408Z"
   },
   {
    "duration": 11,
    "start_time": "2021-07-07T17:18:53.414Z"
   },
   {
    "duration": 9,
    "start_time": "2021-07-07T17:18:53.427Z"
   },
   {
    "duration": 10,
    "start_time": "2021-07-07T17:18:53.437Z"
   },
   {
    "duration": 39,
    "start_time": "2021-07-07T17:18:53.448Z"
   },
   {
    "duration": 26,
    "start_time": "2021-07-07T17:18:55.799Z"
   },
   {
    "duration": 598,
    "start_time": "2021-07-07T17:20:17.862Z"
   },
   {
    "duration": 161,
    "start_time": "2021-07-07T17:20:18.462Z"
   },
   {
    "duration": 45,
    "start_time": "2021-07-07T17:20:18.626Z"
   },
   {
    "duration": 4,
    "start_time": "2021-07-07T17:20:18.673Z"
   },
   {
    "duration": 38,
    "start_time": "2021-07-07T17:20:26.877Z"
   },
   {
    "duration": 7,
    "start_time": "2021-07-07T17:20:37.405Z"
   },
   {
    "duration": 19,
    "start_time": "2021-07-07T17:20:51.534Z"
   },
   {
    "duration": 5,
    "start_time": "2021-07-07T17:20:57.228Z"
   },
   {
    "duration": 7,
    "start_time": "2021-07-07T17:21:08.235Z"
   },
   {
    "duration": 19,
    "start_time": "2021-07-07T17:21:42.158Z"
   },
   {
    "duration": 14,
    "start_time": "2021-07-07T17:21:50.225Z"
   },
   {
    "duration": 22,
    "start_time": "2021-07-07T17:22:54.104Z"
   },
   {
    "duration": 5,
    "start_time": "2021-07-07T17:22:56.371Z"
   },
   {
    "duration": 14,
    "start_time": "2021-07-07T17:22:58.316Z"
   },
   {
    "duration": 5,
    "start_time": "2021-07-07T17:22:58.493Z"
   },
   {
    "duration": 35,
    "start_time": "2021-07-07T17:22:59.666Z"
   },
   {
    "duration": 6,
    "start_time": "2021-07-07T17:23:02.410Z"
   },
   {
    "duration": 611,
    "start_time": "2021-07-07T17:24:59.664Z"
   },
   {
    "duration": 178,
    "start_time": "2021-07-07T17:25:01.945Z"
   },
   {
    "duration": 47,
    "start_time": "2021-07-07T17:25:02.125Z"
   },
   {
    "duration": 2,
    "start_time": "2021-07-07T17:25:07.903Z"
   },
   {
    "duration": 254,
    "start_time": "2021-07-07T17:25:08.232Z"
   },
   {
    "duration": 182,
    "start_time": "2021-07-07T17:25:08.671Z"
   },
   {
    "duration": 6,
    "start_time": "2021-07-07T17:25:13.104Z"
   },
   {
    "duration": 36,
    "start_time": "2021-07-07T17:25:13.662Z"
   },
   {
    "duration": 7,
    "start_time": "2021-07-07T17:25:14.528Z"
   },
   {
    "duration": 24,
    "start_time": "2021-07-07T17:25:27.982Z"
   },
   {
    "duration": 3,
    "start_time": "2021-07-07T17:25:48.982Z"
   },
   {
    "duration": 165,
    "start_time": "2021-07-07T17:25:48.987Z"
   },
   {
    "duration": 50,
    "start_time": "2021-07-07T17:25:49.154Z"
   },
   {
    "duration": 4,
    "start_time": "2021-07-07T17:25:49.206Z"
   },
   {
    "duration": 26,
    "start_time": "2021-07-07T17:25:49.212Z"
   },
   {
    "duration": 7,
    "start_time": "2021-07-07T17:25:49.240Z"
   },
   {
    "duration": 16,
    "start_time": "2021-07-07T17:25:49.249Z"
   },
   {
    "duration": 22,
    "start_time": "2021-07-07T17:25:49.266Z"
   },
   {
    "duration": 16,
    "start_time": "2021-07-07T17:25:49.291Z"
   },
   {
    "duration": 9,
    "start_time": "2021-07-07T17:25:49.309Z"
   },
   {
    "duration": 7,
    "start_time": "2021-07-07T17:25:49.319Z"
   },
   {
    "duration": 28,
    "start_time": "2021-07-07T17:25:49.328Z"
   },
   {
    "duration": 44,
    "start_time": "2021-07-07T17:25:49.357Z"
   },
   {
    "duration": 22,
    "start_time": "2021-07-07T17:25:49.403Z"
   },
   {
    "duration": 7,
    "start_time": "2021-07-07T17:25:49.427Z"
   },
   {
    "duration": 3,
    "start_time": "2021-07-07T17:25:49.436Z"
   },
   {
    "duration": 44,
    "start_time": "2021-07-07T17:25:49.441Z"
   },
   {
    "duration": 12,
    "start_time": "2021-07-07T17:25:49.488Z"
   },
   {
    "duration": 13,
    "start_time": "2021-07-07T17:25:49.502Z"
   },
   {
    "duration": 10,
    "start_time": "2021-07-07T17:25:49.516Z"
   },
   {
    "duration": 62,
    "start_time": "2021-07-07T17:25:49.527Z"
   },
   {
    "duration": 26,
    "start_time": "2021-07-07T17:26:51.809Z"
   },
   {
    "duration": 26,
    "start_time": "2021-07-07T17:26:55.759Z"
   },
   {
    "duration": 26,
    "start_time": "2021-07-07T17:27:04.501Z"
   },
   {
    "duration": 25,
    "start_time": "2021-07-07T17:28:24.859Z"
   },
   {
    "duration": 21,
    "start_time": "2021-07-07T17:28:55.250Z"
   },
   {
    "duration": 21,
    "start_time": "2021-07-07T17:28:58.885Z"
   },
   {
    "duration": 7,
    "start_time": "2021-07-07T17:45:40.972Z"
   },
   {
    "duration": 13,
    "start_time": "2021-07-07T17:45:42.529Z"
   },
   {
    "duration": 27,
    "start_time": "2021-07-07T17:45:51.026Z"
   },
   {
    "duration": 518,
    "start_time": "2021-07-07T17:46:15.532Z"
   },
   {
    "duration": 235,
    "start_time": "2021-07-07T17:46:16.053Z"
   },
   {
    "duration": 80,
    "start_time": "2021-07-07T17:46:16.292Z"
   },
   {
    "duration": 5,
    "start_time": "2021-07-07T17:46:16.373Z"
   },
   {
    "duration": 26,
    "start_time": "2021-07-07T17:46:16.380Z"
   },
   {
    "duration": 7,
    "start_time": "2021-07-07T17:46:16.408Z"
   },
   {
    "duration": 16,
    "start_time": "2021-07-07T17:46:16.418Z"
   },
   {
    "duration": 5,
    "start_time": "2021-07-07T17:46:16.436Z"
   },
   {
    "duration": 13,
    "start_time": "2021-07-07T17:46:16.442Z"
   },
   {
    "duration": 35,
    "start_time": "2021-07-07T17:46:16.456Z"
   },
   {
    "duration": 8,
    "start_time": "2021-07-07T17:46:16.493Z"
   },
   {
    "duration": 28,
    "start_time": "2021-07-07T17:46:16.502Z"
   },
   {
    "duration": 17,
    "start_time": "2021-07-07T17:46:16.532Z"
   },
   {
    "duration": 44,
    "start_time": "2021-07-07T17:46:16.551Z"
   },
   {
    "duration": 6,
    "start_time": "2021-07-07T17:46:16.597Z"
   },
   {
    "duration": 4,
    "start_time": "2021-07-07T17:46:16.605Z"
   },
   {
    "duration": 9,
    "start_time": "2021-07-07T17:46:16.610Z"
   },
   {
    "duration": 9,
    "start_time": "2021-07-07T17:46:16.621Z"
   },
   {
    "duration": 10,
    "start_time": "2021-07-07T17:46:16.632Z"
   },
   {
    "duration": 43,
    "start_time": "2021-07-07T17:46:16.644Z"
   },
   {
    "duration": 26,
    "start_time": "2021-07-07T17:46:16.689Z"
   },
   {
    "duration": 19,
    "start_time": "2021-07-07T17:46:16.718Z"
   },
   {
    "duration": 8,
    "start_time": "2021-07-07T17:46:16.738Z"
   },
   {
    "duration": 43,
    "start_time": "2021-07-07T17:46:16.747Z"
   },
   {
    "duration": 19,
    "start_time": "2021-07-07T17:46:16.791Z"
   },
   {
    "duration": 9,
    "start_time": "2021-07-07T17:46:16.812Z"
   },
   {
    "duration": 60,
    "start_time": "2021-07-07T17:46:16.822Z"
   },
   {
    "duration": -8,
    "start_time": "2021-07-07T17:46:16.892Z"
   },
   {
    "duration": 12,
    "start_time": "2021-07-07T17:48:47.707Z"
   },
   {
    "duration": 553,
    "start_time": "2021-07-07T18:10:09.350Z"
   },
   {
    "duration": 230,
    "start_time": "2021-07-07T18:10:09.905Z"
   },
   {
    "duration": 97,
    "start_time": "2021-07-07T18:10:10.137Z"
   },
   {
    "duration": 5,
    "start_time": "2021-07-07T18:10:10.236Z"
   },
   {
    "duration": 29,
    "start_time": "2021-07-07T18:10:10.242Z"
   },
   {
    "duration": 7,
    "start_time": "2021-07-07T18:10:10.272Z"
   },
   {
    "duration": 15,
    "start_time": "2021-07-07T18:10:10.281Z"
   },
   {
    "duration": 4,
    "start_time": "2021-07-07T18:10:10.299Z"
   },
   {
    "duration": 14,
    "start_time": "2021-07-07T18:10:10.305Z"
   },
   {
    "duration": 8,
    "start_time": "2021-07-07T18:10:10.321Z"
   },
   {
    "duration": 8,
    "start_time": "2021-07-07T18:10:10.331Z"
   },
   {
    "duration": 56,
    "start_time": "2021-07-07T18:10:10.341Z"
   },
   {
    "duration": 19,
    "start_time": "2021-07-07T18:10:10.399Z"
   },
   {
    "duration": 23,
    "start_time": "2021-07-07T18:10:10.419Z"
   },
   {
    "duration": 6,
    "start_time": "2021-07-07T18:10:10.444Z"
   },
   {
    "duration": 9,
    "start_time": "2021-07-07T18:10:10.451Z"
   },
   {
    "duration": 30,
    "start_time": "2021-07-07T18:10:10.462Z"
   },
   {
    "duration": 9,
    "start_time": "2021-07-07T18:10:10.494Z"
   },
   {
    "duration": 14,
    "start_time": "2021-07-07T18:10:10.505Z"
   },
   {
    "duration": 7,
    "start_time": "2021-07-07T18:10:10.521Z"
   },
   {
    "duration": 26,
    "start_time": "2021-07-07T18:10:10.530Z"
   },
   {
    "duration": 44,
    "start_time": "2021-07-07T18:10:10.558Z"
   },
   {
    "duration": 7,
    "start_time": "2021-07-07T18:10:10.605Z"
   },
   {
    "duration": 11,
    "start_time": "2021-07-07T18:10:10.614Z"
   },
   {
    "duration": 19,
    "start_time": "2021-07-07T18:10:10.626Z"
   },
   {
    "duration": 44,
    "start_time": "2021-07-07T18:10:10.646Z"
   },
   {
    "duration": 516,
    "start_time": "2021-07-07T18:14:00.826Z"
   },
   {
    "duration": 230,
    "start_time": "2021-07-07T18:14:01.344Z"
   },
   {
    "duration": 105,
    "start_time": "2021-07-07T18:14:01.576Z"
   },
   {
    "duration": 5,
    "start_time": "2021-07-07T18:14:01.683Z"
   },
   {
    "duration": 46,
    "start_time": "2021-07-07T18:14:01.690Z"
   },
   {
    "duration": 7,
    "start_time": "2021-07-07T18:14:01.738Z"
   },
   {
    "duration": 20,
    "start_time": "2021-07-07T18:14:01.747Z"
   },
   {
    "duration": 16,
    "start_time": "2021-07-07T18:14:01.769Z"
   },
   {
    "duration": 14,
    "start_time": "2021-07-07T18:14:01.787Z"
   },
   {
    "duration": 15,
    "start_time": "2021-07-07T18:14:01.803Z"
   },
   {
    "duration": 12,
    "start_time": "2021-07-07T18:14:01.820Z"
   },
   {
    "duration": 35,
    "start_time": "2021-07-07T18:14:01.833Z"
   },
   {
    "duration": 31,
    "start_time": "2021-07-07T18:14:01.869Z"
   },
   {
    "duration": 37,
    "start_time": "2021-07-07T18:14:01.902Z"
   },
   {
    "duration": 8,
    "start_time": "2021-07-07T18:14:01.942Z"
   },
   {
    "duration": 16,
    "start_time": "2021-07-07T18:14:01.952Z"
   },
   {
    "duration": 13,
    "start_time": "2021-07-07T18:14:01.970Z"
   },
   {
    "duration": 32,
    "start_time": "2021-07-07T18:14:01.985Z"
   },
   {
    "duration": 11,
    "start_time": "2021-07-07T18:14:02.019Z"
   },
   {
    "duration": 22,
    "start_time": "2021-07-07T18:14:02.031Z"
   },
   {
    "duration": 27,
    "start_time": "2021-07-07T18:14:02.055Z"
   },
   {
    "duration": 18,
    "start_time": "2021-07-07T18:14:02.084Z"
   },
   {
    "duration": 18,
    "start_time": "2021-07-07T18:14:02.106Z"
   },
   {
    "duration": 11,
    "start_time": "2021-07-07T18:14:02.126Z"
   },
   {
    "duration": 21,
    "start_time": "2021-07-07T18:14:02.138Z"
   },
   {
    "duration": 32,
    "start_time": "2021-07-07T18:14:02.161Z"
   },
   {
    "duration": 28,
    "start_time": "2021-07-07T18:14:44.295Z"
   },
   {
    "duration": 6,
    "start_time": "2021-07-07T18:15:05.834Z"
   },
   {
    "duration": 511,
    "start_time": "2021-07-07T18:15:41.541Z"
   },
   {
    "duration": 183,
    "start_time": "2021-07-07T18:15:42.054Z"
   },
   {
    "duration": 50,
    "start_time": "2021-07-07T18:15:42.239Z"
   },
   {
    "duration": 5,
    "start_time": "2021-07-07T18:15:42.291Z"
   },
   {
    "duration": 48,
    "start_time": "2021-07-07T18:15:42.297Z"
   },
   {
    "duration": 8,
    "start_time": "2021-07-07T18:15:42.346Z"
   },
   {
    "duration": 17,
    "start_time": "2021-07-07T18:15:42.356Z"
   },
   {
    "duration": 15,
    "start_time": "2021-07-07T18:15:42.375Z"
   },
   {
    "duration": 12,
    "start_time": "2021-07-07T18:15:42.392Z"
   },
   {
    "duration": 7,
    "start_time": "2021-07-07T18:15:42.406Z"
   },
   {
    "duration": 7,
    "start_time": "2021-07-07T18:15:42.415Z"
   },
   {
    "duration": 29,
    "start_time": "2021-07-07T18:15:42.423Z"
   },
   {
    "duration": 43,
    "start_time": "2021-07-07T18:15:42.453Z"
   },
   {
    "duration": 18,
    "start_time": "2021-07-07T18:15:42.497Z"
   },
   {
    "duration": 6,
    "start_time": "2021-07-07T18:15:42.516Z"
   },
   {
    "duration": 3,
    "start_time": "2021-07-07T18:15:42.523Z"
   },
   {
    "duration": 18,
    "start_time": "2021-07-07T18:15:42.528Z"
   },
   {
    "duration": 10,
    "start_time": "2021-07-07T18:15:42.547Z"
   },
   {
    "duration": 36,
    "start_time": "2021-07-07T18:15:42.559Z"
   },
   {
    "duration": 8,
    "start_time": "2021-07-07T18:15:42.597Z"
   },
   {
    "duration": 28,
    "start_time": "2021-07-07T18:15:42.606Z"
   },
   {
    "duration": 52,
    "start_time": "2021-07-07T18:15:42.635Z"
   },
   {
    "duration": 7,
    "start_time": "2021-07-07T18:15:42.690Z"
   },
   {
    "duration": 10,
    "start_time": "2021-07-07T18:15:42.699Z"
   },
   {
    "duration": 19,
    "start_time": "2021-07-07T18:15:42.711Z"
   },
   {
    "duration": 9,
    "start_time": "2021-07-07T18:15:42.732Z"
   },
   {
    "duration": 5,
    "start_time": "2021-07-07T18:15:42.743Z"
   },
   {
    "duration": 1450,
    "start_time": "2021-07-07T18:15:51.984Z"
   },
   {
    "duration": 161,
    "start_time": "2021-07-07T18:15:53.435Z"
   },
   {
    "duration": 124,
    "start_time": "2021-07-07T18:15:53.598Z"
   },
   {
    "duration": 5,
    "start_time": "2021-07-07T18:15:53.724Z"
   },
   {
    "duration": 34,
    "start_time": "2021-07-07T18:15:53.730Z"
   },
   {
    "duration": 7,
    "start_time": "2021-07-07T18:15:53.765Z"
   },
   {
    "duration": 15,
    "start_time": "2021-07-07T18:15:53.773Z"
   },
   {
    "duration": 5,
    "start_time": "2021-07-07T18:15:53.791Z"
   },
   {
    "duration": 19,
    "start_time": "2021-07-07T18:15:53.798Z"
   },
   {
    "duration": 9,
    "start_time": "2021-07-07T18:15:53.818Z"
   },
   {
    "duration": 19,
    "start_time": "2021-07-07T18:15:53.828Z"
   },
   {
    "duration": 27,
    "start_time": "2021-07-07T18:15:53.848Z"
   },
   {
    "duration": 16,
    "start_time": "2021-07-07T18:15:53.884Z"
   },
   {
    "duration": 29,
    "start_time": "2021-07-07T18:15:53.901Z"
   },
   {
    "duration": 5,
    "start_time": "2021-07-07T18:15:53.932Z"
   },
   {
    "duration": 15,
    "start_time": "2021-07-07T18:15:53.939Z"
   },
   {
    "duration": 13,
    "start_time": "2021-07-07T18:15:53.956Z"
   },
   {
    "duration": 20,
    "start_time": "2021-07-07T18:15:53.971Z"
   },
   {
    "duration": 14,
    "start_time": "2021-07-07T18:15:53.992Z"
   },
   {
    "duration": 9,
    "start_time": "2021-07-07T18:15:54.009Z"
   },
   {
    "duration": 28,
    "start_time": "2021-07-07T18:15:54.020Z"
   },
   {
    "duration": 50,
    "start_time": "2021-07-07T18:15:54.051Z"
   },
   {
    "duration": 8,
    "start_time": "2021-07-07T18:15:54.105Z"
   },
   {
    "duration": 11,
    "start_time": "2021-07-07T18:15:54.115Z"
   },
   {
    "duration": 20,
    "start_time": "2021-07-07T18:15:54.128Z"
   },
   {
    "duration": 13,
    "start_time": "2021-07-07T18:15:54.184Z"
   },
   {
    "duration": 7,
    "start_time": "2021-07-07T18:15:54.199Z"
   },
   {
    "duration": 7,
    "start_time": "2021-07-07T18:17:08.042Z"
   },
   {
    "duration": 8,
    "start_time": "2021-07-07T18:17:21.008Z"
   },
   {
    "duration": 7,
    "start_time": "2021-07-07T18:17:29.003Z"
   },
   {
    "duration": 8,
    "start_time": "2021-07-07T18:17:32.492Z"
   },
   {
    "duration": 9,
    "start_time": "2021-07-07T18:17:41.758Z"
   },
   {
    "duration": 255,
    "start_time": "2021-07-07T18:20:20.897Z"
   },
   {
    "duration": 173,
    "start_time": "2021-07-07T18:20:26.636Z"
   },
   {
    "duration": 7,
    "start_time": "2021-07-07T18:21:47.164Z"
   },
   {
    "duration": 254,
    "start_time": "2021-07-07T18:23:08.703Z"
   },
   {
    "duration": 21,
    "start_time": "2021-07-07T18:23:22.506Z"
   },
   {
    "duration": 315,
    "start_time": "2021-07-07T18:25:54.801Z"
   },
   {
    "duration": 34,
    "start_time": "2021-07-07T18:26:51.817Z"
   },
   {
    "duration": 327,
    "start_time": "2021-07-07T18:26:56.147Z"
   },
   {
    "duration": 342,
    "start_time": "2021-07-07T18:27:15.887Z"
   },
   {
    "duration": 302,
    "start_time": "2021-07-07T18:28:18.569Z"
   },
   {
    "duration": 226,
    "start_time": "2021-07-07T18:29:20.879Z"
   },
   {
    "duration": 207,
    "start_time": "2021-07-07T18:29:58.114Z"
   },
   {
    "duration": 140,
    "start_time": "2021-07-07T18:32:04.372Z"
   },
   {
    "duration": 158,
    "start_time": "2021-07-07T18:32:32.508Z"
   },
   {
    "duration": 145,
    "start_time": "2021-07-07T18:32:41.365Z"
   },
   {
    "duration": 132,
    "start_time": "2021-07-07T18:32:45.199Z"
   },
   {
    "duration": 11,
    "start_time": "2021-07-07T18:35:24.679Z"
   },
   {
    "duration": 268,
    "start_time": "2021-07-07T18:36:16.145Z"
   },
   {
    "duration": 227,
    "start_time": "2021-07-07T18:37:04.918Z"
   },
   {
    "duration": 3,
    "start_time": "2021-07-07T18:37:33.012Z"
   },
   {
    "duration": 671,
    "start_time": "2021-07-07T18:37:38.295Z"
   },
   {
    "duration": 54,
    "start_time": "2021-07-07T18:37:53.406Z"
   },
   {
    "duration": 631,
    "start_time": "2021-07-07T18:37:56.463Z"
   },
   {
    "duration": 19,
    "start_time": "2021-07-07T18:39:40.535Z"
   },
   {
    "duration": 20,
    "start_time": "2021-07-07T18:40:12.236Z"
   },
   {
    "duration": 633,
    "start_time": "2021-07-07T18:42:00.398Z"
   },
   {
    "duration": 218,
    "start_time": "2021-07-07T18:42:01.033Z"
   },
   {
    "duration": 49,
    "start_time": "2021-07-07T18:42:01.253Z"
   },
   {
    "duration": 5,
    "start_time": "2021-07-07T18:42:01.303Z"
   },
   {
    "duration": 27,
    "start_time": "2021-07-07T18:42:01.310Z"
   },
   {
    "duration": 8,
    "start_time": "2021-07-07T18:42:01.339Z"
   },
   {
    "duration": 20,
    "start_time": "2021-07-07T18:42:01.348Z"
   },
   {
    "duration": 6,
    "start_time": "2021-07-07T18:42:01.386Z"
   },
   {
    "duration": 16,
    "start_time": "2021-07-07T18:42:01.394Z"
   },
   {
    "duration": 9,
    "start_time": "2021-07-07T18:42:01.411Z"
   },
   {
    "duration": 11,
    "start_time": "2021-07-07T18:42:01.421Z"
   },
   {
    "duration": 31,
    "start_time": "2021-07-07T18:42:01.434Z"
   },
   {
    "duration": 18,
    "start_time": "2021-07-07T18:42:01.485Z"
   },
   {
    "duration": 23,
    "start_time": "2021-07-07T18:42:01.505Z"
   },
   {
    "duration": 6,
    "start_time": "2021-07-07T18:42:01.530Z"
   },
   {
    "duration": 10,
    "start_time": "2021-07-07T18:42:01.538Z"
   },
   {
    "duration": 13,
    "start_time": "2021-07-07T18:42:01.550Z"
   },
   {
    "duration": 24,
    "start_time": "2021-07-07T18:42:01.564Z"
   },
   {
    "duration": 20,
    "start_time": "2021-07-07T18:42:01.590Z"
   },
   {
    "duration": 8,
    "start_time": "2021-07-07T18:42:01.611Z"
   },
   {
    "duration": 31,
    "start_time": "2021-07-07T18:42:01.620Z"
   },
   {
    "duration": 39,
    "start_time": "2021-07-07T18:42:01.653Z"
   },
   {
    "duration": 8,
    "start_time": "2021-07-07T18:42:01.696Z"
   },
   {
    "duration": 13,
    "start_time": "2021-07-07T18:42:01.705Z"
   },
   {
    "duration": 20,
    "start_time": "2021-07-07T18:42:01.720Z"
   },
   {
    "duration": 12,
    "start_time": "2021-07-07T18:42:01.741Z"
   },
   {
    "duration": 35,
    "start_time": "2021-07-07T18:42:01.755Z"
   },
   {
    "duration": 14,
    "start_time": "2021-07-07T18:42:01.792Z"
   },
   {
    "duration": 188,
    "start_time": "2021-07-07T18:42:01.808Z"
   },
   {
    "duration": 19,
    "start_time": "2021-07-07T18:42:01.998Z"
   },
   {
    "duration": 175,
    "start_time": "2021-07-07T18:42:02.019Z"
   },
   {
    "duration": 134,
    "start_time": "2021-07-07T18:42:02.196Z"
   },
   {
    "duration": 10,
    "start_time": "2021-07-07T18:42:02.331Z"
   },
   {
    "duration": 19,
    "start_time": "2021-07-07T18:42:02.343Z"
   },
   {
    "duration": 628,
    "start_time": "2021-07-07T18:46:30.701Z"
   },
   {
    "duration": 183,
    "start_time": "2021-07-07T18:46:31.331Z"
   },
   {
    "duration": 48,
    "start_time": "2021-07-07T18:46:31.516Z"
   },
   {
    "duration": 5,
    "start_time": "2021-07-07T18:46:31.566Z"
   },
   {
    "duration": 28,
    "start_time": "2021-07-07T18:46:31.572Z"
   },
   {
    "duration": 8,
    "start_time": "2021-07-07T18:46:31.602Z"
   },
   {
    "duration": 19,
    "start_time": "2021-07-07T18:46:31.611Z"
   },
   {
    "duration": 6,
    "start_time": "2021-07-07T18:46:31.633Z"
   },
   {
    "duration": 17,
    "start_time": "2021-07-07T18:46:31.642Z"
   },
   {
    "duration": 10,
    "start_time": "2021-07-07T18:46:31.684Z"
   },
   {
    "duration": 9,
    "start_time": "2021-07-07T18:46:31.695Z"
   },
   {
    "duration": 28,
    "start_time": "2021-07-07T18:46:31.705Z"
   },
   {
    "duration": 18,
    "start_time": "2021-07-07T18:46:31.735Z"
   },
   {
    "duration": 48,
    "start_time": "2021-07-07T18:46:31.755Z"
   },
   {
    "duration": 6,
    "start_time": "2021-07-07T18:46:31.804Z"
   },
   {
    "duration": 4,
    "start_time": "2021-07-07T18:46:31.812Z"
   },
   {
    "duration": 9,
    "start_time": "2021-07-07T18:46:31.817Z"
   },
   {
    "duration": 10,
    "start_time": "2021-07-07T18:46:31.827Z"
   },
   {
    "duration": 12,
    "start_time": "2021-07-07T18:46:31.838Z"
   },
   {
    "duration": 39,
    "start_time": "2021-07-07T18:46:31.851Z"
   },
   {
    "duration": 24,
    "start_time": "2021-07-07T18:46:31.892Z"
   },
   {
    "duration": 15,
    "start_time": "2021-07-07T18:46:31.918Z"
   },
   {
    "duration": 7,
    "start_time": "2021-07-07T18:46:31.936Z"
   },
   {
    "duration": 8,
    "start_time": "2021-07-07T18:46:31.944Z"
   },
   {
    "duration": 19,
    "start_time": "2021-07-07T18:46:31.984Z"
   },
   {
    "duration": 10,
    "start_time": "2021-07-07T18:46:32.004Z"
   },
   {
    "duration": 5,
    "start_time": "2021-07-07T18:46:32.016Z"
   },
   {
    "duration": 9,
    "start_time": "2021-07-07T18:46:32.023Z"
   },
   {
    "duration": 199,
    "start_time": "2021-07-07T18:46:32.033Z"
   },
   {
    "duration": 19,
    "start_time": "2021-07-07T18:46:32.234Z"
   },
   {
    "duration": 159,
    "start_time": "2021-07-07T18:46:32.255Z"
   },
   {
    "duration": 134,
    "start_time": "2021-07-07T18:46:32.416Z"
   },
   {
    "duration": 10,
    "start_time": "2021-07-07T18:46:32.552Z"
   },
   {
    "duration": 34,
    "start_time": "2021-07-07T18:46:32.563Z"
   },
   {
    "duration": 1039,
    "start_time": "2021-07-08T08:41:09.419Z"
   },
   {
    "duration": 333,
    "start_time": "2021-07-08T08:41:10.459Z"
   },
   {
    "duration": 173,
    "start_time": "2021-07-08T08:41:10.794Z"
   },
   {
    "duration": 5,
    "start_time": "2021-07-08T08:41:10.968Z"
   },
   {
    "duration": 25,
    "start_time": "2021-07-08T08:41:10.975Z"
   },
   {
    "duration": 9,
    "start_time": "2021-07-08T08:41:11.002Z"
   },
   {
    "duration": 18,
    "start_time": "2021-07-08T08:41:11.013Z"
   },
   {
    "duration": 6,
    "start_time": "2021-07-08T08:41:11.033Z"
   },
   {
    "duration": 44,
    "start_time": "2021-07-08T08:41:11.042Z"
   },
   {
    "duration": 10,
    "start_time": "2021-07-08T08:41:11.088Z"
   },
   {
    "duration": 9,
    "start_time": "2021-07-08T08:41:11.100Z"
   },
   {
    "duration": 27,
    "start_time": "2021-07-08T08:41:11.111Z"
   },
   {
    "duration": 46,
    "start_time": "2021-07-08T08:41:11.140Z"
   },
   {
    "duration": 17,
    "start_time": "2021-07-08T08:41:11.187Z"
   },
   {
    "duration": 6,
    "start_time": "2021-07-08T08:41:11.206Z"
   },
   {
    "duration": 5,
    "start_time": "2021-07-08T08:41:11.213Z"
   },
   {
    "duration": 10,
    "start_time": "2021-07-08T08:41:11.219Z"
   },
   {
    "duration": 9,
    "start_time": "2021-07-08T08:41:11.230Z"
   },
   {
    "duration": 45,
    "start_time": "2021-07-08T08:41:11.241Z"
   },
   {
    "duration": 7,
    "start_time": "2021-07-08T08:41:11.287Z"
   },
   {
    "duration": 24,
    "start_time": "2021-07-08T08:41:11.296Z"
   },
   {
    "duration": 16,
    "start_time": "2021-07-08T08:41:11.322Z"
   },
   {
    "duration": 7,
    "start_time": "2021-07-08T08:41:11.341Z"
   },
   {
    "duration": 41,
    "start_time": "2021-07-08T08:41:11.349Z"
   },
   {
    "duration": 17,
    "start_time": "2021-07-08T08:41:11.391Z"
   },
   {
    "duration": 9,
    "start_time": "2021-07-08T08:41:11.410Z"
   },
   {
    "duration": 5,
    "start_time": "2021-07-08T08:41:11.421Z"
   },
   {
    "duration": 6,
    "start_time": "2021-07-08T08:41:11.428Z"
   },
   {
    "duration": 198,
    "start_time": "2021-07-08T08:41:11.435Z"
   },
   {
    "duration": 18,
    "start_time": "2021-07-08T08:41:11.635Z"
   },
   {
    "duration": 155,
    "start_time": "2021-07-08T08:41:11.655Z"
   },
   {
    "duration": 138,
    "start_time": "2021-07-08T08:41:11.811Z"
   },
   {
    "duration": 10,
    "start_time": "2021-07-08T08:41:11.950Z"
   },
   {
    "duration": 29,
    "start_time": "2021-07-08T08:41:11.961Z"
   },
   {
    "duration": 171,
    "start_time": "2021-07-08T08:47:44.522Z"
   },
   {
    "duration": 124,
    "start_time": "2021-07-08T08:47:46.872Z"
   },
   {
    "duration": 191,
    "start_time": "2021-07-08T08:47:58.148Z"
   },
   {
    "duration": 191,
    "start_time": "2021-07-08T08:48:07.412Z"
   },
   {
    "duration": 261,
    "start_time": "2021-07-08T08:48:10.385Z"
   },
   {
    "duration": 255,
    "start_time": "2021-07-08T08:48:14.494Z"
   },
   {
    "duration": 219,
    "start_time": "2021-07-08T08:48:22.752Z"
   },
   {
    "duration": 173,
    "start_time": "2021-07-08T08:49:06.395Z"
   },
   {
    "duration": 180,
    "start_time": "2021-07-08T08:49:21.011Z"
   },
   {
    "duration": 6,
    "start_time": "2021-07-08T08:50:31.697Z"
   },
   {
    "duration": 10,
    "start_time": "2021-07-08T08:50:47.394Z"
   },
   {
    "duration": 11,
    "start_time": "2021-07-08T08:53:49.332Z"
   },
   {
    "duration": 171,
    "start_time": "2021-07-08T08:54:28.408Z"
   },
   {
    "duration": 636,
    "start_time": "2021-07-08T09:02:48.385Z"
   },
   {
    "duration": 227,
    "start_time": "2021-07-08T09:02:49.023Z"
   },
   {
    "duration": 104,
    "start_time": "2021-07-08T09:02:49.252Z"
   },
   {
    "duration": 5,
    "start_time": "2021-07-08T09:02:49.358Z"
   },
   {
    "duration": 27,
    "start_time": "2021-07-08T09:02:49.365Z"
   },
   {
    "duration": 8,
    "start_time": "2021-07-08T09:02:49.394Z"
   },
   {
    "duration": 18,
    "start_time": "2021-07-08T09:02:49.404Z"
   },
   {
    "duration": 6,
    "start_time": "2021-07-08T09:02:49.424Z"
   },
   {
    "duration": 11,
    "start_time": "2021-07-08T09:02:49.433Z"
   },
   {
    "duration": 13,
    "start_time": "2021-07-08T09:02:49.485Z"
   },
   {
    "duration": 9,
    "start_time": "2021-07-08T09:02:49.500Z"
   },
   {
    "duration": 38,
    "start_time": "2021-07-08T09:02:49.511Z"
   },
   {
    "duration": 42,
    "start_time": "2021-07-08T09:02:49.551Z"
   },
   {
    "duration": 21,
    "start_time": "2021-07-08T09:02:49.594Z"
   },
   {
    "duration": 6,
    "start_time": "2021-07-08T09:02:49.616Z"
   },
   {
    "duration": 3,
    "start_time": "2021-07-08T09:02:49.623Z"
   },
   {
    "duration": 9,
    "start_time": "2021-07-08T09:02:49.628Z"
   },
   {
    "duration": 52,
    "start_time": "2021-07-08T09:02:49.638Z"
   },
   {
    "duration": 11,
    "start_time": "2021-07-08T09:02:49.692Z"
   },
   {
    "duration": 8,
    "start_time": "2021-07-08T09:02:49.704Z"
   },
   {
    "duration": 27,
    "start_time": "2021-07-08T09:02:49.713Z"
   },
   {
    "duration": 59,
    "start_time": "2021-07-08T09:02:49.741Z"
   },
   {
    "duration": 8,
    "start_time": "2021-07-08T09:02:49.803Z"
   },
   {
    "duration": 14,
    "start_time": "2021-07-08T09:02:49.813Z"
   },
   {
    "duration": 20,
    "start_time": "2021-07-08T09:02:49.829Z"
   },
   {
    "duration": 44,
    "start_time": "2021-07-08T09:02:49.851Z"
   },
   {
    "duration": 14,
    "start_time": "2021-07-08T09:02:49.896Z"
   },
   {
    "duration": 221,
    "start_time": "2021-07-08T09:02:49.912Z"
   },
   {
    "duration": 6,
    "start_time": "2021-07-08T09:02:50.134Z"
   },
   {
    "duration": 206,
    "start_time": "2021-07-08T09:02:50.142Z"
   },
   {
    "duration": 19,
    "start_time": "2021-07-08T09:02:50.350Z"
   },
   {
    "duration": 21,
    "start_time": "2021-07-08T09:02:50.370Z"
   },
   {
    "duration": 20,
    "start_time": "2021-07-08T09:02:50.393Z"
   },
   {
    "duration": 5,
    "start_time": "2021-07-08T09:02:50.414Z"
   },
   {
    "duration": 5,
    "start_time": "2021-07-08T09:03:34.173Z"
   },
   {
    "duration": 6,
    "start_time": "2021-07-08T09:04:49.062Z"
   },
   {
    "duration": 9,
    "start_time": "2021-07-08T09:04:50.118Z"
   },
   {
    "duration": 14,
    "start_time": "2021-07-08T09:04:58.512Z"
   },
   {
    "duration": 9,
    "start_time": "2021-07-08T09:05:10.988Z"
   },
   {
    "duration": 11,
    "start_time": "2021-07-08T09:05:11.743Z"
   },
   {
    "duration": 7,
    "start_time": "2021-07-08T09:05:25.677Z"
   },
   {
    "duration": 13,
    "start_time": "2021-07-08T09:05:47.189Z"
   },
   {
    "duration": 13,
    "start_time": "2021-07-08T09:05:54.755Z"
   },
   {
    "duration": 4,
    "start_time": "2021-07-08T09:06:29.189Z"
   },
   {
    "duration": 244,
    "start_time": "2021-07-08T09:06:29.195Z"
   },
   {
    "duration": 91,
    "start_time": "2021-07-08T09:06:29.441Z"
   },
   {
    "duration": 4,
    "start_time": "2021-07-08T09:06:29.534Z"
   },
   {
    "duration": 28,
    "start_time": "2021-07-08T09:06:29.540Z"
   },
   {
    "duration": 6,
    "start_time": "2021-07-08T09:06:29.570Z"
   },
   {
    "duration": 18,
    "start_time": "2021-07-08T09:06:29.578Z"
   },
   {
    "duration": 5,
    "start_time": "2021-07-08T09:06:29.597Z"
   },
   {
    "duration": 13,
    "start_time": "2021-07-08T09:06:29.605Z"
   },
   {
    "duration": 8,
    "start_time": "2021-07-08T09:06:29.620Z"
   },
   {
    "duration": 7,
    "start_time": "2021-07-08T09:06:29.630Z"
   },
   {
    "duration": 63,
    "start_time": "2021-07-08T09:06:29.639Z"
   },
   {
    "duration": 17,
    "start_time": "2021-07-08T09:06:29.704Z"
   },
   {
    "duration": 20,
    "start_time": "2021-07-08T09:06:29.723Z"
   },
   {
    "duration": 6,
    "start_time": "2021-07-08T09:06:29.745Z"
   },
   {
    "duration": 3,
    "start_time": "2021-07-08T09:06:29.752Z"
   },
   {
    "duration": 7,
    "start_time": "2021-07-08T09:06:29.785Z"
   },
   {
    "duration": 11,
    "start_time": "2021-07-08T09:06:29.794Z"
   },
   {
    "duration": 15,
    "start_time": "2021-07-08T09:06:29.807Z"
   },
   {
    "duration": 8,
    "start_time": "2021-07-08T09:06:29.823Z"
   },
   {
    "duration": 70,
    "start_time": "2021-07-08T09:06:29.832Z"
   },
   {
    "duration": 17,
    "start_time": "2021-07-08T09:06:29.903Z"
   },
   {
    "duration": 9,
    "start_time": "2021-07-08T09:06:29.921Z"
   },
   {
    "duration": 9,
    "start_time": "2021-07-08T09:06:29.932Z"
   },
   {
    "duration": 57,
    "start_time": "2021-07-08T09:06:29.942Z"
   },
   {
    "duration": 11,
    "start_time": "2021-07-08T09:06:30.001Z"
   },
   {
    "duration": 19,
    "start_time": "2021-07-08T09:06:30.016Z"
   },
   {
    "duration": 217,
    "start_time": "2021-07-08T09:06:30.037Z"
   },
   {
    "duration": 6,
    "start_time": "2021-07-08T09:06:30.255Z"
   },
   {
    "duration": 205,
    "start_time": "2021-07-08T09:06:30.263Z"
   },
   {
    "duration": 27,
    "start_time": "2021-07-08T09:06:30.470Z"
   },
   {
    "duration": 11,
    "start_time": "2021-07-08T09:06:30.500Z"
   },
   {
    "duration": 31,
    "start_time": "2021-07-08T09:06:30.513Z"
   },
   {
    "duration": 18,
    "start_time": "2021-07-08T09:06:30.546Z"
   },
   {
    "duration": 11,
    "start_time": "2021-07-08T09:06:30.566Z"
   },
   {
    "duration": 19,
    "start_time": "2021-07-08T09:06:30.579Z"
   },
   {
    "duration": 20,
    "start_time": "2021-07-08T09:06:49.466Z"
   },
   {
    "duration": 9,
    "start_time": "2021-07-08T09:06:51.994Z"
   },
   {
    "duration": 20,
    "start_time": "2021-07-08T09:06:52.273Z"
   },
   {
    "duration": 246,
    "start_time": "2021-07-08T09:10:21.272Z"
   },
   {
    "duration": 84,
    "start_time": "2021-07-08T09:10:21.436Z"
   },
   {
    "duration": 7,
    "start_time": "2021-07-08T09:10:37.608Z"
   },
   {
    "duration": 189,
    "start_time": "2021-07-08T09:10:38.573Z"
   },
   {
    "duration": 185,
    "start_time": "2021-07-08T09:10:53.181Z"
   },
   {
    "duration": 11,
    "start_time": "2021-07-08T09:10:59.549Z"
   },
   {
    "duration": 42,
    "start_time": "2021-07-08T09:10:59.709Z"
   },
   {
    "duration": 12,
    "start_time": "2021-07-08T09:11:02.857Z"
   },
   {
    "duration": 28,
    "start_time": "2021-07-08T09:11:10.062Z"
   },
   {
    "duration": 249,
    "start_time": "2021-07-08T09:11:37.388Z"
   },
   {
    "duration": 232,
    "start_time": "2021-07-08T09:11:49.485Z"
   },
   {
    "duration": 453,
    "start_time": "2021-07-08T09:12:01.546Z"
   },
   {
    "duration": 440,
    "start_time": "2021-07-08T09:12:12.347Z"
   },
   {
    "duration": 213,
    "start_time": "2021-07-08T09:13:32.196Z"
   },
   {
    "duration": 172,
    "start_time": "2021-07-08T09:14:07.400Z"
   },
   {
    "duration": 185,
    "start_time": "2021-07-08T09:14:14.905Z"
   },
   {
    "duration": 209,
    "start_time": "2021-07-08T09:14:40.109Z"
   },
   {
    "duration": 201,
    "start_time": "2021-07-08T09:14:54.506Z"
   },
   {
    "duration": 622,
    "start_time": "2021-07-08T09:18:14.497Z"
   },
   {
    "duration": 220,
    "start_time": "2021-07-08T09:18:15.121Z"
   },
   {
    "duration": 79,
    "start_time": "2021-07-08T09:18:15.343Z"
   },
   {
    "duration": 4,
    "start_time": "2021-07-08T09:18:15.425Z"
   },
   {
    "duration": 24,
    "start_time": "2021-07-08T09:18:15.431Z"
   },
   {
    "duration": 8,
    "start_time": "2021-07-08T09:18:15.457Z"
   },
   {
    "duration": 16,
    "start_time": "2021-07-08T09:18:15.466Z"
   },
   {
    "duration": 5,
    "start_time": "2021-07-08T09:18:15.484Z"
   },
   {
    "duration": 10,
    "start_time": "2021-07-08T09:18:15.493Z"
   },
   {
    "duration": 8,
    "start_time": "2021-07-08T09:18:15.504Z"
   },
   {
    "duration": 7,
    "start_time": "2021-07-08T09:18:15.513Z"
   },
   {
    "duration": 26,
    "start_time": "2021-07-08T09:18:15.522Z"
   },
   {
    "duration": 49,
    "start_time": "2021-07-08T09:18:15.550Z"
   },
   {
    "duration": 21,
    "start_time": "2021-07-08T09:18:15.601Z"
   },
   {
    "duration": 8,
    "start_time": "2021-07-08T09:18:15.624Z"
   },
   {
    "duration": 3,
    "start_time": "2021-07-08T09:18:15.634Z"
   },
   {
    "duration": 8,
    "start_time": "2021-07-08T09:18:15.639Z"
   },
   {
    "duration": 45,
    "start_time": "2021-07-08T09:18:15.649Z"
   },
   {
    "duration": 13,
    "start_time": "2021-07-08T09:18:15.696Z"
   },
   {
    "duration": 10,
    "start_time": "2021-07-08T09:18:15.711Z"
   },
   {
    "duration": 64,
    "start_time": "2021-07-08T09:18:15.722Z"
   },
   {
    "duration": 19,
    "start_time": "2021-07-08T09:18:15.788Z"
   },
   {
    "duration": 9,
    "start_time": "2021-07-08T09:18:15.809Z"
   },
   {
    "duration": 9,
    "start_time": "2021-07-08T09:18:15.820Z"
   },
   {
    "duration": 18,
    "start_time": "2021-07-08T09:18:15.831Z"
   },
   {
    "duration": 43,
    "start_time": "2021-07-08T09:18:15.851Z"
   },
   {
    "duration": 12,
    "start_time": "2021-07-08T09:18:15.897Z"
   },
   {
    "duration": 219,
    "start_time": "2021-07-08T09:18:15.911Z"
   },
   {
    "duration": 8,
    "start_time": "2021-07-08T09:18:16.132Z"
   },
   {
    "duration": 199,
    "start_time": "2021-07-08T09:18:16.141Z"
   },
   {
    "duration": 18,
    "start_time": "2021-07-08T09:18:16.341Z"
   },
   {
    "duration": 24,
    "start_time": "2021-07-08T09:18:16.361Z"
   },
   {
    "duration": 24,
    "start_time": "2021-07-08T09:18:16.387Z"
   },
   {
    "duration": 211,
    "start_time": "2021-07-08T09:18:16.413Z"
   },
   {
    "duration": 18,
    "start_time": "2021-07-08T09:18:16.626Z"
   },
   {
    "duration": 596,
    "start_time": "2021-07-08T10:06:33.623Z"
   },
   {
    "duration": 181,
    "start_time": "2021-07-08T10:06:34.221Z"
   },
   {
    "duration": 176,
    "start_time": "2021-07-08T10:06:34.635Z"
   },
   {
    "duration": 239,
    "start_time": "2021-07-08T10:06:55.572Z"
   },
   {
    "duration": 6,
    "start_time": "2021-07-08T10:06:57.687Z"
   },
   {
    "duration": 4,
    "start_time": "2021-07-08T10:07:03.956Z"
   },
   {
    "duration": 4,
    "start_time": "2021-07-08T10:07:10.376Z"
   },
   {
    "duration": 4,
    "start_time": "2021-07-08T10:17:19.889Z"
   },
   {
    "duration": 3,
    "start_time": "2021-07-08T10:19:19.407Z"
   },
   {
    "duration": 197,
    "start_time": "2021-07-08T10:19:19.412Z"
   },
   {
    "duration": 127,
    "start_time": "2021-07-08T10:19:19.611Z"
   },
   {
    "duration": 4,
    "start_time": "2021-07-08T10:19:19.740Z"
   },
   {
    "duration": 27,
    "start_time": "2021-07-08T10:19:19.746Z"
   },
   {
    "duration": 7,
    "start_time": "2021-07-08T10:19:19.775Z"
   },
   {
    "duration": 30,
    "start_time": "2021-07-08T10:19:19.784Z"
   },
   {
    "duration": 7,
    "start_time": "2021-07-08T10:19:19.817Z"
   },
   {
    "duration": 26,
    "start_time": "2021-07-08T10:19:19.826Z"
   },
   {
    "duration": 18,
    "start_time": "2021-07-08T10:19:19.854Z"
   },
   {
    "duration": 14,
    "start_time": "2021-07-08T10:19:19.874Z"
   },
   {
    "duration": 48,
    "start_time": "2021-07-08T10:19:19.890Z"
   },
   {
    "duration": 17,
    "start_time": "2021-07-08T10:19:19.940Z"
   },
   {
    "duration": 38,
    "start_time": "2021-07-08T10:19:19.959Z"
   },
   {
    "duration": 8,
    "start_time": "2021-07-08T10:19:19.999Z"
   },
   {
    "duration": 15,
    "start_time": "2021-07-08T10:19:20.009Z"
   },
   {
    "duration": 22,
    "start_time": "2021-07-08T10:19:20.026Z"
   },
   {
    "duration": 10,
    "start_time": "2021-07-08T10:19:20.050Z"
   },
   {
    "duration": 10,
    "start_time": "2021-07-08T10:19:20.062Z"
   },
   {
    "duration": 20,
    "start_time": "2021-07-08T10:19:20.073Z"
   },
   {
    "duration": 29,
    "start_time": "2021-07-08T10:19:20.095Z"
   },
   {
    "duration": 17,
    "start_time": "2021-07-08T10:19:20.126Z"
   },
   {
    "duration": 40,
    "start_time": "2021-07-08T10:19:20.146Z"
   },
   {
    "duration": 15,
    "start_time": "2021-07-08T10:19:20.189Z"
   },
   {
    "duration": 19,
    "start_time": "2021-07-08T10:19:20.206Z"
   },
   {
    "duration": 10,
    "start_time": "2021-07-08T10:19:20.226Z"
   },
   {
    "duration": 11,
    "start_time": "2021-07-08T10:19:20.238Z"
   },
   {
    "duration": 297,
    "start_time": "2021-07-08T10:19:20.250Z"
   },
   {
    "duration": 6,
    "start_time": "2021-07-08T10:19:20.549Z"
   },
   {
    "duration": 191,
    "start_time": "2021-07-08T10:19:20.557Z"
   },
   {
    "duration": 19,
    "start_time": "2021-07-08T10:19:20.750Z"
   },
   {
    "duration": 20,
    "start_time": "2021-07-08T10:19:20.771Z"
   },
   {
    "duration": 15,
    "start_time": "2021-07-08T10:19:20.793Z"
   },
   {
    "duration": 222,
    "start_time": "2021-07-08T10:19:20.809Z"
   },
   {
    "duration": 20,
    "start_time": "2021-07-08T10:19:21.033Z"
   },
   {
    "duration": 27,
    "start_time": "2021-07-08T10:45:04.055Z"
   },
   {
    "duration": 8,
    "start_time": "2021-07-08T10:45:08.478Z"
   },
   {
    "duration": 8,
    "start_time": "2021-07-08T10:45:31.982Z"
   },
   {
    "duration": 10,
    "start_time": "2021-07-08T10:46:01.221Z"
   },
   {
    "duration": 17,
    "start_time": "2021-07-08T10:46:40.011Z"
   },
   {
    "duration": 193,
    "start_time": "2021-07-08T10:48:19.471Z"
   },
   {
    "duration": 225,
    "start_time": "2021-07-08T10:49:26.480Z"
   },
   {
    "duration": 204,
    "start_time": "2021-07-08T10:49:59.992Z"
   },
   {
    "duration": 435,
    "start_time": "2021-07-08T10:50:06.779Z"
   },
   {
    "duration": 199,
    "start_time": "2021-07-08T10:50:14.891Z"
   },
   {
    "duration": 204,
    "start_time": "2021-07-08T10:50:18.501Z"
   },
   {
    "duration": 244,
    "start_time": "2021-07-08T10:50:23.359Z"
   },
   {
    "duration": 192,
    "start_time": "2021-07-08T10:50:29.135Z"
   },
   {
    "duration": 218,
    "start_time": "2021-07-08T10:50:33.092Z"
   },
   {
    "duration": 207,
    "start_time": "2021-07-08T10:52:45.381Z"
   },
   {
    "duration": 5,
    "start_time": "2021-07-08T10:53:34.641Z"
   },
   {
    "duration": 196,
    "start_time": "2021-07-08T10:53:41.478Z"
   },
   {
    "duration": 43,
    "start_time": "2021-07-08T10:53:50.335Z"
   },
   {
    "duration": 32,
    "start_time": "2021-07-08T10:53:55.294Z"
   },
   {
    "duration": 55,
    "start_time": "2021-07-08T10:54:09.675Z"
   },
   {
    "duration": 16,
    "start_time": "2021-07-08T10:54:12.260Z"
   },
   {
    "duration": 15,
    "start_time": "2021-07-08T10:54:49.150Z"
   },
   {
    "duration": 20,
    "start_time": "2021-07-08T10:56:07.596Z"
   },
   {
    "duration": 16,
    "start_time": "2021-07-08T10:58:26.276Z"
   },
   {
    "duration": 22,
    "start_time": "2021-07-08T10:59:00.486Z"
   },
   {
    "duration": 18,
    "start_time": "2021-07-08T11:02:09.653Z"
   },
   {
    "duration": 10,
    "start_time": "2021-07-08T11:03:44.331Z"
   },
   {
    "duration": 10,
    "start_time": "2021-07-08T11:03:54.055Z"
   },
   {
    "duration": 12,
    "start_time": "2021-07-08T11:04:41.967Z"
   },
   {
    "duration": 24,
    "start_time": "2021-07-08T11:07:30.732Z"
   },
   {
    "duration": 6,
    "start_time": "2021-07-08T11:07:37.364Z"
   },
   {
    "duration": 16,
    "start_time": "2021-07-08T11:08:01.819Z"
   },
   {
    "duration": 17,
    "start_time": "2021-07-08T11:09:47.488Z"
   },
   {
    "duration": 246,
    "start_time": "2021-07-08T11:10:00.830Z"
   },
   {
    "duration": 18,
    "start_time": "2021-07-08T11:13:55.195Z"
   },
   {
    "duration": 204,
    "start_time": "2021-07-08T11:14:04.951Z"
   },
   {
    "duration": 19,
    "start_time": "2021-07-08T11:15:10.613Z"
   },
   {
    "duration": 680,
    "start_time": "2021-07-08T11:16:25.793Z"
   },
   {
    "duration": 451,
    "start_time": "2021-07-08T11:16:40.313Z"
   },
   {
    "duration": 469,
    "start_time": "2021-07-08T11:17:21.286Z"
   },
   {
    "duration": 20,
    "start_time": "2021-07-08T11:19:12.554Z"
   },
   {
    "duration": 35,
    "start_time": "2021-07-08T11:20:05.484Z"
   },
   {
    "duration": 53,
    "start_time": "2021-07-08T11:21:40.050Z"
   },
   {
    "duration": 13,
    "start_time": "2021-07-08T11:22:26.059Z"
   },
   {
    "duration": 19,
    "start_time": "2021-07-08T11:22:47.419Z"
   },
   {
    "duration": 25,
    "start_time": "2021-07-08T11:23:19.958Z"
   },
   {
    "duration": 29,
    "start_time": "2021-07-08T11:23:25.415Z"
   },
   {
    "duration": 10,
    "start_time": "2021-07-08T11:24:45.138Z"
   },
   {
    "duration": 19,
    "start_time": "2021-07-08T11:24:54.498Z"
   },
   {
    "duration": 12,
    "start_time": "2021-07-08T11:25:32.225Z"
   },
   {
    "duration": 19,
    "start_time": "2021-07-08T11:25:37.092Z"
   },
   {
    "duration": 17,
    "start_time": "2021-07-08T11:25:58.116Z"
   },
   {
    "duration": 15,
    "start_time": "2021-07-08T11:26:02.258Z"
   },
   {
    "duration": 8,
    "start_time": "2021-07-08T11:26:59.682Z"
   },
   {
    "duration": 184,
    "start_time": "2021-07-08T11:27:21.894Z"
   },
   {
    "duration": 8,
    "start_time": "2021-07-08T11:27:23.824Z"
   },
   {
    "duration": 202,
    "start_time": "2021-07-08T11:27:23.962Z"
   },
   {
    "duration": 360,
    "start_time": "2021-07-08T11:28:33.215Z"
   },
   {
    "duration": 231,
    "start_time": "2021-07-08T11:32:05.542Z"
   },
   {
    "duration": 607,
    "start_time": "2021-07-08T11:36:27.854Z"
   },
   {
    "duration": 241,
    "start_time": "2021-07-08T11:36:28.463Z"
   },
   {
    "duration": 67,
    "start_time": "2021-07-08T11:36:28.709Z"
   },
   {
    "duration": 5,
    "start_time": "2021-07-08T11:36:28.778Z"
   },
   {
    "duration": 32,
    "start_time": "2021-07-08T11:36:28.784Z"
   },
   {
    "duration": 11,
    "start_time": "2021-07-08T11:36:28.819Z"
   },
   {
    "duration": 20,
    "start_time": "2021-07-08T11:36:28.834Z"
   },
   {
    "duration": 36,
    "start_time": "2021-07-08T11:36:28.857Z"
   },
   {
    "duration": 16,
    "start_time": "2021-07-08T11:36:28.895Z"
   },
   {
    "duration": 14,
    "start_time": "2021-07-08T11:36:28.913Z"
   },
   {
    "duration": 9,
    "start_time": "2021-07-08T11:36:28.930Z"
   },
   {
    "duration": 55,
    "start_time": "2021-07-08T11:36:28.941Z"
   },
   {
    "duration": 27,
    "start_time": "2021-07-08T11:36:28.999Z"
   },
   {
    "duration": 30,
    "start_time": "2021-07-08T11:36:29.028Z"
   },
   {
    "duration": 31,
    "start_time": "2021-07-08T11:36:29.060Z"
   },
   {
    "duration": 3,
    "start_time": "2021-07-08T11:36:29.093Z"
   },
   {
    "duration": 12,
    "start_time": "2021-07-08T11:36:29.099Z"
   },
   {
    "duration": 11,
    "start_time": "2021-07-08T11:36:29.112Z"
   },
   {
    "duration": 12,
    "start_time": "2021-07-08T11:36:29.125Z"
   },
   {
    "duration": 9,
    "start_time": "2021-07-08T11:36:29.139Z"
   },
   {
    "duration": 31,
    "start_time": "2021-07-08T11:36:29.191Z"
   },
   {
    "duration": 17,
    "start_time": "2021-07-08T11:36:29.226Z"
   },
   {
    "duration": 7,
    "start_time": "2021-07-08T11:36:29.245Z"
   },
   {
    "duration": 10,
    "start_time": "2021-07-08T11:36:29.254Z"
   },
   {
    "duration": 30,
    "start_time": "2021-07-08T11:36:29.292Z"
   },
   {
    "duration": 11,
    "start_time": "2021-07-08T11:36:29.324Z"
   },
   {
    "duration": 11,
    "start_time": "2021-07-08T11:36:29.337Z"
   },
   {
    "duration": 230,
    "start_time": "2021-07-08T11:36:29.349Z"
   },
   {
    "duration": 13,
    "start_time": "2021-07-08T11:36:29.588Z"
   },
   {
    "duration": 205,
    "start_time": "2021-07-08T11:36:29.603Z"
   },
   {
    "duration": 20,
    "start_time": "2021-07-08T11:36:29.810Z"
   },
   {
    "duration": 9,
    "start_time": "2021-07-08T11:36:29.832Z"
   },
   {
    "duration": 16,
    "start_time": "2021-07-08T11:36:29.843Z"
   },
   {
    "duration": 283,
    "start_time": "2021-07-08T11:36:29.861Z"
   },
   {
    "duration": 50,
    "start_time": "2021-07-08T11:36:30.146Z"
   },
   {
    "duration": 14,
    "start_time": "2021-07-08T11:36:30.198Z"
   },
   {
    "duration": 11,
    "start_time": "2021-07-08T11:36:30.214Z"
   },
   {
    "duration": 245,
    "start_time": "2021-07-08T11:36:30.227Z"
   },
   {
    "duration": 439,
    "start_time": "2021-07-08T11:36:30.474Z"
   },
   {
    "duration": 210,
    "start_time": "2021-07-08T11:36:30.915Z"
   },
   {
    "duration": 15,
    "start_time": "2021-07-08T11:36:31.127Z"
   },
   {
    "duration": 17,
    "start_time": "2021-07-08T11:38:20.451Z"
   },
   {
    "duration": 642,
    "start_time": "2021-07-08T11:46:17.881Z"
   },
   {
    "duration": 210,
    "start_time": "2021-07-08T11:46:18.525Z"
   },
   {
    "duration": 104,
    "start_time": "2021-07-08T11:46:18.741Z"
   },
   {
    "duration": 8,
    "start_time": "2021-07-08T11:46:18.847Z"
   },
   {
    "duration": 25,
    "start_time": "2021-07-08T11:46:18.857Z"
   },
   {
    "duration": 14,
    "start_time": "2021-07-08T11:46:18.884Z"
   },
   {
    "duration": 22,
    "start_time": "2021-07-08T11:46:18.900Z"
   },
   {
    "duration": 5,
    "start_time": "2021-07-08T11:46:18.924Z"
   },
   {
    "duration": 13,
    "start_time": "2021-07-08T11:46:18.931Z"
   },
   {
    "duration": 45,
    "start_time": "2021-07-08T11:46:18.946Z"
   },
   {
    "duration": 12,
    "start_time": "2021-07-08T11:46:18.993Z"
   },
   {
    "duration": 38,
    "start_time": "2021-07-08T11:46:19.006Z"
   },
   {
    "duration": 50,
    "start_time": "2021-07-08T11:46:19.046Z"
   },
   {
    "duration": 29,
    "start_time": "2021-07-08T11:46:19.099Z"
   },
   {
    "duration": 7,
    "start_time": "2021-07-08T11:46:19.130Z"
   },
   {
    "duration": 3,
    "start_time": "2021-07-08T11:46:19.139Z"
   },
   {
    "duration": 11,
    "start_time": "2021-07-08T11:46:19.144Z"
   },
   {
    "duration": 40,
    "start_time": "2021-07-08T11:46:19.157Z"
   },
   {
    "duration": 15,
    "start_time": "2021-07-08T11:46:19.199Z"
   },
   {
    "duration": 10,
    "start_time": "2021-07-08T11:46:19.217Z"
   },
   {
    "duration": 68,
    "start_time": "2021-07-08T11:46:19.230Z"
   },
   {
    "duration": 17,
    "start_time": "2021-07-08T11:46:19.301Z"
   },
   {
    "duration": 7,
    "start_time": "2021-07-08T11:46:19.321Z"
   },
   {
    "duration": 11,
    "start_time": "2021-07-08T11:46:19.330Z"
   },
   {
    "duration": 59,
    "start_time": "2021-07-08T11:46:19.343Z"
   },
   {
    "duration": 17,
    "start_time": "2021-07-08T11:46:19.405Z"
   },
   {
    "duration": 16,
    "start_time": "2021-07-08T11:46:19.424Z"
   },
   {
    "duration": 252,
    "start_time": "2021-07-08T11:46:19.443Z"
   },
   {
    "duration": 9,
    "start_time": "2021-07-08T11:46:19.697Z"
   },
   {
    "duration": 224,
    "start_time": "2021-07-08T11:46:19.708Z"
   },
   {
    "duration": 21,
    "start_time": "2021-07-08T11:46:19.934Z"
   },
   {
    "duration": 9,
    "start_time": "2021-07-08T11:46:19.956Z"
   },
   {
    "duration": 32,
    "start_time": "2021-07-08T11:46:19.967Z"
   },
   {
    "duration": 288,
    "start_time": "2021-07-08T11:46:20.004Z"
   },
   {
    "duration": 23,
    "start_time": "2021-07-08T11:46:20.300Z"
   },
   {
    "duration": 11,
    "start_time": "2021-07-08T11:46:20.325Z"
   },
   {
    "duration": 11,
    "start_time": "2021-07-08T11:46:20.339Z"
   },
   {
    "duration": 259,
    "start_time": "2021-07-08T11:46:20.352Z"
   },
   {
    "duration": 438,
    "start_time": "2021-07-08T11:46:20.613Z"
   },
   {
    "duration": 207,
    "start_time": "2021-07-08T11:46:21.054Z"
   },
   {
    "duration": 27,
    "start_time": "2021-07-08T11:46:21.262Z"
   },
   {
    "duration": 19,
    "start_time": "2021-07-08T11:46:21.291Z"
   },
   {
    "duration": 820,
    "start_time": "2021-07-08T11:49:01.655Z"
   },
   {
    "duration": 372,
    "start_time": "2021-07-08T11:49:02.478Z"
   },
   {
    "duration": 98,
    "start_time": "2021-07-08T11:49:02.853Z"
   },
   {
    "duration": 6,
    "start_time": "2021-07-08T11:49:02.953Z"
   },
   {
    "duration": 39,
    "start_time": "2021-07-08T11:49:02.960Z"
   },
   {
    "duration": 9,
    "start_time": "2021-07-08T11:49:03.003Z"
   },
   {
    "duration": 23,
    "start_time": "2021-07-08T11:49:03.014Z"
   },
   {
    "duration": 6,
    "start_time": "2021-07-08T11:49:03.041Z"
   },
   {
    "duration": 20,
    "start_time": "2021-07-08T11:49:03.049Z"
   },
   {
    "duration": 18,
    "start_time": "2021-07-08T11:49:03.084Z"
   },
   {
    "duration": 14,
    "start_time": "2021-07-08T11:49:03.104Z"
   },
   {
    "duration": 39,
    "start_time": "2021-07-08T11:49:03.119Z"
   },
   {
    "duration": 38,
    "start_time": "2021-07-08T11:49:03.160Z"
   },
   {
    "duration": 26,
    "start_time": "2021-07-08T11:49:03.200Z"
   },
   {
    "duration": 7,
    "start_time": "2021-07-08T11:49:03.227Z"
   },
   {
    "duration": 4,
    "start_time": "2021-07-08T11:49:03.236Z"
   },
   {
    "duration": 15,
    "start_time": "2021-07-08T11:49:03.243Z"
   },
   {
    "duration": 21,
    "start_time": "2021-07-08T11:49:03.285Z"
   },
   {
    "duration": 17,
    "start_time": "2021-07-08T11:49:03.309Z"
   },
   {
    "duration": 10,
    "start_time": "2021-07-08T11:49:03.328Z"
   },
   {
    "duration": 65,
    "start_time": "2021-07-08T11:49:03.340Z"
   },
   {
    "duration": 18,
    "start_time": "2021-07-08T11:49:03.407Z"
   },
   {
    "duration": 8,
    "start_time": "2021-07-08T11:49:03.428Z"
   },
   {
    "duration": 15,
    "start_time": "2021-07-08T11:49:03.438Z"
   },
   {
    "duration": 40,
    "start_time": "2021-07-08T11:49:03.455Z"
   },
   {
    "duration": 12,
    "start_time": "2021-07-08T11:49:03.497Z"
   },
   {
    "duration": 29,
    "start_time": "2021-07-08T11:49:03.511Z"
   },
   {
    "duration": 285,
    "start_time": "2021-07-08T11:49:03.542Z"
   },
   {
    "duration": 8,
    "start_time": "2021-07-08T11:49:03.829Z"
   },
   {
    "duration": 227,
    "start_time": "2021-07-08T11:49:03.838Z"
   },
   {
    "duration": 40,
    "start_time": "2021-07-08T11:49:04.066Z"
   },
   {
    "duration": 10,
    "start_time": "2021-07-08T11:49:04.108Z"
   },
   {
    "duration": 26,
    "start_time": "2021-07-08T11:49:04.121Z"
   },
   {
    "duration": 290,
    "start_time": "2021-07-08T11:49:04.149Z"
   },
   {
    "duration": 26,
    "start_time": "2021-07-08T11:49:04.441Z"
   },
   {
    "duration": 31,
    "start_time": "2021-07-08T11:49:04.470Z"
   },
   {
    "duration": 14,
    "start_time": "2021-07-08T11:49:04.503Z"
   },
   {
    "duration": 259,
    "start_time": "2021-07-08T11:49:04.521Z"
   },
   {
    "duration": 480,
    "start_time": "2021-07-08T11:49:04.782Z"
   },
   {
    "duration": 225,
    "start_time": "2021-07-08T11:49:05.264Z"
   },
   {
    "duration": 22,
    "start_time": "2021-07-08T11:49:05.491Z"
   },
   {
    "duration": 24,
    "start_time": "2021-07-08T11:49:05.515Z"
   },
   {
    "duration": 634,
    "start_time": "2021-07-08T11:52:24.960Z"
   },
   {
    "duration": 199,
    "start_time": "2021-07-08T11:52:25.599Z"
   },
   {
    "duration": 106,
    "start_time": "2021-07-08T11:52:25.803Z"
   },
   {
    "duration": 7,
    "start_time": "2021-07-08T11:52:25.911Z"
   },
   {
    "duration": 29,
    "start_time": "2021-07-08T11:52:25.920Z"
   },
   {
    "duration": 7,
    "start_time": "2021-07-08T11:52:25.951Z"
   },
   {
    "duration": 26,
    "start_time": "2021-07-08T11:52:25.961Z"
   },
   {
    "duration": 11,
    "start_time": "2021-07-08T11:52:25.990Z"
   },
   {
    "duration": 29,
    "start_time": "2021-07-08T11:52:26.005Z"
   },
   {
    "duration": 9,
    "start_time": "2021-07-08T11:52:26.036Z"
   },
   {
    "duration": 8,
    "start_time": "2021-07-08T11:52:26.047Z"
   },
   {
    "duration": 63,
    "start_time": "2021-07-08T11:52:26.057Z"
   },
   {
    "duration": 17,
    "start_time": "2021-07-08T11:52:26.122Z"
   },
   {
    "duration": 43,
    "start_time": "2021-07-08T11:52:26.142Z"
   },
   {
    "duration": 17,
    "start_time": "2021-07-08T11:52:26.187Z"
   },
   {
    "duration": 5,
    "start_time": "2021-07-08T11:52:26.206Z"
   },
   {
    "duration": 12,
    "start_time": "2021-07-08T11:52:26.212Z"
   },
   {
    "duration": 11,
    "start_time": "2021-07-08T11:52:26.226Z"
   },
   {
    "duration": 12,
    "start_time": "2021-07-08T11:52:26.238Z"
   },
   {
    "duration": 38,
    "start_time": "2021-07-08T11:52:26.252Z"
   },
   {
    "duration": 40,
    "start_time": "2021-07-08T11:52:26.292Z"
   },
   {
    "duration": 17,
    "start_time": "2021-07-08T11:52:26.336Z"
   },
   {
    "duration": 39,
    "start_time": "2021-07-08T11:52:26.355Z"
   },
   {
    "duration": 11,
    "start_time": "2021-07-08T11:52:26.395Z"
   },
   {
    "duration": 23,
    "start_time": "2021-07-08T11:52:26.408Z"
   },
   {
    "duration": 12,
    "start_time": "2021-07-08T11:52:26.432Z"
   },
   {
    "duration": 41,
    "start_time": "2021-07-08T11:52:26.446Z"
   },
   {
    "duration": 215,
    "start_time": "2021-07-08T11:52:26.493Z"
   },
   {
    "duration": 8,
    "start_time": "2021-07-08T11:52:26.710Z"
   },
   {
    "duration": 228,
    "start_time": "2021-07-08T11:52:26.720Z"
   },
   {
    "duration": 18,
    "start_time": "2021-07-08T11:52:26.950Z"
   },
   {
    "duration": 35,
    "start_time": "2021-07-08T11:52:26.969Z"
   },
   {
    "duration": 23,
    "start_time": "2021-07-08T11:52:27.006Z"
   },
   {
    "duration": 258,
    "start_time": "2021-07-08T11:52:27.030Z"
   },
   {
    "duration": 24,
    "start_time": "2021-07-08T11:52:27.290Z"
   },
   {
    "duration": 12,
    "start_time": "2021-07-08T11:52:27.316Z"
   },
   {
    "duration": 10,
    "start_time": "2021-07-08T11:52:27.329Z"
   },
   {
    "duration": 298,
    "start_time": "2021-07-08T11:52:27.341Z"
   },
   {
    "duration": 436,
    "start_time": "2021-07-08T11:52:27.641Z"
   },
   {
    "duration": 216,
    "start_time": "2021-07-08T11:52:28.079Z"
   },
   {
    "duration": 20,
    "start_time": "2021-07-08T11:52:28.297Z"
   },
   {
    "duration": 17,
    "start_time": "2021-07-08T11:52:28.319Z"
   },
   {
    "duration": 53,
    "start_time": "2023-07-03T14:14:03.479Z"
   },
   {
    "duration": 472,
    "start_time": "2023-07-03T14:14:10.233Z"
   },
   {
    "duration": 611,
    "start_time": "2023-07-03T14:14:41.568Z"
   },
   {
    "duration": 303,
    "start_time": "2023-07-03T14:15:02.194Z"
   },
   {
    "duration": 162,
    "start_time": "2023-07-03T14:17:08.757Z"
   },
   {
    "duration": 174,
    "start_time": "2023-07-03T14:17:39.799Z"
   },
   {
    "duration": 143,
    "start_time": "2023-07-03T14:18:09.508Z"
   },
   {
    "duration": 14,
    "start_time": "2023-07-03T14:18:18.914Z"
   },
   {
    "duration": 288,
    "start_time": "2023-07-03T14:21:50.112Z"
   },
   {
    "duration": 289,
    "start_time": "2023-07-03T14:23:02.112Z"
   },
   {
    "duration": 568,
    "start_time": "2023-07-03T14:23:18.197Z"
   },
   {
    "duration": 11,
    "start_time": "2023-07-03T14:23:18.769Z"
   },
   {
    "duration": 389,
    "start_time": "2023-07-03T14:23:18.782Z"
   },
   {
    "duration": 710,
    "start_time": "2023-07-03T14:27:01.612Z"
   },
   {
    "duration": 640,
    "start_time": "2023-07-03T14:27:16.486Z"
   },
   {
    "duration": 11,
    "start_time": "2023-07-03T14:27:17.128Z"
   },
   {
    "duration": 803,
    "start_time": "2023-07-03T14:27:17.141Z"
   },
   {
    "duration": 180,
    "start_time": "2023-07-03T14:27:48.892Z"
   },
   {
    "duration": 189,
    "start_time": "2023-07-03T14:28:03.041Z"
   },
   {
    "duration": 761,
    "start_time": "2023-07-03T14:28:44.511Z"
   },
   {
    "duration": 26,
    "start_time": "2023-07-03T14:29:52.727Z"
   },
   {
    "duration": 34,
    "start_time": "2023-07-03T14:30:15.509Z"
   },
   {
    "duration": 776,
    "start_time": "2023-07-03T14:31:26.970Z"
   },
   {
    "duration": 28,
    "start_time": "2023-07-03T14:31:27.749Z"
   },
   {
    "duration": 86,
    "start_time": "2023-07-03T14:31:27.780Z"
   },
   {
    "duration": 68,
    "start_time": "2023-07-03T14:31:27.869Z"
   },
   {
    "duration": 46,
    "start_time": "2023-07-03T14:31:51.637Z"
   },
   {
    "duration": 17,
    "start_time": "2023-07-03T14:33:57.318Z"
   },
   {
    "duration": 861,
    "start_time": "2023-07-03T14:40:26.387Z"
   },
   {
    "duration": 774,
    "start_time": "2023-07-03T14:41:04.778Z"
   },
   {
    "duration": 705,
    "start_time": "2023-07-03T14:41:22.809Z"
   },
   {
    "duration": 738,
    "start_time": "2023-07-03T14:42:05.174Z"
   },
   {
    "duration": 777,
    "start_time": "2023-07-03T14:42:15.187Z"
   },
   {
    "duration": 15,
    "start_time": "2023-07-03T14:42:51.725Z"
   },
   {
    "duration": 25,
    "start_time": "2023-07-03T14:43:28.596Z"
   },
   {
    "duration": 11,
    "start_time": "2023-07-03T14:46:48.520Z"
   },
   {
    "duration": 50,
    "start_time": "2023-07-05T06:34:31.299Z"
   },
   {
    "duration": 6,
    "start_time": "2023-07-05T06:34:46.607Z"
   },
   {
    "duration": 663,
    "start_time": "2023-07-05T06:35:04.909Z"
   },
   {
    "duration": 10,
    "start_time": "2023-07-05T06:35:05.574Z"
   },
   {
    "duration": 70,
    "start_time": "2023-07-05T06:35:05.586Z"
   },
   {
    "duration": 67,
    "start_time": "2023-07-05T06:35:05.658Z"
   },
   {
    "duration": 16,
    "start_time": "2023-07-05T06:35:05.727Z"
   },
   {
    "duration": 25,
    "start_time": "2023-07-05T06:35:05.745Z"
   },
   {
    "duration": 18,
    "start_time": "2023-07-05T06:35:05.773Z"
   },
   {
    "duration": 29,
    "start_time": "2023-07-05T06:35:05.793Z"
   },
   {
    "duration": 26,
    "start_time": "2023-07-05T06:35:05.824Z"
   },
   {
    "duration": 13,
    "start_time": "2023-07-05T06:40:18.550Z"
   },
   {
    "duration": 580,
    "start_time": "2023-07-05T06:42:34.353Z"
   },
   {
    "duration": 12,
    "start_time": "2023-07-05T06:42:34.935Z"
   },
   {
    "duration": 33,
    "start_time": "2023-07-05T06:42:34.949Z"
   },
   {
    "duration": 31,
    "start_time": "2023-07-05T06:42:34.984Z"
   },
   {
    "duration": 16,
    "start_time": "2023-07-05T06:42:35.017Z"
   },
   {
    "duration": 37,
    "start_time": "2023-07-05T06:42:35.035Z"
   },
   {
    "duration": 27,
    "start_time": "2023-07-05T06:42:35.074Z"
   },
   {
    "duration": 9,
    "start_time": "2023-07-05T06:42:35.103Z"
   },
   {
    "duration": 1529,
    "start_time": "2023-07-05T06:42:35.114Z"
   },
   {
    "duration": 0,
    "start_time": "2023-07-05T06:42:36.645Z"
   },
   {
    "duration": 8,
    "start_time": "2023-07-05T06:43:03.824Z"
   },
   {
    "duration": 8,
    "start_time": "2023-07-05T06:44:00.704Z"
   },
   {
    "duration": 5,
    "start_time": "2023-07-05T06:44:20.936Z"
   },
   {
    "duration": 8,
    "start_time": "2023-07-05T06:44:39.112Z"
   },
   {
    "duration": 5,
    "start_time": "2023-07-05T06:46:06.367Z"
   },
   {
    "duration": 25,
    "start_time": "2023-07-05T06:49:04.390Z"
   },
   {
    "duration": 32,
    "start_time": "2023-07-05T06:49:17.453Z"
   },
   {
    "duration": 6,
    "start_time": "2023-07-05T06:54:25.349Z"
   },
   {
    "duration": 5,
    "start_time": "2023-07-05T06:57:32.304Z"
   },
   {
    "duration": 1100,
    "start_time": "2023-07-05T06:59:58.156Z"
   },
   {
    "duration": 610,
    "start_time": "2023-07-05T07:00:22.921Z"
   },
   {
    "duration": 16,
    "start_time": "2023-07-05T07:00:23.533Z"
   },
   {
    "duration": 55,
    "start_time": "2023-07-05T07:00:23.551Z"
   },
   {
    "duration": 52,
    "start_time": "2023-07-05T07:00:23.608Z"
   },
   {
    "duration": 21,
    "start_time": "2023-07-05T07:00:23.663Z"
   },
   {
    "duration": 28,
    "start_time": "2023-07-05T07:00:23.685Z"
   },
   {
    "duration": 43,
    "start_time": "2023-07-05T07:00:23.715Z"
   },
   {
    "duration": 10,
    "start_time": "2023-07-05T07:00:23.760Z"
   },
   {
    "duration": 22,
    "start_time": "2023-07-05T07:00:23.772Z"
   },
   {
    "duration": 18,
    "start_time": "2023-07-05T07:00:23.796Z"
   },
   {
    "duration": 14,
    "start_time": "2023-07-05T07:00:23.816Z"
   },
   {
    "duration": 1665,
    "start_time": "2023-07-05T07:00:23.832Z"
   },
   {
    "duration": 0,
    "start_time": "2023-07-05T07:00:25.499Z"
   },
   {
    "duration": 6,
    "start_time": "2023-07-05T07:01:05.217Z"
   },
   {
    "duration": 520,
    "start_time": "2023-07-05T07:06:15.498Z"
   },
   {
    "duration": 11,
    "start_time": "2023-07-05T07:06:16.020Z"
   },
   {
    "duration": 27,
    "start_time": "2023-07-05T07:06:16.033Z"
   },
   {
    "duration": 34,
    "start_time": "2023-07-05T07:06:16.062Z"
   },
   {
    "duration": 18,
    "start_time": "2023-07-05T07:06:16.098Z"
   },
   {
    "duration": 52,
    "start_time": "2023-07-05T07:06:16.118Z"
   },
   {
    "duration": 10,
    "start_time": "2023-07-05T07:06:16.171Z"
   },
   {
    "duration": 23,
    "start_time": "2023-07-05T07:06:16.183Z"
   },
   {
    "duration": 14,
    "start_time": "2023-07-05T07:06:16.208Z"
   },
   {
    "duration": 23,
    "start_time": "2023-07-05T07:06:16.224Z"
   },
   {
    "duration": 78,
    "start_time": "2023-07-05T07:06:16.249Z"
   },
   {
    "duration": 0,
    "start_time": "2023-07-05T07:06:16.329Z"
   },
   {
    "duration": 0,
    "start_time": "2023-07-05T07:06:16.330Z"
   },
   {
    "duration": 0,
    "start_time": "2023-07-05T07:06:16.331Z"
   },
   {
    "duration": 6,
    "start_time": "2023-07-05T07:07:28.645Z"
   },
   {
    "duration": 8,
    "start_time": "2023-07-05T07:07:32.052Z"
   },
   {
    "duration": 541,
    "start_time": "2023-07-05T07:09:52.807Z"
   },
   {
    "duration": 12,
    "start_time": "2023-07-05T07:09:53.350Z"
   },
   {
    "duration": 50,
    "start_time": "2023-07-05T07:09:53.363Z"
   },
   {
    "duration": 36,
    "start_time": "2023-07-05T07:09:53.415Z"
   },
   {
    "duration": 18,
    "start_time": "2023-07-05T07:09:53.453Z"
   },
   {
    "duration": 37,
    "start_time": "2023-07-05T07:09:53.473Z"
   },
   {
    "duration": 18,
    "start_time": "2023-07-05T07:09:53.512Z"
   },
   {
    "duration": 25,
    "start_time": "2023-07-05T07:09:53.532Z"
   },
   {
    "duration": 7,
    "start_time": "2023-07-05T07:09:53.559Z"
   },
   {
    "duration": 27,
    "start_time": "2023-07-05T07:09:53.567Z"
   },
   {
    "duration": 120,
    "start_time": "2023-07-05T07:09:53.596Z"
   },
   {
    "duration": 0,
    "start_time": "2023-07-05T07:09:53.718Z"
   },
   {
    "duration": 0,
    "start_time": "2023-07-05T07:09:53.720Z"
   },
   {
    "duration": 0,
    "start_time": "2023-07-05T07:09:53.721Z"
   },
   {
    "duration": 11,
    "start_time": "2023-07-05T07:10:21.576Z"
   },
   {
    "duration": 19,
    "start_time": "2023-07-05T07:10:24.143Z"
   },
   {
    "duration": 11,
    "start_time": "2023-07-05T07:10:50.618Z"
   },
   {
    "duration": 24,
    "start_time": "2023-07-05T07:10:52.413Z"
   },
   {
    "duration": 6,
    "start_time": "2023-07-05T07:11:05.015Z"
   },
   {
    "duration": 5,
    "start_time": "2023-07-05T07:11:37.662Z"
   },
   {
    "duration": 8,
    "start_time": "2023-07-05T07:12:00.140Z"
   },
   {
    "duration": 8,
    "start_time": "2023-07-05T07:18:23.742Z"
   },
   {
    "duration": 9,
    "start_time": "2023-07-05T07:21:24.817Z"
   },
   {
    "duration": 9,
    "start_time": "2023-07-05T07:23:28.235Z"
   },
   {
    "duration": 8,
    "start_time": "2023-07-05T07:23:38.009Z"
   },
   {
    "duration": 9,
    "start_time": "2023-07-05T07:25:56.298Z"
   },
   {
    "duration": 636,
    "start_time": "2023-07-05T07:27:04.504Z"
   },
   {
    "duration": 161,
    "start_time": "2023-07-05T07:27:23.721Z"
   },
   {
    "duration": 142,
    "start_time": "2023-07-05T07:27:34.587Z"
   },
   {
    "duration": 161,
    "start_time": "2023-07-05T07:27:56.383Z"
   },
   {
    "duration": 224,
    "start_time": "2023-07-05T07:28:12.878Z"
   },
   {
    "duration": 159,
    "start_time": "2023-07-05T07:28:25.018Z"
   },
   {
    "duration": 167,
    "start_time": "2023-07-05T07:28:52.339Z"
   },
   {
    "duration": 11,
    "start_time": "2023-07-05T07:29:29.799Z"
   },
   {
    "duration": 137,
    "start_time": "2023-07-05T07:30:13.207Z"
   },
   {
    "duration": 168,
    "start_time": "2023-07-05T07:30:26.331Z"
   },
   {
    "duration": 147,
    "start_time": "2023-07-05T07:30:33.483Z"
   },
   {
    "duration": 151,
    "start_time": "2023-07-05T07:30:39.077Z"
   },
   {
    "duration": 9,
    "start_time": "2023-07-05T07:31:50.238Z"
   },
   {
    "duration": 8,
    "start_time": "2023-07-05T07:32:00.621Z"
   },
   {
    "duration": 5,
    "start_time": "2023-07-05T07:32:16.499Z"
   },
   {
    "duration": 5,
    "start_time": "2023-07-05T07:33:20.515Z"
   },
   {
    "duration": 11,
    "start_time": "2023-07-05T07:34:30.230Z"
   },
   {
    "duration": 146,
    "start_time": "2023-07-05T07:34:40.912Z"
   },
   {
    "duration": 196,
    "start_time": "2023-07-05T07:34:47.120Z"
   },
   {
    "duration": 178,
    "start_time": "2023-07-05T07:34:52.333Z"
   },
   {
    "duration": 176,
    "start_time": "2023-07-05T07:34:57.241Z"
   },
   {
    "duration": 241,
    "start_time": "2023-07-05T07:35:01.789Z"
   },
   {
    "duration": 174,
    "start_time": "2023-07-05T07:35:12.857Z"
   },
   {
    "duration": 17,
    "start_time": "2023-07-05T07:38:42.985Z"
   },
   {
    "duration": 8,
    "start_time": "2023-07-05T07:38:58.239Z"
   },
   {
    "duration": 626,
    "start_time": "2023-07-05T07:39:13.735Z"
   },
   {
    "duration": 14,
    "start_time": "2023-07-05T07:39:14.364Z"
   },
   {
    "duration": 31,
    "start_time": "2023-07-05T07:39:14.380Z"
   },
   {
    "duration": 52,
    "start_time": "2023-07-05T07:39:14.413Z"
   },
   {
    "duration": 19,
    "start_time": "2023-07-05T07:39:14.468Z"
   },
   {
    "duration": 22,
    "start_time": "2023-07-05T07:39:14.489Z"
   },
   {
    "duration": 93,
    "start_time": "2023-07-05T07:39:14.513Z"
   },
   {
    "duration": 0,
    "start_time": "2023-07-05T07:39:14.609Z"
   },
   {
    "duration": 0,
    "start_time": "2023-07-05T07:39:14.610Z"
   },
   {
    "duration": 0,
    "start_time": "2023-07-05T07:39:14.612Z"
   },
   {
    "duration": 0,
    "start_time": "2023-07-05T07:39:14.613Z"
   },
   {
    "duration": 0,
    "start_time": "2023-07-05T07:39:14.614Z"
   },
   {
    "duration": 0,
    "start_time": "2023-07-05T07:39:14.615Z"
   },
   {
    "duration": 0,
    "start_time": "2023-07-05T07:39:14.616Z"
   },
   {
    "duration": 0,
    "start_time": "2023-07-05T07:39:14.618Z"
   },
   {
    "duration": 0,
    "start_time": "2023-07-05T07:39:14.619Z"
   },
   {
    "duration": 0,
    "start_time": "2023-07-05T07:39:14.620Z"
   },
   {
    "duration": 0,
    "start_time": "2023-07-05T07:39:14.621Z"
   },
   {
    "duration": 0,
    "start_time": "2023-07-05T07:39:14.622Z"
   },
   {
    "duration": 0,
    "start_time": "2023-07-05T07:39:14.655Z"
   },
   {
    "duration": 0,
    "start_time": "2023-07-05T07:39:14.656Z"
   },
   {
    "duration": 0,
    "start_time": "2023-07-05T07:39:14.658Z"
   },
   {
    "duration": 1,
    "start_time": "2023-07-05T07:39:14.659Z"
   },
   {
    "duration": 0,
    "start_time": "2023-07-05T07:39:14.662Z"
   },
   {
    "duration": 0,
    "start_time": "2023-07-05T07:39:14.663Z"
   },
   {
    "duration": 0,
    "start_time": "2023-07-05T07:39:14.665Z"
   },
   {
    "duration": 0,
    "start_time": "2023-07-05T07:39:14.668Z"
   },
   {
    "duration": 21,
    "start_time": "2023-07-05T07:39:29.285Z"
   },
   {
    "duration": 7,
    "start_time": "2023-07-05T07:40:20.469Z"
   },
   {
    "duration": 4627,
    "start_time": "2023-07-05T08:00:58.685Z"
   },
   {
    "duration": 460,
    "start_time": "2023-07-05T08:01:35.969Z"
   },
   {
    "duration": 647,
    "start_time": "2023-07-05T08:01:59.433Z"
   },
   {
    "duration": 11,
    "start_time": "2023-07-05T08:02:00.082Z"
   },
   {
    "duration": 78,
    "start_time": "2023-07-05T08:02:00.094Z"
   },
   {
    "duration": 72,
    "start_time": "2023-07-05T08:02:00.177Z"
   },
   {
    "duration": 37,
    "start_time": "2023-07-05T08:02:00.251Z"
   },
   {
    "duration": 61,
    "start_time": "2023-07-05T08:02:00.290Z"
   },
   {
    "duration": 110,
    "start_time": "2023-07-05T08:02:00.353Z"
   },
   {
    "duration": 0,
    "start_time": "2023-07-05T08:02:00.468Z"
   },
   {
    "duration": 0,
    "start_time": "2023-07-05T08:02:00.471Z"
   },
   {
    "duration": 0,
    "start_time": "2023-07-05T08:02:00.472Z"
   },
   {
    "duration": 0,
    "start_time": "2023-07-05T08:02:00.474Z"
   },
   {
    "duration": 0,
    "start_time": "2023-07-05T08:02:00.477Z"
   },
   {
    "duration": 0,
    "start_time": "2023-07-05T08:02:00.478Z"
   },
   {
    "duration": 0,
    "start_time": "2023-07-05T08:02:00.479Z"
   },
   {
    "duration": 0,
    "start_time": "2023-07-05T08:02:00.480Z"
   },
   {
    "duration": 0,
    "start_time": "2023-07-05T08:02:00.481Z"
   },
   {
    "duration": 0,
    "start_time": "2023-07-05T08:02:00.483Z"
   },
   {
    "duration": 0,
    "start_time": "2023-07-05T08:02:00.484Z"
   },
   {
    "duration": 0,
    "start_time": "2023-07-05T08:02:00.485Z"
   },
   {
    "duration": 0,
    "start_time": "2023-07-05T08:02:00.486Z"
   },
   {
    "duration": 0,
    "start_time": "2023-07-05T08:02:00.487Z"
   },
   {
    "duration": 0,
    "start_time": "2023-07-05T08:02:00.488Z"
   },
   {
    "duration": 0,
    "start_time": "2023-07-05T08:02:00.489Z"
   },
   {
    "duration": 0,
    "start_time": "2023-07-05T08:02:00.491Z"
   },
   {
    "duration": 0,
    "start_time": "2023-07-05T08:02:00.492Z"
   },
   {
    "duration": 0,
    "start_time": "2023-07-05T08:02:00.493Z"
   },
   {
    "duration": 0,
    "start_time": "2023-07-05T08:02:00.494Z"
   },
   {
    "duration": 0,
    "start_time": "2023-07-05T08:02:00.495Z"
   },
   {
    "duration": 1227,
    "start_time": "2023-07-05T08:02:22.637Z"
   },
   {
    "duration": 598,
    "start_time": "2023-07-05T08:03:35.414Z"
   },
   {
    "duration": 852,
    "start_time": "2023-07-05T08:08:14.933Z"
   },
   {
    "duration": 824,
    "start_time": "2023-07-05T08:12:49.476Z"
   },
   {
    "duration": 106,
    "start_time": "2023-07-05T08:18:16.111Z"
   },
   {
    "duration": 1515,
    "start_time": "2023-07-05T08:19:53.817Z"
   },
   {
    "duration": 72,
    "start_time": "2023-07-05T08:21:19.252Z"
   },
   {
    "duration": 92,
    "start_time": "2023-07-05T08:22:34.096Z"
   },
   {
    "duration": 566,
    "start_time": "2023-07-05T08:23:52.950Z"
   },
   {
    "duration": 2079,
    "start_time": "2023-07-05T08:24:23.618Z"
   },
   {
    "duration": 587,
    "start_time": "2023-07-05T08:26:22.663Z"
   },
   {
    "duration": 16,
    "start_time": "2023-07-05T08:26:23.252Z"
   },
   {
    "duration": 28,
    "start_time": "2023-07-05T08:26:23.274Z"
   },
   {
    "duration": 66,
    "start_time": "2023-07-05T08:26:23.305Z"
   },
   {
    "duration": 25,
    "start_time": "2023-07-05T08:26:23.374Z"
   },
   {
    "duration": 24,
    "start_time": "2023-07-05T08:26:23.401Z"
   },
   {
    "duration": 87,
    "start_time": "2023-07-05T08:26:23.427Z"
   },
   {
    "duration": 0,
    "start_time": "2023-07-05T08:26:23.516Z"
   },
   {
    "duration": 0,
    "start_time": "2023-07-05T08:26:23.519Z"
   },
   {
    "duration": 0,
    "start_time": "2023-07-05T08:26:23.520Z"
   },
   {
    "duration": 0,
    "start_time": "2023-07-05T08:26:23.522Z"
   },
   {
    "duration": 0,
    "start_time": "2023-07-05T08:26:23.524Z"
   },
   {
    "duration": 0,
    "start_time": "2023-07-05T08:26:23.525Z"
   },
   {
    "duration": 0,
    "start_time": "2023-07-05T08:26:23.526Z"
   },
   {
    "duration": 0,
    "start_time": "2023-07-05T08:26:23.528Z"
   },
   {
    "duration": 0,
    "start_time": "2023-07-05T08:26:23.529Z"
   },
   {
    "duration": 0,
    "start_time": "2023-07-05T08:26:23.531Z"
   },
   {
    "duration": 0,
    "start_time": "2023-07-05T08:26:23.532Z"
   },
   {
    "duration": 1,
    "start_time": "2023-07-05T08:26:23.554Z"
   },
   {
    "duration": 0,
    "start_time": "2023-07-05T08:26:23.555Z"
   },
   {
    "duration": 0,
    "start_time": "2023-07-05T08:26:23.556Z"
   },
   {
    "duration": 0,
    "start_time": "2023-07-05T08:26:23.557Z"
   },
   {
    "duration": 0,
    "start_time": "2023-07-05T08:26:23.557Z"
   },
   {
    "duration": 0,
    "start_time": "2023-07-05T08:26:23.558Z"
   },
   {
    "duration": 0,
    "start_time": "2023-07-05T08:26:23.564Z"
   },
   {
    "duration": 0,
    "start_time": "2023-07-05T08:26:23.565Z"
   },
   {
    "duration": 0,
    "start_time": "2023-07-05T08:26:23.565Z"
   },
   {
    "duration": 0,
    "start_time": "2023-07-05T08:26:23.566Z"
   },
   {
    "duration": 567,
    "start_time": "2023-07-05T08:28:09.076Z"
   },
   {
    "duration": 22,
    "start_time": "2023-07-05T08:28:09.645Z"
   },
   {
    "duration": 40,
    "start_time": "2023-07-05T08:28:09.669Z"
   },
   {
    "duration": 69,
    "start_time": "2023-07-05T08:28:09.711Z"
   },
   {
    "duration": 19,
    "start_time": "2023-07-05T08:28:09.782Z"
   },
   {
    "duration": 32,
    "start_time": "2023-07-05T08:28:09.803Z"
   },
   {
    "duration": 88,
    "start_time": "2023-07-05T08:28:09.837Z"
   },
   {
    "duration": 0,
    "start_time": "2023-07-05T08:28:09.927Z"
   },
   {
    "duration": 0,
    "start_time": "2023-07-05T08:28:09.929Z"
   },
   {
    "duration": 0,
    "start_time": "2023-07-05T08:28:09.930Z"
   },
   {
    "duration": 0,
    "start_time": "2023-07-05T08:28:09.932Z"
   },
   {
    "duration": 0,
    "start_time": "2023-07-05T08:28:09.933Z"
   },
   {
    "duration": 0,
    "start_time": "2023-07-05T08:28:09.934Z"
   },
   {
    "duration": 0,
    "start_time": "2023-07-05T08:28:09.935Z"
   },
   {
    "duration": 0,
    "start_time": "2023-07-05T08:28:09.962Z"
   },
   {
    "duration": 0,
    "start_time": "2023-07-05T08:28:09.963Z"
   },
   {
    "duration": 0,
    "start_time": "2023-07-05T08:28:09.964Z"
   },
   {
    "duration": 0,
    "start_time": "2023-07-05T08:28:09.965Z"
   },
   {
    "duration": 0,
    "start_time": "2023-07-05T08:28:09.965Z"
   },
   {
    "duration": 0,
    "start_time": "2023-07-05T08:28:09.966Z"
   },
   {
    "duration": 0,
    "start_time": "2023-07-05T08:28:09.967Z"
   },
   {
    "duration": 0,
    "start_time": "2023-07-05T08:28:09.967Z"
   },
   {
    "duration": 0,
    "start_time": "2023-07-05T08:28:09.968Z"
   },
   {
    "duration": 0,
    "start_time": "2023-07-05T08:28:09.969Z"
   },
   {
    "duration": 0,
    "start_time": "2023-07-05T08:28:09.969Z"
   },
   {
    "duration": 0,
    "start_time": "2023-07-05T08:28:09.971Z"
   },
   {
    "duration": 0,
    "start_time": "2023-07-05T08:28:09.972Z"
   },
   {
    "duration": 0,
    "start_time": "2023-07-05T08:28:09.974Z"
   },
   {
    "duration": 0,
    "start_time": "2023-07-05T08:28:09.975Z"
   },
   {
    "duration": 19,
    "start_time": "2023-07-05T08:29:39.697Z"
   },
   {
    "duration": 0,
    "start_time": "2023-07-05T08:31:35.549Z"
   },
   {
    "duration": 0,
    "start_time": "2023-07-05T08:31:35.551Z"
   },
   {
    "duration": 591,
    "start_time": "2023-07-05T08:34:42.703Z"
   },
   {
    "duration": 10,
    "start_time": "2023-07-05T08:34:43.296Z"
   },
   {
    "duration": 52,
    "start_time": "2023-07-05T08:34:43.309Z"
   },
   {
    "duration": 53,
    "start_time": "2023-07-05T08:34:43.371Z"
   },
   {
    "duration": 18,
    "start_time": "2023-07-05T08:34:43.426Z"
   },
   {
    "duration": 38,
    "start_time": "2023-07-05T08:34:43.446Z"
   },
   {
    "duration": 93,
    "start_time": "2023-07-05T08:34:43.486Z"
   },
   {
    "duration": 0,
    "start_time": "2023-07-05T08:34:43.581Z"
   },
   {
    "duration": 0,
    "start_time": "2023-07-05T08:34:43.583Z"
   },
   {
    "duration": 0,
    "start_time": "2023-07-05T08:34:43.584Z"
   },
   {
    "duration": 0,
    "start_time": "2023-07-05T08:34:43.585Z"
   },
   {
    "duration": 0,
    "start_time": "2023-07-05T08:34:43.586Z"
   },
   {
    "duration": 0,
    "start_time": "2023-07-05T08:34:43.587Z"
   },
   {
    "duration": 0,
    "start_time": "2023-07-05T08:34:43.588Z"
   },
   {
    "duration": 0,
    "start_time": "2023-07-05T08:34:43.590Z"
   },
   {
    "duration": 0,
    "start_time": "2023-07-05T08:34:43.591Z"
   },
   {
    "duration": 0,
    "start_time": "2023-07-05T08:34:43.592Z"
   },
   {
    "duration": 0,
    "start_time": "2023-07-05T08:34:43.593Z"
   },
   {
    "duration": 0,
    "start_time": "2023-07-05T08:34:43.594Z"
   },
   {
    "duration": 0,
    "start_time": "2023-07-05T08:34:43.596Z"
   },
   {
    "duration": 0,
    "start_time": "2023-07-05T08:34:43.597Z"
   },
   {
    "duration": 0,
    "start_time": "2023-07-05T08:34:43.598Z"
   },
   {
    "duration": 0,
    "start_time": "2023-07-05T08:34:43.599Z"
   },
   {
    "duration": 0,
    "start_time": "2023-07-05T08:34:43.600Z"
   },
   {
    "duration": 0,
    "start_time": "2023-07-05T08:34:43.602Z"
   },
   {
    "duration": 0,
    "start_time": "2023-07-05T08:34:43.603Z"
   },
   {
    "duration": 0,
    "start_time": "2023-07-05T08:34:43.604Z"
   },
   {
    "duration": 0,
    "start_time": "2023-07-05T08:34:43.605Z"
   },
   {
    "duration": 1051,
    "start_time": "2023-07-05T08:37:03.234Z"
   },
   {
    "duration": 13,
    "start_time": "2023-07-05T08:37:04.288Z"
   },
   {
    "duration": 37,
    "start_time": "2023-07-05T08:37:04.304Z"
   },
   {
    "duration": 55,
    "start_time": "2023-07-05T08:37:04.343Z"
   },
   {
    "duration": 20,
    "start_time": "2023-07-05T08:37:04.400Z"
   },
   {
    "duration": 75,
    "start_time": "2023-07-05T08:37:04.422Z"
   },
   {
    "duration": 80,
    "start_time": "2023-07-05T08:37:04.499Z"
   },
   {
    "duration": 0,
    "start_time": "2023-07-05T08:37:04.581Z"
   },
   {
    "duration": 0,
    "start_time": "2023-07-05T08:37:04.583Z"
   },
   {
    "duration": 0,
    "start_time": "2023-07-05T08:37:04.585Z"
   },
   {
    "duration": 0,
    "start_time": "2023-07-05T08:37:04.587Z"
   },
   {
    "duration": 0,
    "start_time": "2023-07-05T08:37:04.588Z"
   },
   {
    "duration": 0,
    "start_time": "2023-07-05T08:37:04.589Z"
   },
   {
    "duration": 0,
    "start_time": "2023-07-05T08:37:04.591Z"
   },
   {
    "duration": 0,
    "start_time": "2023-07-05T08:37:04.593Z"
   },
   {
    "duration": 0,
    "start_time": "2023-07-05T08:37:04.594Z"
   },
   {
    "duration": 0,
    "start_time": "2023-07-05T08:37:04.596Z"
   },
   {
    "duration": 0,
    "start_time": "2023-07-05T08:37:04.597Z"
   },
   {
    "duration": 0,
    "start_time": "2023-07-05T08:37:04.598Z"
   },
   {
    "duration": 0,
    "start_time": "2023-07-05T08:37:04.600Z"
   },
   {
    "duration": 0,
    "start_time": "2023-07-05T08:37:04.602Z"
   },
   {
    "duration": 0,
    "start_time": "2023-07-05T08:37:04.604Z"
   },
   {
    "duration": 0,
    "start_time": "2023-07-05T08:37:04.605Z"
   },
   {
    "duration": 0,
    "start_time": "2023-07-05T08:37:04.606Z"
   },
   {
    "duration": 0,
    "start_time": "2023-07-05T08:37:04.608Z"
   },
   {
    "duration": 0,
    "start_time": "2023-07-05T08:37:04.609Z"
   },
   {
    "duration": 0,
    "start_time": "2023-07-05T08:37:04.610Z"
   },
   {
    "duration": 0,
    "start_time": "2023-07-05T08:37:04.654Z"
   },
   {
    "duration": 579,
    "start_time": "2023-07-05T08:38:48.867Z"
   },
   {
    "duration": 22,
    "start_time": "2023-07-05T08:38:49.448Z"
   },
   {
    "duration": 43,
    "start_time": "2023-07-05T08:38:49.474Z"
   },
   {
    "duration": 52,
    "start_time": "2023-07-05T08:38:49.519Z"
   },
   {
    "duration": 19,
    "start_time": "2023-07-05T08:38:49.575Z"
   },
   {
    "duration": 42,
    "start_time": "2023-07-05T08:38:49.596Z"
   },
   {
    "duration": 24,
    "start_time": "2023-07-05T08:38:49.640Z"
   },
   {
    "duration": 19,
    "start_time": "2023-07-05T08:38:49.667Z"
   },
   {
    "duration": 23,
    "start_time": "2023-07-05T08:38:49.687Z"
   },
   {
    "duration": 7,
    "start_time": "2023-07-05T08:38:49.712Z"
   },
   {
    "duration": 14,
    "start_time": "2023-07-05T08:38:49.721Z"
   },
   {
    "duration": 27,
    "start_time": "2023-07-05T08:38:49.737Z"
   },
   {
    "duration": 21,
    "start_time": "2023-07-05T08:38:49.766Z"
   },
   {
    "duration": 12,
    "start_time": "2023-07-05T08:38:49.790Z"
   },
   {
    "duration": 30,
    "start_time": "2023-07-05T08:38:49.803Z"
   },
   {
    "duration": 35,
    "start_time": "2023-07-05T08:38:49.835Z"
   },
   {
    "duration": 15,
    "start_time": "2023-07-05T08:38:49.872Z"
   },
   {
    "duration": 16,
    "start_time": "2023-07-05T08:38:49.889Z"
   },
   {
    "duration": 38,
    "start_time": "2023-07-05T08:38:49.907Z"
   },
   {
    "duration": 17,
    "start_time": "2023-07-05T08:38:49.948Z"
   },
   {
    "duration": 30,
    "start_time": "2023-07-05T08:38:49.968Z"
   },
   {
    "duration": 676,
    "start_time": "2023-07-05T08:38:50.000Z"
   },
   {
    "duration": 9,
    "start_time": "2023-07-05T08:38:50.678Z"
   },
   {
    "duration": 176,
    "start_time": "2023-07-05T08:38:50.688Z"
   },
   {
    "duration": 11,
    "start_time": "2023-07-05T08:38:50.870Z"
   },
   {
    "duration": 167,
    "start_time": "2023-07-05T08:38:50.883Z"
   },
   {
    "duration": 21,
    "start_time": "2023-07-05T08:38:51.055Z"
   },
   {
    "duration": 1388,
    "start_time": "2023-07-05T08:41:07.568Z"
   },
   {
    "duration": 11,
    "start_time": "2023-07-05T08:41:08.958Z"
   },
   {
    "duration": 45,
    "start_time": "2023-07-05T08:41:08.971Z"
   },
   {
    "duration": 42,
    "start_time": "2023-07-05T08:41:09.018Z"
   },
   {
    "duration": 19,
    "start_time": "2023-07-05T08:41:09.063Z"
   },
   {
    "duration": 26,
    "start_time": "2023-07-05T08:41:09.084Z"
   },
   {
    "duration": 18,
    "start_time": "2023-07-05T08:41:09.112Z"
   },
   {
    "duration": 11,
    "start_time": "2023-07-05T08:41:09.155Z"
   },
   {
    "duration": 19,
    "start_time": "2023-07-05T08:41:09.168Z"
   },
   {
    "duration": 6,
    "start_time": "2023-07-05T08:41:09.189Z"
   },
   {
    "duration": 14,
    "start_time": "2023-07-05T08:41:09.196Z"
   },
   {
    "duration": 13,
    "start_time": "2023-07-05T08:41:09.212Z"
   },
   {
    "duration": 36,
    "start_time": "2023-07-05T08:41:09.227Z"
   },
   {
    "duration": 7,
    "start_time": "2023-07-05T08:41:09.267Z"
   },
   {
    "duration": 17,
    "start_time": "2023-07-05T08:41:09.276Z"
   },
   {
    "duration": 27,
    "start_time": "2023-07-05T08:41:09.295Z"
   },
   {
    "duration": 17,
    "start_time": "2023-07-05T08:41:09.324Z"
   },
   {
    "duration": 34,
    "start_time": "2023-07-05T08:41:09.343Z"
   },
   {
    "duration": 31,
    "start_time": "2023-07-05T08:41:09.379Z"
   },
   {
    "duration": 26,
    "start_time": "2023-07-05T08:41:09.412Z"
   },
   {
    "duration": 17,
    "start_time": "2023-07-05T08:41:09.440Z"
   },
   {
    "duration": 1160,
    "start_time": "2023-07-05T08:41:09.459Z"
   },
   {
    "duration": 10,
    "start_time": "2023-07-05T08:41:10.620Z"
   },
   {
    "duration": 183,
    "start_time": "2023-07-05T08:41:10.632Z"
   },
   {
    "duration": 10,
    "start_time": "2023-07-05T08:41:10.816Z"
   },
   {
    "duration": 210,
    "start_time": "2023-07-05T08:41:10.827Z"
   },
   {
    "duration": 3,
    "start_time": "2023-07-05T08:41:11.039Z"
   },
   {
    "duration": 61,
    "start_time": "2023-07-05T08:42:50.423Z"
   },
   {
    "duration": 1131,
    "start_time": "2023-07-05T08:43:12.763Z"
   },
   {
    "duration": 12,
    "start_time": "2023-07-05T08:43:13.897Z"
   },
   {
    "duration": 37,
    "start_time": "2023-07-05T08:43:13.911Z"
   },
   {
    "duration": 53,
    "start_time": "2023-07-05T08:43:13.951Z"
   },
   {
    "duration": 17,
    "start_time": "2023-07-05T08:43:14.006Z"
   },
   {
    "duration": 35,
    "start_time": "2023-07-05T08:43:14.025Z"
   },
   {
    "duration": 19,
    "start_time": "2023-07-05T08:43:14.062Z"
   },
   {
    "duration": 22,
    "start_time": "2023-07-05T08:43:14.083Z"
   },
   {
    "duration": 17,
    "start_time": "2023-07-05T08:43:14.107Z"
   },
   {
    "duration": 6,
    "start_time": "2023-07-05T08:43:14.127Z"
   },
   {
    "duration": 30,
    "start_time": "2023-07-05T08:43:14.134Z"
   },
   {
    "duration": 21,
    "start_time": "2023-07-05T08:43:14.167Z"
   },
   {
    "duration": 20,
    "start_time": "2023-07-05T08:43:14.190Z"
   },
   {
    "duration": 7,
    "start_time": "2023-07-05T08:43:14.212Z"
   },
   {
    "duration": 15,
    "start_time": "2023-07-05T08:43:14.221Z"
   },
   {
    "duration": 21,
    "start_time": "2023-07-05T08:43:14.238Z"
   },
   {
    "duration": 13,
    "start_time": "2023-07-05T08:43:14.261Z"
   },
   {
    "duration": 38,
    "start_time": "2023-07-05T08:43:14.276Z"
   },
   {
    "duration": 16,
    "start_time": "2023-07-05T08:43:14.316Z"
   },
   {
    "duration": 7,
    "start_time": "2023-07-05T08:43:14.333Z"
   },
   {
    "duration": 11,
    "start_time": "2023-07-05T08:43:14.341Z"
   },
   {
    "duration": 922,
    "start_time": "2023-07-05T08:43:14.354Z"
   },
   {
    "duration": 9,
    "start_time": "2023-07-05T08:43:15.278Z"
   },
   {
    "duration": 154,
    "start_time": "2023-07-05T08:43:15.289Z"
   },
   {
    "duration": 11,
    "start_time": "2023-07-05T08:43:15.444Z"
   },
   {
    "duration": 151,
    "start_time": "2023-07-05T08:43:15.456Z"
   },
   {
    "duration": 2,
    "start_time": "2023-07-05T08:43:15.609Z"
   },
   {
    "duration": 0,
    "start_time": "2023-07-05T08:44:44.012Z"
   },
   {
    "duration": 0,
    "start_time": "2023-07-05T08:44:44.014Z"
   },
   {
    "duration": 59,
    "start_time": "2023-07-05T08:51:00.944Z"
   },
   {
    "duration": 709,
    "start_time": "2023-07-05T08:51:13.704Z"
   },
   {
    "duration": 11,
    "start_time": "2023-07-05T08:51:14.415Z"
   },
   {
    "duration": 49,
    "start_time": "2023-07-05T08:51:14.428Z"
   },
   {
    "duration": 36,
    "start_time": "2023-07-05T08:51:14.479Z"
   },
   {
    "duration": 18,
    "start_time": "2023-07-05T08:51:14.517Z"
   },
   {
    "duration": 47,
    "start_time": "2023-07-05T08:51:14.537Z"
   },
   {
    "duration": 24,
    "start_time": "2023-07-05T08:51:14.586Z"
   },
   {
    "duration": 18,
    "start_time": "2023-07-05T08:51:14.612Z"
   },
   {
    "duration": 13,
    "start_time": "2023-07-05T08:51:14.653Z"
   },
   {
    "duration": 7,
    "start_time": "2023-07-05T08:51:14.670Z"
   },
   {
    "duration": 13,
    "start_time": "2023-07-05T08:51:14.679Z"
   },
   {
    "duration": 20,
    "start_time": "2023-07-05T08:51:14.694Z"
   },
   {
    "duration": 44,
    "start_time": "2023-07-05T08:51:14.716Z"
   },
   {
    "duration": 23,
    "start_time": "2023-07-05T08:51:14.762Z"
   },
   {
    "duration": 17,
    "start_time": "2023-07-05T08:51:14.788Z"
   },
   {
    "duration": 21,
    "start_time": "2023-07-05T08:51:14.806Z"
   },
   {
    "duration": 10,
    "start_time": "2023-07-05T08:51:14.829Z"
   },
   {
    "duration": 17,
    "start_time": "2023-07-05T08:51:14.841Z"
   },
   {
    "duration": 15,
    "start_time": "2023-07-05T08:51:14.860Z"
   },
   {
    "duration": 11,
    "start_time": "2023-07-05T08:51:14.877Z"
   },
   {
    "duration": 33,
    "start_time": "2023-07-05T08:51:14.890Z"
   },
   {
    "duration": 442,
    "start_time": "2023-07-05T08:51:14.925Z"
   },
   {
    "duration": 9,
    "start_time": "2023-07-05T08:51:15.369Z"
   },
   {
    "duration": 169,
    "start_time": "2023-07-05T08:51:15.380Z"
   },
   {
    "duration": 10,
    "start_time": "2023-07-05T08:51:15.553Z"
   },
   {
    "duration": 148,
    "start_time": "2023-07-05T08:51:15.566Z"
   },
   {
    "duration": 3,
    "start_time": "2023-07-05T08:51:15.716Z"
   },
   {
    "duration": 1103,
    "start_time": "2023-07-05T08:51:15.723Z"
   },
   {
    "duration": 0,
    "start_time": "2023-07-05T08:51:16.827Z"
   },
   {
    "duration": 501,
    "start_time": "2023-07-05T08:53:01.133Z"
   },
   {
    "duration": 0,
    "start_time": "2023-07-05T08:53:01.635Z"
   },
   {
    "duration": 517,
    "start_time": "2023-07-05T08:53:55.198Z"
   },
   {
    "duration": 11,
    "start_time": "2023-07-05T08:53:55.718Z"
   },
   {
    "duration": 34,
    "start_time": "2023-07-05T08:53:55.731Z"
   },
   {
    "duration": 45,
    "start_time": "2023-07-05T08:53:55.768Z"
   },
   {
    "duration": 19,
    "start_time": "2023-07-05T08:53:55.815Z"
   },
   {
    "duration": 37,
    "start_time": "2023-07-05T08:53:55.837Z"
   },
   {
    "duration": 20,
    "start_time": "2023-07-05T08:53:55.875Z"
   },
   {
    "duration": 18,
    "start_time": "2023-07-05T08:53:55.897Z"
   },
   {
    "duration": 30,
    "start_time": "2023-07-05T08:53:55.916Z"
   },
   {
    "duration": 12,
    "start_time": "2023-07-05T08:53:55.949Z"
   },
   {
    "duration": 36,
    "start_time": "2023-07-05T08:53:55.962Z"
   },
   {
    "duration": 35,
    "start_time": "2023-07-05T08:53:56.000Z"
   },
   {
    "duration": 27,
    "start_time": "2023-07-05T08:53:56.037Z"
   },
   {
    "duration": 23,
    "start_time": "2023-07-05T08:53:56.066Z"
   },
   {
    "duration": 23,
    "start_time": "2023-07-05T08:53:56.091Z"
   },
   {
    "duration": 32,
    "start_time": "2023-07-05T08:53:56.116Z"
   },
   {
    "duration": 13,
    "start_time": "2023-07-05T08:53:56.150Z"
   },
   {
    "duration": 30,
    "start_time": "2023-07-05T08:53:56.165Z"
   },
   {
    "duration": 35,
    "start_time": "2023-07-05T08:53:56.197Z"
   },
   {
    "duration": 15,
    "start_time": "2023-07-05T08:53:56.234Z"
   },
   {
    "duration": 17,
    "start_time": "2023-07-05T08:53:56.251Z"
   },
   {
    "duration": 453,
    "start_time": "2023-07-05T08:53:56.270Z"
   },
   {
    "duration": 11,
    "start_time": "2023-07-05T08:53:56.725Z"
   },
   {
    "duration": 183,
    "start_time": "2023-07-05T08:53:56.737Z"
   },
   {
    "duration": 10,
    "start_time": "2023-07-05T08:53:56.923Z"
   },
   {
    "duration": 175,
    "start_time": "2023-07-05T08:53:56.936Z"
   },
   {
    "duration": 3,
    "start_time": "2023-07-05T08:53:57.113Z"
   },
   {
    "duration": 43246,
    "start_time": "2023-07-05T08:54:39.261Z"
   },
   {
    "duration": 19,
    "start_time": "2023-07-05T08:55:22.509Z"
   },
   {
    "duration": 43018,
    "start_time": "2023-07-05T08:57:32.015Z"
   },
   {
    "duration": 43262,
    "start_time": "2023-07-05T08:58:53.024Z"
   },
   {
    "duration": 707,
    "start_time": "2023-07-05T09:00:53.064Z"
   },
   {
    "duration": 10,
    "start_time": "2023-07-05T09:00:53.774Z"
   },
   {
    "duration": 40,
    "start_time": "2023-07-05T09:00:53.786Z"
   },
   {
    "duration": 38,
    "start_time": "2023-07-05T09:00:53.828Z"
   },
   {
    "duration": 18,
    "start_time": "2023-07-05T09:00:53.868Z"
   },
   {
    "duration": 22,
    "start_time": "2023-07-05T09:00:53.888Z"
   },
   {
    "duration": 42,
    "start_time": "2023-07-05T09:00:53.912Z"
   },
   {
    "duration": 19,
    "start_time": "2023-07-05T09:00:53.957Z"
   },
   {
    "duration": 22,
    "start_time": "2023-07-05T09:00:53.978Z"
   },
   {
    "duration": 18,
    "start_time": "2023-07-05T09:00:54.003Z"
   },
   {
    "duration": 21,
    "start_time": "2023-07-05T09:00:54.023Z"
   },
   {
    "duration": 15,
    "start_time": "2023-07-05T09:00:54.046Z"
   },
   {
    "duration": 41,
    "start_time": "2023-07-05T09:00:54.063Z"
   },
   {
    "duration": 21,
    "start_time": "2023-07-05T09:00:54.106Z"
   },
   {
    "duration": 16,
    "start_time": "2023-07-05T09:00:54.129Z"
   },
   {
    "duration": 22,
    "start_time": "2023-07-05T09:00:54.146Z"
   },
   {
    "duration": 27,
    "start_time": "2023-07-05T09:00:54.169Z"
   },
   {
    "duration": 25,
    "start_time": "2023-07-05T09:00:54.198Z"
   },
   {
    "duration": 18,
    "start_time": "2023-07-05T09:00:54.226Z"
   },
   {
    "duration": 14,
    "start_time": "2023-07-05T09:00:54.246Z"
   },
   {
    "duration": 46,
    "start_time": "2023-07-05T09:00:54.262Z"
   },
   {
    "duration": 387,
    "start_time": "2023-07-05T09:00:54.310Z"
   },
   {
    "duration": 9,
    "start_time": "2023-07-05T09:00:54.699Z"
   },
   {
    "duration": 170,
    "start_time": "2023-07-05T09:00:54.710Z"
   },
   {
    "duration": 9,
    "start_time": "2023-07-05T09:00:54.882Z"
   },
   {
    "duration": 183,
    "start_time": "2023-07-05T09:00:54.893Z"
   },
   {
    "duration": 3,
    "start_time": "2023-07-05T09:00:55.078Z"
   },
   {
    "duration": 51,
    "start_time": "2023-07-05T09:01:20.022Z"
   },
   {
    "duration": 741,
    "start_time": "2023-07-05T09:01:34.551Z"
   },
   {
    "duration": 11,
    "start_time": "2023-07-05T09:01:35.294Z"
   },
   {
    "duration": 40,
    "start_time": "2023-07-05T09:01:35.306Z"
   },
   {
    "duration": 33,
    "start_time": "2023-07-05T09:01:35.349Z"
   },
   {
    "duration": 17,
    "start_time": "2023-07-05T09:01:35.384Z"
   },
   {
    "duration": 23,
    "start_time": "2023-07-05T09:01:35.403Z"
   },
   {
    "duration": 46,
    "start_time": "2023-07-05T09:01:35.427Z"
   },
   {
    "duration": 11,
    "start_time": "2023-07-05T09:01:35.475Z"
   },
   {
    "duration": 37,
    "start_time": "2023-07-05T09:01:35.487Z"
   },
   {
    "duration": 15,
    "start_time": "2023-07-05T09:01:35.527Z"
   },
   {
    "duration": 26,
    "start_time": "2023-07-05T09:01:35.543Z"
   },
   {
    "duration": 18,
    "start_time": "2023-07-05T09:01:35.570Z"
   },
   {
    "duration": 22,
    "start_time": "2023-07-05T09:01:35.590Z"
   },
   {
    "duration": 25,
    "start_time": "2023-07-05T09:01:35.613Z"
   },
   {
    "duration": 14,
    "start_time": "2023-07-05T09:01:35.640Z"
   },
   {
    "duration": 12,
    "start_time": "2023-07-05T09:01:35.657Z"
   },
   {
    "duration": 11,
    "start_time": "2023-07-05T09:01:35.672Z"
   },
   {
    "duration": 24,
    "start_time": "2023-07-05T09:01:35.685Z"
   },
   {
    "duration": 23,
    "start_time": "2023-07-05T09:01:35.710Z"
   },
   {
    "duration": 6,
    "start_time": "2023-07-05T09:01:35.735Z"
   },
   {
    "duration": 13,
    "start_time": "2023-07-05T09:01:35.742Z"
   },
   {
    "duration": 422,
    "start_time": "2023-07-05T09:01:35.758Z"
   },
   {
    "duration": 9,
    "start_time": "2023-07-05T09:01:36.182Z"
   },
   {
    "duration": 185,
    "start_time": "2023-07-05T09:01:36.193Z"
   },
   {
    "duration": 11,
    "start_time": "2023-07-05T09:01:36.380Z"
   },
   {
    "duration": 201,
    "start_time": "2023-07-05T09:01:36.393Z"
   },
   {
    "duration": 2,
    "start_time": "2023-07-05T09:01:36.596Z"
   },
   {
    "duration": 53,
    "start_time": "2023-07-05T09:06:11.149Z"
   },
   {
    "duration": 740,
    "start_time": "2023-07-05T09:10:55.851Z"
   },
   {
    "duration": 11,
    "start_time": "2023-07-05T09:10:56.594Z"
   },
   {
    "duration": 36,
    "start_time": "2023-07-05T09:10:56.606Z"
   },
   {
    "duration": 41,
    "start_time": "2023-07-05T09:10:56.644Z"
   },
   {
    "duration": 27,
    "start_time": "2023-07-05T09:10:56.687Z"
   },
   {
    "duration": 33,
    "start_time": "2023-07-05T09:10:56.715Z"
   },
   {
    "duration": 23,
    "start_time": "2023-07-05T09:10:56.750Z"
   },
   {
    "duration": 16,
    "start_time": "2023-07-05T09:10:56.775Z"
   },
   {
    "duration": 15,
    "start_time": "2023-07-05T09:10:56.793Z"
   },
   {
    "duration": 23,
    "start_time": "2023-07-05T09:10:56.810Z"
   },
   {
    "duration": 18,
    "start_time": "2023-07-05T09:10:56.835Z"
   },
   {
    "duration": 22,
    "start_time": "2023-07-05T09:10:56.856Z"
   },
   {
    "duration": 18,
    "start_time": "2023-07-05T09:10:56.880Z"
   },
   {
    "duration": 7,
    "start_time": "2023-07-05T09:10:56.900Z"
   },
   {
    "duration": 12,
    "start_time": "2023-07-05T09:10:56.908Z"
   },
   {
    "duration": 8,
    "start_time": "2023-07-05T09:10:56.922Z"
   },
   {
    "duration": 23,
    "start_time": "2023-07-05T09:10:56.931Z"
   },
   {
    "duration": 31,
    "start_time": "2023-07-05T09:10:56.956Z"
   },
   {
    "duration": 18,
    "start_time": "2023-07-05T09:10:56.989Z"
   },
   {
    "duration": 9,
    "start_time": "2023-07-05T09:10:57.009Z"
   },
   {
    "duration": 13,
    "start_time": "2023-07-05T09:10:57.019Z"
   },
   {
    "duration": 578,
    "start_time": "2023-07-05T09:10:57.034Z"
   },
   {
    "duration": 9,
    "start_time": "2023-07-05T09:10:57.614Z"
   },
   {
    "duration": 187,
    "start_time": "2023-07-05T09:10:57.624Z"
   },
   {
    "duration": 9,
    "start_time": "2023-07-05T09:10:57.813Z"
   },
   {
    "duration": 183,
    "start_time": "2023-07-05T09:10:57.823Z"
   },
   {
    "duration": 2,
    "start_time": "2023-07-05T09:10:58.008Z"
   },
   {
    "duration": 51,
    "start_time": "2023-07-05T09:12:09.069Z"
   },
   {
    "duration": 712,
    "start_time": "2023-07-05T09:12:19.508Z"
   },
   {
    "duration": 11,
    "start_time": "2023-07-05T09:12:20.222Z"
   },
   {
    "duration": 39,
    "start_time": "2023-07-05T09:12:20.235Z"
   },
   {
    "duration": 43,
    "start_time": "2023-07-05T09:12:20.275Z"
   },
   {
    "duration": 29,
    "start_time": "2023-07-05T09:12:20.320Z"
   },
   {
    "duration": 41,
    "start_time": "2023-07-05T09:12:20.351Z"
   },
   {
    "duration": 39,
    "start_time": "2023-07-05T09:12:20.393Z"
   },
   {
    "duration": 57,
    "start_time": "2023-07-05T09:12:20.434Z"
   },
   {
    "duration": 47,
    "start_time": "2023-07-05T09:12:20.493Z"
   },
   {
    "duration": 37,
    "start_time": "2023-07-05T09:12:20.542Z"
   },
   {
    "duration": 34,
    "start_time": "2023-07-05T09:12:20.580Z"
   },
   {
    "duration": 27,
    "start_time": "2023-07-05T09:12:20.616Z"
   },
   {
    "duration": 35,
    "start_time": "2023-07-05T09:12:20.646Z"
   },
   {
    "duration": 26,
    "start_time": "2023-07-05T09:12:20.684Z"
   },
   {
    "duration": 20,
    "start_time": "2023-07-05T09:12:20.712Z"
   },
   {
    "duration": 32,
    "start_time": "2023-07-05T09:12:20.734Z"
   },
   {
    "duration": 39,
    "start_time": "2023-07-05T09:12:20.768Z"
   },
   {
    "duration": 33,
    "start_time": "2023-07-05T09:12:20.808Z"
   },
   {
    "duration": 46,
    "start_time": "2023-07-05T09:12:20.843Z"
   },
   {
    "duration": 36,
    "start_time": "2023-07-05T09:12:20.891Z"
   },
   {
    "duration": 27,
    "start_time": "2023-07-05T09:12:20.928Z"
   },
   {
    "duration": 508,
    "start_time": "2023-07-05T09:12:20.957Z"
   },
   {
    "duration": 9,
    "start_time": "2023-07-05T09:12:21.468Z"
   },
   {
    "duration": 174,
    "start_time": "2023-07-05T09:12:21.479Z"
   },
   {
    "duration": 8,
    "start_time": "2023-07-05T09:12:21.655Z"
   },
   {
    "duration": 155,
    "start_time": "2023-07-05T09:12:21.665Z"
   },
   {
    "duration": 2,
    "start_time": "2023-07-05T09:12:21.822Z"
   },
   {
    "duration": 51,
    "start_time": "2023-07-05T09:12:51.156Z"
   },
   {
    "duration": 8,
    "start_time": "2023-07-05T09:14:17.264Z"
   },
   {
    "duration": 8,
    "start_time": "2023-07-05T09:14:45.681Z"
   },
   {
    "duration": 8,
    "start_time": "2023-07-05T09:15:56.753Z"
   },
   {
    "duration": 715,
    "start_time": "2023-07-05T09:16:06.913Z"
   },
   {
    "duration": 15,
    "start_time": "2023-07-05T09:16:07.631Z"
   },
   {
    "duration": 26,
    "start_time": "2023-07-05T09:16:07.648Z"
   },
   {
    "duration": 39,
    "start_time": "2023-07-05T09:16:07.677Z"
   },
   {
    "duration": 18,
    "start_time": "2023-07-05T09:16:07.718Z"
   },
   {
    "duration": 39,
    "start_time": "2023-07-05T09:16:07.737Z"
   },
   {
    "duration": 19,
    "start_time": "2023-07-05T09:16:07.778Z"
   },
   {
    "duration": 20,
    "start_time": "2023-07-05T09:16:07.799Z"
   },
   {
    "duration": 12,
    "start_time": "2023-07-05T09:16:07.821Z"
   },
   {
    "duration": 6,
    "start_time": "2023-07-05T09:16:07.853Z"
   },
   {
    "duration": 11,
    "start_time": "2023-07-05T09:16:07.861Z"
   },
   {
    "duration": 18,
    "start_time": "2023-07-05T09:16:07.874Z"
   },
   {
    "duration": 19,
    "start_time": "2023-07-05T09:16:07.894Z"
   },
   {
    "duration": 8,
    "start_time": "2023-07-05T09:16:07.916Z"
   },
   {
    "duration": 34,
    "start_time": "2023-07-05T09:16:07.926Z"
   },
   {
    "duration": 17,
    "start_time": "2023-07-05T09:16:07.962Z"
   },
   {
    "duration": 20,
    "start_time": "2023-07-05T09:16:07.981Z"
   },
   {
    "duration": 12,
    "start_time": "2023-07-05T09:16:08.004Z"
   },
   {
    "duration": 18,
    "start_time": "2023-07-05T09:16:08.018Z"
   },
   {
    "duration": 8,
    "start_time": "2023-07-05T09:16:08.037Z"
   },
   {
    "duration": 18,
    "start_time": "2023-07-05T09:16:08.046Z"
   },
   {
    "duration": 392,
    "start_time": "2023-07-05T09:16:08.066Z"
   },
   {
    "duration": 10,
    "start_time": "2023-07-05T09:16:08.459Z"
   },
   {
    "duration": 171,
    "start_time": "2023-07-05T09:16:08.470Z"
   },
   {
    "duration": 16,
    "start_time": "2023-07-05T09:16:08.643Z"
   },
   {
    "duration": 148,
    "start_time": "2023-07-05T09:16:08.660Z"
   },
   {
    "duration": 2,
    "start_time": "2023-07-05T09:16:08.810Z"
   },
   {
    "duration": 426,
    "start_time": "2023-07-05T09:16:08.815Z"
   },
   {
    "duration": 386,
    "start_time": "2023-07-05T09:16:32.282Z"
   },
   {
    "duration": 552,
    "start_time": "2023-07-05T09:16:50.132Z"
   },
   {
    "duration": 54,
    "start_time": "2023-07-05T09:17:55.920Z"
   },
   {
    "duration": 8,
    "start_time": "2023-07-05T09:18:05.339Z"
   },
   {
    "duration": 685,
    "start_time": "2023-07-05T09:18:20.184Z"
   },
   {
    "duration": 11,
    "start_time": "2023-07-05T09:18:20.871Z"
   },
   {
    "duration": 34,
    "start_time": "2023-07-05T09:18:20.883Z"
   },
   {
    "duration": 34,
    "start_time": "2023-07-05T09:18:20.920Z"
   },
   {
    "duration": 16,
    "start_time": "2023-07-05T09:18:20.956Z"
   },
   {
    "duration": 21,
    "start_time": "2023-07-05T09:18:20.974Z"
   },
   {
    "duration": 17,
    "start_time": "2023-07-05T09:18:20.997Z"
   },
   {
    "duration": 39,
    "start_time": "2023-07-05T09:18:21.016Z"
   },
   {
    "duration": 10,
    "start_time": "2023-07-05T09:18:21.056Z"
   },
   {
    "duration": 11,
    "start_time": "2023-07-05T09:18:21.069Z"
   },
   {
    "duration": 26,
    "start_time": "2023-07-05T09:18:21.081Z"
   },
   {
    "duration": 14,
    "start_time": "2023-07-05T09:18:21.109Z"
   },
   {
    "duration": 21,
    "start_time": "2023-07-05T09:18:21.125Z"
   },
   {
    "duration": 12,
    "start_time": "2023-07-05T09:18:21.148Z"
   },
   {
    "duration": 14,
    "start_time": "2023-07-05T09:18:21.162Z"
   },
   {
    "duration": 20,
    "start_time": "2023-07-05T09:18:21.178Z"
   },
   {
    "duration": 6,
    "start_time": "2023-07-05T09:18:21.200Z"
   },
   {
    "duration": 9,
    "start_time": "2023-07-05T09:18:21.207Z"
   },
   {
    "duration": 29,
    "start_time": "2023-07-05T09:18:21.218Z"
   },
   {
    "duration": 14,
    "start_time": "2023-07-05T09:18:21.249Z"
   },
   {
    "duration": 15,
    "start_time": "2023-07-05T09:18:21.265Z"
   },
   {
    "duration": 393,
    "start_time": "2023-07-05T09:18:21.282Z"
   },
   {
    "duration": 8,
    "start_time": "2023-07-05T09:18:21.676Z"
   },
   {
    "duration": 157,
    "start_time": "2023-07-05T09:18:21.686Z"
   },
   {
    "duration": 17,
    "start_time": "2023-07-05T09:18:21.845Z"
   },
   {
    "duration": 153,
    "start_time": "2023-07-05T09:18:21.864Z"
   },
   {
    "duration": 3,
    "start_time": "2023-07-05T09:18:22.019Z"
   },
   {
    "duration": 415,
    "start_time": "2023-07-05T09:18:22.025Z"
   },
   {
    "duration": 334,
    "start_time": "2023-07-05T09:19:29.696Z"
   },
   {
    "duration": 635,
    "start_time": "2023-07-05T09:19:44.468Z"
   },
   {
    "duration": 563,
    "start_time": "2023-07-05T09:20:04.241Z"
   },
   {
    "duration": 10,
    "start_time": "2023-07-05T09:20:04.806Z"
   },
   {
    "duration": 25,
    "start_time": "2023-07-05T09:20:04.818Z"
   },
   {
    "duration": 49,
    "start_time": "2023-07-05T09:20:04.845Z"
   },
   {
    "duration": 15,
    "start_time": "2023-07-05T09:20:04.896Z"
   },
   {
    "duration": 41,
    "start_time": "2023-07-05T09:20:04.913Z"
   },
   {
    "duration": 19,
    "start_time": "2023-07-05T09:20:04.956Z"
   },
   {
    "duration": 19,
    "start_time": "2023-07-05T09:20:04.977Z"
   },
   {
    "duration": 10,
    "start_time": "2023-07-05T09:20:04.998Z"
   },
   {
    "duration": 9,
    "start_time": "2023-07-05T09:20:05.010Z"
   },
   {
    "duration": 34,
    "start_time": "2023-07-05T09:20:05.020Z"
   },
   {
    "duration": 34,
    "start_time": "2023-07-05T09:20:05.056Z"
   },
   {
    "duration": 42,
    "start_time": "2023-07-05T09:20:05.092Z"
   },
   {
    "duration": 26,
    "start_time": "2023-07-05T09:20:05.136Z"
   },
   {
    "duration": 9,
    "start_time": "2023-07-05T09:20:05.164Z"
   },
   {
    "duration": 17,
    "start_time": "2023-07-05T09:20:05.175Z"
   },
   {
    "duration": 8,
    "start_time": "2023-07-05T09:20:05.194Z"
   },
   {
    "duration": 18,
    "start_time": "2023-07-05T09:20:05.203Z"
   },
   {
    "duration": 14,
    "start_time": "2023-07-05T09:20:05.223Z"
   },
   {
    "duration": 5,
    "start_time": "2023-07-05T09:20:05.240Z"
   },
   {
    "duration": 8,
    "start_time": "2023-07-05T09:20:05.253Z"
   },
   {
    "duration": 500,
    "start_time": "2023-07-05T09:20:05.263Z"
   },
   {
    "duration": 10,
    "start_time": "2023-07-05T09:20:05.765Z"
   },
   {
    "duration": 227,
    "start_time": "2023-07-05T09:20:05.777Z"
   },
   {
    "duration": 8,
    "start_time": "2023-07-05T09:20:06.006Z"
   },
   {
    "duration": 172,
    "start_time": "2023-07-05T09:20:06.016Z"
   },
   {
    "duration": 2,
    "start_time": "2023-07-05T09:20:06.190Z"
   },
   {
    "duration": 712,
    "start_time": "2023-07-05T09:20:06.195Z"
   },
   {
    "duration": 358,
    "start_time": "2023-07-05T09:20:54.112Z"
   },
   {
    "duration": 697,
    "start_time": "2023-07-05T09:32:30.916Z"
   },
   {
    "duration": 46,
    "start_time": "2023-07-05T14:49:32.538Z"
   },
   {
    "duration": 7,
    "start_time": "2023-07-05T14:49:47.334Z"
   },
   {
    "duration": 6,
    "start_time": "2023-07-05T14:50:08.951Z"
   },
   {
    "duration": 1047,
    "start_time": "2023-07-05T14:50:21.765Z"
   },
   {
    "duration": 13,
    "start_time": "2023-07-05T14:50:22.815Z"
   },
   {
    "duration": 33,
    "start_time": "2023-07-05T14:50:22.831Z"
   },
   {
    "duration": 46,
    "start_time": "2023-07-05T14:50:22.867Z"
   },
   {
    "duration": 16,
    "start_time": "2023-07-05T14:50:22.916Z"
   },
   {
    "duration": 26,
    "start_time": "2023-07-05T14:50:22.934Z"
   },
   {
    "duration": 18,
    "start_time": "2023-07-05T14:50:22.961Z"
   },
   {
    "duration": 39,
    "start_time": "2023-07-05T14:50:22.981Z"
   },
   {
    "duration": 26,
    "start_time": "2023-07-05T14:50:23.022Z"
   },
   {
    "duration": 16,
    "start_time": "2023-07-05T14:50:23.052Z"
   },
   {
    "duration": 10,
    "start_time": "2023-07-05T14:50:23.069Z"
   },
   {
    "duration": 11,
    "start_time": "2023-07-05T14:50:23.081Z"
   },
   {
    "duration": 25,
    "start_time": "2023-07-05T14:50:23.093Z"
   },
   {
    "duration": 32,
    "start_time": "2023-07-05T14:50:23.119Z"
   },
   {
    "duration": 13,
    "start_time": "2023-07-05T14:50:23.153Z"
   },
   {
    "duration": 20,
    "start_time": "2023-07-05T14:50:23.168Z"
   },
   {
    "duration": 5,
    "start_time": "2023-07-05T14:50:23.191Z"
   },
   {
    "duration": 15,
    "start_time": "2023-07-05T14:50:23.198Z"
   },
   {
    "duration": 23,
    "start_time": "2023-07-05T14:50:23.215Z"
   },
   {
    "duration": 8,
    "start_time": "2023-07-05T14:50:23.240Z"
   },
   {
    "duration": 29,
    "start_time": "2023-07-05T14:50:23.250Z"
   },
   {
    "duration": 739,
    "start_time": "2023-07-05T14:50:23.282Z"
   },
   {
    "duration": 12,
    "start_time": "2023-07-05T14:50:24.023Z"
   },
   {
    "duration": 182,
    "start_time": "2023-07-05T14:50:24.037Z"
   },
   {
    "duration": 10,
    "start_time": "2023-07-05T14:50:24.220Z"
   },
   {
    "duration": 161,
    "start_time": "2023-07-05T14:50:24.231Z"
   },
   {
    "duration": 2,
    "start_time": "2023-07-05T14:50:24.394Z"
   },
   {
    "duration": 23,
    "start_time": "2023-07-05T14:50:24.412Z"
   },
   {
    "duration": 363,
    "start_time": "2023-07-05T14:50:24.437Z"
   },
   {
    "duration": 304,
    "start_time": "2023-07-05T14:51:37.984Z"
   },
   {
    "duration": 353,
    "start_time": "2023-07-05T14:53:36.254Z"
   },
   {
    "duration": 262,
    "start_time": "2023-07-05T14:55:08.651Z"
   },
   {
    "duration": 289,
    "start_time": "2023-07-05T14:57:51.813Z"
   },
   {
    "duration": 46,
    "start_time": "2023-07-06T02:55:28.698Z"
   },
   {
    "duration": 841,
    "start_time": "2023-07-06T02:55:40.775Z"
   },
   {
    "duration": 12,
    "start_time": "2023-07-06T02:55:41.618Z"
   },
   {
    "duration": 22,
    "start_time": "2023-07-06T02:55:41.633Z"
   },
   {
    "duration": 33,
    "start_time": "2023-07-06T02:55:41.658Z"
   },
   {
    "duration": 38,
    "start_time": "2023-07-06T02:55:41.692Z"
   },
   {
    "duration": 22,
    "start_time": "2023-07-06T02:55:41.732Z"
   },
   {
    "duration": 18,
    "start_time": "2023-07-06T02:55:41.756Z"
   },
   {
    "duration": 52,
    "start_time": "2023-07-06T02:55:41.776Z"
   },
   {
    "duration": 20,
    "start_time": "2023-07-06T02:55:41.830Z"
   },
   {
    "duration": 7,
    "start_time": "2023-07-06T02:55:41.853Z"
   },
   {
    "duration": 11,
    "start_time": "2023-07-06T02:55:41.862Z"
   },
   {
    "duration": 15,
    "start_time": "2023-07-06T02:55:41.875Z"
   },
   {
    "duration": 22,
    "start_time": "2023-07-06T02:55:41.892Z"
   },
   {
    "duration": 8,
    "start_time": "2023-07-06T02:55:41.917Z"
   },
   {
    "duration": 7,
    "start_time": "2023-07-06T02:55:41.926Z"
   },
   {
    "duration": 15,
    "start_time": "2023-07-06T02:55:41.935Z"
   },
   {
    "duration": 6,
    "start_time": "2023-07-06T02:55:41.952Z"
   },
   {
    "duration": 17,
    "start_time": "2023-07-06T02:55:41.959Z"
   },
   {
    "duration": 24,
    "start_time": "2023-07-06T02:55:41.977Z"
   },
   {
    "duration": 13,
    "start_time": "2023-07-06T02:55:42.003Z"
   },
   {
    "duration": 18,
    "start_time": "2023-07-06T02:55:42.018Z"
   },
   {
    "duration": 667,
    "start_time": "2023-07-06T02:55:42.038Z"
   },
   {
    "duration": 10,
    "start_time": "2023-07-06T02:55:42.707Z"
   },
   {
    "duration": 162,
    "start_time": "2023-07-06T02:55:42.719Z"
   },
   {
    "duration": 9,
    "start_time": "2023-07-06T02:55:42.883Z"
   },
   {
    "duration": 152,
    "start_time": "2023-07-06T02:55:42.894Z"
   },
   {
    "duration": 2,
    "start_time": "2023-07-06T02:55:43.047Z"
   },
   {
    "duration": 22,
    "start_time": "2023-07-06T02:55:43.052Z"
   },
   {
    "duration": 376,
    "start_time": "2023-07-06T02:55:43.076Z"
   },
   {
    "duration": 552,
    "start_time": "2023-07-06T02:55:55.480Z"
   },
   {
    "duration": 465,
    "start_time": "2023-07-06T02:57:25.984Z"
   },
   {
    "duration": 615,
    "start_time": "2023-07-06T07:41:07.237Z"
   },
   {
    "duration": 10,
    "start_time": "2023-07-06T07:41:07.854Z"
   },
   {
    "duration": 21,
    "start_time": "2023-07-06T07:41:07.866Z"
   },
   {
    "duration": 41,
    "start_time": "2023-07-06T07:41:07.889Z"
   },
   {
    "duration": 17,
    "start_time": "2023-07-06T07:41:07.938Z"
   },
   {
    "duration": 20,
    "start_time": "2023-07-06T07:41:07.957Z"
   },
   {
    "duration": 17,
    "start_time": "2023-07-06T07:41:07.978Z"
   },
   {
    "duration": 38,
    "start_time": "2023-07-06T07:41:07.996Z"
   },
   {
    "duration": 10,
    "start_time": "2023-07-06T07:41:08.036Z"
   },
   {
    "duration": 5,
    "start_time": "2023-07-06T07:41:08.049Z"
   },
   {
    "duration": 13,
    "start_time": "2023-07-06T07:41:08.056Z"
   },
   {
    "duration": 15,
    "start_time": "2023-07-06T07:41:08.070Z"
   },
   {
    "duration": 50,
    "start_time": "2023-07-06T07:41:08.087Z"
   },
   {
    "duration": 6,
    "start_time": "2023-07-06T07:41:08.139Z"
   },
   {
    "duration": 12,
    "start_time": "2023-07-06T07:41:08.147Z"
   },
   {
    "duration": 6,
    "start_time": "2023-07-06T07:41:08.161Z"
   },
   {
    "duration": 5,
    "start_time": "2023-07-06T07:41:08.168Z"
   },
   {
    "duration": 40,
    "start_time": "2023-07-06T07:41:08.175Z"
   },
   {
    "duration": 12,
    "start_time": "2023-07-06T07:41:08.221Z"
   },
   {
    "duration": 9,
    "start_time": "2023-07-06T07:41:08.235Z"
   },
   {
    "duration": 10,
    "start_time": "2023-07-06T07:41:08.246Z"
   },
   {
    "duration": 424,
    "start_time": "2023-07-06T07:41:08.259Z"
   },
   {
    "duration": 11,
    "start_time": "2023-07-06T07:41:08.684Z"
   },
   {
    "duration": 171,
    "start_time": "2023-07-06T07:41:08.696Z"
   },
   {
    "duration": 9,
    "start_time": "2023-07-06T07:41:08.868Z"
   },
   {
    "duration": 165,
    "start_time": "2023-07-06T07:41:08.878Z"
   },
   {
    "duration": 3,
    "start_time": "2023-07-06T07:41:09.044Z"
   },
   {
    "duration": 35,
    "start_time": "2023-07-06T07:41:09.050Z"
   },
   {
    "duration": 387,
    "start_time": "2023-07-06T07:41:09.087Z"
   },
   {
    "duration": 16,
    "start_time": "2023-07-06T07:42:04.343Z"
   },
   {
    "duration": 563,
    "start_time": "2023-07-06T08:41:15.530Z"
   },
   {
    "duration": 12,
    "start_time": "2023-07-06T08:41:16.095Z"
   },
   {
    "duration": 35,
    "start_time": "2023-07-06T08:41:16.109Z"
   },
   {
    "duration": 45,
    "start_time": "2023-07-06T08:41:16.146Z"
   },
   {
    "duration": 17,
    "start_time": "2023-07-06T08:41:16.193Z"
   },
   {
    "duration": 32,
    "start_time": "2023-07-06T08:41:16.212Z"
   },
   {
    "duration": 20,
    "start_time": "2023-07-06T08:41:16.246Z"
   },
   {
    "duration": 11,
    "start_time": "2023-07-06T08:41:16.269Z"
   },
   {
    "duration": 43,
    "start_time": "2023-07-06T08:41:16.283Z"
   },
   {
    "duration": 9,
    "start_time": "2023-07-06T08:41:16.328Z"
   },
   {
    "duration": 28,
    "start_time": "2023-07-06T08:41:16.339Z"
   },
   {
    "duration": 38,
    "start_time": "2023-07-06T08:41:16.368Z"
   },
   {
    "duration": 25,
    "start_time": "2023-07-06T08:41:16.408Z"
   },
   {
    "duration": 5,
    "start_time": "2023-07-06T08:41:16.436Z"
   },
   {
    "duration": 19,
    "start_time": "2023-07-06T08:41:16.443Z"
   },
   {
    "duration": 30,
    "start_time": "2023-07-06T08:41:16.464Z"
   },
   {
    "duration": 9,
    "start_time": "2023-07-06T08:41:16.496Z"
   },
   {
    "duration": 28,
    "start_time": "2023-07-06T08:41:16.507Z"
   },
   {
    "duration": 16,
    "start_time": "2023-07-06T08:41:16.537Z"
   },
   {
    "duration": 23,
    "start_time": "2023-07-06T08:41:16.554Z"
   },
   {
    "duration": 30,
    "start_time": "2023-07-06T08:41:16.579Z"
   },
   {
    "duration": 470,
    "start_time": "2023-07-06T08:41:16.612Z"
   },
   {
    "duration": 10,
    "start_time": "2023-07-06T08:41:17.084Z"
   },
   {
    "duration": 177,
    "start_time": "2023-07-06T08:41:17.096Z"
   },
   {
    "duration": 9,
    "start_time": "2023-07-06T08:41:17.275Z"
   },
   {
    "duration": 175,
    "start_time": "2023-07-06T08:41:17.286Z"
   },
   {
    "duration": 3,
    "start_time": "2023-07-06T08:41:17.463Z"
   },
   {
    "duration": 41,
    "start_time": "2023-07-06T08:41:17.469Z"
   },
   {
    "duration": 532,
    "start_time": "2023-07-06T08:41:17.512Z"
   },
   {
    "duration": 0,
    "start_time": "2023-07-06T08:41:18.046Z"
   },
   {
    "duration": 592,
    "start_time": "2023-07-06T08:42:30.589Z"
   },
   {
    "duration": 12,
    "start_time": "2023-07-06T08:42:31.183Z"
   },
   {
    "duration": 341,
    "start_time": "2023-07-06T08:42:31.197Z"
   },
   {
    "duration": 140,
    "start_time": "2023-07-06T08:42:31.541Z"
   },
   {
    "duration": 32,
    "start_time": "2023-07-06T08:42:31.683Z"
   },
   {
    "duration": 35,
    "start_time": "2023-07-06T08:42:31.721Z"
   },
   {
    "duration": 24,
    "start_time": "2023-07-06T08:42:31.758Z"
   },
   {
    "duration": 47,
    "start_time": "2023-07-06T08:42:31.783Z"
   },
   {
    "duration": 43,
    "start_time": "2023-07-06T08:42:31.832Z"
   },
   {
    "duration": 47,
    "start_time": "2023-07-06T08:42:31.878Z"
   },
   {
    "duration": 17,
    "start_time": "2023-07-06T08:42:31.927Z"
   },
   {
    "duration": 22,
    "start_time": "2023-07-06T08:42:31.946Z"
   },
   {
    "duration": 51,
    "start_time": "2023-07-06T08:42:31.970Z"
   },
   {
    "duration": 27,
    "start_time": "2023-07-06T08:42:32.023Z"
   },
   {
    "duration": 23,
    "start_time": "2023-07-06T08:42:32.052Z"
   },
   {
    "duration": 23,
    "start_time": "2023-07-06T08:42:32.077Z"
   },
   {
    "duration": 30,
    "start_time": "2023-07-06T08:42:32.101Z"
   },
   {
    "duration": 24,
    "start_time": "2023-07-06T08:42:32.133Z"
   },
   {
    "duration": 30,
    "start_time": "2023-07-06T08:42:32.159Z"
   },
   {
    "duration": 41,
    "start_time": "2023-07-06T08:42:32.190Z"
   },
   {
    "duration": 19,
    "start_time": "2023-07-06T08:42:32.233Z"
   },
   {
    "duration": 451,
    "start_time": "2023-07-06T08:42:32.254Z"
   },
   {
    "duration": 24,
    "start_time": "2023-07-06T08:42:32.707Z"
   },
   {
    "duration": 205,
    "start_time": "2023-07-06T08:42:32.733Z"
   },
   {
    "duration": 10,
    "start_time": "2023-07-06T08:42:32.940Z"
   },
   {
    "duration": 185,
    "start_time": "2023-07-06T08:42:32.951Z"
   },
   {
    "duration": 2,
    "start_time": "2023-07-06T08:42:33.138Z"
   },
   {
    "duration": 58,
    "start_time": "2023-07-06T08:42:33.144Z"
   },
   {
    "duration": 659,
    "start_time": "2023-07-06T08:42:33.204Z"
   },
   {
    "duration": 0,
    "start_time": "2023-07-06T08:42:33.865Z"
   },
   {
    "duration": 563,
    "start_time": "2023-07-06T12:00:01.596Z"
   },
   {
    "duration": 10,
    "start_time": "2023-07-06T12:00:02.161Z"
   },
   {
    "duration": 129,
    "start_time": "2023-07-06T12:00:02.172Z"
   },
   {
    "duration": 63,
    "start_time": "2023-07-06T12:00:02.303Z"
   },
   {
    "duration": 152,
    "start_time": "2023-07-06T12:00:02.368Z"
   },
   {
    "duration": 27,
    "start_time": "2023-07-06T12:00:02.522Z"
   },
   {
    "duration": 129,
    "start_time": "2023-07-06T12:00:02.552Z"
   },
   {
    "duration": 45,
    "start_time": "2023-07-06T12:00:02.683Z"
   },
   {
    "duration": 22,
    "start_time": "2023-07-06T12:00:02.730Z"
   },
   {
    "duration": 51,
    "start_time": "2023-07-06T12:00:02.755Z"
   },
   {
    "duration": 53,
    "start_time": "2023-07-06T12:00:02.807Z"
   },
   {
    "duration": 58,
    "start_time": "2023-07-06T12:00:02.862Z"
   },
   {
    "duration": 46,
    "start_time": "2023-07-06T12:00:02.922Z"
   },
   {
    "duration": 33,
    "start_time": "2023-07-06T12:00:02.970Z"
   },
   {
    "duration": 30,
    "start_time": "2023-07-06T12:00:03.004Z"
   },
   {
    "duration": 39,
    "start_time": "2023-07-06T12:00:03.035Z"
   },
   {
    "duration": 61,
    "start_time": "2023-07-06T12:00:03.076Z"
   },
   {
    "duration": 107,
    "start_time": "2023-07-06T12:00:03.139Z"
   },
   {
    "duration": 49,
    "start_time": "2023-07-06T12:00:03.248Z"
   },
   {
    "duration": 30,
    "start_time": "2023-07-06T12:00:03.299Z"
   },
   {
    "duration": 37,
    "start_time": "2023-07-06T12:00:03.331Z"
   },
   {
    "duration": 523,
    "start_time": "2023-07-06T12:00:03.370Z"
   },
   {
    "duration": 20,
    "start_time": "2023-07-06T12:00:03.895Z"
   },
   {
    "duration": 178,
    "start_time": "2023-07-06T12:00:03.918Z"
   },
   {
    "duration": 17,
    "start_time": "2023-07-06T12:00:04.099Z"
   },
   {
    "duration": 154,
    "start_time": "2023-07-06T12:00:04.118Z"
   },
   {
    "duration": 2,
    "start_time": "2023-07-06T12:00:04.274Z"
   },
   {
    "duration": 64,
    "start_time": "2023-07-06T12:00:04.279Z"
   },
   {
    "duration": 456,
    "start_time": "2023-07-06T12:00:04.345Z"
   },
   {
    "duration": 0,
    "start_time": "2023-07-06T12:00:04.803Z"
   },
   {
    "duration": 6,
    "start_time": "2023-07-06T12:01:23.949Z"
   },
   {
    "duration": 20,
    "start_time": "2023-07-06T12:01:53.822Z"
   },
   {
    "duration": 329,
    "start_time": "2023-07-06T12:03:29.756Z"
   },
   {
    "duration": 16,
    "start_time": "2023-07-06T12:03:36.296Z"
   },
   {
    "duration": 561,
    "start_time": "2023-07-06T12:05:23.332Z"
   },
   {
    "duration": 13,
    "start_time": "2023-07-06T12:05:23.896Z"
   },
   {
    "duration": 47,
    "start_time": "2023-07-06T12:05:23.911Z"
   },
   {
    "duration": 34,
    "start_time": "2023-07-06T12:05:23.960Z"
   },
   {
    "duration": 19,
    "start_time": "2023-07-06T12:05:23.996Z"
   },
   {
    "duration": 31,
    "start_time": "2023-07-06T12:05:24.019Z"
   },
   {
    "duration": 18,
    "start_time": "2023-07-06T12:05:24.052Z"
   },
   {
    "duration": 31,
    "start_time": "2023-07-06T12:05:24.072Z"
   },
   {
    "duration": 29,
    "start_time": "2023-07-06T12:05:24.105Z"
   },
   {
    "duration": 25,
    "start_time": "2023-07-06T12:05:24.140Z"
   },
   {
    "duration": 9,
    "start_time": "2023-07-06T12:05:24.167Z"
   },
   {
    "duration": 15,
    "start_time": "2023-07-06T12:05:24.179Z"
   },
   {
    "duration": 28,
    "start_time": "2023-07-06T12:05:24.196Z"
   },
   {
    "duration": 20,
    "start_time": "2023-07-06T12:05:24.225Z"
   },
   {
    "duration": 24,
    "start_time": "2023-07-06T12:05:24.247Z"
   },
   {
    "duration": 17,
    "start_time": "2023-07-06T12:05:24.273Z"
   },
   {
    "duration": 35,
    "start_time": "2023-07-06T12:05:24.293Z"
   },
   {
    "duration": 12,
    "start_time": "2023-07-06T12:05:24.333Z"
   },
   {
    "duration": 11,
    "start_time": "2023-07-06T12:05:24.347Z"
   },
   {
    "duration": 9,
    "start_time": "2023-07-06T12:05:24.360Z"
   },
   {
    "duration": 13,
    "start_time": "2023-07-06T12:05:24.371Z"
   },
   {
    "duration": 472,
    "start_time": "2023-07-06T12:05:24.386Z"
   },
   {
    "duration": 10,
    "start_time": "2023-07-06T12:05:24.860Z"
   },
   {
    "duration": 236,
    "start_time": "2023-07-06T12:05:24.872Z"
   },
   {
    "duration": 14,
    "start_time": "2023-07-06T12:05:25.112Z"
   },
   {
    "duration": 174,
    "start_time": "2023-07-06T12:05:25.127Z"
   },
   {
    "duration": 16,
    "start_time": "2023-07-06T12:05:25.303Z"
   },
   {
    "duration": 27,
    "start_time": "2023-07-06T12:05:25.323Z"
   },
   {
    "duration": 454,
    "start_time": "2023-07-06T12:05:25.351Z"
   },
   {
    "duration": 0,
    "start_time": "2023-07-06T12:05:25.806Z"
   },
   {
    "duration": 5,
    "start_time": "2023-07-06T12:31:07.411Z"
   },
   {
    "duration": 19,
    "start_time": "2023-07-06T12:31:10.036Z"
   },
   {
    "duration": 266,
    "start_time": "2023-07-06T12:31:11.448Z"
   },
   {
    "duration": 21,
    "start_time": "2023-07-06T12:31:12.940Z"
   },
   {
    "duration": 606,
    "start_time": "2023-07-06T12:31:23.835Z"
   },
   {
    "duration": 17,
    "start_time": "2023-07-06T12:31:24.445Z"
   },
   {
    "duration": 29,
    "start_time": "2023-07-06T12:31:24.463Z"
   },
   {
    "duration": 51,
    "start_time": "2023-07-06T12:31:24.494Z"
   },
   {
    "duration": 17,
    "start_time": "2023-07-06T12:31:24.547Z"
   },
   {
    "duration": 48,
    "start_time": "2023-07-06T12:31:24.566Z"
   },
   {
    "duration": 19,
    "start_time": "2023-07-06T12:31:24.616Z"
   },
   {
    "duration": 12,
    "start_time": "2023-07-06T12:31:24.637Z"
   },
   {
    "duration": 13,
    "start_time": "2023-07-06T12:31:24.650Z"
   },
   {
    "duration": 6,
    "start_time": "2023-07-06T12:31:24.666Z"
   },
   {
    "duration": 45,
    "start_time": "2023-07-06T12:31:24.674Z"
   },
   {
    "duration": 11,
    "start_time": "2023-07-06T12:31:24.721Z"
   },
   {
    "duration": 19,
    "start_time": "2023-07-06T12:31:24.735Z"
   },
   {
    "duration": 6,
    "start_time": "2023-07-06T12:31:24.755Z"
   },
   {
    "duration": 7,
    "start_time": "2023-07-06T12:31:24.763Z"
   },
   {
    "duration": 43,
    "start_time": "2023-07-06T12:31:24.772Z"
   },
   {
    "duration": 5,
    "start_time": "2023-07-06T12:31:24.816Z"
   },
   {
    "duration": 10,
    "start_time": "2023-07-06T12:31:24.823Z"
   },
   {
    "duration": 10,
    "start_time": "2023-07-06T12:31:24.834Z"
   },
   {
    "duration": 3,
    "start_time": "2023-07-06T12:31:24.846Z"
   },
   {
    "duration": 12,
    "start_time": "2023-07-06T12:31:24.850Z"
   },
   {
    "duration": 567,
    "start_time": "2023-07-06T12:31:24.864Z"
   },
   {
    "duration": 10,
    "start_time": "2023-07-06T12:31:25.432Z"
   },
   {
    "duration": 191,
    "start_time": "2023-07-06T12:31:25.443Z"
   },
   {
    "duration": 9,
    "start_time": "2023-07-06T12:31:25.636Z"
   },
   {
    "duration": 174,
    "start_time": "2023-07-06T12:31:25.647Z"
   },
   {
    "duration": 5,
    "start_time": "2023-07-06T12:31:25.823Z"
   },
   {
    "duration": 22,
    "start_time": "2023-07-06T12:31:25.831Z"
   },
   {
    "duration": 379,
    "start_time": "2023-07-06T12:31:25.855Z"
   },
   {
    "duration": 0,
    "start_time": "2023-07-06T12:31:26.236Z"
   },
   {
    "duration": 679,
    "start_time": "2023-07-06T13:01:45.698Z"
   },
   {
    "duration": 11,
    "start_time": "2023-07-06T13:01:46.379Z"
   },
   {
    "duration": 42,
    "start_time": "2023-07-06T13:01:46.392Z"
   },
   {
    "duration": 43,
    "start_time": "2023-07-06T13:01:46.436Z"
   },
   {
    "duration": 18,
    "start_time": "2023-07-06T13:01:46.483Z"
   },
   {
    "duration": 40,
    "start_time": "2023-07-06T13:01:46.502Z"
   },
   {
    "duration": 20,
    "start_time": "2023-07-06T13:01:46.544Z"
   },
   {
    "duration": 21,
    "start_time": "2023-07-06T13:01:46.565Z"
   },
   {
    "duration": 40,
    "start_time": "2023-07-06T13:01:46.588Z"
   },
   {
    "duration": 8,
    "start_time": "2023-07-06T13:01:46.632Z"
   },
   {
    "duration": 14,
    "start_time": "2023-07-06T13:01:46.642Z"
   },
   {
    "duration": 14,
    "start_time": "2023-07-06T13:01:46.658Z"
   },
   {
    "duration": 23,
    "start_time": "2023-07-06T13:01:46.674Z"
   },
   {
    "duration": 6,
    "start_time": "2023-07-06T13:01:46.716Z"
   },
   {
    "duration": 18,
    "start_time": "2023-07-06T13:01:46.724Z"
   },
   {
    "duration": 29,
    "start_time": "2023-07-06T13:01:46.744Z"
   },
   {
    "duration": 12,
    "start_time": "2023-07-06T13:01:46.775Z"
   },
   {
    "duration": 40,
    "start_time": "2023-07-06T13:01:46.789Z"
   },
   {
    "duration": 13,
    "start_time": "2023-07-06T13:01:46.832Z"
   },
   {
    "duration": 13,
    "start_time": "2023-07-06T13:01:46.847Z"
   },
   {
    "duration": 38,
    "start_time": "2023-07-06T13:01:46.861Z"
   },
   {
    "duration": 463,
    "start_time": "2023-07-06T13:01:46.900Z"
   },
   {
    "duration": 10,
    "start_time": "2023-07-06T13:01:47.365Z"
   },
   {
    "duration": 194,
    "start_time": "2023-07-06T13:01:47.377Z"
   },
   {
    "duration": 10,
    "start_time": "2023-07-06T13:01:47.573Z"
   },
   {
    "duration": 218,
    "start_time": "2023-07-06T13:01:47.584Z"
   },
   {
    "duration": 14,
    "start_time": "2023-07-06T13:01:47.803Z"
   },
   {
    "duration": 50,
    "start_time": "2023-07-06T13:01:47.819Z"
   },
   {
    "duration": 30,
    "start_time": "2023-07-06T13:01:47.871Z"
   },
   {
    "duration": 41,
    "start_time": "2023-07-06T13:01:47.903Z"
   },
   {
    "duration": 23,
    "start_time": "2023-07-06T13:02:02.843Z"
   },
   {
    "duration": 9,
    "start_time": "2023-07-06T13:05:18.057Z"
   },
   {
    "duration": 39,
    "start_time": "2023-07-06T13:05:20.589Z"
   },
   {
    "duration": 102,
    "start_time": "2023-07-06T13:09:25.487Z"
   },
   {
    "duration": 96,
    "start_time": "2023-07-06T13:10:09.102Z"
   },
   {
    "duration": 14,
    "start_time": "2023-07-06T13:10:16.634Z"
   },
   {
    "duration": 48,
    "start_time": "2023-07-06T13:10:19.717Z"
   },
   {
    "duration": 118,
    "start_time": "2023-07-06T13:11:15.154Z"
   },
   {
    "duration": 12,
    "start_time": "2023-07-06T13:11:26.184Z"
   },
   {
    "duration": 46,
    "start_time": "2023-07-06T13:11:32.954Z"
   },
   {
    "duration": 4,
    "start_time": "2023-07-06T13:11:54.649Z"
   },
   {
    "duration": 56,
    "start_time": "2023-07-06T13:12:08.422Z"
   },
   {
    "duration": 50,
    "start_time": "2023-07-06T13:12:26.903Z"
   },
   {
    "duration": 59,
    "start_time": "2023-07-06T13:12:53.078Z"
   },
   {
    "duration": 80,
    "start_time": "2023-07-06T13:13:15.356Z"
   },
   {
    "duration": 6,
    "start_time": "2023-07-06T13:14:42.535Z"
   },
   {
    "duration": 57,
    "start_time": "2023-07-06T13:14:48.101Z"
   },
   {
    "duration": 41,
    "start_time": "2023-07-06T13:15:30.585Z"
   },
   {
    "duration": 580,
    "start_time": "2023-07-06T13:16:06.186Z"
   },
   {
    "duration": 12,
    "start_time": "2023-07-06T13:16:06.768Z"
   },
   {
    "duration": 51,
    "start_time": "2023-07-06T13:16:06.782Z"
   },
   {
    "duration": 60,
    "start_time": "2023-07-06T13:16:06.835Z"
   },
   {
    "duration": 29,
    "start_time": "2023-07-06T13:16:06.897Z"
   },
   {
    "duration": 22,
    "start_time": "2023-07-06T13:16:06.928Z"
   },
   {
    "duration": 40,
    "start_time": "2023-07-06T13:16:06.952Z"
   },
   {
    "duration": 58,
    "start_time": "2023-07-06T13:16:06.995Z"
   },
   {
    "duration": 35,
    "start_time": "2023-07-06T13:16:07.054Z"
   },
   {
    "duration": 45,
    "start_time": "2023-07-06T13:16:07.091Z"
   },
   {
    "duration": 43,
    "start_time": "2023-07-06T13:16:07.138Z"
   },
   {
    "duration": 45,
    "start_time": "2023-07-06T13:16:07.183Z"
   },
   {
    "duration": 28,
    "start_time": "2023-07-06T13:16:07.231Z"
   },
   {
    "duration": 22,
    "start_time": "2023-07-06T13:16:07.262Z"
   },
   {
    "duration": 33,
    "start_time": "2023-07-06T13:16:07.285Z"
   },
   {
    "duration": 27,
    "start_time": "2023-07-06T13:16:07.324Z"
   },
   {
    "duration": 19,
    "start_time": "2023-07-06T13:16:07.353Z"
   },
   {
    "duration": 28,
    "start_time": "2023-07-06T13:16:07.374Z"
   },
   {
    "duration": 34,
    "start_time": "2023-07-06T13:16:07.403Z"
   },
   {
    "duration": 22,
    "start_time": "2023-07-06T13:16:07.439Z"
   },
   {
    "duration": 25,
    "start_time": "2023-07-06T13:16:07.462Z"
   },
   {
    "duration": 502,
    "start_time": "2023-07-06T13:16:07.489Z"
   },
   {
    "duration": 9,
    "start_time": "2023-07-06T13:16:07.994Z"
   },
   {
    "duration": 186,
    "start_time": "2023-07-06T13:16:08.004Z"
   },
   {
    "duration": 9,
    "start_time": "2023-07-06T13:16:08.192Z"
   },
   {
    "duration": 239,
    "start_time": "2023-07-06T13:16:08.204Z"
   },
   {
    "duration": 4,
    "start_time": "2023-07-06T13:16:08.445Z"
   },
   {
    "duration": 9,
    "start_time": "2023-07-06T13:16:08.451Z"
   },
   {
    "duration": 43,
    "start_time": "2023-07-06T13:16:08.512Z"
   },
   {
    "duration": 108,
    "start_time": "2023-07-06T13:16:08.557Z"
   },
   {
    "duration": 38,
    "start_time": "2023-07-06T13:16:08.667Z"
   },
   {
    "duration": 16,
    "start_time": "2023-07-06T13:21:20.118Z"
   },
   {
    "duration": 62,
    "start_time": "2023-07-06T13:22:48.338Z"
   },
   {
    "duration": 18,
    "start_time": "2023-07-06T13:23:10.348Z"
   },
   {
    "duration": 14,
    "start_time": "2023-07-06T13:25:21.637Z"
   },
   {
    "duration": 21,
    "start_time": "2023-07-06T13:25:28.953Z"
   },
   {
    "duration": 84,
    "start_time": "2023-07-06T13:29:14.878Z"
   },
   {
    "duration": 16,
    "start_time": "2023-07-06T13:29:31.033Z"
   },
   {
    "duration": 24,
    "start_time": "2023-07-06T13:29:54.716Z"
   },
   {
    "duration": 30,
    "start_time": "2023-07-06T13:31:18.365Z"
   },
   {
    "duration": 33,
    "start_time": "2023-07-06T13:36:25.211Z"
   },
   {
    "duration": 69,
    "start_time": "2023-07-06T13:37:56.064Z"
   },
   {
    "duration": 27,
    "start_time": "2023-07-06T13:38:08.375Z"
   },
   {
    "duration": 38,
    "start_time": "2023-07-06T13:38:25.252Z"
   },
   {
    "duration": 57,
    "start_time": "2023-07-06T13:39:43.046Z"
   },
   {
    "duration": 6,
    "start_time": "2023-07-06T14:36:52.399Z"
   },
   {
    "duration": 9,
    "start_time": "2023-07-06T14:37:04.964Z"
   },
   {
    "duration": 8,
    "start_time": "2023-07-06T14:37:13.831Z"
   },
   {
    "duration": 30,
    "start_time": "2023-07-06T14:37:28.315Z"
   },
   {
    "duration": 10,
    "start_time": "2023-07-06T14:37:51.136Z"
   },
   {
    "duration": 36,
    "start_time": "2023-07-06T14:37:53.124Z"
   },
   {
    "duration": 64,
    "start_time": "2023-07-06T14:38:52.728Z"
   },
   {
    "duration": 11,
    "start_time": "2023-07-06T14:39:15.746Z"
   },
   {
    "duration": 12,
    "start_time": "2023-07-06T14:39:28.759Z"
   },
   {
    "duration": 17,
    "start_time": "2023-07-06T14:40:10.822Z"
   },
   {
    "duration": 15,
    "start_time": "2023-07-06T14:41:01.307Z"
   },
   {
    "duration": 38,
    "start_time": "2023-07-06T14:41:02.449Z"
   },
   {
    "duration": 6,
    "start_time": "2023-07-06T14:41:34.335Z"
   },
   {
    "duration": 27,
    "start_time": "2023-07-06T14:41:35.031Z"
   },
   {
    "duration": 14,
    "start_time": "2023-07-06T14:41:57.353Z"
   },
   {
    "duration": 21,
    "start_time": "2023-07-06T14:44:29.029Z"
   },
   {
    "duration": 30,
    "start_time": "2023-07-06T14:47:26.944Z"
   },
   {
    "duration": 232,
    "start_time": "2023-07-06T14:47:28.100Z"
   },
   {
    "duration": 19,
    "start_time": "2023-07-06T14:47:59.863Z"
   },
   {
    "duration": 185,
    "start_time": "2023-07-06T14:48:00.701Z"
   },
   {
    "duration": 6,
    "start_time": "2023-07-06T14:50:50.203Z"
   },
   {
    "duration": 7,
    "start_time": "2023-07-06T14:52:14.956Z"
   },
   {
    "duration": 25,
    "start_time": "2023-07-06T14:52:29.387Z"
   },
   {
    "duration": 11,
    "start_time": "2023-07-06T14:54:22.289Z"
   },
   {
    "duration": 11,
    "start_time": "2023-07-06T14:54:51.308Z"
   },
   {
    "duration": 6,
    "start_time": "2023-07-06T14:55:08.935Z"
   },
   {
    "duration": 5,
    "start_time": "2023-07-06T14:55:21.298Z"
   },
   {
    "duration": 7,
    "start_time": "2023-07-06T14:56:25.434Z"
   },
   {
    "duration": 572,
    "start_time": "2023-07-06T14:56:57.672Z"
   },
   {
    "duration": 15,
    "start_time": "2023-07-06T14:56:58.249Z"
   },
   {
    "duration": 78,
    "start_time": "2023-07-06T14:56:58.267Z"
   },
   {
    "duration": 77,
    "start_time": "2023-07-06T14:56:58.347Z"
   },
   {
    "duration": 26,
    "start_time": "2023-07-06T14:56:58.427Z"
   },
   {
    "duration": 36,
    "start_time": "2023-07-06T14:56:58.455Z"
   },
   {
    "duration": 59,
    "start_time": "2023-07-06T14:56:58.493Z"
   },
   {
    "duration": 15,
    "start_time": "2023-07-06T14:56:58.554Z"
   },
   {
    "duration": 34,
    "start_time": "2023-07-06T14:56:58.571Z"
   },
   {
    "duration": 15,
    "start_time": "2023-07-06T14:56:58.607Z"
   },
   {
    "duration": 26,
    "start_time": "2023-07-06T14:56:58.627Z"
   },
   {
    "duration": 12,
    "start_time": "2023-07-06T14:56:58.655Z"
   },
   {
    "duration": 18,
    "start_time": "2023-07-06T14:56:58.669Z"
   },
   {
    "duration": 8,
    "start_time": "2023-07-06T14:56:58.691Z"
   },
   {
    "duration": 35,
    "start_time": "2023-07-06T14:56:58.701Z"
   },
   {
    "duration": 14,
    "start_time": "2023-07-06T14:56:58.737Z"
   },
   {
    "duration": 6,
    "start_time": "2023-07-06T14:56:58.753Z"
   },
   {
    "duration": 11,
    "start_time": "2023-07-06T14:56:58.761Z"
   },
   {
    "duration": 13,
    "start_time": "2023-07-06T14:56:58.774Z"
   },
   {
    "duration": 9,
    "start_time": "2023-07-06T14:56:58.789Z"
   },
   {
    "duration": 35,
    "start_time": "2023-07-06T14:56:58.800Z"
   },
   {
    "duration": 488,
    "start_time": "2023-07-06T14:56:58.844Z"
   },
   {
    "duration": 11,
    "start_time": "2023-07-06T14:56:59.336Z"
   },
   {
    "duration": 180,
    "start_time": "2023-07-06T14:56:59.350Z"
   },
   {
    "duration": 13,
    "start_time": "2023-07-06T14:56:59.534Z"
   },
   {
    "duration": 214,
    "start_time": "2023-07-06T14:56:59.549Z"
   },
   {
    "duration": 7,
    "start_time": "2023-07-06T14:56:59.765Z"
   },
   {
    "duration": 35,
    "start_time": "2023-07-06T14:56:59.774Z"
   },
   {
    "duration": 37,
    "start_time": "2023-07-06T14:56:59.812Z"
   },
   {
    "duration": 6,
    "start_time": "2023-07-06T14:56:59.853Z"
   },
   {
    "duration": 46,
    "start_time": "2023-07-06T14:56:59.861Z"
   },
   {
    "duration": 38,
    "start_time": "2023-07-06T14:56:59.910Z"
   },
   {
    "duration": 3,
    "start_time": "2023-07-06T14:56:59.950Z"
   },
   {
    "duration": 23,
    "start_time": "2023-07-06T14:56:59.955Z"
   },
   {
    "duration": 18,
    "start_time": "2023-07-06T14:56:59.980Z"
   },
   {
    "duration": 128,
    "start_time": "2023-07-06T14:57:00.000Z"
   },
   {
    "duration": 79,
    "start_time": "2023-07-06T14:57:00.139Z"
   },
   {
    "duration": 8,
    "start_time": "2023-07-06T14:57:00.220Z"
   },
   {
    "duration": 46,
    "start_time": "2023-07-06T14:57:00.232Z"
   },
   {
    "duration": 65,
    "start_time": "2023-07-06T14:57:00.281Z"
   },
   {
    "duration": 37,
    "start_time": "2023-07-06T14:57:00.356Z"
   },
   {
    "duration": 51,
    "start_time": "2023-07-06T14:57:00.394Z"
   },
   {
    "duration": 4,
    "start_time": "2023-07-06T14:57:00.451Z"
   },
   {
    "duration": 41,
    "start_time": "2023-07-06T14:57:00.457Z"
   },
   {
    "duration": 286,
    "start_time": "2023-07-06T14:57:00.500Z"
   },
   {
    "duration": 5,
    "start_time": "2023-07-06T14:57:00.788Z"
   },
   {
    "duration": 136,
    "start_time": "2023-07-06T14:57:00.795Z"
   },
   {
    "duration": 50,
    "start_time": "2023-07-06T14:57:00.933Z"
   },
   {
    "duration": 127,
    "start_time": "2023-07-06T14:57:00.985Z"
   },
   {
    "duration": 119,
    "start_time": "2023-07-06T14:57:01.114Z"
   },
   {
    "duration": 79,
    "start_time": "2023-07-06T14:57:01.235Z"
   },
   {
    "duration": 695,
    "start_time": "2023-07-06T14:59:58.987Z"
   },
   {
    "duration": 14,
    "start_time": "2023-07-06T14:59:59.685Z"
   },
   {
    "duration": 56,
    "start_time": "2023-07-06T14:59:59.701Z"
   },
   {
    "duration": 65,
    "start_time": "2023-07-06T14:59:59.762Z"
   },
   {
    "duration": 44,
    "start_time": "2023-07-06T14:59:59.829Z"
   },
   {
    "duration": 106,
    "start_time": "2023-07-06T14:59:59.875Z"
   },
   {
    "duration": 80,
    "start_time": "2023-07-06T14:59:59.984Z"
   },
   {
    "duration": 78,
    "start_time": "2023-07-06T15:00:00.066Z"
   },
   {
    "duration": 42,
    "start_time": "2023-07-06T15:00:00.146Z"
   },
   {
    "duration": 93,
    "start_time": "2023-07-06T15:00:00.190Z"
   },
   {
    "duration": 75,
    "start_time": "2023-07-06T15:00:00.286Z"
   },
   {
    "duration": 64,
    "start_time": "2023-07-06T15:00:00.363Z"
   },
   {
    "duration": 142,
    "start_time": "2023-07-06T15:00:00.432Z"
   },
   {
    "duration": 264,
    "start_time": "2023-07-06T15:00:00.579Z"
   },
   {
    "duration": 112,
    "start_time": "2023-07-06T15:00:00.845Z"
   },
   {
    "duration": 77,
    "start_time": "2023-07-06T15:00:00.960Z"
   },
   {
    "duration": 61,
    "start_time": "2023-07-06T15:00:01.040Z"
   },
   {
    "duration": 52,
    "start_time": "2023-07-06T15:00:01.103Z"
   },
   {
    "duration": 139,
    "start_time": "2023-07-06T15:00:01.158Z"
   },
   {
    "duration": 60,
    "start_time": "2023-07-06T15:00:01.300Z"
   },
   {
    "duration": 77,
    "start_time": "2023-07-06T15:00:01.364Z"
   },
   {
    "duration": 683,
    "start_time": "2023-07-06T15:00:01.445Z"
   },
   {
    "duration": 14,
    "start_time": "2023-07-06T15:00:02.134Z"
   },
   {
    "duration": 312,
    "start_time": "2023-07-06T15:00:02.152Z"
   },
   {
    "duration": 16,
    "start_time": "2023-07-06T15:00:02.467Z"
   },
   {
    "duration": 334,
    "start_time": "2023-07-06T15:00:02.486Z"
   },
   {
    "duration": 8,
    "start_time": "2023-07-06T15:00:02.822Z"
   },
   {
    "duration": 70,
    "start_time": "2023-07-06T15:00:02.832Z"
   },
   {
    "duration": 28,
    "start_time": "2023-07-06T15:00:02.904Z"
   },
   {
    "duration": 52,
    "start_time": "2023-07-06T15:00:02.933Z"
   },
   {
    "duration": 77,
    "start_time": "2023-07-06T15:00:02.987Z"
   },
   {
    "duration": 36,
    "start_time": "2023-07-06T15:00:03.066Z"
   },
   {
    "duration": 30,
    "start_time": "2023-07-06T15:00:03.104Z"
   },
   {
    "duration": 47,
    "start_time": "2023-07-06T15:00:03.136Z"
   },
   {
    "duration": 7,
    "start_time": "2023-07-06T15:00:03.185Z"
   },
   {
    "duration": 102,
    "start_time": "2023-07-06T15:00:03.194Z"
   },
   {
    "duration": 80,
    "start_time": "2023-07-06T15:00:03.299Z"
   },
   {
    "duration": 7,
    "start_time": "2023-07-06T15:00:03.382Z"
   },
   {
    "duration": 43,
    "start_time": "2023-07-06T15:00:03.391Z"
   },
   {
    "duration": 40,
    "start_time": "2023-07-06T15:00:03.436Z"
   },
   {
    "duration": 43,
    "start_time": "2023-07-06T15:00:03.482Z"
   },
   {
    "duration": 45,
    "start_time": "2023-07-06T15:00:03.531Z"
   },
   {
    "duration": 26,
    "start_time": "2023-07-06T15:00:03.578Z"
   },
   {
    "duration": 57,
    "start_time": "2023-07-06T15:00:03.607Z"
   },
   {
    "duration": 266,
    "start_time": "2023-07-06T15:00:03.667Z"
   },
   {
    "duration": 10,
    "start_time": "2023-07-06T15:00:03.936Z"
   },
   {
    "duration": 155,
    "start_time": "2023-07-06T15:00:03.949Z"
   },
   {
    "duration": 0,
    "start_time": "2023-07-06T15:00:04.106Z"
   },
   {
    "duration": 0,
    "start_time": "2023-07-06T15:00:04.108Z"
   },
   {
    "duration": 0,
    "start_time": "2023-07-06T15:00:04.110Z"
   },
   {
    "duration": 0,
    "start_time": "2023-07-06T15:00:04.120Z"
   },
   {
    "duration": 21,
    "start_time": "2023-07-06T15:00:53.233Z"
   },
   {
    "duration": 12,
    "start_time": "2023-07-06T15:01:38.205Z"
   },
   {
    "duration": 13,
    "start_time": "2023-07-06T15:01:39.291Z"
   },
   {
    "duration": 3,
    "start_time": "2023-07-06T15:01:39.970Z"
   },
   {
    "duration": 18,
    "start_time": "2023-07-06T15:01:41.106Z"
   },
   {
    "duration": 250,
    "start_time": "2023-07-06T15:01:44.687Z"
   },
   {
    "duration": 19,
    "start_time": "2023-07-06T15:05:37.691Z"
   },
   {
    "duration": 9,
    "start_time": "2023-07-06T15:05:48.746Z"
   },
   {
    "duration": 16,
    "start_time": "2023-07-06T15:06:10.379Z"
   },
   {
    "duration": 1168,
    "start_time": "2023-07-06T15:07:43.010Z"
   },
   {
    "duration": 10,
    "start_time": "2023-07-06T15:08:08.388Z"
   },
   {
    "duration": 983,
    "start_time": "2023-07-06T15:08:09.491Z"
   },
   {
    "duration": 1132,
    "start_time": "2023-07-06T15:11:40.703Z"
   },
   {
    "duration": 9,
    "start_time": "2023-07-06T15:12:52.664Z"
   },
   {
    "duration": 7,
    "start_time": "2023-07-06T15:14:30.131Z"
   },
   {
    "duration": 754,
    "start_time": "2023-07-06T15:15:21.011Z"
   },
   {
    "duration": 12,
    "start_time": "2023-07-06T15:15:21.767Z"
   },
   {
    "duration": 48,
    "start_time": "2023-07-06T15:15:21.781Z"
   },
   {
    "duration": 44,
    "start_time": "2023-07-06T15:15:21.831Z"
   },
   {
    "duration": 16,
    "start_time": "2023-07-06T15:15:21.877Z"
   },
   {
    "duration": 44,
    "start_time": "2023-07-06T15:15:21.895Z"
   },
   {
    "duration": 20,
    "start_time": "2023-07-06T15:15:21.941Z"
   },
   {
    "duration": 21,
    "start_time": "2023-07-06T15:15:21.963Z"
   },
   {
    "duration": 37,
    "start_time": "2023-07-06T15:15:21.986Z"
   },
   {
    "duration": 28,
    "start_time": "2023-07-06T15:15:22.029Z"
   },
   {
    "duration": 10,
    "start_time": "2023-07-06T15:15:22.061Z"
   },
   {
    "duration": 17,
    "start_time": "2023-07-06T15:15:22.073Z"
   },
   {
    "duration": 40,
    "start_time": "2023-07-06T15:15:22.092Z"
   },
   {
    "duration": 30,
    "start_time": "2023-07-06T15:15:22.134Z"
   },
   {
    "duration": 35,
    "start_time": "2023-07-06T15:15:22.166Z"
   },
   {
    "duration": 26,
    "start_time": "2023-07-06T15:15:22.203Z"
   },
   {
    "duration": 15,
    "start_time": "2023-07-06T15:15:22.231Z"
   },
   {
    "duration": 38,
    "start_time": "2023-07-06T15:15:22.250Z"
   },
   {
    "duration": 29,
    "start_time": "2023-07-06T15:15:22.291Z"
   },
   {
    "duration": 16,
    "start_time": "2023-07-06T15:15:22.325Z"
   },
   {
    "duration": 22,
    "start_time": "2023-07-06T15:15:22.343Z"
   },
   {
    "duration": 462,
    "start_time": "2023-07-06T15:15:22.367Z"
   },
   {
    "duration": 10,
    "start_time": "2023-07-06T15:15:22.834Z"
   },
   {
    "duration": 187,
    "start_time": "2023-07-06T15:15:22.845Z"
   },
   {
    "duration": 9,
    "start_time": "2023-07-06T15:15:23.035Z"
   },
   {
    "duration": 184,
    "start_time": "2023-07-06T15:15:23.046Z"
   },
   {
    "duration": 5,
    "start_time": "2023-07-06T15:15:23.232Z"
   },
   {
    "duration": 36,
    "start_time": "2023-07-06T15:15:23.241Z"
   },
   {
    "duration": 28,
    "start_time": "2023-07-06T15:15:23.280Z"
   },
   {
    "duration": 23,
    "start_time": "2023-07-06T15:15:23.310Z"
   },
   {
    "duration": 64,
    "start_time": "2023-07-06T15:15:23.335Z"
   },
   {
    "duration": 57,
    "start_time": "2023-07-06T15:15:23.402Z"
   },
   {
    "duration": 42,
    "start_time": "2023-07-06T15:15:23.461Z"
   },
   {
    "duration": 93,
    "start_time": "2023-07-06T15:15:23.505Z"
   },
   {
    "duration": 7,
    "start_time": "2023-07-06T15:15:23.600Z"
   },
   {
    "duration": 37,
    "start_time": "2023-07-06T15:15:23.608Z"
   },
   {
    "duration": 62,
    "start_time": "2023-07-06T15:15:23.648Z"
   },
   {
    "duration": 22,
    "start_time": "2023-07-06T15:15:23.712Z"
   },
   {
    "duration": 37,
    "start_time": "2023-07-06T15:15:23.737Z"
   },
   {
    "duration": 65,
    "start_time": "2023-07-06T15:15:23.777Z"
   },
   {
    "duration": 13,
    "start_time": "2023-07-06T15:15:23.845Z"
   },
   {
    "duration": 38,
    "start_time": "2023-07-06T15:15:23.861Z"
   },
   {
    "duration": 17,
    "start_time": "2023-07-06T15:15:23.902Z"
   },
   {
    "duration": 30,
    "start_time": "2023-07-06T15:15:23.924Z"
   },
   {
    "duration": 202,
    "start_time": "2023-07-06T15:15:23.956Z"
   },
   {
    "duration": 7,
    "start_time": "2023-07-06T15:15:24.161Z"
   },
   {
    "duration": 22,
    "start_time": "2023-07-06T15:15:24.169Z"
   },
   {
    "duration": 16,
    "start_time": "2023-07-06T15:15:24.193Z"
   },
   {
    "duration": 961,
    "start_time": "2023-07-06T15:15:24.210Z"
   },
   {
    "duration": 3,
    "start_time": "2023-07-06T15:15:25.173Z"
   },
   {
    "duration": 19,
    "start_time": "2023-07-06T15:15:25.178Z"
   },
   {
    "duration": 20,
    "start_time": "2023-07-06T15:15:25.199Z"
   },
   {
    "duration": 708,
    "start_time": "2023-07-06T15:16:52.894Z"
   },
   {
    "duration": 16,
    "start_time": "2023-07-06T15:16:53.605Z"
   },
   {
    "duration": 55,
    "start_time": "2023-07-06T15:16:53.622Z"
   },
   {
    "duration": 61,
    "start_time": "2023-07-06T15:16:53.679Z"
   },
   {
    "duration": 28,
    "start_time": "2023-07-06T15:16:53.743Z"
   },
   {
    "duration": 32,
    "start_time": "2023-07-06T15:16:53.774Z"
   },
   {
    "duration": 48,
    "start_time": "2023-07-06T15:16:53.809Z"
   },
   {
    "duration": 25,
    "start_time": "2023-07-06T15:16:53.866Z"
   },
   {
    "duration": 25,
    "start_time": "2023-07-06T15:16:53.893Z"
   },
   {
    "duration": 32,
    "start_time": "2023-07-06T15:16:53.920Z"
   },
   {
    "duration": 52,
    "start_time": "2023-07-06T15:16:53.958Z"
   },
   {
    "duration": 60,
    "start_time": "2023-07-06T15:16:54.012Z"
   },
   {
    "duration": 30,
    "start_time": "2023-07-06T15:16:54.074Z"
   },
   {
    "duration": 46,
    "start_time": "2023-07-06T15:16:54.108Z"
   },
   {
    "duration": 43,
    "start_time": "2023-07-06T15:16:54.159Z"
   },
   {
    "duration": 26,
    "start_time": "2023-07-06T15:16:54.204Z"
   },
   {
    "duration": 7,
    "start_time": "2023-07-06T15:16:54.233Z"
   },
   {
    "duration": 29,
    "start_time": "2023-07-06T15:16:54.241Z"
   },
   {
    "duration": 32,
    "start_time": "2023-07-06T15:16:54.272Z"
   },
   {
    "duration": 7,
    "start_time": "2023-07-06T15:16:54.306Z"
   },
   {
    "duration": 18,
    "start_time": "2023-07-06T15:16:54.315Z"
   },
   {
    "duration": 626,
    "start_time": "2023-07-06T15:16:54.335Z"
   },
   {
    "duration": 14,
    "start_time": "2023-07-06T15:16:54.963Z"
   },
   {
    "duration": 290,
    "start_time": "2023-07-06T15:16:54.979Z"
   },
   {
    "duration": 15,
    "start_time": "2023-07-06T15:16:55.271Z"
   },
   {
    "duration": 223,
    "start_time": "2023-07-06T15:16:55.288Z"
   },
   {
    "duration": 8,
    "start_time": "2023-07-06T15:16:55.518Z"
   },
   {
    "duration": 30,
    "start_time": "2023-07-06T15:16:55.528Z"
   },
   {
    "duration": 14,
    "start_time": "2023-07-06T15:16:55.561Z"
   },
   {
    "duration": 11,
    "start_time": "2023-07-06T15:16:55.578Z"
   },
   {
    "duration": 71,
    "start_time": "2023-07-06T15:16:55.592Z"
   },
   {
    "duration": 88,
    "start_time": "2023-07-06T15:16:55.668Z"
   },
   {
    "duration": 8,
    "start_time": "2023-07-06T15:16:55.767Z"
   },
   {
    "duration": 39,
    "start_time": "2023-07-06T15:16:55.787Z"
   },
   {
    "duration": 10,
    "start_time": "2023-07-06T15:16:55.836Z"
   },
   {
    "duration": 51,
    "start_time": "2023-07-06T15:16:55.857Z"
   },
   {
    "duration": 144,
    "start_time": "2023-07-06T15:16:55.911Z"
   },
   {
    "duration": 12,
    "start_time": "2023-07-06T15:16:56.061Z"
   },
   {
    "duration": 14,
    "start_time": "2023-07-06T15:16:56.077Z"
   },
   {
    "duration": 74,
    "start_time": "2023-07-06T15:16:56.094Z"
   },
   {
    "duration": 18,
    "start_time": "2023-07-06T15:16:56.180Z"
   },
   {
    "duration": 18,
    "start_time": "2023-07-06T15:16:56.200Z"
   },
   {
    "duration": 4,
    "start_time": "2023-07-06T15:16:56.220Z"
   },
   {
    "duration": 33,
    "start_time": "2023-07-06T15:16:56.227Z"
   },
   {
    "duration": 235,
    "start_time": "2023-07-06T15:16:56.262Z"
   },
   {
    "duration": 7,
    "start_time": "2023-07-06T15:16:56.500Z"
   },
   {
    "duration": 21,
    "start_time": "2023-07-06T15:16:56.509Z"
   },
   {
    "duration": 9,
    "start_time": "2023-07-06T15:16:56.532Z"
   },
   {
    "duration": 146,
    "start_time": "2023-07-06T15:16:56.543Z"
   },
   {
    "duration": 0,
    "start_time": "2023-07-06T15:16:56.692Z"
   },
   {
    "duration": 0,
    "start_time": "2023-07-06T15:16:56.694Z"
   },
   {
    "duration": 0,
    "start_time": "2023-07-06T15:16:56.696Z"
   },
   {
    "duration": 10,
    "start_time": "2023-07-06T15:20:06.743Z"
   },
   {
    "duration": 9,
    "start_time": "2023-07-06T15:21:24.268Z"
   },
   {
    "duration": 43,
    "start_time": "2023-07-06T15:22:42.764Z"
   },
   {
    "duration": 10,
    "start_time": "2023-07-06T15:24:26.003Z"
   },
   {
    "duration": 14,
    "start_time": "2023-07-06T15:25:24.640Z"
   },
   {
    "duration": 250,
    "start_time": "2023-07-06T15:25:30.667Z"
   },
   {
    "duration": 14,
    "start_time": "2023-07-06T15:26:02.506Z"
   },
   {
    "duration": 10,
    "start_time": "2023-07-06T15:26:03.960Z"
   },
   {
    "duration": 190,
    "start_time": "2023-07-06T15:26:05.505Z"
   },
   {
    "duration": 10,
    "start_time": "2023-07-06T15:27:31.977Z"
   },
   {
    "duration": 11,
    "start_time": "2023-07-06T15:27:38.148Z"
   },
   {
    "duration": 594,
    "start_time": "2023-07-06T15:28:00.556Z"
   },
   {
    "duration": 13,
    "start_time": "2023-07-06T15:28:01.153Z"
   },
   {
    "duration": 88,
    "start_time": "2023-07-06T15:28:01.168Z"
   },
   {
    "duration": 77,
    "start_time": "2023-07-06T15:28:01.260Z"
   },
   {
    "duration": 30,
    "start_time": "2023-07-06T15:28:01.341Z"
   },
   {
    "duration": 78,
    "start_time": "2023-07-06T15:28:01.374Z"
   },
   {
    "duration": 33,
    "start_time": "2023-07-06T15:28:01.455Z"
   },
   {
    "duration": 116,
    "start_time": "2023-07-06T15:28:01.490Z"
   },
   {
    "duration": 48,
    "start_time": "2023-07-06T15:28:01.608Z"
   },
   {
    "duration": 141,
    "start_time": "2023-07-06T15:28:01.660Z"
   },
   {
    "duration": 108,
    "start_time": "2023-07-06T15:28:01.803Z"
   },
   {
    "duration": 60,
    "start_time": "2023-07-06T15:28:01.914Z"
   },
   {
    "duration": 81,
    "start_time": "2023-07-06T15:28:01.977Z"
   },
   {
    "duration": 26,
    "start_time": "2023-07-06T15:28:02.061Z"
   },
   {
    "duration": 54,
    "start_time": "2023-07-06T15:28:02.089Z"
   },
   {
    "duration": 51,
    "start_time": "2023-07-06T15:28:02.145Z"
   },
   {
    "duration": 49,
    "start_time": "2023-07-06T15:28:02.199Z"
   },
   {
    "duration": 60,
    "start_time": "2023-07-06T15:28:02.251Z"
   },
   {
    "duration": 47,
    "start_time": "2023-07-06T15:28:02.313Z"
   },
   {
    "duration": 30,
    "start_time": "2023-07-06T15:28:02.363Z"
   },
   {
    "duration": 55,
    "start_time": "2023-07-06T15:28:02.398Z"
   },
   {
    "duration": 652,
    "start_time": "2023-07-06T15:28:02.456Z"
   },
   {
    "duration": 17,
    "start_time": "2023-07-06T15:28:03.114Z"
   },
   {
    "duration": 190,
    "start_time": "2023-07-06T15:28:03.133Z"
   },
   {
    "duration": 15,
    "start_time": "2023-07-06T15:28:03.332Z"
   },
   {
    "duration": 186,
    "start_time": "2023-07-06T15:28:03.349Z"
   },
   {
    "duration": 6,
    "start_time": "2023-07-06T15:28:03.537Z"
   },
   {
    "duration": 10,
    "start_time": "2023-07-06T15:28:03.547Z"
   },
   {
    "duration": 23,
    "start_time": "2023-07-06T15:28:03.559Z"
   },
   {
    "duration": 17,
    "start_time": "2023-07-06T15:28:03.585Z"
   },
   {
    "duration": 56,
    "start_time": "2023-07-06T15:28:03.604Z"
   },
   {
    "duration": 27,
    "start_time": "2023-07-06T15:28:03.668Z"
   },
   {
    "duration": 8,
    "start_time": "2023-07-06T15:28:03.698Z"
   },
   {
    "duration": 34,
    "start_time": "2023-07-06T15:28:03.709Z"
   },
   {
    "duration": 8,
    "start_time": "2023-07-06T15:28:03.745Z"
   },
   {
    "duration": 48,
    "start_time": "2023-07-06T15:28:03.756Z"
   },
   {
    "duration": 74,
    "start_time": "2023-07-06T15:28:03.806Z"
   },
   {
    "duration": 5,
    "start_time": "2023-07-06T15:28:03.883Z"
   },
   {
    "duration": 34,
    "start_time": "2023-07-06T15:28:03.891Z"
   },
   {
    "duration": 44,
    "start_time": "2023-07-06T15:28:03.927Z"
   },
   {
    "duration": 30,
    "start_time": "2023-07-06T15:28:03.974Z"
   },
   {
    "duration": 89,
    "start_time": "2023-07-06T15:28:04.006Z"
   },
   {
    "duration": 26,
    "start_time": "2023-07-06T15:28:04.098Z"
   },
   {
    "duration": 50,
    "start_time": "2023-07-06T15:28:04.129Z"
   },
   {
    "duration": 295,
    "start_time": "2023-07-06T15:28:04.181Z"
   },
   {
    "duration": 8,
    "start_time": "2023-07-06T15:28:04.480Z"
   },
   {
    "duration": 7,
    "start_time": "2023-07-06T15:28:04.491Z"
   },
   {
    "duration": 22,
    "start_time": "2023-07-06T15:28:04.500Z"
   },
   {
    "duration": 23,
    "start_time": "2023-07-06T15:28:04.524Z"
   },
   {
    "duration": 284,
    "start_time": "2023-07-06T15:28:04.549Z"
   },
   {
    "duration": 15,
    "start_time": "2023-07-06T15:28:04.834Z"
   },
   {
    "duration": 16,
    "start_time": "2023-07-06T15:28:04.852Z"
   },
   {
    "duration": 22,
    "start_time": "2023-07-06T15:28:04.873Z"
   },
   {
    "duration": 14,
    "start_time": "2023-07-06T15:28:40.731Z"
   },
   {
    "duration": 19,
    "start_time": "2023-07-06T15:28:54.544Z"
   },
   {
    "duration": 17,
    "start_time": "2023-07-06T15:29:35.364Z"
   },
   {
    "duration": 19,
    "start_time": "2023-07-06T15:30:07.655Z"
   },
   {
    "duration": 464,
    "start_time": "2023-07-06T15:30:41.410Z"
   },
   {
    "duration": 7,
    "start_time": "2023-07-06T15:34:26.076Z"
   },
   {
    "duration": 39,
    "start_time": "2023-07-06T15:34:44.340Z"
   },
   {
    "duration": 16,
    "start_time": "2023-07-06T15:36:37.736Z"
   },
   {
    "duration": 218,
    "start_time": "2023-07-06T15:37:16.840Z"
   },
   {
    "duration": 1684,
    "start_time": "2023-07-06T15:38:35.316Z"
   },
   {
    "duration": 9,
    "start_time": "2023-07-06T15:38:46.332Z"
   },
   {
    "duration": 8,
    "start_time": "2023-07-06T15:39:04.641Z"
   },
   {
    "duration": 256,
    "start_time": "2023-07-06T15:39:46.739Z"
   },
   {
    "duration": 22,
    "start_time": "2023-07-06T15:40:12.514Z"
   },
   {
    "duration": 12,
    "start_time": "2023-07-06T15:40:39.740Z"
   },
   {
    "duration": 5,
    "start_time": "2023-07-06T15:43:04.627Z"
   },
   {
    "duration": 15,
    "start_time": "2023-07-06T15:43:18.645Z"
   },
   {
    "duration": 23,
    "start_time": "2023-07-06T15:43:40.808Z"
   },
   {
    "duration": 18,
    "start_time": "2023-07-06T15:44:00.068Z"
   },
   {
    "duration": 557,
    "start_time": "2023-07-06T15:44:12.247Z"
   },
   {
    "duration": 28,
    "start_time": "2023-07-06T15:44:12.806Z"
   },
   {
    "duration": 45,
    "start_time": "2023-07-06T15:44:12.836Z"
   },
   {
    "duration": 52,
    "start_time": "2023-07-06T15:44:12.883Z"
   },
   {
    "duration": 20,
    "start_time": "2023-07-06T15:44:12.939Z"
   },
   {
    "duration": 37,
    "start_time": "2023-07-06T15:44:12.962Z"
   },
   {
    "duration": 40,
    "start_time": "2023-07-06T15:44:13.001Z"
   },
   {
    "duration": 21,
    "start_time": "2023-07-06T15:44:13.043Z"
   },
   {
    "duration": 23,
    "start_time": "2023-07-06T15:44:13.066Z"
   },
   {
    "duration": 42,
    "start_time": "2023-07-06T15:44:13.091Z"
   },
   {
    "duration": 10,
    "start_time": "2023-07-06T15:44:13.135Z"
   },
   {
    "duration": 19,
    "start_time": "2023-07-06T15:44:13.148Z"
   },
   {
    "duration": 28,
    "start_time": "2023-07-06T15:44:13.170Z"
   },
   {
    "duration": 19,
    "start_time": "2023-07-06T15:44:13.203Z"
   },
   {
    "duration": 34,
    "start_time": "2023-07-06T15:44:13.226Z"
   },
   {
    "duration": 13,
    "start_time": "2023-07-06T15:44:13.262Z"
   },
   {
    "duration": 14,
    "start_time": "2023-07-06T15:44:13.277Z"
   },
   {
    "duration": 79,
    "start_time": "2023-07-06T15:44:13.293Z"
   },
   {
    "duration": 15,
    "start_time": "2023-07-06T15:44:13.374Z"
   },
   {
    "duration": 23,
    "start_time": "2023-07-06T15:44:13.391Z"
   },
   {
    "duration": 24,
    "start_time": "2023-07-06T15:44:13.422Z"
   },
   {
    "duration": 545,
    "start_time": "2023-07-06T15:44:13.447Z"
   },
   {
    "duration": 37,
    "start_time": "2023-07-06T15:44:13.994Z"
   },
   {
    "duration": 164,
    "start_time": "2023-07-06T15:44:14.034Z"
   },
   {
    "duration": 23,
    "start_time": "2023-07-06T15:44:14.200Z"
   },
   {
    "duration": 165,
    "start_time": "2023-07-06T15:44:14.224Z"
   },
   {
    "duration": 5,
    "start_time": "2023-07-06T15:44:14.392Z"
   },
   {
    "duration": 36,
    "start_time": "2023-07-06T15:44:14.400Z"
   },
   {
    "duration": 15,
    "start_time": "2023-07-06T15:44:14.438Z"
   },
   {
    "duration": 19,
    "start_time": "2023-07-06T15:44:14.456Z"
   },
   {
    "duration": 33,
    "start_time": "2023-07-06T15:44:14.478Z"
   },
   {
    "duration": 39,
    "start_time": "2023-07-06T15:44:14.515Z"
   },
   {
    "duration": 30,
    "start_time": "2023-07-06T15:44:14.556Z"
   },
   {
    "duration": 49,
    "start_time": "2023-07-06T15:44:14.588Z"
   },
   {
    "duration": 5,
    "start_time": "2023-07-06T15:44:14.640Z"
   },
   {
    "duration": 42,
    "start_time": "2023-07-06T15:44:14.647Z"
   },
   {
    "duration": 61,
    "start_time": "2023-07-06T15:44:14.691Z"
   },
   {
    "duration": 5,
    "start_time": "2023-07-06T15:44:14.753Z"
   },
   {
    "duration": 18,
    "start_time": "2023-07-06T15:44:14.760Z"
   },
   {
    "duration": 37,
    "start_time": "2023-07-06T15:44:14.780Z"
   },
   {
    "duration": 18,
    "start_time": "2023-07-06T15:44:14.823Z"
   },
   {
    "duration": 59,
    "start_time": "2023-07-06T15:44:14.843Z"
   },
   {
    "duration": 31,
    "start_time": "2023-07-06T15:44:14.904Z"
   },
   {
    "duration": 40,
    "start_time": "2023-07-06T15:44:14.937Z"
   },
   {
    "duration": 208,
    "start_time": "2023-07-06T15:44:14.979Z"
   },
   {
    "duration": 5,
    "start_time": "2023-07-06T15:44:15.189Z"
   },
   {
    "duration": 27,
    "start_time": "2023-07-06T15:44:15.196Z"
   },
   {
    "duration": 14,
    "start_time": "2023-07-06T15:44:15.225Z"
   },
   {
    "duration": 39,
    "start_time": "2023-07-06T15:44:15.241Z"
   },
   {
    "duration": 309,
    "start_time": "2023-07-06T15:44:15.282Z"
   },
   {
    "duration": 31,
    "start_time": "2023-07-06T15:44:15.593Z"
   },
   {
    "duration": 26,
    "start_time": "2023-07-06T15:44:15.627Z"
   },
   {
    "duration": 343,
    "start_time": "2023-07-06T15:44:15.655Z"
   },
   {
    "duration": 46,
    "start_time": "2023-07-06T15:44:16.001Z"
   },
   {
    "duration": 20,
    "start_time": "2023-07-06T15:44:16.049Z"
   },
   {
    "duration": 216,
    "start_time": "2023-07-06T15:44:16.071Z"
   },
   {
    "duration": 37,
    "start_time": "2023-07-06T15:44:16.290Z"
   },
   {
    "duration": 84,
    "start_time": "2023-07-06T15:44:16.329Z"
   },
   {
    "duration": 0,
    "start_time": "2023-07-06T15:44:16.423Z"
   },
   {
    "duration": 22,
    "start_time": "2023-07-06T15:45:47.955Z"
   },
   {
    "duration": 318,
    "start_time": "2023-07-06T15:46:38.333Z"
   },
   {
    "duration": 30,
    "start_time": "2023-07-06T15:48:02.011Z"
   },
   {
    "duration": 20,
    "start_time": "2023-07-06T15:49:24.061Z"
   },
   {
    "duration": 1130,
    "start_time": "2023-07-06T15:49:39.399Z"
   },
   {
    "duration": 17,
    "start_time": "2023-07-06T15:50:09.089Z"
   },
   {
    "duration": 6,
    "start_time": "2023-07-06T15:50:10.702Z"
   },
   {
    "duration": 224,
    "start_time": "2023-07-06T15:51:23.432Z"
   },
   {
    "duration": 169,
    "start_time": "2023-07-06T15:52:44.491Z"
   },
   {
    "duration": 178,
    "start_time": "2023-07-06T15:53:36.394Z"
   },
   {
    "duration": 223,
    "start_time": "2023-07-06T15:54:28.829Z"
   },
   {
    "duration": 172,
    "start_time": "2023-07-06T15:54:55.102Z"
   },
   {
    "duration": 14,
    "start_time": "2023-07-06T15:57:47.258Z"
   },
   {
    "duration": 17,
    "start_time": "2023-07-06T15:57:52.729Z"
   },
   {
    "duration": 185,
    "start_time": "2023-07-06T15:58:36.612Z"
   },
   {
    "duration": 4,
    "start_time": "2023-07-06T16:01:26.139Z"
   },
   {
    "duration": 475,
    "start_time": "2023-07-06T16:01:39.098Z"
   },
   {
    "duration": 19,
    "start_time": "2023-07-06T16:02:21.051Z"
   },
   {
    "duration": 26,
    "start_time": "2023-07-06T16:02:43.898Z"
   },
   {
    "duration": 29,
    "start_time": "2023-07-06T16:07:47.369Z"
   },
   {
    "duration": 33,
    "start_time": "2023-07-06T16:08:50.266Z"
   },
   {
    "duration": 16,
    "start_time": "2023-07-06T16:10:03.728Z"
   },
   {
    "duration": 43,
    "start_time": "2023-07-06T16:10:09.914Z"
   },
   {
    "duration": 7,
    "start_time": "2023-07-06T16:10:33.467Z"
   },
   {
    "duration": 9,
    "start_time": "2023-07-06T16:11:47.553Z"
   },
   {
    "duration": 8,
    "start_time": "2023-07-06T16:11:59.257Z"
   },
   {
    "duration": 8,
    "start_time": "2023-07-06T16:12:42.726Z"
   },
   {
    "duration": 8,
    "start_time": "2023-07-06T16:15:51.831Z"
   },
   {
    "duration": 10,
    "start_time": "2023-07-06T16:15:57.168Z"
   },
   {
    "duration": 45,
    "start_time": "2023-07-07T02:31:09.131Z"
   },
   {
    "duration": 783,
    "start_time": "2023-07-07T02:31:24.363Z"
   },
   {
    "duration": 9,
    "start_time": "2023-07-07T02:31:25.148Z"
   },
   {
    "duration": 24,
    "start_time": "2023-07-07T02:31:25.158Z"
   },
   {
    "duration": 34,
    "start_time": "2023-07-07T02:31:25.184Z"
   },
   {
    "duration": 16,
    "start_time": "2023-07-07T02:31:25.220Z"
   },
   {
    "duration": 19,
    "start_time": "2023-07-07T02:31:25.237Z"
   },
   {
    "duration": 8,
    "start_time": "2023-07-07T02:31:25.257Z"
   },
   {
    "duration": 34,
    "start_time": "2023-07-07T02:31:25.266Z"
   },
   {
    "duration": 8,
    "start_time": "2023-07-07T02:31:25.302Z"
   },
   {
    "duration": 34,
    "start_time": "2023-07-07T02:31:25.314Z"
   },
   {
    "duration": 11,
    "start_time": "2023-07-07T02:31:25.349Z"
   },
   {
    "duration": 49,
    "start_time": "2023-07-07T02:31:25.361Z"
   },
   {
    "duration": 35,
    "start_time": "2023-07-07T02:31:25.412Z"
   },
   {
    "duration": 10,
    "start_time": "2023-07-07T02:31:25.448Z"
   },
   {
    "duration": 16,
    "start_time": "2023-07-07T02:31:25.460Z"
   },
   {
    "duration": 9,
    "start_time": "2023-07-07T02:31:25.478Z"
   },
   {
    "duration": 11,
    "start_time": "2023-07-07T02:31:25.488Z"
   },
   {
    "duration": 31,
    "start_time": "2023-07-07T02:31:25.500Z"
   },
   {
    "duration": 12,
    "start_time": "2023-07-07T02:31:25.532Z"
   },
   {
    "duration": 10,
    "start_time": "2023-07-07T02:31:25.545Z"
   },
   {
    "duration": 570,
    "start_time": "2023-07-07T02:31:25.556Z"
   },
   {
    "duration": 10,
    "start_time": "2023-07-07T02:31:26.128Z"
   },
   {
    "duration": 154,
    "start_time": "2023-07-07T02:31:26.139Z"
   },
   {
    "duration": 11,
    "start_time": "2023-07-07T02:31:26.300Z"
   },
   {
    "duration": 130,
    "start_time": "2023-07-07T02:31:26.314Z"
   },
   {
    "duration": 5,
    "start_time": "2023-07-07T02:31:26.445Z"
   },
   {
    "duration": 37,
    "start_time": "2023-07-07T02:31:26.451Z"
   },
   {
    "duration": 16,
    "start_time": "2023-07-07T02:31:26.491Z"
   },
   {
    "duration": 25,
    "start_time": "2023-07-07T02:31:26.509Z"
   },
   {
    "duration": 18,
    "start_time": "2023-07-07T02:31:26.535Z"
   },
   {
    "duration": 15,
    "start_time": "2023-07-07T02:31:26.555Z"
   },
   {
    "duration": 2,
    "start_time": "2023-07-07T02:31:26.571Z"
   },
   {
    "duration": 22,
    "start_time": "2023-07-07T02:31:26.574Z"
   },
   {
    "duration": 4,
    "start_time": "2023-07-07T02:31:26.598Z"
   },
   {
    "duration": 32,
    "start_time": "2023-07-07T02:31:26.603Z"
   },
   {
    "duration": 35,
    "start_time": "2023-07-07T02:31:26.637Z"
   },
   {
    "duration": 4,
    "start_time": "2023-07-07T02:31:26.673Z"
   },
   {
    "duration": 22,
    "start_time": "2023-07-07T02:31:26.678Z"
   },
   {
    "duration": 25,
    "start_time": "2023-07-07T02:31:26.703Z"
   },
   {
    "duration": 8,
    "start_time": "2023-07-07T02:31:26.729Z"
   },
   {
    "duration": 16,
    "start_time": "2023-07-07T02:31:26.738Z"
   },
   {
    "duration": 20,
    "start_time": "2023-07-07T02:31:26.755Z"
   },
   {
    "duration": 34,
    "start_time": "2023-07-07T02:31:26.776Z"
   },
   {
    "duration": 154,
    "start_time": "2023-07-07T02:31:26.812Z"
   },
   {
    "duration": 5,
    "start_time": "2023-07-07T02:31:26.968Z"
   },
   {
    "duration": 9,
    "start_time": "2023-07-07T02:31:26.974Z"
   },
   {
    "duration": 16,
    "start_time": "2023-07-07T02:31:26.984Z"
   },
   {
    "duration": 29,
    "start_time": "2023-07-07T02:31:27.002Z"
   },
   {
    "duration": 199,
    "start_time": "2023-07-07T02:31:27.032Z"
   },
   {
    "duration": 10,
    "start_time": "2023-07-07T02:31:27.232Z"
   },
   {
    "duration": 48,
    "start_time": "2023-07-07T02:31:27.244Z"
   },
   {
    "duration": 253,
    "start_time": "2023-07-07T02:31:27.294Z"
   },
   {
    "duration": 18,
    "start_time": "2023-07-07T02:31:27.548Z"
   },
   {
    "duration": 11,
    "start_time": "2023-07-07T02:31:27.568Z"
   },
   {
    "duration": 30,
    "start_time": "2023-07-07T02:31:27.581Z"
   },
   {
    "duration": 168,
    "start_time": "2023-07-07T02:31:27.613Z"
   },
   {
    "duration": 10,
    "start_time": "2023-07-07T02:31:27.783Z"
   },
   {
    "duration": 16,
    "start_time": "2023-07-07T02:31:27.799Z"
   },
   {
    "duration": 11,
    "start_time": "2023-07-07T02:31:27.816Z"
   },
   {
    "duration": 138,
    "start_time": "2023-07-07T02:31:27.829Z"
   },
   {
    "duration": 143,
    "start_time": "2023-07-07T02:31:27.969Z"
   },
   {
    "duration": 17,
    "start_time": "2023-07-07T02:31:28.115Z"
   },
   {
    "duration": 19,
    "start_time": "2023-07-07T02:31:28.133Z"
   },
   {
    "duration": 9,
    "start_time": "2023-07-07T02:31:28.154Z"
   },
   {
    "duration": 8,
    "start_time": "2023-07-07T02:31:28.165Z"
   },
   {
    "duration": 32,
    "start_time": "2023-07-07T02:31:28.175Z"
   },
   {
    "duration": 154,
    "start_time": "2023-07-07T02:31:28.208Z"
   },
   {
    "duration": 8,
    "start_time": "2023-07-07T02:34:18.335Z"
   },
   {
    "duration": 18,
    "start_time": "2023-07-07T02:38:16.021Z"
   },
   {
    "duration": 7,
    "start_time": "2023-07-07T02:38:54.491Z"
   },
   {
    "duration": 16,
    "start_time": "2023-07-07T02:38:57.723Z"
   },
   {
    "duration": 83,
    "start_time": "2023-07-07T02:39:43.498Z"
   },
   {
    "duration": 11,
    "start_time": "2023-07-07T02:41:57.913Z"
   },
   {
    "duration": 9,
    "start_time": "2023-07-07T02:42:10.445Z"
   },
   {
    "duration": 20,
    "start_time": "2023-07-07T02:42:13.887Z"
   },
   {
    "duration": 571,
    "start_time": "2023-07-07T02:43:56.381Z"
   },
   {
    "duration": 11,
    "start_time": "2023-07-07T02:43:56.954Z"
   },
   {
    "duration": 29,
    "start_time": "2023-07-07T02:43:56.966Z"
   },
   {
    "duration": 52,
    "start_time": "2023-07-07T02:43:56.998Z"
   },
   {
    "duration": 14,
    "start_time": "2023-07-07T02:43:57.051Z"
   },
   {
    "duration": 46,
    "start_time": "2023-07-07T02:43:57.067Z"
   },
   {
    "duration": 11,
    "start_time": "2023-07-07T02:43:57.114Z"
   },
   {
    "duration": 13,
    "start_time": "2023-07-07T02:43:57.126Z"
   },
   {
    "duration": 8,
    "start_time": "2023-07-07T02:43:57.141Z"
   },
   {
    "duration": 9,
    "start_time": "2023-07-07T02:43:57.151Z"
   },
   {
    "duration": 17,
    "start_time": "2023-07-07T02:43:57.162Z"
   },
   {
    "duration": 36,
    "start_time": "2023-07-07T02:43:57.181Z"
   },
   {
    "duration": 12,
    "start_time": "2023-07-07T02:43:57.218Z"
   },
   {
    "duration": 14,
    "start_time": "2023-07-07T02:43:57.231Z"
   },
   {
    "duration": 7,
    "start_time": "2023-07-07T02:43:57.247Z"
   },
   {
    "duration": 20,
    "start_time": "2023-07-07T02:43:57.255Z"
   },
   {
    "duration": 12,
    "start_time": "2023-07-07T02:43:57.276Z"
   },
   {
    "duration": 3,
    "start_time": "2023-07-07T02:43:57.290Z"
   },
   {
    "duration": 34,
    "start_time": "2023-07-07T02:43:57.295Z"
   },
   {
    "duration": 411,
    "start_time": "2023-07-07T02:43:57.331Z"
   },
   {
    "duration": 8,
    "start_time": "2023-07-07T02:43:57.744Z"
   },
   {
    "duration": 145,
    "start_time": "2023-07-07T02:43:57.754Z"
   },
   {
    "duration": 15,
    "start_time": "2023-07-07T02:43:57.906Z"
   },
   {
    "duration": 128,
    "start_time": "2023-07-07T02:43:57.924Z"
   },
   {
    "duration": 5,
    "start_time": "2023-07-07T02:43:58.054Z"
   },
   {
    "duration": 20,
    "start_time": "2023-07-07T02:43:58.061Z"
   },
   {
    "duration": 43,
    "start_time": "2023-07-07T02:43:58.083Z"
   },
   {
    "duration": 7,
    "start_time": "2023-07-07T02:43:58.131Z"
   },
   {
    "duration": 40,
    "start_time": "2023-07-07T02:43:58.140Z"
   },
   {
    "duration": 40,
    "start_time": "2023-07-07T02:43:58.181Z"
   },
   {
    "duration": 7,
    "start_time": "2023-07-07T02:43:58.223Z"
   },
   {
    "duration": 21,
    "start_time": "2023-07-07T02:43:58.232Z"
   },
   {
    "duration": 2,
    "start_time": "2023-07-07T02:43:58.255Z"
   },
   {
    "duration": 25,
    "start_time": "2023-07-07T02:43:58.258Z"
   },
   {
    "duration": 55,
    "start_time": "2023-07-07T02:43:58.285Z"
   },
   {
    "duration": 6,
    "start_time": "2023-07-07T02:43:58.341Z"
   },
   {
    "duration": 27,
    "start_time": "2023-07-07T02:43:58.348Z"
   },
   {
    "duration": 36,
    "start_time": "2023-07-07T02:43:58.377Z"
   },
   {
    "duration": 19,
    "start_time": "2023-07-07T02:43:58.415Z"
   },
   {
    "duration": 19,
    "start_time": "2023-07-07T02:43:58.435Z"
   },
   {
    "duration": 15,
    "start_time": "2023-07-07T02:43:58.455Z"
   },
   {
    "duration": 37,
    "start_time": "2023-07-07T02:43:58.472Z"
   },
   {
    "duration": 162,
    "start_time": "2023-07-07T02:43:58.510Z"
   },
   {
    "duration": 5,
    "start_time": "2023-07-07T02:43:58.674Z"
   },
   {
    "duration": 16,
    "start_time": "2023-07-07T02:43:58.681Z"
   },
   {
    "duration": 39,
    "start_time": "2023-07-07T02:43:58.698Z"
   },
   {
    "duration": 16,
    "start_time": "2023-07-07T02:43:58.738Z"
   },
   {
    "duration": 187,
    "start_time": "2023-07-07T02:43:58.755Z"
   },
   {
    "duration": 11,
    "start_time": "2023-07-07T02:43:58.944Z"
   },
   {
    "duration": 18,
    "start_time": "2023-07-07T02:43:58.956Z"
   },
   {
    "duration": 307,
    "start_time": "2023-07-07T02:43:58.975Z"
   },
   {
    "duration": 40,
    "start_time": "2023-07-07T02:43:59.283Z"
   },
   {
    "duration": 11,
    "start_time": "2023-07-07T02:43:59.325Z"
   },
   {
    "duration": 14,
    "start_time": "2023-07-07T02:43:59.337Z"
   },
   {
    "duration": 177,
    "start_time": "2023-07-07T02:43:59.353Z"
   },
   {
    "duration": 15,
    "start_time": "2023-07-07T02:43:59.532Z"
   },
   {
    "duration": 24,
    "start_time": "2023-07-07T02:43:59.549Z"
   },
   {
    "duration": 11,
    "start_time": "2023-07-07T02:43:59.575Z"
   },
   {
    "duration": 139,
    "start_time": "2023-07-07T02:43:59.588Z"
   },
   {
    "duration": 146,
    "start_time": "2023-07-07T02:43:59.728Z"
   },
   {
    "duration": 15,
    "start_time": "2023-07-07T02:43:59.876Z"
   },
   {
    "duration": 47,
    "start_time": "2023-07-07T02:43:59.893Z"
   },
   {
    "duration": 15,
    "start_time": "2023-07-07T02:43:59.942Z"
   },
   {
    "duration": 10,
    "start_time": "2023-07-07T02:43:59.958Z"
   },
   {
    "duration": 19,
    "start_time": "2023-07-07T02:43:59.969Z"
   },
   {
    "duration": 162,
    "start_time": "2023-07-07T02:43:59.990Z"
   },
   {
    "duration": 14,
    "start_time": "2023-07-07T02:49:07.769Z"
   },
   {
    "duration": 5,
    "start_time": "2023-07-07T02:50:34.023Z"
   },
   {
    "duration": 6,
    "start_time": "2023-07-07T02:51:29.434Z"
   },
   {
    "duration": 4,
    "start_time": "2023-07-07T03:05:21.958Z"
   },
   {
    "duration": 4,
    "start_time": "2023-07-07T03:06:57.057Z"
   },
   {
    "duration": 4,
    "start_time": "2023-07-07T03:07:13.054Z"
   },
   {
    "duration": 207,
    "start_time": "2023-07-07T03:08:58.770Z"
   },
   {
    "duration": 6,
    "start_time": "2023-07-07T03:09:08.366Z"
   },
   {
    "duration": 3,
    "start_time": "2023-07-07T03:09:41.559Z"
   },
   {
    "duration": 4,
    "start_time": "2023-07-07T03:09:43.744Z"
   },
   {
    "duration": 5,
    "start_time": "2023-07-07T03:09:50.734Z"
   },
   {
    "duration": 5,
    "start_time": "2023-07-07T03:11:44.875Z"
   },
   {
    "duration": 7,
    "start_time": "2023-07-07T03:13:10.642Z"
   },
   {
    "duration": 8,
    "start_time": "2023-07-07T03:14:29.825Z"
   },
   {
    "duration": 26,
    "start_time": "2023-07-07T03:22:26.259Z"
   },
   {
    "duration": 6,
    "start_time": "2023-07-07T03:22:36.652Z"
   },
   {
    "duration": 27,
    "start_time": "2023-07-07T03:22:38.758Z"
   },
   {
    "duration": 166,
    "start_time": "2023-07-07T03:25:28.425Z"
   },
   {
    "duration": 202,
    "start_time": "2023-07-07T03:27:07.057Z"
   },
   {
    "duration": 207,
    "start_time": "2023-07-07T03:34:59.276Z"
   },
   {
    "duration": 18,
    "start_time": "2023-07-07T03:36:25.134Z"
   },
   {
    "duration": 10,
    "start_time": "2023-07-07T03:36:50.250Z"
   },
   {
    "duration": 87,
    "start_time": "2023-07-07T05:06:06.838Z"
   },
   {
    "duration": 19,
    "start_time": "2023-07-07T05:06:19.018Z"
   },
   {
    "duration": 18,
    "start_time": "2023-07-07T05:06:25.329Z"
   },
   {
    "duration": 837,
    "start_time": "2023-07-07T05:06:48.422Z"
   },
   {
    "duration": 10,
    "start_time": "2023-07-07T05:06:49.261Z"
   },
   {
    "duration": 41,
    "start_time": "2023-07-07T05:06:49.272Z"
   },
   {
    "duration": 31,
    "start_time": "2023-07-07T05:06:49.322Z"
   },
   {
    "duration": 15,
    "start_time": "2023-07-07T05:06:49.355Z"
   },
   {
    "duration": 20,
    "start_time": "2023-07-07T05:06:49.371Z"
   },
   {
    "duration": 37,
    "start_time": "2023-07-07T05:06:49.392Z"
   },
   {
    "duration": 14,
    "start_time": "2023-07-07T05:06:49.434Z"
   },
   {
    "duration": 6,
    "start_time": "2023-07-07T05:06:49.450Z"
   },
   {
    "duration": 11,
    "start_time": "2023-07-07T05:06:49.458Z"
   },
   {
    "duration": 24,
    "start_time": "2023-07-07T05:06:49.470Z"
   },
   {
    "duration": 60,
    "start_time": "2023-07-07T05:06:49.496Z"
   },
   {
    "duration": 12,
    "start_time": "2023-07-07T05:06:49.558Z"
   },
   {
    "duration": 14,
    "start_time": "2023-07-07T05:06:49.573Z"
   },
   {
    "duration": 45,
    "start_time": "2023-07-07T05:06:49.588Z"
   },
   {
    "duration": 10,
    "start_time": "2023-07-07T05:06:49.634Z"
   },
   {
    "duration": 8,
    "start_time": "2023-07-07T05:06:49.645Z"
   },
   {
    "duration": 8,
    "start_time": "2023-07-07T05:06:49.655Z"
   },
   {
    "duration": 15,
    "start_time": "2023-07-07T05:06:49.664Z"
   },
   {
    "duration": 12,
    "start_time": "2023-07-07T05:06:49.680Z"
   },
   {
    "duration": 39,
    "start_time": "2023-07-07T05:06:49.693Z"
   },
   {
    "duration": 9,
    "start_time": "2023-07-07T05:06:49.733Z"
   },
   {
    "duration": 394,
    "start_time": "2023-07-07T05:06:49.744Z"
   },
   {
    "duration": 10,
    "start_time": "2023-07-07T05:06:50.140Z"
   },
   {
    "duration": 182,
    "start_time": "2023-07-07T05:06:50.152Z"
   },
   {
    "duration": 8,
    "start_time": "2023-07-07T05:06:50.335Z"
   },
   {
    "duration": 130,
    "start_time": "2023-07-07T05:06:50.344Z"
   },
   {
    "duration": 4,
    "start_time": "2023-07-07T05:06:50.476Z"
   },
   {
    "duration": 23,
    "start_time": "2023-07-07T05:06:50.483Z"
   },
   {
    "duration": 40,
    "start_time": "2023-07-07T05:06:50.509Z"
   },
   {
    "duration": 21,
    "start_time": "2023-07-07T05:06:50.551Z"
   },
   {
    "duration": 72,
    "start_time": "2023-07-07T05:06:50.573Z"
   },
   {
    "duration": 21,
    "start_time": "2023-07-07T05:06:50.647Z"
   },
   {
    "duration": 180,
    "start_time": "2023-07-07T05:06:50.670Z"
   },
   {
    "duration": 241,
    "start_time": "2023-07-07T05:06:50.851Z"
   },
   {
    "duration": 41,
    "start_time": "2023-07-07T05:06:51.093Z"
   },
   {
    "duration": 18,
    "start_time": "2023-07-07T05:06:51.136Z"
   },
   {
    "duration": 2370,
    "start_time": "2023-07-07T05:06:51.155Z"
   },
   {
    "duration": 0,
    "start_time": "2023-07-07T05:06:53.534Z"
   },
   {
    "duration": 0,
    "start_time": "2023-07-07T05:06:53.535Z"
   },
   {
    "duration": 0,
    "start_time": "2023-07-07T05:06:53.536Z"
   },
   {
    "duration": 0,
    "start_time": "2023-07-07T05:06:53.537Z"
   },
   {
    "duration": 0,
    "start_time": "2023-07-07T05:06:53.539Z"
   },
   {
    "duration": 0,
    "start_time": "2023-07-07T05:06:53.540Z"
   },
   {
    "duration": 0,
    "start_time": "2023-07-07T05:06:53.541Z"
   },
   {
    "duration": 0,
    "start_time": "2023-07-07T05:06:53.543Z"
   },
   {
    "duration": 0,
    "start_time": "2023-07-07T05:06:53.544Z"
   },
   {
    "duration": 0,
    "start_time": "2023-07-07T05:06:53.546Z"
   },
   {
    "duration": 0,
    "start_time": "2023-07-07T05:06:53.547Z"
   },
   {
    "duration": 0,
    "start_time": "2023-07-07T05:06:53.548Z"
   },
   {
    "duration": 0,
    "start_time": "2023-07-07T05:06:53.549Z"
   },
   {
    "duration": 0,
    "start_time": "2023-07-07T05:06:53.550Z"
   },
   {
    "duration": 0,
    "start_time": "2023-07-07T05:06:53.551Z"
   },
   {
    "duration": 0,
    "start_time": "2023-07-07T05:06:53.553Z"
   },
   {
    "duration": 0,
    "start_time": "2023-07-07T05:06:53.555Z"
   },
   {
    "duration": 0,
    "start_time": "2023-07-07T05:06:53.556Z"
   },
   {
    "duration": 0,
    "start_time": "2023-07-07T05:06:53.558Z"
   },
   {
    "duration": 0,
    "start_time": "2023-07-07T05:06:53.559Z"
   },
   {
    "duration": 0,
    "start_time": "2023-07-07T05:06:53.561Z"
   },
   {
    "duration": 0,
    "start_time": "2023-07-07T05:06:53.562Z"
   },
   {
    "duration": 0,
    "start_time": "2023-07-07T05:06:53.563Z"
   },
   {
    "duration": 0,
    "start_time": "2023-07-07T05:06:53.565Z"
   },
   {
    "duration": 0,
    "start_time": "2023-07-07T05:06:53.566Z"
   },
   {
    "duration": 0,
    "start_time": "2023-07-07T05:06:53.567Z"
   },
   {
    "duration": 0,
    "start_time": "2023-07-07T05:06:53.568Z"
   },
   {
    "duration": 0,
    "start_time": "2023-07-07T05:06:53.570Z"
   },
   {
    "duration": 0,
    "start_time": "2023-07-07T05:06:53.572Z"
   },
   {
    "duration": 0,
    "start_time": "2023-07-07T05:06:53.573Z"
   },
   {
    "duration": 0,
    "start_time": "2023-07-07T05:06:53.600Z"
   },
   {
    "duration": 0,
    "start_time": "2023-07-07T05:06:53.601Z"
   },
   {
    "duration": 0,
    "start_time": "2023-07-07T05:06:53.602Z"
   },
   {
    "duration": 0,
    "start_time": "2023-07-07T05:06:53.603Z"
   },
   {
    "duration": 603,
    "start_time": "2023-07-07T05:26:59.179Z"
   },
   {
    "duration": 28,
    "start_time": "2023-07-07T05:26:59.785Z"
   },
   {
    "duration": 74,
    "start_time": "2023-07-07T05:26:59.815Z"
   },
   {
    "duration": 31,
    "start_time": "2023-07-07T05:26:59.892Z"
   },
   {
    "duration": 46,
    "start_time": "2023-07-07T05:26:59.925Z"
   },
   {
    "duration": 33,
    "start_time": "2023-07-07T05:26:59.973Z"
   },
   {
    "duration": 26,
    "start_time": "2023-07-07T05:27:00.021Z"
   },
   {
    "duration": 21,
    "start_time": "2023-07-07T05:27:00.049Z"
   },
   {
    "duration": 7,
    "start_time": "2023-07-07T05:27:00.072Z"
   },
   {
    "duration": 58,
    "start_time": "2023-07-07T05:27:00.082Z"
   },
   {
    "duration": 30,
    "start_time": "2023-07-07T05:27:00.142Z"
   },
   {
    "duration": 52,
    "start_time": "2023-07-07T05:27:00.174Z"
   },
   {
    "duration": 30,
    "start_time": "2023-07-07T05:27:00.229Z"
   },
   {
    "duration": 53,
    "start_time": "2023-07-07T05:27:00.261Z"
   },
   {
    "duration": 50,
    "start_time": "2023-07-07T05:27:00.316Z"
   },
   {
    "duration": 62,
    "start_time": "2023-07-07T05:27:00.368Z"
   },
   {
    "duration": 22,
    "start_time": "2023-07-07T05:27:00.432Z"
   },
   {
    "duration": 28,
    "start_time": "2023-07-07T05:27:00.456Z"
   },
   {
    "duration": 65,
    "start_time": "2023-07-07T05:27:00.485Z"
   },
   {
    "duration": 47,
    "start_time": "2023-07-07T05:27:00.551Z"
   },
   {
    "duration": 82,
    "start_time": "2023-07-07T05:27:00.600Z"
   },
   {
    "duration": 95,
    "start_time": "2023-07-07T05:27:00.685Z"
   },
   {
    "duration": 579,
    "start_time": "2023-07-07T05:27:00.782Z"
   },
   {
    "duration": 11,
    "start_time": "2023-07-07T05:27:01.362Z"
   },
   {
    "duration": 291,
    "start_time": "2023-07-07T05:27:01.375Z"
   },
   {
    "duration": 8,
    "start_time": "2023-07-07T05:27:01.669Z"
   },
   {
    "duration": 192,
    "start_time": "2023-07-07T05:27:01.679Z"
   },
   {
    "duration": 5,
    "start_time": "2023-07-07T05:27:01.876Z"
   },
   {
    "duration": 52,
    "start_time": "2023-07-07T05:27:01.883Z"
   },
   {
    "duration": 20,
    "start_time": "2023-07-07T05:27:01.938Z"
   },
   {
    "duration": 30,
    "start_time": "2023-07-07T05:27:01.960Z"
   },
   {
    "duration": 76,
    "start_time": "2023-07-07T05:27:01.991Z"
   },
   {
    "duration": 43,
    "start_time": "2023-07-07T05:27:02.069Z"
   },
   {
    "duration": 217,
    "start_time": "2023-07-07T05:27:02.113Z"
   },
   {
    "duration": 198,
    "start_time": "2023-07-07T05:27:02.332Z"
   },
   {
    "duration": 16,
    "start_time": "2023-07-07T05:27:02.532Z"
   },
   {
    "duration": 44,
    "start_time": "2023-07-07T05:27:02.550Z"
   },
   {
    "duration": 2742,
    "start_time": "2023-07-07T05:27:02.596Z"
   },
   {
    "duration": 0,
    "start_time": "2023-07-07T05:27:05.340Z"
   },
   {
    "duration": 0,
    "start_time": "2023-07-07T05:27:05.342Z"
   },
   {
    "duration": 0,
    "start_time": "2023-07-07T05:27:05.343Z"
   },
   {
    "duration": 0,
    "start_time": "2023-07-07T05:27:05.345Z"
   },
   {
    "duration": 0,
    "start_time": "2023-07-07T05:27:05.346Z"
   },
   {
    "duration": 0,
    "start_time": "2023-07-07T05:27:05.348Z"
   },
   {
    "duration": 0,
    "start_time": "2023-07-07T05:27:05.350Z"
   },
   {
    "duration": 0,
    "start_time": "2023-07-07T05:27:05.351Z"
   },
   {
    "duration": 0,
    "start_time": "2023-07-07T05:27:05.352Z"
   },
   {
    "duration": 0,
    "start_time": "2023-07-07T05:27:05.354Z"
   },
   {
    "duration": 0,
    "start_time": "2023-07-07T05:27:05.355Z"
   },
   {
    "duration": 0,
    "start_time": "2023-07-07T05:27:05.356Z"
   },
   {
    "duration": 0,
    "start_time": "2023-07-07T05:27:05.357Z"
   },
   {
    "duration": 0,
    "start_time": "2023-07-07T05:27:05.358Z"
   },
   {
    "duration": 0,
    "start_time": "2023-07-07T05:27:05.359Z"
   },
   {
    "duration": 0,
    "start_time": "2023-07-07T05:27:05.360Z"
   },
   {
    "duration": 0,
    "start_time": "2023-07-07T05:27:05.361Z"
   },
   {
    "duration": 0,
    "start_time": "2023-07-07T05:27:05.362Z"
   },
   {
    "duration": 0,
    "start_time": "2023-07-07T05:27:05.436Z"
   },
   {
    "duration": 0,
    "start_time": "2023-07-07T05:27:05.438Z"
   },
   {
    "duration": 0,
    "start_time": "2023-07-07T05:27:05.439Z"
   },
   {
    "duration": 0,
    "start_time": "2023-07-07T05:27:05.441Z"
   },
   {
    "duration": 0,
    "start_time": "2023-07-07T05:27:05.443Z"
   },
   {
    "duration": 0,
    "start_time": "2023-07-07T05:27:05.444Z"
   },
   {
    "duration": 0,
    "start_time": "2023-07-07T05:27:05.446Z"
   },
   {
    "duration": 0,
    "start_time": "2023-07-07T05:27:05.447Z"
   },
   {
    "duration": 0,
    "start_time": "2023-07-07T05:27:05.449Z"
   },
   {
    "duration": 0,
    "start_time": "2023-07-07T05:27:05.450Z"
   },
   {
    "duration": 0,
    "start_time": "2023-07-07T05:27:05.452Z"
   },
   {
    "duration": 1,
    "start_time": "2023-07-07T05:27:05.453Z"
   },
   {
    "duration": 0,
    "start_time": "2023-07-07T05:27:05.455Z"
   },
   {
    "duration": 0,
    "start_time": "2023-07-07T05:27:05.457Z"
   },
   {
    "duration": 0,
    "start_time": "2023-07-07T05:27:05.499Z"
   },
   {
    "duration": 0,
    "start_time": "2023-07-07T05:27:05.500Z"
   },
   {
    "duration": 177,
    "start_time": "2023-07-07T05:28:22.400Z"
   },
   {
    "duration": 22,
    "start_time": "2023-07-07T05:28:26.955Z"
   },
   {
    "duration": 42,
    "start_time": "2023-07-07T05:28:28.927Z"
   },
   {
    "duration": 12,
    "start_time": "2023-07-07T05:28:30.724Z"
   },
   {
    "duration": 87,
    "start_time": "2023-07-07T05:29:11.796Z"
   },
   {
    "duration": 4,
    "start_time": "2023-07-07T05:29:53.503Z"
   },
   {
    "duration": 174,
    "start_time": "2023-07-07T05:30:40.951Z"
   },
   {
    "duration": 908,
    "start_time": "2023-07-07T05:30:50.731Z"
   },
   {
    "duration": 117,
    "start_time": "2023-07-07T05:32:40.182Z"
   },
   {
    "duration": 47,
    "start_time": "2023-07-07T05:36:33.267Z"
   },
   {
    "duration": 9,
    "start_time": "2023-07-07T05:41:49.922Z"
   },
   {
    "duration": 15,
    "start_time": "2023-07-07T05:41:52.867Z"
   },
   {
    "duration": 2,
    "start_time": "2023-07-07T05:43:11.935Z"
   },
   {
    "duration": 20,
    "start_time": "2023-07-07T05:43:15.031Z"
   },
   {
    "duration": 11,
    "start_time": "2023-07-07T05:45:07.995Z"
   },
   {
    "duration": 3,
    "start_time": "2023-07-07T05:45:24.086Z"
   },
   {
    "duration": 4,
    "start_time": "2023-07-07T05:45:26.527Z"
   },
   {
    "duration": 6,
    "start_time": "2023-07-07T05:45:33.942Z"
   },
   {
    "duration": 11,
    "start_time": "2023-07-07T05:46:12.799Z"
   },
   {
    "duration": 6,
    "start_time": "2023-07-07T05:46:29.426Z"
   },
   {
    "duration": 5,
    "start_time": "2023-07-07T05:46:40.648Z"
   },
   {
    "duration": 9,
    "start_time": "2023-07-07T05:51:10.132Z"
   },
   {
    "duration": 12,
    "start_time": "2023-07-07T05:51:17.052Z"
   },
   {
    "duration": 4,
    "start_time": "2023-07-07T05:52:58.786Z"
   },
   {
    "duration": 14,
    "start_time": "2023-07-07T05:53:39.799Z"
   },
   {
    "duration": 62,
    "start_time": "2023-07-07T05:53:46.691Z"
   },
   {
    "duration": 44,
    "start_time": "2023-07-07T05:55:05.891Z"
   },
   {
    "duration": 9,
    "start_time": "2023-07-07T05:57:52.542Z"
   },
   {
    "duration": 10,
    "start_time": "2023-07-07T05:59:28.423Z"
   },
   {
    "duration": 4,
    "start_time": "2023-07-07T05:59:29.453Z"
   },
   {
    "duration": 10,
    "start_time": "2023-07-07T05:59:33.124Z"
   },
   {
    "duration": 612,
    "start_time": "2023-07-07T06:00:19.518Z"
   },
   {
    "duration": 17,
    "start_time": "2023-07-07T06:00:20.131Z"
   },
   {
    "duration": 33,
    "start_time": "2023-07-07T06:00:20.149Z"
   },
   {
    "duration": 32,
    "start_time": "2023-07-07T06:00:20.183Z"
   },
   {
    "duration": 22,
    "start_time": "2023-07-07T06:00:20.223Z"
   },
   {
    "duration": 43,
    "start_time": "2023-07-07T06:00:20.255Z"
   },
   {
    "duration": 75,
    "start_time": "2023-07-07T06:00:20.302Z"
   },
   {
    "duration": 31,
    "start_time": "2023-07-07T06:00:20.378Z"
   },
   {
    "duration": 38,
    "start_time": "2023-07-07T06:00:20.410Z"
   },
   {
    "duration": 19,
    "start_time": "2023-07-07T06:00:20.451Z"
   },
   {
    "duration": 56,
    "start_time": "2023-07-07T06:00:20.472Z"
   },
   {
    "duration": 20,
    "start_time": "2023-07-07T06:00:20.545Z"
   },
   {
    "duration": 8,
    "start_time": "2023-07-07T06:00:20.566Z"
   },
   {
    "duration": 37,
    "start_time": "2023-07-07T06:00:20.576Z"
   },
   {
    "duration": 43,
    "start_time": "2023-07-07T06:00:20.614Z"
   },
   {
    "duration": 31,
    "start_time": "2023-07-07T06:00:20.658Z"
   },
   {
    "duration": 18,
    "start_time": "2023-07-07T06:00:20.691Z"
   },
   {
    "duration": 59,
    "start_time": "2023-07-07T06:00:20.710Z"
   },
   {
    "duration": 5,
    "start_time": "2023-07-07T06:00:20.771Z"
   },
   {
    "duration": 11,
    "start_time": "2023-07-07T06:00:20.778Z"
   },
   {
    "duration": 60,
    "start_time": "2023-07-07T06:00:20.790Z"
   },
   {
    "duration": 32,
    "start_time": "2023-07-07T06:00:20.852Z"
   },
   {
    "duration": 526,
    "start_time": "2023-07-07T06:00:20.885Z"
   },
   {
    "duration": 37,
    "start_time": "2023-07-07T06:00:21.412Z"
   },
   {
    "duration": 187,
    "start_time": "2023-07-07T06:00:21.453Z"
   },
   {
    "duration": 11,
    "start_time": "2023-07-07T06:00:21.646Z"
   },
   {
    "duration": 211,
    "start_time": "2023-07-07T06:00:21.659Z"
   },
   {
    "duration": 4,
    "start_time": "2023-07-07T06:00:21.872Z"
   },
   {
    "duration": 14,
    "start_time": "2023-07-07T06:00:21.877Z"
   },
   {
    "duration": 14,
    "start_time": "2023-07-07T06:00:21.892Z"
   },
   {
    "duration": 57,
    "start_time": "2023-07-07T06:00:21.907Z"
   },
   {
    "duration": 18,
    "start_time": "2023-07-07T06:00:21.965Z"
   },
   {
    "duration": 50,
    "start_time": "2023-07-07T06:00:21.984Z"
   },
   {
    "duration": 234,
    "start_time": "2023-07-07T06:00:22.035Z"
   },
   {
    "duration": 227,
    "start_time": "2023-07-07T06:00:22.272Z"
   },
   {
    "duration": 39,
    "start_time": "2023-07-07T06:00:22.518Z"
   },
   {
    "duration": 7,
    "start_time": "2023-07-07T06:00:22.562Z"
   },
   {
    "duration": 207,
    "start_time": "2023-07-07T06:00:22.570Z"
   },
   {
    "duration": 21,
    "start_time": "2023-07-07T06:00:22.779Z"
   },
   {
    "duration": 42,
    "start_time": "2023-07-07T06:00:22.801Z"
   },
   {
    "duration": 83,
    "start_time": "2023-07-07T06:00:22.847Z"
   },
   {
    "duration": 25,
    "start_time": "2023-07-07T06:00:22.932Z"
   },
   {
    "duration": 20,
    "start_time": "2023-07-07T06:00:22.958Z"
   },
   {
    "duration": 19,
    "start_time": "2023-07-07T06:00:22.979Z"
   },
   {
    "duration": 62,
    "start_time": "2023-07-07T06:00:23.009Z"
   },
   {
    "duration": 20,
    "start_time": "2023-07-07T06:00:23.072Z"
   },
   {
    "duration": 60,
    "start_time": "2023-07-07T06:00:23.093Z"
   },
   {
    "duration": 59,
    "start_time": "2023-07-07T06:00:23.154Z"
   },
   {
    "duration": 37,
    "start_time": "2023-07-07T06:00:23.214Z"
   },
   {
    "duration": 26,
    "start_time": "2023-07-07T06:00:23.253Z"
   },
   {
    "duration": 10,
    "start_time": "2023-07-07T06:00:23.281Z"
   },
   {
    "duration": 192,
    "start_time": "2023-07-07T06:00:23.292Z"
   },
   {
    "duration": 6,
    "start_time": "2023-07-07T06:00:23.486Z"
   },
   {
    "duration": 71,
    "start_time": "2023-07-07T06:00:23.494Z"
   },
   {
    "duration": 7,
    "start_time": "2023-07-07T06:00:23.566Z"
   },
   {
    "duration": 12,
    "start_time": "2023-07-07T06:00:23.574Z"
   },
   {
    "duration": 180,
    "start_time": "2023-07-07T06:00:23.587Z"
   },
   {
    "duration": 11,
    "start_time": "2023-07-07T06:00:23.768Z"
   },
   {
    "duration": 24,
    "start_time": "2023-07-07T06:00:23.781Z"
   },
   {
    "duration": 290,
    "start_time": "2023-07-07T06:00:23.806Z"
   },
   {
    "duration": 45,
    "start_time": "2023-07-07T06:00:24.098Z"
   },
   {
    "duration": 25,
    "start_time": "2023-07-07T06:00:24.144Z"
   },
   {
    "duration": 25,
    "start_time": "2023-07-07T06:00:24.170Z"
   },
   {
    "duration": 253,
    "start_time": "2023-07-07T06:00:24.197Z"
   },
   {
    "duration": 13,
    "start_time": "2023-07-07T06:00:24.452Z"
   },
   {
    "duration": 21,
    "start_time": "2023-07-07T06:00:24.466Z"
   },
   {
    "duration": 8,
    "start_time": "2023-07-07T06:00:24.488Z"
   },
   {
    "duration": 200,
    "start_time": "2023-07-07T06:00:24.497Z"
   },
   {
    "duration": 180,
    "start_time": "2023-07-07T06:00:24.705Z"
   },
   {
    "duration": 11,
    "start_time": "2023-07-07T06:00:24.886Z"
   },
   {
    "duration": 85,
    "start_time": "2023-07-07T06:00:24.898Z"
   },
   {
    "duration": 25,
    "start_time": "2023-07-07T06:00:24.985Z"
   },
   {
    "duration": 61,
    "start_time": "2023-07-07T06:00:25.012Z"
   },
   {
    "duration": 12,
    "start_time": "2023-07-07T06:00:25.075Z"
   },
   {
    "duration": 241,
    "start_time": "2023-07-07T06:00:25.089Z"
   },
   {
    "duration": 5,
    "start_time": "2023-07-07T06:01:11.973Z"
   },
   {
    "duration": 210,
    "start_time": "2023-07-07T06:04:17.326Z"
   },
   {
    "duration": 22,
    "start_time": "2023-07-07T06:05:32.126Z"
   },
   {
    "duration": 23,
    "start_time": "2023-07-07T06:05:40.130Z"
   },
   {
    "duration": 185,
    "start_time": "2023-07-07T06:05:41.858Z"
   },
   {
    "duration": 6,
    "start_time": "2023-07-07T06:09:02.441Z"
   },
   {
    "duration": 10,
    "start_time": "2023-07-07T06:10:19.521Z"
   },
   {
    "duration": 5,
    "start_time": "2023-07-07T06:10:28.404Z"
   },
   {
    "duration": 5,
    "start_time": "2023-07-07T06:11:46.174Z"
   },
   {
    "duration": 34,
    "start_time": "2023-07-07T06:12:15.599Z"
   },
   {
    "duration": 101,
    "start_time": "2023-07-07T06:16:31.886Z"
   },
   {
    "duration": 7,
    "start_time": "2023-07-07T06:18:53.871Z"
   },
   {
    "duration": 89,
    "start_time": "2023-07-07T06:19:07.482Z"
   },
   {
    "duration": 18,
    "start_time": "2023-07-07T06:19:14.734Z"
   },
   {
    "duration": 194,
    "start_time": "2023-07-07T06:19:32.425Z"
   },
   {
    "duration": 8,
    "start_time": "2023-07-07T06:20:40.746Z"
   },
   {
    "duration": 21,
    "start_time": "2023-07-07T06:22:16.945Z"
   },
   {
    "duration": 565,
    "start_time": "2023-07-07T06:23:30.822Z"
   },
   {
    "duration": 8,
    "start_time": "2023-07-07T06:23:31.389Z"
   },
   {
    "duration": 90,
    "start_time": "2023-07-07T06:23:31.398Z"
   },
   {
    "duration": 118,
    "start_time": "2023-07-07T06:23:31.490Z"
   },
   {
    "duration": 32,
    "start_time": "2023-07-07T06:23:31.614Z"
   },
   {
    "duration": 34,
    "start_time": "2023-07-07T06:23:31.647Z"
   },
   {
    "duration": 51,
    "start_time": "2023-07-07T06:23:31.683Z"
   },
   {
    "duration": 54,
    "start_time": "2023-07-07T06:23:31.736Z"
   },
   {
    "duration": 71,
    "start_time": "2023-07-07T06:23:31.791Z"
   },
   {
    "duration": 29,
    "start_time": "2023-07-07T06:23:31.864Z"
   },
   {
    "duration": 72,
    "start_time": "2023-07-07T06:23:31.894Z"
   },
   {
    "duration": 25,
    "start_time": "2023-07-07T06:23:31.967Z"
   },
   {
    "duration": 66,
    "start_time": "2023-07-07T06:23:31.994Z"
   },
   {
    "duration": 32,
    "start_time": "2023-07-07T06:23:32.063Z"
   },
   {
    "duration": 69,
    "start_time": "2023-07-07T06:23:32.097Z"
   },
   {
    "duration": 19,
    "start_time": "2023-07-07T06:23:32.167Z"
   },
   {
    "duration": 74,
    "start_time": "2023-07-07T06:23:32.188Z"
   },
   {
    "duration": 18,
    "start_time": "2023-07-07T06:23:32.264Z"
   },
   {
    "duration": 44,
    "start_time": "2023-07-07T06:23:32.283Z"
   },
   {
    "duration": 77,
    "start_time": "2023-07-07T06:23:32.328Z"
   },
   {
    "duration": 57,
    "start_time": "2023-07-07T06:23:32.406Z"
   },
   {
    "duration": 68,
    "start_time": "2023-07-07T06:23:32.465Z"
   },
   {
    "duration": 439,
    "start_time": "2023-07-07T06:23:32.535Z"
   },
   {
    "duration": 7,
    "start_time": "2023-07-07T06:23:32.975Z"
   },
   {
    "duration": 161,
    "start_time": "2023-07-07T06:23:32.984Z"
   },
   {
    "duration": 10,
    "start_time": "2023-07-07T06:23:33.146Z"
   },
   {
    "duration": 140,
    "start_time": "2023-07-07T06:23:33.157Z"
   },
   {
    "duration": 25,
    "start_time": "2023-07-07T06:23:33.298Z"
   },
   {
    "duration": 38,
    "start_time": "2023-07-07T06:23:33.324Z"
   },
   {
    "duration": 10,
    "start_time": "2023-07-07T06:23:33.363Z"
   },
   {
    "duration": 18,
    "start_time": "2023-07-07T06:23:33.375Z"
   },
   {
    "duration": 67,
    "start_time": "2023-07-07T06:23:33.395Z"
   },
   {
    "duration": 25,
    "start_time": "2023-07-07T06:23:33.464Z"
   },
   {
    "duration": 194,
    "start_time": "2023-07-07T06:23:33.490Z"
   },
   {
    "duration": 230,
    "start_time": "2023-07-07T06:23:33.685Z"
   },
   {
    "duration": 12,
    "start_time": "2023-07-07T06:23:33.917Z"
   },
   {
    "duration": 37,
    "start_time": "2023-07-07T06:23:33.931Z"
   },
   {
    "duration": 185,
    "start_time": "2023-07-07T06:23:33.969Z"
   },
   {
    "duration": 16,
    "start_time": "2023-07-07T06:23:34.156Z"
   },
   {
    "duration": 55,
    "start_time": "2023-07-07T06:23:34.174Z"
   },
   {
    "duration": 71,
    "start_time": "2023-07-07T06:23:34.234Z"
   },
   {
    "duration": 9,
    "start_time": "2023-07-07T06:23:34.309Z"
   },
   {
    "duration": 50,
    "start_time": "2023-07-07T06:23:34.319Z"
   },
   {
    "duration": 9,
    "start_time": "2023-07-07T06:23:34.370Z"
   },
   {
    "duration": 15,
    "start_time": "2023-07-07T06:23:34.380Z"
   },
   {
    "duration": 25,
    "start_time": "2023-07-07T06:23:34.396Z"
   },
   {
    "duration": 34,
    "start_time": "2023-07-07T06:23:34.429Z"
   },
   {
    "duration": 33,
    "start_time": "2023-07-07T06:23:34.465Z"
   },
   {
    "duration": 44,
    "start_time": "2023-07-07T06:23:34.509Z"
   },
   {
    "duration": 34,
    "start_time": "2023-07-07T06:23:34.555Z"
   },
   {
    "duration": 198,
    "start_time": "2023-07-07T06:23:34.590Z"
   },
   {
    "duration": 40,
    "start_time": "2023-07-07T06:23:34.789Z"
   },
   {
    "duration": 192,
    "start_time": "2023-07-07T06:23:34.831Z"
   },
   {
    "duration": 8,
    "start_time": "2023-07-07T06:23:35.025Z"
   },
   {
    "duration": 35,
    "start_time": "2023-07-07T06:23:35.035Z"
   },
   {
    "duration": 23,
    "start_time": "2023-07-07T06:23:35.071Z"
   },
   {
    "duration": 236,
    "start_time": "2023-07-07T06:23:35.096Z"
   },
   {
    "duration": 33,
    "start_time": "2023-07-07T06:23:35.338Z"
   },
   {
    "duration": 36,
    "start_time": "2023-07-07T06:23:35.372Z"
   },
   {
    "duration": 59,
    "start_time": "2023-07-07T06:23:35.409Z"
   },
   {
    "duration": 274,
    "start_time": "2023-07-07T06:23:35.469Z"
   },
   {
    "duration": 18,
    "start_time": "2023-07-07T06:23:35.746Z"
   },
   {
    "duration": 25,
    "start_time": "2023-07-07T06:23:35.765Z"
   },
   {
    "duration": 66,
    "start_time": "2023-07-07T06:23:35.791Z"
   },
   {
    "duration": 222,
    "start_time": "2023-07-07T06:23:35.859Z"
   },
   {
    "duration": 13,
    "start_time": "2023-07-07T06:23:36.082Z"
   },
   {
    "duration": 67,
    "start_time": "2023-07-07T06:23:36.105Z"
   },
   {
    "duration": 18,
    "start_time": "2023-07-07T06:23:36.174Z"
   },
   {
    "duration": 227,
    "start_time": "2023-07-07T06:23:36.193Z"
   },
   {
    "duration": 148,
    "start_time": "2023-07-07T06:23:36.425Z"
   },
   {
    "duration": 13,
    "start_time": "2023-07-07T06:23:36.574Z"
   },
   {
    "duration": 76,
    "start_time": "2023-07-07T06:23:36.588Z"
   },
   {
    "duration": 27,
    "start_time": "2023-07-07T06:23:36.666Z"
   },
   {
    "duration": 56,
    "start_time": "2023-07-07T06:23:36.695Z"
   },
   {
    "duration": 27,
    "start_time": "2023-07-07T06:23:36.752Z"
   },
   {
    "duration": 170,
    "start_time": "2023-07-07T06:23:36.780Z"
   },
   {
    "duration": 39,
    "start_time": "2023-07-07T06:24:29.375Z"
   },
   {
    "duration": 171,
    "start_time": "2023-07-07T06:25:52.976Z"
   },
   {
    "duration": 16,
    "start_time": "2023-07-07T06:26:15.718Z"
   },
   {
    "duration": 211,
    "start_time": "2023-07-07T06:26:19.532Z"
   },
   {
    "duration": 158,
    "start_time": "2023-07-07T06:26:48.988Z"
   },
   {
    "duration": 23,
    "start_time": "2023-07-07T06:26:53.435Z"
   },
   {
    "duration": 24,
    "start_time": "2023-07-07T06:27:06.618Z"
   },
   {
    "duration": 170,
    "start_time": "2023-07-07T06:27:08.890Z"
   },
   {
    "duration": 11,
    "start_time": "2023-07-07T06:28:50.470Z"
   },
   {
    "duration": 18,
    "start_time": "2023-07-07T06:29:44.487Z"
   },
   {
    "duration": 274,
    "start_time": "2023-07-07T06:30:20.547Z"
   },
   {
    "duration": 4,
    "start_time": "2023-07-07T06:33:12.359Z"
   },
   {
    "duration": 13,
    "start_time": "2023-07-07T06:34:22.447Z"
   },
   {
    "duration": 3,
    "start_time": "2023-07-07T06:36:13.183Z"
   },
   {
    "duration": 7,
    "start_time": "2023-07-07T06:36:18.978Z"
   },
   {
    "duration": 15,
    "start_time": "2023-07-07T06:36:54.842Z"
   },
   {
    "duration": 184,
    "start_time": "2023-07-07T06:37:40.754Z"
   },
   {
    "duration": 162,
    "start_time": "2023-07-07T06:38:14.526Z"
   },
   {
    "duration": 203,
    "start_time": "2023-07-07T06:39:55.357Z"
   },
   {
    "duration": 230,
    "start_time": "2023-07-07T06:41:55.542Z"
   },
   {
    "duration": 103,
    "start_time": "2023-07-07T06:42:45.626Z"
   },
   {
    "duration": 13,
    "start_time": "2023-07-07T06:42:55.025Z"
   },
   {
    "duration": 12,
    "start_time": "2023-07-07T06:43:48.123Z"
   },
   {
    "duration": 13,
    "start_time": "2023-07-07T06:44:12.737Z"
   },
   {
    "duration": 556,
    "start_time": "2023-07-07T10:53:14.246Z"
   },
   {
    "duration": 8,
    "start_time": "2023-07-07T10:53:14.804Z"
   },
   {
    "duration": 51,
    "start_time": "2023-07-07T10:53:14.814Z"
   },
   {
    "duration": 28,
    "start_time": "2023-07-07T10:53:14.867Z"
   },
   {
    "duration": 29,
    "start_time": "2023-07-07T10:53:14.897Z"
   },
   {
    "duration": 50,
    "start_time": "2023-07-07T10:53:14.928Z"
   },
   {
    "duration": 9,
    "start_time": "2023-07-07T10:53:14.979Z"
   },
   {
    "duration": 23,
    "start_time": "2023-07-07T10:53:14.990Z"
   },
   {
    "duration": 37,
    "start_time": "2023-07-07T10:53:15.020Z"
   },
   {
    "duration": 27,
    "start_time": "2023-07-07T10:53:15.058Z"
   },
   {
    "duration": 29,
    "start_time": "2023-07-07T10:53:15.086Z"
   },
   {
    "duration": 36,
    "start_time": "2023-07-07T10:53:15.117Z"
   },
   {
    "duration": 11,
    "start_time": "2023-07-07T10:53:15.155Z"
   },
   {
    "duration": 18,
    "start_time": "2023-07-07T10:53:15.168Z"
   },
   {
    "duration": 47,
    "start_time": "2023-07-07T10:53:15.187Z"
   },
   {
    "duration": 12,
    "start_time": "2023-07-07T10:53:15.241Z"
   },
   {
    "duration": 6,
    "start_time": "2023-07-07T10:53:15.254Z"
   },
   {
    "duration": 13,
    "start_time": "2023-07-07T10:53:15.261Z"
   },
   {
    "duration": 18,
    "start_time": "2023-07-07T10:53:15.276Z"
   },
   {
    "duration": 13,
    "start_time": "2023-07-07T10:53:15.296Z"
   },
   {
    "duration": 55,
    "start_time": "2023-07-07T10:53:15.310Z"
   },
   {
    "duration": 12,
    "start_time": "2023-07-07T10:53:15.367Z"
   },
   {
    "duration": 537,
    "start_time": "2023-07-07T10:53:15.381Z"
   },
   {
    "duration": 13,
    "start_time": "2023-07-07T10:53:15.921Z"
   },
   {
    "duration": 201,
    "start_time": "2023-07-07T10:53:15.935Z"
   },
   {
    "duration": 13,
    "start_time": "2023-07-07T10:53:16.137Z"
   },
   {
    "duration": 168,
    "start_time": "2023-07-07T10:53:16.154Z"
   },
   {
    "duration": 4,
    "start_time": "2023-07-07T10:53:16.324Z"
   },
   {
    "duration": 39,
    "start_time": "2023-07-07T10:53:16.330Z"
   },
   {
    "duration": 10,
    "start_time": "2023-07-07T10:53:16.370Z"
   },
   {
    "duration": 11,
    "start_time": "2023-07-07T10:53:16.382Z"
   },
   {
    "duration": 74,
    "start_time": "2023-07-07T10:53:16.395Z"
   },
   {
    "duration": 43,
    "start_time": "2023-07-07T10:53:16.471Z"
   },
   {
    "duration": 176,
    "start_time": "2023-07-07T10:53:16.521Z"
   },
   {
    "duration": 253,
    "start_time": "2023-07-07T10:53:16.699Z"
   },
   {
    "duration": 13,
    "start_time": "2023-07-07T10:53:16.953Z"
   },
   {
    "duration": 7,
    "start_time": "2023-07-07T10:53:16.969Z"
   },
   {
    "duration": 189,
    "start_time": "2023-07-07T10:53:16.979Z"
   },
   {
    "duration": 50,
    "start_time": "2023-07-07T10:53:17.169Z"
   },
   {
    "duration": 55,
    "start_time": "2023-07-07T10:53:17.221Z"
   },
   {
    "duration": 71,
    "start_time": "2023-07-07T10:53:17.282Z"
   },
   {
    "duration": 7,
    "start_time": "2023-07-07T10:53:17.356Z"
   },
   {
    "duration": 33,
    "start_time": "2023-07-07T10:53:17.365Z"
   },
   {
    "duration": 52,
    "start_time": "2023-07-07T10:53:17.400Z"
   },
   {
    "duration": 19,
    "start_time": "2023-07-07T10:53:17.453Z"
   },
   {
    "duration": 19,
    "start_time": "2023-07-07T10:53:17.473Z"
   },
   {
    "duration": 62,
    "start_time": "2023-07-07T10:53:17.494Z"
   },
   {
    "duration": 8,
    "start_time": "2023-07-07T10:53:17.558Z"
   },
   {
    "duration": 11,
    "start_time": "2023-07-07T10:53:17.568Z"
   },
   {
    "duration": 40,
    "start_time": "2023-07-07T10:53:17.580Z"
   },
   {
    "duration": 198,
    "start_time": "2023-07-07T10:53:17.625Z"
   },
   {
    "duration": 16,
    "start_time": "2023-07-07T10:53:17.834Z"
   },
   {
    "duration": 168,
    "start_time": "2023-07-07T10:53:17.852Z"
   },
   {
    "duration": 5,
    "start_time": "2023-07-07T10:53:18.022Z"
   },
   {
    "duration": 31,
    "start_time": "2023-07-07T10:53:18.029Z"
   },
   {
    "duration": 14,
    "start_time": "2023-07-07T10:53:18.061Z"
   },
   {
    "duration": 196,
    "start_time": "2023-07-07T10:53:18.077Z"
   },
   {
    "duration": 39,
    "start_time": "2023-07-07T10:53:18.274Z"
   },
   {
    "duration": 256,
    "start_time": "2023-07-07T10:53:18.315Z"
   },
   {
    "duration": 21,
    "start_time": "2023-07-07T10:53:18.573Z"
   },
   {
    "duration": 290,
    "start_time": "2023-07-07T10:53:18.596Z"
   },
   {
    "duration": 4,
    "start_time": "2023-07-07T10:53:18.888Z"
   },
   {
    "duration": 57,
    "start_time": "2023-07-07T10:53:18.894Z"
   },
   {
    "duration": 24,
    "start_time": "2023-07-07T10:53:18.952Z"
   },
   {
    "duration": 56,
    "start_time": "2023-07-07T10:53:18.978Z"
   },
   {
    "duration": 26,
    "start_time": "2023-07-07T10:53:19.036Z"
   },
   {
    "duration": 183,
    "start_time": "2023-07-07T10:53:19.064Z"
   },
   {
    "duration": 154,
    "start_time": "2023-07-07T10:53:19.249Z"
   },
   {
    "duration": 18,
    "start_time": "2023-07-07T10:53:19.404Z"
   },
   {
    "duration": 218,
    "start_time": "2023-07-07T10:53:19.423Z"
   },
   {
    "duration": 20,
    "start_time": "2023-07-07T10:53:19.643Z"
   },
   {
    "duration": 190,
    "start_time": "2023-07-07T10:53:19.665Z"
   },
   {
    "duration": 8,
    "start_time": "2023-07-07T10:53:19.858Z"
   },
   {
    "duration": 13,
    "start_time": "2023-07-07T10:53:19.868Z"
   },
   {
    "duration": 9,
    "start_time": "2023-07-07T10:53:19.882Z"
   },
   {
    "duration": 24,
    "start_time": "2023-07-07T11:11:44.754Z"
   },
   {
    "duration": 18,
    "start_time": "2023-07-07T11:12:25.455Z"
   },
   {
    "duration": 624,
    "start_time": "2023-07-07T11:12:43.152Z"
   },
   {
    "duration": 11,
    "start_time": "2023-07-07T11:12:43.778Z"
   },
   {
    "duration": 44,
    "start_time": "2023-07-07T11:12:43.791Z"
   },
   {
    "duration": 53,
    "start_time": "2023-07-07T11:12:43.839Z"
   },
   {
    "duration": 21,
    "start_time": "2023-07-07T11:12:43.894Z"
   },
   {
    "duration": 77,
    "start_time": "2023-07-07T11:12:43.917Z"
   },
   {
    "duration": 23,
    "start_time": "2023-07-07T11:12:43.997Z"
   },
   {
    "duration": 51,
    "start_time": "2023-07-07T11:12:44.022Z"
   },
   {
    "duration": 5,
    "start_time": "2023-07-07T11:12:44.075Z"
   },
   {
    "duration": 13,
    "start_time": "2023-07-07T11:12:44.082Z"
   },
   {
    "duration": 54,
    "start_time": "2023-07-07T11:12:44.096Z"
   },
   {
    "duration": 10,
    "start_time": "2023-07-07T11:12:44.151Z"
   },
   {
    "duration": 8,
    "start_time": "2023-07-07T11:12:44.163Z"
   },
   {
    "duration": 12,
    "start_time": "2023-07-07T11:12:44.173Z"
   },
   {
    "duration": 11,
    "start_time": "2023-07-07T11:12:44.186Z"
   },
   {
    "duration": 70,
    "start_time": "2023-07-07T11:12:44.198Z"
   },
   {
    "duration": 8,
    "start_time": "2023-07-07T11:12:44.271Z"
   },
   {
    "duration": 15,
    "start_time": "2023-07-07T11:12:44.280Z"
   },
   {
    "duration": 13,
    "start_time": "2023-07-07T11:12:44.296Z"
   },
   {
    "duration": 78,
    "start_time": "2023-07-07T11:12:44.310Z"
   },
   {
    "duration": 71,
    "start_time": "2023-07-07T11:12:44.390Z"
   },
   {
    "duration": 15,
    "start_time": "2023-07-07T11:12:44.463Z"
   },
   {
    "duration": 499,
    "start_time": "2023-07-07T11:12:44.480Z"
   },
   {
    "duration": 8,
    "start_time": "2023-07-07T11:12:44.980Z"
   },
   {
    "duration": 181,
    "start_time": "2023-07-07T11:12:44.999Z"
   },
   {
    "duration": 8,
    "start_time": "2023-07-07T11:12:45.182Z"
   },
   {
    "duration": 262,
    "start_time": "2023-07-07T11:12:45.191Z"
   },
   {
    "duration": 13,
    "start_time": "2023-07-07T11:12:45.457Z"
   },
   {
    "duration": 106,
    "start_time": "2023-07-07T11:12:45.472Z"
   },
   {
    "duration": 58,
    "start_time": "2023-07-07T11:12:45.580Z"
   },
   {
    "duration": 37,
    "start_time": "2023-07-07T11:12:45.650Z"
   },
   {
    "duration": 63,
    "start_time": "2023-07-07T11:12:45.688Z"
   },
   {
    "duration": 37,
    "start_time": "2023-07-07T11:12:45.752Z"
   },
   {
    "duration": 240,
    "start_time": "2023-07-07T11:12:45.790Z"
   },
   {
    "duration": 350,
    "start_time": "2023-07-07T11:12:46.031Z"
   },
   {
    "duration": 23,
    "start_time": "2023-07-07T11:12:46.383Z"
   },
   {
    "duration": 54,
    "start_time": "2023-07-07T11:12:46.415Z"
   },
   {
    "duration": 275,
    "start_time": "2023-07-07T11:12:46.471Z"
   },
   {
    "duration": 21,
    "start_time": "2023-07-07T11:12:46.758Z"
   },
   {
    "duration": 65,
    "start_time": "2023-07-07T11:12:46.780Z"
   },
   {
    "duration": 56,
    "start_time": "2023-07-07T11:12:46.851Z"
   },
   {
    "duration": 7,
    "start_time": "2023-07-07T11:12:46.913Z"
   },
   {
    "duration": 65,
    "start_time": "2023-07-07T11:12:46.921Z"
   },
   {
    "duration": 17,
    "start_time": "2023-07-07T11:12:46.988Z"
   },
   {
    "duration": 61,
    "start_time": "2023-07-07T11:12:47.012Z"
   },
   {
    "duration": 36,
    "start_time": "2023-07-07T11:12:47.075Z"
   },
   {
    "duration": 131,
    "start_time": "2023-07-07T11:12:47.112Z"
   },
   {
    "duration": 36,
    "start_time": "2023-07-07T11:12:47.245Z"
   },
   {
    "duration": 74,
    "start_time": "2023-07-07T11:12:47.283Z"
   },
   {
    "duration": 77,
    "start_time": "2023-07-07T11:12:47.359Z"
   },
   {
    "duration": 248,
    "start_time": "2023-07-07T11:12:47.438Z"
   },
   {
    "duration": 23,
    "start_time": "2023-07-07T11:12:47.688Z"
   },
   {
    "duration": 259,
    "start_time": "2023-07-07T11:12:47.712Z"
   },
   {
    "duration": 6,
    "start_time": "2023-07-07T11:12:47.972Z"
   },
   {
    "duration": 75,
    "start_time": "2023-07-07T11:12:47.979Z"
   },
   {
    "duration": 29,
    "start_time": "2023-07-07T11:12:48.055Z"
   },
   {
    "duration": 246,
    "start_time": "2023-07-07T11:12:48.086Z"
   },
   {
    "duration": 33,
    "start_time": "2023-07-07T11:12:48.336Z"
   },
   {
    "duration": 221,
    "start_time": "2023-07-07T11:12:48.370Z"
   },
   {
    "duration": 28,
    "start_time": "2023-07-07T11:12:48.592Z"
   },
   {
    "duration": 356,
    "start_time": "2023-07-07T11:12:48.621Z"
   },
   {
    "duration": 5,
    "start_time": "2023-07-07T11:12:48.979Z"
   },
   {
    "duration": 40,
    "start_time": "2023-07-07T11:12:48.985Z"
   },
   {
    "duration": 50,
    "start_time": "2023-07-07T11:12:49.027Z"
   },
   {
    "duration": 15,
    "start_time": "2023-07-07T11:12:49.080Z"
   },
   {
    "duration": 79,
    "start_time": "2023-07-07T11:12:49.097Z"
   },
   {
    "duration": 237,
    "start_time": "2023-07-07T11:12:49.178Z"
   },
   {
    "duration": 179,
    "start_time": "2023-07-07T11:12:49.416Z"
   },
   {
    "duration": 36,
    "start_time": "2023-07-07T11:12:49.597Z"
   },
   {
    "duration": 237,
    "start_time": "2023-07-07T11:12:49.640Z"
   },
   {
    "duration": 29,
    "start_time": "2023-07-07T11:12:49.878Z"
   },
   {
    "duration": 308,
    "start_time": "2023-07-07T11:12:49.909Z"
   },
   {
    "duration": 9,
    "start_time": "2023-07-07T11:12:50.219Z"
   },
   {
    "duration": 100,
    "start_time": "2023-07-07T11:12:50.230Z"
   },
   {
    "duration": 102,
    "start_time": "2023-07-07T11:12:50.332Z"
   },
   {
    "duration": 24,
    "start_time": "2023-07-07T11:18:01.021Z"
   },
   {
    "duration": 249,
    "start_time": "2023-07-07T11:18:02.742Z"
   },
   {
    "duration": 205,
    "start_time": "2023-07-07T11:18:12.652Z"
   },
   {
    "duration": 0,
    "start_time": "2023-07-07T11:28:21.468Z"
   },
   {
    "duration": 21,
    "start_time": "2023-07-07T11:28:24.828Z"
   },
   {
    "duration": 75,
    "start_time": "2023-07-07T14:13:09.776Z"
   },
   {
    "duration": 766,
    "start_time": "2023-07-07T14:13:31.944Z"
   },
   {
    "duration": 19,
    "start_time": "2023-07-07T14:13:32.713Z"
   },
   {
    "duration": 63,
    "start_time": "2023-07-07T14:13:32.735Z"
   },
   {
    "duration": 63,
    "start_time": "2023-07-07T14:13:32.803Z"
   },
   {
    "duration": 41,
    "start_time": "2023-07-07T14:13:32.868Z"
   },
   {
    "duration": 38,
    "start_time": "2023-07-07T14:13:32.911Z"
   },
   {
    "duration": 85,
    "start_time": "2023-07-07T14:13:32.951Z"
   },
   {
    "duration": 97,
    "start_time": "2023-07-07T14:13:33.038Z"
   },
   {
    "duration": 29,
    "start_time": "2023-07-07T14:13:33.138Z"
   },
   {
    "duration": 28,
    "start_time": "2023-07-07T14:13:33.171Z"
   },
   {
    "duration": 32,
    "start_time": "2023-07-07T14:13:33.202Z"
   },
   {
    "duration": 21,
    "start_time": "2023-07-07T14:13:33.236Z"
   },
   {
    "duration": 80,
    "start_time": "2023-07-07T14:13:33.260Z"
   },
   {
    "duration": 48,
    "start_time": "2023-07-07T14:13:33.342Z"
   },
   {
    "duration": 129,
    "start_time": "2023-07-07T14:13:33.392Z"
   },
   {
    "duration": 73,
    "start_time": "2023-07-07T14:13:33.523Z"
   },
   {
    "duration": 42,
    "start_time": "2023-07-07T14:13:33.598Z"
   },
   {
    "duration": 31,
    "start_time": "2023-07-07T14:13:33.642Z"
   },
   {
    "duration": 33,
    "start_time": "2023-07-07T14:13:33.676Z"
   },
   {
    "duration": 18,
    "start_time": "2023-07-07T14:13:33.711Z"
   },
   {
    "duration": 31,
    "start_time": "2023-07-07T14:13:33.730Z"
   },
   {
    "duration": 33,
    "start_time": "2023-07-07T14:13:33.763Z"
   },
   {
    "duration": 731,
    "start_time": "2023-07-07T14:13:33.798Z"
   },
   {
    "duration": 11,
    "start_time": "2023-07-07T14:13:34.531Z"
   },
   {
    "duration": 203,
    "start_time": "2023-07-07T14:13:34.545Z"
   },
   {
    "duration": 13,
    "start_time": "2023-07-07T14:13:34.751Z"
   },
   {
    "duration": 190,
    "start_time": "2023-07-07T14:13:34.767Z"
   },
   {
    "duration": 7,
    "start_time": "2023-07-07T14:13:34.963Z"
   },
   {
    "duration": 15,
    "start_time": "2023-07-07T14:13:34.972Z"
   },
   {
    "duration": 25,
    "start_time": "2023-07-07T14:13:34.989Z"
   },
   {
    "duration": 20,
    "start_time": "2023-07-07T14:13:35.016Z"
   },
   {
    "duration": 29,
    "start_time": "2023-07-07T14:13:35.038Z"
   },
   {
    "duration": 49,
    "start_time": "2023-07-07T14:13:35.070Z"
   },
   {
    "duration": 221,
    "start_time": "2023-07-07T14:13:35.122Z"
   },
   {
    "duration": 305,
    "start_time": "2023-07-07T14:13:35.346Z"
   },
   {
    "duration": 24,
    "start_time": "2023-07-07T14:13:35.653Z"
   },
   {
    "duration": 14,
    "start_time": "2023-07-07T14:13:35.679Z"
   },
   {
    "duration": 287,
    "start_time": "2023-07-07T14:13:35.710Z"
   },
   {
    "duration": 38,
    "start_time": "2023-07-07T14:13:35.999Z"
   },
   {
    "duration": 70,
    "start_time": "2023-07-07T14:13:36.040Z"
   },
   {
    "duration": 61,
    "start_time": "2023-07-07T14:13:36.112Z"
   },
   {
    "duration": 6,
    "start_time": "2023-07-07T14:13:36.176Z"
   },
   {
    "duration": 52,
    "start_time": "2023-07-07T14:13:36.185Z"
   },
   {
    "duration": 37,
    "start_time": "2023-07-07T14:13:36.240Z"
   },
   {
    "duration": 55,
    "start_time": "2023-07-07T14:13:36.279Z"
   },
   {
    "duration": 28,
    "start_time": "2023-07-07T14:13:36.337Z"
   },
   {
    "duration": 24,
    "start_time": "2023-07-07T14:13:36.367Z"
   },
   {
    "duration": 13,
    "start_time": "2023-07-07T14:13:36.393Z"
   },
   {
    "duration": 36,
    "start_time": "2023-07-07T14:13:36.408Z"
   },
   {
    "duration": 59,
    "start_time": "2023-07-07T14:13:36.447Z"
   },
   {
    "duration": 206,
    "start_time": "2023-07-07T14:13:36.508Z"
   },
   {
    "duration": 15,
    "start_time": "2023-07-07T14:13:36.717Z"
   },
   {
    "duration": 218,
    "start_time": "2023-07-07T14:13:36.734Z"
   },
   {
    "duration": 6,
    "start_time": "2023-07-07T14:13:36.955Z"
   },
   {
    "duration": 34,
    "start_time": "2023-07-07T14:13:36.963Z"
   },
   {
    "duration": 50,
    "start_time": "2023-07-07T14:13:36.999Z"
   },
   {
    "duration": 197,
    "start_time": "2023-07-07T14:13:37.052Z"
   },
   {
    "duration": 609,
    "start_time": "2023-07-07T14:13:37.251Z"
   },
   {
    "duration": 0,
    "start_time": "2023-07-07T14:13:37.862Z"
   },
   {
    "duration": 0,
    "start_time": "2023-07-07T14:13:37.864Z"
   },
   {
    "duration": 0,
    "start_time": "2023-07-07T14:13:37.865Z"
   },
   {
    "duration": 0,
    "start_time": "2023-07-07T14:13:37.868Z"
   },
   {
    "duration": 0,
    "start_time": "2023-07-07T14:13:37.869Z"
   },
   {
    "duration": 0,
    "start_time": "2023-07-07T14:13:37.870Z"
   },
   {
    "duration": 0,
    "start_time": "2023-07-07T14:13:37.871Z"
   },
   {
    "duration": 0,
    "start_time": "2023-07-07T14:13:37.873Z"
   },
   {
    "duration": 0,
    "start_time": "2023-07-07T14:13:37.875Z"
   },
   {
    "duration": 0,
    "start_time": "2023-07-07T14:13:37.876Z"
   },
   {
    "duration": 1,
    "start_time": "2023-07-07T14:13:37.878Z"
   },
   {
    "duration": 0,
    "start_time": "2023-07-07T14:13:37.880Z"
   },
   {
    "duration": 0,
    "start_time": "2023-07-07T14:13:37.882Z"
   },
   {
    "duration": 0,
    "start_time": "2023-07-07T14:13:37.883Z"
   },
   {
    "duration": 0,
    "start_time": "2023-07-07T14:13:37.885Z"
   },
   {
    "duration": 0,
    "start_time": "2023-07-07T14:13:37.886Z"
   },
   {
    "duration": 525,
    "start_time": "2023-07-07T14:14:08.711Z"
   },
   {
    "duration": 16,
    "start_time": "2023-07-07T14:14:32.125Z"
   },
   {
    "duration": 145,
    "start_time": "2023-07-07T14:15:05.151Z"
   },
   {
    "duration": 11,
    "start_time": "2023-07-07T14:15:13.736Z"
   },
   {
    "duration": 587,
    "start_time": "2023-07-07T14:21:03.308Z"
   },
   {
    "duration": 12,
    "start_time": "2023-07-07T14:21:03.898Z"
   },
   {
    "duration": 36,
    "start_time": "2023-07-07T14:21:03.913Z"
   },
   {
    "duration": 41,
    "start_time": "2023-07-07T14:21:03.951Z"
   },
   {
    "duration": 22,
    "start_time": "2023-07-07T14:21:04.008Z"
   },
   {
    "duration": 70,
    "start_time": "2023-07-07T14:21:04.032Z"
   },
   {
    "duration": 18,
    "start_time": "2023-07-07T14:21:04.104Z"
   },
   {
    "duration": 79,
    "start_time": "2023-07-07T14:21:04.124Z"
   },
   {
    "duration": 46,
    "start_time": "2023-07-07T14:21:04.205Z"
   },
   {
    "duration": 20,
    "start_time": "2023-07-07T14:21:04.254Z"
   },
   {
    "duration": 32,
    "start_time": "2023-07-07T14:21:04.276Z"
   },
   {
    "duration": 13,
    "start_time": "2023-07-07T14:21:04.310Z"
   },
   {
    "duration": 16,
    "start_time": "2023-07-07T14:21:04.326Z"
   },
   {
    "duration": 18,
    "start_time": "2023-07-07T14:21:04.346Z"
   },
   {
    "duration": 17,
    "start_time": "2023-07-07T14:21:04.366Z"
   },
   {
    "duration": 9,
    "start_time": "2023-07-07T14:21:04.385Z"
   },
   {
    "duration": 15,
    "start_time": "2023-07-07T14:21:04.396Z"
   },
   {
    "duration": 15,
    "start_time": "2023-07-07T14:21:04.412Z"
   },
   {
    "duration": 12,
    "start_time": "2023-07-07T14:21:04.429Z"
   },
   {
    "duration": 19,
    "start_time": "2023-07-07T14:21:04.443Z"
   },
   {
    "duration": 12,
    "start_time": "2023-07-07T14:21:04.465Z"
   },
   {
    "duration": 35,
    "start_time": "2023-07-07T14:21:04.480Z"
   },
   {
    "duration": 460,
    "start_time": "2023-07-07T14:21:04.517Z"
   },
   {
    "duration": 11,
    "start_time": "2023-07-07T14:21:04.979Z"
   },
   {
    "duration": 193,
    "start_time": "2023-07-07T14:21:04.992Z"
   },
   {
    "duration": 22,
    "start_time": "2023-07-07T14:21:05.188Z"
   },
   {
    "duration": 175,
    "start_time": "2023-07-07T14:21:05.212Z"
   },
   {
    "duration": 5,
    "start_time": "2023-07-07T14:21:05.389Z"
   },
   {
    "duration": 23,
    "start_time": "2023-07-07T14:21:05.396Z"
   },
   {
    "duration": 33,
    "start_time": "2023-07-07T14:21:05.421Z"
   },
   {
    "duration": 15,
    "start_time": "2023-07-07T14:21:05.456Z"
   },
   {
    "duration": 33,
    "start_time": "2023-07-07T14:21:05.473Z"
   },
   {
    "duration": 30,
    "start_time": "2023-07-07T14:21:05.508Z"
   },
   {
    "duration": 211,
    "start_time": "2023-07-07T14:21:05.540Z"
   },
   {
    "duration": 396,
    "start_time": "2023-07-07T14:21:05.753Z"
   },
   {
    "duration": 21,
    "start_time": "2023-07-07T14:21:06.153Z"
   },
   {
    "duration": 50,
    "start_time": "2023-07-07T14:21:06.176Z"
   },
   {
    "duration": 239,
    "start_time": "2023-07-07T14:21:06.228Z"
   },
   {
    "duration": 39,
    "start_time": "2023-07-07T14:21:06.470Z"
   },
   {
    "duration": 50,
    "start_time": "2023-07-07T14:21:06.511Z"
   },
   {
    "duration": 73,
    "start_time": "2023-07-07T14:21:06.566Z"
   },
   {
    "duration": 7,
    "start_time": "2023-07-07T14:21:06.641Z"
   },
   {
    "duration": 23,
    "start_time": "2023-07-07T14:21:06.650Z"
   },
   {
    "duration": 34,
    "start_time": "2023-07-07T14:21:06.675Z"
   },
   {
    "duration": 21,
    "start_time": "2023-07-07T14:21:06.711Z"
   },
   {
    "duration": 17,
    "start_time": "2023-07-07T14:21:06.734Z"
   },
   {
    "duration": 11,
    "start_time": "2023-07-07T14:21:06.753Z"
   },
   {
    "duration": 18,
    "start_time": "2023-07-07T14:21:06.767Z"
   },
   {
    "duration": 26,
    "start_time": "2023-07-07T14:21:06.787Z"
   },
   {
    "duration": 40,
    "start_time": "2023-07-07T14:21:06.815Z"
   },
   {
    "duration": 211,
    "start_time": "2023-07-07T14:21:06.858Z"
   },
   {
    "duration": 15,
    "start_time": "2023-07-07T14:21:07.072Z"
   },
   {
    "duration": 208,
    "start_time": "2023-07-07T14:21:07.089Z"
   },
   {
    "duration": 14,
    "start_time": "2023-07-07T14:21:07.300Z"
   },
   {
    "duration": 14,
    "start_time": "2023-07-07T14:21:07.316Z"
   },
   {
    "duration": 43,
    "start_time": "2023-07-07T14:21:07.332Z"
   },
   {
    "duration": 194,
    "start_time": "2023-07-07T14:21:07.377Z"
   },
   {
    "duration": 10,
    "start_time": "2023-07-07T14:21:07.573Z"
   },
   {
    "duration": 44,
    "start_time": "2023-07-07T14:21:07.585Z"
   },
   {
    "duration": 219,
    "start_time": "2023-07-07T14:21:07.631Z"
   },
   {
    "duration": 16,
    "start_time": "2023-07-07T14:21:07.853Z"
   },
   {
    "duration": 325,
    "start_time": "2023-07-07T14:21:07.871Z"
   },
   {
    "duration": 12,
    "start_time": "2023-07-07T14:21:08.199Z"
   },
   {
    "duration": 26,
    "start_time": "2023-07-07T14:21:08.213Z"
   },
   {
    "duration": 15,
    "start_time": "2023-07-07T14:21:08.241Z"
   },
   {
    "duration": 34,
    "start_time": "2023-07-07T14:21:08.259Z"
   },
   {
    "duration": 206,
    "start_time": "2023-07-07T14:21:08.296Z"
   },
   {
    "duration": 17,
    "start_time": "2023-07-07T14:21:08.509Z"
   },
   {
    "duration": 221,
    "start_time": "2023-07-07T14:21:08.528Z"
   },
   {
    "duration": 24,
    "start_time": "2023-07-07T14:21:08.752Z"
   },
   {
    "duration": 219,
    "start_time": "2023-07-07T14:21:08.779Z"
   },
   {
    "duration": 14,
    "start_time": "2023-07-07T14:21:09.000Z"
   },
   {
    "duration": 13,
    "start_time": "2023-07-07T14:21:09.016Z"
   },
   {
    "duration": 10,
    "start_time": "2023-07-07T14:21:09.032Z"
   },
   {
    "duration": 24,
    "start_time": "2023-07-07T14:23:35.788Z"
   },
   {
    "duration": 731,
    "start_time": "2023-07-07T14:41:06.203Z"
   },
   {
    "duration": 13,
    "start_time": "2023-07-07T14:41:06.937Z"
   },
   {
    "duration": 44,
    "start_time": "2023-07-07T14:41:06.953Z"
   },
   {
    "duration": 43,
    "start_time": "2023-07-07T14:41:07.000Z"
   },
   {
    "duration": 20,
    "start_time": "2023-07-07T14:41:07.046Z"
   },
   {
    "duration": 47,
    "start_time": "2023-07-07T14:41:07.068Z"
   },
   {
    "duration": 12,
    "start_time": "2023-07-07T14:41:07.117Z"
   },
   {
    "duration": 31,
    "start_time": "2023-07-07T14:41:07.131Z"
   },
   {
    "duration": 9,
    "start_time": "2023-07-07T14:41:07.165Z"
   },
   {
    "duration": 36,
    "start_time": "2023-07-07T14:41:07.178Z"
   },
   {
    "duration": 21,
    "start_time": "2023-07-07T14:41:07.216Z"
   },
   {
    "duration": 61,
    "start_time": "2023-07-07T14:41:07.250Z"
   },
   {
    "duration": 44,
    "start_time": "2023-07-07T14:41:07.314Z"
   },
   {
    "duration": 29,
    "start_time": "2023-07-07T14:41:07.361Z"
   },
   {
    "duration": 51,
    "start_time": "2023-07-07T14:41:07.392Z"
   },
   {
    "duration": 25,
    "start_time": "2023-07-07T14:41:07.445Z"
   },
   {
    "duration": 34,
    "start_time": "2023-07-07T14:41:07.472Z"
   },
   {
    "duration": 20,
    "start_time": "2023-07-07T14:41:07.508Z"
   },
   {
    "duration": 34,
    "start_time": "2023-07-07T14:41:07.530Z"
   },
   {
    "duration": 55,
    "start_time": "2023-07-07T14:41:07.566Z"
   },
   {
    "duration": 29,
    "start_time": "2023-07-07T14:41:07.623Z"
   },
   {
    "duration": 40,
    "start_time": "2023-07-07T14:41:07.654Z"
   },
   {
    "duration": 469,
    "start_time": "2023-07-07T14:41:07.697Z"
   },
   {
    "duration": 11,
    "start_time": "2023-07-07T14:41:08.169Z"
   },
   {
    "duration": 204,
    "start_time": "2023-07-07T14:41:08.182Z"
   },
   {
    "duration": 10,
    "start_time": "2023-07-07T14:41:08.389Z"
   },
   {
    "duration": 177,
    "start_time": "2023-07-07T14:41:08.410Z"
   },
   {
    "duration": 16,
    "start_time": "2023-07-07T14:41:08.593Z"
   },
   {
    "duration": 20,
    "start_time": "2023-07-07T14:41:08.611Z"
   },
   {
    "duration": 18,
    "start_time": "2023-07-07T14:41:08.633Z"
   },
   {
    "duration": 11,
    "start_time": "2023-07-07T14:41:08.653Z"
   },
   {
    "duration": 30,
    "start_time": "2023-07-07T14:41:08.666Z"
   },
   {
    "duration": 30,
    "start_time": "2023-07-07T14:41:08.698Z"
   },
   {
    "duration": 231,
    "start_time": "2023-07-07T14:41:08.730Z"
   },
   {
    "duration": 297,
    "start_time": "2023-07-07T14:41:08.964Z"
   },
   {
    "duration": 21,
    "start_time": "2023-07-07T14:41:09.263Z"
   },
   {
    "duration": 42,
    "start_time": "2023-07-07T14:41:09.286Z"
   },
   {
    "duration": 235,
    "start_time": "2023-07-07T14:41:09.331Z"
   },
   {
    "duration": 26,
    "start_time": "2023-07-07T14:41:09.568Z"
   },
   {
    "duration": 50,
    "start_time": "2023-07-07T14:41:09.608Z"
   },
   {
    "duration": 71,
    "start_time": "2023-07-07T14:41:09.660Z"
   },
   {
    "duration": 8,
    "start_time": "2023-07-07T14:41:09.733Z"
   },
   {
    "duration": 44,
    "start_time": "2023-07-07T14:41:09.744Z"
   },
   {
    "duration": 46,
    "start_time": "2023-07-07T14:41:09.791Z"
   },
   {
    "duration": 32,
    "start_time": "2023-07-07T14:41:09.840Z"
   },
   {
    "duration": 18,
    "start_time": "2023-07-07T14:41:09.875Z"
   },
   {
    "duration": 14,
    "start_time": "2023-07-07T14:41:09.896Z"
   },
   {
    "duration": 30,
    "start_time": "2023-07-07T14:41:09.912Z"
   },
   {
    "duration": 33,
    "start_time": "2023-07-07T14:41:09.945Z"
   },
   {
    "duration": 47,
    "start_time": "2023-07-07T14:41:09.980Z"
   },
   {
    "duration": 249,
    "start_time": "2023-07-07T14:41:10.029Z"
   },
   {
    "duration": 15,
    "start_time": "2023-07-07T14:41:10.280Z"
   },
   {
    "duration": 200,
    "start_time": "2023-07-07T14:41:10.309Z"
   },
   {
    "duration": 8,
    "start_time": "2023-07-07T14:41:10.511Z"
   },
   {
    "duration": 21,
    "start_time": "2023-07-07T14:41:10.521Z"
   },
   {
    "duration": 27,
    "start_time": "2023-07-07T14:41:10.544Z"
   },
   {
    "duration": 225,
    "start_time": "2023-07-07T14:41:10.573Z"
   },
   {
    "duration": 13,
    "start_time": "2023-07-07T14:41:10.800Z"
   },
   {
    "duration": 28,
    "start_time": "2023-07-07T14:41:10.815Z"
   },
   {
    "duration": 225,
    "start_time": "2023-07-07T14:41:10.845Z"
   },
   {
    "duration": 17,
    "start_time": "2023-07-07T14:41:11.072Z"
   },
   {
    "duration": 329,
    "start_time": "2023-07-07T14:41:11.091Z"
   },
   {
    "duration": 7,
    "start_time": "2023-07-07T14:41:11.424Z"
   },
   {
    "duration": 26,
    "start_time": "2023-07-07T14:41:11.433Z"
   },
   {
    "duration": 17,
    "start_time": "2023-07-07T14:41:11.461Z"
   },
   {
    "duration": 39,
    "start_time": "2023-07-07T14:41:11.480Z"
   },
   {
    "duration": 19,
    "start_time": "2023-07-07T14:41:11.521Z"
   },
   {
    "duration": 196,
    "start_time": "2023-07-07T14:41:11.542Z"
   },
   {
    "duration": 16,
    "start_time": "2023-07-07T14:41:11.740Z"
   },
   {
    "duration": 213,
    "start_time": "2023-07-07T14:41:11.759Z"
   },
   {
    "duration": 36,
    "start_time": "2023-07-07T14:41:11.974Z"
   },
   {
    "duration": 256,
    "start_time": "2023-07-07T14:41:12.019Z"
   },
   {
    "duration": 11,
    "start_time": "2023-07-07T14:41:12.277Z"
   },
   {
    "duration": 42,
    "start_time": "2023-07-07T14:41:12.289Z"
   },
   {
    "duration": 12,
    "start_time": "2023-07-07T14:41:12.334Z"
   },
   {
    "duration": 764,
    "start_time": "2023-07-08T10:43:13.610Z"
   },
   {
    "duration": 9,
    "start_time": "2023-07-08T10:43:14.376Z"
   },
   {
    "duration": 31,
    "start_time": "2023-07-08T10:43:14.386Z"
   },
   {
    "duration": 27,
    "start_time": "2023-07-08T10:43:14.419Z"
   },
   {
    "duration": 16,
    "start_time": "2023-07-08T10:43:14.449Z"
   },
   {
    "duration": 27,
    "start_time": "2023-07-08T10:43:14.467Z"
   },
   {
    "duration": 10,
    "start_time": "2023-07-08T10:43:14.495Z"
   },
   {
    "duration": 31,
    "start_time": "2023-07-08T10:43:14.507Z"
   },
   {
    "duration": 5,
    "start_time": "2023-07-08T10:43:14.540Z"
   },
   {
    "duration": 24,
    "start_time": "2023-07-08T10:43:14.547Z"
   },
   {
    "duration": 26,
    "start_time": "2023-07-08T10:43:14.573Z"
   },
   {
    "duration": 24,
    "start_time": "2023-07-08T10:43:14.601Z"
   },
   {
    "duration": 31,
    "start_time": "2023-07-08T10:43:14.627Z"
   },
   {
    "duration": 22,
    "start_time": "2023-07-08T10:43:14.662Z"
   },
   {
    "duration": 19,
    "start_time": "2023-07-08T10:43:14.685Z"
   },
   {
    "duration": 17,
    "start_time": "2023-07-08T10:43:14.706Z"
   },
   {
    "duration": 17,
    "start_time": "2023-07-08T10:43:14.725Z"
   },
   {
    "duration": 12,
    "start_time": "2023-07-08T10:43:14.745Z"
   },
   {
    "duration": 28,
    "start_time": "2023-07-08T10:43:14.759Z"
   },
   {
    "duration": 8,
    "start_time": "2023-07-08T10:43:14.789Z"
   },
   {
    "duration": 11,
    "start_time": "2023-07-08T10:43:14.799Z"
   },
   {
    "duration": 22,
    "start_time": "2023-07-08T10:43:14.811Z"
   },
   {
    "duration": 530,
    "start_time": "2023-07-08T10:43:14.834Z"
   },
   {
    "duration": 9,
    "start_time": "2023-07-08T10:43:15.365Z"
   },
   {
    "duration": 150,
    "start_time": "2023-07-08T10:43:15.376Z"
   },
   {
    "duration": 8,
    "start_time": "2023-07-08T10:43:15.531Z"
   },
   {
    "duration": 140,
    "start_time": "2023-07-08T10:43:15.541Z"
   },
   {
    "duration": 5,
    "start_time": "2023-07-08T10:43:15.682Z"
   },
   {
    "duration": 15,
    "start_time": "2023-07-08T10:43:15.688Z"
   },
   {
    "duration": 9,
    "start_time": "2023-07-08T10:43:15.705Z"
   },
   {
    "duration": 17,
    "start_time": "2023-07-08T10:43:15.715Z"
   },
   {
    "duration": 16,
    "start_time": "2023-07-08T10:43:15.733Z"
   },
   {
    "duration": 23,
    "start_time": "2023-07-08T10:43:15.751Z"
   },
   {
    "duration": 170,
    "start_time": "2023-07-08T10:43:15.775Z"
   },
   {
    "duration": 233,
    "start_time": "2023-07-08T10:43:15.947Z"
   },
   {
    "duration": 16,
    "start_time": "2023-07-08T10:43:16.182Z"
   },
   {
    "duration": 17,
    "start_time": "2023-07-08T10:43:16.200Z"
   },
   {
    "duration": 174,
    "start_time": "2023-07-08T10:43:16.219Z"
   },
   {
    "duration": 18,
    "start_time": "2023-07-08T10:43:16.395Z"
   },
   {
    "duration": 38,
    "start_time": "2023-07-08T10:43:16.431Z"
   },
   {
    "duration": 39,
    "start_time": "2023-07-08T10:43:16.473Z"
   },
   {
    "duration": 19,
    "start_time": "2023-07-08T10:43:16.514Z"
   },
   {
    "duration": 19,
    "start_time": "2023-07-08T10:43:16.534Z"
   },
   {
    "duration": 11,
    "start_time": "2023-07-08T10:43:16.554Z"
   },
   {
    "duration": 10,
    "start_time": "2023-07-08T10:43:16.567Z"
   },
   {
    "duration": 4,
    "start_time": "2023-07-08T10:43:16.578Z"
   },
   {
    "duration": 6,
    "start_time": "2023-07-08T10:43:16.583Z"
   },
   {
    "duration": 22,
    "start_time": "2023-07-08T10:43:16.591Z"
   },
   {
    "duration": 4,
    "start_time": "2023-07-08T10:43:16.631Z"
   },
   {
    "duration": 38,
    "start_time": "2023-07-08T10:43:16.637Z"
   },
   {
    "duration": 166,
    "start_time": "2023-07-08T10:43:16.676Z"
   },
   {
    "duration": 12,
    "start_time": "2023-07-08T10:43:16.844Z"
   },
   {
    "duration": 167,
    "start_time": "2023-07-08T10:43:16.857Z"
   },
   {
    "duration": 8,
    "start_time": "2023-07-08T10:43:17.026Z"
   },
   {
    "duration": 12,
    "start_time": "2023-07-08T10:43:17.036Z"
   },
   {
    "duration": 28,
    "start_time": "2023-07-08T10:43:17.050Z"
   },
   {
    "duration": 153,
    "start_time": "2023-07-08T10:43:17.080Z"
   },
   {
    "duration": 8,
    "start_time": "2023-07-08T10:43:17.235Z"
   },
   {
    "duration": 21,
    "start_time": "2023-07-08T10:43:17.245Z"
   },
   {
    "duration": 189,
    "start_time": "2023-07-08T10:43:17.268Z"
   },
   {
    "duration": 14,
    "start_time": "2023-07-08T10:43:17.458Z"
   },
   {
    "duration": 272,
    "start_time": "2023-07-08T10:43:17.474Z"
   },
   {
    "duration": 6,
    "start_time": "2023-07-08T10:43:17.748Z"
   },
   {
    "duration": 21,
    "start_time": "2023-07-08T10:43:17.756Z"
   },
   {
    "duration": 15,
    "start_time": "2023-07-08T10:43:17.780Z"
   },
   {
    "duration": 7,
    "start_time": "2023-07-08T10:43:17.797Z"
   },
   {
    "duration": 36,
    "start_time": "2023-07-08T10:43:17.806Z"
   },
   {
    "duration": 166,
    "start_time": "2023-07-08T10:43:17.844Z"
   },
   {
    "duration": 21,
    "start_time": "2023-07-08T10:43:18.012Z"
   },
   {
    "duration": 168,
    "start_time": "2023-07-08T10:43:18.035Z"
   },
   {
    "duration": 18,
    "start_time": "2023-07-08T10:43:18.205Z"
   },
   {
    "duration": 161,
    "start_time": "2023-07-08T10:43:18.232Z"
   },
   {
    "duration": 8,
    "start_time": "2023-07-08T10:43:18.395Z"
   },
   {
    "duration": 12,
    "start_time": "2023-07-08T10:43:18.404Z"
   },
   {
    "duration": 28,
    "start_time": "2023-07-08T10:43:18.417Z"
   },
   {
    "duration": 28,
    "start_time": "2023-07-08T11:05:47.728Z"
   },
   {
    "duration": 26,
    "start_time": "2023-07-08T11:05:54.422Z"
   },
   {
    "duration": 148,
    "start_time": "2023-07-08T14:39:18.904Z"
   },
   {
    "duration": 52,
    "start_time": "2023-07-08T14:43:00.905Z"
   },
   {
    "duration": 768,
    "start_time": "2023-07-08T14:43:13.199Z"
   },
   {
    "duration": 10,
    "start_time": "2023-07-08T14:43:13.969Z"
   },
   {
    "duration": 28,
    "start_time": "2023-07-08T14:43:13.980Z"
   },
   {
    "duration": 35,
    "start_time": "2023-07-08T14:43:14.010Z"
   },
   {
    "duration": 15,
    "start_time": "2023-07-08T14:43:14.048Z"
   },
   {
    "duration": 18,
    "start_time": "2023-07-08T14:43:14.064Z"
   },
   {
    "duration": 9,
    "start_time": "2023-07-08T14:43:14.084Z"
   },
   {
    "duration": 10,
    "start_time": "2023-07-08T14:43:14.095Z"
   },
   {
    "duration": 14,
    "start_time": "2023-07-08T14:43:14.131Z"
   },
   {
    "duration": 9,
    "start_time": "2023-07-08T14:43:14.147Z"
   },
   {
    "duration": 15,
    "start_time": "2023-07-08T14:43:14.157Z"
   },
   {
    "duration": 6,
    "start_time": "2023-07-08T14:43:14.173Z"
   },
   {
    "duration": 9,
    "start_time": "2023-07-08T14:43:14.180Z"
   },
   {
    "duration": 10,
    "start_time": "2023-07-08T14:43:14.191Z"
   },
   {
    "duration": 37,
    "start_time": "2023-07-08T14:43:14.202Z"
   },
   {
    "duration": 6,
    "start_time": "2023-07-08T14:43:14.244Z"
   },
   {
    "duration": 8,
    "start_time": "2023-07-08T14:43:14.251Z"
   },
   {
    "duration": 13,
    "start_time": "2023-07-08T14:43:14.260Z"
   },
   {
    "duration": 7,
    "start_time": "2023-07-08T14:43:14.274Z"
   },
   {
    "duration": 7,
    "start_time": "2023-07-08T14:43:14.282Z"
   },
   {
    "duration": 3,
    "start_time": "2023-07-08T14:43:14.290Z"
   },
   {
    "duration": 8,
    "start_time": "2023-07-08T14:43:14.295Z"
   },
   {
    "duration": 655,
    "start_time": "2023-07-08T14:43:14.304Z"
   },
   {
    "duration": 9,
    "start_time": "2023-07-08T14:43:14.963Z"
   },
   {
    "duration": 175,
    "start_time": "2023-07-08T14:43:14.973Z"
   },
   {
    "duration": 7,
    "start_time": "2023-07-08T14:43:15.150Z"
   },
   {
    "duration": 140,
    "start_time": "2023-07-08T14:43:15.158Z"
   },
   {
    "duration": 4,
    "start_time": "2023-07-08T14:43:15.300Z"
   },
   {
    "duration": 14,
    "start_time": "2023-07-08T14:43:15.306Z"
   },
   {
    "duration": 20,
    "start_time": "2023-07-08T14:43:15.321Z"
   },
   {
    "duration": 9,
    "start_time": "2023-07-08T14:43:15.345Z"
   },
   {
    "duration": 37,
    "start_time": "2023-07-08T14:43:15.355Z"
   },
   {
    "duration": 25,
    "start_time": "2023-07-08T14:43:15.393Z"
   },
   {
    "duration": 174,
    "start_time": "2023-07-08T14:43:15.420Z"
   },
   {
    "duration": 253,
    "start_time": "2023-07-08T14:43:15.596Z"
   },
   {
    "duration": 14,
    "start_time": "2023-07-08T14:43:15.851Z"
   },
   {
    "duration": 8,
    "start_time": "2023-07-08T14:43:15.867Z"
   },
   {
    "duration": 198,
    "start_time": "2023-07-08T14:43:15.876Z"
   },
   {
    "duration": 18,
    "start_time": "2023-07-08T14:43:16.076Z"
   },
   {
    "duration": 52,
    "start_time": "2023-07-08T14:43:16.095Z"
   },
   {
    "duration": 36,
    "start_time": "2023-07-08T14:43:16.151Z"
   },
   {
    "duration": 4,
    "start_time": "2023-07-08T14:43:16.189Z"
   },
   {
    "duration": 19,
    "start_time": "2023-07-08T14:43:16.195Z"
   },
   {
    "duration": 11,
    "start_time": "2023-07-08T14:43:16.237Z"
   },
   {
    "duration": 11,
    "start_time": "2023-07-08T14:43:16.250Z"
   },
   {
    "duration": 13,
    "start_time": "2023-07-08T14:43:16.263Z"
   },
   {
    "duration": 6,
    "start_time": "2023-07-08T14:43:16.277Z"
   },
   {
    "duration": 13,
    "start_time": "2023-07-08T14:43:16.285Z"
   },
   {
    "duration": 8,
    "start_time": "2023-07-08T14:43:16.300Z"
   },
   {
    "duration": 38,
    "start_time": "2023-07-08T14:43:16.310Z"
   },
   {
    "duration": 172,
    "start_time": "2023-07-08T14:43:16.350Z"
   },
   {
    "duration": 21,
    "start_time": "2023-07-08T14:43:16.523Z"
   },
   {
    "duration": 171,
    "start_time": "2023-07-08T14:43:16.546Z"
   },
   {
    "duration": 5,
    "start_time": "2023-07-08T14:43:16.718Z"
   },
   {
    "duration": 62,
    "start_time": "2023-07-08T14:43:16.724Z"
   },
   {
    "duration": 33,
    "start_time": "2023-07-08T14:43:16.788Z"
   },
   {
    "duration": 163,
    "start_time": "2023-07-08T14:43:16.822Z"
   },
   {
    "duration": 8,
    "start_time": "2023-07-08T14:43:16.987Z"
   },
   {
    "duration": 29,
    "start_time": "2023-07-08T14:43:16.996Z"
   },
   {
    "duration": 167,
    "start_time": "2023-07-08T14:43:17.026Z"
   },
   {
    "duration": 13,
    "start_time": "2023-07-08T14:43:17.194Z"
   },
   {
    "duration": 274,
    "start_time": "2023-07-08T14:43:17.209Z"
   },
   {
    "duration": 5,
    "start_time": "2023-07-08T14:43:17.484Z"
   },
   {
    "duration": 16,
    "start_time": "2023-07-08T14:43:17.490Z"
   },
   {
    "duration": 37,
    "start_time": "2023-07-08T14:43:17.508Z"
   },
   {
    "duration": 8,
    "start_time": "2023-07-08T14:43:17.547Z"
   },
   {
    "duration": 14,
    "start_time": "2023-07-08T14:43:17.556Z"
   },
   {
    "duration": 177,
    "start_time": "2023-07-08T14:43:17.571Z"
   },
   {
    "duration": 16,
    "start_time": "2023-07-08T14:43:17.750Z"
   },
   {
    "duration": 200,
    "start_time": "2023-07-08T14:43:17.768Z"
   },
   {
    "duration": 22,
    "start_time": "2023-07-08T14:43:17.970Z"
   },
   {
    "duration": 191,
    "start_time": "2023-07-08T14:43:17.994Z"
   },
   {
    "duration": 8,
    "start_time": "2023-07-08T14:43:18.187Z"
   },
   {
    "duration": 10,
    "start_time": "2023-07-08T14:43:18.197Z"
   },
   {
    "duration": 25,
    "start_time": "2023-07-08T14:43:18.208Z"
   },
   {
    "duration": 8,
    "start_time": "2023-07-08T14:44:12.363Z"
   },
   {
    "duration": 81,
    "start_time": "2023-07-08T14:44:52.774Z"
   },
   {
    "duration": 107,
    "start_time": "2023-07-08T14:46:00.563Z"
   },
   {
    "duration": 67,
    "start_time": "2023-07-08T14:46:58.219Z"
   },
   {
    "duration": 8,
    "start_time": "2023-07-08T14:47:03.606Z"
   },
   {
    "duration": 8,
    "start_time": "2023-07-08T14:47:27.632Z"
   },
   {
    "duration": 560,
    "start_time": "2023-07-08T14:57:23.148Z"
   },
   {
    "duration": 9,
    "start_time": "2023-07-08T14:57:23.711Z"
   },
   {
    "duration": 30,
    "start_time": "2023-07-08T14:57:23.722Z"
   },
   {
    "duration": 50,
    "start_time": "2023-07-08T14:57:23.754Z"
   },
   {
    "duration": 14,
    "start_time": "2023-07-08T14:57:23.806Z"
   },
   {
    "duration": 38,
    "start_time": "2023-07-08T14:57:23.822Z"
   },
   {
    "duration": 23,
    "start_time": "2023-07-08T14:57:23.861Z"
   },
   {
    "duration": 69,
    "start_time": "2023-07-08T14:57:23.885Z"
   },
   {
    "duration": 11,
    "start_time": "2023-07-08T14:57:23.956Z"
   },
   {
    "duration": 10,
    "start_time": "2023-07-08T14:57:23.968Z"
   },
   {
    "duration": 17,
    "start_time": "2023-07-08T14:57:23.979Z"
   },
   {
    "duration": 19,
    "start_time": "2023-07-08T14:57:23.998Z"
   },
   {
    "duration": 9,
    "start_time": "2023-07-08T14:57:24.018Z"
   },
   {
    "duration": 32,
    "start_time": "2023-07-08T14:57:24.030Z"
   },
   {
    "duration": 18,
    "start_time": "2023-07-08T14:57:24.063Z"
   },
   {
    "duration": 12,
    "start_time": "2023-07-08T14:57:24.082Z"
   },
   {
    "duration": 12,
    "start_time": "2023-07-08T14:57:24.095Z"
   },
   {
    "duration": 31,
    "start_time": "2023-07-08T14:57:24.108Z"
   },
   {
    "duration": 37,
    "start_time": "2023-07-08T14:57:24.141Z"
   },
   {
    "duration": 4,
    "start_time": "2023-07-08T14:57:24.180Z"
   },
   {
    "duration": 10,
    "start_time": "2023-07-08T14:57:24.186Z"
   },
   {
    "duration": 6,
    "start_time": "2023-07-08T14:57:24.197Z"
   },
   {
    "duration": 10,
    "start_time": "2023-07-08T14:57:24.204Z"
   },
   {
    "duration": 392,
    "start_time": "2023-07-08T14:57:24.216Z"
   },
   {
    "duration": 9,
    "start_time": "2023-07-08T14:57:24.611Z"
   },
   {
    "duration": 194,
    "start_time": "2023-07-08T14:57:24.622Z"
   },
   {
    "duration": 16,
    "start_time": "2023-07-08T14:57:24.817Z"
   },
   {
    "duration": 151,
    "start_time": "2023-07-08T14:57:24.838Z"
   },
   {
    "duration": 4,
    "start_time": "2023-07-08T14:57:24.991Z"
   },
   {
    "duration": 22,
    "start_time": "2023-07-08T14:57:24.996Z"
   },
   {
    "duration": 12,
    "start_time": "2023-07-08T14:57:25.019Z"
   },
   {
    "duration": 17,
    "start_time": "2023-07-08T14:57:25.034Z"
   },
   {
    "duration": 17,
    "start_time": "2023-07-08T14:57:25.052Z"
   },
   {
    "duration": 45,
    "start_time": "2023-07-08T14:57:25.070Z"
   },
   {
    "duration": 165,
    "start_time": "2023-07-08T14:57:25.117Z"
   },
   {
    "duration": 224,
    "start_time": "2023-07-08T14:57:25.284Z"
   },
   {
    "duration": 11,
    "start_time": "2023-07-08T14:57:25.510Z"
   },
   {
    "duration": 16,
    "start_time": "2023-07-08T14:57:25.531Z"
   },
   {
    "duration": 177,
    "start_time": "2023-07-08T14:57:25.549Z"
   },
   {
    "duration": 23,
    "start_time": "2023-07-08T14:57:25.735Z"
   },
   {
    "duration": 36,
    "start_time": "2023-07-08T14:57:25.762Z"
   },
   {
    "duration": 55,
    "start_time": "2023-07-08T14:57:25.800Z"
   },
   {
    "duration": 5,
    "start_time": "2023-07-08T14:57:25.857Z"
   },
   {
    "duration": 31,
    "start_time": "2023-07-08T14:57:25.863Z"
   },
   {
    "duration": 12,
    "start_time": "2023-07-08T14:57:25.896Z"
   },
   {
    "duration": 10,
    "start_time": "2023-07-08T14:57:25.909Z"
   },
   {
    "duration": 28,
    "start_time": "2023-07-08T14:57:25.921Z"
   },
   {
    "duration": 9,
    "start_time": "2023-07-08T14:57:25.950Z"
   },
   {
    "duration": 9,
    "start_time": "2023-07-08T14:57:25.960Z"
   },
   {
    "duration": 30,
    "start_time": "2023-07-08T14:57:25.971Z"
   },
   {
    "duration": 64,
    "start_time": "2023-07-08T14:57:26.003Z"
   },
   {
    "duration": 163,
    "start_time": "2023-07-08T14:57:26.069Z"
   },
   {
    "duration": 17,
    "start_time": "2023-07-08T14:57:26.234Z"
   },
   {
    "duration": 161,
    "start_time": "2023-07-08T14:57:26.252Z"
   },
   {
    "duration": 6,
    "start_time": "2023-07-08T14:57:26.414Z"
   },
   {
    "duration": 13,
    "start_time": "2023-07-08T14:57:26.432Z"
   },
   {
    "duration": 36,
    "start_time": "2023-07-08T14:57:26.448Z"
   },
   {
    "duration": 170,
    "start_time": "2023-07-08T14:57:26.486Z"
   },
   {
    "duration": 7,
    "start_time": "2023-07-08T14:57:26.658Z"
   },
   {
    "duration": 25,
    "start_time": "2023-07-08T14:57:26.666Z"
   },
   {
    "duration": 178,
    "start_time": "2023-07-08T14:57:26.692Z"
   },
   {
    "duration": 13,
    "start_time": "2023-07-08T14:57:26.872Z"
   },
   {
    "duration": 260,
    "start_time": "2023-07-08T14:57:26.886Z"
   },
   {
    "duration": 4,
    "start_time": "2023-07-08T14:57:27.148Z"
   },
   {
    "duration": 13,
    "start_time": "2023-07-08T14:57:27.154Z"
   },
   {
    "duration": 11,
    "start_time": "2023-07-08T14:57:27.169Z"
   },
   {
    "duration": 7,
    "start_time": "2023-07-08T14:57:27.181Z"
   },
   {
    "duration": 14,
    "start_time": "2023-07-08T14:57:27.189Z"
   },
   {
    "duration": 188,
    "start_time": "2023-07-08T14:57:27.204Z"
   },
   {
    "duration": 12,
    "start_time": "2023-07-08T14:57:27.394Z"
   },
   {
    "duration": 172,
    "start_time": "2023-07-08T14:57:27.407Z"
   },
   {
    "duration": 21,
    "start_time": "2023-07-08T14:57:27.580Z"
   },
   {
    "duration": 181,
    "start_time": "2023-07-08T14:57:27.602Z"
   },
   {
    "duration": 7,
    "start_time": "2023-07-08T14:57:27.785Z"
   },
   {
    "duration": 15,
    "start_time": "2023-07-08T14:57:27.793Z"
   },
   {
    "duration": 15,
    "start_time": "2023-07-08T14:57:27.809Z"
   },
   {
    "duration": 102,
    "start_time": "2023-07-08T15:03:45.004Z"
   },
   {
    "duration": 80,
    "start_time": "2023-07-08T15:04:38.409Z"
   },
   {
    "duration": 18,
    "start_time": "2023-07-08T15:05:54.505Z"
   },
   {
    "duration": 166,
    "start_time": "2023-07-08T15:10:28.809Z"
   },
   {
    "duration": 212,
    "start_time": "2023-07-08T15:11:08.552Z"
   },
   {
    "duration": 69,
    "start_time": "2023-07-08T15:17:11.356Z"
   },
   {
    "duration": 67,
    "start_time": "2023-07-08T15:27:03.185Z"
   },
   {
    "duration": 81,
    "start_time": "2023-07-08T15:27:13.946Z"
   },
   {
    "duration": 110,
    "start_time": "2023-07-08T15:28:35.505Z"
   },
   {
    "duration": 88,
    "start_time": "2023-07-08T15:29:25.217Z"
   },
   {
    "duration": 136,
    "start_time": "2023-07-08T15:30:29.947Z"
   },
   {
    "duration": 103,
    "start_time": "2023-07-08T15:31:30.612Z"
   },
   {
    "duration": 20,
    "start_time": "2023-07-08T15:34:13.537Z"
   },
   {
    "duration": 16,
    "start_time": "2023-07-08T15:35:31.122Z"
   },
   {
    "duration": 20,
    "start_time": "2023-07-08T15:37:11.245Z"
   },
   {
    "duration": 6,
    "start_time": "2023-07-08T15:37:36.317Z"
   },
   {
    "duration": 3,
    "start_time": "2023-07-08T15:37:44.512Z"
   },
   {
    "duration": 22,
    "start_time": "2023-07-08T15:37:48.605Z"
   },
   {
    "duration": 22,
    "start_time": "2023-07-08T15:41:43.037Z"
   },
   {
    "duration": 7,
    "start_time": "2023-07-08T15:42:58.064Z"
   },
   {
    "duration": 4,
    "start_time": "2023-07-08T15:45:38.408Z"
   },
   {
    "duration": 122,
    "start_time": "2023-07-08T15:45:46.803Z"
   },
   {
    "duration": 8,
    "start_time": "2023-07-08T15:46:14.217Z"
   },
   {
    "duration": 30,
    "start_time": "2023-07-08T15:46:34.611Z"
   },
   {
    "duration": 759,
    "start_time": "2023-07-08T15:47:08.597Z"
   },
   {
    "duration": 9,
    "start_time": "2023-07-08T15:47:09.358Z"
   },
   {
    "duration": 19,
    "start_time": "2023-07-08T15:47:09.368Z"
   },
   {
    "duration": 24,
    "start_time": "2023-07-08T15:47:09.389Z"
   },
   {
    "duration": 22,
    "start_time": "2023-07-08T15:47:09.415Z"
   },
   {
    "duration": 18,
    "start_time": "2023-07-08T15:47:09.439Z"
   },
   {
    "duration": 9,
    "start_time": "2023-07-08T15:47:09.458Z"
   },
   {
    "duration": 10,
    "start_time": "2023-07-08T15:47:09.468Z"
   },
   {
    "duration": 13,
    "start_time": "2023-07-08T15:47:09.480Z"
   },
   {
    "duration": 12,
    "start_time": "2023-07-08T15:47:09.494Z"
   },
   {
    "duration": 10,
    "start_time": "2023-07-08T15:47:09.507Z"
   },
   {
    "duration": 23,
    "start_time": "2023-07-08T15:47:09.519Z"
   },
   {
    "duration": 7,
    "start_time": "2023-07-08T15:47:09.544Z"
   },
   {
    "duration": 8,
    "start_time": "2023-07-08T15:47:09.554Z"
   },
   {
    "duration": 10,
    "start_time": "2023-07-08T15:47:09.563Z"
   },
   {
    "duration": 7,
    "start_time": "2023-07-08T15:47:09.575Z"
   },
   {
    "duration": 12,
    "start_time": "2023-07-08T15:47:09.584Z"
   },
   {
    "duration": 8,
    "start_time": "2023-07-08T15:47:09.597Z"
   },
   {
    "duration": 30,
    "start_time": "2023-07-08T15:47:09.607Z"
   },
   {
    "duration": 5,
    "start_time": "2023-07-08T15:47:09.638Z"
   },
   {
    "duration": 8,
    "start_time": "2023-07-08T15:47:09.644Z"
   },
   {
    "duration": 6,
    "start_time": "2023-07-08T15:47:09.653Z"
   },
   {
    "duration": 12,
    "start_time": "2023-07-08T15:47:09.660Z"
   },
   {
    "duration": 152,
    "start_time": "2023-07-08T15:47:09.674Z"
   },
   {
    "duration": 9,
    "start_time": "2023-07-08T15:47:09.831Z"
   },
   {
    "duration": 148,
    "start_time": "2023-07-08T15:47:09.841Z"
   },
   {
    "duration": 9,
    "start_time": "2023-07-08T15:47:09.990Z"
   },
   {
    "duration": 32,
    "start_time": "2023-07-08T15:47:10.001Z"
   },
   {
    "duration": 7,
    "start_time": "2023-07-08T15:47:10.035Z"
   },
   {
    "duration": 11,
    "start_time": "2023-07-08T15:47:10.044Z"
   },
   {
    "duration": 32,
    "start_time": "2023-07-08T15:47:10.057Z"
   },
   {
    "duration": 123,
    "start_time": "2023-07-08T15:47:10.091Z"
   },
   {
    "duration": 4,
    "start_time": "2023-07-08T15:47:10.216Z"
   },
   {
    "duration": 17,
    "start_time": "2023-07-08T15:47:10.221Z"
   },
   {
    "duration": 13,
    "start_time": "2023-07-08T15:47:10.239Z"
   },
   {
    "duration": 14,
    "start_time": "2023-07-08T15:47:10.254Z"
   },
   {
    "duration": 48,
    "start_time": "2023-07-08T15:47:10.269Z"
   },
   {
    "duration": 26,
    "start_time": "2023-07-08T15:47:10.319Z"
   },
   {
    "duration": 167,
    "start_time": "2023-07-08T15:47:10.347Z"
   },
   {
    "duration": 226,
    "start_time": "2023-07-08T15:47:10.516Z"
   },
   {
    "duration": 12,
    "start_time": "2023-07-08T15:47:10.747Z"
   },
   {
    "duration": 8,
    "start_time": "2023-07-08T15:47:10.761Z"
   },
   {
    "duration": 171,
    "start_time": "2023-07-08T15:47:10.770Z"
   },
   {
    "duration": 17,
    "start_time": "2023-07-08T15:47:10.942Z"
   },
   {
    "duration": 183,
    "start_time": "2023-07-08T15:47:10.961Z"
   },
   {
    "duration": 169,
    "start_time": "2023-07-08T15:47:11.146Z"
   },
   {
    "duration": 47,
    "start_time": "2023-07-08T15:47:11.317Z"
   },
   {
    "duration": 39,
    "start_time": "2023-07-08T15:47:11.366Z"
   },
   {
    "duration": 27,
    "start_time": "2023-07-08T15:47:11.407Z"
   },
   {
    "duration": 19,
    "start_time": "2023-07-08T15:47:11.435Z"
   },
   {
    "duration": 10,
    "start_time": "2023-07-08T15:47:11.455Z"
   },
   {
    "duration": 11,
    "start_time": "2023-07-08T15:47:11.466Z"
   },
   {
    "duration": 19,
    "start_time": "2023-07-08T15:47:11.478Z"
   },
   {
    "duration": 11,
    "start_time": "2023-07-08T15:47:11.498Z"
   },
   {
    "duration": 8,
    "start_time": "2023-07-08T15:47:11.510Z"
   },
   {
    "duration": 10,
    "start_time": "2023-07-08T15:47:11.520Z"
   },
   {
    "duration": 27,
    "start_time": "2023-07-08T15:47:11.531Z"
   },
   {
    "duration": 165,
    "start_time": "2023-07-08T15:47:11.559Z"
   },
   {
    "duration": 15,
    "start_time": "2023-07-08T15:47:11.725Z"
   },
   {
    "duration": 153,
    "start_time": "2023-07-08T15:47:11.742Z"
   },
   {
    "duration": 5,
    "start_time": "2023-07-08T15:47:11.896Z"
   },
   {
    "duration": 12,
    "start_time": "2023-07-08T15:47:11.902Z"
   },
   {
    "duration": 23,
    "start_time": "2023-07-08T15:47:11.916Z"
   },
   {
    "duration": 162,
    "start_time": "2023-07-08T15:47:11.941Z"
   },
   {
    "duration": 8,
    "start_time": "2023-07-08T15:47:12.105Z"
   },
   {
    "duration": 34,
    "start_time": "2023-07-08T15:47:12.114Z"
   },
   {
    "duration": 172,
    "start_time": "2023-07-08T15:47:12.149Z"
   },
   {
    "duration": 94,
    "start_time": "2023-07-08T15:47:12.322Z"
   },
   {
    "duration": 116,
    "start_time": "2023-07-08T15:47:12.418Z"
   },
   {
    "duration": 13,
    "start_time": "2023-07-08T15:47:12.536Z"
   },
   {
    "duration": 243,
    "start_time": "2023-07-08T15:47:12.550Z"
   },
   {
    "duration": 4,
    "start_time": "2023-07-08T15:47:12.794Z"
   },
   {
    "duration": 16,
    "start_time": "2023-07-08T15:47:12.800Z"
   },
   {
    "duration": 23,
    "start_time": "2023-07-08T15:47:12.817Z"
   },
   {
    "duration": 10,
    "start_time": "2023-07-08T15:47:12.841Z"
   },
   {
    "duration": 13,
    "start_time": "2023-07-08T15:47:12.852Z"
   },
   {
    "duration": 226,
    "start_time": "2023-07-08T15:47:12.866Z"
   },
   {
    "duration": 12,
    "start_time": "2023-07-08T15:47:13.093Z"
   },
   {
    "duration": 161,
    "start_time": "2023-07-08T15:47:13.107Z"
   },
   {
    "duration": 19,
    "start_time": "2023-07-08T15:47:13.269Z"
   },
   {
    "duration": 185,
    "start_time": "2023-07-08T15:47:13.289Z"
   },
   {
    "duration": 8,
    "start_time": "2023-07-08T15:47:13.475Z"
   },
   {
    "duration": 14,
    "start_time": "2023-07-08T15:47:13.485Z"
   },
   {
    "duration": 13,
    "start_time": "2023-07-08T15:47:13.500Z"
   },
   {
    "duration": 25,
    "start_time": "2023-07-08T15:48:33.599Z"
   },
   {
    "duration": 66,
    "start_time": "2023-07-08T15:55:23.829Z"
   },
   {
    "duration": 894,
    "start_time": "2023-07-08T15:56:44.046Z"
   },
   {
    "duration": 8,
    "start_time": "2023-07-08T15:56:51.600Z"
   },
   {
    "duration": 22,
    "start_time": "2023-07-08T15:57:09.910Z"
   },
   {
    "duration": 4,
    "start_time": "2023-07-08T15:58:01.861Z"
   },
   {
    "duration": 23,
    "start_time": "2023-07-08T15:58:14.019Z"
   },
   {
    "duration": 94,
    "start_time": "2023-07-08T15:59:21.348Z"
   },
   {
    "duration": 3,
    "start_time": "2023-07-08T15:59:29.143Z"
   },
   {
    "duration": 21,
    "start_time": "2023-07-08T15:59:33.149Z"
   },
   {
    "duration": 78,
    "start_time": "2023-07-08T16:00:27.503Z"
   },
   {
    "duration": 103,
    "start_time": "2023-07-08T16:04:09.148Z"
   },
   {
    "duration": 17,
    "start_time": "2023-07-08T16:04:31.019Z"
   },
   {
    "duration": 4,
    "start_time": "2023-07-08T16:11:57.911Z"
   },
   {
    "duration": 21,
    "start_time": "2023-07-08T16:11:59.826Z"
   },
   {
    "duration": 7,
    "start_time": "2023-07-08T16:12:41.603Z"
   },
   {
    "duration": 4,
    "start_time": "2023-07-08T16:12:48.808Z"
   },
   {
    "duration": 22,
    "start_time": "2023-07-08T16:12:51.859Z"
   },
   {
    "duration": 778,
    "start_time": "2023-07-08T16:13:48.609Z"
   },
   {
    "duration": 9,
    "start_time": "2023-07-08T16:13:49.389Z"
   },
   {
    "duration": 24,
    "start_time": "2023-07-08T16:13:49.400Z"
   },
   {
    "duration": 25,
    "start_time": "2023-07-08T16:13:49.425Z"
   },
   {
    "duration": 17,
    "start_time": "2023-07-08T16:13:49.452Z"
   },
   {
    "duration": 19,
    "start_time": "2023-07-08T16:13:49.471Z"
   },
   {
    "duration": 18,
    "start_time": "2023-07-08T16:13:49.492Z"
   },
   {
    "duration": 26,
    "start_time": "2023-07-08T16:13:49.511Z"
   },
   {
    "duration": 5,
    "start_time": "2023-07-08T16:13:49.538Z"
   },
   {
    "duration": 10,
    "start_time": "2023-07-08T16:13:49.544Z"
   },
   {
    "duration": 16,
    "start_time": "2023-07-08T16:13:49.556Z"
   },
   {
    "duration": 34,
    "start_time": "2023-07-08T16:13:49.573Z"
   },
   {
    "duration": 18,
    "start_time": "2023-07-08T16:13:49.608Z"
   },
   {
    "duration": 19,
    "start_time": "2023-07-08T16:13:49.630Z"
   },
   {
    "duration": 13,
    "start_time": "2023-07-08T16:13:49.651Z"
   },
   {
    "duration": 27,
    "start_time": "2023-07-08T16:13:49.665Z"
   },
   {
    "duration": 27,
    "start_time": "2023-07-08T16:13:49.694Z"
   },
   {
    "duration": 15,
    "start_time": "2023-07-08T16:13:49.722Z"
   },
   {
    "duration": 13,
    "start_time": "2023-07-08T16:13:49.739Z"
   },
   {
    "duration": 5,
    "start_time": "2023-07-08T16:13:49.754Z"
   },
   {
    "duration": 9,
    "start_time": "2023-07-08T16:13:49.761Z"
   },
   {
    "duration": 14,
    "start_time": "2023-07-08T16:13:49.771Z"
   },
   {
    "duration": 20,
    "start_time": "2023-07-08T16:13:49.787Z"
   },
   {
    "duration": 146,
    "start_time": "2023-07-08T16:13:49.808Z"
   },
   {
    "duration": 7,
    "start_time": "2023-07-08T16:13:49.956Z"
   },
   {
    "duration": 164,
    "start_time": "2023-07-08T16:13:49.964Z"
   },
   {
    "duration": 8,
    "start_time": "2023-07-08T16:13:50.129Z"
   },
   {
    "duration": 29,
    "start_time": "2023-07-08T16:13:50.139Z"
   },
   {
    "duration": 7,
    "start_time": "2023-07-08T16:13:50.169Z"
   },
   {
    "duration": 14,
    "start_time": "2023-07-08T16:13:50.177Z"
   },
   {
    "duration": 24,
    "start_time": "2023-07-08T16:13:50.193Z"
   },
   {
    "duration": 15,
    "start_time": "2023-07-08T16:13:50.219Z"
   },
   {
    "duration": 127,
    "start_time": "2023-07-08T16:13:50.235Z"
   },
   {
    "duration": 3,
    "start_time": "2023-07-08T16:13:50.364Z"
   },
   {
    "duration": 28,
    "start_time": "2023-07-08T16:13:50.369Z"
   },
   {
    "duration": 13,
    "start_time": "2023-07-08T16:13:50.398Z"
   },
   {
    "duration": 26,
    "start_time": "2023-07-08T16:13:50.413Z"
   },
   {
    "duration": 36,
    "start_time": "2023-07-08T16:13:50.441Z"
   },
   {
    "duration": 25,
    "start_time": "2023-07-08T16:13:50.479Z"
   },
   {
    "duration": 165,
    "start_time": "2023-07-08T16:13:50.505Z"
   },
   {
    "duration": 218,
    "start_time": "2023-07-08T16:13:50.674Z"
   },
   {
    "duration": 12,
    "start_time": "2023-07-08T16:13:50.894Z"
   },
   {
    "duration": 15,
    "start_time": "2023-07-08T16:13:50.908Z"
   },
   {
    "duration": 161,
    "start_time": "2023-07-08T16:13:50.924Z"
   },
   {
    "duration": 17,
    "start_time": "2023-07-08T16:13:51.087Z"
   },
   {
    "duration": 179,
    "start_time": "2023-07-08T16:13:51.106Z"
   },
   {
    "duration": 181,
    "start_time": "2023-07-08T16:13:51.287Z"
   },
   {
    "duration": 38,
    "start_time": "2023-07-08T16:13:51.469Z"
   },
   {
    "duration": 52,
    "start_time": "2023-07-08T16:13:51.509Z"
   },
   {
    "duration": 5,
    "start_time": "2023-07-08T16:13:51.562Z"
   },
   {
    "duration": 21,
    "start_time": "2023-07-08T16:13:51.568Z"
   },
   {
    "duration": 8,
    "start_time": "2023-07-08T16:13:51.590Z"
   },
   {
    "duration": 12,
    "start_time": "2023-07-08T16:13:51.600Z"
   },
   {
    "duration": 12,
    "start_time": "2023-07-08T16:13:51.613Z"
   },
   {
    "duration": 8,
    "start_time": "2023-07-08T16:13:51.631Z"
   },
   {
    "duration": 9,
    "start_time": "2023-07-08T16:13:51.641Z"
   },
   {
    "duration": 24,
    "start_time": "2023-07-08T16:13:51.651Z"
   },
   {
    "duration": 65,
    "start_time": "2023-07-08T16:13:51.677Z"
   },
   {
    "duration": 189,
    "start_time": "2023-07-08T16:13:51.743Z"
   },
   {
    "duration": 16,
    "start_time": "2023-07-08T16:13:51.933Z"
   },
   {
    "duration": 194,
    "start_time": "2023-07-08T16:13:51.951Z"
   },
   {
    "duration": 5,
    "start_time": "2023-07-08T16:13:52.147Z"
   },
   {
    "duration": 19,
    "start_time": "2023-07-08T16:13:52.154Z"
   },
   {
    "duration": 20,
    "start_time": "2023-07-08T16:13:52.175Z"
   },
   {
    "duration": 175,
    "start_time": "2023-07-08T16:13:52.196Z"
   },
   {
    "duration": 8,
    "start_time": "2023-07-08T16:13:52.372Z"
   },
   {
    "duration": 56,
    "start_time": "2023-07-08T16:13:52.382Z"
   },
   {
    "duration": 193,
    "start_time": "2023-07-08T16:13:52.439Z"
   },
   {
    "duration": 89,
    "start_time": "2023-07-08T16:13:52.633Z"
   },
   {
    "duration": 102,
    "start_time": "2023-07-08T16:13:52.731Z"
   },
   {
    "duration": 13,
    "start_time": "2023-07-08T16:13:52.834Z"
   },
   {
    "duration": 240,
    "start_time": "2023-07-08T16:13:52.848Z"
   },
   {
    "duration": 5,
    "start_time": "2023-07-08T16:13:53.089Z"
   },
   {
    "duration": 16,
    "start_time": "2023-07-08T16:13:53.095Z"
   },
   {
    "duration": 26,
    "start_time": "2023-07-08T16:13:53.113Z"
   },
   {
    "duration": 33,
    "start_time": "2023-07-08T16:13:53.140Z"
   },
   {
    "duration": 24,
    "start_time": "2023-07-08T16:13:53.175Z"
   },
   {
    "duration": 233,
    "start_time": "2023-07-08T16:13:53.201Z"
   },
   {
    "duration": 11,
    "start_time": "2023-07-08T16:13:53.435Z"
   },
   {
    "duration": 152,
    "start_time": "2023-07-08T16:13:53.448Z"
   },
   {
    "duration": 19,
    "start_time": "2023-07-08T16:13:53.601Z"
   },
   {
    "duration": 191,
    "start_time": "2023-07-08T16:13:53.632Z"
   },
   {
    "duration": 14,
    "start_time": "2023-07-08T16:13:53.824Z"
   },
   {
    "duration": 13,
    "start_time": "2023-07-08T16:13:53.840Z"
   },
   {
    "duration": 14,
    "start_time": "2023-07-08T16:13:53.855Z"
   },
   {
    "duration": 2833,
    "start_time": "2023-07-08T16:22:10.510Z"
   },
   {
    "duration": 34,
    "start_time": "2023-07-08T16:22:13.345Z"
   },
   {
    "duration": 2913,
    "start_time": "2023-07-08T16:22:33.598Z"
   },
   {
    "duration": 27,
    "start_time": "2023-07-08T16:22:36.513Z"
   },
   {
    "duration": 4228,
    "start_time": "2023-07-08T16:23:09.561Z"
   },
   {
    "duration": 24,
    "start_time": "2023-07-08T16:23:13.790Z"
   },
   {
    "duration": 6,
    "start_time": "2023-07-08T16:28:36.301Z"
   },
   {
    "duration": 21,
    "start_time": "2023-07-08T16:28:38.268Z"
   },
   {
    "duration": 4395,
    "start_time": "2023-07-08T16:29:46.601Z"
   },
   {
    "duration": 35,
    "start_time": "2023-07-08T16:29:50.998Z"
   },
   {
    "duration": 68,
    "start_time": "2023-07-08T16:30:18.499Z"
   },
   {
    "duration": 72,
    "start_time": "2023-07-08T16:30:26.300Z"
   },
   {
    "duration": 71,
    "start_time": "2023-07-08T16:30:35.544Z"
   },
   {
    "duration": 74,
    "start_time": "2023-07-08T16:30:47.128Z"
   },
   {
    "duration": 76,
    "start_time": "2023-07-08T16:31:35.049Z"
   },
   {
    "duration": 90,
    "start_time": "2023-07-08T16:31:53.303Z"
   },
   {
    "duration": 23,
    "start_time": "2023-07-08T16:31:55.413Z"
   },
   {
    "duration": 0,
    "start_time": "2023-07-09T03:34:04.001Z"
   },
   {
    "duration": 0,
    "start_time": "2023-07-09T03:34:04.002Z"
   },
   {
    "duration": 0,
    "start_time": "2023-07-09T03:34:04.003Z"
   },
   {
    "duration": 0,
    "start_time": "2023-07-09T03:34:04.004Z"
   },
   {
    "duration": 0,
    "start_time": "2023-07-09T03:34:04.005Z"
   },
   {
    "duration": 0,
    "start_time": "2023-07-09T03:34:04.007Z"
   },
   {
    "duration": 0,
    "start_time": "2023-07-09T03:34:04.008Z"
   },
   {
    "duration": 1,
    "start_time": "2023-07-09T03:34:04.009Z"
   },
   {
    "duration": 0,
    "start_time": "2023-07-09T03:34:04.074Z"
   },
   {
    "duration": 0,
    "start_time": "2023-07-09T03:34:04.076Z"
   },
   {
    "duration": 0,
    "start_time": "2023-07-09T03:34:04.077Z"
   },
   {
    "duration": 0,
    "start_time": "2023-07-09T03:34:04.079Z"
   },
   {
    "duration": 0,
    "start_time": "2023-07-09T03:34:04.080Z"
   },
   {
    "duration": 0,
    "start_time": "2023-07-09T03:34:04.081Z"
   },
   {
    "duration": 0,
    "start_time": "2023-07-09T03:34:04.083Z"
   },
   {
    "duration": 0,
    "start_time": "2023-07-09T03:34:04.084Z"
   },
   {
    "duration": 0,
    "start_time": "2023-07-09T03:34:04.085Z"
   },
   {
    "duration": 0,
    "start_time": "2023-07-09T03:34:04.087Z"
   },
   {
    "duration": 0,
    "start_time": "2023-07-09T03:34:04.088Z"
   },
   {
    "duration": 0,
    "start_time": "2023-07-09T03:34:04.089Z"
   },
   {
    "duration": 0,
    "start_time": "2023-07-09T03:34:04.090Z"
   },
   {
    "duration": 1,
    "start_time": "2023-07-09T03:34:04.091Z"
   },
   {
    "duration": 0,
    "start_time": "2023-07-09T03:34:04.093Z"
   },
   {
    "duration": 0,
    "start_time": "2023-07-09T03:34:04.094Z"
   },
   {
    "duration": 0,
    "start_time": "2023-07-09T03:34:04.095Z"
   },
   {
    "duration": 0,
    "start_time": "2023-07-09T03:34:04.097Z"
   },
   {
    "duration": 0,
    "start_time": "2023-07-09T03:34:04.098Z"
   },
   {
    "duration": 0,
    "start_time": "2023-07-09T03:34:04.100Z"
   },
   {
    "duration": 0,
    "start_time": "2023-07-09T03:34:04.101Z"
   },
   {
    "duration": 0,
    "start_time": "2023-07-09T03:34:04.102Z"
   },
   {
    "duration": 0,
    "start_time": "2023-07-09T03:34:04.111Z"
   },
   {
    "duration": 0,
    "start_time": "2023-07-09T03:34:04.114Z"
   },
   {
    "duration": 0,
    "start_time": "2023-07-09T03:34:04.116Z"
   },
   {
    "duration": 0,
    "start_time": "2023-07-09T03:34:04.117Z"
   },
   {
    "duration": 0,
    "start_time": "2023-07-09T03:34:04.176Z"
   },
   {
    "duration": 0,
    "start_time": "2023-07-09T03:34:04.178Z"
   },
   {
    "duration": 0,
    "start_time": "2023-07-09T03:34:04.179Z"
   },
   {
    "duration": 0,
    "start_time": "2023-07-09T03:34:04.181Z"
   },
   {
    "duration": 0,
    "start_time": "2023-07-09T03:34:04.182Z"
   },
   {
    "duration": 0,
    "start_time": "2023-07-09T03:34:04.184Z"
   },
   {
    "duration": 0,
    "start_time": "2023-07-09T03:34:04.185Z"
   },
   {
    "duration": 1,
    "start_time": "2023-07-09T03:34:04.186Z"
   },
   {
    "duration": 0,
    "start_time": "2023-07-09T03:34:04.188Z"
   },
   {
    "duration": 0,
    "start_time": "2023-07-09T03:34:04.190Z"
   },
   {
    "duration": 0,
    "start_time": "2023-07-09T03:34:04.191Z"
   },
   {
    "duration": 0,
    "start_time": "2023-07-09T03:34:04.193Z"
   },
   {
    "duration": 0,
    "start_time": "2023-07-09T03:34:04.194Z"
   },
   {
    "duration": 0,
    "start_time": "2023-07-09T03:34:04.196Z"
   },
   {
    "duration": 0,
    "start_time": "2023-07-09T03:34:04.197Z"
   },
   {
    "duration": 0,
    "start_time": "2023-07-09T03:34:04.198Z"
   },
   {
    "duration": 0,
    "start_time": "2023-07-09T03:34:04.199Z"
   },
   {
    "duration": 0,
    "start_time": "2023-07-09T03:34:04.201Z"
   },
   {
    "duration": 0,
    "start_time": "2023-07-09T03:34:04.202Z"
   },
   {
    "duration": 0,
    "start_time": "2023-07-09T03:34:04.204Z"
   },
   {
    "duration": 0,
    "start_time": "2023-07-09T03:34:04.206Z"
   },
   {
    "duration": 0,
    "start_time": "2023-07-09T03:34:04.207Z"
   },
   {
    "duration": 0,
    "start_time": "2023-07-09T03:34:04.209Z"
   },
   {
    "duration": 0,
    "start_time": "2023-07-09T03:34:04.211Z"
   },
   {
    "duration": 0,
    "start_time": "2023-07-09T03:34:04.212Z"
   },
   {
    "duration": 0,
    "start_time": "2023-07-09T03:34:04.275Z"
   },
   {
    "duration": 0,
    "start_time": "2023-07-09T03:34:04.277Z"
   },
   {
    "duration": 0,
    "start_time": "2023-07-09T03:34:04.277Z"
   },
   {
    "duration": 0,
    "start_time": "2023-07-09T03:34:04.279Z"
   },
   {
    "duration": 0,
    "start_time": "2023-07-09T03:34:04.280Z"
   },
   {
    "duration": 0,
    "start_time": "2023-07-09T03:34:04.282Z"
   },
   {
    "duration": 0,
    "start_time": "2023-07-09T03:34:04.283Z"
   },
   {
    "duration": 0,
    "start_time": "2023-07-09T03:34:04.284Z"
   },
   {
    "duration": 0,
    "start_time": "2023-07-09T03:34:04.286Z"
   },
   {
    "duration": 0,
    "start_time": "2023-07-09T03:34:04.287Z"
   },
   {
    "duration": 0,
    "start_time": "2023-07-09T03:34:04.288Z"
   },
   {
    "duration": 0,
    "start_time": "2023-07-09T03:34:04.290Z"
   },
   {
    "duration": 0,
    "start_time": "2023-07-09T03:34:04.291Z"
   },
   {
    "duration": 0,
    "start_time": "2023-07-09T03:34:04.292Z"
   },
   {
    "duration": 0,
    "start_time": "2023-07-09T03:34:04.294Z"
   },
   {
    "duration": 0,
    "start_time": "2023-07-09T03:34:04.295Z"
   },
   {
    "duration": 0,
    "start_time": "2023-07-09T03:34:04.296Z"
   },
   {
    "duration": 0,
    "start_time": "2023-07-09T03:34:04.297Z"
   },
   {
    "duration": 0,
    "start_time": "2023-07-09T03:34:04.298Z"
   },
   {
    "duration": 0,
    "start_time": "2023-07-09T03:34:04.299Z"
   },
   {
    "duration": 0,
    "start_time": "2023-07-09T03:34:04.300Z"
   },
   {
    "duration": 0,
    "start_time": "2023-07-09T03:34:04.301Z"
   },
   {
    "duration": 0,
    "start_time": "2023-07-09T03:34:04.302Z"
   },
   {
    "duration": 0,
    "start_time": "2023-07-09T03:34:04.303Z"
   },
   {
    "duration": 0,
    "start_time": "2023-07-09T03:34:04.305Z"
   },
   {
    "duration": 0,
    "start_time": "2023-07-09T03:34:04.306Z"
   },
   {
    "duration": 130,
    "start_time": "2023-07-09T03:34:28.226Z"
   },
   {
    "duration": 11,
    "start_time": "2023-07-09T03:34:28.800Z"
   },
   {
    "duration": 18,
    "start_time": "2023-07-09T03:34:30.320Z"
   },
   {
    "duration": 23,
    "start_time": "2023-07-09T03:34:30.503Z"
   },
   {
    "duration": 13,
    "start_time": "2023-07-09T03:34:31.689Z"
   },
   {
    "duration": 21,
    "start_time": "2023-07-09T03:34:31.923Z"
   },
   {
    "duration": 10,
    "start_time": "2023-07-09T03:34:32.489Z"
   },
   {
    "duration": 11,
    "start_time": "2023-07-09T03:34:32.867Z"
   },
   {
    "duration": 6,
    "start_time": "2023-07-09T03:34:33.461Z"
   },
   {
    "duration": 4,
    "start_time": "2023-07-09T03:34:33.859Z"
   },
   {
    "duration": 7,
    "start_time": "2023-07-09T03:34:34.039Z"
   },
   {
    "duration": 13,
    "start_time": "2023-07-09T03:34:34.981Z"
   },
   {
    "duration": 4,
    "start_time": "2023-07-09T03:34:35.373Z"
   },
   {
    "duration": 8,
    "start_time": "2023-07-09T03:34:35.559Z"
   },
   {
    "duration": 8,
    "start_time": "2023-07-09T03:34:36.125Z"
   },
   {
    "duration": 6,
    "start_time": "2023-07-09T03:34:36.319Z"
   },
   {
    "duration": 5,
    "start_time": "2023-07-09T03:34:36.507Z"
   },
   {
    "duration": 4,
    "start_time": "2023-07-09T03:34:36.714Z"
   },
   {
    "duration": 7,
    "start_time": "2023-07-09T03:34:37.111Z"
   },
   {
    "duration": 5,
    "start_time": "2023-07-09T03:34:38.575Z"
   },
   {
    "duration": 7,
    "start_time": "2023-07-09T03:34:38.759Z"
   },
   {
    "duration": 4,
    "start_time": "2023-07-09T03:34:38.945Z"
   },
   {
    "duration": 7,
    "start_time": "2023-07-09T03:34:39.324Z"
   },
   {
    "duration": 110,
    "start_time": "2023-07-09T03:34:39.517Z"
   },
   {
    "duration": 8,
    "start_time": "2023-07-09T03:34:39.721Z"
   },
   {
    "duration": 132,
    "start_time": "2023-07-09T03:34:39.921Z"
   },
   {
    "duration": 8,
    "start_time": "2023-07-09T03:34:40.429Z"
   },
   {
    "duration": 19,
    "start_time": "2023-07-09T03:34:41.761Z"
   },
   {
    "duration": 6,
    "start_time": "2023-07-09T03:34:43.248Z"
   },
   {
    "duration": 21,
    "start_time": "2023-07-09T03:35:16.844Z"
   },
   {
    "duration": 15,
    "start_time": "2023-07-09T03:35:16.866Z"
   },
   {
    "duration": 108,
    "start_time": "2023-07-09T03:35:16.883Z"
   },
   {
    "duration": 0,
    "start_time": "2023-07-09T03:35:16.993Z"
   },
   {
    "duration": 14,
    "start_time": "2023-07-09T03:36:04.011Z"
   },
   {
    "duration": 19,
    "start_time": "2023-07-09T03:36:11.069Z"
   },
   {
    "duration": 99,
    "start_time": "2023-07-09T03:37:09.128Z"
   },
   {
    "duration": 5491,
    "start_time": "2023-07-09T03:37:55.404Z"
   },
   {
    "duration": 21,
    "start_time": "2023-07-09T03:38:00.897Z"
   },
   {
    "duration": 19,
    "start_time": "2023-07-09T03:38:17.173Z"
   },
   {
    "duration": 3,
    "start_time": "2023-07-09T03:42:14.101Z"
   },
   {
    "duration": 192,
    "start_time": "2023-07-09T03:42:37.927Z"
   },
   {
    "duration": 86,
    "start_time": "2023-07-09T03:43:08.810Z"
   },
   {
    "duration": 95,
    "start_time": "2023-07-09T03:43:33.380Z"
   },
   {
    "duration": 4649,
    "start_time": "2023-07-09T03:43:54.053Z"
   },
   {
    "duration": 19,
    "start_time": "2023-07-09T03:43:58.703Z"
   },
   {
    "duration": 137,
    "start_time": "2023-07-09T03:45:08.746Z"
   },
   {
    "duration": 87,
    "start_time": "2023-07-09T03:48:01.448Z"
   },
   {
    "duration": 77,
    "start_time": "2023-07-09T03:48:35.207Z"
   },
   {
    "duration": 82,
    "start_time": "2023-07-09T03:48:47.337Z"
   },
   {
    "duration": 785,
    "start_time": "2023-07-09T03:48:57.564Z"
   },
   {
    "duration": 9,
    "start_time": "2023-07-09T03:48:58.351Z"
   },
   {
    "duration": 19,
    "start_time": "2023-07-09T03:48:58.361Z"
   },
   {
    "duration": 22,
    "start_time": "2023-07-09T03:48:58.383Z"
   },
   {
    "duration": 13,
    "start_time": "2023-07-09T03:48:58.407Z"
   },
   {
    "duration": 18,
    "start_time": "2023-07-09T03:48:58.421Z"
   },
   {
    "duration": 9,
    "start_time": "2023-07-09T03:48:58.440Z"
   },
   {
    "duration": 11,
    "start_time": "2023-07-09T03:48:58.476Z"
   },
   {
    "duration": 6,
    "start_time": "2023-07-09T03:48:58.488Z"
   },
   {
    "duration": 5,
    "start_time": "2023-07-09T03:48:58.497Z"
   },
   {
    "duration": 8,
    "start_time": "2023-07-09T03:48:58.504Z"
   },
   {
    "duration": 17,
    "start_time": "2023-07-09T03:48:58.514Z"
   },
   {
    "duration": 8,
    "start_time": "2023-07-09T03:48:58.533Z"
   },
   {
    "duration": 7,
    "start_time": "2023-07-09T03:48:58.575Z"
   },
   {
    "duration": 11,
    "start_time": "2023-07-09T03:48:58.583Z"
   },
   {
    "duration": 9,
    "start_time": "2023-07-09T03:48:58.595Z"
   },
   {
    "duration": 9,
    "start_time": "2023-07-09T03:48:58.605Z"
   },
   {
    "duration": 7,
    "start_time": "2023-07-09T03:48:58.615Z"
   },
   {
    "duration": 8,
    "start_time": "2023-07-09T03:48:58.624Z"
   },
   {
    "duration": 5,
    "start_time": "2023-07-09T03:48:58.634Z"
   },
   {
    "duration": 39,
    "start_time": "2023-07-09T03:48:58.641Z"
   },
   {
    "duration": 8,
    "start_time": "2023-07-09T03:48:58.682Z"
   },
   {
    "duration": 13,
    "start_time": "2023-07-09T03:48:58.692Z"
   },
   {
    "duration": 147,
    "start_time": "2023-07-09T03:48:58.707Z"
   },
   {
    "duration": 7,
    "start_time": "2023-07-09T03:48:58.856Z"
   },
   {
    "duration": 149,
    "start_time": "2023-07-09T03:48:58.865Z"
   },
   {
    "duration": 7,
    "start_time": "2023-07-09T03:48:59.016Z"
   },
   {
    "duration": 18,
    "start_time": "2023-07-09T03:48:59.027Z"
   },
   {
    "duration": 17,
    "start_time": "2023-07-09T03:48:59.047Z"
   },
   {
    "duration": 74,
    "start_time": "2023-07-09T03:48:59.075Z"
   },
   {
    "duration": 0,
    "start_time": "2023-07-09T03:48:59.150Z"
   },
   {
    "duration": 0,
    "start_time": "2023-07-09T03:48:59.151Z"
   },
   {
    "duration": 0,
    "start_time": "2023-07-09T03:48:59.152Z"
   },
   {
    "duration": 0,
    "start_time": "2023-07-09T03:48:59.153Z"
   },
   {
    "duration": 0,
    "start_time": "2023-07-09T03:48:59.154Z"
   },
   {
    "duration": 0,
    "start_time": "2023-07-09T03:48:59.155Z"
   },
   {
    "duration": 0,
    "start_time": "2023-07-09T03:48:59.156Z"
   },
   {
    "duration": 0,
    "start_time": "2023-07-09T03:48:59.157Z"
   },
   {
    "duration": 0,
    "start_time": "2023-07-09T03:48:59.157Z"
   },
   {
    "duration": 0,
    "start_time": "2023-07-09T03:48:59.158Z"
   },
   {
    "duration": 0,
    "start_time": "2023-07-09T03:48:59.159Z"
   },
   {
    "duration": 0,
    "start_time": "2023-07-09T03:48:59.160Z"
   },
   {
    "duration": 0,
    "start_time": "2023-07-09T03:48:59.161Z"
   },
   {
    "duration": 0,
    "start_time": "2023-07-09T03:48:59.162Z"
   },
   {
    "duration": 0,
    "start_time": "2023-07-09T03:48:59.163Z"
   },
   {
    "duration": 0,
    "start_time": "2023-07-09T03:48:59.164Z"
   },
   {
    "duration": 0,
    "start_time": "2023-07-09T03:48:59.165Z"
   },
   {
    "duration": 0,
    "start_time": "2023-07-09T03:48:59.166Z"
   },
   {
    "duration": 0,
    "start_time": "2023-07-09T03:48:59.167Z"
   },
   {
    "duration": 0,
    "start_time": "2023-07-09T03:48:59.167Z"
   },
   {
    "duration": 0,
    "start_time": "2023-07-09T03:48:59.168Z"
   },
   {
    "duration": 0,
    "start_time": "2023-07-09T03:48:59.169Z"
   },
   {
    "duration": 0,
    "start_time": "2023-07-09T03:48:59.170Z"
   },
   {
    "duration": 0,
    "start_time": "2023-07-09T03:48:59.171Z"
   },
   {
    "duration": 0,
    "start_time": "2023-07-09T03:48:59.172Z"
   },
   {
    "duration": 0,
    "start_time": "2023-07-09T03:48:59.173Z"
   },
   {
    "duration": 0,
    "start_time": "2023-07-09T03:48:59.174Z"
   },
   {
    "duration": 0,
    "start_time": "2023-07-09T03:48:59.175Z"
   },
   {
    "duration": 0,
    "start_time": "2023-07-09T03:48:59.176Z"
   },
   {
    "duration": 0,
    "start_time": "2023-07-09T03:48:59.177Z"
   },
   {
    "duration": 0,
    "start_time": "2023-07-09T03:48:59.178Z"
   },
   {
    "duration": 0,
    "start_time": "2023-07-09T03:48:59.179Z"
   },
   {
    "duration": 0,
    "start_time": "2023-07-09T03:48:59.180Z"
   },
   {
    "duration": 0,
    "start_time": "2023-07-09T03:48:59.180Z"
   },
   {
    "duration": 0,
    "start_time": "2023-07-09T03:48:59.181Z"
   },
   {
    "duration": 0,
    "start_time": "2023-07-09T03:48:59.182Z"
   },
   {
    "duration": 0,
    "start_time": "2023-07-09T03:48:59.184Z"
   },
   {
    "duration": 0,
    "start_time": "2023-07-09T03:48:59.184Z"
   },
   {
    "duration": 0,
    "start_time": "2023-07-09T03:48:59.185Z"
   },
   {
    "duration": 0,
    "start_time": "2023-07-09T03:48:59.186Z"
   },
   {
    "duration": 0,
    "start_time": "2023-07-09T03:48:59.187Z"
   },
   {
    "duration": 0,
    "start_time": "2023-07-09T03:48:59.188Z"
   },
   {
    "duration": 0,
    "start_time": "2023-07-09T03:48:59.189Z"
   },
   {
    "duration": 0,
    "start_time": "2023-07-09T03:48:59.190Z"
   },
   {
    "duration": 0,
    "start_time": "2023-07-09T03:48:59.191Z"
   },
   {
    "duration": 0,
    "start_time": "2023-07-09T03:48:59.192Z"
   },
   {
    "duration": 0,
    "start_time": "2023-07-09T03:48:59.193Z"
   },
   {
    "duration": 0,
    "start_time": "2023-07-09T03:48:59.194Z"
   },
   {
    "duration": 0,
    "start_time": "2023-07-09T03:48:59.195Z"
   },
   {
    "duration": 0,
    "start_time": "2023-07-09T03:48:59.197Z"
   },
   {
    "duration": 0,
    "start_time": "2023-07-09T03:48:59.198Z"
   },
   {
    "duration": 0,
    "start_time": "2023-07-09T03:48:59.199Z"
   },
   {
    "duration": 0,
    "start_time": "2023-07-09T03:48:59.200Z"
   },
   {
    "duration": 0,
    "start_time": "2023-07-09T03:48:59.202Z"
   },
   {
    "duration": 1,
    "start_time": "2023-07-09T03:48:59.203Z"
   },
   {
    "duration": 96,
    "start_time": "2023-07-09T03:51:19.171Z"
   },
   {
    "duration": 148,
    "start_time": "2023-07-09T03:51:59.709Z"
   },
   {
    "duration": 4,
    "start_time": "2023-07-09T03:57:28.122Z"
   },
   {
    "duration": 73,
    "start_time": "2023-07-09T03:57:49.793Z"
   },
   {
    "duration": 13,
    "start_time": "2023-07-09T03:58:37.068Z"
   },
   {
    "duration": 13,
    "start_time": "2023-07-09T03:59:23.489Z"
   },
   {
    "duration": 8562,
    "start_time": "2023-07-09T03:59:38.761Z"
   },
   {
    "duration": 21,
    "start_time": "2023-07-09T03:59:47.324Z"
   },
   {
    "duration": 9027,
    "start_time": "2023-07-09T04:01:26.583Z"
   },
   {
    "duration": 21,
    "start_time": "2023-07-09T04:01:35.613Z"
   },
   {
    "duration": 4758,
    "start_time": "2023-07-09T04:05:32.772Z"
   },
   {
    "duration": 20,
    "start_time": "2023-07-09T04:05:37.532Z"
   },
   {
    "duration": 4,
    "start_time": "2023-07-09T04:06:44.357Z"
   },
   {
    "duration": 13429,
    "start_time": "2023-07-09T04:06:56.264Z"
   },
   {
    "duration": 18,
    "start_time": "2023-07-09T04:07:09.695Z"
   },
   {
    "duration": 9093,
    "start_time": "2023-07-09T04:08:13.405Z"
   },
   {
    "duration": 18,
    "start_time": "2023-07-09T04:08:22.500Z"
   },
   {
    "duration": 803,
    "start_time": "2023-07-09T04:08:36.544Z"
   },
   {
    "duration": 12,
    "start_time": "2023-07-09T04:08:37.350Z"
   },
   {
    "duration": 22,
    "start_time": "2023-07-09T04:08:37.364Z"
   },
   {
    "duration": 24,
    "start_time": "2023-07-09T04:08:37.388Z"
   },
   {
    "duration": 13,
    "start_time": "2023-07-09T04:08:37.414Z"
   },
   {
    "duration": 19,
    "start_time": "2023-07-09T04:08:37.428Z"
   },
   {
    "duration": 31,
    "start_time": "2023-07-09T04:08:37.448Z"
   },
   {
    "duration": 42,
    "start_time": "2023-07-09T04:08:37.481Z"
   },
   {
    "duration": 5,
    "start_time": "2023-07-09T04:08:37.525Z"
   },
   {
    "duration": 6,
    "start_time": "2023-07-09T04:08:37.533Z"
   },
   {
    "duration": 10,
    "start_time": "2023-07-09T04:08:37.541Z"
   },
   {
    "duration": 20,
    "start_time": "2023-07-09T04:08:37.552Z"
   },
   {
    "duration": 9,
    "start_time": "2023-07-09T04:08:37.573Z"
   },
   {
    "duration": 9,
    "start_time": "2023-07-09T04:08:37.584Z"
   },
   {
    "duration": 10,
    "start_time": "2023-07-09T04:08:37.594Z"
   },
   {
    "duration": 9,
    "start_time": "2023-07-09T04:08:37.606Z"
   },
   {
    "duration": 16,
    "start_time": "2023-07-09T04:08:37.617Z"
   },
   {
    "duration": 6,
    "start_time": "2023-07-09T04:08:37.635Z"
   },
   {
    "duration": 8,
    "start_time": "2023-07-09T04:08:37.642Z"
   },
   {
    "duration": 25,
    "start_time": "2023-07-09T04:08:37.652Z"
   },
   {
    "duration": 10,
    "start_time": "2023-07-09T04:08:37.678Z"
   },
   {
    "duration": 7,
    "start_time": "2023-07-09T04:08:37.690Z"
   },
   {
    "duration": 10,
    "start_time": "2023-07-09T04:08:37.699Z"
   },
   {
    "duration": 144,
    "start_time": "2023-07-09T04:08:37.710Z"
   },
   {
    "duration": 9,
    "start_time": "2023-07-09T04:08:37.855Z"
   },
   {
    "duration": 151,
    "start_time": "2023-07-09T04:08:37.866Z"
   },
   {
    "duration": 7,
    "start_time": "2023-07-09T04:08:38.018Z"
   },
   {
    "duration": 19,
    "start_time": "2023-07-09T04:08:38.029Z"
   },
   {
    "duration": 29,
    "start_time": "2023-07-09T04:08:38.050Z"
   },
   {
    "duration": 10555,
    "start_time": "2023-07-09T04:08:38.081Z"
   },
   {
    "duration": 18,
    "start_time": "2023-07-09T04:08:48.638Z"
   },
   {
    "duration": 27,
    "start_time": "2023-07-09T04:08:48.658Z"
   },
   {
    "duration": 121,
    "start_time": "2023-07-09T04:08:48.687Z"
   },
   {
    "duration": 4,
    "start_time": "2023-07-09T04:08:48.809Z"
   },
   {
    "duration": 9,
    "start_time": "2023-07-09T04:08:48.814Z"
   },
   {
    "duration": 8,
    "start_time": "2023-07-09T04:08:48.825Z"
   },
   {
    "duration": 7,
    "start_time": "2023-07-09T04:08:48.835Z"
   },
   {
    "duration": 21,
    "start_time": "2023-07-09T04:08:48.843Z"
   },
   {
    "duration": 24,
    "start_time": "2023-07-09T04:08:48.866Z"
   },
   {
    "duration": 166,
    "start_time": "2023-07-09T04:08:48.891Z"
   },
   {
    "duration": 219,
    "start_time": "2023-07-09T04:08:49.059Z"
   },
   {
    "duration": 13,
    "start_time": "2023-07-09T04:08:49.279Z"
   },
   {
    "duration": 10,
    "start_time": "2023-07-09T04:08:49.293Z"
   },
   {
    "duration": 174,
    "start_time": "2023-07-09T04:08:49.305Z"
   },
   {
    "duration": 17,
    "start_time": "2023-07-09T04:08:49.481Z"
   },
   {
    "duration": 185,
    "start_time": "2023-07-09T04:08:49.500Z"
   },
   {
    "duration": 165,
    "start_time": "2023-07-09T04:08:49.687Z"
   },
   {
    "duration": 46,
    "start_time": "2023-07-09T04:08:49.854Z"
   },
   {
    "duration": 36,
    "start_time": "2023-07-09T04:08:49.902Z"
   },
   {
    "duration": 6,
    "start_time": "2023-07-09T04:08:49.940Z"
   },
   {
    "duration": 40,
    "start_time": "2023-07-09T04:08:49.948Z"
   },
   {
    "duration": 8,
    "start_time": "2023-07-09T04:08:49.990Z"
   },
   {
    "duration": 18,
    "start_time": "2023-07-09T04:08:50.000Z"
   },
   {
    "duration": 36,
    "start_time": "2023-07-09T04:08:50.020Z"
   },
   {
    "duration": 22,
    "start_time": "2023-07-09T04:08:50.058Z"
   },
   {
    "duration": 20,
    "start_time": "2023-07-09T04:08:50.081Z"
   },
   {
    "duration": 37,
    "start_time": "2023-07-09T04:08:50.103Z"
   },
   {
    "duration": 50,
    "start_time": "2023-07-09T04:08:50.142Z"
   },
   {
    "duration": 166,
    "start_time": "2023-07-09T04:08:50.194Z"
   },
   {
    "duration": 20,
    "start_time": "2023-07-09T04:08:50.362Z"
   },
   {
    "duration": 148,
    "start_time": "2023-07-09T04:08:50.384Z"
   },
   {
    "duration": 5,
    "start_time": "2023-07-09T04:08:50.534Z"
   },
   {
    "duration": 15,
    "start_time": "2023-07-09T04:08:50.541Z"
   },
   {
    "duration": 31,
    "start_time": "2023-07-09T04:08:50.557Z"
   },
   {
    "duration": 151,
    "start_time": "2023-07-09T04:08:50.589Z"
   },
   {
    "duration": 8,
    "start_time": "2023-07-09T04:08:50.742Z"
   },
   {
    "duration": 33,
    "start_time": "2023-07-09T04:08:50.752Z"
   },
   {
    "duration": 150,
    "start_time": "2023-07-09T04:08:50.787Z"
   },
   {
    "duration": 97,
    "start_time": "2023-07-09T04:08:50.939Z"
   },
   {
    "duration": 110,
    "start_time": "2023-07-09T04:08:51.038Z"
   },
   {
    "duration": 12,
    "start_time": "2023-07-09T04:08:51.149Z"
   },
   {
    "duration": 250,
    "start_time": "2023-07-09T04:08:51.175Z"
   },
   {
    "duration": 6,
    "start_time": "2023-07-09T04:08:51.427Z"
   },
   {
    "duration": 19,
    "start_time": "2023-07-09T04:08:51.435Z"
   },
   {
    "duration": 25,
    "start_time": "2023-07-09T04:08:51.455Z"
   },
   {
    "duration": 6,
    "start_time": "2023-07-09T04:08:51.482Z"
   },
   {
    "duration": 12,
    "start_time": "2023-07-09T04:08:51.490Z"
   },
   {
    "duration": 233,
    "start_time": "2023-07-09T04:08:51.503Z"
   },
   {
    "duration": 12,
    "start_time": "2023-07-09T04:08:51.738Z"
   },
   {
    "duration": 163,
    "start_time": "2023-07-09T04:08:51.752Z"
   },
   {
    "duration": 23,
    "start_time": "2023-07-09T04:08:51.917Z"
   },
   {
    "duration": 176,
    "start_time": "2023-07-09T04:08:51.946Z"
   },
   {
    "duration": 8,
    "start_time": "2023-07-09T04:08:52.124Z"
   },
   {
    "duration": 12,
    "start_time": "2023-07-09T04:08:52.133Z"
   },
   {
    "duration": 26,
    "start_time": "2023-07-09T04:08:52.147Z"
   },
   {
    "duration": 7,
    "start_time": "2023-07-09T04:09:48.749Z"
   },
   {
    "duration": 3,
    "start_time": "2023-07-09T04:09:50.030Z"
   },
   {
    "duration": 866,
    "start_time": "2023-07-09T04:10:01.161Z"
   },
   {
    "duration": 9,
    "start_time": "2023-07-09T04:10:02.030Z"
   },
   {
    "duration": 86,
    "start_time": "2023-07-09T04:10:02.041Z"
   },
   {
    "duration": 31,
    "start_time": "2023-07-09T04:10:02.129Z"
   },
   {
    "duration": 40,
    "start_time": "2023-07-09T04:10:02.162Z"
   },
   {
    "duration": 33,
    "start_time": "2023-07-09T04:10:02.204Z"
   },
   {
    "duration": 28,
    "start_time": "2023-07-09T04:10:02.240Z"
   },
   {
    "duration": 34,
    "start_time": "2023-07-09T04:10:02.270Z"
   },
   {
    "duration": 7,
    "start_time": "2023-07-09T04:10:02.307Z"
   },
   {
    "duration": 19,
    "start_time": "2023-07-09T04:10:02.316Z"
   },
   {
    "duration": 33,
    "start_time": "2023-07-09T04:10:02.337Z"
   },
   {
    "duration": 41,
    "start_time": "2023-07-09T04:10:02.372Z"
   },
   {
    "duration": 25,
    "start_time": "2023-07-09T04:10:02.415Z"
   },
   {
    "duration": 42,
    "start_time": "2023-07-09T04:10:02.444Z"
   },
   {
    "duration": 64,
    "start_time": "2023-07-09T04:10:02.488Z"
   },
   {
    "duration": 29,
    "start_time": "2023-07-09T04:10:02.555Z"
   },
   {
    "duration": 35,
    "start_time": "2023-07-09T04:10:02.586Z"
   },
   {
    "duration": 9,
    "start_time": "2023-07-09T04:10:02.623Z"
   },
   {
    "duration": 18,
    "start_time": "2023-07-09T04:10:02.634Z"
   },
   {
    "duration": 15,
    "start_time": "2023-07-09T04:10:02.654Z"
   },
   {
    "duration": 29,
    "start_time": "2023-07-09T04:10:02.671Z"
   },
   {
    "duration": 11,
    "start_time": "2023-07-09T04:10:02.702Z"
   },
   {
    "duration": 30,
    "start_time": "2023-07-09T04:10:02.715Z"
   },
   {
    "duration": 192,
    "start_time": "2023-07-09T04:10:02.748Z"
   },
   {
    "duration": 7,
    "start_time": "2023-07-09T04:10:02.942Z"
   },
   {
    "duration": 163,
    "start_time": "2023-07-09T04:10:02.950Z"
   },
   {
    "duration": 9,
    "start_time": "2023-07-09T04:10:03.115Z"
   },
   {
    "duration": 39,
    "start_time": "2023-07-09T04:10:03.126Z"
   },
   {
    "duration": 9,
    "start_time": "2023-07-09T04:10:03.175Z"
   },
   {
    "duration": 11,
    "start_time": "2023-07-09T04:10:03.186Z"
   },
   {
    "duration": 41,
    "start_time": "2023-07-09T04:10:03.199Z"
   },
   {
    "duration": 7,
    "start_time": "2023-07-09T04:10:03.242Z"
   },
   {
    "duration": 143,
    "start_time": "2023-07-09T04:10:03.250Z"
   },
   {
    "duration": 4,
    "start_time": "2023-07-09T04:10:03.394Z"
   },
   {
    "duration": 11,
    "start_time": "2023-07-09T04:10:03.400Z"
   },
   {
    "duration": 24,
    "start_time": "2023-07-09T04:10:03.413Z"
   },
   {
    "duration": 12,
    "start_time": "2023-07-09T04:10:03.439Z"
   },
   {
    "duration": 29,
    "start_time": "2023-07-09T04:10:03.453Z"
   },
   {
    "duration": 34,
    "start_time": "2023-07-09T04:10:03.484Z"
   },
   {
    "duration": 197,
    "start_time": "2023-07-09T04:10:03.521Z"
   },
   {
    "duration": 278,
    "start_time": "2023-07-09T04:10:03.725Z"
   },
   {
    "duration": 16,
    "start_time": "2023-07-09T04:10:04.008Z"
   },
   {
    "duration": 20,
    "start_time": "2023-07-09T04:10:04.026Z"
   },
   {
    "duration": 262,
    "start_time": "2023-07-09T04:10:04.048Z"
   },
   {
    "duration": 28,
    "start_time": "2023-07-09T04:10:04.312Z"
   },
   {
    "duration": 218,
    "start_time": "2023-07-09T04:10:04.341Z"
   },
   {
    "duration": 220,
    "start_time": "2023-07-09T04:10:04.561Z"
   },
   {
    "duration": 46,
    "start_time": "2023-07-09T04:10:04.783Z"
   },
   {
    "duration": 63,
    "start_time": "2023-07-09T04:10:04.831Z"
   },
   {
    "duration": 5,
    "start_time": "2023-07-09T04:10:04.896Z"
   },
   {
    "duration": 25,
    "start_time": "2023-07-09T04:10:04.904Z"
   },
   {
    "duration": 10,
    "start_time": "2023-07-09T04:10:04.931Z"
   },
   {
    "duration": 13,
    "start_time": "2023-07-09T04:10:04.943Z"
   },
   {
    "duration": 21,
    "start_time": "2023-07-09T04:10:04.958Z"
   },
   {
    "duration": 13,
    "start_time": "2023-07-09T04:10:04.981Z"
   },
   {
    "duration": 10,
    "start_time": "2023-07-09T04:10:04.996Z"
   },
   {
    "duration": 22,
    "start_time": "2023-07-09T04:10:05.008Z"
   },
   {
    "duration": 49,
    "start_time": "2023-07-09T04:10:05.032Z"
   },
   {
    "duration": 191,
    "start_time": "2023-07-09T04:10:05.084Z"
   },
   {
    "duration": 14,
    "start_time": "2023-07-09T04:10:05.276Z"
   },
   {
    "duration": 168,
    "start_time": "2023-07-09T04:10:05.292Z"
   },
   {
    "duration": 13,
    "start_time": "2023-07-09T04:10:05.462Z"
   },
   {
    "duration": 8,
    "start_time": "2023-07-09T04:10:05.477Z"
   },
   {
    "duration": 28,
    "start_time": "2023-07-09T04:10:05.487Z"
   },
   {
    "duration": 180,
    "start_time": "2023-07-09T04:10:05.518Z"
   },
   {
    "duration": 8,
    "start_time": "2023-07-09T04:10:05.700Z"
   },
   {
    "duration": 71,
    "start_time": "2023-07-09T04:10:05.709Z"
   },
   {
    "duration": 162,
    "start_time": "2023-07-09T04:10:05.781Z"
   },
   {
    "duration": 103,
    "start_time": "2023-07-09T04:10:05.944Z"
   },
   {
    "duration": 106,
    "start_time": "2023-07-09T04:10:06.049Z"
   },
   {
    "duration": 28,
    "start_time": "2023-07-09T04:10:06.157Z"
   },
   {
    "duration": 310,
    "start_time": "2023-07-09T04:10:06.187Z"
   },
   {
    "duration": 4,
    "start_time": "2023-07-09T04:10:06.499Z"
   },
   {
    "duration": 24,
    "start_time": "2023-07-09T04:10:06.505Z"
   },
   {
    "duration": 14,
    "start_time": "2023-07-09T04:10:06.532Z"
   },
   {
    "duration": 8,
    "start_time": "2023-07-09T04:10:06.548Z"
   },
   {
    "duration": 31,
    "start_time": "2023-07-09T04:10:06.557Z"
   },
   {
    "duration": 205,
    "start_time": "2023-07-09T04:10:06.590Z"
   },
   {
    "duration": 13,
    "start_time": "2023-07-09T04:10:06.797Z"
   },
   {
    "duration": 158,
    "start_time": "2023-07-09T04:10:06.812Z"
   },
   {
    "duration": 19,
    "start_time": "2023-07-09T04:10:06.972Z"
   },
   {
    "duration": 165,
    "start_time": "2023-07-09T04:10:06.992Z"
   },
   {
    "duration": 7,
    "start_time": "2023-07-09T04:10:07.159Z"
   },
   {
    "duration": 18,
    "start_time": "2023-07-09T04:10:07.175Z"
   },
   {
    "duration": 37,
    "start_time": "2023-07-09T04:10:07.195Z"
   },
   {
    "duration": 6786,
    "start_time": "2023-07-09T04:13:17.092Z"
   },
   {
    "duration": 12,
    "start_time": "2023-07-09T04:13:23.880Z"
   },
   {
    "duration": 24,
    "start_time": "2023-07-09T04:14:21.697Z"
   },
   {
    "duration": 9,
    "start_time": "2023-07-09T04:14:50.574Z"
   },
   {
    "duration": 9,
    "start_time": "2023-07-09T04:17:55.659Z"
   },
   {
    "duration": 129,
    "start_time": "2023-07-09T04:18:02.584Z"
   },
   {
    "duration": 124,
    "start_time": "2023-07-09T04:18:25.672Z"
   },
   {
    "duration": 116,
    "start_time": "2023-07-09T04:18:51.021Z"
   },
   {
    "duration": 116,
    "start_time": "2023-07-09T04:18:59.261Z"
   },
   {
    "duration": 10,
    "start_time": "2023-07-09T04:19:24.970Z"
   },
   {
    "duration": 11,
    "start_time": "2023-07-09T04:19:28.762Z"
   },
   {
    "duration": 760,
    "start_time": "2023-07-09T04:19:57.985Z"
   },
   {
    "duration": 8,
    "start_time": "2023-07-09T04:19:58.747Z"
   },
   {
    "duration": 21,
    "start_time": "2023-07-09T04:19:58.757Z"
   },
   {
    "duration": 24,
    "start_time": "2023-07-09T04:19:58.779Z"
   },
   {
    "duration": 12,
    "start_time": "2023-07-09T04:19:58.805Z"
   },
   {
    "duration": 28,
    "start_time": "2023-07-09T04:19:58.818Z"
   },
   {
    "duration": 13,
    "start_time": "2023-07-09T04:19:58.847Z"
   },
   {
    "duration": 18,
    "start_time": "2023-07-09T04:19:58.861Z"
   },
   {
    "duration": 5,
    "start_time": "2023-07-09T04:19:58.880Z"
   },
   {
    "duration": 7,
    "start_time": "2023-07-09T04:19:58.886Z"
   },
   {
    "duration": 11,
    "start_time": "2023-07-09T04:19:58.895Z"
   },
   {
    "duration": 15,
    "start_time": "2023-07-09T04:19:58.908Z"
   },
   {
    "duration": 11,
    "start_time": "2023-07-09T04:19:58.925Z"
   },
   {
    "duration": 6,
    "start_time": "2023-07-09T04:19:58.939Z"
   },
   {
    "duration": 10,
    "start_time": "2023-07-09T04:19:58.946Z"
   },
   {
    "duration": 5,
    "start_time": "2023-07-09T04:19:58.975Z"
   },
   {
    "duration": 9,
    "start_time": "2023-07-09T04:19:58.981Z"
   },
   {
    "duration": 13,
    "start_time": "2023-07-09T04:19:58.991Z"
   },
   {
    "duration": 33,
    "start_time": "2023-07-09T04:19:59.005Z"
   },
   {
    "duration": 8,
    "start_time": "2023-07-09T04:19:59.040Z"
   },
   {
    "duration": 8,
    "start_time": "2023-07-09T04:19:59.049Z"
   },
   {
    "duration": 5,
    "start_time": "2023-07-09T04:19:59.058Z"
   },
   {
    "duration": 21,
    "start_time": "2023-07-09T04:19:59.064Z"
   },
   {
    "duration": 118,
    "start_time": "2023-07-09T04:19:59.086Z"
   },
   {
    "duration": 7,
    "start_time": "2023-07-09T04:19:59.205Z"
   },
   {
    "duration": 147,
    "start_time": "2023-07-09T04:19:59.214Z"
   },
   {
    "duration": 15,
    "start_time": "2023-07-09T04:19:59.363Z"
   },
   {
    "duration": 14,
    "start_time": "2023-07-09T04:19:59.379Z"
   },
   {
    "duration": 9,
    "start_time": "2023-07-09T04:19:59.395Z"
   },
   {
    "duration": 6433,
    "start_time": "2023-07-09T04:19:59.406Z"
   },
   {
    "duration": 6,
    "start_time": "2023-07-09T04:20:05.841Z"
   },
   {
    "duration": 128,
    "start_time": "2023-07-09T04:20:05.848Z"
   },
   {
    "duration": 4,
    "start_time": "2023-07-09T04:20:05.978Z"
   },
   {
    "duration": 11,
    "start_time": "2023-07-09T04:20:05.983Z"
   },
   {
    "duration": 16,
    "start_time": "2023-07-09T04:20:05.995Z"
   },
   {
    "duration": 8,
    "start_time": "2023-07-09T04:20:06.013Z"
   },
   {
    "duration": 20,
    "start_time": "2023-07-09T04:20:06.022Z"
   },
   {
    "duration": 21,
    "start_time": "2023-07-09T04:20:06.043Z"
   },
   {
    "duration": 178,
    "start_time": "2023-07-09T04:20:06.065Z"
   },
   {
    "duration": 261,
    "start_time": "2023-07-09T04:20:06.246Z"
   },
   {
    "duration": 13,
    "start_time": "2023-07-09T04:20:06.511Z"
   },
   {
    "duration": 10,
    "start_time": "2023-07-09T04:20:06.525Z"
   },
   {
    "duration": 169,
    "start_time": "2023-07-09T04:20:06.537Z"
   },
   {
    "duration": 16,
    "start_time": "2023-07-09T04:20:06.708Z"
   },
   {
    "duration": 178,
    "start_time": "2023-07-09T04:20:06.726Z"
   },
   {
    "duration": 173,
    "start_time": "2023-07-09T04:20:06.905Z"
   },
   {
    "duration": 38,
    "start_time": "2023-07-09T04:20:07.079Z"
   },
   {
    "duration": 36,
    "start_time": "2023-07-09T04:20:07.119Z"
   },
   {
    "duration": 21,
    "start_time": "2023-07-09T04:20:07.157Z"
   },
   {
    "duration": 16,
    "start_time": "2023-07-09T04:20:07.180Z"
   },
   {
    "duration": 9,
    "start_time": "2023-07-09T04:20:07.199Z"
   },
   {
    "duration": 11,
    "start_time": "2023-07-09T04:20:07.210Z"
   },
   {
    "duration": 8,
    "start_time": "2023-07-09T04:20:07.222Z"
   },
   {
    "duration": 8,
    "start_time": "2023-07-09T04:20:07.232Z"
   },
   {
    "duration": 33,
    "start_time": "2023-07-09T04:20:07.242Z"
   },
   {
    "duration": 12,
    "start_time": "2023-07-09T04:20:07.277Z"
   },
   {
    "duration": 30,
    "start_time": "2023-07-09T04:20:07.291Z"
   },
   {
    "duration": 171,
    "start_time": "2023-07-09T04:20:07.323Z"
   },
   {
    "duration": 12,
    "start_time": "2023-07-09T04:20:07.496Z"
   },
   {
    "duration": 161,
    "start_time": "2023-07-09T04:20:07.509Z"
   },
   {
    "duration": 5,
    "start_time": "2023-07-09T04:20:07.672Z"
   },
   {
    "duration": 8,
    "start_time": "2023-07-09T04:20:07.678Z"
   },
   {
    "duration": 21,
    "start_time": "2023-07-09T04:20:07.688Z"
   },
   {
    "duration": 206,
    "start_time": "2023-07-09T04:20:07.710Z"
   },
   {
    "duration": 9,
    "start_time": "2023-07-09T04:20:07.917Z"
   },
   {
    "duration": 24,
    "start_time": "2023-07-09T04:20:07.928Z"
   },
   {
    "duration": 176,
    "start_time": "2023-07-09T04:20:07.954Z"
   },
   {
    "duration": 113,
    "start_time": "2023-07-09T04:20:08.132Z"
   },
   {
    "duration": 115,
    "start_time": "2023-07-09T04:20:08.246Z"
   },
   {
    "duration": 21,
    "start_time": "2023-07-09T04:20:08.363Z"
   },
   {
    "duration": 255,
    "start_time": "2023-07-09T04:20:08.386Z"
   },
   {
    "duration": 5,
    "start_time": "2023-07-09T04:20:08.643Z"
   },
   {
    "duration": 30,
    "start_time": "2023-07-09T04:20:08.649Z"
   },
   {
    "duration": 12,
    "start_time": "2023-07-09T04:20:08.681Z"
   },
   {
    "duration": 28,
    "start_time": "2023-07-09T04:20:08.695Z"
   },
   {
    "duration": 13,
    "start_time": "2023-07-09T04:20:08.725Z"
   },
   {
    "duration": 212,
    "start_time": "2023-07-09T04:20:08.739Z"
   },
   {
    "duration": 12,
    "start_time": "2023-07-09T04:20:08.953Z"
   },
   {
    "duration": 142,
    "start_time": "2023-07-09T04:20:08.975Z"
   },
   {
    "duration": 18,
    "start_time": "2023-07-09T04:20:09.119Z"
   },
   {
    "duration": 166,
    "start_time": "2023-07-09T04:20:09.138Z"
   },
   {
    "duration": 7,
    "start_time": "2023-07-09T04:20:09.306Z"
   },
   {
    "duration": 17,
    "start_time": "2023-07-09T04:20:09.314Z"
   },
   {
    "duration": 11,
    "start_time": "2023-07-09T04:20:09.332Z"
   },
   {
    "duration": 13,
    "start_time": "2023-07-09T04:53:31.575Z"
   },
   {
    "duration": 776,
    "start_time": "2023-07-09T04:53:48.100Z"
   },
   {
    "duration": 661,
    "start_time": "2023-07-09T04:54:00.489Z"
   },
   {
    "duration": 873,
    "start_time": "2023-07-09T04:55:09.851Z"
   },
   {
    "duration": 758,
    "start_time": "2023-07-09T04:55:27.718Z"
   },
   {
    "duration": 9,
    "start_time": "2023-07-09T04:55:28.478Z"
   },
   {
    "duration": 30,
    "start_time": "2023-07-09T04:55:28.489Z"
   },
   {
    "duration": 27,
    "start_time": "2023-07-09T04:55:28.521Z"
   },
   {
    "duration": 37,
    "start_time": "2023-07-09T04:55:28.550Z"
   },
   {
    "duration": 17,
    "start_time": "2023-07-09T04:55:28.589Z"
   },
   {
    "duration": 12,
    "start_time": "2023-07-09T04:55:28.607Z"
   },
   {
    "duration": 13,
    "start_time": "2023-07-09T04:55:28.620Z"
   },
   {
    "duration": 5,
    "start_time": "2023-07-09T04:55:28.634Z"
   },
   {
    "duration": 8,
    "start_time": "2023-07-09T04:55:28.640Z"
   },
   {
    "duration": 29,
    "start_time": "2023-07-09T04:55:28.649Z"
   },
   {
    "duration": 15,
    "start_time": "2023-07-09T04:55:28.680Z"
   },
   {
    "duration": 15,
    "start_time": "2023-07-09T04:55:28.697Z"
   },
   {
    "duration": 29,
    "start_time": "2023-07-09T04:55:28.715Z"
   },
   {
    "duration": 14,
    "start_time": "2023-07-09T04:55:28.746Z"
   },
   {
    "duration": 23,
    "start_time": "2023-07-09T04:55:28.761Z"
   },
   {
    "duration": 14,
    "start_time": "2023-07-09T04:55:28.786Z"
   },
   {
    "duration": 6,
    "start_time": "2023-07-09T04:55:28.802Z"
   },
   {
    "duration": 14,
    "start_time": "2023-07-09T04:55:28.810Z"
   },
   {
    "duration": 27,
    "start_time": "2023-07-09T04:55:28.827Z"
   },
   {
    "duration": 14,
    "start_time": "2023-07-09T04:55:28.857Z"
   },
   {
    "duration": 9,
    "start_time": "2023-07-09T04:55:28.872Z"
   },
   {
    "duration": 10,
    "start_time": "2023-07-09T04:55:28.883Z"
   },
   {
    "duration": 156,
    "start_time": "2023-07-09T04:55:28.895Z"
   },
   {
    "duration": 8,
    "start_time": "2023-07-09T04:55:29.053Z"
   },
   {
    "duration": 166,
    "start_time": "2023-07-09T04:55:29.063Z"
   },
   {
    "duration": 9,
    "start_time": "2023-07-09T04:55:29.232Z"
   },
   {
    "duration": 33,
    "start_time": "2023-07-09T04:55:29.244Z"
   },
   {
    "duration": 19,
    "start_time": "2023-07-09T04:55:29.279Z"
   },
   {
    "duration": 6431,
    "start_time": "2023-07-09T04:55:29.299Z"
   },
   {
    "duration": 6,
    "start_time": "2023-07-09T04:55:35.732Z"
   },
   {
    "duration": 137,
    "start_time": "2023-07-09T04:55:35.740Z"
   },
   {
    "duration": 742,
    "start_time": "2023-07-09T04:55:35.879Z"
   },
   {
    "duration": 0,
    "start_time": "2023-07-09T04:55:36.625Z"
   },
   {
    "duration": 0,
    "start_time": "2023-07-09T04:55:36.626Z"
   },
   {
    "duration": 0,
    "start_time": "2023-07-09T04:55:36.627Z"
   },
   {
    "duration": 0,
    "start_time": "2023-07-09T04:55:36.628Z"
   },
   {
    "duration": 0,
    "start_time": "2023-07-09T04:55:36.629Z"
   },
   {
    "duration": 0,
    "start_time": "2023-07-09T04:55:36.630Z"
   },
   {
    "duration": 0,
    "start_time": "2023-07-09T04:55:36.631Z"
   },
   {
    "duration": 0,
    "start_time": "2023-07-09T04:55:36.632Z"
   },
   {
    "duration": 1,
    "start_time": "2023-07-09T04:55:36.633Z"
   },
   {
    "duration": 0,
    "start_time": "2023-07-09T04:55:36.634Z"
   },
   {
    "duration": 0,
    "start_time": "2023-07-09T04:55:36.636Z"
   },
   {
    "duration": 0,
    "start_time": "2023-07-09T04:55:36.636Z"
   },
   {
    "duration": 0,
    "start_time": "2023-07-09T04:55:36.637Z"
   },
   {
    "duration": 0,
    "start_time": "2023-07-09T04:55:36.638Z"
   },
   {
    "duration": 0,
    "start_time": "2023-07-09T04:55:36.640Z"
   },
   {
    "duration": 0,
    "start_time": "2023-07-09T04:55:36.641Z"
   },
   {
    "duration": 0,
    "start_time": "2023-07-09T04:55:36.641Z"
   },
   {
    "duration": 0,
    "start_time": "2023-07-09T04:55:36.643Z"
   },
   {
    "duration": 0,
    "start_time": "2023-07-09T04:55:36.644Z"
   },
   {
    "duration": 0,
    "start_time": "2023-07-09T04:55:36.645Z"
   },
   {
    "duration": 1,
    "start_time": "2023-07-09T04:55:36.645Z"
   },
   {
    "duration": 0,
    "start_time": "2023-07-09T04:55:36.646Z"
   },
   {
    "duration": 0,
    "start_time": "2023-07-09T04:55:36.647Z"
   },
   {
    "duration": 0,
    "start_time": "2023-07-09T04:55:36.648Z"
   },
   {
    "duration": 0,
    "start_time": "2023-07-09T04:55:36.650Z"
   },
   {
    "duration": 0,
    "start_time": "2023-07-09T04:55:36.651Z"
   },
   {
    "duration": 0,
    "start_time": "2023-07-09T04:55:36.652Z"
   },
   {
    "duration": 0,
    "start_time": "2023-07-09T04:55:36.654Z"
   },
   {
    "duration": 0,
    "start_time": "2023-07-09T04:55:36.655Z"
   },
   {
    "duration": 0,
    "start_time": "2023-07-09T04:55:36.656Z"
   },
   {
    "duration": 0,
    "start_time": "2023-07-09T04:55:36.657Z"
   },
   {
    "duration": 0,
    "start_time": "2023-07-09T04:55:36.659Z"
   },
   {
    "duration": 0,
    "start_time": "2023-07-09T04:55:36.660Z"
   },
   {
    "duration": 0,
    "start_time": "2023-07-09T04:55:36.676Z"
   },
   {
    "duration": 0,
    "start_time": "2023-07-09T04:55:36.677Z"
   },
   {
    "duration": 0,
    "start_time": "2023-07-09T04:55:36.679Z"
   },
   {
    "duration": 0,
    "start_time": "2023-07-09T04:55:36.680Z"
   },
   {
    "duration": 0,
    "start_time": "2023-07-09T04:55:36.681Z"
   },
   {
    "duration": 0,
    "start_time": "2023-07-09T04:55:36.682Z"
   },
   {
    "duration": 0,
    "start_time": "2023-07-09T04:55:36.683Z"
   },
   {
    "duration": 0,
    "start_time": "2023-07-09T04:55:36.684Z"
   },
   {
    "duration": 0,
    "start_time": "2023-07-09T04:55:36.685Z"
   },
   {
    "duration": 0,
    "start_time": "2023-07-09T04:55:36.686Z"
   },
   {
    "duration": 0,
    "start_time": "2023-07-09T04:55:36.687Z"
   },
   {
    "duration": 0,
    "start_time": "2023-07-09T04:55:36.688Z"
   },
   {
    "duration": 0,
    "start_time": "2023-07-09T04:55:36.689Z"
   },
   {
    "duration": 0,
    "start_time": "2023-07-09T04:55:36.690Z"
   },
   {
    "duration": 0,
    "start_time": "2023-07-09T04:55:36.691Z"
   },
   {
    "duration": 0,
    "start_time": "2023-07-09T04:55:36.692Z"
   },
   {
    "duration": 0,
    "start_time": "2023-07-09T04:55:36.693Z"
   },
   {
    "duration": 0,
    "start_time": "2023-07-09T04:55:36.695Z"
   },
   {
    "duration": 0,
    "start_time": "2023-07-09T04:55:36.696Z"
   },
   {
    "duration": 17,
    "start_time": "2023-07-09T04:56:18.747Z"
   },
   {
    "duration": 28,
    "start_time": "2023-07-09T04:56:49.796Z"
   },
   {
    "duration": 22,
    "start_time": "2023-07-09T04:57:14.638Z"
   },
   {
    "duration": 27,
    "start_time": "2023-07-09T04:57:41.491Z"
   },
   {
    "duration": 17,
    "start_time": "2023-07-09T04:58:43.020Z"
   },
   {
    "duration": 15,
    "start_time": "2023-07-09T05:03:28.294Z"
   },
   {
    "duration": 15,
    "start_time": "2023-07-09T05:47:10.272Z"
   },
   {
    "duration": 17,
    "start_time": "2023-07-09T05:47:13.732Z"
   },
   {
    "duration": 814,
    "start_time": "2023-07-09T05:47:29.665Z"
   },
   {
    "duration": 9,
    "start_time": "2023-07-09T05:47:30.481Z"
   },
   {
    "duration": 58,
    "start_time": "2023-07-09T05:47:30.492Z"
   },
   {
    "duration": 36,
    "start_time": "2023-07-09T05:47:30.552Z"
   },
   {
    "duration": 30,
    "start_time": "2023-07-09T05:47:30.589Z"
   },
   {
    "duration": 52,
    "start_time": "2023-07-09T05:47:30.621Z"
   },
   {
    "duration": 119,
    "start_time": "2023-07-09T05:47:30.675Z"
   },
   {
    "duration": 138,
    "start_time": "2023-07-09T05:47:30.795Z"
   },
   {
    "duration": 29,
    "start_time": "2023-07-09T05:47:30.935Z"
   },
   {
    "duration": 41,
    "start_time": "2023-07-09T05:47:30.966Z"
   },
   {
    "duration": 68,
    "start_time": "2023-07-09T05:47:31.008Z"
   },
   {
    "duration": 53,
    "start_time": "2023-07-09T05:47:31.077Z"
   },
   {
    "duration": 42,
    "start_time": "2023-07-09T05:47:31.133Z"
   },
   {
    "duration": 53,
    "start_time": "2023-07-09T05:47:31.177Z"
   },
   {
    "duration": 37,
    "start_time": "2023-07-09T05:47:31.232Z"
   },
   {
    "duration": 60,
    "start_time": "2023-07-09T05:47:31.271Z"
   },
   {
    "duration": 45,
    "start_time": "2023-07-09T05:47:31.333Z"
   },
   {
    "duration": 36,
    "start_time": "2023-07-09T05:47:31.380Z"
   },
   {
    "duration": 62,
    "start_time": "2023-07-09T05:47:31.418Z"
   },
   {
    "duration": 39,
    "start_time": "2023-07-09T05:47:31.482Z"
   },
   {
    "duration": 48,
    "start_time": "2023-07-09T05:47:31.523Z"
   },
   {
    "duration": 68,
    "start_time": "2023-07-09T05:47:31.572Z"
   },
   {
    "duration": 52,
    "start_time": "2023-07-09T05:47:31.641Z"
   },
   {
    "duration": 155,
    "start_time": "2023-07-09T05:47:31.695Z"
   },
   {
    "duration": 7,
    "start_time": "2023-07-09T05:47:31.851Z"
   },
   {
    "duration": 179,
    "start_time": "2023-07-09T05:47:31.860Z"
   },
   {
    "duration": 11,
    "start_time": "2023-07-09T05:47:32.041Z"
   },
   {
    "duration": 41,
    "start_time": "2023-07-09T05:47:32.056Z"
   },
   {
    "duration": 16,
    "start_time": "2023-07-09T05:47:32.098Z"
   },
   {
    "duration": 6545,
    "start_time": "2023-07-09T05:47:32.115Z"
   },
   {
    "duration": 15,
    "start_time": "2023-07-09T05:47:38.662Z"
   },
   {
    "duration": 129,
    "start_time": "2023-07-09T05:47:38.679Z"
   },
   {
    "duration": 14,
    "start_time": "2023-07-09T05:47:38.809Z"
   },
   {
    "duration": 5,
    "start_time": "2023-07-09T05:47:38.825Z"
   },
   {
    "duration": 8,
    "start_time": "2023-07-09T05:47:38.832Z"
   },
   {
    "duration": 34,
    "start_time": "2023-07-09T05:47:38.841Z"
   },
   {
    "duration": 5,
    "start_time": "2023-07-09T05:47:38.877Z"
   },
   {
    "duration": 37,
    "start_time": "2023-07-09T05:47:38.884Z"
   },
   {
    "duration": 27,
    "start_time": "2023-07-09T05:47:38.923Z"
   },
   {
    "duration": 160,
    "start_time": "2023-07-09T05:47:38.952Z"
   },
   {
    "duration": 239,
    "start_time": "2023-07-09T05:47:39.114Z"
   },
   {
    "duration": 13,
    "start_time": "2023-07-09T05:47:39.354Z"
   },
   {
    "duration": 7,
    "start_time": "2023-07-09T05:47:39.376Z"
   },
   {
    "duration": 166,
    "start_time": "2023-07-09T05:47:39.385Z"
   },
   {
    "duration": 29,
    "start_time": "2023-07-09T05:47:39.553Z"
   },
   {
    "duration": 164,
    "start_time": "2023-07-09T05:47:39.584Z"
   },
   {
    "duration": 166,
    "start_time": "2023-07-09T05:47:39.750Z"
   },
   {
    "duration": 37,
    "start_time": "2023-07-09T05:47:39.918Z"
   },
   {
    "duration": 50,
    "start_time": "2023-07-09T05:47:39.957Z"
   },
   {
    "duration": 5,
    "start_time": "2023-07-09T05:47:40.009Z"
   },
   {
    "duration": 47,
    "start_time": "2023-07-09T05:47:40.015Z"
   },
   {
    "duration": 16,
    "start_time": "2023-07-09T05:47:40.064Z"
   },
   {
    "duration": 22,
    "start_time": "2023-07-09T05:47:40.081Z"
   },
   {
    "duration": 4,
    "start_time": "2023-07-09T05:47:40.105Z"
   },
   {
    "duration": 7,
    "start_time": "2023-07-09T05:47:40.110Z"
   },
   {
    "duration": 9,
    "start_time": "2023-07-09T05:47:40.119Z"
   },
   {
    "duration": 11,
    "start_time": "2023-07-09T05:47:40.130Z"
   },
   {
    "duration": 31,
    "start_time": "2023-07-09T05:47:40.142Z"
   },
   {
    "duration": 161,
    "start_time": "2023-07-09T05:47:40.175Z"
   },
   {
    "duration": 11,
    "start_time": "2023-07-09T05:47:40.337Z"
   },
   {
    "duration": 153,
    "start_time": "2023-07-09T05:47:40.350Z"
   },
   {
    "duration": 5,
    "start_time": "2023-07-09T05:47:40.505Z"
   },
   {
    "duration": 6,
    "start_time": "2023-07-09T05:47:40.511Z"
   },
   {
    "duration": 13,
    "start_time": "2023-07-09T05:47:40.519Z"
   },
   {
    "duration": 170,
    "start_time": "2023-07-09T05:47:40.533Z"
   },
   {
    "duration": 8,
    "start_time": "2023-07-09T05:47:40.705Z"
   },
   {
    "duration": 23,
    "start_time": "2023-07-09T05:47:40.715Z"
   },
   {
    "duration": 161,
    "start_time": "2023-07-09T05:47:40.740Z"
   },
   {
    "duration": 100,
    "start_time": "2023-07-09T05:47:40.902Z"
   },
   {
    "duration": 110,
    "start_time": "2023-07-09T05:47:41.003Z"
   },
   {
    "duration": 16,
    "start_time": "2023-07-09T05:47:41.114Z"
   },
   {
    "duration": 258,
    "start_time": "2023-07-09T05:47:41.132Z"
   },
   {
    "duration": 5,
    "start_time": "2023-07-09T05:47:41.392Z"
   },
   {
    "duration": 17,
    "start_time": "2023-07-09T05:47:41.399Z"
   },
   {
    "duration": 12,
    "start_time": "2023-07-09T05:47:41.418Z"
   },
   {
    "duration": 12,
    "start_time": "2023-07-09T05:47:41.432Z"
   },
   {
    "duration": 34,
    "start_time": "2023-07-09T05:47:41.445Z"
   },
   {
    "duration": 225,
    "start_time": "2023-07-09T05:47:41.480Z"
   },
   {
    "duration": 13,
    "start_time": "2023-07-09T05:47:41.707Z"
   },
   {
    "duration": 178,
    "start_time": "2023-07-09T05:47:41.721Z"
   },
   {
    "duration": 19,
    "start_time": "2023-07-09T05:47:41.900Z"
   },
   {
    "duration": 187,
    "start_time": "2023-07-09T05:47:41.924Z"
   },
   {
    "duration": 8,
    "start_time": "2023-07-09T05:47:42.112Z"
   },
   {
    "duration": 13,
    "start_time": "2023-07-09T05:47:42.122Z"
   },
   {
    "duration": 11,
    "start_time": "2023-07-09T05:47:42.137Z"
   },
   {
    "duration": 74,
    "start_time": "2023-07-09T05:57:37.057Z"
   },
   {
    "duration": 61,
    "start_time": "2023-07-09T05:57:42.467Z"
   },
   {
    "duration": 770,
    "start_time": "2023-07-09T06:17:21.429Z"
   },
   {
    "duration": 11,
    "start_time": "2023-07-09T06:17:22.201Z"
   },
   {
    "duration": 49,
    "start_time": "2023-07-09T06:17:22.213Z"
   },
   {
    "duration": 65,
    "start_time": "2023-07-09T06:17:22.264Z"
   },
   {
    "duration": 24,
    "start_time": "2023-07-09T06:17:22.332Z"
   },
   {
    "duration": 51,
    "start_time": "2023-07-09T06:17:22.358Z"
   },
   {
    "duration": 34,
    "start_time": "2023-07-09T06:17:22.411Z"
   },
   {
    "duration": 29,
    "start_time": "2023-07-09T06:17:22.446Z"
   },
   {
    "duration": 116,
    "start_time": "2023-07-09T06:17:22.476Z"
   },
   {
    "duration": 105,
    "start_time": "2023-07-09T06:17:22.594Z"
   },
   {
    "duration": 30,
    "start_time": "2023-07-09T06:17:22.701Z"
   },
   {
    "duration": 69,
    "start_time": "2023-07-09T06:17:22.732Z"
   },
   {
    "duration": 27,
    "start_time": "2023-07-09T06:17:22.802Z"
   },
   {
    "duration": 21,
    "start_time": "2023-07-09T06:17:22.832Z"
   },
   {
    "duration": 35,
    "start_time": "2023-07-09T06:17:22.855Z"
   },
   {
    "duration": 26,
    "start_time": "2023-07-09T06:17:22.892Z"
   },
   {
    "duration": 60,
    "start_time": "2023-07-09T06:17:22.920Z"
   },
   {
    "duration": 33,
    "start_time": "2023-07-09T06:17:22.982Z"
   },
   {
    "duration": 16,
    "start_time": "2023-07-09T06:17:23.017Z"
   },
   {
    "duration": 39,
    "start_time": "2023-07-09T06:17:23.034Z"
   },
   {
    "duration": 41,
    "start_time": "2023-07-09T06:17:23.076Z"
   },
   {
    "duration": 31,
    "start_time": "2023-07-09T06:17:23.119Z"
   },
   {
    "duration": 31,
    "start_time": "2023-07-09T06:17:23.152Z"
   },
   {
    "duration": 164,
    "start_time": "2023-07-09T06:17:23.185Z"
   },
   {
    "duration": 9,
    "start_time": "2023-07-09T06:17:23.351Z"
   },
   {
    "duration": 164,
    "start_time": "2023-07-09T06:17:23.361Z"
   },
   {
    "duration": 11,
    "start_time": "2023-07-09T06:17:23.527Z"
   },
   {
    "duration": 38,
    "start_time": "2023-07-09T06:17:23.539Z"
   },
   {
    "duration": 19,
    "start_time": "2023-07-09T06:17:23.580Z"
   },
   {
    "duration": 6942,
    "start_time": "2023-07-09T06:17:23.601Z"
   },
   {
    "duration": 9,
    "start_time": "2023-07-09T06:17:30.545Z"
   },
   {
    "duration": 537,
    "start_time": "2023-07-09T06:17:30.555Z"
   },
   {
    "duration": 429,
    "start_time": "2023-07-09T06:17:31.094Z"
   },
   {
    "duration": 35,
    "start_time": "2023-07-09T06:17:31.525Z"
   },
   {
    "duration": 101,
    "start_time": "2023-07-09T06:17:31.561Z"
   },
   {
    "duration": 172,
    "start_time": "2023-07-09T06:17:31.664Z"
   },
   {
    "duration": 123,
    "start_time": "2023-07-09T06:17:31.838Z"
   },
   {
    "duration": 92,
    "start_time": "2023-07-09T06:17:31.963Z"
   },
   {
    "duration": 76,
    "start_time": "2023-07-09T06:17:32.057Z"
   },
   {
    "duration": 208,
    "start_time": "2023-07-09T06:17:32.134Z"
   },
   {
    "duration": 233,
    "start_time": "2023-07-09T06:17:32.347Z"
   },
   {
    "duration": 13,
    "start_time": "2023-07-09T06:17:32.582Z"
   },
   {
    "duration": 93,
    "start_time": "2023-07-09T06:17:32.596Z"
   },
   {
    "duration": 216,
    "start_time": "2023-07-09T06:17:32.691Z"
   },
   {
    "duration": 18,
    "start_time": "2023-07-09T06:17:32.908Z"
   },
   {
    "duration": 328,
    "start_time": "2023-07-09T06:17:32.928Z"
   },
   {
    "duration": 507,
    "start_time": "2023-07-09T06:17:33.258Z"
   },
   {
    "duration": 38,
    "start_time": "2023-07-09T06:17:33.767Z"
   },
   {
    "duration": 38,
    "start_time": "2023-07-09T06:17:33.807Z"
   },
   {
    "duration": 7,
    "start_time": "2023-07-09T06:17:33.846Z"
   },
   {
    "duration": 36,
    "start_time": "2023-07-09T06:17:33.854Z"
   },
   {
    "duration": 21,
    "start_time": "2023-07-09T06:17:33.891Z"
   },
   {
    "duration": 33,
    "start_time": "2023-07-09T06:17:33.913Z"
   },
   {
    "duration": 9,
    "start_time": "2023-07-09T06:17:33.948Z"
   },
   {
    "duration": 15,
    "start_time": "2023-07-09T06:17:33.958Z"
   },
   {
    "duration": 8,
    "start_time": "2023-07-09T06:17:33.976Z"
   },
   {
    "duration": 10,
    "start_time": "2023-07-09T06:17:33.986Z"
   },
   {
    "duration": 39,
    "start_time": "2023-07-09T06:17:33.997Z"
   },
   {
    "duration": 152,
    "start_time": "2023-07-09T06:17:34.038Z"
   },
   {
    "duration": 13,
    "start_time": "2023-07-09T06:17:34.191Z"
   },
   {
    "duration": 183,
    "start_time": "2023-07-09T06:17:34.205Z"
   },
   {
    "duration": 5,
    "start_time": "2023-07-09T06:17:34.390Z"
   },
   {
    "duration": 12,
    "start_time": "2023-07-09T06:17:34.396Z"
   },
   {
    "duration": 14,
    "start_time": "2023-07-09T06:17:34.410Z"
   },
   {
    "duration": 151,
    "start_time": "2023-07-09T06:17:34.426Z"
   },
   {
    "duration": 8,
    "start_time": "2023-07-09T06:17:34.579Z"
   },
   {
    "duration": 29,
    "start_time": "2023-07-09T06:17:34.589Z"
   },
   {
    "duration": 157,
    "start_time": "2023-07-09T06:17:34.620Z"
   },
   {
    "duration": 109,
    "start_time": "2023-07-09T06:17:34.779Z"
   },
   {
    "duration": 114,
    "start_time": "2023-07-09T06:17:34.890Z"
   },
   {
    "duration": 19,
    "start_time": "2023-07-09T06:17:35.007Z"
   },
   {
    "duration": 283,
    "start_time": "2023-07-09T06:17:35.028Z"
   },
   {
    "duration": 5,
    "start_time": "2023-07-09T06:17:35.313Z"
   },
   {
    "duration": 16,
    "start_time": "2023-07-09T06:17:35.320Z"
   },
   {
    "duration": 38,
    "start_time": "2023-07-09T06:17:35.337Z"
   },
   {
    "duration": 10,
    "start_time": "2023-07-09T06:17:35.377Z"
   },
   {
    "duration": 25,
    "start_time": "2023-07-09T06:17:35.389Z"
   },
   {
    "duration": 266,
    "start_time": "2023-07-09T06:17:35.415Z"
   },
   {
    "duration": 19,
    "start_time": "2023-07-09T06:17:35.683Z"
   },
   {
    "duration": 190,
    "start_time": "2023-07-09T06:17:35.703Z"
   },
   {
    "duration": 67,
    "start_time": "2023-07-09T06:17:35.895Z"
   },
   {
    "duration": 199,
    "start_time": "2023-07-09T06:17:35.964Z"
   },
   {
    "duration": 11,
    "start_time": "2023-07-09T06:17:36.165Z"
   },
   {
    "duration": 11,
    "start_time": "2023-07-09T06:17:36.178Z"
   },
   {
    "duration": 22,
    "start_time": "2023-07-09T06:17:36.191Z"
   },
   {
    "duration": 106,
    "start_time": "2023-07-09T06:17:57.146Z"
   },
   {
    "duration": 1231,
    "start_time": "2023-07-10T05:00:13.554Z"
   },
   {
    "duration": 9,
    "start_time": "2023-07-10T05:00:14.787Z"
   },
   {
    "duration": 27,
    "start_time": "2023-07-10T05:00:14.797Z"
   },
   {
    "duration": 25,
    "start_time": "2023-07-10T05:00:14.826Z"
   },
   {
    "duration": 25,
    "start_time": "2023-07-10T05:00:14.852Z"
   },
   {
    "duration": 25,
    "start_time": "2023-07-10T05:00:14.879Z"
   },
   {
    "duration": 20,
    "start_time": "2023-07-10T05:00:14.905Z"
   },
   {
    "duration": 12,
    "start_time": "2023-07-10T05:00:14.928Z"
   },
   {
    "duration": 5,
    "start_time": "2023-07-10T05:00:14.941Z"
   },
   {
    "duration": 29,
    "start_time": "2023-07-10T05:00:14.948Z"
   },
   {
    "duration": 12,
    "start_time": "2023-07-10T05:00:14.979Z"
   },
   {
    "duration": 19,
    "start_time": "2023-07-10T05:00:14.992Z"
   },
   {
    "duration": 56,
    "start_time": "2023-07-10T05:00:15.013Z"
   },
   {
    "duration": 17,
    "start_time": "2023-07-10T05:00:15.070Z"
   },
   {
    "duration": 16,
    "start_time": "2023-07-10T05:00:15.088Z"
   },
   {
    "duration": 25,
    "start_time": "2023-07-10T05:00:15.106Z"
   },
   {
    "duration": 17,
    "start_time": "2023-07-10T05:00:15.133Z"
   },
   {
    "duration": 8,
    "start_time": "2023-07-10T05:00:15.151Z"
   },
   {
    "duration": 8,
    "start_time": "2023-07-10T05:00:15.161Z"
   },
   {
    "duration": 7,
    "start_time": "2023-07-10T05:00:15.170Z"
   },
   {
    "duration": 9,
    "start_time": "2023-07-10T05:00:15.179Z"
   },
   {
    "duration": 9,
    "start_time": "2023-07-10T05:00:15.190Z"
   },
   {
    "duration": 12,
    "start_time": "2023-07-10T05:00:15.200Z"
   },
   {
    "duration": 137,
    "start_time": "2023-07-10T05:00:15.214Z"
   },
   {
    "duration": 7,
    "start_time": "2023-07-10T05:00:15.352Z"
   },
   {
    "duration": 145,
    "start_time": "2023-07-10T05:00:15.360Z"
   },
   {
    "duration": 7,
    "start_time": "2023-07-10T05:00:15.506Z"
   },
   {
    "duration": 23,
    "start_time": "2023-07-10T05:00:15.516Z"
   },
   {
    "duration": 20,
    "start_time": "2023-07-10T05:00:15.540Z"
   },
   {
    "duration": 6463,
    "start_time": "2023-07-10T05:00:15.561Z"
   },
   {
    "duration": 7,
    "start_time": "2023-07-10T05:00:22.026Z"
   },
   {
    "duration": 134,
    "start_time": "2023-07-10T05:00:22.035Z"
   },
   {
    "duration": 13,
    "start_time": "2023-07-10T05:00:22.175Z"
   },
   {
    "duration": 9,
    "start_time": "2023-07-10T05:00:22.189Z"
   },
   {
    "duration": 15,
    "start_time": "2023-07-10T05:00:22.199Z"
   },
   {
    "duration": 14,
    "start_time": "2023-07-10T05:00:22.215Z"
   },
   {
    "duration": 8,
    "start_time": "2023-07-10T05:00:22.231Z"
   },
   {
    "duration": 29,
    "start_time": "2023-07-10T05:00:22.240Z"
   },
   {
    "duration": 46,
    "start_time": "2023-07-10T05:00:22.271Z"
   },
   {
    "duration": 158,
    "start_time": "2023-07-10T05:00:22.319Z"
   },
   {
    "duration": 235,
    "start_time": "2023-07-10T05:00:22.479Z"
   },
   {
    "duration": 13,
    "start_time": "2023-07-10T05:00:22.716Z"
   },
   {
    "duration": 21,
    "start_time": "2023-07-10T05:00:22.730Z"
   },
   {
    "duration": 175,
    "start_time": "2023-07-10T05:00:22.752Z"
   },
   {
    "duration": 17,
    "start_time": "2023-07-10T05:00:22.928Z"
   },
   {
    "duration": 179,
    "start_time": "2023-07-10T05:00:22.946Z"
   },
   {
    "duration": 185,
    "start_time": "2023-07-10T05:00:23.127Z"
   },
   {
    "duration": 62,
    "start_time": "2023-07-10T05:00:23.314Z"
   },
   {
    "duration": 47,
    "start_time": "2023-07-10T05:00:23.378Z"
   },
   {
    "duration": 6,
    "start_time": "2023-07-10T05:00:23.427Z"
   },
   {
    "duration": 30,
    "start_time": "2023-07-10T05:00:23.434Z"
   },
   {
    "duration": 36,
    "start_time": "2023-07-10T05:00:23.465Z"
   },
   {
    "duration": 39,
    "start_time": "2023-07-10T05:00:23.502Z"
   },
   {
    "duration": 22,
    "start_time": "2023-07-10T05:00:23.543Z"
   },
   {
    "duration": 13,
    "start_time": "2023-07-10T05:00:23.566Z"
   },
   {
    "duration": 14,
    "start_time": "2023-07-10T05:00:23.581Z"
   },
   {
    "duration": 16,
    "start_time": "2023-07-10T05:00:23.597Z"
   },
   {
    "duration": 33,
    "start_time": "2023-07-10T05:00:23.615Z"
   },
   {
    "duration": 153,
    "start_time": "2023-07-10T05:00:23.649Z"
   },
   {
    "duration": 12,
    "start_time": "2023-07-10T05:00:23.804Z"
   },
   {
    "duration": 172,
    "start_time": "2023-07-10T05:00:23.817Z"
   },
   {
    "duration": 5,
    "start_time": "2023-07-10T05:00:23.991Z"
   },
   {
    "duration": 19,
    "start_time": "2023-07-10T05:00:23.997Z"
   },
   {
    "duration": 18,
    "start_time": "2023-07-10T05:00:24.017Z"
   },
   {
    "duration": 164,
    "start_time": "2023-07-10T05:00:24.036Z"
   },
   {
    "duration": 8,
    "start_time": "2023-07-10T05:00:24.201Z"
   },
   {
    "duration": 52,
    "start_time": "2023-07-10T05:00:24.210Z"
   },
   {
    "duration": 149,
    "start_time": "2023-07-10T05:00:24.263Z"
   },
   {
    "duration": 93,
    "start_time": "2023-07-10T05:00:24.413Z"
   },
   {
    "duration": 104,
    "start_time": "2023-07-10T05:00:24.507Z"
   },
   {
    "duration": 13,
    "start_time": "2023-07-10T05:00:24.612Z"
   },
   {
    "duration": 242,
    "start_time": "2023-07-10T05:00:24.626Z"
   },
   {
    "duration": 6,
    "start_time": "2023-07-10T05:00:24.870Z"
   },
   {
    "duration": 20,
    "start_time": "2023-07-10T05:00:24.878Z"
   },
   {
    "duration": 15,
    "start_time": "2023-07-10T05:00:24.899Z"
   },
   {
    "duration": 6,
    "start_time": "2023-07-10T05:00:24.915Z"
   },
   {
    "duration": 16,
    "start_time": "2023-07-10T05:00:24.922Z"
   },
   {
    "duration": 204,
    "start_time": "2023-07-10T05:00:24.940Z"
   },
   {
    "duration": 12,
    "start_time": "2023-07-10T05:00:25.146Z"
   },
   {
    "duration": 161,
    "start_time": "2023-07-10T05:00:25.160Z"
   },
   {
    "duration": 19,
    "start_time": "2023-07-10T05:00:25.323Z"
   },
   {
    "duration": 167,
    "start_time": "2023-07-10T05:00:25.348Z"
   },
   {
    "duration": 8,
    "start_time": "2023-07-10T05:00:25.516Z"
   },
   {
    "duration": 14,
    "start_time": "2023-07-10T05:00:25.526Z"
   },
   {
    "duration": 14,
    "start_time": "2023-07-10T05:00:25.541Z"
   },
   {
    "duration": 6,
    "start_time": "2023-07-10T05:00:49.065Z"
   },
   {
    "duration": 26,
    "start_time": "2023-07-10T05:00:55.865Z"
   },
   {
    "duration": 41,
    "start_time": "2023-07-10T05:02:28.944Z"
   },
   {
    "duration": 32,
    "start_time": "2023-07-10T05:02:53.839Z"
   },
   {
    "duration": 34,
    "start_time": "2023-07-10T05:03:11.768Z"
   },
   {
    "duration": 27,
    "start_time": "2023-07-10T05:03:24.761Z"
   },
   {
    "duration": 30,
    "start_time": "2023-07-10T05:03:33.355Z"
   },
   {
    "duration": 28,
    "start_time": "2023-07-10T05:03:44.866Z"
   },
   {
    "duration": 27,
    "start_time": "2023-07-10T05:04:16.538Z"
   },
   {
    "duration": 17,
    "start_time": "2023-07-10T05:04:31.334Z"
   },
   {
    "duration": 9,
    "start_time": "2023-07-10T05:16:10.992Z"
   },
   {
    "duration": 13,
    "start_time": "2023-07-10T05:16:22.666Z"
   },
   {
    "duration": 109,
    "start_time": "2023-07-10T05:17:16.155Z"
   },
   {
    "duration": 15,
    "start_time": "2023-07-10T05:18:19.972Z"
   },
   {
    "duration": 13,
    "start_time": "2023-07-10T05:19:04.853Z"
   },
   {
    "duration": 5,
    "start_time": "2023-07-10T05:19:14.288Z"
   },
   {
    "duration": 14,
    "start_time": "2023-07-10T05:19:26.947Z"
   },
   {
    "duration": 13,
    "start_time": "2023-07-10T05:19:30.618Z"
   },
   {
    "duration": 12,
    "start_time": "2023-07-10T05:19:33.240Z"
   },
   {
    "duration": 13,
    "start_time": "2023-07-10T05:19:37.326Z"
   },
   {
    "duration": 12,
    "start_time": "2023-07-10T05:19:56.762Z"
   },
   {
    "duration": 9,
    "start_time": "2023-07-10T05:20:04.739Z"
   },
   {
    "duration": 2,
    "start_time": "2023-07-10T05:21:05.893Z"
   },
   {
    "duration": 8,
    "start_time": "2023-07-10T05:21:09.496Z"
   }
  ],
  "colab": {
   "name": "DA+. Сборный проект 1. Шаблон (1).ipynb",
   "provenance": []
  },
  "kernelspec": {
   "display_name": "Python 3 (ipykernel)",
   "language": "python",
   "name": "python3"
  },
  "language_info": {
   "codemirror_mode": {
    "name": "ipython",
    "version": 3
   },
   "file_extension": ".py",
   "mimetype": "text/x-python",
   "name": "python",
   "nbconvert_exporter": "python",
   "pygments_lexer": "ipython3",
   "version": "3.10.9"
  },
  "toc": {
   "base_numbering": 1,
   "nav_menu": {},
   "number_sections": true,
   "sideBar": true,
   "skip_h1_title": true,
   "title_cell": "Table of Contents",
   "title_sidebar": "Contents",
   "toc_cell": false,
   "toc_position": {
    "height": "calc(100% - 180px)",
    "left": "10px",
    "top": "150px",
    "width": "375.391px"
   },
   "toc_section_display": true,
   "toc_window_display": false
  }
 },
 "nbformat": 4,
 "nbformat_minor": 1
}
